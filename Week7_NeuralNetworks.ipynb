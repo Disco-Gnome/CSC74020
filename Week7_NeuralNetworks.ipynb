{
 "cells": [
  {
   "cell_type": "markdown",
   "metadata": {
    "id": "g7eyLZ4EuoFw",
    "pycharm": {
     "name": "#%% md\n"
    }
   },
   "source": [
    "# CSC 74020 Machine Learning\n",
    "# Week 7\n",
    "\n",
    "# Image Classifier with Neural Network\n",
    "\n",
    "Adapted from [TensorFlow tutorial](https://www.tensorflow.org/tutorials/quickstart/beginner)\n",
    "\n",
    "0. Represent imagae data as numbers for use in a neural network -> pixels\n",
    "1. Build a neural network that classifies images.\n",
    "2. Train this neural network.\n",
    "3. Evaluate the accuracy of the model.\n",
    "\n",
    "**Big thank you to Professor Liang Zhao for much of the material in this workbook**\n",
    "\n",
    "<img src=\"https://upload.wikimedia.org/wikipedia/commons/2/27/MnistExamples.png\" width=\"600\">"
   ]
  },
  {
   "cell_type": "code",
   "metadata": {
    "colab": {
     "base_uri": "https://localhost:8080/"
    },
    "executionInfo": {
     "elapsed": 11655,
     "status": "ok",
     "timestamp": 1710980211360,
     "user": {
      "displayName": "Joe Burdis",
      "userId": "05388749857082436046"
     },
     "user_tz": 240
    },
    "id": "WzhHl8lbutBm",
    "outputId": "26135592-ccb0-4059-ef69-08975a24beaf",
    "pycharm": {
     "name": "#%%\n",
     "is_executing": true
    },
    "ExecuteTime": {
     "end_time": "2024-04-11T21:52:17.622687Z",
     "start_time": "2024-04-11T21:52:10.055918Z"
    }
   },
   "source": [
    "# import tensorflow\n",
    "import numpy as np\n",
    "import matplotlib.pyplot as plt\n",
    "import tensorflow as tf\n",
    "print(tf.__version__)\n",
    "\n",
    "# Make numpy values easier to read.\n",
    "np.set_printoptions(precision=3, suppress=True)"
   ],
   "outputs": [
    {
     "name": "stdout",
     "output_type": "stream",
     "text": [
      "2.13.0\n"
     ]
    }
   ],
   "execution_count": 1
  },
  {
   "cell_type": "code",
   "metadata": {
    "colab": {
     "base_uri": "https://localhost:8080/"
    },
    "executionInfo": {
     "elapsed": 3424,
     "status": "ok",
     "timestamp": 1710980214780,
     "user": {
      "displayName": "Joe Burdis",
      "userId": "05388749857082436046"
     },
     "user_tz": 240
    },
    "id": "fio0ZFRhutEE",
    "outputId": "0bfc6beb-3b80-486d-ec07-9ef2e7df76a2",
    "pycharm": {
     "name": "#%%\n"
    },
    "ExecuteTime": {
     "end_time": "2024-04-11T21:52:49.514420Z",
     "start_time": "2024-04-11T21:52:47.646415Z"
    }
   },
   "source": [
    "# Load and prepare the MNIST dataset.\n",
    "mnist = tf.keras.datasets.mnist\n",
    "(x_train, y_train), (x_test, y_test) = mnist.load_data()\n",
    "\n",
    "# Convert the data from integers to floating-point numbers\n",
    "x_train, x_test = x_train / 255.0, x_test / 255.0\n",
    "\n",
    "print(x_train.shape, x_test.shape)"
   ],
   "outputs": [
    {
     "name": "stdout",
     "output_type": "stream",
     "text": [
      "Downloading data from https://storage.googleapis.com/tensorflow/tf-keras-datasets/mnist.npz\n",
      "11490434/11490434 [==============================] - 0s 0us/step\n",
      "(60000, 28, 28) (10000, 28, 28)\n"
     ]
    }
   ],
   "execution_count": 2
  },
  {
   "cell_type": "code",
   "source": [
    "type(x_train)"
   ],
   "metadata": {
    "collapsed": false,
    "pycharm": {
     "name": "#%%\n"
    },
    "ExecuteTime": {
     "end_time": "2024-04-11T21:52:50.586554Z",
     "start_time": "2024-04-11T21:52:50.574585Z"
    }
   },
   "outputs": [
    {
     "data": {
      "text/plain": [
       "numpy.ndarray"
      ]
     },
     "execution_count": 3,
     "metadata": {},
     "output_type": "execute_result"
    }
   ],
   "execution_count": 3
  },
  {
   "cell_type": "code",
   "metadata": {
    "colab": {
     "base_uri": "https://localhost:8080/"
    },
    "executionInfo": {
     "elapsed": 173,
     "status": "ok",
     "timestamp": 1710980214948,
     "user": {
      "displayName": "Joe Burdis",
      "userId": "05388749857082436046"
     },
     "user_tz": 240
    },
    "id": "zmoDBP2eSltN",
    "outputId": "0c1c4dc0-0370-4f35-8519-f8681df88247",
    "pycharm": {
     "name": "#%%\n"
    },
    "ExecuteTime": {
     "end_time": "2024-04-11T21:52:52.302965Z",
     "start_time": "2024-04-11T21:52:52.296981Z"
    }
   },
   "source": [
    "(28*28+1)*128+(128+1)*10"
   ],
   "outputs": [
    {
     "data": {
      "text/plain": [
       "101770"
      ]
     },
     "execution_count": 4,
     "metadata": {},
     "output_type": "execute_result"
    }
   ],
   "execution_count": 4
  },
  {
   "cell_type": "code",
   "metadata": {
    "executionInfo": {
     "elapsed": 256,
     "status": "ok",
     "timestamp": 1710980228741,
     "user": {
      "displayName": "Joe Burdis",
      "userId": "05388749857082436046"
     },
     "user_tz": 240
    },
    "id": "lC_ZRq_PutGk",
    "pycharm": {
     "name": "#%%\n"
    },
    "ExecuteTime": {
     "end_time": "2024-04-11T21:52:55.266041Z",
     "start_time": "2024-04-11T21:52:55.221162Z"
    }
   },
   "source": [
    "# Build a neural network model by stacking layers.\n",
    "model = tf.keras.models.Sequential([\n",
    "    tf.keras.layers.Flatten(input_shape=(28, 28)),\n",
    "    tf.keras.layers.Dense(128, activation='relu'),\n",
    "    # tf.keras.layers.Dropout(0.2),\n",
    "    tf.keras.layers.Dense(10)\n",
    "])"
   ],
   "outputs": [],
   "execution_count": 6
  },
  {
   "cell_type": "code",
   "metadata": {
    "colab": {
     "base_uri": "https://localhost:8080/"
    },
    "executionInfo": {
     "elapsed": 124,
     "status": "ok",
     "timestamp": 1710980496037,
     "user": {
      "displayName": "Joe Burdis",
      "userId": "05388749857082436046"
     },
     "user_tz": 240
    },
    "id": "SGzF9IAwS9ur",
    "outputId": "a9c0ca65-dec2-4344-c392-697cb353af8d",
    "pycharm": {
     "name": "#%%\n"
    },
    "ExecuteTime": {
     "end_time": "2024-04-11T21:52:55.685919Z",
     "start_time": "2024-04-11T21:52:55.665972Z"
    }
   },
   "source": [
    "#number of parameters\n",
    "model.summary()"
   ],
   "outputs": [
    {
     "name": "stdout",
     "output_type": "stream",
     "text": [
      "Model: \"sequential_1\"\n",
      "_________________________________________________________________\n",
      " Layer (type)                Output Shape              Param #   \n",
      "=================================================================\n",
      " flatten_1 (Flatten)         (None, 784)               0         \n",
      "                                                                 \n",
      " dense_2 (Dense)             (None, 128)               100480    \n",
      "                                                                 \n",
      " dense_3 (Dense)             (None, 10)                1290      \n",
      "                                                                 \n",
      "=================================================================\n",
      "Total params: 101770 (397.54 KB)\n",
      "Trainable params: 101770 (397.54 KB)\n",
      "Non-trainable params: 0 (0.00 Byte)\n",
      "_________________________________________________________________\n"
     ]
    }
   ],
   "execution_count": 7
  },
  {
   "cell_type": "code",
   "metadata": {
    "colab": {
     "base_uri": "https://localhost:8080/"
    },
    "executionInfo": {
     "elapsed": 150,
     "status": "ok",
     "timestamp": 1710980627585,
     "user": {
      "displayName": "Joe Burdis",
      "userId": "05388749857082436046"
     },
     "user_tz": 240
    },
    "id": "lcpbUvlfutI6",
    "outputId": "6056f736-9d2d-4bc2-9f3f-1dfe438717db",
    "pycharm": {
     "name": "#%%\n"
    },
    "ExecuteTime": {
     "end_time": "2024-04-11T21:52:56.915631Z",
     "start_time": "2024-04-11T21:52:56.888703Z"
    }
   },
   "source": [
    "# For each example the model returns a vector of \"logits\", one for each class.\n",
    "index = 1234\n",
    "predictions = model(x_train[index:(index+1)]).numpy()\n",
    "print(predictions)"
   ],
   "outputs": [
    {
     "name": "stdout",
     "output_type": "stream",
     "text": [
      "[[-0.615  1.146 -0.167 -0.348 -0.532  0.312 -0.292 -0.284  0.671  0.01 ]]\n"
     ]
    }
   ],
   "execution_count": 8
  },
  {
   "cell_type": "code",
   "metadata": {
    "colab": {
     "base_uri": "https://localhost:8080/"
    },
    "executionInfo": {
     "elapsed": 133,
     "status": "ok",
     "timestamp": 1710980652124,
     "user": {
      "displayName": "Joe Burdis",
      "userId": "05388749857082436046"
     },
     "user_tz": 240
    },
    "id": "TxZywVD7utLR",
    "outputId": "23f0bf46-025b-4258-967d-44e63e6eb509",
    "pycharm": {
     "name": "#%%\n"
    },
    "ExecuteTime": {
     "end_time": "2024-04-11T21:52:58.214161Z",
     "start_time": "2024-04-11T21:52:58.205184Z"
    }
   },
   "source": [
    "# The tf.nn.softmax function converts these logits to probabilities for each class\n",
    "probs = tf.nn.softmax(predictions).numpy()\n",
    "print(probs)"
   ],
   "outputs": [
    {
     "name": "stdout",
     "output_type": "stream",
     "text": [
      "[[0.046 0.27  0.073 0.061 0.05  0.117 0.064 0.065 0.168 0.087]]\n"
     ]
    }
   ],
   "execution_count": 9
  },
  {
   "cell_type": "code",
   "metadata": {
    "colab": {
     "base_uri": "https://localhost:8080/"
    },
    "executionInfo": {
     "elapsed": 115,
     "status": "ok",
     "timestamp": 1710980658386,
     "user": {
      "displayName": "Joe Burdis",
      "userId": "05388749857082436046"
     },
     "user_tz": 240
    },
    "id": "oY15u_PbutNy",
    "outputId": "02b04e0b-4ef6-4355-cc34-b34d2ea90940",
    "pycharm": {
     "name": "#%%\n"
    },
    "ExecuteTime": {
     "end_time": "2024-04-11T21:52:58.644013Z",
     "start_time": "2024-04-11T21:52:58.638026Z"
    }
   },
   "source": [
    "# The model makes prediction based on the largest probability\n",
    "class_prediction = np.argmax(probs)\n",
    "print(class_prediction)"
   ],
   "outputs": [
    {
     "name": "stdout",
     "output_type": "stream",
     "text": [
      "1\n"
     ]
    }
   ],
   "execution_count": 10
  },
  {
   "cell_type": "code",
   "metadata": {
    "colab": {
     "base_uri": "https://localhost:8080/",
     "height": 448
    },
    "executionInfo": {
     "elapsed": 378,
     "status": "ok",
     "timestamp": 1710980672016,
     "user": {
      "displayName": "Joe Burdis",
      "userId": "05388749857082436046"
     },
     "user_tz": 240
    },
    "id": "ReL81b_nutQO",
    "outputId": "fc1f165c-73aa-4fb9-cde7-aa15b554dbdc",
    "pycharm": {
     "name": "#%%\n"
    },
    "ExecuteTime": {
     "end_time": "2024-04-11T21:53:00.451178Z",
     "start_time": "2024-04-11T21:52:59.275323Z"
    }
   },
   "source": [
    "# Visualize this image\n",
    "plt.imshow(x_train[index].reshape([28, 28]), cmap=plt.cm.binary)"
   ],
   "outputs": [
    {
     "data": {
      "text/plain": [
       "<matplotlib.image.AxesImage at 0x1e0a6013160>"
      ]
     },
     "execution_count": 11,
     "metadata": {},
     "output_type": "execute_result"
    },
    {
     "data": {
      "text/plain": [
       "<Figure size 640x480 with 1 Axes>"
      ],
      "image/png": "[encoded data removed]"
     },
     "metadata": {},
     "output_type": "display_data"
    }
   ],
   "execution_count": 11
  },
  {
   "cell_type": "code",
   "metadata": {
    "colab": {
     "base_uri": "https://localhost:8080/"
    },
    "executionInfo": {
     "elapsed": 129,
     "status": "ok",
     "timestamp": 1710980689829,
     "user": {
      "displayName": "Joe Burdis",
      "userId": "05388749857082436046"
     },
     "user_tz": 240
    },
    "id": "BQnNrW-TutSs",
    "outputId": "bf0e772d-0294-4975-b20a-5e88dc5597cf",
    "pycharm": {
     "name": "#%%\n"
    },
    "ExecuteTime": {
     "end_time": "2024-04-11T21:53:00.484090Z",
     "start_time": "2024-04-11T21:53:00.455168Z"
    }
   },
   "source": [
    "# The prediction accuracy is low, since no training has been performed yet.\n",
    "# Let's introduce a function that measures the prediction error.\n",
    "loss_fn = tf.keras.losses.SparseCategoricalCrossentropy(from_logits=True)\n",
    "\n",
    "loss_fn(y_train[index:(index+1)], predictions).numpy()"
   ],
   "outputs": [
    {
     "data": {
      "text/plain": [
       "2.8035803"
      ]
     },
     "execution_count": 12,
     "metadata": {},
     "output_type": "execute_result"
    }
   ],
   "execution_count": 12
  },
  {
   "cell_type": "code",
   "metadata": {
    "executionInfo": {
     "elapsed": 119,
     "status": "ok",
     "timestamp": 1710980772070,
     "user": {
      "displayName": "Joe Burdis",
      "userId": "05388749857082436046"
     },
     "user_tz": 240
    },
    "id": "yIriIfKfutVW",
    "pycharm": {
     "name": "#%%\n"
    },
    "ExecuteTime": {
     "end_time": "2024-04-11T21:53:00.508026Z",
     "start_time": "2024-04-11T21:53:00.486085Z"
    }
   },
   "source": [
    "# Set up the training environment\n",
    "model.compile(optimizer='adam',\n",
    "              loss=loss_fn,\n",
    "              metrics=['accuracy'])"
   ],
   "outputs": [],
   "execution_count": 13
  },
  {
   "cell_type": "code",
   "metadata": {
    "colab": {
     "base_uri": "https://localhost:8080/",
     "height": 1000
    },
    "executionInfo": {
     "elapsed": 291317,
     "status": "error",
     "timestamp": 1710981099416,
     "user": {
      "displayName": "Joe Burdis",
      "userId": "05388749857082436046"
     },
     "user_tz": 240
    },
    "id": "shxu7z2zutX_",
    "outputId": "f095c72e-ca48-4431-cdc7-706ba1d7c6f2",
    "pycharm": {
     "name": "#%%\n"
    },
    "ExecuteTime": {
     "end_time": "2024-04-11T21:58:33.904635Z",
     "start_time": "2024-04-11T21:53:00.511019Z"
    }
   },
   "source": [
    "# The Model.fit method adjusts the model parameters to minimize the loss\n",
    "model.fit(x_train, y_train,validation_data=(x_test,y_test), epochs=100)"
   ],
   "outputs": [
    {
     "name": "stdout",
     "output_type": "stream",
     "text": [
      "Epoch 1/100\n",
      "1875/1875 [==============================] - 10s 5ms/step - loss: 0.2588 - accuracy: 0.9268 - val_loss: 0.1446 - val_accuracy: 0.9569\n",
      "Epoch 2/100\n",
      "1875/1875 [==============================] - 8s 4ms/step - loss: 0.1134 - accuracy: 0.9661 - val_loss: 0.1018 - val_accuracy: 0.9699\n",
      "Epoch 3/100\n",
      "1875/1875 [==============================] - 8s 4ms/step - loss: 0.0774 - accuracy: 0.9765 - val_loss: 0.0786 - val_accuracy: 0.9753\n",
      "Epoch 4/100\n",
      "1875/1875 [==============================] - 7s 4ms/step - loss: 0.0580 - accuracy: 0.9822 - val_loss: 0.0821 - val_accuracy: 0.9757\n",
      "Epoch 5/100\n",
      "1875/1875 [==============================] - 8s 4ms/step - loss: 0.0456 - accuracy: 0.9853 - val_loss: 0.0721 - val_accuracy: 0.9785\n",
      "Epoch 6/100\n",
      "1875/1875 [==============================] - 6s 3ms/step - loss: 0.0351 - accuracy: 0.9891 - val_loss: 0.0759 - val_accuracy: 0.9774\n",
      "Epoch 7/100\n",
      "1875/1875 [==============================] - 3s 2ms/step - loss: 0.0292 - accuracy: 0.9911 - val_loss: 0.0788 - val_accuracy: 0.9761\n",
      "Epoch 8/100\n",
      "1875/1875 [==============================] - 3s 2ms/step - loss: 0.0234 - accuracy: 0.9922 - val_loss: 0.0753 - val_accuracy: 0.9776\n",
      "Epoch 9/100\n",
      "1875/1875 [==============================] - 3s 2ms/step - loss: 0.0180 - accuracy: 0.9944 - val_loss: 0.0815 - val_accuracy: 0.9771\n",
      "Epoch 10/100\n",
      "1875/1875 [==============================] - 3s 2ms/step - loss: 0.0151 - accuracy: 0.9953 - val_loss: 0.0873 - val_accuracy: 0.9775\n",
      "Epoch 11/100\n",
      "1875/1875 [==============================] - 3s 2ms/step - loss: 0.0142 - accuracy: 0.9956 - val_loss: 0.0853 - val_accuracy: 0.9783\n",
      "Epoch 12/100\n",
      "1875/1875 [==============================] - 3s 2ms/step - loss: 0.0108 - accuracy: 0.9965 - val_loss: 0.0815 - val_accuracy: 0.9789\n",
      "Epoch 13/100\n",
      "1875/1875 [==============================] - 3s 2ms/step - loss: 0.0095 - accuracy: 0.9970 - val_loss: 0.0851 - val_accuracy: 0.9784\n",
      "Epoch 14/100\n",
      "1875/1875 [==============================] - 3s 2ms/step - loss: 0.0088 - accuracy: 0.9973 - val_loss: 0.1049 - val_accuracy: 0.9737\n",
      "Epoch 15/100\n",
      "1875/1875 [==============================] - 3s 2ms/step - loss: 0.0087 - accuracy: 0.9972 - val_loss: 0.0934 - val_accuracy: 0.9771\n",
      "Epoch 16/100\n",
      "1875/1875 [==============================] - 3s 2ms/step - loss: 0.0068 - accuracy: 0.9980 - val_loss: 0.0960 - val_accuracy: 0.9775\n",
      "Epoch 17/100\n",
      "1875/1875 [==============================] - 3s 2ms/step - loss: 0.0078 - accuracy: 0.9973 - val_loss: 0.1041 - val_accuracy: 0.9780\n",
      "Epoch 18/100\n",
      "1875/1875 [==============================] - 3s 2ms/step - loss: 0.0045 - accuracy: 0.9988 - val_loss: 0.1154 - val_accuracy: 0.9765\n",
      "Epoch 19/100\n",
      "1875/1875 [==============================] - 3s 2ms/step - loss: 0.0063 - accuracy: 0.9981 - val_loss: 0.1058 - val_accuracy: 0.9771\n",
      "Epoch 20/100\n",
      "1875/1875 [==============================] - 3s 2ms/step - loss: 0.0054 - accuracy: 0.9985 - val_loss: 0.1079 - val_accuracy: 0.9780\n",
      "Epoch 21/100\n",
      "1875/1875 [==============================] - 3s 2ms/step - loss: 0.0063 - accuracy: 0.9977 - val_loss: 0.1099 - val_accuracy: 0.9772\n",
      "Epoch 22/100\n",
      "1875/1875 [==============================] - 3s 2ms/step - loss: 0.0042 - accuracy: 0.9986 - val_loss: 0.1043 - val_accuracy: 0.9781\n",
      "Epoch 23/100\n",
      "1875/1875 [==============================] - 3s 2ms/step - loss: 0.0063 - accuracy: 0.9978 - val_loss: 0.1071 - val_accuracy: 0.9797\n",
      "Epoch 24/100\n",
      "1875/1875 [==============================] - 3s 2ms/step - loss: 0.0034 - accuracy: 0.9988 - val_loss: 0.1088 - val_accuracy: 0.9801\n",
      "Epoch 25/100\n",
      "1875/1875 [==============================] - 3s 2ms/step - loss: 0.0048 - accuracy: 0.9984 - val_loss: 0.1308 - val_accuracy: 0.9775\n",
      "Epoch 26/100\n",
      "1875/1875 [==============================] - 3s 2ms/step - loss: 0.0028 - accuracy: 0.9992 - val_loss: 0.1460 - val_accuracy: 0.9757\n",
      "Epoch 27/100\n",
      "1875/1875 [==============================] - 3s 2ms/step - loss: 0.0043 - accuracy: 0.9986 - val_loss: 0.1208 - val_accuracy: 0.9810\n",
      "Epoch 28/100\n",
      "1875/1875 [==============================] - 3s 2ms/step - loss: 0.0054 - accuracy: 0.9981 - val_loss: 0.1237 - val_accuracy: 0.9785\n",
      "Epoch 29/100\n",
      "1875/1875 [==============================] - 3s 2ms/step - loss: 0.0038 - accuracy: 0.9986 - val_loss: 0.1278 - val_accuracy: 0.9780\n",
      "Epoch 30/100\n",
      "1875/1875 [==============================] - 3s 1ms/step - loss: 0.0041 - accuracy: 0.9987 - val_loss: 0.1297 - val_accuracy: 0.9796\n",
      "Epoch 31/100\n",
      "1875/1875 [==============================] - 3s 2ms/step - loss: 0.0037 - accuracy: 0.9987 - val_loss: 0.1204 - val_accuracy: 0.9792\n",
      "Epoch 32/100\n",
      "1875/1875 [==============================] - 3s 2ms/step - loss: 0.0035 - accuracy: 0.9987 - val_loss: 0.1284 - val_accuracy: 0.9788\n",
      "Epoch 33/100\n",
      "1875/1875 [==============================] - 3s 2ms/step - loss: 0.0046 - accuracy: 0.9986 - val_loss: 0.1543 - val_accuracy: 0.9781\n",
      "Epoch 34/100\n",
      "1875/1875 [==============================] - 3s 2ms/step - loss: 0.0053 - accuracy: 0.9985 - val_loss: 0.1314 - val_accuracy: 0.9784\n",
      "Epoch 35/100\n",
      "1875/1875 [==============================] - 3s 1ms/step - loss: 5.6696e-04 - accuracy: 0.9999 - val_loss: 0.1281 - val_accuracy: 0.9803\n",
      "Epoch 36/100\n",
      "1875/1875 [==============================] - 3s 1ms/step - loss: 0.0052 - accuracy: 0.9981 - val_loss: 0.1366 - val_accuracy: 0.9784\n",
      "Epoch 37/100\n",
      "1875/1875 [==============================] - 3s 1ms/step - loss: 0.0032 - accuracy: 0.9991 - val_loss: 0.1389 - val_accuracy: 0.9785\n",
      "Epoch 38/100\n",
      "1875/1875 [==============================] - 3s 2ms/step - loss: 0.0040 - accuracy: 0.9987 - val_loss: 0.1515 - val_accuracy: 0.9772\n",
      "Epoch 39/100\n",
      "1875/1875 [==============================] - 7s 4ms/step - loss: 0.0035 - accuracy: 0.9990 - val_loss: 0.1533 - val_accuracy: 0.9782\n",
      "Epoch 40/100\n",
      "1875/1875 [==============================] - 6s 3ms/step - loss: 0.0035 - accuracy: 0.9991 - val_loss: 0.1429 - val_accuracy: 0.9790\n",
      "Epoch 41/100\n",
      "1875/1875 [==============================] - 6s 3ms/step - loss: 0.0030 - accuracy: 0.9991 - val_loss: 0.1351 - val_accuracy: 0.9813\n",
      "Epoch 42/100\n",
      "1875/1875 [==============================] - 5s 3ms/step - loss: 0.0029 - accuracy: 0.9990 - val_loss: 0.1559 - val_accuracy: 0.9791\n",
      "Epoch 43/100\n",
      "1875/1875 [==============================] - 3s 2ms/step - loss: 0.0036 - accuracy: 0.9988 - val_loss: 0.1401 - val_accuracy: 0.9808\n",
      "Epoch 44/100\n",
      "1875/1875 [==============================] - 3s 2ms/step - loss: 0.0027 - accuracy: 0.9993 - val_loss: 0.1513 - val_accuracy: 0.9784\n",
      "Epoch 45/100\n",
      "1875/1875 [==============================] - 3s 2ms/step - loss: 0.0020 - accuracy: 0.9994 - val_loss: 0.1647 - val_accuracy: 0.9776\n",
      "Epoch 46/100\n",
      "1875/1875 [==============================] - 3s 2ms/step - loss: 0.0026 - accuracy: 0.9990 - val_loss: 0.1552 - val_accuracy: 0.9785\n",
      "Epoch 47/100\n",
      "1875/1875 [==============================] - 3s 2ms/step - loss: 0.0041 - accuracy: 0.9986 - val_loss: 0.1510 - val_accuracy: 0.9801\n",
      "Epoch 48/100\n",
      "1875/1875 [==============================] - 3s 2ms/step - loss: 0.0018 - accuracy: 0.9994 - val_loss: 0.1678 - val_accuracy: 0.9781\n",
      "Epoch 49/100\n",
      "1875/1875 [==============================] - 3s 1ms/step - loss: 0.0034 - accuracy: 0.9988 - val_loss: 0.1460 - val_accuracy: 0.9793\n",
      "Epoch 50/100\n",
      "1875/1875 [==============================] - 3s 1ms/step - loss: 0.0011 - accuracy: 0.9995 - val_loss: 0.1645 - val_accuracy: 0.9782\n",
      "Epoch 51/100\n",
      "1875/1875 [==============================] - 3s 2ms/step - loss: 0.0036 - accuracy: 0.9988 - val_loss: 0.1946 - val_accuracy: 0.9754\n",
      "Epoch 52/100\n",
      "1875/1875 [==============================] - 3s 1ms/step - loss: 0.0025 - accuracy: 0.9992 - val_loss: 0.1668 - val_accuracy: 0.9793\n",
      "Epoch 53/100\n",
      "1875/1875 [==============================] - 3s 2ms/step - loss: 0.0028 - accuracy: 0.9990 - val_loss: 0.1764 - val_accuracy: 0.9772\n",
      "Epoch 54/100\n",
      "1875/1875 [==============================] - 3s 2ms/step - loss: 0.0018 - accuracy: 0.9995 - val_loss: 0.1830 - val_accuracy: 0.9772\n",
      "Epoch 55/100\n",
      "1875/1875 [==============================] - 3s 1ms/step - loss: 0.0040 - accuracy: 0.9987 - val_loss: 0.1726 - val_accuracy: 0.9798\n",
      "Epoch 56/100\n",
      "1875/1875 [==============================] - 3s 2ms/step - loss: 0.0036 - accuracy: 0.9989 - val_loss: 0.1713 - val_accuracy: 0.9799\n",
      "Epoch 57/100\n",
      "1875/1875 [==============================] - 3s 2ms/step - loss: 0.0019 - accuracy: 0.9993 - val_loss: 0.1667 - val_accuracy: 0.9792\n",
      "Epoch 58/100\n",
      "1875/1875 [==============================] - 3s 2ms/step - loss: 0.0025 - accuracy: 0.9992 - val_loss: 0.1707 - val_accuracy: 0.9787\n",
      "Epoch 59/100\n",
      "1875/1875 [==============================] - 3s 2ms/step - loss: 0.0032 - accuracy: 0.9988 - val_loss: 0.1577 - val_accuracy: 0.9814\n",
      "Epoch 60/100\n",
      "1875/1875 [==============================] - 3s 2ms/step - loss: 0.0018 - accuracy: 0.9995 - val_loss: 0.1847 - val_accuracy: 0.9786\n",
      "Epoch 61/100\n",
      "1875/1875 [==============================] - 3s 2ms/step - loss: 0.0022 - accuracy: 0.9992 - val_loss: 0.1745 - val_accuracy: 0.9790\n",
      "Epoch 62/100\n",
      "1875/1875 [==============================] - 3s 2ms/step - loss: 0.0019 - accuracy: 0.9993 - val_loss: 0.1690 - val_accuracy: 0.9799\n",
      "Epoch 63/100\n",
      "1875/1875 [==============================] - 3s 2ms/step - loss: 0.0026 - accuracy: 0.9991 - val_loss: 0.1763 - val_accuracy: 0.9804\n",
      "Epoch 64/100\n",
      "1875/1875 [==============================] - 3s 1ms/step - loss: 0.0033 - accuracy: 0.9991 - val_loss: 0.2106 - val_accuracy: 0.9759\n",
      "Epoch 65/100\n",
      "1875/1875 [==============================] - 3s 2ms/step - loss: 0.0024 - accuracy: 0.9992 - val_loss: 0.1937 - val_accuracy: 0.9790\n",
      "Epoch 66/100\n",
      "1875/1875 [==============================] - 3s 2ms/step - loss: 0.0019 - accuracy: 0.9994 - val_loss: 0.1792 - val_accuracy: 0.9794\n",
      "Epoch 67/100\n",
      "1875/1875 [==============================] - 3s 2ms/step - loss: 0.0013 - accuracy: 0.9996 - val_loss: 0.2000 - val_accuracy: 0.9784\n",
      "Epoch 68/100\n",
      "1875/1875 [==============================] - 3s 2ms/step - loss: 0.0032 - accuracy: 0.9991 - val_loss: 0.1802 - val_accuracy: 0.9806\n",
      "Epoch 69/100\n",
      "1875/1875 [==============================] - 3s 2ms/step - loss: 0.0020 - accuracy: 0.9994 - val_loss: 0.1859 - val_accuracy: 0.9785\n",
      "Epoch 70/100\n",
      "1875/1875 [==============================] - 3s 2ms/step - loss: 0.0025 - accuracy: 0.9991 - val_loss: 0.2300 - val_accuracy: 0.9747\n",
      "Epoch 71/100\n",
      "1875/1875 [==============================] - 3s 1ms/step - loss: 0.0014 - accuracy: 0.9996 - val_loss: 0.1776 - val_accuracy: 0.9807\n",
      "Epoch 72/100\n",
      "1875/1875 [==============================] - 3s 2ms/step - loss: 8.4622e-04 - accuracy: 0.9998 - val_loss: 0.2161 - val_accuracy: 0.9774\n",
      "Epoch 73/100\n",
      "1875/1875 [==============================] - 3s 2ms/step - loss: 0.0033 - accuracy: 0.9990 - val_loss: 0.1908 - val_accuracy: 0.9807\n",
      "Epoch 74/100\n",
      "1875/1875 [==============================] - 3s 2ms/step - loss: 0.0015 - accuracy: 0.9995 - val_loss: 0.2135 - val_accuracy: 0.9772\n",
      "Epoch 75/100\n",
      "1875/1875 [==============================] - 3s 2ms/step - loss: 0.0021 - accuracy: 0.9992 - val_loss: 0.2065 - val_accuracy: 0.9786\n",
      "Epoch 76/100\n",
      "1875/1875 [==============================] - 3s 2ms/step - loss: 0.0020 - accuracy: 0.9993 - val_loss: 0.2097 - val_accuracy: 0.9764\n",
      "Epoch 77/100\n",
      "1875/1875 [==============================] - 3s 2ms/step - loss: 0.0039 - accuracy: 0.9989 - val_loss: 0.1992 - val_accuracy: 0.9806\n",
      "Epoch 78/100\n",
      "1875/1875 [==============================] - 3s 2ms/step - loss: 9.8094e-04 - accuracy: 0.9998 - val_loss: 0.1978 - val_accuracy: 0.9801\n",
      "Epoch 79/100\n",
      "1875/1875 [==============================] - 3s 2ms/step - loss: 0.0031 - accuracy: 0.9991 - val_loss: 0.2032 - val_accuracy: 0.9789\n",
      "Epoch 80/100\n",
      "1875/1875 [==============================] - 3s 2ms/step - loss: 0.0014 - accuracy: 0.9996 - val_loss: 0.2105 - val_accuracy: 0.9785\n",
      "Epoch 81/100\n",
      "1875/1875 [==============================] - 3s 2ms/step - loss: 0.0024 - accuracy: 0.9992 - val_loss: 0.2125 - val_accuracy: 0.9789\n",
      "Epoch 82/100\n",
      "1875/1875 [==============================] - 3s 2ms/step - loss: 0.0013 - accuracy: 0.9996 - val_loss: 0.1941 - val_accuracy: 0.9803\n",
      "Epoch 83/100\n",
      "1875/1875 [==============================] - 3s 2ms/step - loss: 0.0025 - accuracy: 0.9991 - val_loss: 0.1999 - val_accuracy: 0.9793\n",
      "Epoch 84/100\n",
      "1875/1875 [==============================] - 3s 2ms/step - loss: 0.0020 - accuracy: 0.9993 - val_loss: 0.1999 - val_accuracy: 0.9794\n",
      "Epoch 85/100\n",
      "1875/1875 [==============================] - 3s 2ms/step - loss: 1.1758e-04 - accuracy: 1.0000 - val_loss: 0.1988 - val_accuracy: 0.9804\n",
      "Epoch 86/100\n",
      "1875/1875 [==============================] - 3s 1ms/step - loss: 7.2111e-06 - accuracy: 1.0000 - val_loss: 0.1976 - val_accuracy: 0.9802\n",
      "Epoch 87/100\n",
      "1875/1875 [==============================] - 3s 2ms/step - loss: 2.8748e-06 - accuracy: 1.0000 - val_loss: 0.1943 - val_accuracy: 0.9807\n",
      "Epoch 88/100\n",
      "1875/1875 [==============================] - 3s 2ms/step - loss: 1.4977e-06 - accuracy: 1.0000 - val_loss: 0.1940 - val_accuracy: 0.9803\n",
      "Epoch 89/100\n",
      "1875/1875 [==============================] - 3s 2ms/step - loss: 9.5660e-07 - accuracy: 1.0000 - val_loss: 0.1944 - val_accuracy: 0.9805\n",
      "Epoch 90/100\n",
      "1875/1875 [==============================] - 3s 2ms/step - loss: 6.2287e-07 - accuracy: 1.0000 - val_loss: 0.1954 - val_accuracy: 0.9811\n",
      "Epoch 91/100\n",
      "1875/1875 [==============================] - 3s 2ms/step - loss: 3.8650e-07 - accuracy: 1.0000 - val_loss: 0.1962 - val_accuracy: 0.9810\n",
      "Epoch 92/100\n",
      "1875/1875 [==============================] - 3s 2ms/step - loss: 0.0056 - accuracy: 0.9985 - val_loss: 0.2415 - val_accuracy: 0.9792\n",
      "Epoch 93/100\n",
      "1875/1875 [==============================] - 3s 2ms/step - loss: 0.0012 - accuracy: 0.9996 - val_loss: 0.2352 - val_accuracy: 0.9781\n",
      "Epoch 94/100\n",
      "1875/1875 [==============================] - 3s 2ms/step - loss: 0.0034 - accuracy: 0.9990 - val_loss: 0.2605 - val_accuracy: 0.9769\n",
      "Epoch 95/100\n",
      "1875/1875 [==============================] - 3s 2ms/step - loss: 0.0017 - accuracy: 0.9995 - val_loss: 0.2536 - val_accuracy: 0.9796\n",
      "Epoch 96/100\n",
      "1875/1875 [==============================] - 3s 2ms/step - loss: 0.0025 - accuracy: 0.9992 - val_loss: 0.2512 - val_accuracy: 0.9782\n",
      "Epoch 97/100\n",
      "1875/1875 [==============================] - 3s 1ms/step - loss: 0.0014 - accuracy: 0.9995 - val_loss: 0.2842 - val_accuracy: 0.9755\n",
      "Epoch 98/100\n",
      "1875/1875 [==============================] - 3s 1ms/step - loss: 0.0026 - accuracy: 0.9992 - val_loss: 0.2454 - val_accuracy: 0.9784\n",
      "Epoch 99/100\n",
      "1875/1875 [==============================] - 3s 2ms/step - loss: 0.0010 - accuracy: 0.9996 - val_loss: 0.2536 - val_accuracy: 0.9781\n",
      "Epoch 100/100\n",
      "1875/1875 [==============================] - 3s 2ms/step - loss: 0.0017 - accuracy: 0.9995 - val_loss: 0.2592 - val_accuracy: 0.9772\n"
     ]
    },
    {
     "data": {
      "text/plain": [
       "<keras.src.callbacks.History at 0x1e0a611daf0>"
      ]
     },
     "execution_count": 14,
     "metadata": {},
     "output_type": "execute_result"
    }
   ],
   "execution_count": 14
  },
  {
   "cell_type": "code",
   "metadata": {
    "executionInfo": {
     "elapsed": 7,
     "status": "aborted",
     "timestamp": 1710981099417,
     "user": {
      "displayName": "Joe Burdis",
      "userId": "05388749857082436046"
     },
     "user_tz": 240
    },
    "id": "xRVywP6FutaY",
    "pycharm": {
     "name": "#%%\n"
    },
    "ExecuteTime": {
     "end_time": "2024-04-11T21:58:34.352437Z",
     "start_time": "2024-04-11T21:58:33.906629Z"
    }
   },
   "source": [
    "# The above loss and accuracy is for the training data. Let's evaluate the model on the test set.\n",
    "model.evaluate(x_test, y_test)"
   ],
   "outputs": [
    {
     "name": "stdout",
     "output_type": "stream",
     "text": [
      "313/313 [==============================] - 0s 850us/step - loss: 0.2592 - accuracy: 0.9772\n"
     ]
    },
    {
     "data": {
      "text/plain": [
       "[0.25924161076545715, 0.9771999716758728]"
      ]
     },
     "execution_count": 15,
     "metadata": {},
     "output_type": "execute_result"
    }
   ],
   "execution_count": 15
  },
  {
   "cell_type": "code",
   "metadata": {
    "id": "8YdQpXsIutdA",
    "executionInfo": {
     "status": "aborted",
     "timestamp": 1710981099418,
     "user_tz": 240,
     "elapsed": 7,
     "user": {
      "displayName": "Joe Burdis",
      "userId": "05388749857082436046"
     }
    },
    "pycharm": {
     "name": "#%%\n"
    },
    "ExecuteTime": {
     "end_time": "2024-04-11T21:58:34.356425Z",
     "start_time": "2024-04-11T21:58:34.353434Z"
    }
   },
   "source": [
    "# The image classifier is not trained to ~98% accuracy on this dataset.\n",
    "# Let's create a test case ourselves.\n",
    "# I use MS Paint to draw a digit. Remember to resize the canvas to 28*28 pixels\n",
    "\n",
    "# from google.colab import files\n",
    "# files.upload()"
   ],
   "outputs": [],
   "execution_count": 16
  },
  {
   "cell_type": "code",
   "metadata": {
    "executionInfo": {
     "elapsed": 7,
     "status": "aborted",
     "timestamp": 1710981099418,
     "user": {
      "displayName": "Joe Burdis",
      "userId": "05388749857082436046"
     },
     "user_tz": 240
    },
    "id": "3KwIAVagFIRA",
    "pycharm": {
     "name": "#%%\n"
    },
    "ExecuteTime": {
     "end_time": "2024-04-11T21:58:34.465163Z",
     "start_time": "2024-04-11T21:58:34.357423Z"
    }
   },
   "source": [
    "plt.imshow(x_test[0], cmap='gray')\n",
    "plt.show()"
   ],
   "outputs": [
    {
     "data": {
      "text/plain": [
       "<Figure size 640x480 with 1 Axes>"
      ],
      "image/png": "[encoded data removed]"
     },
     "metadata": {},
     "output_type": "display_data"
    }
   ],
   "execution_count": 17
  },
  {
   "cell_type": "code",
   "metadata": {
    "colab": {
     "base_uri": "https://localhost:8080/"
    },
    "executionInfo": {
     "elapsed": 132,
     "status": "ok",
     "timestamp": 1698276067621,
     "user": {
      "displayName": "Joe Burdis",
      "userId": "05388749857082436046"
     },
     "user_tz": 240
    },
    "id": "pZ8AkbSOutf2",
    "outputId": "aeb6551f-9998-4048-d70d-f1176c5ce230",
    "pycharm": {
     "name": "#%%\n"
    },
    "ExecuteTime": {
     "end_time": "2024-04-11T21:58:34.471122Z",
     "start_time": "2024-04-11T21:58:34.466133Z"
    }
   },
   "source": [
    "# import image using pillow\n",
    "import PIL\n",
    "#img = PIL.Image.open('826852359.jpg')\n",
    "img = x_test[0]#img.convert('1') # convert image to black and white\n",
    "print(img.size)"
   ],
   "outputs": [
    {
     "name": "stdout",
     "output_type": "stream",
     "text": [
      "784\n"
     ]
    }
   ],
   "execution_count": 18
  },
  {
   "cell_type": "code",
   "metadata": {
    "colab": {
     "base_uri": "https://localhost:8080/",
     "height": 448
    },
    "executionInfo": {
     "elapsed": 501,
     "status": "ok",
     "timestamp": 1698276071167,
     "user": {
      "displayName": "Joe Burdis",
      "userId": "05388749857082436046"
     },
     "user_tz": 240
    },
    "id": "v2KRLnZTutlA",
    "outputId": "f651b324-f460-40d8-e18a-9e07d03e6aea",
    "pycharm": {
     "name": "#%%\n"
    },
    "ExecuteTime": {
     "end_time": "2024-04-11T21:58:34.608753Z",
     "start_time": "2024-04-11T21:58:34.472144Z"
    }
   },
   "source": [
    "# Convert white pixel to 0 and black pixel to 1\n",
    "img_np = 1 - np.asarray(img).astype(float)\n",
    "plt.imshow(img_np, cmap='gray')"
   ],
   "outputs": [
    {
     "data": {
      "text/plain": [
       "<matplotlib.image.AxesImage at 0x1e0c698f220>"
      ]
     },
     "execution_count": 19,
     "metadata": {},
     "output_type": "execute_result"
    },
    {
     "data": {
      "text/plain": [
       "<Figure size 640x480 with 1 Axes>"
      ],
      "image/png": "[encoded data removed]"
     },
     "metadata": {},
     "output_type": "display_data"
    }
   ],
   "execution_count": 19
  },
  {
   "cell_type": "code",
   "metadata": {
    "colab": {
     "base_uri": "https://localhost:8080/"
    },
    "executionInfo": {
     "elapsed": 123,
     "status": "ok",
     "timestamp": 1698276113540,
     "user": {
      "displayName": "Joe Burdis",
      "userId": "05388749857082436046"
     },
     "user_tz": 240
    },
    "id": "-SLBcY1hutnw",
    "outputId": "55d68f0a-9ac7-45f2-ef5d-86c2ecfb146a",
    "pycharm": {
     "name": "#%%\n"
    },
    "ExecuteTime": {
     "end_time": "2024-04-11T21:58:34.617728Z",
     "start_time": "2024-04-11T21:58:34.609749Z"
    }
   },
   "source": [
    "# Apply the neural network model\n",
    "predictions = model(img.reshape([-1, 28, 28])).numpy()\n",
    "probs = tf.nn.softmax(predictions).numpy()\n",
    "class_prediction = np.argmax(probs)\n",
    "print(class_prediction)"
   ],
   "outputs": [
    {
     "name": "stdout",
     "output_type": "stream",
     "text": [
      "7\n"
     ]
    }
   ],
   "execution_count": 20
  },
  {
   "cell_type": "code",
   "metadata": {
    "colab": {
     "base_uri": "https://localhost:8080/"
    },
    "executionInfo": {
     "elapsed": 124,
     "status": "ok",
     "timestamp": 1698276118191,
     "user": {
      "displayName": "Joe Burdis",
      "userId": "05388749857082436046"
     },
     "user_tz": 240
    },
    "id": "YNQV_bB6utqQ",
    "outputId": "feb88a46-c917-4a82-8bfb-e8c37fce2860",
    "pycharm": {
     "name": "#%%\n"
    },
    "ExecuteTime": {
     "end_time": "2024-04-11T21:58:34.623712Z",
     "start_time": "2024-04-11T21:58:34.618726Z"
    }
   },
   "source": [
    "# Display probability\n",
    "probs"
   ],
   "outputs": [
    {
     "data": {
      "text/plain": [
       "array([[0., 0., 0., 0., 0., 0., 0., 1., 0., 0.]], dtype=float32)"
      ]
     },
     "execution_count": 21,
     "metadata": {},
     "output_type": "execute_result"
    }
   ],
   "execution_count": 21
  },
  {
   "cell_type": "code",
   "metadata": {
    "colab": {
     "base_uri": "https://localhost:8080/"
    },
    "executionInfo": {
     "elapsed": 165,
     "status": "ok",
     "timestamp": 1698276164348,
     "user": {
      "displayName": "Joe Burdis",
      "userId": "05388749857082436046"
     },
     "user_tz": 240
    },
    "id": "yRTObjzVFIRE",
    "outputId": "dc124171-e6ae-48fd-ebda-b690a33694f3",
    "pycharm": {
     "name": "#%%\n"
    },
    "ExecuteTime": {
     "end_time": "2024-04-11T21:58:34.632687Z",
     "start_time": "2024-04-11T21:58:34.625707Z"
    }
   },
   "source": [
    "# Apply the neural network model\n",
    "predictions = model(img_np.reshape([-1, 28, 28])).numpy()\n",
    "probs = tf.nn.softmax(predictions).numpy()\n",
    "class_prediction = np.argmax(probs)\n",
    "print(class_prediction)"
   ],
   "outputs": [
    {
     "name": "stdout",
     "output_type": "stream",
     "text": [
      "7\n"
     ]
    }
   ],
   "execution_count": 22
  },
  {
   "cell_type": "markdown",
   "metadata": {
    "id": "96HAbheluttD",
    "pycharm": {
     "name": "#%% md\n"
    }
   },
   "source": [
    "# Description of the forward and backward propagation process\n",
    "\n",
    "## Notations\n",
    "- Input vector $x = (X_1, X_2, ..., X_m)\\in\\mathbb{R}^{m}$\n",
    "- Response vector $y = (Y_1, Y_2, ..., Y_n)\\in\\mathbb{R}^{n}$\n",
    "- Sigmoid function $\\sigma(z) = 1 / (1 + e^{-z})$\n",
    "- Layer index:\n",
    "    - Input layer: 0\n",
    "    - First hidden layer: 1\n",
    "    - Second hidden layer: 2\n",
    "    - ...\n",
    "    - Output layer: L\n",
    "- Layer $i$: (superscipt does not represent power)\n",
    "    - Layer input: $z^i$\n",
    "    - Weight matrix: $w^i$\n",
    "    - Bias vector: $b^i$\n",
    "    - Layer output: $a^i \\in\\mathbb{R}^{h_i}$\n",
    "- Model output: $a^L$\n",
    "- We use $y(x)$ and $a^L(x)$ to represent the desired output and the model output for a given vector $x$.\n"
   ]
  },
  {
   "cell_type": "code",
   "metadata": {
    "id": "t3rL5ixXJLl2",
    "pycharm": {
     "name": "#%%\n"
    },
    "ExecuteTime": {
     "end_time": "2024-04-11T21:58:34.642663Z",
     "start_time": "2024-04-11T21:58:34.639668Z"
    }
   },
   "source": [],
   "outputs": [],
   "execution_count": 23
  },
  {
   "cell_type": "markdown",
   "metadata": {
    "id": "VP2JIBPZutvo",
    "pycharm": {
     "name": "#%% md\n"
    }
   },
   "source": [
    "## Forward Propagation with Single Input\n",
    "\n",
    "- Input layer: $a^0 \\leftarrow x$\n",
    "- Hidden layer 1:\n",
    "    - $z^1 \\leftarrow w^1\\cdot a^0 + b^1$\n",
    "    - $a^1 \\leftarrow \\sigma(z^1)$\n",
    "- (General formula) Layer $l = 1, ..., L$:\n",
    "    - $z^l \\leftarrow w^l\\cdot a^{l-1} + b^l$\n",
    "    - $a^l \\leftarrow \\sigma(z^l)$\n",
    "- Output: $a^L$"
   ]
  },
  {
   "cell_type": "markdown",
   "metadata": {
    "id": "3Nxk2JYqutyL",
    "pycharm": {
     "name": "#%% md\n"
    }
   },
   "source": [
    "## Forward Propagation with Batch Input\n",
    "\n",
    "Usually we need to feed the model with a batch of inputs for efficiency. Let $X$ represent a horizontal sequence of input vectors.\n",
    "\n",
    "- Input layer: $a^0 \\leftarrow X$\n",
    "\n",
    "What is the size of:\n",
    "- $w^l$:\n",
    "- $b^l$:\n",
    "- $z^l$:\n",
    "- $a^l$:\n"
   ]
  },
  {
   "cell_type": "markdown",
   "metadata": {
    "id": "7mEoylPput07",
    "pycharm": {
     "name": "#%% md\n"
    }
   },
   "source": [
    "## Backward Propagation with Batch Input\n",
    "\n",
    "Let's use the MSE function to measure the error:\n",
    "$$C = \\sum_{x\\in X}\\|y(x) - a^L(x)\\|^2$$\n",
    "\n",
    "In order to update the parameters, we need to calculate the partial derivative of each parameter. The back-propagation algorithm suggests the following procedure:\n",
    "\n",
    "- $\\frac{\\partial C}{\\partial a^L}$\n",
    "- $\\frac{\\partial C}{\\partial z^L}$\n",
    "- $\\frac{\\partial C}{\\partial w^L}$, $\\frac{\\partial C}{\\partial b^L}$, $\\frac{\\partial C}{\\partial a^{L-1}}$\n",
    "- (more generally) for $l = L, L-1, ..., 1$, calculate\n",
    "    - $\\frac{\\partial C}{\\partial a^l}$\n",
    "    - $\\frac{\\partial C}{\\partial z^L}$\n",
    "    - $\\frac{\\partial C}{\\partial w^l}$\n",
    "    - $\\frac{\\partial C}{\\partial b^l}$"
   ]
  },
  {
   "cell_type": "code",
   "metadata": {
    "id": "l51ZhGgN7-Ge",
    "pycharm": {
     "name": "#%%\n"
    },
    "ExecuteTime": {
     "end_time": "2024-04-11T21:58:34.647647Z",
     "start_time": "2024-04-11T21:58:34.643660Z"
    }
   },
   "source": [],
   "outputs": [],
   "execution_count": 23
  },
  {
   "metadata": {},
   "cell_type": "code",
   "outputs": [],
   "execution_count": null,
   "source": ""
  }
 ],
 "metadata": {
  "colab": {
   "provenance": []
  },
  "kernelspec": {
   "name": "python3",
   "language": "python",
   "display_name": "Python 3 (ipykernel)"
  },
  "language_info": {
   "codemirror_mode": {
    "name": "ipython",
    "version": 3
   },
   "file_extension": ".py",
   "mimetype": "text/x-python",
   "name": "python",
   "nbconvert_exporter": "python",
   "pygments_lexer": "ipython3",
   "version": "3.8.10"
  }
 },
 "nbformat": 4,
 "nbformat_minor": 0
}
