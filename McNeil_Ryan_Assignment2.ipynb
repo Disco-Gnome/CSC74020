{
 "cells": [
  {
   "cell_type": "markdown",
   "source": [
    "# Setup"
   ],
   "metadata": {
    "collapsed": false
   },
   "id": "ca64beac5c6b6f7e"
  },
  {
   "cell_type": "code",
   "outputs": [],
   "source": [],
   "metadata": {
    "collapsed": false
   },
   "id": "76c414f391c9ff15"
  },
  {
   "cell_type": "markdown",
   "source": [
    "# Part A: Model Code and Exploration (100 pts)"
   ],
   "metadata": {
    "collapsed": false
   },
   "id": "7b812f8cb615333f"
  },
  {
   "cell_type": "markdown",
   "source": [
    "1. Perform Exploratory Data Analysis (EDA) and discuss the data and what you observe\n",
    "prior to beginning modeling and how impact how to proceed [10 pts]"
   ],
   "metadata": {
    "collapsed": false
   },
   "id": "65f8e5f59e8dfd93"
  },
  {
   "cell_type": "code",
   "outputs": [],
   "source": [],
   "metadata": {
    "collapsed": false
   },
   "id": "a7641a5809738813"
  },
  {
   "cell_type": "markdown",
   "source": [
    "2. Pre-processed categorical data for use in the model and justified pre-processing\n",
    "method. Note this may be different for each algorithm you try. [10 pts]"
   ],
   "metadata": {
    "collapsed": false
   },
   "id": "c43475e47ecf0f00"
  },
  {
   "cell_type": "code",
   "outputs": [],
   "source": [],
   "metadata": {
    "collapsed": false
   },
   "id": "b2f210597f7dd021"
  },
  {
   "cell_type": "markdown",
   "source": [
    "3. Pre-processed numerical data appropriately including handling missing data and\n",
    "justified methods used. Note this may be different for each algorithm you try. [10 pts]"
   ],
   "metadata": {
    "collapsed": false
   },
   "id": "b7ca172bbb4ce1ec"
  },
  {
   "cell_type": "code",
   "outputs": [],
   "source": [],
   "metadata": {
    "collapsed": false
   },
   "id": "e61e88d828182f6f"
  },
  {
   "cell_type": "markdown",
   "source": [
    "4. Implement a model to make predictions using text data using tf-idf [20 pts]"
   ],
   "metadata": {
    "collapsed": false
   },
   "id": "a26afb0df2f7ec5f"
  },
  {
   "cell_type": "code",
   "outputs": [],
   "source": [],
   "metadata": {
    "collapsed": false
   },
   "id": "48ef9f4d7317344f"
  },
  {
   "cell_type": "markdown",
   "source": [
    "5. Use model stacking to incorporate tf-idf predictions for the text field\n",
    "(diag_desc_combined) in the downstream algorithm [20 pts]"
   ],
   "metadata": {
    "collapsed": false
   },
   "id": "e6ceeb5497e17e6a"
  },
  {
   "cell_type": "code",
   "outputs": [],
   "source": [],
   "metadata": {
    "collapsed": false
   },
   "id": "35916dd62fb0a7a"
  },
  {
   "cell_type": "markdown",
   "source": [
    "6. Perform experimentation for multiple modeling algorithms and justify why you\n",
    "selected the experiments you chose [20 pts]"
   ],
   "metadata": {
    "collapsed": false
   },
   "id": "3cfebd359e05792c"
  },
  {
   "cell_type": "code",
   "outputs": [],
   "source": [],
   "metadata": {
    "collapsed": false
   },
   "id": "2e51699c682f0dfc"
  },
  {
   "cell_type": "markdown",
   "source": [
    "7. Final model selection and discussion of your model choice and the model weaknesses\n",
    "(generally, where model doesn’t perform well, etc.) [10 pts]"
   ],
   "metadata": {
    "collapsed": false
   },
   "id": "f62c39d7b40d7ac1"
  },
  {
   "cell_type": "code",
   "outputs": [],
   "source": [],
   "metadata": {
    "collapsed": false
   },
   "id": "5df1e27c507c597e"
  },
  {
   "cell_type": "markdown",
   "source": [
    "# Part B: Model Performance (100 pts)"
   ],
   "metadata": {
    "collapsed": false
   },
   "id": "7ebe1732de251b8b"
  },
  {
   "cell_type": "markdown",
   "source": [
    "Achieve AUC >= .675"
   ],
   "metadata": {
    "collapsed": false
   },
   "id": "e6c048fd46211b5c"
  },
  {
   "cell_type": "code",
   "outputs": [],
   "source": [],
   "metadata": {
    "collapsed": false
   },
   "id": "21820e8d9db9332b"
  }
 ],
 "metadata": {
  "kernelspec": {
   "display_name": "Python 3",
   "language": "python",
   "name": "python3"
  },
  "language_info": {
   "codemirror_mode": {
    "name": "ipython",
    "version": 2
   },
   "file_extension": ".py",
   "mimetype": "text/x-python",
   "name": "python",
   "nbconvert_exporter": "python",
   "pygments_lexer": "ipython2",
   "version": "2.7.6"
  }
 },
 "nbformat": 4,
 "nbformat_minor": 5
}
