{
 "cells": [
  {
   "cell_type": "markdown",
   "metadata": {
    "id": "qrROhwC5Hp9e",
    "pycharm": {
     "name": "#%% md\n"
    }
   },
   "source": [
    "# Week 8\n",
    "# CNN and RNN\n",
    "\n",
    "**Big thank you to Professor Liang Zhao much of the material in this workbook**"
   ]
  },
  {
   "cell_type": "markdown",
   "metadata": {
    "id": "MMZhberOHpSb",
    "pycharm": {
     "name": "#%% md\n"
    }
   },
   "source": [
    "## I. Tensorflow.keras"
   ]
  },
  {
   "cell_type": "code",
   "execution_count": 1,
   "metadata": {
    "colab": {
     "base_uri": "https://localhost:8080/"
    },
    "id": "iy-e88qXlZC3",
    "outputId": "9fc02f86-cac1-4aba-cda4-28b8173c19a2",
    "executionInfo": {
     "status": "ok",
     "timestamp": 1698276219218,
     "user_tz": 240,
     "elapsed": 3179,
     "user": {
      "displayName": "Joe Burdis",
      "userId": "05388749857082436046"
     }
    },
    "pycharm": {
     "name": "#%%\n"
    }
   },
   "outputs": [
    {
     "output_type": "stream",
     "name": "stdout",
     "text": [
      "2.14.0\n"
     ]
    }
   ],
   "source": [
    "import os\n",
    "import numpy as np\n",
    "import pandas as pd\n",
    "import matplotlib.pyplot as plt\n",
    "\n",
    "import tensorflow as tf\n",
    "import tensorflow.keras as K\n",
    "print(tf.__version__)"
   ]
  },
  {
   "cell_type": "code",
   "execution_count": 2,
   "metadata": {
    "id": "LElKsHuBlx9L",
    "executionInfo": {
     "status": "ok",
     "timestamp": 1698276221827,
     "user_tz": 240,
     "elapsed": 2617,
     "user": {
      "displayName": "Joe Burdis",
      "userId": "05388749857082436046"
     }
    },
    "pycharm": {
     "name": "#%%\n"
    }
   },
   "outputs": [],
   "source": [
    "model = K.models.Sequential([\n",
    "    K.layers.Flatten(input_shape=(28, 28)),\n",
    "    K.layers.Dense(128, input_shape=(784,), activation='relu'),\n",
    "    K.layers.Dense(10)\n",
    "])"
   ]
  },
  {
   "cell_type": "code",
   "execution_count": 17,
   "metadata": {
    "id": "5E2elKX0mJcK",
    "executionInfo": {
     "status": "ok",
     "timestamp": 1698277276691,
     "user_tz": 240,
     "elapsed": 352,
     "user": {
      "displayName": "Joe Burdis",
      "userId": "05388749857082436046"
     }
    },
    "pycharm": {
     "name": "#%%\n"
    }
   },
   "outputs": [],
   "source": [
    "model = K.models.Sequential()\n",
    "model.add(K.layers.Flatten(input_shape=(28, 28)))\n",
    "model.add(K.layers.Dense(128, input_shape=(784,), activation='relu'))\n",
    "model.add(K.layers.Dense(10))"
   ]
  },
  {
   "cell_type": "code",
   "execution_count": 18,
   "metadata": {
    "colab": {
     "base_uri": "https://localhost:8080/"
    },
    "id": "0ND7b49ymVUx",
    "outputId": "6bf06377-6071-4970-a93c-06c6fb3304b7",
    "executionInfo": {
     "status": "ok",
     "timestamp": 1698277277309,
     "user_tz": 240,
     "elapsed": 304,
     "user": {
      "displayName": "Joe Burdis",
      "userId": "05388749857082436046"
     }
    },
    "pycharm": {
     "name": "#%%\n"
    }
   },
   "outputs": [
    {
     "output_type": "stream",
     "name": "stdout",
     "text": [
      "Model: \"sequential_2\"\n",
      "_________________________________________________________________\n",
      " Layer (type)                Output Shape              Param #   \n",
      "=================================================================\n",
      " flatten_2 (Flatten)         (None, 784)               0         \n",
      "                                                                 \n",
      " dense_4 (Dense)             (None, 128)               100480    \n",
      "                                                                 \n",
      " dense_5 (Dense)             (None, 10)                1290      \n",
      "                                                                 \n",
      "=================================================================\n",
      "Total params: 101770 (397.54 KB)\n",
      "Trainable params: 101770 (397.54 KB)\n",
      "Non-trainable params: 0 (0.00 Byte)\n",
      "_________________________________________________________________\n"
     ]
    }
   ],
   "source": [
    "model.summary()"
   ]
  },
  {
   "cell_type": "code",
   "execution_count": 19,
   "metadata": {
    "id": "NSEx-4HLmXL1",
    "executionInfo": {
     "status": "ok",
     "timestamp": 1698277278303,
     "user_tz": 240,
     "elapsed": 2,
     "user": {
      "displayName": "Joe Burdis",
      "userId": "05388749857082436046"
     }
    },
    "pycharm": {
     "name": "#%%\n"
    }
   },
   "outputs": [],
   "source": [
    "model.compile(optimizer='adam',\n",
    "              loss=K.losses.SparseCategoricalCrossentropy(from_logits=True),\n",
    "              metrics=['accuracy'])"
   ]
  },
  {
   "cell_type": "code",
   "execution_count": 21,
   "metadata": {
    "colab": {
     "base_uri": "https://localhost:8080/"
    },
    "id": "UP2G2b-Imgs7",
    "outputId": "898ed643-1dce-49eb-cacc-e27785775d4d",
    "executionInfo": {
     "status": "ok",
     "timestamp": 1698277289472,
     "user_tz": 240,
     "elapsed": 752,
     "user": {
      "displayName": "Joe Burdis",
      "userId": "05388749857082436046"
     }
    },
    "pycharm": {
     "name": "#%%\n"
    }
   },
   "outputs": [
    {
     "output_type": "stream",
     "name": "stdout",
     "text": [
      "(60000, 28, 28) (10000, 28, 28)\n"
     ]
    }
   ],
   "source": [
    "# Load FashionMNIST data\n",
    "fashion_mnist = K.datasets.fashion_mnist\n",
    "\n",
    "(train_images, train_labels), (test_images, test_labels) = fashion_mnist.load_data()\n",
    "\n",
    "print(train_images.shape, test_images.shape)\n",
    "\n",
    "train_images = train_images / 255.0\n",
    "test_images = test_images / 255.0"
   ]
  },
  {
   "cell_type": "markdown",
   "metadata": {
    "id": "xW2pdLDRJ-SR",
    "pycharm": {
     "name": "#%% md\n"
    }
   },
   "source": [
    "### If we use 90/10 spit with batch size 32, what is the batch size?"
   ]
  },
  {
   "cell_type": "code",
   "execution_count": 22,
   "metadata": {
    "colab": {
     "base_uri": "https://localhost:8080/"
    },
    "id": "ozt7Kgy7d6dt",
    "outputId": "f8960481-fe40-47f6-f6b1-ac7405008c07",
    "executionInfo": {
     "status": "ok",
     "timestamp": 1698277291273,
     "user_tz": 240,
     "elapsed": 4,
     "user": {
      "displayName": "Joe Burdis",
      "userId": "05388749857082436046"
     }
    },
    "pycharm": {
     "name": "#%%\n"
    }
   },
   "outputs": [
    {
     "output_type": "execute_result",
     "data": {
      "text/plain": [
       "1687.5"
      ]
     },
     "metadata": {},
     "execution_count": 22
    }
   ],
   "source": [
    "60000 * 0.9 / 32"
   ]
  },
  {
   "cell_type": "code",
   "execution_count": 23,
   "metadata": {
    "colab": {
     "base_uri": "https://localhost:8080/"
    },
    "id": "CPZV_YiQmy7X",
    "outputId": "6a3ab23a-e061-4446-b961-9e9101b4bf27",
    "executionInfo": {
     "status": "ok",
     "timestamp": 1698277357638,
     "user_tz": 240,
     "elapsed": 63437,
     "user": {
      "displayName": "Joe Burdis",
      "userId": "05388749857082436046"
     }
    },
    "pycharm": {
     "name": "#%%\n"
    }
   },
   "outputs": [
    {
     "output_type": "stream",
     "name": "stdout",
     "text": [
      "Epoch 1/10\n",
      "1688/1688 [==============================] - 10s 5ms/step - loss: 0.5076 - accuracy: 0.8195 - val_loss: 0.3925 - val_accuracy: 0.8567\n",
      "Epoch 2/10\n",
      "1688/1688 [==============================] - 6s 4ms/step - loss: 0.3795 - accuracy: 0.8621 - val_loss: 0.3729 - val_accuracy: 0.8680\n",
      "Epoch 3/10\n",
      "1688/1688 [==============================] - 5s 3ms/step - loss: 0.3381 - accuracy: 0.8770 - val_loss: 0.3634 - val_accuracy: 0.8628\n",
      "Epoch 4/10\n",
      "1688/1688 [==============================] - 6s 4ms/step - loss: 0.3130 - accuracy: 0.8851 - val_loss: 0.3218 - val_accuracy: 0.8833\n",
      "Epoch 5/10\n",
      "1688/1688 [==============================] - 5s 3ms/step - loss: 0.2965 - accuracy: 0.8908 - val_loss: 0.3189 - val_accuracy: 0.8855\n",
      "Epoch 6/10\n",
      "1688/1688 [==============================] - 6s 4ms/step - loss: 0.2785 - accuracy: 0.8975 - val_loss: 0.3207 - val_accuracy: 0.8868\n",
      "Epoch 7/10\n",
      "1688/1688 [==============================] - 6s 3ms/step - loss: 0.2696 - accuracy: 0.9002 - val_loss: 0.3146 - val_accuracy: 0.8877\n",
      "Epoch 8/10\n",
      "1688/1688 [==============================] - 6s 4ms/step - loss: 0.2571 - accuracy: 0.9045 - val_loss: 0.3315 - val_accuracy: 0.8813\n",
      "Epoch 9/10\n",
      "1688/1688 [==============================] - 5s 3ms/step - loss: 0.2465 - accuracy: 0.9087 - val_loss: 0.3163 - val_accuracy: 0.8900\n",
      "Epoch 10/10\n",
      "1688/1688 [==============================] - 6s 4ms/step - loss: 0.2386 - accuracy: 0.9116 - val_loss: 0.3181 - val_accuracy: 0.8895\n"
     ]
    }
   ],
   "source": [
    "history1 = model.fit(train_images, train_labels, batch_size=32, epochs=10, verbose=1,\n",
    "          validation_split=0.1,\n",
    "          )"
   ]
  },
  {
   "cell_type": "code",
   "source": [
    "new_dict = {'loss':history1.history['loss'], 'val_loss':history1.history['val_loss']}\n",
    "pd.DataFrame(new_dict).plot()"
   ],
   "metadata": {
    "colab": {
     "base_uri": "https://localhost:8080/",
     "height": 448
    },
    "id": "_VEX1hERNmOC",
    "executionInfo": {
     "status": "ok",
     "timestamp": 1698277358743,
     "user_tz": 240,
     "elapsed": 380,
     "user": {
      "displayName": "Joe Burdis",
      "userId": "05388749857082436046"
     }
    },
    "outputId": "5f09a0c9-cee4-4f5f-92b2-f86f49a3bf62",
    "pycharm": {
     "name": "#%%\n"
    }
   },
   "execution_count": 24,
   "outputs": [
    {
     "output_type": "execute_result",
     "data": {
      "text/plain": [
       "<Axes: >"
      ]
     },
     "metadata": {},
     "execution_count": 24
    },
    {
     "output_type": "display_data",
     "data": {
      "text/plain": [
       "<Figure size 640x480 with 1 Axes>"
      ],
      "image/png": "[encoded data removed]"
     },
     "metadata": {}
    }
   ]
  },
  {
   "cell_type": "code",
   "execution_count": 13,
   "metadata": {
    "colab": {
     "base_uri": "https://localhost:8080/"
    },
    "id": "SA4Cxet3m7kK",
    "outputId": "e3c2486c-4ead-4aa6-d767-fd702d7374d7",
    "executionInfo": {
     "status": "ok",
     "timestamp": 1698276896779,
     "user_tz": 240,
     "elapsed": 1666,
     "user": {
      "displayName": "Joe Burdis",
      "userId": "05388749857082436046"
     }
    },
    "pycharm": {
     "name": "#%%\n"
    }
   },
   "outputs": [
    {
     "output_type": "stream",
     "name": "stdout",
     "text": [
      "313/313 [==============================] - 1s 3ms/step - loss: 0.3826 - accuracy: 0.8798\n"
     ]
    }
   ],
   "source": [
    "scores = model.evaluate(test_images, test_labels)"
   ]
  },
  {
   "cell_type": "code",
   "execution_count": 10,
   "metadata": {
    "colab": {
     "base_uri": "https://localhost:8080/"
    },
    "id": "ombEII-ipiDl",
    "outputId": "4ef17efe-0ff3-4399-8ba7-eacfd68b6ab6",
    "executionInfo": {
     "status": "ok",
     "timestamp": 1698276343130,
     "user_tz": 240,
     "elapsed": 5,
     "user": {
      "displayName": "Joe Burdis",
      "userId": "05388749857082436046"
     }
    },
    "pycharm": {
     "name": "#%%\n"
    }
   },
   "outputs": [
    {
     "output_type": "stream",
     "name": "stdout",
     "text": [
      "Test loss: 0.345\n",
      "Test accuracy: 0.879\n"
     ]
    }
   ],
   "source": [
    "print(\"Test loss: {:.3f}\".format(scores[0]))\n",
    "print(\"Test accuracy: {:.3f}\".format(scores[1]))"
   ]
  },
  {
   "cell_type": "code",
   "execution_count": 11,
   "metadata": {
    "colab": {
     "base_uri": "https://localhost:8080/"
    },
    "id": "mla1aECZp71i",
    "outputId": "95f45ba0-201f-47ca-c26e-dc993e220a8e",
    "executionInfo": {
     "status": "ok",
     "timestamp": 1698276401179,
     "user_tz": 240,
     "elapsed": 58052,
     "user": {
      "displayName": "Joe Burdis",
      "userId": "05388749857082436046"
     }
    },
    "pycharm": {
     "name": "#%%\n"
    }
   },
   "outputs": [
    {
     "output_type": "stream",
     "name": "stdout",
     "text": [
      "Epoch 1/10\n",
      "1688/1688 [==============================] - 6s 3ms/step - loss: 0.2337 - accuracy: 0.9140 - val_loss: 0.3195 - val_accuracy: 0.8887\n",
      "Epoch 2/10\n",
      "1688/1688 [==============================] - 6s 3ms/step - loss: 0.2258 - accuracy: 0.9156 - val_loss: 0.3376 - val_accuracy: 0.8840\n",
      "Epoch 3/10\n",
      "1688/1688 [==============================] - 6s 4ms/step - loss: 0.2192 - accuracy: 0.9182 - val_loss: 0.3478 - val_accuracy: 0.8858\n",
      "Epoch 4/10\n",
      "1688/1688 [==============================] - 5s 3ms/step - loss: 0.2123 - accuracy: 0.9199 - val_loss: 0.3299 - val_accuracy: 0.8868\n",
      "Epoch 5/10\n",
      "1688/1688 [==============================] - 6s 4ms/step - loss: 0.2071 - accuracy: 0.9227 - val_loss: 0.3388 - val_accuracy: 0.8837\n",
      "Epoch 6/10\n",
      "1688/1688 [==============================] - 6s 3ms/step - loss: 0.2019 - accuracy: 0.9249 - val_loss: 0.3330 - val_accuracy: 0.8870\n",
      "Epoch 7/10\n",
      "1688/1688 [==============================] - 6s 4ms/step - loss: 0.1936 - accuracy: 0.9280 - val_loss: 0.3572 - val_accuracy: 0.8823\n",
      "Epoch 8/10\n",
      "1688/1688 [==============================] - 5s 3ms/step - loss: 0.1895 - accuracy: 0.9280 - val_loss: 0.3552 - val_accuracy: 0.8857\n",
      "Epoch 9/10\n",
      "1688/1688 [==============================] - 6s 4ms/step - loss: 0.1835 - accuracy: 0.9306 - val_loss: 0.3576 - val_accuracy: 0.8905\n",
      "Epoch 10/10\n",
      "1688/1688 [==============================] - 5s 3ms/step - loss: 0.1805 - accuracy: 0.9318 - val_loss: 0.3580 - val_accuracy: 0.8855\n"
     ]
    }
   ],
   "source": [
    "history = model.fit(train_images, train_labels, batch_size=32, epochs=10, verbose=1,\n",
    "                    validation_split=0.1)"
   ]
  },
  {
   "cell_type": "code",
   "source": [
    "new_dict = {'loss':history.history['loss'], 'val_loss':history.history['val_loss']}\n",
    "pd.DataFrame(new_dict).plot()"
   ],
   "metadata": {
    "colab": {
     "base_uri": "https://localhost:8080/",
     "height": 448
    },
    "id": "DWrTusqHNNDD",
    "executionInfo": {
     "status": "ok",
     "timestamp": 1698277214497,
     "user_tz": 240,
     "elapsed": 383,
     "user": {
      "displayName": "Joe Burdis",
      "userId": "05388749857082436046"
     }
    },
    "outputId": "930545ce-f4c2-4cb2-815f-db9190fbdb88",
    "pycharm": {
     "name": "#%%\n"
    }
   },
   "execution_count": 16,
   "outputs": [
    {
     "output_type": "execute_result",
     "data": {
      "text/plain": [
       "<Axes: >"
      ]
     },
     "metadata": {},
     "execution_count": 16
    },
    {
     "output_type": "display_data",
     "data": {
      "text/plain": [
       "<Figure size 640x480 with 1 Axes>"
      ],
      "image/png": "[encoded data removed]"
     },
     "metadata": {}
    }
   ]
  },
  {
   "cell_type": "code",
   "execution_count": 12,
   "metadata": {
    "colab": {
     "base_uri": "https://localhost:8080/",
     "height": 448
    },
    "id": "YeU1KfDTqHpK",
    "outputId": "420a97be-d4f3-4992-92bb-d0cd5fda9a37",
    "executionInfo": {
     "status": "ok",
     "timestamp": 1698276401647,
     "user_tz": 240,
     "elapsed": 484,
     "user": {
      "displayName": "Joe Burdis",
      "userId": "05388749857082436046"
     }
    },
    "pycharm": {
     "name": "#%%\n"
    }
   },
   "outputs": [
    {
     "output_type": "execute_result",
     "data": {
      "text/plain": [
       "<Axes: >"
      ]
     },
     "metadata": {},
     "execution_count": 12
    },
    {
     "output_type": "display_data",
     "data": {
      "text/plain": [
       "<Figure size 640x480 with 1 Axes>"
      ],
      "image/png": "[encoded data removed]"
     },
     "metadata": {}
    }
   ],
   "source": [
    "pd.DataFrame(history.history).plot()"
   ]
  },
  {
   "cell_type": "code",
   "execution_count": null,
   "metadata": {
    "id": "ooxNcxF6qXXr",
    "outputId": "ace73687-ba40-4f88-ed3c-fd28b92012ec",
    "pycharm": {
     "name": "#%%\n"
    }
   },
   "outputs": [
    {
     "name": "stdout",
     "output_type": "stream",
     "text": [
      "1500/1500 [==============================] - 2s 1ms/step - loss: 0.5784 - accuracy: 0.8016\n",
      "375/375 [==============================] - 0s 1ms/step - loss: 0.4471 - accuracy: 0.8462\n",
      "1500/1500 [==============================] - 2s 1ms/step - loss: 0.5722 - accuracy: 0.8071\n",
      "375/375 [==============================] - 0s 958us/step - loss: 0.4571 - accuracy: 0.8370\n",
      "1500/1500 [==============================] - 2s 1ms/step - loss: 0.5812 - accuracy: 0.8015\n",
      "375/375 [==============================] - 0s 915us/step - loss: 0.4898 - accuracy: 0.8214\n",
      "1500/1500 [==============================] - 2s 1ms/step - loss: 0.5575 - accuracy: 0.8048\n",
      "375/375 [==============================] - 0s 962us/step - loss: 0.4352 - accuracy: 0.8504\n",
      "1500/1500 [==============================] - 2s 1ms/step - loss: 0.5839 - accuracy: 0.7993\n",
      "375/375 [==============================] - 0s 967us/step - loss: 0.4606 - accuracy: 0.8348\n",
      "1500/1500 [==============================] - 2s 1ms/step - loss: 0.5456 - accuracy: 0.8136\n",
      "375/375 [==============================] - 0s 1ms/step - loss: 0.4464 - accuracy: 0.8479\n",
      "1500/1500 [==============================] - 2s 1ms/step - loss: 0.5384 - accuracy: 0.8132\n",
      "375/375 [==============================] - 0s 1ms/step - loss: 0.4257 - accuracy: 0.8474\n",
      "1500/1500 [==============================] - 2s 1ms/step - loss: 0.5454 - accuracy: 0.8089\n",
      "375/375 [==============================] - 0s 1ms/step - loss: 0.4149 - accuracy: 0.8572\n",
      "1500/1500 [==============================] - 2s 1ms/step - loss: 0.5407 - accuracy: 0.8105\n",
      "375/375 [==============================] - 0s 1ms/step - loss: 0.4367 - accuracy: 0.8474\n",
      "1500/1500 [==============================] - 2s 1ms/step - loss: 0.5407 - accuracy: 0.8148\n",
      "375/375 [==============================] - 0s 990us/step - loss: 0.4433 - accuracy: 0.8439\n",
      "1500/1500 [==============================] - 3s 2ms/step - loss: 0.5034 - accuracy: 0.8213\n",
      "375/375 [==============================] - 1s 1ms/step - loss: 0.3921 - accuracy: 0.8585\n",
      "1500/1500 [==============================] - 3s 2ms/step - loss: 0.5028 - accuracy: 0.8222\n",
      "375/375 [==============================] - 1s 1ms/step - loss: 0.4239 - accuracy: 0.8468\n",
      "1500/1500 [==============================] - 3s 2ms/step - loss: 0.5072 - accuracy: 0.8231\n",
      "375/375 [==============================] - 1s 1ms/step - loss: 0.4145 - accuracy: 0.8562\n",
      "1500/1500 [==============================] - 3s 2ms/step - loss: 0.5028 - accuracy: 0.8210\n",
      "375/375 [==============================] - 1s 1ms/step - loss: 0.4206 - accuracy: 0.8546\n",
      "1500/1500 [==============================] - 2s 2ms/step - loss: 0.5007 - accuracy: 0.8244\n",
      "375/375 [==============================] - 1s 1ms/step - loss: 0.4846 - accuracy: 0.8301\n",
      "Epoch 1/5\n",
      "1500/1500 [==============================] - 2s 1ms/step - loss: 0.5625 - accuracy: 0.8080\n",
      "Epoch 2/5\n",
      "1500/1500 [==============================] - 2s 1ms/step - loss: 0.4302 - accuracy: 0.8504\n",
      "Epoch 3/5\n",
      "1500/1500 [==============================] - 2s 1ms/step - loss: 0.3915 - accuracy: 0.8627\n",
      "Epoch 4/5\n",
      "1500/1500 [==============================] - 2s 1ms/step - loss: 0.3703 - accuracy: 0.8687\n",
      "Epoch 5/5\n",
      "1500/1500 [==============================] - 2s 1ms/step - loss: 0.3542 - accuracy: 0.8728\n",
      "375/375 [==============================] - 0s 1ms/step - loss: 0.3808 - accuracy: 0.8609\n",
      "Epoch 1/5\n",
      "1500/1500 [==============================] - 2s 1ms/step - loss: 0.5563 - accuracy: 0.8099\n",
      "Epoch 2/5\n",
      "1500/1500 [==============================] - 2s 1ms/step - loss: 0.4133 - accuracy: 0.8554\n",
      "Epoch 3/5\n",
      "1500/1500 [==============================] - 2s 1ms/step - loss: 0.3792 - accuracy: 0.8647\n",
      "Epoch 4/5\n",
      "1500/1500 [==============================] - 2s 1ms/step - loss: 0.3554 - accuracy: 0.8739\n",
      "Epoch 5/5\n",
      "1500/1500 [==============================] - 2s 1ms/step - loss: 0.3399 - accuracy: 0.8797\n",
      "375/375 [==============================] - 0s 914us/step - loss: 0.3734 - accuracy: 0.8654\n",
      "Epoch 1/5\n",
      "1500/1500 [==============================] - 2s 1ms/step - loss: 0.5827 - accuracy: 0.8009\n",
      "Epoch 2/5\n",
      "1500/1500 [==============================] - 2s 1ms/step - loss: 0.4220 - accuracy: 0.8507\n",
      "Epoch 3/5\n",
      "1500/1500 [==============================] - 2s 1ms/step - loss: 0.3855 - accuracy: 0.8612\n",
      "Epoch 4/5\n",
      "1500/1500 [==============================] - 2s 1ms/step - loss: 0.3646 - accuracy: 0.8683\n",
      "Epoch 5/5\n",
      "1500/1500 [==============================] - 2s 1ms/step - loss: 0.3471 - accuracy: 0.8739\n",
      "375/375 [==============================] - 0s 850us/step - loss: 0.3795 - accuracy: 0.8606\n",
      "Epoch 1/5\n",
      "1500/1500 [==============================] - 2s 1ms/step - loss: 0.5759 - accuracy: 0.8012\n",
      "Epoch 2/5\n",
      "1500/1500 [==============================] - 2s 1ms/step - loss: 0.4234 - accuracy: 0.8502\n",
      "Epoch 3/5\n",
      "1500/1500 [==============================] - 2s 1ms/step - loss: 0.3876 - accuracy: 0.8616\n",
      "Epoch 4/5\n",
      "1500/1500 [==============================] - 2s 1ms/step - loss: 0.3622 - accuracy: 0.8700\n",
      "Epoch 5/5\n",
      "1500/1500 [==============================] - 2s 1ms/step - loss: 0.3456 - accuracy: 0.8747\n",
      "375/375 [==============================] - 0s 1ms/step - loss: 0.3711 - accuracy: 0.8669\n",
      "Epoch 1/5\n",
      "1500/1500 [==============================] - 2s 1ms/step - loss: 0.5684 - accuracy: 0.8036\n",
      "Epoch 2/5\n",
      "1500/1500 [==============================] - 2s 1ms/step - loss: 0.4221 - accuracy: 0.8523\n",
      "Epoch 3/5\n",
      "1500/1500 [==============================] - 2s 1ms/step - loss: 0.3853 - accuracy: 0.8622\n",
      "Epoch 4/5\n",
      "1500/1500 [==============================] - 2s 1ms/step - loss: 0.3607 - accuracy: 0.8722\n",
      "Epoch 5/5\n",
      "1500/1500 [==============================] - 2s 1ms/step - loss: 0.3456 - accuracy: 0.8780\n",
      "375/375 [==============================] - 0s 1ms/step - loss: 0.3687 - accuracy: 0.8682\n",
      "Epoch 1/5\n",
      "1500/1500 [==============================] - 2s 1ms/step - loss: 0.5473 - accuracy: 0.8089\n",
      "Epoch 2/5\n",
      "1500/1500 [==============================] - 2s 1ms/step - loss: 0.4142 - accuracy: 0.8522\n",
      "Epoch 3/5\n",
      "1500/1500 [==============================] - 2s 1ms/step - loss: 0.3684 - accuracy: 0.8667\n",
      "Epoch 4/5\n",
      "1500/1500 [==============================] - 2s 1ms/step - loss: 0.3436 - accuracy: 0.8755\n",
      "Epoch 5/5\n",
      "1500/1500 [==============================] - 2s 1ms/step - loss: 0.3241 - accuracy: 0.8824\n",
      "375/375 [==============================] - 0s 1ms/step - loss: 0.3347 - accuracy: 0.8764\n",
      "Epoch 1/5\n",
      "1500/1500 [==============================] - 2s 1ms/step - loss: 0.5379 - accuracy: 0.8157\n",
      "Epoch 2/5\n",
      "1500/1500 [==============================] - 2s 1ms/step - loss: 0.4003 - accuracy: 0.8565\n",
      "Epoch 3/5\n",
      "1500/1500 [==============================] - 2s 1ms/step - loss: 0.3615 - accuracy: 0.8696\n",
      "Epoch 4/5\n",
      "1500/1500 [==============================] - 2s 1ms/step - loss: 0.3372 - accuracy: 0.8776\n",
      "Epoch 5/5\n",
      "1500/1500 [==============================] - 2s 1ms/step - loss: 0.3220 - accuracy: 0.8839\n",
      "375/375 [==============================] - 0s 988us/step - loss: 0.3585 - accuracy: 0.8695\n",
      "Epoch 1/5\n",
      "1500/1500 [==============================] - 2s 1ms/step - loss: 0.5443 - accuracy: 0.8090\n",
      "Epoch 2/5\n",
      "1500/1500 [==============================] - 2s 1ms/step - loss: 0.4157 - accuracy: 0.8520\n",
      "Epoch 3/5\n",
      "1500/1500 [==============================] - 2s 1ms/step - loss: 0.3757 - accuracy: 0.8650\n",
      "Epoch 4/5\n",
      "1500/1500 [==============================] - 2s 1ms/step - loss: 0.3514 - accuracy: 0.8728\n",
      "Epoch 5/5\n",
      "1500/1500 [==============================] - 2s 1ms/step - loss: 0.3294 - accuracy: 0.8802\n",
      "375/375 [==============================] - 0s 981us/step - loss: 0.3449 - accuracy: 0.8792\n",
      "Epoch 1/5\n",
      "1500/1500 [==============================] - 2s 1ms/step - loss: 0.5443 - accuracy: 0.8093\n",
      "Epoch 2/5\n",
      "1500/1500 [==============================] - 2s 1ms/step - loss: 0.4068 - accuracy: 0.8550\n",
      "Epoch 3/5\n",
      "1500/1500 [==============================] - 2s 1ms/step - loss: 0.3681 - accuracy: 0.8676\n",
      "Epoch 4/5\n",
      "1500/1500 [==============================] - 2s 1ms/step - loss: 0.3422 - accuracy: 0.8748\n",
      "Epoch 5/5\n",
      "1500/1500 [==============================] - 2s 1ms/step - loss: 0.3236 - accuracy: 0.8808\n",
      "375/375 [==============================] - 0s 1ms/step - loss: 0.3525 - accuracy: 0.8761\n",
      "Epoch 1/5\n",
      "1500/1500 [==============================] - 2s 1ms/step - loss: 0.5456 - accuracy: 0.8116\n",
      "Epoch 2/5\n",
      "1500/1500 [==============================] - 2s 1ms/step - loss: 0.4057 - accuracy: 0.8563\n",
      "Epoch 3/5\n",
      "1500/1500 [==============================] - 2s 1ms/step - loss: 0.3697 - accuracy: 0.8679\n",
      "Epoch 4/5\n",
      "1500/1500 [==============================] - 2s 1ms/step - loss: 0.3420 - accuracy: 0.8757\n",
      "Epoch 5/5\n",
      "1500/1500 [==============================] - 2s 1ms/step - loss: 0.3219 - accuracy: 0.8830\n",
      "375/375 [==============================] - 1s 1ms/step - loss: 0.3592 - accuracy: 0.8712\n",
      "Epoch 1/5\n",
      "1500/1500 [==============================] - 3s 2ms/step - loss: 0.5014 - accuracy: 0.8227\n",
      "Epoch 2/5\n",
      "1500/1500 [==============================] - 3s 2ms/step - loss: 0.3745 - accuracy: 0.8639\n",
      "Epoch 3/5\n",
      "1500/1500 [==============================] - 3s 2ms/step - loss: 0.3367 - accuracy: 0.8762\n",
      "Epoch 4/5\n",
      "1500/1500 [==============================] - 3s 2ms/step - loss: 0.3142 - accuracy: 0.8844\n",
      "Epoch 5/5\n",
      "1500/1500 [==============================] - 3s 2ms/step - loss: 0.2939 - accuracy: 0.8916\n",
      "375/375 [==============================] - 1s 1ms/step - loss: 0.3092 - accuracy: 0.8872\n",
      "Epoch 1/5\n",
      "1500/1500 [==============================] - 3s 2ms/step - loss: 0.4976 - accuracy: 0.8234\n",
      "Epoch 2/5\n",
      "1500/1500 [==============================] - 3s 2ms/step - loss: 0.3738 - accuracy: 0.8652\n",
      "Epoch 3/5\n",
      "1500/1500 [==============================] - 3s 2ms/step - loss: 0.3362 - accuracy: 0.8773\n",
      "Epoch 4/5\n",
      "1500/1500 [==============================] - 3s 2ms/step - loss: 0.3102 - accuracy: 0.8859\n",
      "Epoch 5/5\n",
      "1500/1500 [==============================] - 3s 2ms/step - loss: 0.2921 - accuracy: 0.8921\n",
      "375/375 [==============================] - 1s 1ms/step - loss: 0.3221 - accuracy: 0.8845\n",
      "Epoch 1/5\n",
      "1500/1500 [==============================] - 3s 2ms/step - loss: 0.5062 - accuracy: 0.8208\n",
      "Epoch 2/5\n",
      "1500/1500 [==============================] - 3s 2ms/step - loss: 0.3762 - accuracy: 0.8635\n",
      "Epoch 3/5\n",
      "1500/1500 [==============================] - 2s 2ms/step - loss: 0.3383 - accuracy: 0.8765\n",
      "Epoch 4/5\n",
      "1500/1500 [==============================] - 2s 2ms/step - loss: 0.3143 - accuracy: 0.8835\n",
      "Epoch 5/5\n",
      "1500/1500 [==============================] - 2s 2ms/step - loss: 0.2957 - accuracy: 0.8920\n",
      "375/375 [==============================] - 1s 1ms/step - loss: 0.3076 - accuracy: 0.8908\n",
      "Epoch 1/5\n",
      "1500/1500 [==============================] - 3s 2ms/step - loss: 0.5024 - accuracy: 0.8216\n",
      "Epoch 2/5\n",
      "1500/1500 [==============================] - 2s 2ms/step - loss: 0.3745 - accuracy: 0.8636\n",
      "Epoch 3/5\n",
      "1500/1500 [==============================] - 2s 2ms/step - loss: 0.3392 - accuracy: 0.8757\n",
      "Epoch 4/5\n",
      "1500/1500 [==============================] - 2s 2ms/step - loss: 0.3130 - accuracy: 0.8846\n",
      "Epoch 5/5\n",
      "1500/1500 [==============================] - 2s 2ms/step - loss: 0.2950 - accuracy: 0.8906\n",
      "375/375 [==============================] - 1s 1ms/step - loss: 0.3321 - accuracy: 0.8816\n",
      "Epoch 1/5\n",
      "1500/1500 [==============================] - 3s 2ms/step - loss: 0.5027 - accuracy: 0.8241\n",
      "Epoch 2/5\n",
      "1500/1500 [==============================] - 2s 2ms/step - loss: 0.3755 - accuracy: 0.8633\n",
      "Epoch 3/5\n",
      "1500/1500 [==============================] - 2s 2ms/step - loss: 0.3363 - accuracy: 0.8762\n",
      "Epoch 4/5\n",
      "1500/1500 [==============================] - 2s 2ms/step - loss: 0.3108 - accuracy: 0.8844\n",
      "Epoch 5/5\n",
      "1500/1500 [==============================] - 2s 1ms/step - loss: 0.2931 - accuracy: 0.8905\n",
      "375/375 [==============================] - 1s 1ms/step - loss: 0.3346 - accuracy: 0.8793\n",
      "Epoch 1/10\n",
      "1500/1500 [==============================] - 2s 1ms/step - loss: 0.5689 - accuracy: 0.8071\n",
      "Epoch 2/10\n",
      "1500/1500 [==============================] - 2s 1ms/step - loss: 0.4348 - accuracy: 0.8488\n",
      "Epoch 3/10\n",
      "1500/1500 [==============================] - 2s 1ms/step - loss: 0.4015 - accuracy: 0.8610\n",
      "Epoch 4/10\n",
      "1500/1500 [==============================] - 2s 1ms/step - loss: 0.3809 - accuracy: 0.8661\n",
      "Epoch 5/10\n",
      "1500/1500 [==============================] - 2s 1ms/step - loss: 0.3623 - accuracy: 0.8714\n",
      "Epoch 6/10\n",
      "1500/1500 [==============================] - 2s 1ms/step - loss: 0.3515 - accuracy: 0.8746\n",
      "Epoch 7/10\n",
      "1500/1500 [==============================] - 2s 1ms/step - loss: 0.3394 - accuracy: 0.8788\n",
      "Epoch 8/10\n",
      "1500/1500 [==============================] - 2s 1ms/step - loss: 0.3297 - accuracy: 0.8807\n",
      "Epoch 9/10\n",
      "1500/1500 [==============================] - 2s 1ms/step - loss: 0.3208 - accuracy: 0.8838\n",
      "Epoch 10/10\n",
      "1500/1500 [==============================] - 2s 1ms/step - loss: 0.3148 - accuracy: 0.8863\n",
      "375/375 [==============================] - 1s 1ms/step - loss: 0.3558 - accuracy: 0.8733\n",
      "Epoch 1/10\n",
      "1500/1500 [==============================] - 2s 1ms/step - loss: 0.5719 - accuracy: 0.8054\n",
      "Epoch 2/10\n",
      "1500/1500 [==============================] - 2s 1ms/step - loss: 0.4176 - accuracy: 0.8526\n",
      "Epoch 3/10\n",
      "1500/1500 [==============================] - 2s 1ms/step - loss: 0.3838 - accuracy: 0.8637\n",
      "Epoch 4/10\n",
      "1500/1500 [==============================] - 2s 1ms/step - loss: 0.3592 - accuracy: 0.8708\n",
      "Epoch 5/10\n",
      "1500/1500 [==============================] - 2s 1ms/step - loss: 0.3414 - accuracy: 0.8785\n",
      "Epoch 6/10\n",
      "1500/1500 [==============================] - 2s 1ms/step - loss: 0.3273 - accuracy: 0.8815\n",
      "Epoch 7/10\n",
      "1500/1500 [==============================] - 2s 1ms/step - loss: 0.3167 - accuracy: 0.8847\n",
      "Epoch 8/10\n",
      "1500/1500 [==============================] - 2s 1ms/step - loss: 0.3074 - accuracy: 0.8880\n",
      "Epoch 9/10\n",
      "1500/1500 [==============================] - 2s 1ms/step - loss: 0.3003 - accuracy: 0.8913\n",
      "Epoch 10/10\n",
      "1500/1500 [==============================] - 2s 1ms/step - loss: 0.2925 - accuracy: 0.8932\n",
      "375/375 [==============================] - 0s 1ms/step - loss: 0.3715 - accuracy: 0.8664\n",
      "Epoch 1/10\n",
      "1500/1500 [==============================] - 2s 1ms/step - loss: 0.5702 - accuracy: 0.8043\n",
      "Epoch 2/10\n",
      "1500/1500 [==============================] - 2s 1ms/step - loss: 0.4179 - accuracy: 0.8528\n",
      "Epoch 3/10\n",
      "1500/1500 [==============================] - 2s 1ms/step - loss: 0.3878 - accuracy: 0.8628\n",
      "Epoch 4/10\n",
      "1500/1500 [==============================] - 2s 1ms/step - loss: 0.3635 - accuracy: 0.8711\n",
      "Epoch 5/10\n",
      "1500/1500 [==============================] - 2s 1ms/step - loss: 0.3487 - accuracy: 0.8749\n",
      "Epoch 6/10\n",
      "1500/1500 [==============================] - 2s 1ms/step - loss: 0.3328 - accuracy: 0.8807\n",
      "Epoch 7/10\n",
      "1500/1500 [==============================] - 2s 1ms/step - loss: 0.3234 - accuracy: 0.8832\n",
      "Epoch 8/10\n",
      "1500/1500 [==============================] - 2s 1ms/step - loss: 0.3126 - accuracy: 0.8874\n",
      "Epoch 9/10\n",
      "1500/1500 [==============================] - 2s 1ms/step - loss: 0.3083 - accuracy: 0.8877\n",
      "Epoch 10/10\n",
      "1500/1500 [==============================] - 2s 1ms/step - loss: 0.3010 - accuracy: 0.8902\n",
      "375/375 [==============================] - 1s 1ms/step - loss: 0.3363 - accuracy: 0.8799\n",
      "Epoch 1/10\n",
      "1500/1500 [==============================] - 2s 1ms/step - loss: 0.5696 - accuracy: 0.8039\n",
      "Epoch 2/10\n",
      "1500/1500 [==============================] - 2s 1ms/step - loss: 0.4260 - accuracy: 0.8495\n",
      "Epoch 3/10\n",
      "1500/1500 [==============================] - 2s 1ms/step - loss: 0.3921 - accuracy: 0.8593\n",
      "Epoch 4/10\n",
      "1500/1500 [==============================] - 2s 1ms/step - loss: 0.3712 - accuracy: 0.8674\n",
      "Epoch 5/10\n",
      "1500/1500 [==============================] - 2s 1ms/step - loss: 0.3513 - accuracy: 0.8739\n",
      "Epoch 6/10\n",
      "1500/1500 [==============================] - 2s 1ms/step - loss: 0.3378 - accuracy: 0.8786\n",
      "Epoch 7/10\n",
      "1500/1500 [==============================] - 2s 1ms/step - loss: 0.3274 - accuracy: 0.8821\n",
      "Epoch 8/10\n",
      "1500/1500 [==============================] - 2s 1ms/step - loss: 0.3150 - accuracy: 0.8850\n",
      "Epoch 9/10\n",
      "1500/1500 [==============================] - 2s 1ms/step - loss: 0.3060 - accuracy: 0.8891\n",
      "Epoch 10/10\n",
      "1500/1500 [==============================] - 2s 1ms/step - loss: 0.2978 - accuracy: 0.8899\n",
      "375/375 [==============================] - 1s 1ms/step - loss: 0.3711 - accuracy: 0.8752\n",
      "Epoch 1/10\n",
      "1500/1500 [==============================] - 2s 1ms/step - loss: 0.5721 - accuracy: 0.8024\n",
      "Epoch 2/10\n",
      "1500/1500 [==============================] - 2s 1ms/step - loss: 0.4295 - accuracy: 0.8495\n",
      "Epoch 3/10\n",
      "1500/1500 [==============================] - 2s 1ms/step - loss: 0.3931 - accuracy: 0.8602\n",
      "Epoch 4/10\n",
      "1500/1500 [==============================] - 2s 1ms/step - loss: 0.3738 - accuracy: 0.8685\n",
      "Epoch 5/10\n",
      "1500/1500 [==============================] - 2s 1ms/step - loss: 0.3607 - accuracy: 0.8721\n",
      "Epoch 6/10\n",
      "1500/1500 [==============================] - 2s 1ms/step - loss: 0.3415 - accuracy: 0.8766\n",
      "Epoch 7/10\n",
      "1500/1500 [==============================] - 2s 1ms/step - loss: 0.3317 - accuracy: 0.8807\n",
      "Epoch 8/10\n",
      "1500/1500 [==============================] - 2s 1ms/step - loss: 0.3204 - accuracy: 0.8840\n",
      "Epoch 9/10\n",
      "1500/1500 [==============================] - 2s 1ms/step - loss: 0.3126 - accuracy: 0.8857\n",
      "Epoch 10/10\n",
      "1500/1500 [==============================] - 2s 1ms/step - loss: 0.3048 - accuracy: 0.8888\n",
      "375/375 [==============================] - 0s 998us/step - loss: 0.3600 - accuracy: 0.8742\n",
      "Epoch 1/10\n",
      "1500/1500 [==============================] - 2s 1ms/step - loss: 0.5436 - accuracy: 0.8114\n",
      "Epoch 2/10\n",
      "1500/1500 [==============================] - 2s 1ms/step - loss: 0.4132 - accuracy: 0.8536\n",
      "Epoch 3/10\n",
      "1500/1500 [==============================] - 2s 1ms/step - loss: 0.3702 - accuracy: 0.8674\n",
      "Epoch 4/10\n",
      "1500/1500 [==============================] - 2s 1ms/step - loss: 0.3430 - accuracy: 0.8784\n",
      "Epoch 5/10\n",
      "1500/1500 [==============================] - 2s 1ms/step - loss: 0.3278 - accuracy: 0.8801\n",
      "Epoch 6/10\n",
      "1500/1500 [==============================] - 2s 1ms/step - loss: 0.3114 - accuracy: 0.8858\n",
      "Epoch 7/10\n",
      "1500/1500 [==============================] - 2s 1ms/step - loss: 0.2974 - accuracy: 0.8914\n",
      "Epoch 8/10\n",
      "1500/1500 [==============================] - 2s 1ms/step - loss: 0.2883 - accuracy: 0.8934\n",
      "Epoch 9/10\n",
      "1500/1500 [==============================] - 2s 1ms/step - loss: 0.2795 - accuracy: 0.8973\n",
      "Epoch 10/10\n",
      "1500/1500 [==============================] - 2s 1ms/step - loss: 0.2707 - accuracy: 0.8999\n",
      "375/375 [==============================] - 0s 1ms/step - loss: 0.3365 - accuracy: 0.8786\n",
      "Epoch 1/10\n",
      "1500/1500 [==============================] - 2s 1ms/step - loss: 0.5439 - accuracy: 0.8122\n",
      "Epoch 2/10\n",
      "1500/1500 [==============================] - 2s 1ms/step - loss: 0.4086 - accuracy: 0.8555\n",
      "Epoch 3/10\n",
      "1500/1500 [==============================] - 2s 1ms/step - loss: 0.3657 - accuracy: 0.8707\n",
      "Epoch 4/10\n",
      "1500/1500 [==============================] - 2s 1ms/step - loss: 0.3433 - accuracy: 0.8761\n",
      "Epoch 5/10\n",
      "1500/1500 [==============================] - 2s 1ms/step - loss: 0.3238 - accuracy: 0.8819\n",
      "Epoch 6/10\n",
      "1500/1500 [==============================] - 2s 1ms/step - loss: 0.3057 - accuracy: 0.8894\n",
      "Epoch 7/10\n",
      "1500/1500 [==============================] - 2s 1ms/step - loss: 0.2919 - accuracy: 0.8937\n",
      "Epoch 8/10\n",
      "1500/1500 [==============================] - 2s 1ms/step - loss: 0.2839 - accuracy: 0.8960\n",
      "Epoch 9/10\n",
      "1500/1500 [==============================] - 2s 1ms/step - loss: 0.2764 - accuracy: 0.8978\n",
      "Epoch 10/10\n",
      "1500/1500 [==============================] - 2s 1ms/step - loss: 0.2674 - accuracy: 0.9020\n",
      "375/375 [==============================] - 0s 1ms/step - loss: 0.3419 - accuracy: 0.8767\n",
      "Epoch 1/10\n",
      "1500/1500 [==============================] - 2s 1ms/step - loss: 0.5454 - accuracy: 0.8098\n",
      "Epoch 2/10\n",
      "1500/1500 [==============================] - 2s 1ms/step - loss: 0.4057 - accuracy: 0.8551\n",
      "Epoch 3/10\n",
      "1500/1500 [==============================] - 2s 1ms/step - loss: 0.3658 - accuracy: 0.8683\n",
      "Epoch 4/10\n",
      "1500/1500 [==============================] - 2s 1ms/step - loss: 0.3419 - accuracy: 0.8751\n",
      "Epoch 5/10\n",
      "1500/1500 [==============================] - 2s 1ms/step - loss: 0.3210 - accuracy: 0.8824\n",
      "Epoch 6/10\n",
      "1500/1500 [==============================] - 2s 1ms/step - loss: 0.3054 - accuracy: 0.8883\n",
      "Epoch 7/10\n",
      "1500/1500 [==============================] - 2s 1ms/step - loss: 0.2937 - accuracy: 0.8925\n",
      "Epoch 8/10\n",
      "1500/1500 [==============================] - 2s 1ms/step - loss: 0.2814 - accuracy: 0.8958\n",
      "Epoch 9/10\n",
      "1500/1500 [==============================] - 2s 1ms/step - loss: 0.2714 - accuracy: 0.9005\n",
      "Epoch 10/10\n",
      "1500/1500 [==============================] - 2s 1ms/step - loss: 0.2643 - accuracy: 0.9019\n",
      "375/375 [==============================] - 1s 1ms/step - loss: 0.3347 - accuracy: 0.8801\n",
      "Epoch 1/10\n",
      "1500/1500 [==============================] - 2s 1ms/step - loss: 0.5337 - accuracy: 0.8159\n",
      "Epoch 2/10\n",
      "1500/1500 [==============================] - 2s 1ms/step - loss: 0.4016 - accuracy: 0.8572\n",
      "Epoch 3/10\n",
      "1500/1500 [==============================] - 2s 1ms/step - loss: 0.3632 - accuracy: 0.8683\n",
      "Epoch 4/10\n",
      "1500/1500 [==============================] - 2s 1ms/step - loss: 0.3393 - accuracy: 0.8762\n",
      "Epoch 5/10\n",
      "1500/1500 [==============================] - 2s 1ms/step - loss: 0.3209 - accuracy: 0.8823\n",
      "Epoch 6/10\n",
      "1500/1500 [==============================] - 2s 1ms/step - loss: 0.3087 - accuracy: 0.8866\n",
      "Epoch 7/10\n",
      "1500/1500 [==============================] - 2s 1ms/step - loss: 0.2959 - accuracy: 0.8913\n",
      "Epoch 8/10\n",
      "1500/1500 [==============================] - 2s 1ms/step - loss: 0.2844 - accuracy: 0.8957\n",
      "Epoch 9/10\n",
      "1500/1500 [==============================] - 2s 1ms/step - loss: 0.2743 - accuracy: 0.8991\n",
      "Epoch 10/10\n",
      "1500/1500 [==============================] - 2s 1ms/step - loss: 0.2677 - accuracy: 0.9015\n",
      "375/375 [==============================] - 1s 1ms/step - loss: 0.3271 - accuracy: 0.8867\n",
      "Epoch 1/10\n",
      "1500/1500 [==============================] - 2s 1ms/step - loss: 0.5400 - accuracy: 0.8134\n",
      "Epoch 2/10\n",
      "1500/1500 [==============================] - 2s 1ms/step - loss: 0.4085 - accuracy: 0.8564\n",
      "Epoch 3/10\n",
      "1500/1500 [==============================] - 2s 1ms/step - loss: 0.3659 - accuracy: 0.8682\n",
      "Epoch 4/10\n",
      "1500/1500 [==============================] - 2s 1ms/step - loss: 0.3414 - accuracy: 0.8767\n",
      "Epoch 5/10\n",
      "1500/1500 [==============================] - 2s 1ms/step - loss: 0.3214 - accuracy: 0.8828\n",
      "Epoch 6/10\n",
      "1500/1500 [==============================] - 2s 1ms/step - loss: 0.3079 - accuracy: 0.8860\n",
      "Epoch 7/10\n",
      "1500/1500 [==============================] - 2s 1ms/step - loss: 0.2948 - accuracy: 0.8910\n",
      "Epoch 8/10\n",
      "1500/1500 [==============================] - 2s 1ms/step - loss: 0.2828 - accuracy: 0.8956\n",
      "Epoch 9/10\n",
      "1500/1500 [==============================] - 2s 1ms/step - loss: 0.2733 - accuracy: 0.8998\n",
      "Epoch 10/10\n",
      "1500/1500 [==============================] - 2s 1ms/step - loss: 0.2642 - accuracy: 0.9031\n",
      "375/375 [==============================] - 0s 1ms/step - loss: 0.3561 - accuracy: 0.8725\n",
      "Epoch 1/10\n",
      "1500/1500 [==============================] - 3s 2ms/step - loss: 0.5024 - accuracy: 0.8221\n",
      "Epoch 2/10\n",
      "1500/1500 [==============================] - 2s 2ms/step - loss: 0.3794 - accuracy: 0.8639\n",
      "Epoch 3/10\n",
      "1500/1500 [==============================] - ETA: 0s - loss: 0.3392 - accuracy: 0.87 - 3s 2ms/step - loss: 0.3387 - accuracy: 0.8763\n",
      "Epoch 4/10\n",
      "1500/1500 [==============================] - 3s 2ms/step - loss: 0.3145 - accuracy: 0.8863\n",
      "Epoch 5/10\n",
      "1500/1500 [==============================] - 3s 2ms/step - loss: 0.2959 - accuracy: 0.8915\n",
      "Epoch 6/10\n",
      "1500/1500 [==============================] - 3s 2ms/step - loss: 0.2800 - accuracy: 0.8969\n",
      "Epoch 7/10\n",
      "1500/1500 [==============================] - 3s 2ms/step - loss: 0.2672 - accuracy: 0.9011\n",
      "Epoch 8/10\n",
      "1500/1500 [==============================] - 3s 2ms/step - loss: 0.2545 - accuracy: 0.9042\n",
      "Epoch 9/10\n",
      "1500/1500 [==============================] - 3s 2ms/step - loss: 0.2444 - accuracy: 0.9085\n",
      "Epoch 10/10\n",
      "1500/1500 [==============================] - 2s 2ms/step - loss: 0.2322 - accuracy: 0.9131\n",
      "375/375 [==============================] - 1s 1ms/step - loss: 0.3213 - accuracy: 0.8845\n",
      "Epoch 1/10\n",
      "1500/1500 [==============================] - 3s 2ms/step - loss: 0.5046 - accuracy: 0.8237\n",
      "Epoch 2/10\n",
      "1500/1500 [==============================] - 2s 2ms/step - loss: 0.3760 - accuracy: 0.8653\n",
      "Epoch 3/10\n",
      "1500/1500 [==============================] - 2s 2ms/step - loss: 0.3355 - accuracy: 0.8767\n",
      "Epoch 4/10\n",
      "1500/1500 [==============================] - 2s 2ms/step - loss: 0.3111 - accuracy: 0.8861\n",
      "Epoch 5/10\n",
      "1500/1500 [==============================] - 2s 2ms/step - loss: 0.2900 - accuracy: 0.8933\n",
      "Epoch 6/10\n",
      "1500/1500 [==============================] - 3s 2ms/step - loss: 0.2782 - accuracy: 0.8963\n",
      "Epoch 7/10\n",
      "1500/1500 [==============================] - 3s 2ms/step - loss: 0.2633 - accuracy: 0.9027\n",
      "Epoch 8/10\n",
      "1500/1500 [==============================] - 3s 2ms/step - loss: 0.2517 - accuracy: 0.9072\n",
      "Epoch 9/10\n",
      "1500/1500 [==============================] - 3s 2ms/step - loss: 0.2418 - accuracy: 0.9106\n",
      "Epoch 10/10\n",
      "1500/1500 [==============================] - 3s 2ms/step - loss: 0.2322 - accuracy: 0.9141\n",
      "375/375 [==============================] - 1s 1ms/step - loss: 0.3247 - accuracy: 0.8828\n",
      "Epoch 1/10\n",
      "1500/1500 [==============================] - 3s 2ms/step - loss: 0.5048 - accuracy: 0.8211\n",
      "Epoch 2/10\n",
      "1500/1500 [==============================] - 2s 2ms/step - loss: 0.3784 - accuracy: 0.8625\n",
      "Epoch 3/10\n",
      "1500/1500 [==============================] - 3s 2ms/step - loss: 0.3339 - accuracy: 0.8770\n",
      "Epoch 4/10\n",
      "1500/1500 [==============================] - 3s 2ms/step - loss: 0.3103 - accuracy: 0.8874\n",
      "Epoch 5/10\n",
      "1500/1500 [==============================] - 3s 2ms/step - loss: 0.2904 - accuracy: 0.8931\n",
      "Epoch 6/10\n",
      "1500/1500 [==============================] - 2s 2ms/step - loss: 0.2777 - accuracy: 0.8970\n",
      "Epoch 7/10\n",
      "1500/1500 [==============================] - 3s 2ms/step - loss: 0.2641 - accuracy: 0.8995\n",
      "Epoch 8/10\n",
      "1500/1500 [==============================] - 2s 2ms/step - loss: 0.2503 - accuracy: 0.9053\n",
      "Epoch 9/10\n",
      "1500/1500 [==============================] - 2s 2ms/step - loss: 0.2398 - accuracy: 0.9113\n",
      "Epoch 10/10\n",
      "1500/1500 [==============================] - 2s 2ms/step - loss: 0.2338 - accuracy: 0.9120\n",
      "375/375 [==============================] - 1s 1ms/step - loss: 0.3019 - accuracy: 0.8932\n",
      "Epoch 1/10\n",
      "1500/1500 [==============================] - 3s 2ms/step - loss: 0.5012 - accuracy: 0.8221\n",
      "Epoch 2/10\n",
      "1500/1500 [==============================] - 2s 2ms/step - loss: 0.3762 - accuracy: 0.8625\n",
      "Epoch 3/10\n",
      "1500/1500 [==============================] - 2s 2ms/step - loss: 0.3370 - accuracy: 0.8751\n",
      "Epoch 4/10\n",
      "1500/1500 [==============================] - 2s 2ms/step - loss: 0.3110 - accuracy: 0.8852\n",
      "Epoch 5/10\n",
      "1500/1500 [==============================] - 2s 2ms/step - loss: 0.2923 - accuracy: 0.8909\n",
      "Epoch 6/10\n",
      "1500/1500 [==============================] - 2s 2ms/step - loss: 0.2769 - accuracy: 0.8968\n",
      "Epoch 7/10\n",
      "1500/1500 [==============================] - 2s 2ms/step - loss: 0.2636 - accuracy: 0.9007\n",
      "Epoch 8/10\n",
      "1500/1500 [==============================] - 2s 2ms/step - loss: 0.2535 - accuracy: 0.9036\n",
      "Epoch 9/10\n",
      "1500/1500 [==============================] - 3s 2ms/step - loss: 0.2420 - accuracy: 0.9078\n",
      "Epoch 10/10\n",
      "1500/1500 [==============================] - 2s 2ms/step - loss: 0.2322 - accuracy: 0.9121\n",
      "375/375 [==============================] - 1s 1ms/step - loss: 0.3247 - accuracy: 0.8882\n",
      "Epoch 1/10\n",
      "1500/1500 [==============================] - 3s 2ms/step - loss: 0.5028 - accuracy: 0.8226\n",
      "Epoch 2/10\n",
      "1500/1500 [==============================] - 2s 2ms/step - loss: 0.3763 - accuracy: 0.8633\n",
      "Epoch 3/10\n",
      "1500/1500 [==============================] - 2s 2ms/step - loss: 0.3355 - accuracy: 0.8773\n",
      "Epoch 4/10\n",
      "1500/1500 [==============================] - 2s 2ms/step - loss: 0.3097 - accuracy: 0.8857\n",
      "Epoch 5/10\n",
      "1500/1500 [==============================] - 2s 2ms/step - loss: 0.2926 - accuracy: 0.8918\n",
      "Epoch 6/10\n",
      "1500/1500 [==============================] - 2s 2ms/step - loss: 0.2731 - accuracy: 0.8997\n",
      "Epoch 7/10\n",
      "1500/1500 [==============================] - 3s 2ms/step - loss: 0.2632 - accuracy: 0.9022\n",
      "Epoch 8/10\n",
      "1500/1500 [==============================] - 2s 2ms/step - loss: 0.2508 - accuracy: 0.9051\n",
      "Epoch 9/10\n",
      "1500/1500 [==============================] - 3s 2ms/step - loss: 0.2386 - accuracy: 0.9105\n",
      "Epoch 10/10\n",
      "1500/1500 [==============================] - 2s 2ms/step - loss: 0.2296 - accuracy: 0.9146\n",
      "375/375 [==============================] - 1s 1ms/step - loss: 0.3057 - accuracy: 0.8936\n",
      "Epoch 1/10\n",
      "1875/1875 [==============================] - 3s 2ms/step - loss: 0.4865 - accuracy: 0.8278\n",
      "Epoch 2/10\n",
      "1875/1875 [==============================] - 3s 2ms/step - loss: 0.3624 - accuracy: 0.8688\n",
      "Epoch 3/10\n",
      "1875/1875 [==============================] - 3s 2ms/step - loss: 0.3282 - accuracy: 0.8804\n",
      "Epoch 4/10\n",
      "1875/1875 [==============================] - 3s 2ms/step - loss: 0.3038 - accuracy: 0.8869\n",
      "Epoch 5/10\n",
      "1875/1875 [==============================] - 3s 2ms/step - loss: 0.2860 - accuracy: 0.8946\n",
      "Epoch 6/10\n",
      "1875/1875 [==============================] - 3s 2ms/step - loss: 0.2702 - accuracy: 0.8992\n",
      "Epoch 7/10\n",
      "1875/1875 [==============================] - 3s 2ms/step - loss: 0.2556 - accuracy: 0.9040\n",
      "Epoch 8/10\n",
      "1875/1875 [==============================] - 3s 2ms/step - loss: 0.2459 - accuracy: 0.9079\n",
      "Epoch 9/10\n",
      "1875/1875 [==============================] - 3s 2ms/step - loss: 0.2365 - accuracy: 0.9115\n",
      "Epoch 10/10\n",
      "1875/1875 [==============================] - 3s 2ms/step - loss: 0.2261 - accuracy: 0.9148\n"
     ]
    },
    {
     "data": {
      "text/plain": [
       "GridSearchCV(cv=5,\n",
       "             estimator=<keras.wrappers.scikit_learn.KerasClassifier object at 0x0000022C57141430>,\n",
       "             param_grid={'epochs': [1, 5, 10], 'hidden_size': [32, 64, 256]})"
      ]
     },
     "execution_count": 15,
     "metadata": {},
     "output_type": "execute_result"
    }
   ],
   "source": [
    "from tensorflow.keras.wrappers.scikit_learn import KerasClassifier, KerasRegressor\n",
    "from sklearn.model_selection import GridSearchCV\n",
    "\n",
    "def make_model(optimizer=\"adam\", hidden_size=128):\n",
    "    model = K.models.Sequential([\n",
    "        K.layers.Flatten(input_shape=(28, 28)),\n",
    "        K.layers.Dense(hidden_size, input_shape=(784, ), activation='relu'),\n",
    "        K.layers.Dense(10)\n",
    "    ])\n",
    "    model.compile(optimizer=optimizer,\n",
    "                  loss=K.losses.SparseCategoricalCrossentropy(from_logits=True),\n",
    "                  metrics=['accuracy'])\n",
    "    return model\n",
    "\n",
    "clf = KerasClassifier(make_model)\n",
    "param_grid = {'epochs': [1, 5, 10],\n",
    "              'hidden_size': [32, 64, 256]}\n",
    "grid = GridSearchCV(clf, param_grid=param_grid, cv=5)\n",
    "grid.fit(train_images, train_labels)"
   ]
  },
  {
   "cell_type": "code",
   "execution_count": null,
   "metadata": {
    "id": "C-kuUrnerufU",
    "outputId": "d6b5f27a-5bf6-4419-8f10-1a74c9eacb9b",
    "pycharm": {
     "name": "#%%\n"
    }
   },
   "outputs": [
    {
     "data": {
      "text/html": [
       "<div>\n",
       "<style scoped>\n",
       "    .dataframe tbody tr th:only-of-type {\n",
       "        vertical-align: middle;\n",
       "    }\n",
       "\n",
       "    .dataframe tbody tr th {\n",
       "        vertical-align: top;\n",
       "    }\n",
       "\n",
       "    .dataframe thead th {\n",
       "        text-align: right;\n",
       "    }\n",
       "</style>\n",
       "<table border=\"1\" class=\"dataframe\">\n",
       "  <thead>\n",
       "    <tr style=\"text-align: right;\">\n",
       "      <th></th>\n",
       "      <th></th>\n",
       "      <th>mean_test_score</th>\n",
       "      <th>split0_test_score</th>\n",
       "      <th>split1_test_score</th>\n",
       "      <th>split2_test_score</th>\n",
       "      <th>split3_test_score</th>\n",
       "      <th>split4_test_score</th>\n",
       "    </tr>\n",
       "    <tr>\n",
       "      <th>param_epochs</th>\n",
       "      <th>param_hidden_size</th>\n",
       "      <th></th>\n",
       "      <th></th>\n",
       "      <th></th>\n",
       "      <th></th>\n",
       "      <th></th>\n",
       "      <th></th>\n",
       "    </tr>\n",
       "  </thead>\n",
       "  <tbody>\n",
       "    <tr>\n",
       "      <th rowspan=\"3\" valign=\"top\">1</th>\n",
       "      <th>32</th>\n",
       "      <td>0.837983</td>\n",
       "      <td>0.846250</td>\n",
       "      <td>0.837000</td>\n",
       "      <td>0.821417</td>\n",
       "      <td>0.850417</td>\n",
       "      <td>0.834833</td>\n",
       "    </tr>\n",
       "    <tr>\n",
       "      <th>64</th>\n",
       "      <td>0.848783</td>\n",
       "      <td>0.847917</td>\n",
       "      <td>0.847417</td>\n",
       "      <td>0.857250</td>\n",
       "      <td>0.847417</td>\n",
       "      <td>0.843917</td>\n",
       "    </tr>\n",
       "    <tr>\n",
       "      <th>256</th>\n",
       "      <td>0.849250</td>\n",
       "      <td>0.858500</td>\n",
       "      <td>0.846833</td>\n",
       "      <td>0.856250</td>\n",
       "      <td>0.854583</td>\n",
       "      <td>0.830083</td>\n",
       "    </tr>\n",
       "    <tr>\n",
       "      <th rowspan=\"3\" valign=\"top\">5</th>\n",
       "      <th>32</th>\n",
       "      <td>0.864400</td>\n",
       "      <td>0.860917</td>\n",
       "      <td>0.865417</td>\n",
       "      <td>0.860583</td>\n",
       "      <td>0.866917</td>\n",
       "      <td>0.868167</td>\n",
       "    </tr>\n",
       "    <tr>\n",
       "      <th>64</th>\n",
       "      <td>0.874500</td>\n",
       "      <td>0.876417</td>\n",
       "      <td>0.869500</td>\n",
       "      <td>0.879250</td>\n",
       "      <td>0.876083</td>\n",
       "      <td>0.871250</td>\n",
       "    </tr>\n",
       "    <tr>\n",
       "      <th>256</th>\n",
       "      <td>0.884683</td>\n",
       "      <td>0.887167</td>\n",
       "      <td>0.884500</td>\n",
       "      <td>0.890833</td>\n",
       "      <td>0.881583</td>\n",
       "      <td>0.879333</td>\n",
       "    </tr>\n",
       "    <tr>\n",
       "      <th rowspan=\"3\" valign=\"top\">10</th>\n",
       "      <th>32</th>\n",
       "      <td>0.873833</td>\n",
       "      <td>0.873333</td>\n",
       "      <td>0.866417</td>\n",
       "      <td>0.879917</td>\n",
       "      <td>0.875250</td>\n",
       "      <td>0.874250</td>\n",
       "    </tr>\n",
       "    <tr>\n",
       "      <th>64</th>\n",
       "      <td>0.878917</td>\n",
       "      <td>0.878583</td>\n",
       "      <td>0.876750</td>\n",
       "      <td>0.880083</td>\n",
       "      <td>0.886667</td>\n",
       "      <td>0.872500</td>\n",
       "    </tr>\n",
       "    <tr>\n",
       "      <th>256</th>\n",
       "      <td>0.888467</td>\n",
       "      <td>0.884500</td>\n",
       "      <td>0.882833</td>\n",
       "      <td>0.893250</td>\n",
       "      <td>0.888167</td>\n",
       "      <td>0.893583</td>\n",
       "    </tr>\n",
       "  </tbody>\n",
       "</table>\n",
       "</div>"
      ],
      "text/plain": [
       "                                mean_test_score  split0_test_score  \\\n",
       "param_epochs param_hidden_size                                       \n",
       "1            32                        0.837983           0.846250   \n",
       "             64                        0.848783           0.847917   \n",
       "             256                       0.849250           0.858500   \n",
       "5            32                        0.864400           0.860917   \n",
       "             64                        0.874500           0.876417   \n",
       "             256                       0.884683           0.887167   \n",
       "10           32                        0.873833           0.873333   \n",
       "             64                        0.878917           0.878583   \n",
       "             256                       0.888467           0.884500   \n",
       "\n",
       "                                split1_test_score  split2_test_score  \\\n",
       "param_epochs param_hidden_size                                         \n",
       "1            32                          0.837000           0.821417   \n",
       "             64                          0.847417           0.857250   \n",
       "             256                         0.846833           0.856250   \n",
       "5            32                          0.865417           0.860583   \n",
       "             64                          0.869500           0.879250   \n",
       "             256                         0.884500           0.890833   \n",
       "10           32                          0.866417           0.879917   \n",
       "             64                          0.876750           0.880083   \n",
       "             256                         0.882833           0.893250   \n",
       "\n",
       "                                split3_test_score  split4_test_score  \n",
       "param_epochs param_hidden_size                                        \n",
       "1            32                          0.850417           0.834833  \n",
       "             64                          0.847417           0.843917  \n",
       "             256                         0.854583           0.830083  \n",
       "5            32                          0.866917           0.868167  \n",
       "             64                          0.876083           0.871250  \n",
       "             256                         0.881583           0.879333  \n",
       "10           32                          0.875250           0.874250  \n",
       "             64                          0.886667           0.872500  \n",
       "             256                         0.888167           0.893583  "
      ]
     },
     "execution_count": 19,
     "metadata": {},
     "output_type": "execute_result"
    }
   ],
   "source": [
    "res = pd.DataFrame(grid.cv_results_)\n",
    "res.pivot_table(index=['param_epochs', 'param_hidden_size'],\n",
    "                values=[ 'split0_test_score','split1_test_score','split2_test_score','split3_test_score','split4_test_score','mean_test_score'])"
   ]
  },
  {
   "cell_type": "markdown",
   "metadata": {
    "id": "yG20j-njsmH2",
    "pycharm": {
     "name": "#%% md\n"
    }
   },
   "source": [
    "## II. Convolutional Neural Networks\n",
    "\n",
    "### Ideas\n",
    "- Dense layers may contain redudent connections\n",
    "- Some information should be invariant to spacial translation\n",
    "- The number of parameters can be reduced if certain weights share the same value.\n",
    "\n",
    "<img src=\"https://encrypted-tbn0.gstatic.com/images?q=tbn%3AANd9GcS4LZdFg5QPbgDb-jvP-YT0N51eRkWg45uF0ybsB5k0Ubr0-gOC&usqp=CAU\" width=\"400\">"
   ]
  },
  {
   "cell_type": "markdown",
   "metadata": {
    "id": "swsVEzVaIGS1",
    "pycharm": {
     "name": "#%% md\n"
    }
   },
   "source": [
    "## Definition of Convolution\n",
    "\n",
    "**Continous convolution**: The convolution of two real-valued function $f, g$ is a function defined as\n",
    "$$(f*g)(x) := \\int_{-\\infty}^\\infty f(t)g(x-t)dt$$\n",
    "\n",
    "<img src=\"https://i.stack.imgur.com/oJ5Za.png\" width=\"300\"><img src=\"https://fiveko.com/assets/pics/math/gauss1d_shape.jpg\" width=\"300\">\n",
    "\n",
    "**Discrete convolution**: The convolution of two sequence $\\{f[n]\\}_{n=-\\infty}^\\infty$ and $\\{g[n]\\}_{n=-\\infty}^\\infty$ is a sequence defined as\n",
    "$$(f*g)[n] := \\sum_{t=-\\infty}^\\infty f[t]g[n-t]$$\n"
   ]
  },
  {
   "cell_type": "markdown",
   "metadata": {
    "id": "x9W2eW2JNlKg",
    "pycharm": {
     "name": "#%% md\n"
    }
   },
   "source": [
    "## 2D Convolution Layer\n",
    "<img src=\"https://cdn-media-1.freecodecamp.org/images/Gjxh-aApWTzIRI1UNmGnNLrk8OKsQaf2tlDu\" width=\"600\">"
   ]
  },
  {
   "cell_type": "markdown",
   "metadata": {
    "id": "M0CrFLT3Oo8y",
    "pycharm": {
     "name": "#%% md\n"
    }
   },
   "source": [
    "**2D smoothing with Gaussian kernel**\n",
    "\n",
    "<img src=\"https://www.cs.umd.edu/class/fall2016/cmsc426/matlab/filters/html/filters_tutorial_03.png\" width=\"400\"><img src=\"https://www.mathworks.com/help/examples/stats/win64/ComputeTheMultivariateNormalPdfExample_01.png\" width=\"200\">\n",
    "\n",
    "**Edge detection**\n",
    "\n",
    "<img src=\"https://x-wei.github.io/images/Ng_DLMooc_c4wk1/pasted_image004.png\" width=\"400\">"
   ]
  },
  {
   "cell_type": "markdown",
   "metadata": {
    "id": "MW9tmrRSK-T3",
    "pycharm": {
     "name": "#%% md\n"
    }
   },
   "source": [
    "## LeNet5 on MNIST\n",
    "\n",
    "Yann LeCun, Leon Bottou, Yosuha Bengio and Patrick Haffner proposed a neural network architecture for handwritten and machine-printed character recognition in 1990’s which they called LeNet-5. It is one of the early example of a convolutional neural network\n",
    "\n",
    "<img src=\"https://miro.medium.com/max/4308/1*1TI1aGBZ4dybR6__DI9dzA.png\" width=\"600\">\n",
    "\n",
    "Reference:\n",
    "\n",
    "LeCun, Yann, et al. \"Gradient-based learning applied to document recognition.\" Proceedings of the IEEE 86.11 (1998): 2278-2324."
   ]
  },
  {
   "cell_type": "markdown",
   "metadata": {
    "id": "uxIG1f5zOgT1",
    "pycharm": {
     "name": "#%% md\n"
    }
   },
   "source": [
    "## Max-Pooling Layer\n",
    "<img src=\"https://computersciencewiki.org/images/8/8a/MaxpoolSample2.png\" width=\"500\">"
   ]
  },
  {
   "cell_type": "code",
   "execution_count": 25,
   "metadata": {
    "id": "Xn5zEZiuQevA",
    "outputId": "31fcb7af-a613-43d3-c7b3-5a5f1b8cb2ef",
    "colab": {
     "base_uri": "https://localhost:8080/"
    },
    "executionInfo": {
     "status": "ok",
     "timestamp": 1698279374222,
     "user_tz": 240,
     "elapsed": 2555,
     "user": {
      "displayName": "Joe Burdis",
      "userId": "05388749857082436046"
     }
    },
    "pycharm": {
     "name": "#%%\n"
    }
   },
   "outputs": [
    {
     "output_type": "stream",
     "name": "stdout",
     "text": [
      "Downloading data from https://storage.googleapis.com/tensorflow/tf-keras-datasets/mnist.npz\n",
      "11490434/11490434 [==============================] - 2s 0us/step\n",
      "(60000, 28, 28) (10000, 28, 28)\n"
     ]
    }
   ],
   "source": [
    "# Load and prepare the MNIST dataset.\n",
    "mnist = tf.keras.datasets.mnist\n",
    "(x_train, y_train), (x_test, y_test) = mnist.load_data()\n",
    "\n",
    "# Convert the data from integers to floating-point numbers\n",
    "x_train, x_test = x_train / 255.0, x_test / 255.0\n",
    "\n",
    "print(x_train.shape, x_test.shape)"
   ]
  },
  {
   "cell_type": "code",
   "source": [
    "(9*6+1)*16"
   ],
   "metadata": {
    "colab": {
     "base_uri": "https://localhost:8080/"
    },
    "id": "gGH-QkhvYL4v",
    "executionInfo": {
     "status": "ok",
     "timestamp": 1698280070652,
     "user_tz": 240,
     "elapsed": 3,
     "user": {
      "displayName": "Joe Burdis",
      "userId": "05388749857082436046"
     }
    },
    "outputId": "87bef9b2-0a00-4a38-8d52-2e9bdb363863",
    "pycharm": {
     "name": "#%%\n"
    }
   },
   "execution_count": 29,
   "outputs": [
    {
     "output_type": "execute_result",
     "data": {
      "text/plain": [
       "880"
      ]
     },
     "metadata": {},
     "execution_count": 29
    }
   ]
  },
  {
   "cell_type": "code",
   "execution_count": 27,
   "metadata": {
    "id": "beP425_zO9rQ",
    "executionInfo": {
     "status": "ok",
     "timestamp": 1698279470405,
     "user_tz": 240,
     "elapsed": 483,
     "user": {
      "displayName": "Joe Burdis",
      "userId": "05388749857082436046"
     }
    },
    "pycharm": {
     "name": "#%%\n"
    }
   },
   "outputs": [],
   "source": [
    "model_cnn = tf.keras.Sequential()\n",
    "\n",
    "model_cnn.add(tf.keras.layers.Conv2D(filters=6,\n",
    "                                 kernel_size=(3, 3),\n",
    "                                 activation='relu',\n",
    "                                 input_shape=(28, 28, 1)))\n",
    "\n",
    "model_cnn.add(tf.keras.layers.Conv2D(filters=16,\n",
    "                                 kernel_size=(3, 3),\n",
    "                                 activation='relu'))\n",
    "\n",
    "model_cnn.add(tf.keras.layers.AveragePooling2D())\n",
    "\n",
    "model_cnn.add(tf.keras.layers.Flatten())\n",
    "\n",
    "model_cnn.add(tf.keras.layers.Dense(units=120,\n",
    "                       activation='relu'))\n",
    "model_cnn.add(tf.keras.layers.Dense(units=84,\n",
    "                       activation='relu'))\n",
    "model_cnn.add(tf.keras.layers.Dense(units=10,\n",
    "                       activation='softmax'))"
   ]
  },
  {
   "cell_type": "code",
   "execution_count": 28,
   "metadata": {
    "id": "-9exx1n6QUsu",
    "outputId": "fc5d90c8-b1c9-4090-cfd3-b9a4801d97c6",
    "colab": {
     "base_uri": "https://localhost:8080/"
    },
    "executionInfo": {
     "status": "ok",
     "timestamp": 1698279471259,
     "user_tz": 240,
     "elapsed": 364,
     "user": {
      "displayName": "Joe Burdis",
      "userId": "05388749857082436046"
     }
    },
    "pycharm": {
     "name": "#%%\n"
    }
   },
   "outputs": [
    {
     "output_type": "stream",
     "name": "stdout",
     "text": [
      "Model: \"sequential_4\"\n",
      "_________________________________________________________________\n",
      " Layer (type)                Output Shape              Param #   \n",
      "=================================================================\n",
      " conv2d_2 (Conv2D)           (None, 26, 26, 6)         60        \n",
      "                                                                 \n",
      " conv2d_3 (Conv2D)           (None, 24, 24, 16)        880       \n",
      "                                                                 \n",
      " average_pooling2d_1 (Avera  (None, 12, 12, 16)        0         \n",
      " gePooling2D)                                                    \n",
      "                                                                 \n",
      " flatten_4 (Flatten)         (None, 2304)              0         \n",
      "                                                                 \n",
      " dense_9 (Dense)             (None, 120)               276600    \n",
      "                                                                 \n",
      " dense_10 (Dense)            (None, 84)                10164     \n",
      "                                                                 \n",
      " dense_11 (Dense)            (None, 10)                850       \n",
      "                                                                 \n",
      "=================================================================\n",
      "Total params: 288554 (1.10 MB)\n",
      "Trainable params: 288554 (1.10 MB)\n",
      "Non-trainable params: 0 (0.00 Byte)\n",
      "_________________________________________________________________\n"
     ]
    }
   ],
   "source": [
    "model_cnn.summary()"
   ]
  },
  {
   "cell_type": "code",
   "execution_count": null,
   "metadata": {
    "id": "a3oVJJY9QYJ4",
    "pycharm": {
     "name": "#%%\n"
    }
   },
   "outputs": [],
   "source": [
    "model_cnn.compile(loss=tf.keras.losses.SparseCategoricalCrossentropy(from_logits=True),\n",
    "              optimizer=tf.keras.optimizers.Adam(),\n",
    "              metrics=['accuracy'])"
   ]
  },
  {
   "cell_type": "code",
   "execution_count": null,
   "metadata": {
    "id": "zMPYf168QZmu",
    "outputId": "b65599ee-8c40-4046-853b-8c6bad577c1e",
    "pycharm": {
     "name": "#%%\n"
    }
   },
   "outputs": [
    {
     "name": "stdout",
     "output_type": "stream",
     "text": [
      "Epoch 1/10\n"
     ]
    },
    {
     "name": "stderr",
     "output_type": "stream",
     "text": [
      "C:\\Users\\burd8\\Anaconda3\\envs\\py38\\lib\\site-packages\\keras\\backend.py:4906: UserWarning: \"`sparse_categorical_crossentropy` received `from_logits=True`, but the `output` argument was produced by a sigmoid or softmax activation and thus does not represent logits. Was this intended?\"\n",
      "  warnings.warn(\n"
     ]
    },
    {
     "name": "stdout",
     "output_type": "stream",
     "text": [
      "1875/1875 [==============================] - 19s 10ms/step - loss: 0.1562 - accuracy: 0.9531\n",
      "Epoch 2/10\n",
      "1875/1875 [==============================] - 19s 10ms/step - loss: 0.0492 - accuracy: 0.9847\n",
      "Epoch 3/10\n",
      "1875/1875 [==============================] - 17s 9ms/step - loss: 0.0329 - accuracy: 0.9895\n",
      "Epoch 4/10\n",
      "1875/1875 [==============================] - 17s 9ms/step - loss: 0.0225 - accuracy: 0.9930\n",
      "Epoch 5/10\n",
      "1875/1875 [==============================] - 18s 9ms/step - loss: 0.0162 - accuracy: 0.9949\n",
      "Epoch 6/10\n",
      "1875/1875 [==============================] - 18s 9ms/step - loss: 0.0138 - accuracy: 0.9956\n",
      "Epoch 7/10\n",
      "1875/1875 [==============================] - 17s 9ms/step - loss: 0.0108 - accuracy: 0.9963\n",
      "Epoch 8/10\n",
      "1875/1875 [==============================] - 17s 9ms/step - loss: 0.0081 - accuracy: 0.9974\n",
      "Epoch 9/10\n",
      "1875/1875 [==============================] - 18s 9ms/step - loss: 0.0075 - accuracy: 0.9977\n",
      "Epoch 10/10\n",
      "1875/1875 [==============================] - 17s 9ms/step - loss: 0.0073 - accuracy: 0.9976\n"
     ]
    },
    {
     "data": {
      "text/plain": [
       "<keras.callbacks.History at 0x22c58b8f4f0>"
      ]
     },
     "execution_count": 24,
     "metadata": {},
     "output_type": "execute_result"
    }
   ],
   "source": [
    "model_cnn.fit(x_train.reshape(list(x_train.shape) + [1]), y_train, epochs=10)"
   ]
  },
  {
   "cell_type": "code",
   "execution_count": null,
   "metadata": {
    "id": "cUAKjUG0QanL",
    "outputId": "05749ce2-71af-482e-a4b2-2f1fd2ab4607",
    "pycharm": {
     "name": "#%%\n"
    }
   },
   "outputs": [
    {
     "name": "stdout",
     "output_type": "stream",
     "text": [
      "313/313 [==============================] - 1s 3ms/step - loss: 0.0503 - accuracy: 0.9888\n"
     ]
    },
    {
     "data": {
      "text/plain": [
       "[0.05030299350619316, 0.9887999892234802]"
      ]
     },
     "execution_count": 25,
     "metadata": {},
     "output_type": "execute_result"
    }
   ],
   "source": [
    "model_cnn.evaluate(x_test.reshape(list(x_test.shape) + [1]), y_test)"
   ]
  },
  {
   "cell_type": "markdown",
   "metadata": {
    "id": "D5tLVxvwQqrk",
    "pycharm": {
     "name": "#%% md\n"
    }
   },
   "source": [
    "## Discussion: How to evaluate this model?"
   ]
  },
  {
   "cell_type": "markdown",
   "metadata": {
    "id": "t-Ia3P_oQ2zx",
    "pycharm": {
     "name": "#%% md\n"
    }
   },
   "source": [
    "## Recurrent Neural Network\n",
    "\n",
    "### Idea\n",
    "- In some applications, data arrive in a sequence.\n",
    "- The model should remember the history.\n",
    "\n",
    "<img src=\"https://www.tensorflow.org/text/tutorials/images/text_generation_training.png\" width=\"700\">"
   ]
  },
  {
   "cell_type": "markdown",
   "metadata": {
    "id": "LC2frl56TpGR",
    "pycharm": {
     "name": "#%% md\n"
    }
   },
   "source": [
    "## Text Generation with a Recurrent Neurual Network\n",
    "- We will work with a dataset of Shakespeare's writing\n",
    "- Build a model with `tf.keras` to analyze the sequence of characters\n",
    "- Apply the model to write new text in Shakespeare's style\n",
    "\n",
    "This project is adapted from [TensorFlow tutorial](https://www.tensorflow.org/tutorials/sequences/text_generation)"
   ]
  },
  {
   "cell_type": "code",
   "execution_count": null,
   "metadata": {
    "colab": {
     "base_uri": "https://localhost:8080/",
     "height": 51
    },
    "id": "Dunw2eNXTA7w",
    "outputId": "f5ae2067-dd01-4320-ad2e-de128ed054c8",
    "pycharm": {
     "name": "#%%\n"
    }
   },
   "outputs": [
    {
     "name": "stdout",
     "output_type": "stream",
     "text": [
      "Downloading data from https://storage.googleapis.com/download.tensorflow.org/data/shakespeare.txt\n",
      "1122304/1115394 [==============================] - 0s 0us/step\n"
     ]
    }
   ],
   "source": [
    "# Get the text file from:\n",
    "# https://storage.googleapis.com/download.tensorflow.org/data/shakespeare.txt\n",
    "path_to_file = tf.keras.utils.get_file('shakespeare.txt', 'https://storage.googleapis.com/download.tensorflow.org/data/shakespeare.txt')"
   ]
  },
  {
   "cell_type": "code",
   "execution_count": null,
   "metadata": {
    "colab": {
     "base_uri": "https://localhost:8080/",
     "height": 34
    },
    "id": "jMh6jlvKTYst",
    "outputId": "41cca445-b4ea-405f-81ab-66eec3ae5441",
    "pycharm": {
     "name": "#%%\n"
    }
   },
   "outputs": [
    {
     "name": "stdout",
     "output_type": "stream",
     "text": [
      "Length of text: 1115394 characters\n"
     ]
    }
   ],
   "source": [
    "# Read the text as a string\n",
    "text = open(path_to_file, 'rb').read().decode(encoding='utf-8')\n",
    "\n",
    "print ('Length of text: {} characters'.format(len(text)))"
   ]
  },
  {
   "cell_type": "code",
   "execution_count": null,
   "metadata": {
    "colab": {
     "base_uri": "https://localhost:8080/",
     "height": 272
    },
    "id": "GVBOeZX7Tafa",
    "outputId": "f1fd9608-3e72-4807-b6f6-217970e9e1c1",
    "pycharm": {
     "name": "#%%\n"
    }
   },
   "outputs": [
    {
     "name": "stdout",
     "output_type": "stream",
     "text": [
      "First Citizen:\n",
      "Before we proceed any further, hear me speak.\n",
      "\n",
      "All:\n",
      "Speak, speak.\n",
      "\n",
      "First Citizen:\n",
      "You are all resolved rather to die than to famish?\n",
      "\n",
      "All:\n",
      "Resolved. resolved.\n",
      "\n",
      "First Citizen:\n",
      "First, you know Caius Marcius is chief enemy to the people.\n",
      "\n"
     ]
    }
   ],
   "source": [
    "# Take a look at the first 250 characters in text\n",
    "print(text[:250])"
   ]
  },
  {
   "cell_type": "code",
   "execution_count": null,
   "metadata": {
    "colab": {
     "base_uri": "https://localhost:8080/",
     "height": 34
    },
    "id": "xYM0dQAGTcVb",
    "outputId": "c357a733-a137-4be0-b079-0f19710d612e",
    "pycharm": {
     "name": "#%%\n"
    }
   },
   "outputs": [
    {
     "name": "stdout",
     "output_type": "stream",
     "text": [
      "65 unique characters\n"
     ]
    }
   ],
   "source": [
    "# The unique characters in the file\n",
    "# Python set is a data structure containing unique elements\n",
    "vocab = sorted(set(text))\n",
    "# Print with formatted string: {index:format}\n",
    "print ('{} unique characters'.format(len(vocab)))"
   ]
  },
  {
   "cell_type": "markdown",
   "metadata": {
    "id": "erTeWyiMTj2d",
    "pycharm": {
     "name": "#%% md\n"
    }
   },
   "source": [
    "### Vectorize the text"
   ]
  },
  {
   "cell_type": "code",
   "execution_count": null,
   "metadata": {
    "id": "xzRYCiO3Tf07",
    "pycharm": {
     "name": "#%%\n"
    }
   },
   "outputs": [],
   "source": [
    "# Creating a mapping from unique characters to indices\n",
    "# enumerate: returns index and the value\n",
    "char2idx = {u:i for i, u in enumerate(vocab)}\n",
    "idx2char = np.array(vocab)\n",
    "\n",
    "text_as_int = np.array([char2idx[c] for c in text])"
   ]
  },
  {
   "cell_type": "code",
   "execution_count": null,
   "metadata": {
    "colab": {
     "base_uri": "https://localhost:8080/",
     "height": 408
    },
    "id": "DI0ieDf5TjI2",
    "outputId": "b758bb9a-54f5-4d71-b21c-03326633bc74",
    "pycharm": {
     "name": "#%%\n"
    }
   },
   "outputs": [
    {
     "name": "stdout",
     "output_type": "stream",
     "text": [
      "{\n",
      "  '\\n':   0,\n",
      "  ' ' :   1,\n",
      "  '!' :   2,\n",
      "  '$' :   3,\n",
      "  '&' :   4,\n",
      "  \"'\" :   5,\n",
      "  ',' :   6,\n",
      "  '-' :   7,\n",
      "  '.' :   8,\n",
      "  '3' :   9,\n",
      "  ':' :  10,\n",
      "  ';' :  11,\n",
      "  '?' :  12,\n",
      "  'A' :  13,\n",
      "  'B' :  14,\n",
      "  'C' :  15,\n",
      "  'D' :  16,\n",
      "  'E' :  17,\n",
      "  'F' :  18,\n",
      "  'G' :  19,\n",
      "  ...\n",
      "}\n"
     ]
    }
   ],
   "source": [
    "print('{')\n",
    "for char,_ in zip(char2idx, range(20)):\n",
    "    print('  {:4s}: {:3d},'.format(repr(char), char2idx[char]))\n",
    "print('  ...\\n}')"
   ]
  },
  {
   "cell_type": "code",
   "execution_count": null,
   "metadata": {
    "colab": {
     "base_uri": "https://localhost:8080/",
     "height": 34
    },
    "id": "K2JIJ0JIT877",
    "outputId": "ab39a4a9-29cf-42e7-dd82-202209c0ee46",
    "pycharm": {
     "name": "#%%\n"
    }
   },
   "outputs": [
    {
     "name": "stdout",
     "output_type": "stream",
     "text": [
      "'First Citizen' ---- characters mapped to int ---- > [18 47 56 57 58  1 15 47 58 47 64 43 52]\n"
     ]
    }
   ],
   "source": [
    "# Show how the first 13 characters from the text are mapped to integers\n",
    "# repr: string representation of an object\n",
    "print ('{} ---- characters mapped to int ---- > {}'.format(repr(text[:13]), text_as_int[:13]))"
   ]
  },
  {
   "cell_type": "code",
   "execution_count": null,
   "metadata": {
    "colab": {
     "base_uri": "https://localhost:8080/",
     "height": 102
    },
    "id": "B6t5h_B-T_og",
    "outputId": "ba236b06-35ba-452d-ab33-ad64a9071ecf",
    "pycharm": {
     "name": "#%%\n"
    }
   },
   "outputs": [
    {
     "name": "stdout",
     "output_type": "stream",
     "text": [
      "F\n",
      "i\n",
      "r\n",
      "s\n",
      "t\n"
     ]
    }
   ],
   "source": [
    "# The maximum length sentence we want for a single input in characters\n",
    "seq_length = 100\n",
    "examples_per_epoch = len(text)//seq_length\n",
    "\n",
    "# Create training examples / targets\n",
    "# Dataset.from_tensor_slices(): convert a numpy array to tf Dataset\n",
    "# Dataset.take(): create a sub Dataset\n",
    "char_dataset = tf.data.Dataset.from_tensor_slices(text_as_int)\n",
    "\n",
    "for i in char_dataset.take(5):\n",
    "  print(idx2char[i.numpy()])"
   ]
  },
  {
   "cell_type": "code",
   "execution_count": null,
   "metadata": {
    "colab": {
     "base_uri": "https://localhost:8080/",
     "height": 102
    },
    "id": "ObpgiEH9UCzb",
    "outputId": "d0d62567-b6bc-4f25-99a5-fa22a6dd1ff4",
    "pycharm": {
     "name": "#%%\n"
    }
   },
   "outputs": [
    {
     "name": "stdout",
     "output_type": "stream",
     "text": [
      "'First Citizen:\\nBefore we proceed any further, hear me speak.\\n\\nAll:\\nSpeak, speak.\\n\\nFirst Citizen:\\nYou '\n",
      "'are all resolved rather to die than to famish?\\n\\nAll:\\nResolved. resolved.\\n\\nFirst Citizen:\\nFirst, you k'\n",
      "\"now Caius Marcius is chief enemy to the people.\\n\\nAll:\\nWe know't, we know't.\\n\\nFirst Citizen:\\nLet us ki\"\n",
      "\"ll him, and we'll have corn at our own price.\\nIs't a verdict?\\n\\nAll:\\nNo more talking on't; let it be d\"\n",
      "'one: away, away!\\n\\nSecond Citizen:\\nOne word, good citizens.\\n\\nFirst Citizen:\\nWe are accounted poor citi'\n"
     ]
    }
   ],
   "source": [
    "# batch(): cut the dataset into chunks\n",
    "sequences = char_dataset.batch(seq_length+1, drop_remainder=True)\n",
    "\n",
    "# join(): concatenate a list of elements and form a string\n",
    "for item in sequences.take(5):\n",
    "  print(repr(''.join(idx2char[item.numpy()])))"
   ]
  },
  {
   "cell_type": "code",
   "execution_count": null,
   "metadata": {
    "id": "bNHC5o4HUGT1",
    "pycharm": {
     "name": "#%%\n"
    }
   },
   "outputs": [],
   "source": [
    "# For each sequence, duplicate and shift it to form the input and target text by using the `map` method\n",
    "# to apply a simple function to each batch\n",
    "def split_input_target(chunk):\n",
    "    input_text = chunk[:-1]\n",
    "    target_text = chunk[1:]\n",
    "    return input_text, target_text\n",
    "\n",
    "dataset = sequences.map(split_input_target)"
   ]
  },
  {
   "cell_type": "code",
   "execution_count": null,
   "metadata": {
    "colab": {
     "base_uri": "https://localhost:8080/",
     "height": 51
    },
    "id": "kcd9990nXQF-",
    "outputId": "9434d069-a134-4d9e-8926-32023d6fc12f",
    "pycharm": {
     "name": "#%%\n"
    }
   },
   "outputs": [
    {
     "name": "stdout",
     "output_type": "stream",
     "text": [
      "Input data:  'First Citizen:\\nBefore we proceed any further, hear me speak.\\n\\nAll:\\nSpeak, speak.\\n\\nFirst Citizen:\\nYou'\n",
      "Target data: 'irst Citizen:\\nBefore we proceed any further, hear me speak.\\n\\nAll:\\nSpeak, speak.\\n\\nFirst Citizen:\\nYou '\n"
     ]
    }
   ],
   "source": [
    "# Print the first example input and target values:\n",
    "for input_example, target_example in  dataset.take(1):\n",
    "  print ('Input data: ', repr(''.join(idx2char[input_example.numpy()])))\n",
    "  print ('Target data:', repr(''.join(idx2char[target_example.numpy()])))"
   ]
  },
  {
   "cell_type": "markdown",
   "metadata": {
    "id": "hJVKNgnoXVzB",
    "pycharm": {
     "name": "#%% md\n"
    }
   },
   "source": [
    "Each index of these vectors are processed as one time step. For the input at time step 0, the model receives the index for \"F\" and trys to predict the index for \"i\" as the next character. At the next timestep, it does the same thing but the RNN considers the previous step context in addition to the current input character."
   ]
  },
  {
   "cell_type": "code",
   "execution_count": null,
   "metadata": {
    "colab": {
     "base_uri": "https://localhost:8080/",
     "height": 272
    },
    "id": "LJ77ZalDXbSL",
    "outputId": "1c058ce7-df92-4254-e3e9-d364e70b10d7",
    "pycharm": {
     "name": "#%%\n"
    }
   },
   "outputs": [
    {
     "name": "stdout",
     "output_type": "stream",
     "text": [
      "Step    0\n",
      "  input: 18 ('F')\n",
      "  expected output: 47 ('i')\n",
      "Step    1\n",
      "  input: 47 ('i')\n",
      "  expected output: 56 ('r')\n",
      "Step    2\n",
      "  input: 56 ('r')\n",
      "  expected output: 57 ('s')\n",
      "Step    3\n",
      "  input: 57 ('s')\n",
      "  expected output: 58 ('t')\n",
      "Step    4\n",
      "  input: 58 ('t')\n",
      "  expected output: 1 (' ')\n"
     ]
    }
   ],
   "source": [
    "for i, (input_idx, target_idx) in enumerate(zip(input_example[:5], target_example[:5])):\n",
    "    print(\"Step {:4d}\".format(i))\n",
    "    print(\"  input: {} ({:s})\".format(input_idx, repr(idx2char[input_idx])))\n",
    "    print(\"  expected output: {} ({:s})\".format(target_idx, repr(idx2char[target_idx])))"
   ]
  },
  {
   "cell_type": "code",
   "execution_count": null,
   "metadata": {
    "colab": {
     "base_uri": "https://localhost:8080/",
     "height": 34
    },
    "id": "yuVCf_dKXdF1",
    "outputId": "1adf8f52-5d8f-4bf1-9f33-7a7b9f11a787",
    "pycharm": {
     "name": "#%%\n"
    }
   },
   "outputs": [
    {
     "data": {
      "text/plain": [
       "<BatchDataset shapes: ((64, 100), (64, 100)), types: (tf.int64, tf.int64)>"
      ]
     },
     "execution_count": 16,
     "metadata": {
      "tags": []
     },
     "output_type": "execute_result"
    }
   ],
   "source": [
    "# Create training batches\n",
    "# Batch size\n",
    "BATCH_SIZE = 64\n",
    "\n",
    "# Buffer size to shuffle the dataset\n",
    "# (TF data is designed to work with possibly infinite sequences,\n",
    "# so it doesn't attempt to shuffle the entire sequence in memory. Instead,\n",
    "# it maintains a buffer in which it shuffles elements).\n",
    "BUFFER_SIZE = 10000\n",
    "\n",
    "dataset = dataset.shuffle(BUFFER_SIZE).batch(BATCH_SIZE, drop_remainder=True)\n",
    "\n",
    "dataset"
   ]
  },
  {
   "cell_type": "markdown",
   "metadata": {
    "id": "-LUiLr37Xqgw",
    "pycharm": {
     "name": "#%% md\n"
    }
   },
   "source": [
    "### Build the model"
   ]
  },
  {
   "cell_type": "code",
   "execution_count": null,
   "metadata": {
    "id": "1MJ_GWdfXofU",
    "pycharm": {
     "name": "#%%\n"
    }
   },
   "outputs": [],
   "source": [
    "# Length of the vocabulary in chars\n",
    "vocab_size = len(vocab)\n",
    "\n",
    "# The embedding dimension\n",
    "embedding_dim = 256\n",
    "\n",
    "# Number of RNN units\n",
    "rnn_units = 1024"
   ]
  },
  {
   "cell_type": "code",
   "execution_count": null,
   "metadata": {
    "id": "qlvF8OVcXsen",
    "pycharm": {
     "name": "#%%\n"
    }
   },
   "outputs": [],
   "source": [
    "def build_model(vocab_size, embedding_dim, rnn_units, batch_size):\n",
    "  model = tf.keras.Sequential([\n",
    "    tf.keras.layers.Embedding(vocab_size, embedding_dim,\n",
    "                              batch_input_shape=[batch_size, None]),\n",
    "    tf.keras.layers.GRU(rnn_units,\n",
    "                        return_sequences=True,\n",
    "                        stateful=True,\n",
    "                        recurrent_initializer='glorot_uniform'),\n",
    "    tf.keras.layers.Dense(vocab_size)\n",
    "  ])\n",
    "  return model"
   ]
  },
  {
   "cell_type": "code",
   "execution_count": null,
   "metadata": {
    "id": "4CT-aV_PXuPX",
    "pycharm": {
     "name": "#%%\n"
    }
   },
   "outputs": [],
   "source": [
    "model = build_model(\n",
    "  vocab_size = len(vocab),\n",
    "  embedding_dim=embedding_dim,\n",
    "  rnn_units=rnn_units,\n",
    "  batch_size=BATCH_SIZE)"
   ]
  },
  {
   "cell_type": "code",
   "execution_count": null,
   "metadata": {
    "colab": {
     "base_uri": "https://localhost:8080/",
     "height": 34
    },
    "id": "sw4VEN2UXvib",
    "outputId": "5e34040f-9918-4887-954d-4ed1487c4752",
    "pycharm": {
     "name": "#%%\n"
    }
   },
   "outputs": [
    {
     "name": "stdout",
     "output_type": "stream",
     "text": [
      "(64, 100, 65) # (batch_size, sequence_length, vocab_size)\n"
     ]
    }
   ],
   "source": [
    "for input_example_batch, target_example_batch in dataset.take(1):\n",
    "  example_batch_predictions = model(input_example_batch)\n",
    "  print(example_batch_predictions.shape, \"# (batch_size, sequence_length, vocab_size)\")"
   ]
  },
  {
   "cell_type": "code",
   "execution_count": null,
   "metadata": {
    "colab": {
     "base_uri": "https://localhost:8080/",
     "height": 255
    },
    "id": "unAraUZGX0s2",
    "outputId": "39fbda54-4ae5-4b1a-e299-94835c0c31c7",
    "pycharm": {
     "name": "#%%\n"
    }
   },
   "outputs": [
    {
     "name": "stdout",
     "output_type": "stream",
     "text": [
      "Model: \"sequential\"\n",
      "_________________________________________________________________\n",
      "Layer (type)                 Output Shape              Param #   \n",
      "=================================================================\n",
      "embedding (Embedding)        (64, None, 256)           16640     \n",
      "_________________________________________________________________\n",
      "gru (GRU)                    (64, None, 1024)          3938304   \n",
      "_________________________________________________________________\n",
      "dense (Dense)                (64, None, 65)            66625     \n",
      "=================================================================\n",
      "Total params: 4,021,569\n",
      "Trainable params: 4,021,569\n",
      "Non-trainable params: 0\n",
      "_________________________________________________________________\n"
     ]
    }
   ],
   "source": [
    "model.summary()"
   ]
  },
  {
   "cell_type": "code",
   "execution_count": null,
   "metadata": {
    "id": "dvXEpfZ6X2Xw",
    "pycharm": {
     "name": "#%%\n"
    }
   },
   "outputs": [],
   "source": [
    "sampled_indices = tf.random.categorical(example_batch_predictions[0], num_samples=1)\n",
    "sampled_indices = tf.squeeze(sampled_indices,axis=-1).numpy()"
   ]
  },
  {
   "cell_type": "code",
   "execution_count": null,
   "metadata": {
    "colab": {
     "base_uri": "https://localhost:8080/",
     "height": 102
    },
    "id": "EmPx9xccX6o5",
    "outputId": "420aaef0-ea48-4c27-a9d8-85622fd9ff06",
    "pycharm": {
     "name": "#%%\n"
    }
   },
   "outputs": [
    {
     "name": "stdout",
     "output_type": "stream",
     "text": [
      "Input: \n",
      " \"used:\\nMy brother Gloucester, plain well-meaning soul,\\nWhom fair befal in heaven 'mongst happy souls!\"\n",
      "\n",
      "Next Char Predictions: \n",
      " 'OWkUBZEUUS$oU s?FaHPIdMip&\\nn3 nLeWhdvqWnv-L;jMGZLDBeMt$zQ.cCjL!eRezcwLzVhEqBMutWaNDMsiLvioUU-oYz:Ku3'\n"
     ]
    }
   ],
   "source": [
    "print(\"Input: \\n\", repr(\"\".join(idx2char[input_example_batch[0]])))\n",
    "print()\n",
    "print(\"Next Char Predictions: \\n\", repr(\"\".join(idx2char[sampled_indices ])))"
   ]
  },
  {
   "cell_type": "code",
   "execution_count": null,
   "metadata": {
    "colab": {
     "base_uri": "https://localhost:8080/",
     "height": 51
    },
    "id": "uJviHNwBX8N0",
    "outputId": "468bb558-cf4f-495f-c696-6337ff83beb6",
    "pycharm": {
     "name": "#%%\n"
    }
   },
   "outputs": [
    {
     "name": "stdout",
     "output_type": "stream",
     "text": [
      "Prediction shape:  (64, 100, 65)  # (batch_size, sequence_length, vocab_size)\n",
      "scalar_loss:       4.17439\n"
     ]
    }
   ],
   "source": [
    "def loss(labels, logits):\n",
    "  return tf.keras.losses.sparse_categorical_crossentropy(labels, logits, from_logits=True)\n",
    "\n",
    "example_batch_loss  = loss(target_example_batch, example_batch_predictions)\n",
    "print(\"Prediction shape: \", example_batch_predictions.shape, \" # (batch_size, sequence_length, vocab_size)\")\n",
    "print(\"scalar_loss:      \", example_batch_loss.numpy().mean())"
   ]
  },
  {
   "cell_type": "code",
   "execution_count": null,
   "metadata": {
    "id": "xXhAsD_jX-EZ",
    "pycharm": {
     "name": "#%%\n"
    }
   },
   "outputs": [],
   "source": [
    "model.compile(optimizer='adam', loss=loss)"
   ]
  },
  {
   "cell_type": "code",
   "execution_count": null,
   "metadata": {
    "id": "sa-PGmWaX_vP",
    "pycharm": {
     "name": "#%%\n"
    }
   },
   "outputs": [],
   "source": [
    "# Directory where the checkpoints will be saved\n",
    "checkpoint_dir = './training_checkpoints'\n",
    "# Name of the checkpoint files\n",
    "checkpoint_prefix = os.path.join(checkpoint_dir, \"ckpt_{epoch}\")\n",
    "\n",
    "checkpoint_callback=tf.keras.callbacks.ModelCheckpoint(\n",
    "    filepath=checkpoint_prefix,\n",
    "    save_weights_only=True)"
   ]
  },
  {
   "cell_type": "code",
   "execution_count": null,
   "metadata": {
    "colab": {
     "base_uri": "https://localhost:8080/",
     "height": 357
    },
    "id": "WcPfedNlYBIA",
    "outputId": "dd2520a2-c078-43f5-a9f6-a5b6b6dd0f9b",
    "pycharm": {
     "name": "#%%\n"
    }
   },
   "outputs": [
    {
     "name": "stdout",
     "output_type": "stream",
     "text": [
      "Epoch 1/10\n",
      "172/172 [==============================] - 12s 69ms/step - loss: 2.6875\n",
      "Epoch 2/10\n",
      "172/172 [==============================] - 12s 68ms/step - loss: 1.9653\n",
      "Epoch 3/10\n",
      "172/172 [==============================] - 12s 69ms/step - loss: 1.7006\n",
      "Epoch 4/10\n",
      "172/172 [==============================] - 12s 69ms/step - loss: 1.5502\n",
      "Epoch 5/10\n",
      "172/172 [==============================] - 12s 69ms/step - loss: 1.4600\n",
      "Epoch 6/10\n",
      "172/172 [==============================] - 12s 69ms/step - loss: 1.4000\n",
      "Epoch 7/10\n",
      "172/172 [==============================] - 12s 70ms/step - loss: 1.3527\n",
      "Epoch 8/10\n",
      "172/172 [==============================] - 12s 70ms/step - loss: 1.3145\n",
      "Epoch 9/10\n",
      "172/172 [==============================] - 12s 70ms/step - loss: 1.2790\n",
      "Epoch 10/10\n",
      "172/172 [==============================] - 12s 70ms/step - loss: 1.2457\n"
     ]
    }
   ],
   "source": [
    "EPOCHS=10\n",
    "\n",
    "history = model.fit(dataset, epochs=EPOCHS, callbacks=[checkpoint_callback])"
   ]
  },
  {
   "cell_type": "code",
   "execution_count": null,
   "metadata": {
    "id": "VjKpfep6dswa",
    "pycharm": {
     "name": "#%%\n"
    }
   },
   "outputs": [],
   "source": [
    "tf.train.latest_checkpoint(checkpoint_dir)\n",
    "\n",
    "model = build_model(vocab_size, embedding_dim, rnn_units, batch_size=1)\n",
    "\n",
    "model.load_weights(tf.train.latest_checkpoint(checkpoint_dir))\n",
    "\n",
    "model.build(tf.TensorShape([1, None]))"
   ]
  },
  {
   "cell_type": "code",
   "execution_count": null,
   "metadata": {
    "id": "G_Le2Qahdo2B",
    "pycharm": {
     "name": "#%%\n"
    }
   },
   "outputs": [],
   "source": [
    "def generate_text(model, start_string):\n",
    "  # Evaluation step (generating text using the learned model)\n",
    "\n",
    "  # Number of characters to generate\n",
    "  num_generate = 1000\n",
    "\n",
    "  # Converting our start string to numbers (vectorizing)\n",
    "  input_eval = [char2idx[s] for s in start_string]\n",
    "  input_eval = tf.expand_dims(input_eval, 0)\n",
    "\n",
    "  # Empty string to store our results\n",
    "  text_generated = []\n",
    "\n",
    "  # Low temperatures results in more predictable text.\n",
    "  # Higher temperatures results in more surprising text.\n",
    "  # Experiment to find the best setting.\n",
    "  temperature = 1.0\n",
    "\n",
    "  # Here batch size == 1\n",
    "  model.reset_states()\n",
    "  for i in range(num_generate):\n",
    "      predictions = model(input_eval)\n",
    "      # remove the batch dimension\n",
    "      predictions = tf.squeeze(predictions, 0)\n",
    "\n",
    "      # using a categorical distribution to predict the character returned by the model\n",
    "      predictions = predictions / temperature\n",
    "      predicted_id = tf.random.categorical(predictions, num_samples=1)[-1,0].numpy()\n",
    "\n",
    "      # We pass the predicted character as the next input to the model\n",
    "      # along with the previous hidden state\n",
    "      input_eval = tf.expand_dims([predicted_id], 0)\n",
    "\n",
    "      text_generated.append(idx2char[predicted_id])\n",
    "\n",
    "  return (start_string + ''.join(text_generated))"
   ]
  },
  {
   "cell_type": "code",
   "execution_count": null,
   "metadata": {
    "colab": {
     "base_uri": "https://localhost:8080/",
     "height": 612
    },
    "id": "u-zzqIOrdw9I",
    "outputId": "843f0e70-a8e5-46f3-f954-719f311586a2",
    "pycharm": {
     "name": "#%%\n"
    }
   },
   "outputs": [
    {
     "name": "stdout",
     "output_type": "stream",
     "text": [
      "ROMEO: shall hence at her\n",
      "Buside friends of place withal.\n",
      "Welcomely as I day goods; 'They upon your chamber. Come,\n",
      "Thou given tyrann: thy sovereign's language,\n",
      "Not like the head, you arrived in thine,\n",
      "Now still of England's dishope more than you.\n",
      "\n",
      "PETRUCHIO:\n",
      "So, sir, it says, sweet bark all lible.\n",
      "\n",
      "HENRY BOLINGBROKE:\n",
      "Uthen thou art solries; he fightest mine:\n",
      "Stepiou stook with her for ill-upon us.\n",
      "\n",
      "BRUTUS:\n",
      "The days, my father, too,\n",
      "When he forced to the Gody be as springed\n",
      "Thy widonoow: thing watch'd hishorn.\n",
      "Thus even so I think, are you.\n",
      "\n",
      "LUCIO:\n",
      "I have crafted you with dishonour dead,\n",
      "But he hath in cir him than in think it presemenish'd\n",
      "Young Richard that weter-full thine,\n",
      "your mother with oriel house extee swift in her,\n",
      "Shit much on, here comes it to die:\n",
      "Y then will your good he from the lowe I should\n",
      "What I have made, than if the stepher,\n",
      "Carting, for our friends, Richmond.\n",
      "\n",
      "LEONTES:\n",
      "So all use is all his negless.\n",
      "\n",
      "POLIXENES:\n",
      "Your grace seizs so you then must I am. To help thee to far o\n"
     ]
    }
   ],
   "source": [
    "print(generate_text(model, u\"ROMEO: \"))"
   ]
  },
  {
   "cell_type": "code",
   "execution_count": null,
   "metadata": {
    "id": "_JB-M9t4AVOZ",
    "pycharm": {
     "name": "#%%\n"
    }
   },
   "outputs": [],
   "source": []
  }
 ],
 "metadata": {
  "accelerator": "GPU",
  "colab": {
   "provenance": [],
   "collapsed_sections": [
    "-LUiLr37Xqgw"
   ]
  },
  "kernelspec": {
   "display_name": "py38",
   "language": "python",
   "name": "py38"
  },
  "language_info": {
   "codemirror_mode": {
    "name": "ipython",
    "version": 3
   },
   "file_extension": ".py",
   "mimetype": "text/x-python",
   "name": "python",
   "nbconvert_exporter": "python",
   "pygments_lexer": "ipython3",
   "version": "3.8.10"
  }
 },
 "nbformat": 4,
 "nbformat_minor": 0
}