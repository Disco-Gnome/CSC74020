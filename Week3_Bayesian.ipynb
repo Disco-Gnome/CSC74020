{
 "cells": [
  {
   "cell_type": "markdown",
   "metadata": {
    "id": "X1g-0oYmMRFP",
    "pycharm": {
     "name": "#%% md\n"
    }
   },
   "source": [
    "# CSc 74020 Machine Learning Week 3: Bayesian Linear Regression Example"
   ]
  },
  {
   "cell_type": "code",
   "execution_count": 1,
   "metadata": {
    "colab": {
     "base_uri": "https://localhost:8080/"
    },
    "id": "UVcwEO78moGs",
    "outputId": "04524fd9-0bc8-4a43-fb32-38c4cd46b3c0",
    "pycharm": {
     "name": "#%%\n"
    }
   },
   "outputs": [
    {
     "name": "stdout",
     "output_type": "stream",
     "text": [
      "Requirement already satisfied: pandas-datareader in c:\\users\\rmcne\\anaconda3\\lib\\site-packages (0.10.0)\n",
      "Requirement already satisfied: lxml in c:\\users\\rmcne\\anaconda3\\lib\\site-packages (from pandas-datareader) (5.1.0)\n",
      "Requirement already satisfied: requests>=2.19.0 in c:\\users\\rmcne\\anaconda3\\lib\\site-packages (from pandas-datareader) (2.31.0)\n",
      "Requirement already satisfied: pandas>=0.23 in c:\\users\\rmcne\\anaconda3\\lib\\site-packages (from pandas-datareader) (1.4.2)\n",
      "Requirement already satisfied: python-dateutil>=2.8.1 in c:\\users\\rmcne\\anaconda3\\lib\\site-packages (from pandas>=0.23->pandas-datareader) (2.8.2)\n",
      "Requirement already satisfied: numpy>=1.18.5 in c:\\users\\rmcne\\anaconda3\\lib\\site-packages (from pandas>=0.23->pandas-datareader) (1.21.5)\n",
      "Requirement already satisfied: pytz>=2020.1 in c:\\users\\rmcne\\anaconda3\\lib\\site-packages (from pandas>=0.23->pandas-datareader) (2024.1)\n",
      "Requirement already satisfied: six>=1.5 in c:\\users\\rmcne\\anaconda3\\lib\\site-packages (from python-dateutil>=2.8.1->pandas>=0.23->pandas-datareader) (1.16.0)\n",
      "Requirement already satisfied: idna<4,>=2.5 in c:\\users\\rmcne\\anaconda3\\lib\\site-packages (from requests>=2.19.0->pandas-datareader) (3.3)\n",
      "Requirement already satisfied: certifi>=2017.4.17 in c:\\users\\rmcne\\anaconda3\\lib\\site-packages (from requests>=2.19.0->pandas-datareader) (2021.10.8)\n",
      "Requirement already satisfied: charset-normalizer<4,>=2 in c:\\users\\rmcne\\anaconda3\\lib\\site-packages (from requests>=2.19.0->pandas-datareader) (2.0.4)\n",
      "Requirement already satisfied: urllib3<3,>=1.21.1 in c:\\users\\rmcne\\anaconda3\\lib\\site-packages (from requests>=2.19.0->pandas-datareader) (1.26.9)\n"
     ]
    }
   ],
   "source": [
    "# !pip install --upgrade pandas\n",
    "!pip install --upgrade pandas-datareader"
   ]
  },
  {
   "cell_type": "code",
   "execution_count": 3,
   "metadata": {
    "colab": {
     "base_uri": "https://localhost:8080/"
    },
    "id": "HRR7tUb-MRFV",
    "jupyter": {
     "outputs_hidden": false
    },
    "outputId": "7d940c7a-14f6-474d-879d-af70639ed940",
    "pycharm": {
     "name": "#%%\n"
    }
   },
   "outputs": [
    {
     "name": "stdout",
     "output_type": "stream",
     "text": [
      "%pylab is deprecated, use %matplotlib inline and import the required libraries.\n",
      "Populating the interactive namespace from numpy and matplotlib\n"
     ]
    },
    {
     "name": "stderr",
     "output_type": "stream",
     "text": [
      "C:\\Users\\rmcne\\anaconda3\\lib\\site-packages\\IPython\\core\\magics\\pylab.py:162: UserWarning: pylab import has clobbered these variables: ['random', 'plt']\n",
      "`%matplotlib` prevents importing * from pylab and numpy\n",
      "  warn(\"pylab import has clobbered these variables: %s\"  % clobbered +\n"
     ]
    }
   ],
   "source": [
    "import numpy as np\n",
    "import pandas as pd\n",
    "import pandas_datareader as web\n",
    "from pandas_datareader import data as pdr\n",
    "import datetime\n",
    "from sklearn.linear_model import LinearRegression\n",
    "from sklearn.linear_model import LassoCV\n",
    "from sklearn.linear_model import Lasso\n",
    "from sklearn.linear_model import Ridge\n",
    "from sklearn.metrics import r2_score\n",
    "from scipy import stats\n",
    "import random\n",
    "\n",
    "import matplotlib.pylab as plt\n",
    "\n",
    "%pylab inline\n",
    "#%pylab --no-import-all"
   ]
  },
  {
   "cell_type": "code",
   "execution_count": 4,
   "metadata": {
    "colab": {
     "base_uri": "https://localhost:8080/"
    },
    "id": "EhCXyk3DMRFZ",
    "jupyter": {
     "outputs_hidden": false
    },
    "outputId": "c8d25148-6161-4478-a5a7-cb5d40d4e6d0",
    "pycharm": {
     "name": "#%%\n"
    }
   },
   "outputs": [
    {
     "data": {
      "text/plain": "['AAPL', 'META', 'IBM', 'PG', 'VXX', 'INTC', 'GM']"
     },
     "execution_count": 4,
     "metadata": {},
     "output_type": "execute_result"
    }
   ],
   "source": [
    "start_date=datetime.datetime(2013,1,1)\n",
    "end_date=datetime.datetime(2020,12,31)\n",
    "\n",
    "stock_list=['AAPL','META','IBM','PG','VXX','INTC','GM']\n",
    "stock_list"
   ]
  },
  {
   "cell_type": "code",
   "execution_count": 5,
   "metadata": {
    "id": "ptKpRsCH3VGj",
    "pycharm": {
     "name": "#%%\n"
    }
   },
   "outputs": [
    {
     "name": "stderr",
     "output_type": "stream",
     "text": [
      "C:\\Users\\rmcne\\anaconda3\\lib\\site-packages\\yfinance\\base.py:48: FutureWarning: The default dtype for empty Series will be 'object' instead of 'float64' in a future version. Specify a dtype explicitly to silence this warning.\n",
      "  _empty_series = pd.Series()\n"
     ]
    }
   ],
   "source": [
    "#needed due to durrent bug\n",
    "import yfinance as yf\n",
    "yf.pdr_override()"
   ]
  },
  {
   "cell_type": "code",
   "execution_count": 7,
   "metadata": {
    "colab": {
     "base_uri": "https://localhost:8080/",
     "height": 255
    },
    "id": "DY1ZmYjKMRFa",
    "jupyter": {
     "outputs_hidden": false
    },
    "outputId": "b523d6ce-11b9-4132-8f2f-53bf92507837",
    "pycharm": {
     "name": "#%%\n"
    }
   },
   "outputs": [
    {
     "name": "stderr",
     "output_type": "stream",
     "text": [
      "[*********************100%%**********************]  1 of 1 completed\n"
     ]
    },
    {
     "data": {
      "text/plain": "                 SPY\nDate                \n2013-01-03 -0.002259\n2013-01-04  0.004392\n2013-01-07 -0.002733\n2013-01-08 -0.002877\n2013-01-09  0.002542",
      "text/html": "<div>\n<style scoped>\n    .dataframe tbody tr th:only-of-type {\n        vertical-align: middle;\n    }\n\n    .dataframe tbody tr th {\n        vertical-align: top;\n    }\n\n    .dataframe thead th {\n        text-align: right;\n    }\n</style>\n<table border=\"1\" class=\"dataframe\">\n  <thead>\n    <tr style=\"text-align: right;\">\n      <th></th>\n      <th>SPY</th>\n    </tr>\n    <tr>\n      <th>Date</th>\n      <th></th>\n    </tr>\n  </thead>\n  <tbody>\n    <tr>\n      <th>2013-01-03</th>\n      <td>-0.002259</td>\n    </tr>\n    <tr>\n      <th>2013-01-04</th>\n      <td>0.004392</td>\n    </tr>\n    <tr>\n      <th>2013-01-07</th>\n      <td>-0.002733</td>\n    </tr>\n    <tr>\n      <th>2013-01-08</th>\n      <td>-0.002877</td>\n    </tr>\n    <tr>\n      <th>2013-01-09</th>\n      <td>0.002542</td>\n    </tr>\n  </tbody>\n</table>\n</div>"
     },
     "execution_count": 7,
     "metadata": {},
     "output_type": "execute_result"
    }
   ],
   "source": [
    "#download the data and calculate returns\n",
    "df_temp=pdr.get_data_yahoo('SPY', start_date, end_date)\n",
    "df_temp['SPY']=(df_temp['Adj Close']-df_temp['Adj Close'].shift(1))/df_temp['Adj Close'].shift(1)\n",
    "df_temp=df_temp[1:]\n",
    "df=df_temp[['SPY']]\n",
    "\n",
    "df.head()"
   ]
  },
  {
   "cell_type": "code",
   "execution_count": 8,
   "metadata": {
    "colab": {
     "base_uri": "https://localhost:8080/",
     "height": 485
    },
    "id": "dxb4v4APnL5q",
    "outputId": "d6543e9d-b019-471b-f0ea-a431a059b38c",
    "pycharm": {
     "name": "#%%\n"
    }
   },
   "outputs": [
    {
     "name": "stdout",
     "output_type": "stream",
     "text": [
      "AAPL\n"
     ]
    },
    {
     "name": "stderr",
     "output_type": "stream",
     "text": [
      "[*********************100%%**********************]  1 of 1 completed\n",
      "[*********************100%%**********************]  1 of 1 completed\n"
     ]
    },
    {
     "name": "stdout",
     "output_type": "stream",
     "text": [
      "META\n",
      "IBM\n"
     ]
    },
    {
     "name": "stderr",
     "output_type": "stream",
     "text": [
      "[*********************100%%**********************]  1 of 1 completed\n"
     ]
    },
    {
     "name": "stdout",
     "output_type": "stream",
     "text": [
      "PG\n"
     ]
    },
    {
     "name": "stderr",
     "output_type": "stream",
     "text": [
      "[*********************100%%**********************]  1 of 1 completed\n",
      "[*********************100%%**********************]  1 of 1 completed\n"
     ]
    },
    {
     "name": "stdout",
     "output_type": "stream",
     "text": [
      "VXX\n",
      "INTC\n"
     ]
    },
    {
     "name": "stderr",
     "output_type": "stream",
     "text": [
      "[*********************100%%**********************]  1 of 1 completed\n",
      "[*********************100%%**********************]  1 of 1 completed"
     ]
    },
    {
     "name": "stdout",
     "output_type": "stream",
     "text": [
      "GM\n"
     ]
    },
    {
     "name": "stderr",
     "output_type": "stream",
     "text": [
      "\n"
     ]
    },
    {
     "data": {
      "text/plain": "                 SPY      AAPL      META       IBM        PG  VXX      INTC  \\\nDate                                                                          \n2013-01-03 -0.002259 -0.012622 -0.008214 -0.005501 -0.006341  NaN -0.002806   \n2013-01-04  0.004392 -0.027855  0.035650 -0.006555  0.002031  NaN -0.007505   \n2013-01-07 -0.002733 -0.005882  0.022949 -0.004382 -0.006803  NaN  0.004253   \n2013-01-08 -0.002877  0.002691 -0.012237 -0.001398 -0.001604  NaN -0.007529   \n2013-01-09  0.002542 -0.015629  0.052650 -0.002851  0.005401  NaN  0.017069   \n\n                  GM  \nDate                  \n2013-01-03  0.023687  \n2013-01-04  0.001341  \n2013-01-07 -0.006698  \n2013-01-08 -0.009778  \n2013-01-09  0.020429  ",
      "text/html": "<div>\n<style scoped>\n    .dataframe tbody tr th:only-of-type {\n        vertical-align: middle;\n    }\n\n    .dataframe tbody tr th {\n        vertical-align: top;\n    }\n\n    .dataframe thead th {\n        text-align: right;\n    }\n</style>\n<table border=\"1\" class=\"dataframe\">\n  <thead>\n    <tr style=\"text-align: right;\">\n      <th></th>\n      <th>SPY</th>\n      <th>AAPL</th>\n      <th>META</th>\n      <th>IBM</th>\n      <th>PG</th>\n      <th>VXX</th>\n      <th>INTC</th>\n      <th>GM</th>\n    </tr>\n    <tr>\n      <th>Date</th>\n      <th></th>\n      <th></th>\n      <th></th>\n      <th></th>\n      <th></th>\n      <th></th>\n      <th></th>\n      <th></th>\n    </tr>\n  </thead>\n  <tbody>\n    <tr>\n      <th>2013-01-03</th>\n      <td>-0.002259</td>\n      <td>-0.012622</td>\n      <td>-0.008214</td>\n      <td>-0.005501</td>\n      <td>-0.006341</td>\n      <td>NaN</td>\n      <td>-0.002806</td>\n      <td>0.023687</td>\n    </tr>\n    <tr>\n      <th>2013-01-04</th>\n      <td>0.004392</td>\n      <td>-0.027855</td>\n      <td>0.035650</td>\n      <td>-0.006555</td>\n      <td>0.002031</td>\n      <td>NaN</td>\n      <td>-0.007505</td>\n      <td>0.001341</td>\n    </tr>\n    <tr>\n      <th>2013-01-07</th>\n      <td>-0.002733</td>\n      <td>-0.005882</td>\n      <td>0.022949</td>\n      <td>-0.004382</td>\n      <td>-0.006803</td>\n      <td>NaN</td>\n      <td>0.004253</td>\n      <td>-0.006698</td>\n    </tr>\n    <tr>\n      <th>2013-01-08</th>\n      <td>-0.002877</td>\n      <td>0.002691</td>\n      <td>-0.012237</td>\n      <td>-0.001398</td>\n      <td>-0.001604</td>\n      <td>NaN</td>\n      <td>-0.007529</td>\n      <td>-0.009778</td>\n    </tr>\n    <tr>\n      <th>2013-01-09</th>\n      <td>0.002542</td>\n      <td>-0.015629</td>\n      <td>0.052650</td>\n      <td>-0.002851</td>\n      <td>0.005401</td>\n      <td>NaN</td>\n      <td>0.017069</td>\n      <td>0.020429</td>\n    </tr>\n  </tbody>\n</table>\n</div>"
     },
     "execution_count": 8,
     "metadata": {},
     "output_type": "execute_result"
    }
   ],
   "source": [
    "for stock in stock_list:\n",
    "    print(stock)\n",
    "    df_temp=pdr.get_data_yahoo(stock, start_date, end_date)\n",
    "    df_temp[stock]=(df_temp['Adj Close']-df_temp['Adj Close'].shift(1))/df_temp['Adj Close'].shift(1)\n",
    "    df_temp=df_temp[1:]\n",
    "    df_temp=df_temp[[stock]]\n",
    "    df=df.join(df_temp)\n",
    "\n",
    "df.head()"
   ]
  },
  {
   "cell_type": "markdown",
   "metadata": {
    "id": "9AbKNz-EMRFb",
    "pycharm": {
     "name": "#%% md\n"
    }
   },
   "source": [
    "Let's fit the regular CAPM model for PG\n",
    "\n",
    "$$ Return_{PG}(t)=\\alpha + \\beta * Return_{SPY}(t)+\\epsilon$$"
   ]
  },
  {
   "cell_type": "code",
   "execution_count": 9,
   "metadata": {
    "colab": {
     "base_uri": "https://localhost:8080/"
    },
    "id": "dnaF7da3MRFc",
    "jupyter": {
     "outputs_hidden": false
    },
    "outputId": "dfeb710a-fd89-498d-f839-fa3734062af9",
    "pycharm": {
     "name": "#%%\n"
    }
   },
   "outputs": [
    {
     "name": "stdout",
     "output_type": "stream",
     "text": [
      "1.1208324449928397 0.0006915999750991596 0.546699096163825 2.8589204997914843e-157 0.03828093275414306\n",
      "0.646102039216956 0.00014116097520466115 0.5948129245626625 6.2769152973869185e-193 0.019471407464460088\n",
      "1.1988315714869007 -0.00020638875625296005 0.629614432029504 9.632961093764387e-223 0.032987311469121844\n"
     ]
    }
   ],
   "source": [
    "slope, intercept, r_value, pval, std_err = stats.linregress(df['SPY'],df['META'])\n",
    "print(slope, intercept, r_value, pval,std_err)\n",
    "slope, intercept, r_value, pval, std_err = stats.linregress(df['SPY'],df['PG'])\n",
    "print(slope, intercept, r_value, pval,std_err)\n",
    "slope, intercept, r_value, pval, std_err = stats.linregress(df['SPY'],df['GM'])\n",
    "print(slope, intercept, r_value, pval,std_err)"
   ]
  },
  {
   "cell_type": "code",
   "execution_count": 10,
   "metadata": {
    "colab": {
     "base_uri": "https://localhost:8080/"
    },
    "id": "CsCD6KmVMRFd",
    "jupyter": {
     "outputs_hidden": false
    },
    "outputId": "f5f70bb2-4017-43e0-a188-9c727cbec2da",
    "pycharm": {
     "name": "#%%\n"
    }
   },
   "outputs": [
    {
     "name": "stdout",
     "output_type": "stream",
     "text": [
      "0.00011973209733494619\n"
     ]
    }
   ],
   "source": [
    "pred=intercept+slope*df['SPY']\n",
    "err=df['PG']-pred\n",
    "sigma_2=err.T.dot(err)/len(err)\n",
    "print(sigma_2)"
   ]
  },
  {
   "cell_type": "markdown",
   "metadata": {
    "id": "PmiCCFHsMRFf",
    "pycharm": {
     "name": "#%% md\n"
    }
   },
   "source": [
    "Now let's go through some basic bayesian theory,  Bayes' Theorem $$p(B|A)=\\frac{p(A|B)p(B)}{p(A)}$$ Or expressed as distributions $$f(\\theta|data)=\\frac{f(data|\\theta)f(\\theta)}{f(data)}$$ In other words, the posterior distribution is equal to the sampling density times the prior distribution divided by the marginal probability for the data.  The denominator is actually $$f(data)=\\int f(data|\\theta)d\\theta$$ which is a normailizing constant to make the posterior proper. $$f(data|\\theta)$$ is proportional to the likelihood function.  In other words, $$Posterior \\varpropto Likelihood \\times Prior$$ A conjugate prior for the likelihood, is the prior distribution that a given likelihood function will produce a posterior in the same distribution family as the prior.\n",
    "\n",
    "Sometimes multivariate posterior distributions may not have a known form or may be very difficulat to sample from.  In these cases MCMC sampling techniques such as Gibbs and Metropolis-Hastings can be used.  \n",
    "\n",
    "\n"
   ]
  },
  {
   "cell_type": "markdown",
   "metadata": {
    "id": "FwNjNMcBMRFg",
    "pycharm": {
     "name": "#%% md\n"
    }
   },
   "source": [
    "Let's determine the conjugate prior to fit CAPM (or a simple linear regression).  \n",
    "\n",
    "We first must write out the likelihood function.   $$ L(X,Y|\\beta,\\sigma)=\\prod_{i}\\frac{1}{\\sqrt{2\\pi\\sigma^2}}exp(-\\frac{(y_i-X_i\\beta )^2}{2\\sigma^2})= (\\frac{1}{\\sqrt{2\\pi\\sigma^2}})^n exp(-\\frac{\\sum_i(y_i-X_i\\beta )^2}{2\\sigma^2})$$ $$=(\\frac{1}{\\sqrt{2\\pi\\sigma^2}})^n exp(-\\frac{(Y-X\\beta)^T(Y-X\\beta)}{2\\sigma^2})$$\n",
    "\n",
    "To find the conjugate prior we want the prior to have a similar functional form with respect to $\\beta$ and $\\sigma$ so that it combines well.  In our case,the above likelihood function can be written to be normal in $\\beta-\\hat\\beta$.  Clearly, $$(Y-X\\beta)^T(Y-X\\beta)=(Y-X\\hat\\beta+X\\hat\\beta-X\\beta)^T(Y-X\\hat\\beta+X\\hat\\beta-X\\beta)$$ $$=(Y-X\\hat\\beta)^T(Y-X\\hat\\beta)+(Y-X\\hat\\beta)^T(X\\hat\\beta-X\\beta)+(X\\hat\\beta-X\\beta)^T(Y-X\\hat\\beta)+(X\\hat\\beta-X\\beta)^T(X\\hat\\beta-X\\beta)$$ and since $$\\hat\\beta=(X^TX)^{-1}X^TY$$ the middle terms are $=0$ and therefore $$=(Y-X\\hat\\beta)^T(Y-X\\hat\\beta)+(X\\hat\\beta-X\\beta)^T(X\\hat\\beta-X\\beta)$$ $$=(Y-X\\hat\\beta)^T(Y-X\\hat\\beta)+(\\hat\\beta-\\beta)^T(X^T X)(\\hat\\beta-\\beta)$$  Substituting this in to the above equation gives\n",
    "\n",
    "$$=(\\frac{1}{\\sqrt{2\\pi\\sigma^2}})^n exp(-\\frac{(Y-X\\hat\\beta)^T(Y-X\\hat\\beta)}{2\\sigma^2})exp(-\\frac{(\\hat\\beta-\\beta)^TX^T X(\\hat\\beta-\\beta)}{2\\sigma^2})$$\n",
    "\n",
    "\n",
    "Clearly this is maximized when $\\beta=\\hat\\beta$, but the purpose of this is to write the likelihood in a way to figure out a conjugate prior. Let $\\nu s^2=(Y-X\\hat\\beta)^T(Y-X\\hat\\beta)$, $\\nu=n-k$ where $k$ is the number of regression coefficients.  Then, we can re-write as\n",
    "\\begin{equation}\n",
    "L(X,Y|\\beta,\\sigma)\\varpropto(\\frac{1}{\\sigma^2})^{\\nu/2} exp(-\\frac{\\nu s^2}{2\\sigma^2})(\\frac{1}{\\sigma^2})^{-(n-\\nu)/2}exp(-\\frac{(\\beta-\\hat\\beta)^TX^T X(\\beta-\\hat\\beta)}{2\\sigma^2})\n",
    "\\end{equation}\n",
    "Notice this looks like an inverse-gamma pdf for $\\sigma^2$ times a normal pdf for $\\beta$ conditioned on $\\sigma^2$.  This implies that if the prior distribution is the same the functional form in the posterior should be preserved."
   ]
  },
  {
   "cell_type": "markdown",
   "metadata": {
    "id": "zlE8cmHgMRFi",
    "pycharm": {
     "name": "#%% md\n"
    }
   },
   "source": [
    "Define\n",
    "$$p(\\sigma^2)\\varpropto (\\sigma^2)^{-\\nu_0/2-1}exp(-\\frac{\\nu_0 s_{0}^2}{2\\sigma^2})$$\n",
    "\n",
    "which is the Inverse-gamma, $IG(\\alpha_0,\\beta_0)$ with $\\alpha_0=\\nu_0/2$ and $\\beta_0=\\frac{1}{2}\\nu_0 s_{0}^2$.  Relating this to the above likelihood one can see that $\\nu_0$ and $s_0^2$ will correspond to prior values for $\\nu$ and $s^2$ respectively.  Further, define\n",
    "\n",
    "$$p(\\beta|\\sigma^2)\\varpropto (\\sigma^2)^{-k/2} exp(-\\frac{1}{2\\sigma^2}(\\beta-\\mu_0)^T \\Lambda_0(\\beta-\\mu_0))$$\n",
    "\n",
    "which is a condition prior distribution written as $\\beta|\\sigma^2 \\sim N(\\mu_0,\\sigma^2\\Lambda_0^{-1})$.  For our CAPM problem, $\\Lambda_o=n\\times Cov(X)$ so for larger $n$ the tighter the distribution for $\\beta$ around $\\mu_0$ implied by $\\Lambda_0^{-1}$.  The reason we use $Cov(X)$ is to be able to interpret $n$ as a relative number of observations we are putting on the prior mean for $\\beta$ vs. MLE $\\beta$.\n",
    "\n",
    "Combining the likelihood and the prior for $\\beta$ we get the exponential term as\n",
    "\n",
    "$$p(\\beta|\\sigma^2,X,Y)\\varpropto exp(-\\frac{1}{2\\sigma^2}((\\beta-\\mu_0)^T \\Lambda_0(\\beta-\\mu_0) +(Y-X\\beta)^T(Y-X\\beta))$$\n",
    "$$=exp(-\\frac{1}{2\\sigma^2}((\\beta^T\\Lambda_0\\beta-\\mu_0^T\\Lambda_0\\beta)-(\\beta^T\\Lambda_0\\mu_0-\\mu_0^T\\Lambda_0\\mu_0)  +(Y^TY-Y^TX\\beta)-(\\beta^TX^TY-\\beta^TX^TX\\beta))$$\n",
    "$$=exp(-\\frac{1}{2\\sigma^2}((\\beta^T\\Lambda_0\\beta-\\beta^T\\Lambda_0\\mu_0)-(\\beta^T\\Lambda_0\\mu_0-\\mu_0^T\\Lambda_0\\mu_0)  +(Y^TY-\\beta^T(X^TX)\\hat\\beta)-(\\beta^T(X^TX)\\hat\\beta-\\beta^TX^TX\\beta))$$\n",
    "$$=exp(-\\frac{1}{2\\sigma^2}((\\beta^T\\Lambda_0\\beta-\\beta^T\\Lambda_0\\mu_0)-(\\beta^T\\Lambda_0\\mu_0)  -\\beta^T(X^TX)\\hat\\beta-(\\beta^T(X^TX)\\hat\\beta-\\beta^TX^TX\\beta+\\mu_0^T\\Lambda_0\\mu_0))exp(Y^TY)$$\n",
    "Adding $\\mu_0^T(X^TX)\\hat\\beta$\n",
    "$$\\varpropto exp(-\\frac{1}{2\\sigma^2}(\\beta^T((\\Lambda_0-X^TX)\\beta-2(\\Lambda_0\\mu_0 +(X^TX)\\hat\\beta))+\\mu_0^T(\\Lambda_0\\mu_0+(X^TX)\\hat\\beta))$$\n",
    "Then adding $(-\\mu_0+(\\Lambda_0\\mu_0+(X^TX)\\hat\\beta)(X^TX+\\Lambda_0)^{-1}))(\\Lambda_0\\mu_0+(X^TX)\\hat\\beta)$ to complete the square gives\n",
    "$$\\varpropto exp(-\\frac{1}{2\\sigma^2}((\\beta-(X^TX+\\Lambda_0)^{-1}(\\Lambda_0\\mu_0 +(X^TX)\\hat\\beta))^T\\times(\\Lambda_0-X^TX)\\times(\\beta-(X^TX+\\Lambda_0)^{-1}(\\Lambda_0\\mu_0 +(X^TX)\\hat\\beta)))$$\n",
    "and that gives us the posterior mean\n",
    "$$(X^TX+\\Lambda_0)^{-1}(\\Lambda_0\\mu_0 +(X^TX)\\hat\\beta))$$"
   ]
  },
  {
   "cell_type": "code",
   "execution_count": 11,
   "metadata": {
    "id": "FfFqA_nLMRFk",
    "jupyter": {
     "outputs_hidden": false
    },
    "pycharm": {
     "name": "#%%\n"
    }
   },
   "outputs": [],
   "source": [
    "def bayes_capm(stock,benchmark,prior_mu,prior_n):\n",
    "    \"\"\"\n",
    "    Function to calculate the Bayesian CAPM for a given stock and benchmark\n",
    "    \"\"\"\n",
    "    N=len(benchmark)\n",
    "    Lambda=np.identity(2)\n",
    "    #create the design matrix\n",
    "    X = np.ones((N,2))\n",
    "    X[:,1] = benchmark\n",
    "    XTX=X.T.dot(X)\n",
    "    beta_hat=inv(XTX).dot(X.T).dot(stock)\n",
    "    post_beta=inv(XTX+(float(prior_n)/N)*XTX).dot(XTX.dot(beta_hat)+(float(prior_n)/N)*XTX.dot(prior_mu))\n",
    "    return post_beta"
   ]
  },
  {
   "cell_type": "code",
   "execution_count": 12,
   "metadata": {
    "colab": {
     "base_uri": "https://localhost:8080/"
    },
    "id": "OI07k5X9MRFl",
    "jupyter": {
     "outputs_hidden": false
    },
    "outputId": "0dbf907f-dbf6-4bac-a0fc-85f449320216",
    "pycharm": {
     "name": "#%%\n"
    }
   },
   "outputs": [
    {
     "data": {
      "text/plain": "array([1.34480380e-04, 6.62850641e-01])"
     },
     "execution_count": 12,
     "metadata": {},
     "output_type": "execute_result"
    }
   ],
   "source": [
    "#Prior beta of 1, n=100\n",
    "bayes_capm(df['PG'],df['SPY'],[0,1],100)"
   ]
  },
  {
   "cell_type": "code",
   "execution_count": null,
   "metadata": {
    "colab": {
     "base_uri": "https://localhost:8080/"
    },
    "id": "NfylnSREv1ro",
    "outputId": "3ddefd4c-bdd9-48c9-f4da-db59e2603868",
    "pycharm": {
     "name": "#%%\n"
    }
   },
   "outputs": [
    {
     "data": {
      "text/plain": [
       "array([-1.96621856e-04,  1.18942222e+00])"
      ]
     },
     "execution_count": 21,
     "metadata": {},
     "output_type": "execute_result"
    }
   ],
   "source": [
    "#Prior beta of 1, n=100\n",
    "bayes_capm(df['GM'],df['SPY'],[0,1],100)"
   ]
  },
  {
   "cell_type": "code",
   "execution_count": null,
   "metadata": {
    "id": "zsXsLkj4MRFl",
    "jupyter": {
     "outputs_hidden": false
    },
    "pycharm": {
     "name": "#%%\n"
    }
   },
   "outputs": [],
   "source": [
    "#function to test which n0 to use for prior\n",
    "def test_n0(stock,n0_start,n0_end,n0_by):\n",
    "    num_experiments=500\n",
    "    NN=len(df[stock])\n",
    "    n0_range=np.arange(n0_start,n0_end,n0_by)\n",
    "    error_sums=np.zeros(len(n0_range))\n",
    "    shuffle_list=np.arange(NN)\n",
    "    test=int(.7*NN)\n",
    "    #run num_experiments different expiriments to reduce variance\n",
    "    for iter in range(num_experiments):\n",
    "        random.shuffle(shuffle_list)\n",
    "        for n0 in n0_range:\n",
    "            post_beta=bayes_capm(df[stock].iloc[shuffle_list[:test]],df['SPY'].iloc[shuffle_list[:test]],[0,1],n0)\n",
    "            pred=post_beta[0]+post_beta[1]*df['SPY']\n",
    "            err=df[stock]-pred\n",
    "            err=err.iloc[shuffle_list[test:]]\n",
    "            error_sums[int((n0-n0_start)/n0_by)]=error_sums[int((n0-n0_start)/n0_by)]+err.T.dot(err)\n",
    "    error_sums=error_sums/num_experiments\n",
    "    plt.plot(n0_range,error_sums)"
   ]
  },
  {
   "cell_type": "code",
   "execution_count": null,
   "metadata": {
    "colab": {
     "base_uri": "https://localhost:8080/",
     "height": 430
    },
    "id": "Wnbmecfx6eZb",
    "outputId": "5a2dd0a5-6dd2-48e8-d818-8e67ffc3fe16",
    "pycharm": {
     "name": "#%%\n"
    }
   },
   "outputs": [
    {
     "data": {
      "image/png": "[encoded data removed]",
      "text/plain": [
       "<Figure size 640x480 with 1 Axes>"
      ]
     },
     "metadata": {},
     "output_type": "display_data"
    }
   ],
   "source": [
    "test_n0('GM',0,1000,20)"
   ]
  },
  {
   "cell_type": "code",
   "execution_count": null,
   "metadata": {
    "colab": {
     "base_uri": "https://localhost:8080/"
    },
    "id": "5Uzi5vwdEmo-",
    "outputId": "e6d4e7be-9a5a-4353-ea49-34d526a6167e",
    "pycharm": {
     "name": "#%%\n"
    }
   },
   "outputs": [
    {
     "data": {
      "text/plain": [
       "array([-1.75819713e-04,  1.16938178e+00])"
      ]
     },
     "execution_count": 24,
     "metadata": {},
     "output_type": "execute_result"
    }
   ],
   "source": [
    "post_beta=bayes_capm(df[stock],df['SPY'],[0,1],350)\n",
    "post_beta"
   ]
  },
  {
   "cell_type": "code",
   "execution_count": null,
   "metadata": {
    "colab": {
     "base_uri": "https://localhost:8080/"
    },
    "id": "NCuDQeU4GqyP",
    "outputId": "4105ec33-b236-43e1-ba21-3bc98e00680e",
    "pycharm": {
     "name": "#%%\n"
    }
   },
   "outputs": [
    {
     "data": {
      "text/plain": [
       "array([-6.90939601e-05,  1.06656397e+00])"
      ]
     },
     "execution_count": 25,
     "metadata": {},
     "output_type": "execute_result"
    }
   ],
   "source": [
    "post_beta=bayes_capm(df[stock],df['SPY'],[0,1],4000)\n",
    "post_beta"
   ]
  },
  {
   "cell_type": "markdown",
   "metadata": {
    "id": "L-AMhfgnswSX",
    "pycharm": {
     "name": "#%% md\n"
    }
   },
   "source": [
    "**Question:** What's wrong with this approach? \\\\\n",
    "\n",
    "**Answer:** Data Partitioning. We may want to partition based on time instead of random for hyperparameter tuning"
   ]
  },
  {
   "cell_type": "code",
   "execution_count": null,
   "metadata": {
    "colab": {
     "base_uri": "https://localhost:8080/",
     "height": 455
    },
    "id": "QqZOBx_TyvBF",
    "outputId": "aa1316f0-e232-4356-81f9-93f3254e5a4c",
    "pycharm": {
     "name": "#%%\n"
    }
   },
   "outputs": [
    {
     "data": {
      "text/html": [
       "\n",
       "  <div id=\"df-63d893cd-a9ab-47c2-baa4-ceadcaf0f399\" class=\"colab-df-container\">\n",
       "    <div>\n",
       "<style scoped>\n",
       "    .dataframe tbody tr th:only-of-type {\n",
       "        vertical-align: middle;\n",
       "    }\n",
       "\n",
       "    .dataframe tbody tr th {\n",
       "        vertical-align: top;\n",
       "    }\n",
       "\n",
       "    .dataframe thead th {\n",
       "        text-align: right;\n",
       "    }\n",
       "</style>\n",
       "<table border=\"1\" class=\"dataframe\">\n",
       "  <thead>\n",
       "    <tr style=\"text-align: right;\">\n",
       "      <th></th>\n",
       "      <th>SPY</th>\n",
       "      <th>AAPL</th>\n",
       "      <th>META</th>\n",
       "      <th>IBM</th>\n",
       "      <th>PG</th>\n",
       "      <th>VXX</th>\n",
       "      <th>INTC</th>\n",
       "      <th>GM</th>\n",
       "    </tr>\n",
       "    <tr>\n",
       "      <th>Date</th>\n",
       "      <th></th>\n",
       "      <th></th>\n",
       "      <th></th>\n",
       "      <th></th>\n",
       "      <th></th>\n",
       "      <th></th>\n",
       "      <th></th>\n",
       "      <th></th>\n",
       "    </tr>\n",
       "  </thead>\n",
       "  <tbody>\n",
       "    <tr>\n",
       "      <th>2013-01-03</th>\n",
       "      <td>-0.002259</td>\n",
       "      <td>-0.012622</td>\n",
       "      <td>-0.008214</td>\n",
       "      <td>-0.005500</td>\n",
       "      <td>-0.006341</td>\n",
       "      <td>NaN</td>\n",
       "      <td>-0.002806</td>\n",
       "      <td>0.023687</td>\n",
       "    </tr>\n",
       "    <tr>\n",
       "      <th>2013-01-04</th>\n",
       "      <td>0.004392</td>\n",
       "      <td>-0.027855</td>\n",
       "      <td>0.035650</td>\n",
       "      <td>-0.006555</td>\n",
       "      <td>0.002031</td>\n",
       "      <td>NaN</td>\n",
       "      <td>-0.007505</td>\n",
       "      <td>0.001342</td>\n",
       "    </tr>\n",
       "    <tr>\n",
       "      <th>2013-01-07</th>\n",
       "      <td>-0.002733</td>\n",
       "      <td>-0.005883</td>\n",
       "      <td>0.022949</td>\n",
       "      <td>-0.004382</td>\n",
       "      <td>-0.006803</td>\n",
       "      <td>NaN</td>\n",
       "      <td>0.004254</td>\n",
       "      <td>-0.006698</td>\n",
       "    </tr>\n",
       "    <tr>\n",
       "      <th>2013-01-08</th>\n",
       "      <td>-0.002878</td>\n",
       "      <td>0.002691</td>\n",
       "      <td>-0.012237</td>\n",
       "      <td>-0.001398</td>\n",
       "      <td>-0.001603</td>\n",
       "      <td>NaN</td>\n",
       "      <td>-0.007529</td>\n",
       "      <td>-0.009778</td>\n",
       "    </tr>\n",
       "    <tr>\n",
       "      <th>2013-01-09</th>\n",
       "      <td>0.002542</td>\n",
       "      <td>-0.015628</td>\n",
       "      <td>0.052650</td>\n",
       "      <td>-0.002851</td>\n",
       "      <td>0.005401</td>\n",
       "      <td>NaN</td>\n",
       "      <td>0.017070</td>\n",
       "      <td>0.020429</td>\n",
       "    </tr>\n",
       "    <tr>\n",
       "      <th>...</th>\n",
       "      <td>...</td>\n",
       "      <td>...</td>\n",
       "      <td>...</td>\n",
       "      <td>...</td>\n",
       "      <td>...</td>\n",
       "      <td>...</td>\n",
       "      <td>...</td>\n",
       "      <td>...</td>\n",
       "    </tr>\n",
       "    <tr>\n",
       "      <th>2020-12-23</th>\n",
       "      <td>0.000898</td>\n",
       "      <td>-0.006976</td>\n",
       "      <td>0.003819</td>\n",
       "      <td>0.002346</td>\n",
       "      <td>-0.001538</td>\n",
       "      <td>-0.040309</td>\n",
       "      <td>0.008664</td>\n",
       "      <td>0.037897</td>\n",
       "    </tr>\n",
       "    <tr>\n",
       "      <th>2020-12-24</th>\n",
       "      <td>0.003891</td>\n",
       "      <td>0.007712</td>\n",
       "      <td>-0.002648</td>\n",
       "      <td>0.006376</td>\n",
       "      <td>0.010122</td>\n",
       "      <td>-0.028769</td>\n",
       "      <td>0.010737</td>\n",
       "      <td>-0.020495</td>\n",
       "    </tr>\n",
       "    <tr>\n",
       "      <th>2020-12-28</th>\n",
       "      <td>0.008591</td>\n",
       "      <td>0.035766</td>\n",
       "      <td>0.035901</td>\n",
       "      <td>0.001043</td>\n",
       "      <td>0.006971</td>\n",
       "      <td>-0.003554</td>\n",
       "      <td>0.000000</td>\n",
       "      <td>0.001924</td>\n",
       "    </tr>\n",
       "    <tr>\n",
       "      <th>2020-12-29</th>\n",
       "      <td>-0.001908</td>\n",
       "      <td>-0.013315</td>\n",
       "      <td>-0.000794</td>\n",
       "      <td>-0.008172</td>\n",
       "      <td>-0.001875</td>\n",
       "      <td>0.036266</td>\n",
       "      <td>0.049288</td>\n",
       "      <td>-0.002160</td>\n",
       "    </tr>\n",
       "    <tr>\n",
       "      <th>2020-12-30</th>\n",
       "      <td>0.001427</td>\n",
       "      <td>-0.008526</td>\n",
       "      <td>-0.017740</td>\n",
       "      <td>0.004362</td>\n",
       "      <td>-0.004696</td>\n",
       "      <td>-0.036145</td>\n",
       "      <td>-0.012958</td>\n",
       "      <td>0.006495</td>\n",
       "    </tr>\n",
       "  </tbody>\n",
       "</table>\n",
       "<p>2013 rows × 8 columns</p>\n",
       "</div>\n",
       "    <div class=\"colab-df-buttons\">\n",
       "\n",
       "  <div class=\"colab-df-container\">\n",
       "    <button class=\"colab-df-convert\" onclick=\"convertToInteractive('df-63d893cd-a9ab-47c2-baa4-ceadcaf0f399')\"\n",
       "            title=\"Convert this dataframe to an interactive table.\"\n",
       "            style=\"display:none;\">\n",
       "\n",
       "  <svg xmlns=\"http://www.w3.org/2000/svg\" height=\"24px\" viewBox=\"0 -960 960 960\">\n",
       "    <path d=\"M120-120v-720h720v720H120Zm60-500h600v-160H180v160Zm220 220h160v-160H400v160Zm0 220h160v-160H400v160ZM180-400h160v-160H180v160Zm440 0h160v-160H620v160ZM180-180h160v-160H180v160Zm440 0h160v-160H620v160Z\"/>\n",
       "  </svg>\n",
       "    </button>\n",
       "\n",
       "  <style>\n",
       "    .colab-df-container {\n",
       "      display:flex;\n",
       "      gap: 12px;\n",
       "    }\n",
       "\n",
       "    .colab-df-convert {\n",
       "      background-color: #E8F0FE;\n",
       "      border: none;\n",
       "      border-radius: 50%;\n",
       "      cursor: pointer;\n",
       "      display: none;\n",
       "      fill: #1967D2;\n",
       "      height: 32px;\n",
       "      padding: 0 0 0 0;\n",
       "      width: 32px;\n",
       "    }\n",
       "\n",
       "    .colab-df-convert:hover {\n",
       "      background-color: #E2EBFA;\n",
       "      box-shadow: 0px 1px 2px rgba(60, 64, 67, 0.3), 0px 1px 3px 1px rgba(60, 64, 67, 0.15);\n",
       "      fill: #174EA6;\n",
       "    }\n",
       "\n",
       "    .colab-df-buttons div {\n",
       "      margin-bottom: 4px;\n",
       "    }\n",
       "\n",
       "    [theme=dark] .colab-df-convert {\n",
       "      background-color: #3B4455;\n",
       "      fill: #D2E3FC;\n",
       "    }\n",
       "\n",
       "    [theme=dark] .colab-df-convert:hover {\n",
       "      background-color: #434B5C;\n",
       "      box-shadow: 0px 1px 3px 1px rgba(0, 0, 0, 0.15);\n",
       "      filter: drop-shadow(0px 1px 2px rgba(0, 0, 0, 0.3));\n",
       "      fill: #FFFFFF;\n",
       "    }\n",
       "  </style>\n",
       "\n",
       "    <script>\n",
       "      const buttonEl =\n",
       "        document.querySelector('#df-63d893cd-a9ab-47c2-baa4-ceadcaf0f399 button.colab-df-convert');\n",
       "      buttonEl.style.display =\n",
       "        google.colab.kernel.accessAllowed ? 'block' : 'none';\n",
       "\n",
       "      async function convertToInteractive(key) {\n",
       "        const element = document.querySelector('#df-63d893cd-a9ab-47c2-baa4-ceadcaf0f399');\n",
       "        const dataTable =\n",
       "          await google.colab.kernel.invokeFunction('convertToInteractive',\n",
       "                                                    [key], {});\n",
       "        if (!dataTable) return;\n",
       "\n",
       "        const docLinkHtml = 'Like what you see? Visit the ' +\n",
       "          '<a target=\"_blank\" href=https://colab.research.google.com/notebooks/data_table.ipynb>data table notebook</a>'\n",
       "          + ' to learn more about interactive tables.';\n",
       "        element.innerHTML = '';\n",
       "        dataTable['output_type'] = 'display_data';\n",
       "        await google.colab.output.renderOutput(dataTable, element);\n",
       "        const docLink = document.createElement('div');\n",
       "        docLink.innerHTML = docLinkHtml;\n",
       "        element.appendChild(docLink);\n",
       "      }\n",
       "    </script>\n",
       "  </div>\n",
       "\n",
       "\n",
       "<div id=\"df-a07b33e6-4d36-454f-b769-3054ddb24fbd\">\n",
       "  <button class=\"colab-df-quickchart\" onclick=\"quickchart('df-a07b33e6-4d36-454f-b769-3054ddb24fbd')\"\n",
       "            title=\"Suggest charts.\"\n",
       "            style=\"display:none;\">\n",
       "\n",
       "<svg xmlns=\"http://www.w3.org/2000/svg\" height=\"24px\"viewBox=\"0 0 24 24\"\n",
       "     width=\"24px\">\n",
       "    <g>\n",
       "        <path d=\"M19 3H5c-1.1 0-2 .9-2 2v14c0 1.1.9 2 2 2h14c1.1 0 2-.9 2-2V5c0-1.1-.9-2-2-2zM9 17H7v-7h2v7zm4 0h-2V7h2v10zm4 0h-2v-4h2v4z\"/>\n",
       "    </g>\n",
       "</svg>\n",
       "  </button>\n",
       "\n",
       "<style>\n",
       "  .colab-df-quickchart {\n",
       "      --bg-color: #E8F0FE;\n",
       "      --fill-color: #1967D2;\n",
       "      --hover-bg-color: #E2EBFA;\n",
       "      --hover-fill-color: #174EA6;\n",
       "      --disabled-fill-color: #AAA;\n",
       "      --disabled-bg-color: #DDD;\n",
       "  }\n",
       "\n",
       "  [theme=dark] .colab-df-quickchart {\n",
       "      --bg-color: #3B4455;\n",
       "      --fill-color: #D2E3FC;\n",
       "      --hover-bg-color: #434B5C;\n",
       "      --hover-fill-color: #FFFFFF;\n",
       "      --disabled-bg-color: #3B4455;\n",
       "      --disabled-fill-color: #666;\n",
       "  }\n",
       "\n",
       "  .colab-df-quickchart {\n",
       "    background-color: var(--bg-color);\n",
       "    border: none;\n",
       "    border-radius: 50%;\n",
       "    cursor: pointer;\n",
       "    display: none;\n",
       "    fill: var(--fill-color);\n",
       "    height: 32px;\n",
       "    padding: 0;\n",
       "    width: 32px;\n",
       "  }\n",
       "\n",
       "  .colab-df-quickchart:hover {\n",
       "    background-color: var(--hover-bg-color);\n",
       "    box-shadow: 0 1px 2px rgba(60, 64, 67, 0.3), 0 1px 3px 1px rgba(60, 64, 67, 0.15);\n",
       "    fill: var(--button-hover-fill-color);\n",
       "  }\n",
       "\n",
       "  .colab-df-quickchart-complete:disabled,\n",
       "  .colab-df-quickchart-complete:disabled:hover {\n",
       "    background-color: var(--disabled-bg-color);\n",
       "    fill: var(--disabled-fill-color);\n",
       "    box-shadow: none;\n",
       "  }\n",
       "\n",
       "  .colab-df-spinner {\n",
       "    border: 2px solid var(--fill-color);\n",
       "    border-color: transparent;\n",
       "    border-bottom-color: var(--fill-color);\n",
       "    animation:\n",
       "      spin 1s steps(1) infinite;\n",
       "  }\n",
       "\n",
       "  @keyframes spin {\n",
       "    0% {\n",
       "      border-color: transparent;\n",
       "      border-bottom-color: var(--fill-color);\n",
       "      border-left-color: var(--fill-color);\n",
       "    }\n",
       "    20% {\n",
       "      border-color: transparent;\n",
       "      border-left-color: var(--fill-color);\n",
       "      border-top-color: var(--fill-color);\n",
       "    }\n",
       "    30% {\n",
       "      border-color: transparent;\n",
       "      border-left-color: var(--fill-color);\n",
       "      border-top-color: var(--fill-color);\n",
       "      border-right-color: var(--fill-color);\n",
       "    }\n",
       "    40% {\n",
       "      border-color: transparent;\n",
       "      border-right-color: var(--fill-color);\n",
       "      border-top-color: var(--fill-color);\n",
       "    }\n",
       "    60% {\n",
       "      border-color: transparent;\n",
       "      border-right-color: var(--fill-color);\n",
       "    }\n",
       "    80% {\n",
       "      border-color: transparent;\n",
       "      border-right-color: var(--fill-color);\n",
       "      border-bottom-color: var(--fill-color);\n",
       "    }\n",
       "    90% {\n",
       "      border-color: transparent;\n",
       "      border-bottom-color: var(--fill-color);\n",
       "    }\n",
       "  }\n",
       "</style>\n",
       "\n",
       "  <script>\n",
       "    async function quickchart(key) {\n",
       "      const quickchartButtonEl =\n",
       "        document.querySelector('#' + key + ' button');\n",
       "      quickchartButtonEl.disabled = true;  // To prevent multiple clicks.\n",
       "      quickchartButtonEl.classList.add('colab-df-spinner');\n",
       "      try {\n",
       "        const charts = await google.colab.kernel.invokeFunction(\n",
       "            'suggestCharts', [key], {});\n",
       "      } catch (error) {\n",
       "        console.error('Error during call to suggestCharts:', error);\n",
       "      }\n",
       "      quickchartButtonEl.classList.remove('colab-df-spinner');\n",
       "      quickchartButtonEl.classList.add('colab-df-quickchart-complete');\n",
       "    }\n",
       "    (() => {\n",
       "      let quickchartButtonEl =\n",
       "        document.querySelector('#df-a07b33e6-4d36-454f-b769-3054ddb24fbd button');\n",
       "      quickchartButtonEl.style.display =\n",
       "        google.colab.kernel.accessAllowed ? 'block' : 'none';\n",
       "    })();\n",
       "  </script>\n",
       "</div>\n",
       "\n",
       "  <div id=\"id_2c8b3d16-428e-485e-81e0-1444ea69ae78\">\n",
       "    <style>\n",
       "      .colab-df-generate {\n",
       "        background-color: #E8F0FE;\n",
       "        border: none;\n",
       "        border-radius: 50%;\n",
       "        cursor: pointer;\n",
       "        display: none;\n",
       "        fill: #1967D2;\n",
       "        height: 32px;\n",
       "        padding: 0 0 0 0;\n",
       "        width: 32px;\n",
       "      }\n",
       "\n",
       "      .colab-df-generate:hover {\n",
       "        background-color: #E2EBFA;\n",
       "        box-shadow: 0px 1px 2px rgba(60, 64, 67, 0.3), 0px 1px 3px 1px rgba(60, 64, 67, 0.15);\n",
       "        fill: #174EA6;\n",
       "      }\n",
       "\n",
       "      [theme=dark] .colab-df-generate {\n",
       "        background-color: #3B4455;\n",
       "        fill: #D2E3FC;\n",
       "      }\n",
       "\n",
       "      [theme=dark] .colab-df-generate:hover {\n",
       "        background-color: #434B5C;\n",
       "        box-shadow: 0px 1px 3px 1px rgba(0, 0, 0, 0.15);\n",
       "        filter: drop-shadow(0px 1px 2px rgba(0, 0, 0, 0.3));\n",
       "        fill: #FFFFFF;\n",
       "      }\n",
       "    </style>\n",
       "    <button class=\"colab-df-generate\" onclick=\"generateWithVariable('df')\"\n",
       "            title=\"Generate code using this dataframe.\"\n",
       "            style=\"display:none;\">\n",
       "\n",
       "  <svg xmlns=\"http://www.w3.org/2000/svg\" height=\"24px\"viewBox=\"0 0 24 24\"\n",
       "       width=\"24px\">\n",
       "    <path d=\"M7,19H8.4L18.45,9,17,7.55,7,17.6ZM5,21V16.75L18.45,3.32a2,2,0,0,1,2.83,0l1.4,1.43a1.91,1.91,0,0,1,.58,1.4,1.91,1.91,0,0,1-.58,1.4L9.25,21ZM18.45,9,17,7.55Zm-12,3A5.31,5.31,0,0,0,4.9,8.1,5.31,5.31,0,0,0,1,6.5,5.31,5.31,0,0,0,4.9,4.9,5.31,5.31,0,0,0,6.5,1,5.31,5.31,0,0,0,8.1,4.9,5.31,5.31,0,0,0,12,6.5,5.46,5.46,0,0,0,6.5,12Z\"/>\n",
       "  </svg>\n",
       "    </button>\n",
       "    <script>\n",
       "      (() => {\n",
       "      const buttonEl =\n",
       "        document.querySelector('#id_2c8b3d16-428e-485e-81e0-1444ea69ae78 button.colab-df-generate');\n",
       "      buttonEl.style.display =\n",
       "        google.colab.kernel.accessAllowed ? 'block' : 'none';\n",
       "\n",
       "      buttonEl.onclick = () => {\n",
       "        google.colab.notebook.generateWithVariable('df');\n",
       "      }\n",
       "      })();\n",
       "    </script>\n",
       "  </div>\n",
       "\n",
       "    </div>\n",
       "  </div>\n"
      ],
      "text/plain": [
       "                 SPY      AAPL      META       IBM        PG       VXX  \\\n",
       "Date                                                                     \n",
       "2013-01-03 -0.002259 -0.012622 -0.008214 -0.005500 -0.006341       NaN   \n",
       "2013-01-04  0.004392 -0.027855  0.035650 -0.006555  0.002031       NaN   \n",
       "2013-01-07 -0.002733 -0.005883  0.022949 -0.004382 -0.006803       NaN   \n",
       "2013-01-08 -0.002878  0.002691 -0.012237 -0.001398 -0.001603       NaN   \n",
       "2013-01-09  0.002542 -0.015628  0.052650 -0.002851  0.005401       NaN   \n",
       "...              ...       ...       ...       ...       ...       ...   \n",
       "2020-12-23  0.000898 -0.006976  0.003819  0.002346 -0.001538 -0.040309   \n",
       "2020-12-24  0.003891  0.007712 -0.002648  0.006376  0.010122 -0.028769   \n",
       "2020-12-28  0.008591  0.035766  0.035901  0.001043  0.006971 -0.003554   \n",
       "2020-12-29 -0.001908 -0.013315 -0.000794 -0.008172 -0.001875  0.036266   \n",
       "2020-12-30  0.001427 -0.008526 -0.017740  0.004362 -0.004696 -0.036145   \n",
       "\n",
       "                INTC        GM  \n",
       "Date                            \n",
       "2013-01-03 -0.002806  0.023687  \n",
       "2013-01-04 -0.007505  0.001342  \n",
       "2013-01-07  0.004254 -0.006698  \n",
       "2013-01-08 -0.007529 -0.009778  \n",
       "2013-01-09  0.017070  0.020429  \n",
       "...              ...       ...  \n",
       "2020-12-23  0.008664  0.037897  \n",
       "2020-12-24  0.010737 -0.020495  \n",
       "2020-12-28  0.000000  0.001924  \n",
       "2020-12-29  0.049288 -0.002160  \n",
       "2020-12-30 -0.012958  0.006495  \n",
       "\n",
       "[2013 rows x 8 columns]"
      ]
     },
     "execution_count": 16,
     "metadata": {},
     "output_type": "execute_result"
    }
   ],
   "source": [
    "df"
   ]
  },
  {
   "cell_type": "code",
   "execution_count": null,
   "metadata": {
    "colab": {
     "base_uri": "https://localhost:8080/"
    },
    "id": "thmktEq1651a",
    "outputId": "5ac16320-dc1b-4910-fe20-a46f2b8ec15d",
    "pycharm": {
     "name": "#%%\n"
    }
   },
   "outputs": [
    {
     "data": {
      "text/plain": [
       "array([-1.79620498e-04,  1.17304401e+00])"
      ]
     },
     "execution_count": 17,
     "metadata": {},
     "output_type": "execute_result"
    }
   ],
   "source": [
    "bayes_capm(df['GM'],df['SPY'],[0,1],300)"
   ]
  },
  {
   "cell_type": "markdown",
   "metadata": {
    "id": "NYfp9ZN8MRFo",
    "pycharm": {
     "name": "#%% md\n"
    }
   },
   "source": [
    "Let's try a Ridge model.  Ridge penaized parameters for being different from zero, so in our case we must reformulate the problem.  The regular CAPM is $$r_t=\\alpha+\\beta b_t+\\epsilon_t$$ where $r_t$ is the return of the stock and $b_t$ is the return of the benchmark.  Reformulate to\n",
    "$$(r_t-b_t)=\\alpha+(\\beta-1)b_t=\\alpha+\\tilde\\beta b_t$$\n",
    "so that stocks should not stray too far from the overall avaerage $\\alpha=0$ and $\\tilde\\beta=0$.\n",
    "\n",
    "So $\\beta=\\tilde\\beta+1$"
   ]
  },
  {
   "cell_type": "markdown",
   "metadata": {
    "id": "-yHnTIbb0C1C",
    "pycharm": {
     "name": "#%% md\n"
    }
   },
   "source": [
    "Again, you would want to optimize for alpha here"
   ]
  },
  {
   "cell_type": "code",
   "execution_count": null,
   "metadata": {
    "id": "mSyiQhI8AF3O",
    "pycharm": {
     "name": "#%%\n"
    }
   },
   "outputs": [],
   "source": [
    "#function to test which n0 to use for prior\n",
    "def test_alpha_ridge(stock,alpha_start,alpha_end,alpha_by):\n",
    "    num_experiments=500\n",
    "    NN=len(df[stock])\n",
    "    alpha_range=np.linspace(alpha_start,alpha_end,int((alpha_end-alpha_start)/alpha_by))\n",
    "    error_sums=np.zeros(len(alpha_range))\n",
    "    betas=np.zeros(len(alpha_range))\n",
    "    intercept=np.zeros(len(alpha_range))\n",
    "    shuffle_list=np.arange(NN)\n",
    "    test=int(.7*NN)\n",
    "    #run num_experiments different expiriments to reduce variance\n",
    "    for iter in range(num_experiments):\n",
    "        random.shuffle(shuffle_list)\n",
    "        for alpha in range(len(alpha_range)):\n",
    "            ridge_model = Ridge(alpha=alpha_range[alpha],max_iter=10000, tol=0.00001)\n",
    "            #mutliplied by 100 to reduce floating point issues\n",
    "            ridge_fit = ridge_model.fit(df[['SPY']].iloc[shuffle_list[:test]],(df[stock].iloc[shuffle_list[:test]]-df['SPY'].iloc[shuffle_list[:test]]))\n",
    "            pred=(ridge_fit.intercept_)+(1+ridge_fit.coef_[0])*df['SPY']\n",
    "            err=df[stock]-pred\n",
    "            err=err.iloc[shuffle_list[test:]]\n",
    "            error_sums[alpha]=error_sums[alpha]+err.T.dot(err)\n",
    "            betas[alpha]+=(1+ridge_fit.coef_[0])\n",
    "            intercept[alpha]+=(ridge_fit.intercept_)\n",
    "    error_sums=error_sums/num_experiments\n",
    "    betas=betas/num_experiments\n",
    "    intercept=intercept/num_experiments\n",
    "    print(intercept)\n",
    "    print(betas)\n",
    "    plt.plot(alpha_range,error_sums)\n",
    "    return error_sums"
   ]
  },
  {
   "cell_type": "code",
   "execution_count": null,
   "metadata": {
    "colab": {
     "base_uri": "https://localhost:8080/",
     "height": 569
    },
    "id": "EnT0oTxGowyd",
    "outputId": "b28cf2a3-7887-446c-fbff-d992fccd9999",
    "pycharm": {
     "name": "#%%\n"
    }
   },
   "outputs": [
    {
     "name": "stdout",
     "output_type": "stream",
     "text": [
      "[-0.00021419 -0.00021228 -0.00021043 -0.00020864 -0.00020691 -0.00020523\n",
      " -0.0002036  -0.00020202 -0.00020049 -0.00019899 -0.00019755 -0.00019614\n",
      " -0.00019477 -0.00019344 -0.00019214 -0.00019088 -0.00018966 -0.00018846\n",
      " -0.00018729]\n",
      "[1.19728469 1.19408295 1.19098388 1.18798261 1.18507457 1.18225546\n",
      " 1.17952124 1.17686813 1.17429255 1.17179116 1.16936077 1.16699839\n",
      " 1.16470121 1.16246654 1.16029188 1.15817481 1.15611309 1.15410456\n",
      " 1.15214719]\n"
     ]
    },
    {
     "data": {
      "image/png": "[encoded data removed]",
      "text/plain": [
       "<Figure size 640x480 with 1 Axes>"
      ]
     },
     "metadata": {},
     "output_type": "display_data"
    }
   ],
   "source": [
    "#supress warnings just for this cell\n",
    "import warnings\n",
    "warnings.filterwarnings('ignore')\n",
    "error_sums=test_alpha_ridge('GM',.0025,.05,.0025)"
   ]
  },
  {
   "cell_type": "markdown",
   "metadata": {
    "id": "kF9hHytAASa4",
    "pycharm": {
     "name": "#%% md\n"
    }
   },
   "source": [
    "## What about Lasso regression?"
   ]
  },
  {
   "cell_type": "code",
   "execution_count": null,
   "metadata": {
    "id": "5UN3DgJvMRFp",
    "jupyter": {
     "outputs_hidden": false
    },
    "pycharm": {
     "name": "#%%\n"
    }
   },
   "outputs": [],
   "source": [
    "#function to test which n0 to use for prior\n",
    "def test_alpha(stock,alpha_start,alpha_end,alpha_by):\n",
    "    num_experiments=500\n",
    "    NN=len(df[stock])\n",
    "    alpha_range=np.linspace(alpha_start,alpha_end,int((alpha_end-alpha_start)/alpha_by))\n",
    "    error_sums=np.zeros(len(alpha_range))\n",
    "    betas=np.zeros(len(alpha_range))\n",
    "    intercept=np.zeros(len(alpha_range))\n",
    "    shuffle_list=np.arange(NN)\n",
    "    test=int(.7*NN)\n",
    "    #run num_experiments different expiriments to reduce variance\n",
    "    for iter in range(num_experiments):\n",
    "        random.shuffle(shuffle_list)\n",
    "        for alpha in range(len(alpha_range)):\n",
    "            lasso_model = Lasso(alpha=alpha_range[alpha],max_iter=10000, tol=0.0000001,selection='random')\n",
    "            #multiply by 100 for floating point\n",
    "            lasso_fit = lasso_model.fit(100.*df[['SPY']].iloc[shuffle_list[:test]],100.*(df[stock].iloc[shuffle_list[:test]]-df['SPY'].iloc[shuffle_list[:test]]))\n",
    "            pred=(lasso_fit.intercept_/100.)+(1.+lasso_fit.coef_[0])*df['SPY']\n",
    "            err=df[stock]-pred\n",
    "            err=err.iloc[shuffle_list[test:]]\n",
    "            error_sums[alpha]=error_sums[alpha]+err.T.dot(err)\n",
    "            betas[alpha]+=(1+lasso_fit.coef_[0])\n",
    "            intercept[alpha]+=(lasso_fit.intercept_/100.)\n",
    "    error_sums=error_sums/num_experiments\n",
    "    betas=betas/num_experiments\n",
    "    intercept=intercept/num_experiments\n",
    "    print(intercept)\n",
    "    print(betas)\n",
    "    plt.plot(alpha_range,error_sums)\n",
    "    return error_sums"
   ]
  },
  {
   "cell_type": "code",
   "execution_count": null,
   "metadata": {
    "id": "aXpADEBVBVUr",
    "pycharm": {
     "name": "#%%\n"
    }
   },
   "outputs": [],
   "source": [
    "import warnings\n",
    "warnings.filterwarnings('ignore')"
   ]
  },
  {
   "cell_type": "code",
   "execution_count": null,
   "metadata": {
    "colab": {
     "base_uri": "https://localhost:8080/",
     "height": 571
    },
    "id": "t7jGVclM1Hwf",
    "outputId": "43ec1167-4860-40f1-ed37-731f7406fb41",
    "pycharm": {
     "name": "#%%\n"
    }
   },
   "outputs": [
    {
     "name": "stdout",
     "output_type": "stream",
     "text": [
      "[-0.00021067 -0.00020765 -0.00020464 -0.00020162 -0.0001986  -0.00019558\n",
      " -0.00019257 -0.00018955 -0.00018653 -0.00018351 -0.0001805  -0.00017748\n",
      " -0.00017446 -0.00017145 -0.00016844 -0.00016544 -0.00016244 -0.00015944\n",
      " -0.00015646]\n",
      "[1.19763605 1.19265125 1.18766646 1.18268166 1.17769686 1.17271207\n",
      " 1.16772727 1.16274248 1.15775768 1.15277288 1.14778809 1.14280329\n",
      " 1.1378185  1.13283923 1.12787272 1.12291084 1.11794983 1.11300312\n",
      " 1.10807615]\n"
     ]
    },
    {
     "data": {
      "image/png": "[encoded data removed]",
      "text/plain": [
       "<Figure size 640x480 with 1 Axes>"
      ]
     },
     "metadata": {},
     "output_type": "display_data"
    }
   ],
   "source": [
    "error_sums=test_alpha('GM',.0001,.1,.005)"
   ]
  },
  {
   "cell_type": "code",
   "execution_count": null,
   "metadata": {
    "id": "j8LU9lL88Naz",
    "pycharm": {
     "name": "#%%\n"
    }
   },
   "outputs": [],
   "source": [
    "#turn back on\n",
    "warnings.filterwarnings('default')"
   ]
  },
  {
   "cell_type": "code",
   "execution_count": null,
   "metadata": {
    "id": "9W6HQFiWKL4B",
    "pycharm": {
     "name": "#%%\n"
    }
   },
   "outputs": [],
   "source": []
  }
 ],
 "metadata": {
  "colab": {
   "provenance": []
  },
  "kernelspec": {
   "display_name": "Python 3",
   "language": "python",
   "name": "python3"
  },
  "language_info": {
   "codemirror_mode": {
    "name": "ipython",
    "version": 3
   },
   "file_extension": ".py",
   "mimetype": "text/x-python",
   "name": "python",
   "nbconvert_exporter": "python",
   "pygments_lexer": "ipython3",
   "version": "3.7.6"
  }
 },
 "nbformat": 4,
 "nbformat_minor": 0
}