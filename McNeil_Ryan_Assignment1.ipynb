{
 "cells": [
  {
   "cell_type": "markdown",
   "metadata": {
    "collapsed": false,
    "pycharm": {
     "name": "#%% md\n"
    }
   },
   "source": [
    "Setup"
   ]
  },
  {
   "cell_type": "code",
   "execution_count": 1,
   "outputs": [],
   "source": [
    "import os\n",
    "import numpy\n",
    "import numpy as np\n",
    "import pandas as pd\n",
    "import matplotlib as mp\n",
    "import matplotlib.pyplot as plt\n",
    "from math import *\n",
    "from decimal import Decimal\n",
    "\n",
    "# I ONLY IMPORT SCIPY AND SKLEARN FOR CHECKING/COMPARING THE FUNCTIONALITY OF SOME OF THEIR FUNCTIONS AGAINST MY OWN.\n",
    "import scipy as sp\n",
    "from scipy.spatial.distance import minkowski\n",
    "import sklearn as skl\n",
    "from sklearn import metrics"
   ],
   "metadata": {
    "collapsed": false,
    "pycharm": {
     "name": "#%%\n"
    },
    "ExecuteTime": {
     "end_time": "2024-03-03T21:56:16.773411Z",
     "start_time": "2024-03-03T21:56:16.769137Z"
    }
   }
  },
  {
   "cell_type": "markdown",
   "source": [
    "# Part A: Model Code (60 pts)"
   ],
   "metadata": {
    "collapsed": false,
    "pycharm": {
     "name": "#%% md\n"
    }
   }
  },
  {
   "cell_type": "markdown",
   "source": [
    "1. Write a function to calculate and return the Minkowski distance with optional argument p defaulting to ‘p=2’ (Euclidean) of two vectors where a vector represents a data point.[6 pts]"
   ],
   "metadata": {
    "collapsed": false,
    "pycharm": {
     "name": "#%% md\n"
    }
   }
  },
  {
   "cell_type": "code",
   "execution_count": 2,
   "metadata": {
    "collapsed": true,
    "jupyter": {
     "outputs_hidden": true
    },
    "pycharm": {
     "name": "#%%\n"
    },
    "ExecuteTime": {
     "end_time": "2024-03-03T21:21:14.461188Z",
     "start_time": "2024-03-03T21:21:14.456127Z"
    }
   },
   "outputs": [],
   "source": [
    "# Helper function - calculate distance value to given root value\n",
    "# ('p' is root value)\n",
    "# I'm going to name all of my custom functions starting with \"custom_\" so as not to\n",
    "# confuse them with the SciPy versions of these functions later.\n",
    "\n",
    "def p_root(value, root):\n",
    "    root_value = 1 / float(root)\n",
    "    return round(Decimal(value) **\n",
    "                 Decimal(root_value), 3)\n",
    "\n",
    "\n",
    "# Minkowski distance function using helper\n",
    "def custom_minkowski_distance(x_vector, y_vector, p_value=2):\n",
    "    # Parallel calculation of p_values\n",
    "    return (p_root(sum(pow(abs(a - b), p_value)\n",
    "                       for a, b in zip(x_vector, y_vector)), p_value))"
   ]
  },
  {
   "cell_type": "code",
   "outputs": [
    {
     "name": "stdout",
     "output_type": "stream",
     "text": [
      "My function gives:  2.449\n",
      "Scipy minkowski function gives:  2.449489742783178\n"
     ]
    }
   ],
   "source": [
    "from scipy.spatial.distance import minkowski\n",
    "\n",
    "# test execution with sample vectors\n",
    "# I ONLY IMPORT SCIPY HERE TO COMPARE\n",
    "vector1 = [0, 1, 2, 4]\n",
    "vector2 = [1, 3, 2, 5]\n",
    "print(\"My function gives: \", custom_minkowski_distance(vector1, vector2))\n",
    "print(\"Scipy minkowski function gives: \", minkowski(vector1, vector2))\n",
    "del (vector1, vector2)\n"
   ],
   "metadata": {
    "collapsed": false,
    "ExecuteTime": {
     "end_time": "2024-03-03T21:38:44.273072Z",
     "start_time": "2024-03-03T21:38:44.267460Z"
    },
    "pycharm": {
     "name": "#%%\n"
    }
   },
   "execution_count": 3
  },
  {
   "cell_type": "markdown",
   "metadata": {
    "collapsed": false,
    "pycharm": {
     "name": "#%% md\n"
    }
   },
   "source": [
    "2. Write a function to calculate and return the accuracy of two vectors. [4 pts]"
   ]
  },
  {
   "cell_type": "code",
   "execution_count": 4,
   "metadata": {
    "collapsed": false,
    "pycharm": {
     "name": "#%%\n"
    },
    "ExecuteTime": {
     "end_time": "2024-03-03T21:21:16.815067Z",
     "start_time": "2024-03-03T21:21:16.810788Z"
    }
   },
   "outputs": [],
   "source": [
    "def custom_accuracy(y_vals, y_preds):\n",
    "    true_predictions = 0\n",
    "    for i in range(len(y_vals)):\n",
    "        if y_preds[i] == y_vals[i]:\n",
    "            true_predictions += 1\n",
    "    acc_val = true_predictions / len(y_vals)\n",
    "    return round(acc_val, 3)"
   ]
  },
  {
   "cell_type": "code",
   "outputs": [
    {
     "name": "stdout",
     "output_type": "stream",
     "text": [
      "My function accuracy score:  0.5\n",
      "SKLearn accuracy score:  0.5\n"
     ]
    }
   ],
   "source": [
    "# test execution on sample data\n",
    "y_vals_input = [0, 0, 0, 0, 0, 1, 1, 1, 1, 1]\n",
    "y_preds_input = [0, 0, 0, 1, 1, 0, 0, 0, 1, 1]\n",
    "#TP: 2\n",
    "#FP: 2\n",
    "#TN: 3\n",
    "#FN: 3\n",
    "print(\"My function accuracy score: \", custom_accuracy(y_vals_input, y_preds_input))\n",
    "print(\"SKLearn accuracy score: \", skl.metrics.accuracy_score(y_vals_input, y_preds_input))"
   ],
   "metadata": {
    "collapsed": false,
    "ExecuteTime": {
     "end_time": "2024-03-03T21:40:11.630855Z",
     "start_time": "2024-03-03T21:40:11.624547Z"
    },
    "pycharm": {
     "name": "#%%\n"
    }
   },
   "execution_count": 5
  },
  {
   "cell_type": "markdown",
   "metadata": {
    "collapsed": false,
    "pycharm": {
     "name": "#%% md\n"
    }
   },
   "source": [
    "3. Write three functions to compute: precision, recall and F1 score. [6 pts]"
   ]
  },
  {
   "cell_type": "code",
   "execution_count": 6,
   "metadata": {
    "collapsed": false,
    "pycharm": {
     "name": "#%%\n"
    },
    "ExecuteTime": {
     "end_time": "2024-03-03T21:49:21.841973Z",
     "start_time": "2024-03-03T21:49:21.820385Z"
    }
   },
   "outputs": [
    {
     "name": "stdout",
     "output_type": "stream",
     "text": [
      "My func Precision score:  0.5\n",
      "SKL Precision score:  0.5\n",
      "My func Recall score:  0.4\n",
      "SKL Recall score:  0.4\n",
      "My func F1 score:  0.444\n",
      "SKL F1 score:  0.4444444444444445\n"
     ]
    }
   ],
   "source": [
    "#Precision: TruePos / (TruePos + FalsePos)\n",
    "def custom_precision(y_vals, y_preds):\n",
    "    if y_preds.count(1) == 0:\n",
    "        raise Exception(\"Cannot calculate precision value: No predicted positives.\")\n",
    "    else:\n",
    "        TruePos = 0\n",
    "        FalsePos = 0\n",
    "        for i in range(len(y_vals)):\n",
    "            if y_preds[i] == 1:\n",
    "                if y_vals[i] == 1: TruePos += 1\n",
    "                if y_vals[i] == 0: FalsePos += 1\n",
    "        prec_score = TruePos / y_preds.count(1)\n",
    "    return round(prec_score, 3)\n",
    "\n",
    "\n",
    "# Recall: TruePos / (TruePos + FalseNeg)\n",
    "def custom_recall(y_vals, y_preds):\n",
    "    TruePos = 0\n",
    "    FalseNeg = 0\n",
    "    for i in range(len(y_vals)):\n",
    "        if y_vals[i] == 1:\n",
    "            if y_preds[i] == 1: TruePos += 1\n",
    "            if y_preds[i] == 0: FalseNeg += 1\n",
    "    if y_vals.count(1) == 0:\n",
    "        raise Exception(\"Cannot calculate recall: No real positives.\")\n",
    "    else:\n",
    "        recall_score = TruePos / (TruePos + FalseNeg)\n",
    "    return round(recall_score, 3)\n",
    "\n",
    "\n",
    "# F1: TruePos / (TruePos + 0.5(FalsePos + FalseNeg))\n",
    "# Here I use the other equation: F1 = (2 * Precision * Recall) / (Precision + Recall)\n",
    "def custom_F1_score(y_vals, y_preds):\n",
    "    precision_score = custom_precision(y_vals, y_preds)\n",
    "    recall_score = custom_recall(y_vals, y_preds)\n",
    "    F1_val = (2*(precision_score*recall_score))/(precision_score+recall_score)\n",
    "    return round(F1_val, 3)\n",
    "\n",
    "\n",
    "print(\"My func Precision score: \", custom_precision(y_vals_input, y_preds_input))\n",
    "print(\"SKL Precision score: \", skl.metrics.precision_score(y_vals_input, y_preds_input))\n",
    "print(\"My func Recall score: \", custom_recall(y_vals_input, y_preds_input))\n",
    "print(\"SKL Recall score: \", skl.metrics.recall_score(y_vals_input, y_preds_input))\n",
    "print(\"My func F1 score: \", custom_F1_score(y_vals_input, y_preds_input))\n",
    "print(\"SKL F1 score: \", skl.metrics.f1_score(y_vals_input, y_preds_input))"
   ]
  },
  {
   "cell_type": "markdown",
   "metadata": {
    "collapsed": false,
    "pycharm": {
     "name": "#%% md\n"
    }
   },
   "source": [
    "4. Write a function to compute the confusion matrix of two vectors. [4 pts]"
   ]
  },
  {
   "cell_type": "code",
   "execution_count": 7,
   "metadata": {
    "collapsed": false,
    "pycharm": {
     "name": "#%%\n"
    },
    "ExecuteTime": {
     "end_time": "2024-03-03T21:21:17.862068Z",
     "start_time": "2024-03-03T21:21:17.831228Z"
    }
   },
   "outputs": [
    {
     "name": "stdout",
     "output_type": "stream",
     "text": [
      "My confusion matrix: \n",
      "                     Actual Positive  Actual Negative\n",
      "Predicted Positive                2                2\n",
      "Predicted Negative                3                3\n",
      "\n",
      "SKLearn confusion matrix:\n"
     ]
    },
    {
     "data": {
      "text/plain": "array([[3, 2],\n       [3, 2]], dtype=int64)"
     },
     "execution_count": 7,
     "metadata": {},
     "output_type": "execute_result"
    }
   ],
   "source": [
    "def custom_confusion_matrix(y_vals, y_preds):\n",
    "    TruePos = 0\n",
    "    FalsePos = 0\n",
    "    TrueNeg = 0\n",
    "    FalseNeg = 0\n",
    "    for i in range(len(y_vals)):\n",
    "        if y_vals[i] == 1:\n",
    "            if y_preds[i] == 1: TruePos += 1\n",
    "            if y_preds[i] == 0: FalseNeg += 1\n",
    "        else:\n",
    "            if y_preds[i] == 1: FalsePos += 1\n",
    "            if y_preds[i] == 0: TrueNeg += 1\n",
    "    conf_mtrx = pd.DataFrame([[TruePos, FalsePos], [TrueNeg, FalseNeg]],\n",
    "                             index=[\"Predicted Positive\", \"Predicted Negative\"],\n",
    "                             columns=[\"Actual Positive\", \"Actual Negative\"])\n",
    "    return conf_mtrx\n",
    "\n",
    "\n",
    "print(\"My confusion matrix: \\n\", custom_confusion_matrix(y_vals_input, y_preds_input))\n",
    "# With test vectors, should be:\n",
    "# TP: 2 ; FP: 2\n",
    "# TN: 3 ; FN: 3\n",
    "\n",
    "#Compare to SKL function:\n",
    "print(\"\\nSKLearn confusion matrix:\")\n",
    "skl.metrics.confusion_matrix(y_vals_input, y_preds_input)\n",
    "\n",
    "#Outputs match"
   ]
  },
  {
   "cell_type": "markdown",
   "metadata": {
    "collapsed": false,
    "pycharm": {
     "name": "#%% md\n"
    }
   },
   "source": [
    "5. Write a function to generate the Receiver Operating Characteristic (ROC) curve. [5 pts]"
   ]
  },
  {
   "cell_type": "code",
   "execution_count": 8,
   "metadata": {
    "collapsed": false,
    "pycharm": {
     "name": "#%%\n"
    },
    "ExecuteTime": {
     "end_time": "2024-03-03T21:21:18.243219Z",
     "start_time": "2024-03-03T21:21:18.231065Z"
    }
   },
   "outputs": [],
   "source": [
    "# First I build a function which takes a list of true y-values and a list of y-probabilities and gives roc 'coordinates'.\n",
    "def custom_roc_calc(y_vals, y_probs):\n",
    "    # first check that the lengths of true values and probabilities match.\n",
    "    if len(y_vals) != len(y_probs):\n",
    "        raise Exception(\"Length of y_vals and y_probs do not match.\")\n",
    "    else:\n",
    "        # Outermost loop loops over every unique y_prob value -- if this is too intensive for large datasets, I could change it to an arbitrary list of values from 0 to 1. I create one object which will contain the ROC 'coordinates', or True Positive Rate and False Positive Rate, and another object, which will contain labels indicating the threshold value at a given point.\n",
    "        coords = [[], []]\n",
    "        labels = []\n",
    "        for i in range(len(np.unique(y_probs))):\n",
    "            threshold = np.unique(y_probs)[i]\n",
    "            labels.append(threshold)\n",
    "            y_preds = []\n",
    "            # This loop checks each probability value against the current threshold to produce predictions.\n",
    "            for j in range(len(y_probs)):\n",
    "                if y_probs[j] >= threshold:\n",
    "                    y_preds.append(1)\n",
    "                else:\n",
    "                    y_preds.append(0)\n",
    "            # This next loop calculates the number of True Positives and False Positives.\n",
    "            TruePos = 0\n",
    "            FalsePos = 0\n",
    "            for k in range(len(y_preds)):\n",
    "                if y_vals[k] == 1:\n",
    "                    if y_preds[k] == 1: TruePos += 1\n",
    "                if y_vals[k] == 0:\n",
    "                    if y_preds[k] == 1: FalsePos += 1\n",
    "            # I use the True Positive and False Positive counts to calculate the True Positive Rate and False Positive Rate. \n",
    "            # For simplicity, I call y_vals.count(1) for TP + FN and y_vals.count(0) for FP + TN rate.\n",
    "            # I append these to the ROC coordinates object. This will produce an ROC coordinates object with as many coordinates as there are unique values of y_probs.\n",
    "            TruePosRate = TruePos / y_vals.count(1)\n",
    "            FalsePosRate = FalsePos / y_vals.count(0)\n",
    "            coords[0].append(FalsePosRate)\n",
    "            coords[1].append(TruePosRate)\n",
    "        return coords, labels\n",
    "\n",
    "\n",
    "# Next I produce a function to actually plot the graph from the values calculated in custom_roc_calc.\n",
    "\n",
    "def custom_roc_curve(y_vals, y_probs):\n",
    "    # I start with my helper function constructed above.\n",
    "    roc_coords = custom_roc_calc(y_vals, y_probs)\n",
    "    # I then produce a simple matplotlib plot\n",
    "    roc_plot = plt.figure()\n",
    "    plt.plot(roc_coords[0][0], roc_coords[0][1], figure=roc_plot)\n",
    "    plt.title(\"ROC Plot\", figure=roc_plot)\n",
    "    plt.xlabel('False Positive Rate', figure=roc_plot)\n",
    "    plt.ylabel('True Positive Rate', figure=roc_plot)\n",
    "    plt.ylim((0, 1))\n",
    "    plt.xlim((0, 1))\n",
    "    # I include a Y=X axis line to represent the ROC of random guessing.\n",
    "    plt.axline((0, 0), (1, 1), linestyle='--', alpha=0.6, color='gray', figure=roc_plot)\n",
    "    # This loop plots the labels. Note: if I need, I may edit this or even disable it to limit the number of labels when plotting bigger datasets to avoid visual clutter. This is mostly intended for my own purposes optimizing my model later.\n",
    "    labels = enumerate(roc_coords[1])\n",
    "    for i, label in labels:\n",
    "        plt.annotate(label, (roc_coords[0][0][i], roc_coords[0][1][i]))\n",
    "    # By using plt.close() I set the plot to not display (until I call \"return\"). This way, this function will output the graph as an object without also printing it a second time.\n",
    "    plt.close(roc_plot)\n",
    "    return roc_plot\n"
   ]
  },
  {
   "cell_type": "code",
   "execution_count": 9,
   "metadata": {
    "collapsed": false,
    "pycharm": {
     "name": "#%%\n"
    },
    "ExecuteTime": {
     "end_time": "2024-03-03T21:21:18.359607Z",
     "start_time": "2024-03-03T21:21:18.348823Z"
    }
   },
   "outputs": [
    {
     "name": "stdout",
     "output_type": "stream",
     "text": [
      "Probabilities and values are the same length:  True\n",
      "ROC coordinates:  [[1.0, 0.9, 0.9, 0.7, 0.5, 0.5, 0.4, 0.3, 0.3, 0.3, 0.3, 0.2, 0.2, 0.2, 0.2, 0.0], [1.0, 1.0, 0.9, 0.9, 0.9, 0.8, 0.8, 0.8, 0.7, 0.6, 0.5, 0.5, 0.4, 0.3, 0.2, 0.1]]\n",
      "ROC coordinate labels:  [0.01, 0.035, 0.1, 0.2, 0.3, 0.37, 0.45, 0.5, 0.55, 0.6, 0.61, 0.7, 0.8, 0.88, 0.9, 0.97]\n"
     ]
    }
   ],
   "source": [
    "# I create & inspect test data and test my roc_calc function on it.\n",
    "y_probs_input = [0.1, 0.01, 0.2, 0.45, 0.61, 0.2, 0.9, 0.1, 0.37, 0.9, 0.7, 0.8, 0.6, 0.3, 0.5, 0.55, 0.97, 0.88, 0.035,0.9]\n",
    "y_vals_input = [0, 0, 0, 0, 0, 0, 0, 0, 0, 0, 1, 1, 1, 1, 1, 1, 1, 1, 1, 1]\n",
    "print(\"Probabilities and values are the same length: \", len(y_probs_input) == len(y_vals_input))\n",
    "roc_coords_test = custom_roc_calc(y_vals_input, y_probs_input)\n",
    "print(\"ROC coordinates: \", roc_coords_test[0])\n",
    "print(\"ROC coordinate labels: \", roc_coords_test[1])"
   ]
  },
  {
   "cell_type": "code",
   "outputs": [
    {
     "data": {
      "text/plain": "<Figure size 432x288 with 1 Axes>",
      "image/png": "[encoded data removed]"
     },
     "execution_count": 10,
     "metadata": {},
     "output_type": "execute_result"
    }
   ],
   "source": [
    "# Finally, I test my complete ROC plotting function on the test data.\n",
    "ROC_graph = custom_roc_curve(y_vals_input, y_probs_input)\n",
    "ROC_graph"
   ],
   "metadata": {
    "collapsed": false,
    "ExecuteTime": {
     "end_time": "2024-03-03T21:21:19.017609Z",
     "start_time": "2024-03-03T21:21:18.688997Z"
    },
    "pycharm": {
     "name": "#%%\n"
    }
   },
   "execution_count": 10
  },
  {
   "cell_type": "markdown",
   "metadata": {
    "collapsed": false,
    "pycharm": {
     "name": "#%% md\n"
    }
   },
   "source": [
    "6. Write a function to compute area under curve (AUC) for the ROC curve. [5 pts]\n"
   ]
  },
  {
   "cell_type": "code",
   "execution_count": 11,
   "metadata": {
    "collapsed": false,
    "pycharm": {
     "name": "#%%\n"
    },
    "ExecuteTime": {
     "end_time": "2024-03-03T21:21:19.106767Z",
     "start_time": "2024-03-03T21:21:19.099338Z"
    }
   },
   "outputs": [],
   "source": [
    "# When I think \"area under curve\" I think integral calculus--and ideally I would have wanted to approximate an equation for our ROC curve with perhaps a fourier analysis, and then integrate that equation from 0 to 1. However, since that would be prohibitively complicated in this context, I instead use simple geometry. I use the method listed in a number of sources (e.g. here: https://trumpexcel.com/calculate-area-under-curve-excel/). I divide the curve into trapezoids formed between the points, and calculate the sum total area of all those trapezoids.\n",
    "def custom_auc_score(y_vals, y_preds):\n",
    "    roc_coords = custom_roc_calc(y_vals, y_preds)\n",
    "    area = 0\n",
    "    # The equation for the area of a trapezoid is A = height * (length of top + length of bottom)/2\n",
    "    # Using the abovementioned method of summing the areas of trapezoids formed between points, the area under the line between two points (x1, y1) and (x2, y2) can be computed: (y1 + y2)/2 * (x2 - x1) and the total area under the curve calculated as the sum of all those areas.\n",
    "    for i in range((len(roc_coords[0][0]) - 1)):\n",
    "        area += (roc_coords[0][1][i] + roc_coords[0][1][i + 1]) / 2 * (roc_coords[0][0][i] - roc_coords[0][0][i + 1])\n",
    "    return area\n"
   ]
  },
  {
   "cell_type": "code",
   "outputs": [
    {
     "name": "stdout",
     "output_type": "stream",
     "text": [
      "My function AUC score: 0.7\n"
     ]
    }
   ],
   "source": [
    "print(\"My function AUC score:\", custom_auc_score(y_vals_input, y_probs_input))\n",
    "#Note that my method being a geometric approximation means it may not match 100% to the result found by an alternative method, but it is reliably close."
   ],
   "metadata": {
    "collapsed": false,
    "ExecuteTime": {
     "end_time": "2024-03-03T21:21:19.195629Z",
     "start_time": "2024-03-03T21:21:19.188216Z"
    },
    "pycharm": {
     "name": "#%%\n"
    }
   },
   "execution_count": 12
  },
  {
   "cell_type": "markdown",
   "metadata": {
    "collapsed": false,
    "pycharm": {
     "name": "#%% md\n"
    }
   },
   "source": [
    "7. Write a function to generate the precision-recall curve. [5 pts]\n"
   ]
  },
  {
   "cell_type": "code",
   "execution_count": 13,
   "metadata": {
    "collapsed": false,
    "pycharm": {
     "name": "#%%\n"
    },
    "ExecuteTime": {
     "end_time": "2024-03-03T21:21:19.540924Z",
     "start_time": "2024-03-03T21:21:19.526923Z"
    }
   },
   "outputs": [],
   "source": [
    "def custom_precision_recall_calc(y_vals, y_probs):\n",
    "    # first check that the lengths of true values and probabilities match.\n",
    "    if len(y_vals) != len(y_probs):\n",
    "        raise Exception(\"Length of y_vals and y_probs do not match.\")\n",
    "    else:\n",
    "        # Outermost loop loops over every unique y_prob value -- if this is too intensive for large datasets, I could change it to an arbitrary list of values from 0 to 1. I create one object which will contain the precision_recall 'coordinates', or precision and recall values, and another object, which will contain labels indicating the threshold value at a given point.\n",
    "        coords = [[], []]\n",
    "        labels = []\n",
    "        for i in range(len(np.unique(y_probs))):\n",
    "            threshold = np.unique(y_probs)[i]\n",
    "            labels.append(threshold)\n",
    "            y_preds = []\n",
    "            # This loop checks each probability value against the current threshold to produce predictions.\n",
    "            for j in range(len(y_probs)):\n",
    "                if y_probs[j] >= threshold:\n",
    "                    y_preds.append(1)\n",
    "                else:\n",
    "                    y_preds.append(0)\n",
    "            # This next loop calculates the number of True Positives, False Positives, and False Negatives.\n",
    "            TruePos = 0\n",
    "            FalsePos = 0\n",
    "            FalseNeg = 0\n",
    "            for k in range(len(y_preds)):\n",
    "                if y_vals[k] == 1:\n",
    "                    if y_preds[k] == 1:\n",
    "                        TruePos += 1\n",
    "                    else:\n",
    "                        FalseNeg += 1\n",
    "                if y_vals[k] == 0:\n",
    "                    if y_preds[k] == 1: FalsePos += 1\n",
    "            # I use the TP, FP, and FN counts to calculate precision and recall and appends them to the P-R coordinates object. This will produce as many coordinates as there are unique values of y_probs.\n",
    "            Recall = TruePos / (TruePos + FalseNeg)\n",
    "            Precision = TruePos / (TruePos + FalsePos)\n",
    "            coords[0].append(Recall)\n",
    "            coords[1].append(Precision)\n",
    "        return coords, labels\n",
    "\n",
    "\n",
    "# Next I produce a function to actually plot the graph from the values calculated in custom_roc_calc.\n",
    "\n",
    "def custom_precision_recall_curve(y_vals, y_probs):\n",
    "    # I start with my helper function constructed above.\n",
    "    pr_coords = custom_precision_recall_calc(y_vals, y_probs)\n",
    "    # I then produce a simple matplotlib plot\n",
    "    pr_plot = plt.figure()\n",
    "    plt.plot(pr_coords[0][0], pr_coords[0][1], figure=pr_plot)\n",
    "    plt.title(\"Precision-Recall Plot\", figure=pr_plot)\n",
    "    plt.xlabel('Recall', figure=pr_plot)\n",
    "    plt.ylabel('Precision', figure=pr_plot)\n",
    "    plt.ylim((0, 1))\n",
    "    plt.xlim((0, 1))\n",
    "\n",
    "    # This loop plots the labels. Note: if I need, I may edit this or even disable it to limit the number of labels when plotting bigger datasets to avoid visual clutter. This is mostly intended for my own purposes optimizing my model later.\n",
    "    labels = enumerate(pr_coords[1])\n",
    "    for i, label in labels:\n",
    "        plt.annotate(label, (pr_coords[0][0][i], pr_coords[0][1][i]))\n",
    "\n",
    "    # By using plt.close() I set the plot to not display (until I call \"return\"). This way, this function will output the graph as an object without also printing it a second time.\n",
    "    plt.close(pr_plot)\n",
    "\n",
    "    return pr_plot\n"
   ]
  },
  {
   "cell_type": "code",
   "outputs": [
    {
     "name": "stdout",
     "output_type": "stream",
     "text": [
      "([[1.0, 1.0, 0.9, 0.9, 0.9, 0.8, 0.8, 0.8, 0.7, 0.6, 0.5, 0.5, 0.4, 0.3, 0.2, 0.1], [0.5, 0.5263157894736842, 0.5, 0.5625, 0.6428571428571429, 0.6153846153846154, 0.6666666666666666, 0.7272727272727273, 0.7, 0.6666666666666666, 0.625, 0.7142857142857143, 0.6666666666666666, 0.6, 0.5, 1.0]], [0.01, 0.035, 0.1, 0.2, 0.3, 0.37, 0.45, 0.5, 0.55, 0.6, 0.61, 0.7, 0.8, 0.88, 0.9, 0.97])\n"
     ]
    }
   ],
   "source": [
    "print(custom_precision_recall_calc(y_vals_input, y_probs_input))"
   ],
   "metadata": {
    "collapsed": false,
    "ExecuteTime": {
     "end_time": "2024-03-03T21:21:19.745664Z",
     "start_time": "2024-03-03T21:21:19.736519Z"
    },
    "pycharm": {
     "name": "#%%\n"
    }
   },
   "execution_count": 447
  },
  {
   "cell_type": "code",
   "outputs": [
    {
     "data": {
      "text/plain": "<Figure size 432x288 with 1 Axes>",
      "image/png": "[encoded data removed]"
     },
     "execution_count": 15,
     "metadata": {},
     "output_type": "execute_result"
    }
   ],
   "source": [
    "custom_precision_recall_curve(y_vals_input, y_probs_input)"
   ],
   "metadata": {
    "collapsed": false,
    "ExecuteTime": {
     "end_time": "2024-03-03T21:21:20.807585Z",
     "start_time": "2024-03-03T21:21:20.546874Z"
    },
    "pycharm": {
     "name": "#%%\n"
    }
   },
   "execution_count": 15
  },
  {
   "cell_type": "markdown",
   "metadata": {
    "collapsed": false,
    "pycharm": {
     "name": "#%% md\n"
    }
   },
   "source": [
    "8. Implement a KNN_Classifier model class. It should have the following three methods. [20\n",
    "pts]\n",
    "  a) __init__(self,) It’s a standard python initialization function so we can instantiate the\n",
    "class. Just “pass” this. [5 pts]\n",
    "\n",
    "Arguments:\n",
    "- n_neighbors : int, optional (default = 5) The number of nearest neighbors.\n",
    "- weights : string, optional (default = ‘uniform’) The weight function used in prediction.\n",
    "Possible values:\n",
    "- ‘uniform’: uniform weights. All points in each neighborhood are weighted\n",
    "equally.\n",
    "- ‘distance’: weight points by the inverse of their distance. in this case, closer\n",
    "neighbors of a query point will have a greater influence than neighbors which are\n",
    "further away\n",
    "p: int, optional (default = 2) Minkowski distance.\n",
    "Returns: No return value necessary.\n",
    "b) fit(self, X, Y) This method simply needs to store the relevant values as instance\n",
    "variables. [5 pts]\n",
    "Arguments:\n",
    "X : ndarray A numpy array with rows representing data samples and columns representing\n",
    "features.\n",
    "Y : ndarray A 1D numpy array with labels corresponding to each row of the feature matrix X.\n",
    "Returns: No return value necessary.\n",
    "c) predict(self, X,threshold=.5) This method will use the instance variables stored by the fit\n",
    "method. [2 pts] Arguments:\n",
    "X : ndarray A numpy array containing samples to be used for prediction. Its rows represent data\n",
    "samples and columns represent features.\n",
    "Returns: 1D array of class labels for each row in X. The 1D array should be designed as a\n",
    "column vector. Hint: you can just have this call predict_proba(...) and use threshold after\n",
    "d) predict_proba(self, X) Same as c) but for probabilities [3 pts] Arguments:\n",
    "X : ndarray A numpy array containing samples to be used for prediction. Its rows represent data\n",
    "samples and columns represent features.\n",
    "Returns: 1D array of prediction probabilities for positive class for each row in X. The 1D\n",
    "array should be designed as a column vector.\n",
    "e) get_params(self) Get parameters for this estimator. [3 pts]\n",
    "Arguments: N/A\n",
    "Returns: dict Model parameter names mapped to their values.\n",
    "f) set_params(self, **params) [2 pts] Arguments:\n",
    "**params : dict A dictionary with the model parameter names to change mapped to their values\n",
    "Returns: No return value necessary."
   ]
  },
  {
   "cell_type": "code",
   "execution_count": 450,
   "metadata": {
    "collapsed": false,
    "pycharm": {
     "name": "#%%\n"
    },
    "ExecuteTime": {
     "end_time": "2024-03-03T21:55:35.498846Z",
     "start_time": "2024-03-03T21:55:35.484754Z"
    }
   },
   "outputs": [],
   "source": [
    "from collections import Counter\n",
    "\n",
    "class KNN_Classifier:\n",
    "    \"\"\"\n",
    "    A class to represent K-Nearest Neighbors.\n",
    "    \n",
    "    Parameters\n",
    "    ----------\n",
    "    n_neighbors : int, optional\n",
    "        The number of nearest neighbors. (default is 5)\n",
    "    weights : str, optional\n",
    "        The weight function used in prediction. (Default is \"uniform\".) Must be one of: \n",
    "            - \"uniform\" : uniform weights. All points in each neighborhood are weighted equally.\n",
    "            - \"distance\" : weight points by the inverse of their distance. in this case, closer neighbors of a query point will have a greater influence than neighbors which are further away\n",
    "    p : float, optional\n",
    "        Minkowski distance p. (default is 2)\n",
    "    \"\"\"\n",
    "    \n",
    "    WEIGHTS_TYPE = [\n",
    "        'uniform',\n",
    "        'distance',\n",
    "    ]\n",
    "\n",
    "    # standard python initialization function so we can instantiate the class\n",
    "    def __init__(self, n_neighbors: int = 5, weights: str = \"uniform\", p: int = 2):\n",
    "        if weights not in KNN_Classifier.WEIGHTS_TYPE:\n",
    "            raise ValueError(\"Invalid weights. Expected one of: %s\" % KNN_Classifier.WEIGHTS_TYPE)\n",
    "\n",
    "        self.n_neighbors = n_neighbors\n",
    "        self.weights = weights\n",
    "        self.p = p\n",
    "        \n",
    "        self._X = None        \n",
    "        self._Y = None\n",
    "\n",
    "    def fit(self, X: np.ndarray, Y: np.ndarray):\n",
    "        \"\"\"\n",
    "        This method simply needs to store the relevant values as instance variables.\n",
    "    \n",
    "        :param X: A numpy array with rows representing data samples and columns representing features.\n",
    "        :param Y: A 1D numpy array with labels corresponding to each row of the feature matrix X.\n",
    "        :return: self\n",
    "        \"\"\" \n",
    "        self._X = X\n",
    "        self._Y = Y\n",
    "        return self\n",
    "        \n",
    "    def predict(self, X: np.ndarray, threshold = .5):\n",
    "        \"\"\"\n",
    "        This method will use the instance variables stored by the `fit` method.\n",
    "    \n",
    "        :param X: A numpy array containing samples to be used for prediction. Its rows represent data samples and columns represent features\n",
    "        :param threshold: optional \n",
    "        :return: 1D array of class labels for each row in X. The 1D array should be designed as a column vector. Hint: you can just have this call predict_proba(...) and use threshold after\n",
    "        \"\"\" \n",
    "        if self._X is None or self._Y is None:\n",
    "            raise AttributeError(\"Must call `.fit` method first.\")\n",
    "\n",
    "        # TODO (double-check)\n",
    "        # ref: https://medium.com/analytics-vidhya/implementing-k-nearest-neighbours-knn-without-using-scikit-learn-3905b4decc3c\n",
    "        if self.weights == \"uniform\":\n",
    "            final_output = []\n",
    "            for sample_index in range(len(X)): #iterate over every column in X\n",
    "                distance_array = []\n",
    "                votes = []\n",
    "                for j in range(len(self._X)): # iterate over every column in training data\n",
    "                    distance = custom_minkowski_distance(self._X[j], X[sample_index], self.p)\n",
    "                    distance_array.append([distance, j])\n",
    "                distance_array.sort()\n",
    "                distance_range = distance_array[0:self.n_neighbors]\n",
    "                for _key, value in distance_range:\n",
    "                    votes.append(self._Y[value])\n",
    "                votes_no = Counter(votes).get(0)\n",
    "                votes_yes = Counter(votes).get(1)\n",
    "                if (votes_yes/(len(votes))) >= threshold:\n",
    "                    final_output.append(1)\n",
    "                else: final_output.append(0)\n",
    "            return final_output\n",
    "        if self.weights == \"distance\":\n",
    "            final_output = []\n",
    "            for sample_index in range(len(X)): #iterate over every column in X\n",
    "                distance_array = []\n",
    "                for j in range(len(_X)): # iterate over every column in training data\n",
    "                    distance = custom_minkowski_distance(_X[j], X[sample_index], p)\n",
    "                    distance_array.append([distance, _Y[j]])\n",
    "                distance_array.sort()\n",
    "                distance_range = distance_array[0:n_neighbors]\n",
    "                freq_zero = 0\n",
    "                freq_one = 0\n",
    "                for dist in distance_range:\n",
    "                    #This first if-then is for circumventing divide-by-zero problems\n",
    "                    if dist[0] == 0:\n",
    "                        if dist[1] == 0:\n",
    "                            freq_zero == 1\n",
    "                            freq_one == 0\n",
    "                        else:\n",
    "                            freq_zero == 0\n",
    "                            freq_one == 1\n",
    "                    # This next if-then calculates distance-weighted frequencies when dist[0] != 0.\n",
    "                    elif dist[1] == 0:\n",
    "                        freq_zero += (1 / dist[0])\n",
    "                    else: freq_one += (1 / dist[0])\n",
    "                # In the below if-else, I allow a way for the 'threshold' value to still serve a function with a weighted KNN.\n",
    "                # At a threshold of 0.5, the below is identical to: if freq_one > freq_zero: final_output.append(1)\n",
    "                # But, picking a different 'threshold' is now possible for tuning your weighted KNN.\n",
    "                if (freq_one/(freq_one+freq_zero)) > threshold: final_output.append(1)\n",
    "                else: final_output.append(0)\n",
    "            return final_output\n",
    "\n",
    "    def predict_proba(self, X: np.ndarray):\n",
    "        \"\"\"\n",
    "        This method calculates predictions for probabilities.\n",
    "\n",
    "        :param X: A numpy array containing samples to be used for prediction. Its rows represent data samples and columns represent features.\n",
    "        :return: 1D array of prediction probabilities for positive class for each row in X. The 1D array should be designed as a column vector.\n",
    "\n",
    "\n",
    "        \"\"\"\n",
    "        if self._X is None or self._Y is None:\n",
    "            raise AttributeError(\"Must call `.fit` method first.\")\n",
    "\n",
    "        if self.weights == \"uniform\":\n",
    "            final_output = []\n",
    "            for sample_index in range(len(X)): #iterate over every sample in X\n",
    "                distance_array = []\n",
    "                votes = []\n",
    "                for j in range(len(self._X)): # iterate over every sample in training data\n",
    "                    distance = custom_minkowski_distance(self._X[j], X[sample_index], self.p)\n",
    "                    distance_array.append([distance, j])\n",
    "                distance_array.sort()\n",
    "                distance_range = distance_array[0:self.n_neighbors]\n",
    "                for _key, value in distance_range:\n",
    "                    votes.append(self._Y[value])\n",
    "                votes_yes = Counter(votes).get(1)\n",
    "                prob_val = (votes_yes/(len(votes)))\n",
    "                final_output.append(prob_val)\n",
    "            return final_output\n",
    "        if self.weights == \"distance\":\n",
    "            final_output = []\n",
    "            for sample_index in range(len(X)): #iterate over every column in X\n",
    "                distance_array = []\n",
    "                for j in range(len(_X)): # iterate over every column in training data\n",
    "                    distance = custom_minkowski_distance(_X[j], X[sample_index], p)\n",
    "                    distance_array.append([distance, _Y[j]])\n",
    "                distance_array.sort()\n",
    "                distance_range = distance_array[0:n_neighbors]\n",
    "                freq_zero = 0\n",
    "                freq_one = 0\n",
    "                for dist in distance_range:\n",
    "                    #This first if-then is for circumventing divide-by-zero problems. If a point is at the exact centroid of a group, we just assume it belongs in that group without any further calculation.\n",
    "                    if dist[0] == 0:\n",
    "                        if dist[1] == 0:\n",
    "                            freq_zero == 1\n",
    "                            freq_one == 0\n",
    "                        else:\n",
    "                            freq_zero == 0\n",
    "                            freq_one == 1\n",
    "                    # This next if-then calculates distance-weighted frequencies when dist[0] != 0.\n",
    "                    elif dist[1] == 0:\n",
    "                        freq_zero += (1 / dist[0])\n",
    "                    else: freq_one += (1 / dist[0])\n",
    "                prob_val = (freq_one/(freq_one+freq_zero))\n",
    "                final_output.append(prob_val)\n",
    "            return final_output\n",
    "    \n",
    "    def get_params(self):\n",
    "        \"\"\"\n",
    "        Get parameters for this estimator.\n",
    "        :return dict: Model parameter names mapped to their values.\n",
    "        \"\"\"\n",
    "        return {\n",
    "            \"n_neighbors\": self.n_neighbors,\n",
    "            \"weights\": self.weights,\n",
    "            \"p\": self.p\n",
    "        }\n",
    "    \n",
    "    def set_params(self, **params):\n",
    "        \"\"\"\n",
    "        A setter for this estimator.\n",
    "        :param params: A dictionary with the model parameter names to change mapped to their values.\n",
    "        :return: Nothing\n",
    "        \"\"\"\n",
    "        if params.get(\"n_neighbors\") is not None:\n",
    "            if type(params.get(\"n_neighbors\")) is not int:\n",
    "                raise TypeError(\"n_neighbors must be an integer\")\n",
    "            self.n_neighbors = params[\"n_neighbors\"]\n",
    "        if params.get(\"weights\") is not None:\n",
    "            if type(params.get(\"weights\")) is not str:\n",
    "                raise TypeError(\"weights must be a string\")\n",
    "            if params.get(\"weights\") not in KNN_Classifier.WEIGHTS_TYPE:\n",
    "                raise ValueError(\"Invalid weights. Expected one of: %s\" % KNN_Classifier.WEIGHTS_TYPE)\n",
    "            self.weights = params[\"weights\"]\n",
    "        if params.get(\"p\") is not None:\n",
    "            if type(params.get(\"p\")) is not int:\n",
    "                raise TypeError(\"p must be an integer\")\n",
    "            self.p = params[\"p\"]"
   ]
  },
  {
   "cell_type": "markdown",
   "source": [
    "Working tabs: https://medium.com/analytics-vidhya/implementing-k-nearest-neighbours-knn-without-using-scikit-learn-3905b4decc3c\n",
    "\n",
    "https://scikit-learn.org/stable/modules/generated/sklearn.neighbors.KNeighborsClassifier.html\n",
    "\n",
    "https://ioflood.com/blog/iterate-a-dictionary-in-python-guide-with-examples/#:~:text=The%20basic%20method%20is%20to,control%20over%20the%20iteration%20process.\n",
    "\n",
    "https://visualstudiomagazine.com/articles/2019/04/01/weighted-k-nn-classification.aspx\n",
    "\n",
    "https://www.geeksforgeeks.org/weighted-k-nn/\n"
   ],
   "metadata": {
    "collapsed": false,
    "pycharm": {
     "name": "#%% md\n"
    }
   }
  },
  {
   "cell_type": "code",
   "execution_count": 452,
   "outputs": [
    {
     "name": "stdout",
     "output_type": "stream",
     "text": [
      "<__main__.KNN_Classifier object at 0x000002581CD460D0>\n",
      "[1, 0]\n",
      "[0.6666666666666666, 0.3333333333333333]\n"
     ]
    }
   ],
   "source": [
    "### FOR TESTING PURPOSES ONLY ###\n",
    "# taken from examples on scikitlearn docs https://scikit-learn.org/stable/modules/generated/sklearn.neighbors.KNeighborsClassifier.html\n",
    "_X = np.array([[0, 2, 5],\n",
    "               [1, 9, 2],\n",
    "               [2, 3, 5],\n",
    "               [3, 0, 0]])\n",
    "\n",
    "_Y = np.array([0, 0, 1, 1])\n",
    "\n",
    "X = np.array([[0,1,5],\n",
    "              [0.1,2.5,9]])\n",
    "\n",
    "threshold = 0.5\n",
    "n_neighbors = 5\n",
    "\n",
    "knnc_test = KNN_Classifier(weights = \"uniform\", n_neighbors=3)\n",
    "\n",
    "print(knnc_test.fit(_X, _Y))\n",
    "# expected output: KNeighborsClassifier(...)\n",
    "print(knnc_test.predict(X))\n",
    "# expected output: [1, 0]\n",
    "print(knnc_test.predict_proba(X))\n",
    "# expected output: [0.666..., 0.333...]"
   ],
   "metadata": {
    "collapsed": false,
    "pycharm": {
     "name": "#%%\n"
    }
   }
  },
  {
   "cell_type": "code",
   "execution_count": 438,
   "outputs": [
    {
     "name": "stderr",
     "output_type": "stream",
     "text": [
      "C:\\Users\\rmcne\\AppData\\Local\\Temp\\ipykernel_14120\\1656435758.py:2: VisibleDeprecationWarning: Creating an ndarray from ragged nested sequences (which is a list-or-tuple of lists-or-tuples-or ndarrays with different lengths or shapes) is deprecated. If you meant to do this, you must specify 'dtype=object' when creating the ndarray.\n",
      "  _X = np.array([[0],[0.23, 1.1],[7.5],[3.2],[7],[1.1, 9.1],[6.27],[6.9],[8.5],[12]]) # sample x_train\n"
     ]
    },
    {
     "data": {
      "text/plain": "[[0], [1], [1], [1], [1], [1], [1], [1], [0], [0], [1]]"
     },
     "execution_count": 438,
     "metadata": {},
     "output_type": "execute_result"
    }
   ],
   "source": [
    "X = np.array([[0.2, 1.2],[8, 3.5],[7, 2.3],[4, 1.5],[2.5, 5.6],[5.8, 9.8],[9, 1.1],[12, 1],[1.1, 1], [2, 2], [12.1,3.2]]) # sample testing data\n",
    "_X = np.array([[0],[0.23, 1.1],[7.5],[3.2],[7],[1.1, 9.1],[6.27],[6.9],[8.5],[12]]) # sample x_train\n",
    "_Y = np.array([0,0,0,0,1,1,1,1,0,1]) # sample training labels\n",
    "p = 2\n",
    "n_neighbors = 5\n",
    "threshold = 0.5\n",
    "\n",
    "final_output = []\n",
    "for sample_column_index in range(len(X)): #iterate over every column in X\n",
    "    distance_array = []\n",
    "    votes = []\n",
    "    for j in range(len(_X)): # iterate over every column in training data\n",
    "        distance = custom_minkowski_distance(_X[j], X[sample_column_index], p)\n",
    "        distance_array.append([distance, j])\n",
    "    distance_array.sort()\n",
    "    distance_range = distance_array[0:n_neighbors]\n",
    "    for _key, value in distance_range:\n",
    "        votes.append(_Y[value])\n",
    "    votes_no = Counter(votes).get(0)\n",
    "    votes_yes = Counter(votes).get(1)\n",
    "    if (votes_yes/(len(votes))) >= threshold:\n",
    "        final_output.append([1])\n",
    "    else: final_output.append([0])\n",
    "final_output"
   ],
   "metadata": {
    "collapsed": false,
    "pycharm": {
     "name": "#%%\n"
    }
   }
  },
  {
   "cell_type": "markdown",
   "source": [
    "9. Write a function named “partition” to split your data into training and test sets. The function\n",
    "should take 4 arguments: [ 5 pts]\n",
    "• feature matrix (numpy array with rows representing data samples and columns\n",
    "representing features.),\n",
    "• target vector (numpy array with labels corresponding to each row of the feature\n",
    "matrix),\n",
    "• t where t is a real number to determine the size of partition. For example, if t is set to\n",
    "0.2, then 80% of the data will be used for training and 20% for testing.\n",
    "• shuffle (default=True) where shuffle is a boolean whether to shuffle the data prior to\n",
    "partitioning. You will be required to use “shuffle=True” for this assignment\n",
    "• This function should return two feature matrices for training and test data, and two\n",
    "target vectors for training and test data (4 tuple)."
   ],
   "metadata": {
    "collapsed": false,
    "pycharm": {
     "name": "#%% md\n"
    }
   }
  },
  {
   "cell_type": "code",
   "execution_count": null,
   "outputs": [],
   "source": [
    "def partition(feature_matrix: np.ndarray, target_vector: np.ndarray, t=0.2, shuffle=True):\n",
    "    \"\"\"\n",
    "    This method splits the data into training and test sets.\n",
    "    :param feature_matrix: numpy array with rows representing data samples and columns representing features.\n",
    "    :param target_vector: numpy array with labels corresponding to each row of the feature matrix\n",
    "    :param t: A real number to determine the size of partition. For example, if t is set to 0.2, then 80% of the data will be used for training and 20% for testing.\n",
    "    :param shuffle: A boolean whether to shuffle the data prior to partitioning.\n",
    "    :return: This function should return two feature matrices for training and test data, and two target vectors for training and test data (4 tuple).\n",
    "    \"\"\""
   ],
   "metadata": {
    "collapsed": false,
    "pycharm": {
     "name": "#%%\n"
    }
   }
  },
  {
   "cell_type": "markdown",
   "source": [
    "Part B: Data Processing, Feature Selection, and Initial Estimation (40 pts)\n",
    "10. Read in the winequality-white.csv file as a Pandas data frame."
   ],
   "metadata": {
    "collapsed": false,
    "pycharm": {
     "name": "#%% md\n"
    }
   }
  },
  {
   "cell_type": "code",
   "execution_count": null,
   "outputs": [],
   "source": [],
   "metadata": {
    "collapsed": false,
    "pycharm": {
     "name": "#%%\n"
    }
   }
  },
  {
   "cell_type": "markdown",
   "source": [
    "11. The target will be the “quality” column which represents the rating of wine and ranges from\n",
    "3 to 8. You will need to convert it into a two-category variable consisting of “good” (quality\n",
    "> 5) & “bad” (quality <= 5). Your target vector should have 0s (representing “bad” quality\n",
    "wine) and 1s (representing “good” quality wine). [2 pts]"
   ],
   "metadata": {
    "collapsed": false,
    "pycharm": {
     "name": "#%% md\n"
    }
   }
  },
  {
   "cell_type": "code",
   "execution_count": null,
   "outputs": [],
   "source": [],
   "metadata": {
    "collapsed": false,
    "pycharm": {
     "name": "#%%\n"
    }
   }
  },
  {
   "cell_type": "markdown",
   "source": [
    "12. Provide a table with univariate statistics of your data (mean, standard deviation, and\n",
    "quartiles, min, max, missing count, number of unique values). [4 pts]"
   ],
   "metadata": {
    "collapsed": false,
    "pycharm": {
     "name": "#%% md\n"
    }
   }
  },
  {
   "cell_type": "code",
   "execution_count": 176,
   "metadata": {
    "collapsed": false,
    "pycharm": {
     "name": "#%%\n"
    },
    "ExecuteTime": {
     "end_time": "2024-03-03T18:18:51.329936Z",
     "start_time": "2024-03-03T18:18:51.327330Z"
    }
   },
   "outputs": [],
   "source": []
  },
  {
   "cell_type": "markdown",
   "metadata": {
    "collapsed": false,
    "pycharm": {
     "name": "#%% md\n"
    }
   },
   "source": [
    "13. Generate pair plots using the seaborn package to help identify redundant features. For any\n",
    "redundant features(?), report, drop, and explain your logic (w/ markdown). [4 pts]"
   ]
  },
  {
   "cell_type": "code",
   "execution_count": 176,
   "metadata": {
    "collapsed": false,
    "pycharm": {
     "name": "#%%\n"
    },
    "ExecuteTime": {
     "end_time": "2024-03-03T18:18:51.349533Z",
     "start_time": "2024-03-03T18:18:51.347213Z"
    }
   },
   "outputs": [],
   "source": []
  },
  {
   "cell_type": "markdown",
   "metadata": {
    "collapsed": false,
    "pycharm": {
     "name": "#%% md\n"
    }
   },
   "source": [
    "14. Use your “partition” function to split the data into 80% train and 20% test. [5 pts]"
   ]
  },
  {
   "cell_type": "code",
   "execution_count": 176,
   "metadata": {
    "collapsed": false,
    "pycharm": {
     "name": "#%%\n"
    },
    "ExecuteTime": {
     "end_time": "2024-03-03T18:18:51.374628Z",
     "start_time": "2024-03-03T18:18:51.370595Z"
    }
   },
   "outputs": [],
   "source": []
  },
  {
   "cell_type": "markdown",
   "metadata": {
    "collapsed": false,
    "pycharm": {
     "name": "#%% md\n"
    }
   },
   "source": [
    "15. Naively run your KNN_Classifier model on the training dataset with n_neighbors = 5 and\n",
    "using Euclidean distance. [15 pts]"
   ]
  },
  {
   "cell_type": "code",
   "execution_count": 176,
   "metadata": {
    "collapsed": false,
    "pycharm": {
     "name": "#%%\n"
    },
    "ExecuteTime": {
     "end_time": "2024-03-03T18:18:51.431674Z",
     "start_time": "2024-03-03T18:18:51.429344Z"
    }
   },
   "outputs": [],
   "source": []
  },
  {
   "cell_type": "markdown",
   "metadata": {
    "collapsed": false,
    "pycharm": {
     "name": "#%% md\n"
    }
   },
   "source": [
    "a. Use accuracy and F1 score to compare your predictions to the expected labels."
   ]
  },
  {
   "cell_type": "code",
   "execution_count": 176,
   "metadata": {
    "collapsed": false,
    "pycharm": {
     "name": "#%%\n"
    },
    "ExecuteTime": {
     "end_time": "2024-03-03T18:18:51.450935Z",
     "start_time": "2024-03-03T18:18:51.448339Z"
    }
   },
   "outputs": [],
   "source": []
  },
  {
   "cell_type": "markdown",
   "metadata": {
    "collapsed": false,
    "pycharm": {
     "name": "#%% md\n"
    }
   },
   "source": [
    "b. Now standardize each feature of your training set (subtract mean and divide by\n",
    "standard deviation) and apply trained standardization to the test set. Use the mean\n",
    "and standard deviation values for each feature in the training set to scale the test\n",
    "data (you can use sklearn.preprocessing.StandardScaler)"
   ]
  },
  {
   "cell_type": "code",
   "execution_count": 176,
   "metadata": {
    "collapsed": false,
    "pycharm": {
     "name": "#%%\n"
    },
    "ExecuteTime": {
     "end_time": "2024-03-03T18:18:51.500863Z",
     "start_time": "2024-03-03T18:18:51.498548Z"
    }
   },
   "outputs": [],
   "source": []
  },
  {
   "cell_type": "markdown",
   "metadata": {
    "collapsed": false,
    "pycharm": {
     "name": "#%% md\n"
    }
   },
   "source": [
    "c. Re-run the KNN_Classifier model on the standardized data, find the accuracy and F1\n",
    "score with the expected labels."
   ]
  },
  {
   "cell_type": "code",
   "execution_count": 176,
   "metadata": {
    "collapsed": false,
    "pycharm": {
     "name": "#%%\n"
    },
    "ExecuteTime": {
     "end_time": "2024-03-03T18:18:51.520811Z",
     "start_time": "2024-03-03T18:18:51.518307Z"
    }
   },
   "outputs": [],
   "source": []
  },
  {
   "cell_type": "markdown",
   "metadata": {
    "collapsed": false,
    "pycharm": {
     "name": "#%% md\n"
    }
   },
   "source": [
    "d. Compare the two accuracy values and the F1 scores; and decide whether you should\n",
    "use standardized data or unscaled data for the remainder of the assignment."
   ]
  },
  {
   "cell_type": "code",
   "execution_count": 176,
   "metadata": {
    "collapsed": false,
    "pycharm": {
     "name": "#%%\n"
    },
    "ExecuteTime": {
     "end_time": "2024-03-03T18:18:51.573589Z",
     "start_time": "2024-03-03T18:18:51.569506Z"
    }
   },
   "outputs": [],
   "source": []
  },
  {
   "cell_type": "markdown",
   "metadata": {
    "collapsed": false,
    "pycharm": {
     "name": "#%% md\n"
    }
   },
   "source": [
    "e. Perform a similar test for inverse distance weighting in the KNN_Classifier model\n",
    "and determine whether or not to use it. [5 pts]"
   ]
  },
  {
   "cell_type": "code",
   "execution_count": 176,
   "metadata": {
    "collapsed": false,
    "pycharm": {
     "name": "#%%\n"
    },
    "ExecuteTime": {
     "end_time": "2024-03-03T18:18:51.600657Z",
     "start_time": "2024-03-03T18:18:51.598066Z"
    }
   },
   "outputs": [],
   "source": []
  },
  {
   "cell_type": "markdown",
   "metadata": {
    "collapsed": false,
    "pycharm": {
     "name": "#%% md\n"
    }
   },
   "source": [
    "16. Repeat #15 a-d, but using a logistic regression with ‘elasticnet’ or ‘l2’ penalty (feel free to\n",
    "use sklearn.linear_model.LogisticRegression) [10 pts]"
   ]
  },
  {
   "cell_type": "code",
   "execution_count": 176,
   "metadata": {
    "collapsed": false,
    "pycharm": {
     "name": "#%%\n"
    },
    "ExecuteTime": {
     "end_time": "2024-03-03T18:18:51.667612Z",
     "start_time": "2024-03-03T18:18:51.665200Z"
    }
   },
   "outputs": [],
   "source": []
  },
  {
   "cell_type": "markdown",
   "metadata": {
    "collapsed": false,
    "pycharm": {
     "name": "#%% md\n"
    }
   },
   "source": [
    "Part C: Model Evaluation and Results Summary (100 pts)\n",
    "17) Evaluation of an estimator performance via cross-validation: Implement the S-fold cross\n",
    "validation function. [15 pts]\n",
    "a. sFold(folds, data, labels, model, model_args, error_fuction)\n",
    "    i. folds is an integer number of folds.\n",
    "    ii. data is a numpy array with rows representing data samples and columns\n",
    "representing features.\n",
    "    iii. labels is a numpy array with labels corresponding to each row of\n",
    "training_features.\n",
    "    iv. model is an object with the fit and predict methods.\n",
    "    v. model args is a dictionary of arguments to pass to the classification algorithm. If\n",
    "you are unfamiliar, look up using the ** operator to unpack dictionaries as\n",
    "arguments\n",
    "    vi. error_function :Returns error value between predicted and true labels. For\n",
    "example, mean squared error (mse) function could be used as error_function.\n",
    "b. How it should work:\n",
    "    i. Use a helper function to calculate an s-partition of the data (i.e., partition the data into s\n",
    "equally sized portions). You may use sklearn.model_selection.KFold if you wish and\n",
    "assume data is already shuffled.\n",
    "    ii. For each partition\n",
    "        a. Make a model using the model class\n",
    "        b. Fit the data to all other partitions (1 – folds)\n",
    "        c. Make prediction on current partition\n",
    "        d. Store expected labels and predicted labels for current partition\n",
    "    iii. Calculate the average error (for all partitions) using the error_function on stored\n",
    "expected and predicted labels\n",
    "c. It should return a Python tuple with the following\n",
    "    i. Expected labels\n",
    "    ii. Predicted labels\n",
    "    iii. Average error"
   ]
  },
  {
   "cell_type": "code",
   "execution_count": 176,
   "metadata": {
    "collapsed": false,
    "pycharm": {
     "name": "#%%\n"
    },
    "ExecuteTime": {
     "end_time": "2024-03-03T18:18:51.678761Z",
     "start_time": "2024-03-03T18:18:51.676253Z"
    }
   },
   "outputs": [],
   "source": []
  },
  {
   "cell_type": "markdown",
   "metadata": {
    "collapsed": false,
    "pycharm": {
     "name": "#%% md\n"
    }
   },
   "source": [
    "18) Only using the training portion of your data, use your sfold function to evaluate the\n",
    "performance of your model over each combination of k and distance metrics from the following\n",
    "sets: [10 pts]\n",
    "i. k=[1,5,9,11]\n",
    "b. distance = [Euclidean, Manhattan]\n",
    "ii. weights = [uniform, distance]\n",
    "iii. From the returned tuple store as a row in a pandas DataFrame with headers:\n",
    "Experiment name, k, distance, weights, Average F1\n",
    "iv. Determine the best model based on the overall performance. For the error_function\n",
    "of the S-fold function argument use the F1 score function from Part A."
   ]
  },
  {
   "cell_type": "code",
   "execution_count": 176,
   "metadata": {
    "collapsed": false,
    "pycharm": {
     "name": "#%%\n"
    },
    "ExecuteTime": {
     "end_time": "2024-03-03T18:18:51.697686Z",
     "start_time": "2024-03-03T18:18:51.695319Z"
    }
   },
   "outputs": [],
   "source": []
  },
  {
   "cell_type": "markdown",
   "metadata": {
    "collapsed": false,
    "pycharm": {
     "name": "#%% md\n"
    }
   },
   "source": [
    "19) Repeat #18 for at least 3 experiments for the regularized logistic regression from #16\n",
    "and discuss why you optimized over your selected hyper-parameters [10 pts]"
   ]
  },
  {
   "cell_type": "code",
   "execution_count": 176,
   "metadata": {
    "collapsed": false,
    "pycharm": {
     "name": "#%%\n"
    },
    "ExecuteTime": {
     "end_time": "2024-03-03T18:18:51.775529Z",
     "start_time": "2024-03-03T18:18:51.771390Z"
    }
   },
   "outputs": [],
   "source": []
  },
  {
   "cell_type": "markdown",
   "metadata": {
    "collapsed": false,
    "pycharm": {
     "name": "#%% md\n"
    }
   },
   "source": [
    "20) Based on the results above, use the full training portion (80%), to re-estimate your best\n",
    "(subjective) model. Discuss why you made your choice. [5 pts]"
   ]
  },
  {
   "cell_type": "code",
   "execution_count": 176,
   "metadata": {
    "collapsed": false,
    "pycharm": {
     "name": "#%%\n"
    },
    "ExecuteTime": {
     "end_time": "2024-03-03T18:18:51.792656Z",
     "start_time": "2024-03-03T18:18:51.788232Z"
    }
   },
   "outputs": [],
   "source": []
  },
  {
   "cell_type": "markdown",
   "metadata": {
    "collapsed": false,
    "pycharm": {
     "name": "#%% md\n"
    }
   },
   "source": [
    "21) Evaluate your best model on the test data and report the performance measures.[10 pts]\n",
    "i. Precision\n",
    "ii. Recall\n",
    "iii. F1 score\n",
    "iv. Confusion matrix\n",
    "v. Accuracy & Generalization Error"
   ]
  },
  {
   "cell_type": "code",
   "execution_count": 176,
   "metadata": {
    "collapsed": false,
    "pycharm": {
     "name": "#%%\n"
    },
    "ExecuteTime": {
     "end_time": "2024-03-03T18:18:51.817265Z",
     "start_time": "2024-03-03T18:18:51.814715Z"
    }
   },
   "outputs": [],
   "source": []
  },
  {
   "cell_type": "markdown",
   "metadata": {
    "collapsed": false,
    "pycharm": {
     "name": "#%% md\n"
    }
   },
   "source": [
    "22) Generate the ROC curve and determine the optimal threshold that maximizes the F1 score.\n",
    "[10 pts] Note: for F1, you can iterate through possible thresholds and check F1 for each."
   ]
  },
  {
   "cell_type": "code",
   "execution_count": 176,
   "metadata": {
    "collapsed": false,
    "pycharm": {
     "name": "#%%\n"
    },
    "ExecuteTime": {
     "end_time": "2024-03-03T18:18:51.875975Z",
     "start_time": "2024-03-03T18:18:51.873403Z"
    }
   },
   "outputs": [],
   "source": []
  },
  {
   "cell_type": "markdown",
   "metadata": {
    "collapsed": false,
    "pycharm": {
     "name": "#%% md\n"
    }
   },
   "source": [
    "23) Compute the AUC score. [5 pts]"
   ]
  },
  {
   "cell_type": "code",
   "execution_count": 176,
   "metadata": {
    "collapsed": false,
    "pycharm": {
     "name": "#%%\n"
    },
    "ExecuteTime": {
     "end_time": "2024-03-03T18:18:51.937744Z",
     "start_time": "2024-03-03T18:18:51.934803Z"
    }
   },
   "outputs": [],
   "source": []
  },
  {
   "cell_type": "markdown",
   "metadata": {
    "collapsed": false,
    "pycharm": {
     "name": "#%% md\n"
    }
   },
   "source": [
    "24) Generate the precision-recall curve and determine the optimal threshold (visually). [5 pts]"
   ]
  },
  {
   "cell_type": "code",
   "execution_count": 176,
   "metadata": {
    "collapsed": false,
    "pycharm": {
     "name": "#%%\n"
    },
    "ExecuteTime": {
     "end_time": "2024-03-03T18:18:51.959056Z",
     "start_time": "2024-03-03T18:18:51.956490Z"
    }
   },
   "outputs": [],
   "source": []
  },
  {
   "cell_type": "markdown",
   "metadata": {
    "collapsed": false,
    "pycharm": {
     "name": "#%% md\n"
    }
   },
   "source": [
    "25) Calculate and report the 95% confidence interval on the generalization error estimate. [5pts]\n",
    "2 possible options (others as well):\n",
    "1. Use the s fold accuracy scores (score for each fold) and take the standard deviation, then\n",
    "subtracting/adding from the average, 1.96 (95% confidence interval) times the std dev\n",
    "2. Use the following: Accuracy +/- 1.96 * sqrt( (accuracy * (1 - accuracy)) / n)"
   ]
  },
  {
   "cell_type": "code",
   "execution_count": 176,
   "metadata": {
    "collapsed": false,
    "pycharm": {
     "name": "#%%\n"
    },
    "ExecuteTime": {
     "end_time": "2024-03-03T18:18:51.969522Z",
     "start_time": "2024-03-03T18:18:51.967005Z"
    }
   },
   "outputs": [],
   "source": []
  },
  {
   "cell_type": "markdown",
   "metadata": {
    "collapsed": false,
    "pycharm": {
     "name": "#%% md\n"
    }
   },
   "source": [
    "26) Write a “Summary and Methods” section. [10 pts] No more than 2-5 sentences for each\n",
    "question below:\n",
    "i. Provide a summary of the project and what you completed in the assignment.\n",
    "ii. Describe the dataset and features. What is the target? What are you calculating it from?\n",
    "iii. Describe the differences in fit and predict between the regularized logistic regression vs\n",
    "KNN_Classifier. In particular, discuss training time vs prediction time for large data.\n",
    "Also discuss the hyperparameters of each and why they are used."
   ]
  },
  {
   "cell_type": "code",
   "execution_count": 176,
   "metadata": {
    "collapsed": false,
    "pycharm": {
     "name": "#%%\n"
    },
    "ExecuteTime": {
     "end_time": "2024-03-03T18:18:52.026848Z",
     "start_time": "2024-03-03T18:18:52.023278Z"
    }
   },
   "outputs": [],
   "source": []
  },
  {
   "cell_type": "markdown",
   "metadata": {
    "collapsed": false,
    "pycharm": {
     "name": "#%% md\n"
    }
   },
   "source": [
    "27) Write a “Results” section. [15 pts] No more than 2-5 sentences for each question below\n",
    "a) Describe the performance of the KNN model with respect to the different levels of k\n",
    "and the different distance metrics. Include a table of performances, bolding the best.\n",
    "b) Characterize the overall performance of your model.\n",
    "c) Discuss which quality values (original rating) led to good performance of your model\n",
    "and those that resulted in poor performance. Include a table of average error (e.g., F1\n",
    "score) to support your claims.\n",
    "d) Give any final conclusions."
   ]
  },
  {
   "cell_type": "code",
   "execution_count": 176,
   "metadata": {
    "collapsed": false,
    "pycharm": {
     "name": "#%%\n"
    },
    "ExecuteTime": {
     "end_time": "2024-03-03T18:18:52.052229Z",
     "start_time": "2024-03-03T18:18:52.049512Z"
    }
   },
   "outputs": [],
   "source": []
  },
  {
   "cell_type": "markdown",
   "metadata": {
    "collapsed": false,
    "pycharm": {
     "name": "#%% md\n"
    }
   },
   "source": []
  }
 ],
 "metadata": {
  "kernelspec": {
   "display_name": "Python 3 (ipykernel)",
   "language": "python",
   "name": "python3"
  },
  "language_info": {
   "codemirror_mode": {
    "name": "ipython",
    "version": 3
   },
   "file_extension": ".py",
   "mimetype": "text/x-python",
   "name": "python",
   "nbconvert_exporter": "python",
   "pygments_lexer": "ipython3",
   "version": "3.9.17"
  }
 },
 "nbformat": 4,
 "nbformat_minor": 4
}