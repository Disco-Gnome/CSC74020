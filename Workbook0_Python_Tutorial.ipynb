{
 "nbformat": 4,
 "nbformat_minor": 0,
 "metadata": {
  "colab": {
   "provenance": [
    {
     "file_id": "1vIxF0hxNI4tk7042PZbkMpfXWuLuCWCv",
     "timestamp": 1612373818453
    }
   ],
   "collapsed_sections": [
    "xbzonDN_mve4",
    "30hWlaJJpAPp",
    "APIpHB6H_wJk"
   ]
  },
  "kernelspec": {
   "name": "python3",
   "display_name": "Python 3"
  }
 },
 "cells": [
  {
   "cell_type": "markdown",
   "metadata": {
    "id": "xbzonDN_mve4",
    "pycharm": {
     "name": "#%% md\n"
    }
   },
   "source": [
    "## Python Tutorial\n",
    "\n",
    "Resource: [Python for Everybody](https://www.py4e.com/)\n",
    "\n",
    "- \"Hello World!\"\n",
    "- Arithmetics, integer division, exponentiation.\n",
    "- Data types\n",
    "- Logical operators (and, or, not, &, |, ~) and truth value\n",
    "- Comparison operators\n",
    "- For loops\n",
    "- If-elif-else branches\n",
    "- Functions\n",
    "- Classes\n",
    "- String methods: `+`, `strip`, `split`, `lower`, `join`, `find`, `replace`.\n",
    "- Data containers: lists, dictionaries, sets, and tuples"
   ]
  },
  {
   "cell_type": "code",
   "metadata": {
    "id": "ZuWsPY8jdKmN",
    "colab": {
     "base_uri": "https://localhost:8080/"
    },
    "executionInfo": {
     "status": "ok",
     "timestamp": 1693424981764,
     "user_tz": 240,
     "elapsed": 154,
     "user": {
      "displayName": "Joe Burdis",
      "userId": "05388749857082436046"
     }
    },
    "outputId": "f4ed50ad-251b-46a9-d4be-2f5013699488",
    "pycharm": {
     "name": "#%%\n"
    }
   },
   "source": [
    "print(\"Hello World!\")"
   ],
   "execution_count": 92,
   "outputs": [
    {
     "name": "stdout",
     "output_type": "stream",
     "text": [
      "Hello World!\n"
     ]
    }
   ]
  },
  {
   "cell_type": "code",
   "metadata": {
    "id": "GCErpFEIdfzN",
    "colab": {
     "base_uri": "https://localhost:8080/"
    },
    "executionInfo": {
     "status": "ok",
     "timestamp": 1693424982411,
     "user_tz": 240,
     "elapsed": 3,
     "user": {
      "displayName": "Joe Burdis",
      "userId": "05388749857082436046"
     }
    },
    "outputId": "e2b51fe4-9a13-4993-c2f4-7f590520fd4a",
    "pycharm": {
     "name": "#%%\n"
    }
   },
   "source": [
    "a = 5\n",
    "print(a)\n",
    "print(type(a))\n",
    "print(type(str(a)))"
   ],
   "execution_count": 93,
   "outputs": [
    {
     "name": "stdout",
     "output_type": "stream",
     "text": [
      "5\n",
      "<class 'int'>\n",
      "<class 'str'>\n"
     ]
    }
   ]
  },
  {
   "cell_type": "code",
   "metadata": {
    "id": "YLY-X_PTd4i7",
    "colab": {
     "base_uri": "https://localhost:8080/"
    },
    "executionInfo": {
     "status": "ok",
     "timestamp": 1693424984565,
     "user_tz": 240,
     "elapsed": 197,
     "user": {
      "displayName": "Joe Burdis",
      "userId": "05388749857082436046"
     }
    },
    "outputId": "30844206-6339-41d1-f9c5-1cd3ee19456b",
    "pycharm": {
     "name": "#%%\n"
    }
   },
   "source": [
    "b = 6\n",
    "print(a + b)\n",
    "print(a / b)\n",
    "print(a // b)\n",
    "print(6 // 5)\n",
    "print(7 % 5)\n",
    "print(5 ** 3)"
   ],
   "execution_count": 94,
   "outputs": [
    {
     "name": "stdout",
     "output_type": "stream",
     "text": [
      "11\n",
      "0.8333333333333334\n",
      "0\n",
      "1\n",
      "2\n",
      "125\n"
     ]
    }
   ]
  },
  {
   "cell_type": "code",
   "metadata": {
    "id": "DQ_7t6fhealx",
    "colab": {
     "base_uri": "https://localhost:8080/"
    },
    "executionInfo": {
     "status": "ok",
     "timestamp": 1693424985794,
     "user_tz": 240,
     "elapsed": 171,
     "user": {
      "displayName": "Joe Burdis",
      "userId": "05388749857082436046"
     }
    },
    "outputId": "fb32d3d2-c266-48e2-fda8-80b1c74c2c57",
    "pycharm": {
     "name": "#%%\n"
    }
   },
   "source": [
    "print(a > 0 and a % 2 == 0)\n",
    "print(a > 0 or a % 2 == 0)\n",
    "print(not a % 2 == 0)"
   ],
   "execution_count": 95,
   "outputs": [
    {
     "name": "stdout",
     "output_type": "stream",
     "text": [
      "False\n",
      "True\n",
      "True\n"
     ]
    }
   ]
  },
  {
   "cell_type": "code",
   "metadata": {
    "colab": {
     "base_uri": "https://localhost:8080/"
    },
    "id": "ohmg4ABeba0L",
    "executionInfo": {
     "status": "ok",
     "timestamp": 1693424987545,
     "user_tz": 240,
     "elapsed": 166,
     "user": {
      "displayName": "Joe Burdis",
      "userId": "05388749857082436046"
     }
    },
    "outputId": "b90220ca-9ce4-479f-fbe2-ed787d9f16d9",
    "pycharm": {
     "name": "#%%\n"
    }
   },
   "source": [
    "print(list(range(10)))"
   ],
   "execution_count": 96,
   "outputs": [
    {
     "name": "stdout",
     "output_type": "stream",
     "text": [
      "[0, 1, 2, 3, 4, 5, 6, 7, 8, 9]\n"
     ]
    }
   ]
  },
  {
   "cell_type": "code",
   "metadata": {
    "id": "KkJ_Za2JfuGS",
    "colab": {
     "base_uri": "https://localhost:8080/"
    },
    "executionInfo": {
     "status": "ok",
     "timestamp": 1693424988501,
     "user_tz": 240,
     "elapsed": 136,
     "user": {
      "displayName": "Joe Burdis",
      "userId": "05388749857082436046"
     }
    },
    "outputId": "c33c87d8-43d9-4079-db8d-8b0953109cda",
    "pycharm": {
     "name": "#%%\n"
    }
   },
   "source": [
    "# print the first 10 integers using a for loop:\n",
    "for x in range(10):\n",
    "    # print(x)\n",
    "    print(x ** 2)"
   ],
   "execution_count": 97,
   "outputs": [
    {
     "name": "stdout",
     "output_type": "stream",
     "text": [
      "0\n",
      "1\n",
      "4\n",
      "9\n",
      "16\n",
      "25\n",
      "36\n",
      "49\n",
      "64\n",
      "81\n"
     ]
    }
   ]
  },
  {
   "cell_type": "code",
   "metadata": {
    "id": "uTGSzgZVgAoR",
    "colab": {
     "base_uri": "https://localhost:8080/"
    },
    "executionInfo": {
     "status": "ok",
     "timestamp": 1693424989644,
     "user_tz": 240,
     "elapsed": 151,
     "user": {
      "displayName": "Joe Burdis",
      "userId": "05388749857082436046"
     }
    },
    "outputId": "0aebec33-3a54-496c-965b-5ce7cba5766e",
    "pycharm": {
     "name": "#%%\n"
    }
   },
   "source": [
    "if a < 0:\n",
    "    print(\"a is negative\")\n",
    "elif a % 2 == 0: # elif means \"else if\"\n",
    "    print(\"a is positive and even\")\n",
    "else:\n",
    "    print(\"a is positive and odd\")"
   ],
   "execution_count": 98,
   "outputs": [
    {
     "name": "stdout",
     "output_type": "stream",
     "text": [
      "a is positive and odd\n"
     ]
    }
   ]
  },
  {
   "cell_type": "code",
   "metadata": {
    "id": "yX2ArAUAgk4f",
    "executionInfo": {
     "status": "ok",
     "timestamp": 1693424990626,
     "user_tz": 240,
     "elapsed": 144,
     "user": {
      "displayName": "Joe Burdis",
      "userId": "05388749857082436046"
     }
    },
    "pycharm": {
     "name": "#%%\n"
    }
   },
   "source": [
    "def add(x, y=100):\n",
    "    \"\"\"\n",
    "    this function adds numbers\n",
    "    \"\"\"\n",
    "    z = x + y\n",
    "    return z"
   ],
   "execution_count": 99,
   "outputs": []
  },
  {
   "cell_type": "code",
   "source": [
    "help(add)"
   ],
   "metadata": {
    "colab": {
     "base_uri": "https://localhost:8080/"
    },
    "id": "14UFATsj39_4",
    "executionInfo": {
     "status": "ok",
     "timestamp": 1693424992749,
     "user_tz": 240,
     "elapsed": 147,
     "user": {
      "displayName": "Joe Burdis",
      "userId": "05388749857082436046"
     }
    },
    "outputId": "7bc80129-e5f5-4aa1-fa05-f0cdf552f5ff",
    "pycharm": {
     "name": "#%%\n"
    }
   },
   "execution_count": 100,
   "outputs": [
    {
     "name": "stdout",
     "output_type": "stream",
     "text": [
      "Help on function add in module __main__:\n",
      "\n",
      "add(x, y=100)\n",
      "    this function adds numbers\n",
      "\n"
     ]
    }
   ]
  },
  {
   "cell_type": "code",
   "metadata": {
    "id": "EKi5jykkgtgz",
    "colab": {
     "base_uri": "https://localhost:8080/"
    },
    "executionInfo": {
     "status": "ok",
     "timestamp": 1693424993797,
     "user_tz": 240,
     "elapsed": 164,
     "user": {
      "displayName": "Joe Burdis",
      "userId": "05388749857082436046"
     }
    },
    "outputId": "6531c9c4-a51e-4f83-e412-3eac84684cdc",
    "pycharm": {
     "name": "#%%\n"
    }
   },
   "source": [
    "print(add(10, 25,))\n",
    "print(add(10))"
   ],
   "execution_count": 101,
   "outputs": [
    {
     "name": "stdout",
     "output_type": "stream",
     "text": [
      "35\n",
      "110\n"
     ]
    }
   ]
  },
  {
   "cell_type": "code",
   "metadata": {
    "colab": {
     "base_uri": "https://localhost:8080/"
    },
    "id": "SAiSXbSkdF43",
    "executionInfo": {
     "status": "ok",
     "timestamp": 1693424994424,
     "user_tz": 240,
     "elapsed": 4,
     "user": {
      "displayName": "Joe Burdis",
      "userId": "05388749857082436046"
     }
    },
    "outputId": "39de8809-e659-45f3-ea5d-21cb05455ac9",
    "pycharm": {
     "name": "#%%\n"
    }
   },
   "source": [
    "a_as_a_float = float(a)\n",
    "print(a_as_a_float)"
   ],
   "execution_count": 102,
   "outputs": [
    {
     "name": "stdout",
     "output_type": "stream",
     "text": [
      "5.0\n"
     ]
    }
   ]
  },
  {
   "cell_type": "code",
   "metadata": {
    "id": "29HC9t1ohPkZ",
    "executionInfo": {
     "status": "ok",
     "timestamp": 1693424995152,
     "user_tz": 240,
     "elapsed": 148,
     "user": {
      "displayName": "Joe Burdis",
      "userId": "05388749857082436046"
     }
    },
    "pycharm": {
     "name": "#%%\n"
    }
   },
   "source": [
    "class Person():\n",
    "\n",
    "    def __init__(self, name, age):\n",
    "        self.name = name\n",
    "        self.age = age\n",
    "\n",
    "    def print(self):\n",
    "        print(self.name, self.age)"
   ],
   "execution_count": 103,
   "outputs": []
  },
  {
   "cell_type": "code",
   "metadata": {
    "id": "a4ZOIyg5he8T",
    "colab": {
     "base_uri": "https://localhost:8080/"
    },
    "executionInfo": {
     "status": "ok",
     "timestamp": 1693424996266,
     "user_tz": 240,
     "elapsed": 2,
     "user": {
      "displayName": "Joe Burdis",
      "userId": "05388749857082436046"
     }
    },
    "outputId": "9328935d-bbe7-40d0-829d-e4ef3270491c",
    "pycharm": {
     "name": "#%%\n"
    }
   },
   "source": [
    "alex = Person(\"Alex\", 25)\n",
    "print(alex.name)\n",
    "alex.print()"
   ],
   "execution_count": 104,
   "outputs": [
    {
     "name": "stdout",
     "output_type": "stream",
     "text": [
      "Alex\n",
      "Alex 25\n"
     ]
    }
   ]
  },
  {
   "cell_type": "code",
   "metadata": {
    "id": "nd6J391LiPmX",
    "colab": {
     "base_uri": "https://localhost:8080/"
    },
    "executionInfo": {
     "status": "ok",
     "timestamp": 1693424998543,
     "user_tz": 240,
     "elapsed": 168,
     "user": {
      "displayName": "Joe Burdis",
      "userId": "05388749857082436046"
     }
    },
    "outputId": "4ea76650-5e07-478e-fd92-f55c206721d6",
    "pycharm": {
     "name": "#%%\n"
    }
   },
   "source": [
    "# +, strip, split, lower, join, find, replace.\n",
    "print(\"Al\" + \"ex\")\n",
    "print(\"    Alex    \".strip())\n",
    "print(\"Alex, Bob, Clare, David\".split(\", \"))\n",
    "print(\"Alex\".lower())\n",
    "print(\"Alex\".upper())\n",
    "names = [\"Alex\", \"Bob\", \"Clare\"]\n",
    "print(\" | \".join(names))\n",
    "print(\"Monday\".find(\"day\"))\n",
    "print(\"Monday\".replace(\"day\", \"DAY\"))\n",
    "# print()"
   ],
   "execution_count": 105,
   "outputs": [
    {
     "name": "stdout",
     "output_type": "stream",
     "text": [
      "Alex\n",
      "Alex\n",
      "['Alex', 'Bob', 'Clare', 'David']\n",
      "alex\n",
      "ALEX\n",
      "Alex | Bob | Clare\n",
      "3\n",
      "MonDAY\n"
     ]
    }
   ]
  },
  {
   "cell_type": "code",
   "source": [
    "this_str=\"Alex\"\n",
    "this_str[:2]"
   ],
   "metadata": {
    "colab": {
     "base_uri": "https://localhost:8080/",
     "height": 35
    },
    "id": "03Khg_gA5AD4",
    "executionInfo": {
     "status": "ok",
     "timestamp": 1693425004142,
     "user_tz": 240,
     "elapsed": 154,
     "user": {
      "displayName": "Joe Burdis",
      "userId": "05388749857082436046"
     }
    },
    "outputId": "e2d174db-c3bd-41af-ceb3-73b98e0c451f",
    "pycharm": {
     "name": "#%%\n"
    }
   },
   "execution_count": 106,
   "outputs": [
    {
     "data": {
      "text/plain": "'Al'"
     },
     "execution_count": 106,
     "metadata": {},
     "output_type": "execute_result"
    }
   ]
  },
  {
   "cell_type": "code",
   "metadata": {
    "id": "6W9rr5cOjsoX",
    "colab": {
     "base_uri": "https://localhost:8080/"
    },
    "executionInfo": {
     "status": "ok",
     "timestamp": 1693425008167,
     "user_tz": 240,
     "elapsed": 4,
     "user": {
      "displayName": "Joe Burdis",
      "userId": "05388749857082436046"
     }
    },
    "outputId": "171f1892-87aa-4899-bae2-8162443336a6",
    "pycharm": {
     "name": "#%%\n"
    }
   },
   "source": [
    "# list\n",
    "py_list = [\"Alex\", 29, 130.5, 1, 2, 3, 4, 5, 6]\n",
    "print(py_list[0])\n",
    "print(py_list[-1])\n",
    "print(py_list[-2])\n",
    "print(py_list[0:3]) # this will extract elements with index 0, 1, 2\n",
    "print(py_list[:3])\n",
    "print(py_list[5:])\n",
    "print(py_list[:])"
   ],
   "execution_count": 107,
   "outputs": [
    {
     "name": "stdout",
     "output_type": "stream",
     "text": [
      "Alex\n",
      "6\n",
      "5\n",
      "['Alex', 29, 130.5]\n",
      "['Alex', 29, 130.5]\n",
      "[3, 4, 5, 6]\n",
      "['Alex', 29, 130.5, 1, 2, 3, 4, 5, 6]\n"
     ]
    }
   ]
  },
  {
   "cell_type": "code",
   "metadata": {
    "id": "DMvzcq5gOEYR",
    "colab": {
     "base_uri": "https://localhost:8080/"
    },
    "executionInfo": {
     "status": "ok",
     "timestamp": 1693425009475,
     "user_tz": 240,
     "elapsed": 160,
     "user": {
      "displayName": "Joe Burdis",
      "userId": "05388749857082436046"
     }
    },
    "outputId": "27da00d1-5bbb-42dc-f09a-dc1d1eee7072",
    "pycharm": {
     "name": "#%%\n"
    }
   },
   "source": [
    "# List comprehension\n",
    "list1 = [1, 2, 3, 4, 5, 6]\n",
    "# multiply each element by 10\n",
    "list2 = []\n",
    "for x in list1:\n",
    "    if x!=3:\n",
    "      list2.append(10 * x)\n",
    "print(list2)"
   ],
   "execution_count": 108,
   "outputs": [
    {
     "name": "stdout",
     "output_type": "stream",
     "text": [
      "[10, 20, 40, 50, 60]\n"
     ]
    }
   ]
  },
  {
   "cell_type": "code",
   "metadata": {
    "colab": {
     "base_uri": "https://localhost:8080/"
    },
    "id": "dAq-pqVAggzE",
    "executionInfo": {
     "status": "ok",
     "timestamp": 1693425011976,
     "user_tz": 240,
     "elapsed": 134,
     "user": {
      "displayName": "Joe Burdis",
      "userId": "05388749857082436046"
     }
    },
    "outputId": "5cf02589-d3a2-4599-828a-10213bf5abaf",
    "pycharm": {
     "name": "#%%\n"
    }
   },
   "source": [
    "list3 = [10 * x for x in list1 if x!=3]\n",
    "print(list3)"
   ],
   "execution_count": 109,
   "outputs": [
    {
     "name": "stdout",
     "output_type": "stream",
     "text": [
      "[10, 20, 40, 50, 60]\n"
     ]
    }
   ]
  },
  {
   "cell_type": "code",
   "source": [
    "ss=\"data mining\"\n",
    "ss[2]='z'"
   ],
   "metadata": {
    "colab": {
     "base_uri": "https://localhost:8080/",
     "height": 193
    },
    "id": "NxFDy0rr6qNp",
    "executionInfo": {
     "status": "error",
     "timestamp": 1693425014967,
     "user_tz": 240,
     "elapsed": 200,
     "user": {
      "displayName": "Joe Burdis",
      "userId": "05388749857082436046"
     }
    },
    "outputId": "47d7b8f7-153d-4ef3-c8be-44f20aab56f9",
    "pycharm": {
     "name": "#%%\n"
    }
   },
   "execution_count": 110,
   "outputs": [
    {
     "ename": "TypeError",
     "evalue": "'str' object does not support item assignment",
     "output_type": "error",
     "traceback": [
      "\u001B[1;31m---------------------------------------------------------------------------\u001B[0m",
      "\u001B[1;31mTypeError\u001B[0m                                 Traceback (most recent call last)",
      "Input \u001B[1;32mIn [110]\u001B[0m, in \u001B[0;36m<cell line: 2>\u001B[1;34m()\u001B[0m\n\u001B[0;32m      1\u001B[0m ss\u001B[38;5;241m=\u001B[39m\u001B[38;5;124m\"\u001B[39m\u001B[38;5;124mdata mining\u001B[39m\u001B[38;5;124m\"\u001B[39m\n\u001B[1;32m----> 2\u001B[0m ss[\u001B[38;5;241m2\u001B[39m]\u001B[38;5;241m=\u001B[39m\u001B[38;5;124m'\u001B[39m\u001B[38;5;124mz\u001B[39m\u001B[38;5;124m'\u001B[39m\n",
      "\u001B[1;31mTypeError\u001B[0m: 'str' object does not support item assignment"
     ]
    }
   ]
  },
  {
   "cell_type": "code",
   "source": [
    "ss[2]"
   ],
   "metadata": {
    "colab": {
     "base_uri": "https://localhost:8080/",
     "height": 35
    },
    "id": "bmi2f3-P6ycd",
    "executionInfo": {
     "status": "ok",
     "timestamp": 1693425018580,
     "user_tz": 240,
     "elapsed": 145,
     "user": {
      "displayName": "Joe Burdis",
      "userId": "05388749857082436046"
     }
    },
    "outputId": "be9a4ed8-3f3d-478c-f880-539a030d5bac",
    "pycharm": {
     "name": "#%%\n"
    }
   },
   "execution_count": 111,
   "outputs": [
    {
     "data": {
      "text/plain": "'t'"
     },
     "execution_count": 111,
     "metadata": {},
     "output_type": "execute_result"
    }
   ]
  },
  {
   "cell_type": "code",
   "source": [
    "aa=[1,2,3,4,5]\n",
    "aa[2]=0\n",
    "aa"
   ],
   "metadata": {
    "colab": {
     "base_uri": "https://localhost:8080/"
    },
    "id": "hl8hBz-35tuz",
    "executionInfo": {
     "status": "ok",
     "timestamp": 1693425032981,
     "user_tz": 240,
     "elapsed": 154,
     "user": {
      "displayName": "Joe Burdis",
      "userId": "05388749857082436046"
     }
    },
    "outputId": "ce3279d4-5f76-47fe-95a3-24f997738d17",
    "pycharm": {
     "name": "#%%\n"
    }
   },
   "execution_count": 112,
   "outputs": [
    {
     "data": {
      "text/plain": "[1, 2, 0, 4, 5]"
     },
     "execution_count": 112,
     "metadata": {},
     "output_type": "execute_result"
    }
   ]
  },
  {
   "cell_type": "code",
   "source": [
    "aa.append(6)\n",
    "aa"
   ],
   "metadata": {
    "colab": {
     "base_uri": "https://localhost:8080/"
    },
    "id": "KXyNwVoE6PYZ",
    "executionInfo": {
     "status": "ok",
     "timestamp": 1693425035439,
     "user_tz": 240,
     "elapsed": 140,
     "user": {
      "displayName": "Joe Burdis",
      "userId": "05388749857082436046"
     }
    },
    "outputId": "ea138076-c051-4141-d382-b4bc93c9f767",
    "pycharm": {
     "name": "#%%\n"
    }
   },
   "execution_count": 113,
   "outputs": [
    {
     "data": {
      "text/plain": "[1, 2, 0, 4, 5, 6]"
     },
     "execution_count": 113,
     "metadata": {},
     "output_type": "execute_result"
    }
   ]
  },
  {
   "cell_type": "code",
   "source": [
    "tt=(1,2,3,4,5)\n",
    "tt[2]=0"
   ],
   "metadata": {
    "colab": {
     "base_uri": "https://localhost:8080/",
     "height": 193
    },
    "id": "eXZA4E0z539R",
    "executionInfo": {
     "status": "error",
     "timestamp": 1693425036406,
     "user_tz": 240,
     "elapsed": 140,
     "user": {
      "displayName": "Joe Burdis",
      "userId": "05388749857082436046"
     }
    },
    "outputId": "36865df0-6532-41ab-89ed-129beee35038",
    "pycharm": {
     "name": "#%%\n"
    }
   },
   "execution_count": 114,
   "outputs": [
    {
     "ename": "TypeError",
     "evalue": "'tuple' object does not support item assignment",
     "output_type": "error",
     "traceback": [
      "\u001B[1;31m---------------------------------------------------------------------------\u001B[0m",
      "\u001B[1;31mTypeError\u001B[0m                                 Traceback (most recent call last)",
      "Input \u001B[1;32mIn [114]\u001B[0m, in \u001B[0;36m<cell line: 2>\u001B[1;34m()\u001B[0m\n\u001B[0;32m      1\u001B[0m tt\u001B[38;5;241m=\u001B[39m(\u001B[38;5;241m1\u001B[39m,\u001B[38;5;241m2\u001B[39m,\u001B[38;5;241m3\u001B[39m,\u001B[38;5;241m4\u001B[39m,\u001B[38;5;241m5\u001B[39m)\n\u001B[1;32m----> 2\u001B[0m tt[\u001B[38;5;241m2\u001B[39m]\u001B[38;5;241m=\u001B[39m\u001B[38;5;241m0\u001B[39m\n",
      "\u001B[1;31mTypeError\u001B[0m: 'tuple' object does not support item assignment"
     ]
    }
   ]
  },
  {
   "cell_type": "code",
   "execution_count": null,
   "outputs": [],
   "source": [],
   "metadata": {
    "collapsed": false,
    "pycharm": {
     "name": "#%%\n"
    }
   }
  },
  {
   "cell_type": "code",
   "metadata": {
    "id": "QjJoRncGksVM",
    "colab": {
     "base_uri": "https://localhost:8080/"
    },
    "executionInfo": {
     "status": "ok",
     "timestamp": 1693425132150,
     "user_tz": 240,
     "elapsed": 156,
     "user": {
      "displayName": "Joe Burdis",
      "userId": "05388749857082436046"
     }
    },
    "outputId": "92d2a4cb-c611-4b61-b5d6-d26b8ced9d6b",
    "pycharm": {
     "name": "#%%\n"
    }
   },
   "source": [
    "# dictionary\n",
    "py_dict = {}\n",
    "py_dict['Alex'] = \"A\"\n",
    "py_dict['Bob'] = 'B'\n",
    "print(py_dict)"
   ],
   "execution_count": 115,
   "outputs": [
    {
     "name": "stdout",
     "output_type": "stream",
     "text": [
      "{'Alex': 'A', 'Bob': 'B'}\n"
     ]
    }
   ]
  },
  {
   "cell_type": "code",
   "source": [
    "for k,v in py_dict.items():\n",
    "  print(v)"
   ],
   "metadata": {
    "colab": {
     "base_uri": "https://localhost:8080/"
    },
    "id": "pD_NHN--7tw6",
    "executionInfo": {
     "status": "ok",
     "timestamp": 1693425133762,
     "user_tz": 240,
     "elapsed": 136,
     "user": {
      "displayName": "Joe Burdis",
      "userId": "05388749857082436046"
     }
    },
    "outputId": "a114df1e-847c-4dc4-8479-84120656d65b",
    "pycharm": {
     "name": "#%%\n"
    }
   },
   "execution_count": 116,
   "outputs": [
    {
     "name": "stdout",
     "output_type": "stream",
     "text": [
      "A\n",
      "B\n"
     ]
    }
   ]
  },
  {
   "cell_type": "code",
   "metadata": {
    "id": "ut7OmAPklBlS",
    "colab": {
     "base_uri": "https://localhost:8080/"
    },
    "executionInfo": {
     "status": "ok",
     "timestamp": 1693425137917,
     "user_tz": 240,
     "elapsed": 129,
     "user": {
      "displayName": "Joe Burdis",
      "userId": "05388749857082436046"
     }
    },
    "outputId": "ba85a53c-384a-4f9b-fb12-12c881111f87",
    "pycharm": {
     "name": "#%%\n"
    }
   },
   "source": [
    "# set\n",
    "py_set = {'A', 'B', 'C', 'A'}\n",
    "print(py_set)\n",
    "\n",
    "# find the unique values of a list\n",
    "py_list = [1, 2, 3, 2, 5, 1]\n",
    "print(set(py_list))"
   ],
   "execution_count": 117,
   "outputs": [
    {
     "name": "stdout",
     "output_type": "stream",
     "text": [
      "{'B', 'C', 'A'}\n",
      "{1, 2, 3, 5}\n"
     ]
    }
   ]
  },
  {
   "cell_type": "code",
   "metadata": {
    "id": "8gI9ppAPlfo9",
    "colab": {
     "base_uri": "https://localhost:8080/"
    },
    "executionInfo": {
     "status": "ok",
     "timestamp": 1693425146143,
     "user_tz": 240,
     "elapsed": 140,
     "user": {
      "displayName": "Joe Burdis",
      "userId": "05388749857082436046"
     }
    },
    "outputId": "8d34e0e2-a574-42db-d907-13f98f21b1b6",
    "pycharm": {
     "name": "#%%\n"
    }
   },
   "source": [
    "# tuple\n",
    "py_tuple = (1, 2, 3)\n",
    "print(py_tuple)"
   ],
   "execution_count": 118,
   "outputs": [
    {
     "name": "stdout",
     "output_type": "stream",
     "text": [
      "(1, 2, 3)\n"
     ]
    }
   ]
  },
  {
   "cell_type": "markdown",
   "metadata": {
    "id": "30hWlaJJpAPp",
    "pycharm": {
     "name": "#%% md\n"
    }
   },
   "source": [
    "## NumPy Arrays\n",
    "\n",
    "[NumPy](https://numpy.org/) is the core library for scientific computing in Python. It provides a high-performance multidimensional array object, and tools for working with these arrays.\n",
    "\n",
    "**Resources:**\n",
    "- Python for Data Analysis Chapter 4\n",
    "- [NumPy Documentation](https://numpy.org/doc/1.19/user/quickstart.html)\n",
    "- [NumPy Tutorial from W3School](https://www.w3resource.com/python-exercises/numpy/index.php)"
   ]
  },
  {
   "cell_type": "code",
   "metadata": {
    "id": "hz-pb6t9xKxR",
    "executionInfo": {
     "status": "ok",
     "timestamp": 1693425343702,
     "user_tz": 240,
     "elapsed": 135,
     "user": {
      "displayName": "Joe Burdis",
      "userId": "05388749857082436046"
     }
    },
    "pycharm": {
     "name": "#%%\n"
    }
   },
   "source": [
    "import numpy as np"
   ],
   "execution_count": 119,
   "outputs": []
  },
  {
   "cell_type": "code",
   "metadata": {
    "id": "KEO6k_BCwtMe",
    "colab": {
     "base_uri": "https://localhost:8080/"
    },
    "executionInfo": {
     "status": "ok",
     "timestamp": 1693425344153,
     "user_tz": 240,
     "elapsed": 2,
     "user": {
      "displayName": "Joe Burdis",
      "userId": "05388749857082436046"
     }
    },
    "outputId": "18542522-7b58-491d-cd90-009367a1460e",
    "pycharm": {
     "name": "#%%\n"
    }
   },
   "source": [
    "# Create a numpy array from a Python list\n",
    "py_list = [1, 2, 3, 4]\n",
    "np_ary = np.array(py_list)\n",
    "print(\"Numpy array:\", np_ary)\n",
    "print(\"Shape:\", np_ary.shape)\n",
    "print(\"Type:\", np_ary.dtype)"
   ],
   "execution_count": 120,
   "outputs": [
    {
     "name": "stdout",
     "output_type": "stream",
     "text": [
      "Numpy array: [1 2 3 4]\n",
      "Shape: (4,)\n",
      "Type: int32\n"
     ]
    }
   ]
  },
  {
   "cell_type": "code",
   "source": [
    "ll=[[1, 2, 3],[4, 5, 6]]\n",
    "type(ll[0])"
   ],
   "metadata": {
    "colab": {
     "base_uri": "https://localhost:8080/"
    },
    "id": "_lanQsd38_WG",
    "executionInfo": {
     "status": "ok",
     "timestamp": 1693425344784,
     "user_tz": 240,
     "elapsed": 3,
     "user": {
      "displayName": "Joe Burdis",
      "userId": "05388749857082436046"
     }
    },
    "outputId": "aa05091c-9d96-4f5e-da03-59ee5c415cb6",
    "pycharm": {
     "name": "#%%\n"
    }
   },
   "execution_count": 121,
   "outputs": [
    {
     "data": {
      "text/plain": "list"
     },
     "execution_count": 121,
     "metadata": {},
     "output_type": "execute_result"
    }
   ]
  },
  {
   "cell_type": "code",
   "metadata": {
    "id": "yhxpmsgBwuTb",
    "colab": {
     "base_uri": "https://localhost:8080/"
    },
    "executionInfo": {
     "status": "ok",
     "timestamp": 1693425345403,
     "user_tz": 240,
     "elapsed": 5,
     "user": {
      "displayName": "Joe Burdis",
      "userId": "05388749857082436046"
     }
    },
    "outputId": "c2726194-3780-4949-f7a6-03f0a5e3d71c",
    "pycharm": {
     "name": "#%%\n"
    }
   },
   "source": [
    "# Create a 2D array\n",
    "ary2d = np.array([[1, 2, 3],\n",
    "                  [4, 5, 6]])\n",
    "print(ary2d)"
   ],
   "execution_count": 122,
   "outputs": [
    {
     "name": "stdout",
     "output_type": "stream",
     "text": [
      "[[1 2 3]\n",
      " [4 5 6]]\n"
     ]
    }
   ]
  },
  {
   "cell_type": "markdown",
   "metadata": {
    "id": "F5SVZMHXxEmf",
    "pycharm": {
     "name": "#%% md\n"
    }
   },
   "source": [
    "NumPy also provides many functions to create arrays:"
   ]
  },
  {
   "cell_type": "code",
   "metadata": {
    "id": "QIqxWMZrwuV4",
    "colab": {
     "base_uri": "https://localhost:8080/"
    },
    "executionInfo": {
     "status": "ok",
     "timestamp": 1693425346176,
     "user_tz": 240,
     "elapsed": 144,
     "user": {
      "displayName": "Joe Burdis",
      "userId": "05388749857082436046"
     }
    },
    "outputId": "14fa0608-435d-4397-9c5d-ed1b06addf47",
    "pycharm": {
     "name": "#%%\n"
    }
   },
   "source": [
    "ary = np.zeros((2, 3))\n",
    "print(ary)\n",
    "\n",
    "ary = np.ones((3, 2))\n",
    "print(ary)\n",
    "\n",
    "ary = np.random.rand(2, 2)\n",
    "print(ary)"
   ],
   "execution_count": 123,
   "outputs": [
    {
     "name": "stdout",
     "output_type": "stream",
     "text": [
      "[[0. 0. 0.]\n",
      " [0. 0. 0.]]\n",
      "[[1. 1.]\n",
      " [1. 1.]\n",
      " [1. 1.]]\n",
      "[[0.45518438 0.54290887]\n",
      " [0.28121043 0.06964053]]\n"
     ]
    }
   ]
  },
  {
   "cell_type": "markdown",
   "metadata": {
    "id": "L_k5EQdJwuYa",
    "pycharm": {
     "name": "#%% md\n"
    }
   },
   "source": [
    "NumPy arrays support **integer array indexing** and **boolean indexing**, which provides additional tools to create a subarray."
   ]
  },
  {
   "cell_type": "code",
   "source": [
    "iii=np.zeros((3, 3),dtype=int)\n",
    "for j in range(len(iii)):\n",
    "  iii[j,j]=1\n",
    "iii"
   ],
   "metadata": {
    "colab": {
     "base_uri": "https://localhost:8080/"
    },
    "id": "csqcFOGT9aF0",
    "executionInfo": {
     "status": "ok",
     "timestamp": 1693425347417,
     "user_tz": 240,
     "elapsed": 235,
     "user": {
      "displayName": "Joe Burdis",
      "userId": "05388749857082436046"
     }
    },
    "outputId": "5ca902ae-bff4-4607-a26e-3f99755bdd25",
    "pycharm": {
     "name": "#%%\n"
    }
   },
   "execution_count": 124,
   "outputs": [
    {
     "data": {
      "text/plain": "array([[1, 0, 0],\n       [0, 1, 0],\n       [0, 0, 1]])"
     },
     "execution_count": 124,
     "metadata": {},
     "output_type": "execute_result"
    }
   ]
  },
  {
   "cell_type": "code",
   "metadata": {
    "id": "5xl2tUtbwua7",
    "colab": {
     "base_uri": "https://localhost:8080/"
    },
    "executionInfo": {
     "status": "ok",
     "timestamp": 1693425347581,
     "user_tz": 240,
     "elapsed": 4,
     "user": {
      "displayName": "Joe Burdis",
      "userId": "05388749857082436046"
     }
    },
    "outputId": "a9dbe5ee-9aa5-4d65-ee05-9672afd47979",
    "pycharm": {
     "name": "#%%\n"
    }
   },
   "source": [
    "# Integer array index: create a subarray whose indices come from another array\n",
    "data_ary = np.array([0, 2, 4, 6, 8, 10])\n",
    "idx_ary = [0, 4, 5]\n",
    "# What values will be printed?\n",
    "print(data_ary[idx_ary])"
   ],
   "execution_count": 125,
   "outputs": [
    {
     "name": "stdout",
     "output_type": "stream",
     "text": [
      "[ 0  8 10]\n"
     ]
    }
   ]
  },
  {
   "cell_type": "code",
   "metadata": {
    "id": "93K3cZQRwurL",
    "colab": {
     "base_uri": "https://localhost:8080/"
    },
    "executionInfo": {
     "status": "ok",
     "timestamp": 1693425348107,
     "user_tz": 240,
     "elapsed": 2,
     "user": {
      "displayName": "Joe Burdis",
      "userId": "05388749857082436046"
     }
    },
    "outputId": "18097a0c-b24a-4a0c-da82-81ef831e4253",
    "pycharm": {
     "name": "#%%\n"
    }
   },
   "source": [
    "# Boolean indexing: select values that satisfies some condition\n",
    "ary = np.array([1, 3, -5, -2, 0, -1])\n",
    "idx = (ary > 0)\n",
    "# What will be printed?\n",
    "print(idx)\n",
    "print(ary[idx])\n",
    "print(ary[ary > 0])"
   ],
   "execution_count": 126,
   "outputs": [
    {
     "name": "stdout",
     "output_type": "stream",
     "text": [
      "[ True  True False False False False]\n",
      "[1 3]\n",
      "[1 3]\n"
     ]
    }
   ]
  },
  {
   "cell_type": "code",
   "metadata": {
    "id": "l4NGkI0uxRJK",
    "colab": {
     "base_uri": "https://localhost:8080/"
    },
    "executionInfo": {
     "status": "ok",
     "timestamp": 1693425348577,
     "user_tz": 240,
     "elapsed": 2,
     "user": {
      "displayName": "Joe Burdis",
      "userId": "05388749857082436046"
     }
    },
    "outputId": "04ef5019-a605-441c-e4bd-04157e48dd19",
    "pycharm": {
     "name": "#%%\n"
    }
   },
   "source": [
    "# Use bitwise operator to composite conditions\n",
    "ary = np.array([1, 3, -5, -2, 0, -1])\n",
    "idx = (ary >= 0) & (ary < 2)\n",
    "# What will be printed?\n",
    "print(ary >= 0)\n",
    "print(ary < 2)\n",
    "print(idx)\n",
    "print(ary[idx])"
   ],
   "execution_count": 127,
   "outputs": [
    {
     "name": "stdout",
     "output_type": "stream",
     "text": [
      "[ True  True False False  True False]\n",
      "[ True False  True  True  True  True]\n",
      "[ True False False False  True False]\n",
      "[1 0]\n"
     ]
    }
   ]
  },
  {
   "cell_type": "markdown",
   "metadata": {
    "id": "Cj9FyhH0pAUI",
    "pycharm": {
     "name": "#%% md\n"
    }
   },
   "source": [
    "Basic mathematical functions operate elementwise on the arrays."
   ]
  },
  {
   "cell_type": "code",
   "metadata": {
    "id": "tgI6O5_xxzUC",
    "colab": {
     "base_uri": "https://localhost:8080/"
    },
    "executionInfo": {
     "status": "ok",
     "timestamp": 1693425349873,
     "user_tz": 240,
     "elapsed": 145,
     "user": {
      "displayName": "Joe Burdis",
      "userId": "05388749857082436046"
     }
    },
    "outputId": "d2bd9ecc-5c50-44b1-eb52-732b73cb5caa",
    "pycharm": {
     "name": "#%%\n"
    }
   },
   "source": [
    "x = np.array([[1, 2, 3],\n",
    "              [4, 5, 6]])\n",
    "print(x + 1)"
   ],
   "execution_count": 128,
   "outputs": [
    {
     "name": "stdout",
     "output_type": "stream",
     "text": [
      "[[2 3 4]\n",
      " [5 6 7]]\n"
     ]
    }
   ]
  },
  {
   "cell_type": "code",
   "metadata": {
    "id": "Zx3UmLb1x0no",
    "colab": {
     "base_uri": "https://localhost:8080/"
    },
    "executionInfo": {
     "status": "ok",
     "timestamp": 1693425350473,
     "user_tz": 240,
     "elapsed": 2,
     "user": {
      "displayName": "Joe Burdis",
      "userId": "05388749857082436046"
     }
    },
    "outputId": "aee1eed9-a38b-47d1-db73-4babce2021c2",
    "pycharm": {
     "name": "#%%\n"
    }
   },
   "source": [
    "y = np.array([[10, 20, 30],\n",
    "              [40, 50, 60]])\n",
    "print(x + y)"
   ],
   "execution_count": 129,
   "outputs": [
    {
     "name": "stdout",
     "output_type": "stream",
     "text": [
      "[[11 22 33]\n",
      " [44 55 66]]\n"
     ]
    }
   ]
  },
  {
   "cell_type": "code",
   "source": [
    "y.shape"
   ],
   "metadata": {
    "colab": {
     "base_uri": "https://localhost:8080/"
    },
    "id": "7q312qPY_HSD",
    "executionInfo": {
     "status": "ok",
     "timestamp": 1693425350974,
     "user_tz": 240,
     "elapsed": 2,
     "user": {
      "displayName": "Joe Burdis",
      "userId": "05388749857082436046"
     }
    },
    "outputId": "29d4509e-e4ef-41de-e91d-002639fedd96",
    "pycharm": {
     "name": "#%%\n"
    }
   },
   "execution_count": 130,
   "outputs": [
    {
     "data": {
      "text/plain": "(2, 3)"
     },
     "execution_count": 130,
     "metadata": {},
     "output_type": "execute_result"
    }
   ]
  },
  {
   "cell_type": "code",
   "source": [
    "z=np.array([10, 20, 30])\n",
    "z.shape"
   ],
   "metadata": {
    "colab": {
     "base_uri": "https://localhost:8080/"
    },
    "id": "Vgyt9DJb_Xso",
    "executionInfo": {
     "status": "ok",
     "timestamp": 1693425351628,
     "user_tz": 240,
     "elapsed": 3,
     "user": {
      "displayName": "Joe Burdis",
      "userId": "05388749857082436046"
     }
    },
    "outputId": "344a27ea-0184-4e8c-ac57-19b46214ca63",
    "pycharm": {
     "name": "#%%\n"
    }
   },
   "execution_count": 131,
   "outputs": [
    {
     "data": {
      "text/plain": "(3,)"
     },
     "execution_count": 131,
     "metadata": {},
     "output_type": "execute_result"
    }
   ]
  },
  {
   "cell_type": "code",
   "source": [
    "y = np.array([[10, 20, 30],\n",
    "              [40, 50, 60]])\n",
    "print(y+z)"
   ],
   "metadata": {
    "colab": {
     "base_uri": "https://localhost:8080/"
    },
    "id": "mldOT1bY-9dm",
    "executionInfo": {
     "status": "ok",
     "timestamp": 1693425352337,
     "user_tz": 240,
     "elapsed": 2,
     "user": {
      "displayName": "Joe Burdis",
      "userId": "05388749857082436046"
     }
    },
    "outputId": "8c0e72d5-41b0-4029-8db0-0b7d6884ddfa",
    "pycharm": {
     "name": "#%%\n"
    }
   },
   "execution_count": 132,
   "outputs": [
    {
     "name": "stdout",
     "output_type": "stream",
     "text": [
      "[[20 40 60]\n",
      " [50 70 90]]\n"
     ]
    }
   ]
  },
  {
   "cell_type": "code",
   "metadata": {
    "id": "LKx74spQoBkO",
    "colab": {
     "base_uri": "https://localhost:8080/",
     "height": 228
    },
    "executionInfo": {
     "status": "error",
     "timestamp": 1693425360325,
     "user_tz": 240,
     "elapsed": 242,
     "user": {
      "displayName": "Joe Burdis",
      "userId": "05388749857082436046"
     }
    },
    "outputId": "8c9f1d96-6ea6-49c0-d981-47a642833061",
    "pycharm": {
     "name": "#%%\n"
    }
   },
   "source": [
    "y = y.reshape([1, 6])\n",
    "print(y)\n",
    "print(x + y)"
   ],
   "execution_count": 133,
   "outputs": [
    {
     "name": "stdout",
     "output_type": "stream",
     "text": [
      "[[10 20 30 40 50 60]]\n"
     ]
    },
    {
     "ename": "ValueError",
     "evalue": "operands could not be broadcast together with shapes (2,3) (1,6) ",
     "output_type": "error",
     "traceback": [
      "\u001B[1;31m---------------------------------------------------------------------------\u001B[0m",
      "\u001B[1;31mValueError\u001B[0m                                Traceback (most recent call last)",
      "Input \u001B[1;32mIn [133]\u001B[0m, in \u001B[0;36m<cell line: 3>\u001B[1;34m()\u001B[0m\n\u001B[0;32m      1\u001B[0m y \u001B[38;5;241m=\u001B[39m y\u001B[38;5;241m.\u001B[39mreshape([\u001B[38;5;241m1\u001B[39m, \u001B[38;5;241m6\u001B[39m])\n\u001B[0;32m      2\u001B[0m \u001B[38;5;28mprint\u001B[39m(y)\n\u001B[1;32m----> 3\u001B[0m \u001B[38;5;28mprint\u001B[39m(\u001B[43mx\u001B[49m\u001B[43m \u001B[49m\u001B[38;5;241;43m+\u001B[39;49m\u001B[43m \u001B[49m\u001B[43my\u001B[49m)\n",
      "\u001B[1;31mValueError\u001B[0m: operands could not be broadcast together with shapes (2,3) (1,6) "
     ]
    }
   ]
  },
  {
   "cell_type": "markdown",
   "metadata": {
    "id": "CQxP1WZfpAXV",
    "pycharm": {
     "name": "#%% md\n"
    }
   },
   "source": [
    "NumPy provides many math functions that are fully compatible with NumPy arrays"
   ]
  },
  {
   "cell_type": "code",
   "metadata": {
    "id": "V5tE-72Ix8ta",
    "colab": {
     "base_uri": "https://localhost:8080/"
    },
    "executionInfo": {
     "status": "ok",
     "timestamp": 1693425363885,
     "user_tz": 240,
     "elapsed": 137,
     "user": {
      "displayName": "Joe Burdis",
      "userId": "05388749857082436046"
     }
    },
    "outputId": "2c9f2911-89a8-46c2-f391-83254711f8bc",
    "pycharm": {
     "name": "#%%\n"
    }
   },
   "source": [
    "# Calculate the square-root of 1, 2, ..., 10\n",
    "ary = np.arange(1, 11)\n",
    "print(ary)\n",
    "ary2 = np.sqrt(ary)\n",
    "print(ary2)"
   ],
   "execution_count": 134,
   "outputs": [
    {
     "name": "stdout",
     "output_type": "stream",
     "text": [
      "[ 1  2  3  4  5  6  7  8  9 10]\n",
      "[1.         1.41421356 1.73205081 2.         2.23606798 2.44948974\n",
      " 2.64575131 2.82842712 3.         3.16227766]\n"
     ]
    }
   ]
  },
  {
   "cell_type": "markdown",
   "metadata": {
    "id": "kYl1tLFJRj7Y",
    "pycharm": {
     "name": "#%% md\n"
    }
   },
   "source": [
    "**Concatenating NumPy Arrays**\n",
    "\n",
    "My personal favorite methods are np.hstack() for horizontal concatenation and np.vstack() for vertical concatenation."
   ]
  },
  {
   "cell_type": "code",
   "metadata": {
    "id": "fTUbE29URo-U",
    "colab": {
     "base_uri": "https://localhost:8080/"
    },
    "executionInfo": {
     "status": "ok",
     "timestamp": 1693425366905,
     "user_tz": 240,
     "elapsed": 150,
     "user": {
      "displayName": "Joe Burdis",
      "userId": "05388749857082436046"
     }
    },
    "outputId": "a037f8df-4fcf-4a09-bf62-102f85362d22",
    "pycharm": {
     "name": "#%%\n"
    }
   },
   "source": [
    "arr1 = np.arange(12).reshape([3, 4])\n",
    "print(arr1)"
   ],
   "execution_count": 135,
   "outputs": [
    {
     "name": "stdout",
     "output_type": "stream",
     "text": [
      "[[ 0  1  2  3]\n",
      " [ 4  5  6  7]\n",
      " [ 8  9 10 11]]\n"
     ]
    }
   ]
  },
  {
   "cell_type": "code",
   "metadata": {
    "id": "cJWx2iNARpHU",
    "colab": {
     "base_uri": "https://localhost:8080/"
    },
    "executionInfo": {
     "status": "ok",
     "timestamp": 1693425367800,
     "user_tz": 240,
     "elapsed": 163,
     "user": {
      "displayName": "Joe Burdis",
      "userId": "05388749857082436046"
     }
    },
    "outputId": "7be10838-c487-428b-d030-de2cad5d2127",
    "pycharm": {
     "name": "#%%\n"
    }
   },
   "source": [
    "arr2 = np.arange(10, 90, 10).reshape([2, 4])\n",
    "print(arr2)"
   ],
   "execution_count": 136,
   "outputs": [
    {
     "name": "stdout",
     "output_type": "stream",
     "text": [
      "[[10 20 30 40]\n",
      " [50 60 70 80]]\n"
     ]
    }
   ]
  },
  {
   "cell_type": "code",
   "metadata": {
    "id": "vFZN4NV1RsCv",
    "colab": {
     "base_uri": "https://localhost:8080/"
    },
    "executionInfo": {
     "status": "ok",
     "timestamp": 1693425369553,
     "user_tz": 240,
     "elapsed": 2,
     "user": {
      "displayName": "Joe Burdis",
      "userId": "05388749857082436046"
     }
    },
    "outputId": "b1c727a2-accc-4ded-8859-cf73a18795ac",
    "pycharm": {
     "name": "#%%\n"
    }
   },
   "source": [
    "print(np.vstack([arr1, arr2]))"
   ],
   "execution_count": 137,
   "outputs": [
    {
     "name": "stdout",
     "output_type": "stream",
     "text": [
      "[[ 0  1  2  3]\n",
      " [ 4  5  6  7]\n",
      " [ 8  9 10 11]\n",
      " [10 20 30 40]\n",
      " [50 60 70 80]]\n"
     ]
    }
   ]
  },
  {
   "cell_type": "code",
   "execution_count": 138,
   "outputs": [
    {
     "name": "stdout",
     "output_type": "stream",
     "text": [
      "[100  90  80  70  60  50  40  30  20]\n"
     ]
    }
   ],
   "source": [
    "arr9 = np.arange(100,10,-10)\n",
    "print(arr9)"
   ],
   "metadata": {
    "collapsed": false,
    "pycharm": {
     "name": "#%%\n"
    }
   }
  },
  {
   "cell_type": "code",
   "metadata": {
    "id": "mqnyjNS8Rt15",
    "colab": {
     "base_uri": "https://localhost:8080/"
    },
    "executionInfo": {
     "status": "ok",
     "timestamp": 1693425372561,
     "user_tz": 240,
     "elapsed": 136,
     "user": {
      "displayName": "Joe Burdis",
      "userId": "05388749857082436046"
     }
    },
    "outputId": "f131c410-2ff8-46cd-93c3-3fafd958b8d3",
    "pycharm": {
     "name": "#%%\n"
    }
   },
   "source": [
    "arr3 = np.arange(100, 10, -10).reshape([3, 3])\n",
    "print(arr3)"
   ],
   "execution_count": 139,
   "outputs": [
    {
     "name": "stdout",
     "output_type": "stream",
     "text": [
      "[[100  90  80]\n",
      " [ 70  60  50]\n",
      " [ 40  30  20]]\n"
     ]
    }
   ]
  },
  {
   "cell_type": "code",
   "metadata": {
    "id": "gCzW0z_kRt-M",
    "colab": {
     "base_uri": "https://localhost:8080/"
    },
    "executionInfo": {
     "status": "ok",
     "timestamp": 1693425373528,
     "user_tz": 240,
     "elapsed": 134,
     "user": {
      "displayName": "Joe Burdis",
      "userId": "05388749857082436046"
     }
    },
    "outputId": "2a74b088-c1c2-4a4a-d7be-3f5f0327eedd",
    "pycharm": {
     "name": "#%%\n"
    }
   },
   "source": [
    "print(np.hstack([arr1, arr3]))"
   ],
   "execution_count": 140,
   "outputs": [
    {
     "name": "stdout",
     "output_type": "stream",
     "text": [
      "[[  0   1   2   3 100  90  80]\n",
      " [  4   5   6   7  70  60  50]\n",
      " [  8   9  10  11  40  30  20]]\n"
     ]
    }
   ]
  },
  {
   "cell_type": "code",
   "metadata": {
    "colab": {
     "base_uri": "https://localhost:8080/",
     "height": 235
    },
    "id": "RDydtfbQmI-R",
    "executionInfo": {
     "status": "error",
     "timestamp": 1693425382786,
     "user_tz": 240,
     "elapsed": 153,
     "user": {
      "displayName": "Joe Burdis",
      "userId": "05388749857082436046"
     }
    },
    "outputId": "1c95b96c-cdde-44e0-cf3b-417cf45118d1",
    "pycharm": {
     "name": "#%%\n"
    }
   },
   "source": [
    "np.vstack([arr1, arr3])"
   ],
   "execution_count": 141,
   "outputs": [
    {
     "ename": "ValueError",
     "evalue": "all the input array dimensions for the concatenation axis must match exactly, but along dimension 1, the array at index 0 has size 4 and the array at index 1 has size 3",
     "output_type": "error",
     "traceback": [
      "\u001B[1;31m---------------------------------------------------------------------------\u001B[0m",
      "\u001B[1;31mValueError\u001B[0m                                Traceback (most recent call last)",
      "Input \u001B[1;32mIn [141]\u001B[0m, in \u001B[0;36m<cell line: 1>\u001B[1;34m()\u001B[0m\n\u001B[1;32m----> 1\u001B[0m \u001B[43mnp\u001B[49m\u001B[38;5;241;43m.\u001B[39;49m\u001B[43mvstack\u001B[49m\u001B[43m(\u001B[49m\u001B[43m[\u001B[49m\u001B[43marr1\u001B[49m\u001B[43m,\u001B[49m\u001B[43m \u001B[49m\u001B[43marr3\u001B[49m\u001B[43m]\u001B[49m\u001B[43m)\u001B[49m\n",
      "File \u001B[1;32m<__array_function__ internals>:5\u001B[0m, in \u001B[0;36mvstack\u001B[1;34m(*args, **kwargs)\u001B[0m\n",
      "File \u001B[1;32m~\\anaconda3\\lib\\site-packages\\numpy\\core\\shape_base.py:282\u001B[0m, in \u001B[0;36mvstack\u001B[1;34m(tup)\u001B[0m\n\u001B[0;32m    280\u001B[0m \u001B[38;5;28;01mif\u001B[39;00m \u001B[38;5;129;01mnot\u001B[39;00m \u001B[38;5;28misinstance\u001B[39m(arrs, \u001B[38;5;28mlist\u001B[39m):\n\u001B[0;32m    281\u001B[0m     arrs \u001B[38;5;241m=\u001B[39m [arrs]\n\u001B[1;32m--> 282\u001B[0m \u001B[38;5;28;01mreturn\u001B[39;00m \u001B[43m_nx\u001B[49m\u001B[38;5;241;43m.\u001B[39;49m\u001B[43mconcatenate\u001B[49m\u001B[43m(\u001B[49m\u001B[43marrs\u001B[49m\u001B[43m,\u001B[49m\u001B[43m \u001B[49m\u001B[38;5;241;43m0\u001B[39;49m\u001B[43m)\u001B[49m\n",
      "File \u001B[1;32m<__array_function__ internals>:5\u001B[0m, in \u001B[0;36mconcatenate\u001B[1;34m(*args, **kwargs)\u001B[0m\n",
      "\u001B[1;31mValueError\u001B[0m: all the input array dimensions for the concatenation axis must match exactly, but along dimension 1, the array at index 0 has size 4 and the array at index 1 has size 3"
     ]
    }
   ]
  },
  {
   "cell_type": "markdown",
   "metadata": {
    "id": "HPaof7dupAaZ",
    "pycharm": {
     "name": "#%% md\n"
    }
   },
   "source": [
    "## Pandas Data Frames\n",
    "\n",
    "[Pandas](https://pandas.pydata.org/) is a major tool for data scientists on Python. It contains data structures and data manipulation tools designed to make data cleaning and analysis fast and easy.\n",
    "\n",
    "References:\n",
    "- Chapter 5: Getting Started with Pandas\n",
    "- [Pandas User Guide](https://pandas.pydata.org/docs/user_guide/index.html)\n",
    "- [Pandas Exercises on W3Resources](https://www.w3resource.com/python-exercises/pandas/index.php)"
   ]
  },
  {
   "cell_type": "code",
   "metadata": {
    "id": "MudVJpGcyZP3",
    "executionInfo": {
     "status": "ok",
     "timestamp": 1693425298313,
     "user_tz": 240,
     "elapsed": 160,
     "user": {
      "displayName": "Joe Burdis",
      "userId": "05388749857082436046"
     }
    },
    "pycharm": {
     "name": "#%%\n"
    }
   },
   "source": [
    "import numpy as np\n",
    "import pandas as pd"
   ],
   "execution_count": 142,
   "outputs": []
  },
  {
   "cell_type": "markdown",
   "metadata": {
    "id": "dSCA-gTByZbC",
    "pycharm": {
     "name": "#%% md\n"
    }
   },
   "source": [
    "Pandas provides two data types that extend numpy arrays:\n",
    "- **Data Series**: extending 1D array, used to represent a single feature\n",
    "- **Data Frame**: extending 2D array, used to represent a data table\n",
    "\n",
    "We will focus on data frames today, as most data sets are stored in table format."
   ]
  },
  {
   "cell_type": "code",
   "metadata": {
    "id": "M2EZce7MyZjJ",
    "colab": {
     "base_uri": "https://localhost:8080/",
     "height": 363
    },
    "executionInfo": {
     "status": "ok",
     "timestamp": 1693425440523,
     "user_tz": 240,
     "elapsed": 146,
     "user": {
      "displayName": "Joe Burdis",
      "userId": "05388749857082436046"
     }
    },
    "outputId": "ad8f09c4-d606-40db-b6c3-4a4cd0c43bfc",
    "pycharm": {
     "name": "#%%\n"
    }
   },
   "source": [
    "# Define a DataFrame from scratch\n",
    "df1 = pd.DataFrame(np.random.rand(50, 3),\n",
    "                   columns=['Feature1', 'Feature2', 'Feature3'])\n",
    "df1.head(10) # prints the first several rows"
   ],
   "execution_count": 222,
   "outputs": [
    {
     "data": {
      "text/plain": "   Feature1  Feature2  Feature3\n0  0.308646  0.168617  0.767773\n1  0.568017  0.102459  0.654994\n2  0.081425  0.295277  0.778579\n3  0.320590  0.264895  0.827968\n4  0.781406  0.055178  0.334300\n5  0.462878  0.567390  0.414015\n6  0.231567  0.783477  0.314960\n7  0.375071  0.813547  0.536977\n8  0.527728  0.252353  0.209904\n9  0.248230  0.616519  0.587790",
      "text/html": "<div>\n<style scoped>\n    .dataframe tbody tr th:only-of-type {\n        vertical-align: middle;\n    }\n\n    .dataframe tbody tr th {\n        vertical-align: top;\n    }\n\n    .dataframe thead th {\n        text-align: right;\n    }\n</style>\n<table border=\"1\" class=\"dataframe\">\n  <thead>\n    <tr style=\"text-align: right;\">\n      <th></th>\n      <th>Feature1</th>\n      <th>Feature2</th>\n      <th>Feature3</th>\n    </tr>\n  </thead>\n  <tbody>\n    <tr>\n      <th>0</th>\n      <td>0.308646</td>\n      <td>0.168617</td>\n      <td>0.767773</td>\n    </tr>\n    <tr>\n      <th>1</th>\n      <td>0.568017</td>\n      <td>0.102459</td>\n      <td>0.654994</td>\n    </tr>\n    <tr>\n      <th>2</th>\n      <td>0.081425</td>\n      <td>0.295277</td>\n      <td>0.778579</td>\n    </tr>\n    <tr>\n      <th>3</th>\n      <td>0.320590</td>\n      <td>0.264895</td>\n      <td>0.827968</td>\n    </tr>\n    <tr>\n      <th>4</th>\n      <td>0.781406</td>\n      <td>0.055178</td>\n      <td>0.334300</td>\n    </tr>\n    <tr>\n      <th>5</th>\n      <td>0.462878</td>\n      <td>0.567390</td>\n      <td>0.414015</td>\n    </tr>\n    <tr>\n      <th>6</th>\n      <td>0.231567</td>\n      <td>0.783477</td>\n      <td>0.314960</td>\n    </tr>\n    <tr>\n      <th>7</th>\n      <td>0.375071</td>\n      <td>0.813547</td>\n      <td>0.536977</td>\n    </tr>\n    <tr>\n      <th>8</th>\n      <td>0.527728</td>\n      <td>0.252353</td>\n      <td>0.209904</td>\n    </tr>\n    <tr>\n      <th>9</th>\n      <td>0.248230</td>\n      <td>0.616519</td>\n      <td>0.587790</td>\n    </tr>\n  </tbody>\n</table>\n</div>"
     },
     "execution_count": 222,
     "metadata": {},
     "output_type": "execute_result"
    }
   ]
  },
  {
   "cell_type": "code",
   "metadata": {
    "id": "qzmye7a2yZre",
    "colab": {
     "base_uri": "https://localhost:8080/"
    },
    "executionInfo": {
     "status": "ok",
     "timestamp": 1693425441778,
     "user_tz": 240,
     "elapsed": 4,
     "user": {
      "displayName": "Joe Burdis",
      "userId": "05388749857082436046"
     }
    },
    "outputId": "05f5d9a7-3250-467f-df0d-b8b4be80a9c7",
    "pycharm": {
     "name": "#%%\n"
    }
   },
   "source": [
    "# Print the shape of the data frame\n",
    "print(df1.shape)"
   ],
   "execution_count": 144,
   "outputs": [
    {
     "name": "stdout",
     "output_type": "stream",
     "text": [
      "(50, 3)\n"
     ]
    }
   ]
  },
  {
   "cell_type": "code",
   "metadata": {
    "id": "dPrbjL4myZ03",
    "colab": {
     "base_uri": "https://localhost:8080/"
    },
    "executionInfo": {
     "status": "ok",
     "timestamp": 1693425443537,
     "user_tz": 240,
     "elapsed": 141,
     "user": {
      "displayName": "Joe Burdis",
      "userId": "05388749857082436046"
     }
    },
    "outputId": "32c96028-7e6a-4b62-fdc4-101e3572b4e9",
    "pycharm": {
     "name": "#%%\n"
    }
   },
   "source": [
    "# Row indices\n",
    "# print(df1.index)\n",
    "print(df1.index.values)"
   ],
   "execution_count": 145,
   "outputs": [
    {
     "name": "stdout",
     "output_type": "stream",
     "text": [
      "[ 0  1  2  3  4  5  6  7  8  9 10 11 12 13 14 15 16 17 18 19 20 21 22 23\n",
      " 24 25 26 27 28 29 30 31 32 33 34 35 36 37 38 39 40 41 42 43 44 45 46 47\n",
      " 48 49]\n"
     ]
    }
   ]
  },
  {
   "cell_type": "code",
   "metadata": {
    "id": "-Cyd37JUyZ81",
    "colab": {
     "base_uri": "https://localhost:8080/"
    },
    "executionInfo": {
     "status": "ok",
     "timestamp": 1693425444303,
     "user_tz": 240,
     "elapsed": 137,
     "user": {
      "displayName": "Joe Burdis",
      "userId": "05388749857082436046"
     }
    },
    "outputId": "7ff533a1-4ae4-4b21-d11f-7b0c7f8a0850",
    "pycharm": {
     "name": "#%%\n"
    }
   },
   "source": [
    "# Column indices\n",
    "print(df1.columns.values)"
   ],
   "execution_count": 146,
   "outputs": [
    {
     "name": "stdout",
     "output_type": "stream",
     "text": [
      "['Feature1' 'Feature2' 'Feature3']\n"
     ]
    }
   ]
  },
  {
   "cell_type": "code",
   "metadata": {
    "id": "CgRAqeEEyyx5",
    "colab": {
     "base_uri": "https://localhost:8080/",
     "height": 363
    },
    "executionInfo": {
     "status": "ok",
     "timestamp": 1693425445528,
     "user_tz": 240,
     "elapsed": 5,
     "user": {
      "displayName": "Joe Burdis",
      "userId": "05388749857082436046"
     }
    },
    "outputId": "069b0519-5977-4060-cbb5-c5119d9f3b53",
    "pycharm": {
     "name": "#%%\n"
    }
   },
   "source": [
    "# Access elements using .loc[row_index, col_index]\n",
    "# Ex: Print the Feature1 value on the first row\n",
    "\n",
    "df1.loc[df1['Feature1']>.5, 'Feature1']=1\n",
    "df1.loc[0, 'Feature1']=2\n",
    "df1.head(10)"
   ],
   "execution_count": 225,
   "outputs": [
    {
     "data": {
      "text/plain": "   Feature1  Feature2  Feature3\n0  2.000000  0.168617  0.767773\n1  1.000000  0.102459  0.654994\n2  0.081425  0.295277  0.778579\n3  0.320590  0.264895  0.827968\n4  1.000000  0.055178  0.334300\n5  0.462878  0.567390  0.414015\n6  0.231567  0.783477  0.314960\n7  0.375071  0.813547  0.536977\n8  1.000000  0.252353  0.209904\n9  0.248230  0.616519  0.587790",
      "text/html": "<div>\n<style scoped>\n    .dataframe tbody tr th:only-of-type {\n        vertical-align: middle;\n    }\n\n    .dataframe tbody tr th {\n        vertical-align: top;\n    }\n\n    .dataframe thead th {\n        text-align: right;\n    }\n</style>\n<table border=\"1\" class=\"dataframe\">\n  <thead>\n    <tr style=\"text-align: right;\">\n      <th></th>\n      <th>Feature1</th>\n      <th>Feature2</th>\n      <th>Feature3</th>\n    </tr>\n  </thead>\n  <tbody>\n    <tr>\n      <th>0</th>\n      <td>2.000000</td>\n      <td>0.168617</td>\n      <td>0.767773</td>\n    </tr>\n    <tr>\n      <th>1</th>\n      <td>1.000000</td>\n      <td>0.102459</td>\n      <td>0.654994</td>\n    </tr>\n    <tr>\n      <th>2</th>\n      <td>0.081425</td>\n      <td>0.295277</td>\n      <td>0.778579</td>\n    </tr>\n    <tr>\n      <th>3</th>\n      <td>0.320590</td>\n      <td>0.264895</td>\n      <td>0.827968</td>\n    </tr>\n    <tr>\n      <th>4</th>\n      <td>1.000000</td>\n      <td>0.055178</td>\n      <td>0.334300</td>\n    </tr>\n    <tr>\n      <th>5</th>\n      <td>0.462878</td>\n      <td>0.567390</td>\n      <td>0.414015</td>\n    </tr>\n    <tr>\n      <th>6</th>\n      <td>0.231567</td>\n      <td>0.783477</td>\n      <td>0.314960</td>\n    </tr>\n    <tr>\n      <th>7</th>\n      <td>0.375071</td>\n      <td>0.813547</td>\n      <td>0.536977</td>\n    </tr>\n    <tr>\n      <th>8</th>\n      <td>1.000000</td>\n      <td>0.252353</td>\n      <td>0.209904</td>\n    </tr>\n    <tr>\n      <th>9</th>\n      <td>0.248230</td>\n      <td>0.616519</td>\n      <td>0.587790</td>\n    </tr>\n  </tbody>\n</table>\n</div>"
     },
     "execution_count": 225,
     "metadata": {},
     "output_type": "execute_result"
    }
   ]
  },
  {
   "cell_type": "code",
   "metadata": {
    "id": "YBkoS7rPy0GX",
    "colab": {
     "base_uri": "https://localhost:8080/",
     "height": 143
    },
    "executionInfo": {
     "status": "ok",
     "timestamp": 1693425601582,
     "user_tz": 240,
     "elapsed": 134,
     "user": {
      "displayName": "Joe Burdis",
      "userId": "05388749857082436046"
     }
    },
    "outputId": "6a8debb2-0638-4bac-d4e2-c0b3707553bc",
    "pycharm": {
     "name": "#%%\n"
    }
   },
   "source": [
    "# Index slicing\n",
    "# Ex: Print the Feature2 value for the first 3 rows\n",
    "result = df1.loc[0:2, ['Feature2']] # the end index is actually inclusive\n",
    "result"
   ],
   "execution_count": 226,
   "outputs": [
    {
     "data": {
      "text/plain": "   Feature2\n0  0.168617\n1  0.102459\n2  0.295277",
      "text/html": "<div>\n<style scoped>\n    .dataframe tbody tr th:only-of-type {\n        vertical-align: middle;\n    }\n\n    .dataframe tbody tr th {\n        vertical-align: top;\n    }\n\n    .dataframe thead th {\n        text-align: right;\n    }\n</style>\n<table border=\"1\" class=\"dataframe\">\n  <thead>\n    <tr style=\"text-align: right;\">\n      <th></th>\n      <th>Feature2</th>\n    </tr>\n  </thead>\n  <tbody>\n    <tr>\n      <th>0</th>\n      <td>0.168617</td>\n    </tr>\n    <tr>\n      <th>1</th>\n      <td>0.102459</td>\n    </tr>\n    <tr>\n      <th>2</th>\n      <td>0.295277</td>\n    </tr>\n  </tbody>\n</table>\n</div>"
     },
     "execution_count": 226,
     "metadata": {},
     "output_type": "execute_result"
    }
   ]
  },
  {
   "cell_type": "code",
   "source": [
    "df1.iloc[0:2,0:2]"
   ],
   "metadata": {
    "colab": {
     "base_uri": "https://localhost:8080/",
     "height": 112
    },
    "id": "JWycGe1-DDGa",
    "executionInfo": {
     "status": "ok",
     "timestamp": 1693425451451,
     "user_tz": 240,
     "elapsed": 148,
     "user": {
      "displayName": "Joe Burdis",
      "userId": "05388749857082436046"
     }
    },
    "outputId": "44fbdab6-5d36-4330-ffc0-5d3efd113c64",
    "pycharm": {
     "name": "#%%\n"
    }
   },
   "execution_count": 149,
   "outputs": [
    {
     "data": {
      "text/plain": "   Feature1  Feature2\n0  2.000000  0.829229\n1  0.490342  0.030387",
      "text/html": "<div>\n<style scoped>\n    .dataframe tbody tr th:only-of-type {\n        vertical-align: middle;\n    }\n\n    .dataframe tbody tr th {\n        vertical-align: top;\n    }\n\n    .dataframe thead th {\n        text-align: right;\n    }\n</style>\n<table border=\"1\" class=\"dataframe\">\n  <thead>\n    <tr style=\"text-align: right;\">\n      <th></th>\n      <th>Feature1</th>\n      <th>Feature2</th>\n    </tr>\n  </thead>\n  <tbody>\n    <tr>\n      <th>0</th>\n      <td>2.000000</td>\n      <td>0.829229</td>\n    </tr>\n    <tr>\n      <th>1</th>\n      <td>0.490342</td>\n      <td>0.030387</td>\n    </tr>\n  </tbody>\n</table>\n</div>"
     },
     "execution_count": 149,
     "metadata": {},
     "output_type": "execute_result"
    }
   ]
  },
  {
   "cell_type": "code",
   "metadata": {
    "id": "-jBB7JFiyz4x",
    "colab": {
     "base_uri": "https://localhost:8080/",
     "height": 1000
    },
    "executionInfo": {
     "status": "ok",
     "timestamp": 1662553671539,
     "user_tz": 240,
     "elapsed": 41,
     "user": {
      "displayName": "Joe Burdis",
      "userId": "05388749857082436046"
     }
    },
    "outputId": "29d4bf37-b5c6-456d-91a3-1307e69b9696",
    "pycharm": {
     "name": "#%%\n"
    }
   },
   "source": [
    "# Ex: Use boolean indexing to extract the last 3 rows\n",
    "filter1 = (df1.index >= 2)\n",
    "print(filter1)\n",
    "df1[filter1]"
   ],
   "execution_count": 150,
   "outputs": [
    {
     "name": "stdout",
     "output_type": "stream",
     "text": [
      "[False False  True  True  True  True  True  True  True  True  True  True\n",
      "  True  True  True  True  True  True  True  True  True  True  True  True\n",
      "  True  True  True  True  True  True  True  True  True  True  True  True\n",
      "  True  True  True  True  True  True  True  True  True  True  True  True\n",
      "  True  True]\n"
     ]
    },
    {
     "data": {
      "text/plain": "    Feature1  Feature2  Feature3\n2   1.000000  0.294469  0.581882\n3   1.000000  0.279086  0.126743\n4   0.355196  0.812142  0.673577\n5   1.000000  0.969367  0.145731\n6   0.101685  0.851177  0.239698\n7   0.389531  0.460219  0.005846\n8   0.047275  0.366743  0.407538\n9   1.000000  0.513242  0.492283\n10  0.238620  0.743870  0.956023\n11  0.365538  0.454619  0.156903\n12  0.020071  0.384274  0.894027\n13  1.000000  0.963785  0.669781\n14  0.211595  0.595020  0.975809\n15  0.203366  0.269907  0.660709\n16  1.000000  0.233536  0.145593\n17  0.304665  0.677882  0.910846\n18  1.000000  0.248671  0.926733\n19  1.000000  0.230736  0.511224\n20  1.000000  0.478118  0.428045\n21  0.433366  0.497509  0.605254\n22  0.250600  0.003402  0.377740\n23  0.266236  0.771347  0.220512\n24  0.209572  0.427036  0.305677\n25  1.000000  0.076884  0.620160\n26  0.221339  0.766106  0.299699\n27  1.000000  0.579070  0.740193\n28  0.090898  0.526182  0.556359\n29  0.478663  0.202300  0.615370\n30  1.000000  0.989664  0.413801\n31  0.039383  0.183800  0.286882\n32  1.000000  0.055224  0.146574\n33  0.275095  0.467200  0.865355\n34  1.000000  0.189855  0.646632\n35  0.237692  0.330946  0.977277\n36  1.000000  0.144605  0.663338\n37  1.000000  0.977334  0.167827\n38  0.227539  0.399781  0.538436\n39  1.000000  0.852084  0.135103\n40  0.307679  0.139882  0.762915\n41  1.000000  0.935345  0.914178\n42  1.000000  0.646053  0.451950\n43  1.000000  0.866993  0.186581\n44  1.000000  0.740525  0.710692\n45  1.000000  0.490505  0.565550\n46  0.151679  0.044945  0.151855\n47  0.426144  0.291901  0.340151\n48  1.000000  0.541355  0.833824\n49  1.000000  0.486401  0.754638",
      "text/html": "<div>\n<style scoped>\n    .dataframe tbody tr th:only-of-type {\n        vertical-align: middle;\n    }\n\n    .dataframe tbody tr th {\n        vertical-align: top;\n    }\n\n    .dataframe thead th {\n        text-align: right;\n    }\n</style>\n<table border=\"1\" class=\"dataframe\">\n  <thead>\n    <tr style=\"text-align: right;\">\n      <th></th>\n      <th>Feature1</th>\n      <th>Feature2</th>\n      <th>Feature3</th>\n    </tr>\n  </thead>\n  <tbody>\n    <tr>\n      <th>2</th>\n      <td>1.000000</td>\n      <td>0.294469</td>\n      <td>0.581882</td>\n    </tr>\n    <tr>\n      <th>3</th>\n      <td>1.000000</td>\n      <td>0.279086</td>\n      <td>0.126743</td>\n    </tr>\n    <tr>\n      <th>4</th>\n      <td>0.355196</td>\n      <td>0.812142</td>\n      <td>0.673577</td>\n    </tr>\n    <tr>\n      <th>5</th>\n      <td>1.000000</td>\n      <td>0.969367</td>\n      <td>0.145731</td>\n    </tr>\n    <tr>\n      <th>6</th>\n      <td>0.101685</td>\n      <td>0.851177</td>\n      <td>0.239698</td>\n    </tr>\n    <tr>\n      <th>7</th>\n      <td>0.389531</td>\n      <td>0.460219</td>\n      <td>0.005846</td>\n    </tr>\n    <tr>\n      <th>8</th>\n      <td>0.047275</td>\n      <td>0.366743</td>\n      <td>0.407538</td>\n    </tr>\n    <tr>\n      <th>9</th>\n      <td>1.000000</td>\n      <td>0.513242</td>\n      <td>0.492283</td>\n    </tr>\n    <tr>\n      <th>10</th>\n      <td>0.238620</td>\n      <td>0.743870</td>\n      <td>0.956023</td>\n    </tr>\n    <tr>\n      <th>11</th>\n      <td>0.365538</td>\n      <td>0.454619</td>\n      <td>0.156903</td>\n    </tr>\n    <tr>\n      <th>12</th>\n      <td>0.020071</td>\n      <td>0.384274</td>\n      <td>0.894027</td>\n    </tr>\n    <tr>\n      <th>13</th>\n      <td>1.000000</td>\n      <td>0.963785</td>\n      <td>0.669781</td>\n    </tr>\n    <tr>\n      <th>14</th>\n      <td>0.211595</td>\n      <td>0.595020</td>\n      <td>0.975809</td>\n    </tr>\n    <tr>\n      <th>15</th>\n      <td>0.203366</td>\n      <td>0.269907</td>\n      <td>0.660709</td>\n    </tr>\n    <tr>\n      <th>16</th>\n      <td>1.000000</td>\n      <td>0.233536</td>\n      <td>0.145593</td>\n    </tr>\n    <tr>\n      <th>17</th>\n      <td>0.304665</td>\n      <td>0.677882</td>\n      <td>0.910846</td>\n    </tr>\n    <tr>\n      <th>18</th>\n      <td>1.000000</td>\n      <td>0.248671</td>\n      <td>0.926733</td>\n    </tr>\n    <tr>\n      <th>19</th>\n      <td>1.000000</td>\n      <td>0.230736</td>\n      <td>0.511224</td>\n    </tr>\n    <tr>\n      <th>20</th>\n      <td>1.000000</td>\n      <td>0.478118</td>\n      <td>0.428045</td>\n    </tr>\n    <tr>\n      <th>21</th>\n      <td>0.433366</td>\n      <td>0.497509</td>\n      <td>0.605254</td>\n    </tr>\n    <tr>\n      <th>22</th>\n      <td>0.250600</td>\n      <td>0.003402</td>\n      <td>0.377740</td>\n    </tr>\n    <tr>\n      <th>23</th>\n      <td>0.266236</td>\n      <td>0.771347</td>\n      <td>0.220512</td>\n    </tr>\n    <tr>\n      <th>24</th>\n      <td>0.209572</td>\n      <td>0.427036</td>\n      <td>0.305677</td>\n    </tr>\n    <tr>\n      <th>25</th>\n      <td>1.000000</td>\n      <td>0.076884</td>\n      <td>0.620160</td>\n    </tr>\n    <tr>\n      <th>26</th>\n      <td>0.221339</td>\n      <td>0.766106</td>\n      <td>0.299699</td>\n    </tr>\n    <tr>\n      <th>27</th>\n      <td>1.000000</td>\n      <td>0.579070</td>\n      <td>0.740193</td>\n    </tr>\n    <tr>\n      <th>28</th>\n      <td>0.090898</td>\n      <td>0.526182</td>\n      <td>0.556359</td>\n    </tr>\n    <tr>\n      <th>29</th>\n      <td>0.478663</td>\n      <td>0.202300</td>\n      <td>0.615370</td>\n    </tr>\n    <tr>\n      <th>30</th>\n      <td>1.000000</td>\n      <td>0.989664</td>\n      <td>0.413801</td>\n    </tr>\n    <tr>\n      <th>31</th>\n      <td>0.039383</td>\n      <td>0.183800</td>\n      <td>0.286882</td>\n    </tr>\n    <tr>\n      <th>32</th>\n      <td>1.000000</td>\n      <td>0.055224</td>\n      <td>0.146574</td>\n    </tr>\n    <tr>\n      <th>33</th>\n      <td>0.275095</td>\n      <td>0.467200</td>\n      <td>0.865355</td>\n    </tr>\n    <tr>\n      <th>34</th>\n      <td>1.000000</td>\n      <td>0.189855</td>\n      <td>0.646632</td>\n    </tr>\n    <tr>\n      <th>35</th>\n      <td>0.237692</td>\n      <td>0.330946</td>\n      <td>0.977277</td>\n    </tr>\n    <tr>\n      <th>36</th>\n      <td>1.000000</td>\n      <td>0.144605</td>\n      <td>0.663338</td>\n    </tr>\n    <tr>\n      <th>37</th>\n      <td>1.000000</td>\n      <td>0.977334</td>\n      <td>0.167827</td>\n    </tr>\n    <tr>\n      <th>38</th>\n      <td>0.227539</td>\n      <td>0.399781</td>\n      <td>0.538436</td>\n    </tr>\n    <tr>\n      <th>39</th>\n      <td>1.000000</td>\n      <td>0.852084</td>\n      <td>0.135103</td>\n    </tr>\n    <tr>\n      <th>40</th>\n      <td>0.307679</td>\n      <td>0.139882</td>\n      <td>0.762915</td>\n    </tr>\n    <tr>\n      <th>41</th>\n      <td>1.000000</td>\n      <td>0.935345</td>\n      <td>0.914178</td>\n    </tr>\n    <tr>\n      <th>42</th>\n      <td>1.000000</td>\n      <td>0.646053</td>\n      <td>0.451950</td>\n    </tr>\n    <tr>\n      <th>43</th>\n      <td>1.000000</td>\n      <td>0.866993</td>\n      <td>0.186581</td>\n    </tr>\n    <tr>\n      <th>44</th>\n      <td>1.000000</td>\n      <td>0.740525</td>\n      <td>0.710692</td>\n    </tr>\n    <tr>\n      <th>45</th>\n      <td>1.000000</td>\n      <td>0.490505</td>\n      <td>0.565550</td>\n    </tr>\n    <tr>\n      <th>46</th>\n      <td>0.151679</td>\n      <td>0.044945</td>\n      <td>0.151855</td>\n    </tr>\n    <tr>\n      <th>47</th>\n      <td>0.426144</td>\n      <td>0.291901</td>\n      <td>0.340151</td>\n    </tr>\n    <tr>\n      <th>48</th>\n      <td>1.000000</td>\n      <td>0.541355</td>\n      <td>0.833824</td>\n    </tr>\n    <tr>\n      <th>49</th>\n      <td>1.000000</td>\n      <td>0.486401</td>\n      <td>0.754638</td>\n    </tr>\n  </tbody>\n</table>\n</div>"
     },
     "execution_count": 150,
     "metadata": {},
     "output_type": "execute_result"
    }
   ]
  },
  {
   "cell_type": "code",
   "metadata": {
    "colab": {
     "base_uri": "https://localhost:8080/",
     "height": 1000
    },
    "id": "GsBvlx36n5jF",
    "executionInfo": {
     "status": "ok",
     "timestamp": 1662553671539,
     "user_tz": 240,
     "elapsed": 36,
     "user": {
      "displayName": "Joe Burdis",
      "userId": "05388749857082436046"
     }
    },
    "outputId": "05cc4227-0fc0-467d-a303-2dd7b0030917",
    "pycharm": {
     "name": "#%%\n"
    }
   },
   "source": [
    "df1[df1.index >= 2]"
   ],
   "execution_count": 151,
   "outputs": [
    {
     "data": {
      "text/plain": "    Feature1  Feature2  Feature3\n2   1.000000  0.294469  0.581882\n3   1.000000  0.279086  0.126743\n4   0.355196  0.812142  0.673577\n5   1.000000  0.969367  0.145731\n6   0.101685  0.851177  0.239698\n7   0.389531  0.460219  0.005846\n8   0.047275  0.366743  0.407538\n9   1.000000  0.513242  0.492283\n10  0.238620  0.743870  0.956023\n11  0.365538  0.454619  0.156903\n12  0.020071  0.384274  0.894027\n13  1.000000  0.963785  0.669781\n14  0.211595  0.595020  0.975809\n15  0.203366  0.269907  0.660709\n16  1.000000  0.233536  0.145593\n17  0.304665  0.677882  0.910846\n18  1.000000  0.248671  0.926733\n19  1.000000  0.230736  0.511224\n20  1.000000  0.478118  0.428045\n21  0.433366  0.497509  0.605254\n22  0.250600  0.003402  0.377740\n23  0.266236  0.771347  0.220512\n24  0.209572  0.427036  0.305677\n25  1.000000  0.076884  0.620160\n26  0.221339  0.766106  0.299699\n27  1.000000  0.579070  0.740193\n28  0.090898  0.526182  0.556359\n29  0.478663  0.202300  0.615370\n30  1.000000  0.989664  0.413801\n31  0.039383  0.183800  0.286882\n32  1.000000  0.055224  0.146574\n33  0.275095  0.467200  0.865355\n34  1.000000  0.189855  0.646632\n35  0.237692  0.330946  0.977277\n36  1.000000  0.144605  0.663338\n37  1.000000  0.977334  0.167827\n38  0.227539  0.399781  0.538436\n39  1.000000  0.852084  0.135103\n40  0.307679  0.139882  0.762915\n41  1.000000  0.935345  0.914178\n42  1.000000  0.646053  0.451950\n43  1.000000  0.866993  0.186581\n44  1.000000  0.740525  0.710692\n45  1.000000  0.490505  0.565550\n46  0.151679  0.044945  0.151855\n47  0.426144  0.291901  0.340151\n48  1.000000  0.541355  0.833824\n49  1.000000  0.486401  0.754638",
      "text/html": "<div>\n<style scoped>\n    .dataframe tbody tr th:only-of-type {\n        vertical-align: middle;\n    }\n\n    .dataframe tbody tr th {\n        vertical-align: top;\n    }\n\n    .dataframe thead th {\n        text-align: right;\n    }\n</style>\n<table border=\"1\" class=\"dataframe\">\n  <thead>\n    <tr style=\"text-align: right;\">\n      <th></th>\n      <th>Feature1</th>\n      <th>Feature2</th>\n      <th>Feature3</th>\n    </tr>\n  </thead>\n  <tbody>\n    <tr>\n      <th>2</th>\n      <td>1.000000</td>\n      <td>0.294469</td>\n      <td>0.581882</td>\n    </tr>\n    <tr>\n      <th>3</th>\n      <td>1.000000</td>\n      <td>0.279086</td>\n      <td>0.126743</td>\n    </tr>\n    <tr>\n      <th>4</th>\n      <td>0.355196</td>\n      <td>0.812142</td>\n      <td>0.673577</td>\n    </tr>\n    <tr>\n      <th>5</th>\n      <td>1.000000</td>\n      <td>0.969367</td>\n      <td>0.145731</td>\n    </tr>\n    <tr>\n      <th>6</th>\n      <td>0.101685</td>\n      <td>0.851177</td>\n      <td>0.239698</td>\n    </tr>\n    <tr>\n      <th>7</th>\n      <td>0.389531</td>\n      <td>0.460219</td>\n      <td>0.005846</td>\n    </tr>\n    <tr>\n      <th>8</th>\n      <td>0.047275</td>\n      <td>0.366743</td>\n      <td>0.407538</td>\n    </tr>\n    <tr>\n      <th>9</th>\n      <td>1.000000</td>\n      <td>0.513242</td>\n      <td>0.492283</td>\n    </tr>\n    <tr>\n      <th>10</th>\n      <td>0.238620</td>\n      <td>0.743870</td>\n      <td>0.956023</td>\n    </tr>\n    <tr>\n      <th>11</th>\n      <td>0.365538</td>\n      <td>0.454619</td>\n      <td>0.156903</td>\n    </tr>\n    <tr>\n      <th>12</th>\n      <td>0.020071</td>\n      <td>0.384274</td>\n      <td>0.894027</td>\n    </tr>\n    <tr>\n      <th>13</th>\n      <td>1.000000</td>\n      <td>0.963785</td>\n      <td>0.669781</td>\n    </tr>\n    <tr>\n      <th>14</th>\n      <td>0.211595</td>\n      <td>0.595020</td>\n      <td>0.975809</td>\n    </tr>\n    <tr>\n      <th>15</th>\n      <td>0.203366</td>\n      <td>0.269907</td>\n      <td>0.660709</td>\n    </tr>\n    <tr>\n      <th>16</th>\n      <td>1.000000</td>\n      <td>0.233536</td>\n      <td>0.145593</td>\n    </tr>\n    <tr>\n      <th>17</th>\n      <td>0.304665</td>\n      <td>0.677882</td>\n      <td>0.910846</td>\n    </tr>\n    <tr>\n      <th>18</th>\n      <td>1.000000</td>\n      <td>0.248671</td>\n      <td>0.926733</td>\n    </tr>\n    <tr>\n      <th>19</th>\n      <td>1.000000</td>\n      <td>0.230736</td>\n      <td>0.511224</td>\n    </tr>\n    <tr>\n      <th>20</th>\n      <td>1.000000</td>\n      <td>0.478118</td>\n      <td>0.428045</td>\n    </tr>\n    <tr>\n      <th>21</th>\n      <td>0.433366</td>\n      <td>0.497509</td>\n      <td>0.605254</td>\n    </tr>\n    <tr>\n      <th>22</th>\n      <td>0.250600</td>\n      <td>0.003402</td>\n      <td>0.377740</td>\n    </tr>\n    <tr>\n      <th>23</th>\n      <td>0.266236</td>\n      <td>0.771347</td>\n      <td>0.220512</td>\n    </tr>\n    <tr>\n      <th>24</th>\n      <td>0.209572</td>\n      <td>0.427036</td>\n      <td>0.305677</td>\n    </tr>\n    <tr>\n      <th>25</th>\n      <td>1.000000</td>\n      <td>0.076884</td>\n      <td>0.620160</td>\n    </tr>\n    <tr>\n      <th>26</th>\n      <td>0.221339</td>\n      <td>0.766106</td>\n      <td>0.299699</td>\n    </tr>\n    <tr>\n      <th>27</th>\n      <td>1.000000</td>\n      <td>0.579070</td>\n      <td>0.740193</td>\n    </tr>\n    <tr>\n      <th>28</th>\n      <td>0.090898</td>\n      <td>0.526182</td>\n      <td>0.556359</td>\n    </tr>\n    <tr>\n      <th>29</th>\n      <td>0.478663</td>\n      <td>0.202300</td>\n      <td>0.615370</td>\n    </tr>\n    <tr>\n      <th>30</th>\n      <td>1.000000</td>\n      <td>0.989664</td>\n      <td>0.413801</td>\n    </tr>\n    <tr>\n      <th>31</th>\n      <td>0.039383</td>\n      <td>0.183800</td>\n      <td>0.286882</td>\n    </tr>\n    <tr>\n      <th>32</th>\n      <td>1.000000</td>\n      <td>0.055224</td>\n      <td>0.146574</td>\n    </tr>\n    <tr>\n      <th>33</th>\n      <td>0.275095</td>\n      <td>0.467200</td>\n      <td>0.865355</td>\n    </tr>\n    <tr>\n      <th>34</th>\n      <td>1.000000</td>\n      <td>0.189855</td>\n      <td>0.646632</td>\n    </tr>\n    <tr>\n      <th>35</th>\n      <td>0.237692</td>\n      <td>0.330946</td>\n      <td>0.977277</td>\n    </tr>\n    <tr>\n      <th>36</th>\n      <td>1.000000</td>\n      <td>0.144605</td>\n      <td>0.663338</td>\n    </tr>\n    <tr>\n      <th>37</th>\n      <td>1.000000</td>\n      <td>0.977334</td>\n      <td>0.167827</td>\n    </tr>\n    <tr>\n      <th>38</th>\n      <td>0.227539</td>\n      <td>0.399781</td>\n      <td>0.538436</td>\n    </tr>\n    <tr>\n      <th>39</th>\n      <td>1.000000</td>\n      <td>0.852084</td>\n      <td>0.135103</td>\n    </tr>\n    <tr>\n      <th>40</th>\n      <td>0.307679</td>\n      <td>0.139882</td>\n      <td>0.762915</td>\n    </tr>\n    <tr>\n      <th>41</th>\n      <td>1.000000</td>\n      <td>0.935345</td>\n      <td>0.914178</td>\n    </tr>\n    <tr>\n      <th>42</th>\n      <td>1.000000</td>\n      <td>0.646053</td>\n      <td>0.451950</td>\n    </tr>\n    <tr>\n      <th>43</th>\n      <td>1.000000</td>\n      <td>0.866993</td>\n      <td>0.186581</td>\n    </tr>\n    <tr>\n      <th>44</th>\n      <td>1.000000</td>\n      <td>0.740525</td>\n      <td>0.710692</td>\n    </tr>\n    <tr>\n      <th>45</th>\n      <td>1.000000</td>\n      <td>0.490505</td>\n      <td>0.565550</td>\n    </tr>\n    <tr>\n      <th>46</th>\n      <td>0.151679</td>\n      <td>0.044945</td>\n      <td>0.151855</td>\n    </tr>\n    <tr>\n      <th>47</th>\n      <td>0.426144</td>\n      <td>0.291901</td>\n      <td>0.340151</td>\n    </tr>\n    <tr>\n      <th>48</th>\n      <td>1.000000</td>\n      <td>0.541355</td>\n      <td>0.833824</td>\n    </tr>\n    <tr>\n      <th>49</th>\n      <td>1.000000</td>\n      <td>0.486401</td>\n      <td>0.754638</td>\n    </tr>\n  </tbody>\n</table>\n</div>"
     },
     "execution_count": 151,
     "metadata": {},
     "output_type": "execute_result"
    }
   ]
  },
  {
   "cell_type": "code",
   "metadata": {
    "colab": {
     "base_uri": "https://localhost:8080/",
     "height": 143
    },
    "id": "ue9xGKaZS3_v",
    "executionInfo": {
     "status": "ok",
     "timestamp": 1662553671540,
     "user_tz": 240,
     "elapsed": 37,
     "user": {
      "displayName": "Joe Burdis",
      "userId": "05388749857082436046"
     }
    },
    "outputId": "8d9f0b6a-9a4a-47a1-da89-214ca7454f49",
    "pycharm": {
     "name": "#%%\n"
    }
   },
   "source": [
    "# Use bitwise logical operator to combine conditions\n",
    "# bitwise operators: & (and), | (or), ~ (not)\n",
    "df1[(df1.index >= 2) & (df1.index <=4)]"
   ],
   "execution_count": 152,
   "outputs": [
    {
     "data": {
      "text/plain": "   Feature1  Feature2  Feature3\n2  1.000000  0.294469  0.581882\n3  1.000000  0.279086  0.126743\n4  0.355196  0.812142  0.673577",
      "text/html": "<div>\n<style scoped>\n    .dataframe tbody tr th:only-of-type {\n        vertical-align: middle;\n    }\n\n    .dataframe tbody tr th {\n        vertical-align: top;\n    }\n\n    .dataframe thead th {\n        text-align: right;\n    }\n</style>\n<table border=\"1\" class=\"dataframe\">\n  <thead>\n    <tr style=\"text-align: right;\">\n      <th></th>\n      <th>Feature1</th>\n      <th>Feature2</th>\n      <th>Feature3</th>\n    </tr>\n  </thead>\n  <tbody>\n    <tr>\n      <th>2</th>\n      <td>1.000000</td>\n      <td>0.294469</td>\n      <td>0.581882</td>\n    </tr>\n    <tr>\n      <th>3</th>\n      <td>1.000000</td>\n      <td>0.279086</td>\n      <td>0.126743</td>\n    </tr>\n    <tr>\n      <th>4</th>\n      <td>0.355196</td>\n      <td>0.812142</td>\n      <td>0.673577</td>\n    </tr>\n  </tbody>\n</table>\n</div>"
     },
     "execution_count": 152,
     "metadata": {},
     "output_type": "execute_result"
    }
   ]
  },
  {
   "cell_type": "markdown",
   "metadata": {
    "id": "A3LqZBuzpAe9",
    "pycharm": {
     "name": "#%% md\n"
    }
   },
   "source": [
    "### Basic Table Operations\n",
    "- Change a value\n",
    "- Add a new row\n",
    "- Add a new column\n",
    "- Remove a row\n",
    "- Remove a column"
   ]
  },
  {
   "cell_type": "code",
   "metadata": {
    "id": "z0qY_KZBzK1L",
    "colab": {
     "base_uri": "https://localhost:8080/",
     "height": 175
    },
    "executionInfo": {
     "status": "ok",
     "timestamp": 1662553671540,
     "user_tz": 240,
     "elapsed": 36,
     "user": {
      "displayName": "Joe Burdis",
      "userId": "05388749857082436046"
     }
    },
    "outputId": "dd95839b-0f4a-408b-8323-6c911814d926",
    "pycharm": {
     "name": "#%%\n"
    }
   },
   "source": [
    "# Example:\n",
    "data = [[60, 70, 80],\n",
    "        [66, 88, 77],\n",
    "        [100, 60, 30],\n",
    "        [85, 87, 83]]\n",
    "scores = pd.DataFrame(data,\n",
    "                      index=['Alice', 'Bob', 'Chris', 'David'],\n",
    "                      columns=['Quiz1', 'Quiz2', 'Final'])\n",
    "scores"
   ],
   "execution_count": 153,
   "outputs": [
    {
     "data": {
      "text/plain": "       Quiz1  Quiz2  Final\nAlice     60     70     80\nBob       66     88     77\nChris    100     60     30\nDavid     85     87     83",
      "text/html": "<div>\n<style scoped>\n    .dataframe tbody tr th:only-of-type {\n        vertical-align: middle;\n    }\n\n    .dataframe tbody tr th {\n        vertical-align: top;\n    }\n\n    .dataframe thead th {\n        text-align: right;\n    }\n</style>\n<table border=\"1\" class=\"dataframe\">\n  <thead>\n    <tr style=\"text-align: right;\">\n      <th></th>\n      <th>Quiz1</th>\n      <th>Quiz2</th>\n      <th>Final</th>\n    </tr>\n  </thead>\n  <tbody>\n    <tr>\n      <th>Alice</th>\n      <td>60</td>\n      <td>70</td>\n      <td>80</td>\n    </tr>\n    <tr>\n      <th>Bob</th>\n      <td>66</td>\n      <td>88</td>\n      <td>77</td>\n    </tr>\n    <tr>\n      <th>Chris</th>\n      <td>100</td>\n      <td>60</td>\n      <td>30</td>\n    </tr>\n    <tr>\n      <th>David</th>\n      <td>85</td>\n      <td>87</td>\n      <td>83</td>\n    </tr>\n  </tbody>\n</table>\n</div>"
     },
     "execution_count": 153,
     "metadata": {},
     "output_type": "execute_result"
    }
   ]
  },
  {
   "cell_type": "code",
   "metadata": {
    "id": "D1CjCu97zOsu",
    "colab": {
     "base_uri": "https://localhost:8080/",
     "height": 175
    },
    "executionInfo": {
     "status": "ok",
     "timestamp": 1662553671541,
     "user_tz": 240,
     "elapsed": 36,
     "user": {
      "displayName": "Joe Burdis",
      "userId": "05388749857082436046"
     }
    },
    "outputId": "12993c86-cd6f-4d36-a92a-42a91d64f967",
    "pycharm": {
     "name": "#%%\n"
    }
   },
   "source": [
    "# Change Alice's final score to 90.\n",
    "\n",
    "scores.loc[\"Alice\", \"Final\"] = 90\n",
    "scores"
   ],
   "execution_count": 154,
   "outputs": [
    {
     "data": {
      "text/plain": "       Quiz1  Quiz2  Final\nAlice     60     70     90\nBob       66     88     77\nChris    100     60     30\nDavid     85     87     83",
      "text/html": "<div>\n<style scoped>\n    .dataframe tbody tr th:only-of-type {\n        vertical-align: middle;\n    }\n\n    .dataframe tbody tr th {\n        vertical-align: top;\n    }\n\n    .dataframe thead th {\n        text-align: right;\n    }\n</style>\n<table border=\"1\" class=\"dataframe\">\n  <thead>\n    <tr style=\"text-align: right;\">\n      <th></th>\n      <th>Quiz1</th>\n      <th>Quiz2</th>\n      <th>Final</th>\n    </tr>\n  </thead>\n  <tbody>\n    <tr>\n      <th>Alice</th>\n      <td>60</td>\n      <td>70</td>\n      <td>90</td>\n    </tr>\n    <tr>\n      <th>Bob</th>\n      <td>66</td>\n      <td>88</td>\n      <td>77</td>\n    </tr>\n    <tr>\n      <th>Chris</th>\n      <td>100</td>\n      <td>60</td>\n      <td>30</td>\n    </tr>\n    <tr>\n      <th>David</th>\n      <td>85</td>\n      <td>87</td>\n      <td>83</td>\n    </tr>\n  </tbody>\n</table>\n</div>"
     },
     "execution_count": 154,
     "metadata": {},
     "output_type": "execute_result"
    }
   ]
  },
  {
   "cell_type": "code",
   "metadata": {
    "id": "Iv3U65V6zO16",
    "colab": {
     "base_uri": "https://localhost:8080/",
     "height": 206
    },
    "executionInfo": {
     "status": "ok",
     "timestamp": 1662553671541,
     "user_tz": 240,
     "elapsed": 35,
     "user": {
      "displayName": "Joe Burdis",
      "userId": "05388749857082436046"
     }
    },
    "outputId": "149482c1-114e-48df-b115-f658f6c39def",
    "pycharm": {
     "name": "#%%\n"
    }
   },
   "source": [
    "# Add a new row: \"Edward\": [77, 88, 99]\n",
    "scores.loc['Edward', :] = [77, 88, 99]\n",
    "scores"
   ],
   "execution_count": 155,
   "outputs": [
    {
     "data": {
      "text/plain": "        Quiz1  Quiz2  Final\nAlice    60.0   70.0   90.0\nBob      66.0   88.0   77.0\nChris   100.0   60.0   30.0\nDavid    85.0   87.0   83.0\nEdward   77.0   88.0   99.0",
      "text/html": "<div>\n<style scoped>\n    .dataframe tbody tr th:only-of-type {\n        vertical-align: middle;\n    }\n\n    .dataframe tbody tr th {\n        vertical-align: top;\n    }\n\n    .dataframe thead th {\n        text-align: right;\n    }\n</style>\n<table border=\"1\" class=\"dataframe\">\n  <thead>\n    <tr style=\"text-align: right;\">\n      <th></th>\n      <th>Quiz1</th>\n      <th>Quiz2</th>\n      <th>Final</th>\n    </tr>\n  </thead>\n  <tbody>\n    <tr>\n      <th>Alice</th>\n      <td>60.0</td>\n      <td>70.0</td>\n      <td>90.0</td>\n    </tr>\n    <tr>\n      <th>Bob</th>\n      <td>66.0</td>\n      <td>88.0</td>\n      <td>77.0</td>\n    </tr>\n    <tr>\n      <th>Chris</th>\n      <td>100.0</td>\n      <td>60.0</td>\n      <td>30.0</td>\n    </tr>\n    <tr>\n      <th>David</th>\n      <td>85.0</td>\n      <td>87.0</td>\n      <td>83.0</td>\n    </tr>\n    <tr>\n      <th>Edward</th>\n      <td>77.0</td>\n      <td>88.0</td>\n      <td>99.0</td>\n    </tr>\n  </tbody>\n</table>\n</div>"
     },
     "execution_count": 155,
     "metadata": {},
     "output_type": "execute_result"
    }
   ]
  },
  {
   "cell_type": "code",
   "metadata": {
    "id": "_bBfV6SrzO-F",
    "colab": {
     "base_uri": "https://localhost:8080/",
     "height": 321
    },
    "executionInfo": {
     "status": "ok",
     "timestamp": 1662553671542,
     "user_tz": 240,
     "elapsed": 36,
     "user": {
      "displayName": "Joe Burdis",
      "userId": "05388749857082436046"
     }
    },
    "outputId": "72ba044a-dfd0-4019-927a-74b446e09e0c",
    "pycharm": {
     "name": "#%%\n"
    }
   },
   "source": [
    "# Append a new data frame\n",
    "more_scores = pd.DataFrame(data={'Quiz1': [67, 76],\n",
    "                                 'Quiz2': [78, 87],\n",
    "                                 'Final': [89, 98]},\n",
    "                           index=['Flora', 'Gabriel']) # Represent data as a dictionary\n",
    "print(more_scores)\n",
    "total_scores = scores.append(more_scores) # append() creates a new data frame\n",
    "total_scores"
   ],
   "execution_count": 156,
   "outputs": [
    {
     "name": "stdout",
     "output_type": "stream",
     "text": [
      "         Quiz1  Quiz2  Final\n",
      "Flora       67     78     89\n",
      "Gabriel     76     87     98\n"
     ]
    },
    {
     "name": "stderr",
     "output_type": "stream",
     "text": [
      "C:\\Users\\rmcne\\AppData\\Local\\Temp\\ipykernel_26476\\4187705470.py:7: FutureWarning: The frame.append method is deprecated and will be removed from pandas in a future version. Use pandas.concat instead.\n",
      "  total_scores = scores.append(more_scores) # append() creates a new data frame\n"
     ]
    },
    {
     "data": {
      "text/plain": "         Quiz1  Quiz2  Final\nAlice     60.0   70.0   90.0\nBob       66.0   88.0   77.0\nChris    100.0   60.0   30.0\nDavid     85.0   87.0   83.0\nEdward    77.0   88.0   99.0\nFlora     67.0   78.0   89.0\nGabriel   76.0   87.0   98.0",
      "text/html": "<div>\n<style scoped>\n    .dataframe tbody tr th:only-of-type {\n        vertical-align: middle;\n    }\n\n    .dataframe tbody tr th {\n        vertical-align: top;\n    }\n\n    .dataframe thead th {\n        text-align: right;\n    }\n</style>\n<table border=\"1\" class=\"dataframe\">\n  <thead>\n    <tr style=\"text-align: right;\">\n      <th></th>\n      <th>Quiz1</th>\n      <th>Quiz2</th>\n      <th>Final</th>\n    </tr>\n  </thead>\n  <tbody>\n    <tr>\n      <th>Alice</th>\n      <td>60.0</td>\n      <td>70.0</td>\n      <td>90.0</td>\n    </tr>\n    <tr>\n      <th>Bob</th>\n      <td>66.0</td>\n      <td>88.0</td>\n      <td>77.0</td>\n    </tr>\n    <tr>\n      <th>Chris</th>\n      <td>100.0</td>\n      <td>60.0</td>\n      <td>30.0</td>\n    </tr>\n    <tr>\n      <th>David</th>\n      <td>85.0</td>\n      <td>87.0</td>\n      <td>83.0</td>\n    </tr>\n    <tr>\n      <th>Edward</th>\n      <td>77.0</td>\n      <td>88.0</td>\n      <td>99.0</td>\n    </tr>\n    <tr>\n      <th>Flora</th>\n      <td>67.0</td>\n      <td>78.0</td>\n      <td>89.0</td>\n    </tr>\n    <tr>\n      <th>Gabriel</th>\n      <td>76.0</td>\n      <td>87.0</td>\n      <td>98.0</td>\n    </tr>\n  </tbody>\n</table>\n</div>"
     },
     "execution_count": 156,
     "metadata": {},
     "output_type": "execute_result"
    }
   ]
  },
  {
   "cell_type": "code",
   "metadata": {
    "id": "UnL5eAnIzPFr",
    "colab": {
     "base_uri": "https://localhost:8080/",
     "height": 206
    },
    "executionInfo": {
     "status": "ok",
     "timestamp": 1662553671542,
     "user_tz": 240,
     "elapsed": 31,
     "user": {
      "displayName": "Joe Burdis",
      "userId": "05388749857082436046"
     }
    },
    "outputId": "0e1dddd7-9ad8-447f-bcc4-84a12c0dc4fe",
    "pycharm": {
     "name": "#%%\n"
    }
   },
   "source": [
    "# Add a column \"ExtraCredit\"\n",
    "\n",
    "scores['ExtraCredit'] = [1, 2, 3, 4, 5] # the length must match with other columns\n",
    "scores"
   ],
   "execution_count": 157,
   "outputs": [
    {
     "data": {
      "text/plain": "        Quiz1  Quiz2  Final  ExtraCredit\nAlice    60.0   70.0   90.0            1\nBob      66.0   88.0   77.0            2\nChris   100.0   60.0   30.0            3\nDavid    85.0   87.0   83.0            4\nEdward   77.0   88.0   99.0            5",
      "text/html": "<div>\n<style scoped>\n    .dataframe tbody tr th:only-of-type {\n        vertical-align: middle;\n    }\n\n    .dataframe tbody tr th {\n        vertical-align: top;\n    }\n\n    .dataframe thead th {\n        text-align: right;\n    }\n</style>\n<table border=\"1\" class=\"dataframe\">\n  <thead>\n    <tr style=\"text-align: right;\">\n      <th></th>\n      <th>Quiz1</th>\n      <th>Quiz2</th>\n      <th>Final</th>\n      <th>ExtraCredit</th>\n    </tr>\n  </thead>\n  <tbody>\n    <tr>\n      <th>Alice</th>\n      <td>60.0</td>\n      <td>70.0</td>\n      <td>90.0</td>\n      <td>1</td>\n    </tr>\n    <tr>\n      <th>Bob</th>\n      <td>66.0</td>\n      <td>88.0</td>\n      <td>77.0</td>\n      <td>2</td>\n    </tr>\n    <tr>\n      <th>Chris</th>\n      <td>100.0</td>\n      <td>60.0</td>\n      <td>30.0</td>\n      <td>3</td>\n    </tr>\n    <tr>\n      <th>David</th>\n      <td>85.0</td>\n      <td>87.0</td>\n      <td>83.0</td>\n      <td>4</td>\n    </tr>\n    <tr>\n      <th>Edward</th>\n      <td>77.0</td>\n      <td>88.0</td>\n      <td>99.0</td>\n      <td>5</td>\n    </tr>\n  </tbody>\n</table>\n</div>"
     },
     "execution_count": 157,
     "metadata": {},
     "output_type": "execute_result"
    }
   ]
  },
  {
   "cell_type": "code",
   "source": [],
   "metadata": {
    "id": "2d5ZcXomEU5t",
    "pycharm": {
     "name": "#%%\n"
    }
   },
   "execution_count": 157,
   "outputs": []
  },
  {
   "cell_type": "code",
   "metadata": {
    "id": "7wm74JkOzh--",
    "colab": {
     "base_uri": "https://localhost:8080/",
     "height": 175
    },
    "executionInfo": {
     "status": "ok",
     "timestamp": 1662553671543,
     "user_tz": 240,
     "elapsed": 31,
     "user": {
      "displayName": "Joe Burdis",
      "userId": "05388749857082436046"
     }
    },
    "outputId": "26d1becb-cc21-4220-a49d-0d7b495aadce",
    "pycharm": {
     "name": "#%%\n"
    }
   },
   "source": [
    "# Remove the record of Chris\n",
    "\n",
    "scores.drop('Chris', inplace=True)\n",
    "scores"
   ],
   "execution_count": 158,
   "outputs": [
    {
     "data": {
      "text/plain": "        Quiz1  Quiz2  Final  ExtraCredit\nAlice    60.0   70.0   90.0            1\nBob      66.0   88.0   77.0            2\nDavid    85.0   87.0   83.0            4\nEdward   77.0   88.0   99.0            5",
      "text/html": "<div>\n<style scoped>\n    .dataframe tbody tr th:only-of-type {\n        vertical-align: middle;\n    }\n\n    .dataframe tbody tr th {\n        vertical-align: top;\n    }\n\n    .dataframe thead th {\n        text-align: right;\n    }\n</style>\n<table border=\"1\" class=\"dataframe\">\n  <thead>\n    <tr style=\"text-align: right;\">\n      <th></th>\n      <th>Quiz1</th>\n      <th>Quiz2</th>\n      <th>Final</th>\n      <th>ExtraCredit</th>\n    </tr>\n  </thead>\n  <tbody>\n    <tr>\n      <th>Alice</th>\n      <td>60.0</td>\n      <td>70.0</td>\n      <td>90.0</td>\n      <td>1</td>\n    </tr>\n    <tr>\n      <th>Bob</th>\n      <td>66.0</td>\n      <td>88.0</td>\n      <td>77.0</td>\n      <td>2</td>\n    </tr>\n    <tr>\n      <th>David</th>\n      <td>85.0</td>\n      <td>87.0</td>\n      <td>83.0</td>\n      <td>4</td>\n    </tr>\n    <tr>\n      <th>Edward</th>\n      <td>77.0</td>\n      <td>88.0</td>\n      <td>99.0</td>\n      <td>5</td>\n    </tr>\n  </tbody>\n</table>\n</div>"
     },
     "execution_count": 158,
     "metadata": {},
     "output_type": "execute_result"
    }
   ]
  },
  {
   "cell_type": "code",
   "metadata": {
    "id": "KrOCa8BBzjQf",
    "colab": {
     "base_uri": "https://localhost:8080/",
     "height": 175
    },
    "executionInfo": {
     "status": "ok",
     "timestamp": 1662553671544,
     "user_tz": 240,
     "elapsed": 31,
     "user": {
      "displayName": "Joe Burdis",
      "userId": "05388749857082436046"
     }
    },
    "outputId": "a9445ad7-f7c2-4868-a53e-a45f8bdc1fc5",
    "pycharm": {
     "name": "#%%\n"
    }
   },
   "source": [
    "# Remove column \"ExtraCredit\"\n",
    "\n",
    "scores.drop('ExtraCredit', axis=1, inplace=True)\n",
    "scores"
   ],
   "execution_count": 159,
   "outputs": [
    {
     "data": {
      "text/plain": "        Quiz1  Quiz2  Final\nAlice    60.0   70.0   90.0\nBob      66.0   88.0   77.0\nDavid    85.0   87.0   83.0\nEdward   77.0   88.0   99.0",
      "text/html": "<div>\n<style scoped>\n    .dataframe tbody tr th:only-of-type {\n        vertical-align: middle;\n    }\n\n    .dataframe tbody tr th {\n        vertical-align: top;\n    }\n\n    .dataframe thead th {\n        text-align: right;\n    }\n</style>\n<table border=\"1\" class=\"dataframe\">\n  <thead>\n    <tr style=\"text-align: right;\">\n      <th></th>\n      <th>Quiz1</th>\n      <th>Quiz2</th>\n      <th>Final</th>\n    </tr>\n  </thead>\n  <tbody>\n    <tr>\n      <th>Alice</th>\n      <td>60.0</td>\n      <td>70.0</td>\n      <td>90.0</td>\n    </tr>\n    <tr>\n      <th>Bob</th>\n      <td>66.0</td>\n      <td>88.0</td>\n      <td>77.0</td>\n    </tr>\n    <tr>\n      <th>David</th>\n      <td>85.0</td>\n      <td>87.0</td>\n      <td>83.0</td>\n    </tr>\n    <tr>\n      <th>Edward</th>\n      <td>77.0</td>\n      <td>88.0</td>\n      <td>99.0</td>\n    </tr>\n  </tbody>\n</table>\n</div>"
     },
     "execution_count": 159,
     "metadata": {},
     "output_type": "execute_result"
    }
   ]
  },
  {
   "cell_type": "code",
   "source": [
    "scores.drop(columns=['Quiz1','Quiz2'])"
   ],
   "metadata": {
    "colab": {
     "base_uri": "https://localhost:8080/",
     "height": 175
    },
    "id": "Vg0B-MrzE2-W",
    "executionInfo": {
     "status": "ok",
     "timestamp": 1662553671545,
     "user_tz": 240,
     "elapsed": 31,
     "user": {
      "displayName": "Joe Burdis",
      "userId": "05388749857082436046"
     }
    },
    "outputId": "321b4337-2d5c-42cc-9e2c-949ddeaae1e0",
    "pycharm": {
     "name": "#%%\n"
    }
   },
   "execution_count": 160,
   "outputs": [
    {
     "data": {
      "text/plain": "        Final\nAlice    90.0\nBob      77.0\nDavid    83.0\nEdward   99.0",
      "text/html": "<div>\n<style scoped>\n    .dataframe tbody tr th:only-of-type {\n        vertical-align: middle;\n    }\n\n    .dataframe tbody tr th {\n        vertical-align: top;\n    }\n\n    .dataframe thead th {\n        text-align: right;\n    }\n</style>\n<table border=\"1\" class=\"dataframe\">\n  <thead>\n    <tr style=\"text-align: right;\">\n      <th></th>\n      <th>Final</th>\n    </tr>\n  </thead>\n  <tbody>\n    <tr>\n      <th>Alice</th>\n      <td>90.0</td>\n    </tr>\n    <tr>\n      <th>Bob</th>\n      <td>77.0</td>\n    </tr>\n    <tr>\n      <th>David</th>\n      <td>83.0</td>\n    </tr>\n    <tr>\n      <th>Edward</th>\n      <td>99.0</td>\n    </tr>\n  </tbody>\n</table>\n</div>"
     },
     "execution_count": 160,
     "metadata": {},
     "output_type": "execute_result"
    }
   ]
  },
  {
   "cell_type": "code",
   "metadata": {
    "id": "mQVoZyrDzjYK",
    "colab": {
     "base_uri": "https://localhost:8080/",
     "height": 112
    },
    "executionInfo": {
     "status": "ok",
     "timestamp": 1662553671545,
     "user_tz": 240,
     "elapsed": 30,
     "user": {
      "displayName": "Joe Burdis",
      "userId": "05388749857082436046"
     }
    },
    "outputId": "50e96428-2922-43ee-af89-ee436f9ea180",
    "pycharm": {
     "name": "#%%\n"
    }
   },
   "source": [
    "# Remove both David and Edward\n",
    "\n",
    "scores = scores.drop(['David', 'Edward'])\n",
    "scores"
   ],
   "execution_count": 161,
   "outputs": [
    {
     "data": {
      "text/plain": "       Quiz1  Quiz2  Final\nAlice   60.0   70.0   90.0\nBob     66.0   88.0   77.0",
      "text/html": "<div>\n<style scoped>\n    .dataframe tbody tr th:only-of-type {\n        vertical-align: middle;\n    }\n\n    .dataframe tbody tr th {\n        vertical-align: top;\n    }\n\n    .dataframe thead th {\n        text-align: right;\n    }\n</style>\n<table border=\"1\" class=\"dataframe\">\n  <thead>\n    <tr style=\"text-align: right;\">\n      <th></th>\n      <th>Quiz1</th>\n      <th>Quiz2</th>\n      <th>Final</th>\n    </tr>\n  </thead>\n  <tbody>\n    <tr>\n      <th>Alice</th>\n      <td>60.0</td>\n      <td>70.0</td>\n      <td>90.0</td>\n    </tr>\n    <tr>\n      <th>Bob</th>\n      <td>66.0</td>\n      <td>88.0</td>\n      <td>77.0</td>\n    </tr>\n  </tbody>\n</table>\n</div>"
     },
     "execution_count": 161,
     "metadata": {},
     "output_type": "execute_result"
    }
   ]
  },
  {
   "cell_type": "markdown",
   "metadata": {
    "id": "zaYQWUO2pAjr",
    "pycharm": {
     "name": "#%% md\n"
    }
   },
   "source": [
    "### Table Arithmetics\n",
    "- Perform an operation uniformly to all values in a column\n",
    "- Arithmetics with multiple columns\n",
    "- Calculate statistics\n",
    "- Apply a user-defined function to all rows"
   ]
  },
  {
   "cell_type": "code",
   "metadata": {
    "id": "NpaSKZpiz4RW",
    "colab": {
     "base_uri": "https://localhost:8080/",
     "height": 262
    },
    "executionInfo": {
     "status": "ok",
     "timestamp": 1662553671717,
     "user_tz": 240,
     "elapsed": 201,
     "user": {
      "displayName": "Joe Burdis",
      "userId": "05388749857082436046"
     }
    },
    "outputId": "7d07f0a8-4dde-4f88-fe4a-c6d315439834",
    "pycharm": {
     "name": "#%%\n"
    }
   },
   "source": [
    "# Double the extra credits\n",
    "data = [[60, 70, 80],\n",
    "        [66, 88, 77],\n",
    "        [100, 60, 30],\n",
    "        [85, 87, 83]]\n",
    "scores = pd.DataFrame(data,\n",
    "                      index=['Alice', 'Bob', 'Chris', 'David'],\n",
    "                      columns=['Quiz1', 'Quiz2', 'Final'])\n",
    "scores['ExtraCredits'] = [1, 2, 3, 4]\n",
    "print(scores.ExtraCredits)\n",
    "scores"
   ],
   "execution_count": 162,
   "outputs": [
    {
     "name": "stdout",
     "output_type": "stream",
     "text": [
      "Alice    1\n",
      "Bob      2\n",
      "Chris    3\n",
      "David    4\n",
      "Name: ExtraCredits, dtype: int64\n"
     ]
    },
    {
     "data": {
      "text/plain": "       Quiz1  Quiz2  Final  ExtraCredits\nAlice     60     70     80             1\nBob       66     88     77             2\nChris    100     60     30             3\nDavid     85     87     83             4",
      "text/html": "<div>\n<style scoped>\n    .dataframe tbody tr th:only-of-type {\n        vertical-align: middle;\n    }\n\n    .dataframe tbody tr th {\n        vertical-align: top;\n    }\n\n    .dataframe thead th {\n        text-align: right;\n    }\n</style>\n<table border=\"1\" class=\"dataframe\">\n  <thead>\n    <tr style=\"text-align: right;\">\n      <th></th>\n      <th>Quiz1</th>\n      <th>Quiz2</th>\n      <th>Final</th>\n      <th>ExtraCredits</th>\n    </tr>\n  </thead>\n  <tbody>\n    <tr>\n      <th>Alice</th>\n      <td>60</td>\n      <td>70</td>\n      <td>80</td>\n      <td>1</td>\n    </tr>\n    <tr>\n      <th>Bob</th>\n      <td>66</td>\n      <td>88</td>\n      <td>77</td>\n      <td>2</td>\n    </tr>\n    <tr>\n      <th>Chris</th>\n      <td>100</td>\n      <td>60</td>\n      <td>30</td>\n      <td>3</td>\n    </tr>\n    <tr>\n      <th>David</th>\n      <td>85</td>\n      <td>87</td>\n      <td>83</td>\n      <td>4</td>\n    </tr>\n  </tbody>\n</table>\n</div>"
     },
     "execution_count": 162,
     "metadata": {},
     "output_type": "execute_result"
    }
   ]
  },
  {
   "cell_type": "code",
   "metadata": {
    "colab": {
     "base_uri": "https://localhost:8080/",
     "height": 175
    },
    "id": "d3ELIffxUvLO",
    "executionInfo": {
     "status": "ok",
     "timestamp": 1662553671718,
     "user_tz": 240,
     "elapsed": 19,
     "user": {
      "displayName": "Joe Burdis",
      "userId": "05388749857082436046"
     }
    },
    "outputId": "be1d7b36-8096-419f-da64-f3d79ab5ee45",
    "pycharm": {
     "name": "#%%\n"
    }
   },
   "source": [
    "scores.ExtraCredits = scores.ExtraCredits * 2\n",
    "scores"
   ],
   "execution_count": 163,
   "outputs": [
    {
     "data": {
      "text/plain": "       Quiz1  Quiz2  Final  ExtraCredits\nAlice     60     70     80             2\nBob       66     88     77             4\nChris    100     60     30             6\nDavid     85     87     83             8",
      "text/html": "<div>\n<style scoped>\n    .dataframe tbody tr th:only-of-type {\n        vertical-align: middle;\n    }\n\n    .dataframe tbody tr th {\n        vertical-align: top;\n    }\n\n    .dataframe thead th {\n        text-align: right;\n    }\n</style>\n<table border=\"1\" class=\"dataframe\">\n  <thead>\n    <tr style=\"text-align: right;\">\n      <th></th>\n      <th>Quiz1</th>\n      <th>Quiz2</th>\n      <th>Final</th>\n      <th>ExtraCredits</th>\n    </tr>\n  </thead>\n  <tbody>\n    <tr>\n      <th>Alice</th>\n      <td>60</td>\n      <td>70</td>\n      <td>80</td>\n      <td>2</td>\n    </tr>\n    <tr>\n      <th>Bob</th>\n      <td>66</td>\n      <td>88</td>\n      <td>77</td>\n      <td>4</td>\n    </tr>\n    <tr>\n      <th>Chris</th>\n      <td>100</td>\n      <td>60</td>\n      <td>30</td>\n      <td>6</td>\n    </tr>\n    <tr>\n      <th>David</th>\n      <td>85</td>\n      <td>87</td>\n      <td>83</td>\n      <td>8</td>\n    </tr>\n  </tbody>\n</table>\n</div>"
     },
     "execution_count": 163,
     "metadata": {},
     "output_type": "execute_result"
    }
   ]
  },
  {
   "cell_type": "code",
   "metadata": {
    "id": "s82byrC3z4aX",
    "colab": {
     "base_uri": "https://localhost:8080/",
     "height": 175
    },
    "executionInfo": {
     "status": "ok",
     "timestamp": 1662553671719,
     "user_tz": 240,
     "elapsed": 19,
     "user": {
      "displayName": "Joe Burdis",
      "userId": "05388749857082436046"
     }
    },
    "outputId": "ee2a5ecf-2d00-40a4-d48f-44ef0d86e1d6",
    "pycharm": {
     "name": "#%%\n"
    }
   },
   "source": [
    "# Calculate grades:\n",
    "#   Grades = Quiz1 * 25% + Quiz2 * 25% + Final * 50% + ExtraCredit\n",
    "\n",
    "scores['Grade'] = scores.Quiz1 * 0.25 + scores.Quiz2 * 0.25 + scores.Final * 0.5 + scores.ExtraCredits\n",
    "scores"
   ],
   "execution_count": 164,
   "outputs": [
    {
     "data": {
      "text/plain": "       Quiz1  Quiz2  Final  ExtraCredits  Grade\nAlice     60     70     80             2   74.5\nBob       66     88     77             4   81.0\nChris    100     60     30             6   61.0\nDavid     85     87     83             8   92.5",
      "text/html": "<div>\n<style scoped>\n    .dataframe tbody tr th:only-of-type {\n        vertical-align: middle;\n    }\n\n    .dataframe tbody tr th {\n        vertical-align: top;\n    }\n\n    .dataframe thead th {\n        text-align: right;\n    }\n</style>\n<table border=\"1\" class=\"dataframe\">\n  <thead>\n    <tr style=\"text-align: right;\">\n      <th></th>\n      <th>Quiz1</th>\n      <th>Quiz2</th>\n      <th>Final</th>\n      <th>ExtraCredits</th>\n      <th>Grade</th>\n    </tr>\n  </thead>\n  <tbody>\n    <tr>\n      <th>Alice</th>\n      <td>60</td>\n      <td>70</td>\n      <td>80</td>\n      <td>2</td>\n      <td>74.5</td>\n    </tr>\n    <tr>\n      <th>Bob</th>\n      <td>66</td>\n      <td>88</td>\n      <td>77</td>\n      <td>4</td>\n      <td>81.0</td>\n    </tr>\n    <tr>\n      <th>Chris</th>\n      <td>100</td>\n      <td>60</td>\n      <td>30</td>\n      <td>6</td>\n      <td>61.0</td>\n    </tr>\n    <tr>\n      <th>David</th>\n      <td>85</td>\n      <td>87</td>\n      <td>83</td>\n      <td>8</td>\n      <td>92.5</td>\n    </tr>\n  </tbody>\n</table>\n</div>"
     },
     "execution_count": 164,
     "metadata": {},
     "output_type": "execute_result"
    }
   ]
  },
  {
   "cell_type": "code",
   "metadata": {
    "id": "RO1c-v-qz4iG",
    "colab": {
     "base_uri": "https://localhost:8080/"
    },
    "executionInfo": {
     "status": "ok",
     "timestamp": 1662553671719,
     "user_tz": 240,
     "elapsed": 18,
     "user": {
      "displayName": "Joe Burdis",
      "userId": "05388749857082436046"
     }
    },
    "outputId": "0d39623f-b9f3-43fb-f985-82b5d645751d",
    "pycharm": {
     "name": "#%%\n"
    }
   },
   "source": [
    "# Calculate the min, max, mean, median, variance, and std of the final grades\n",
    "\n",
    "scores['Grade'].max()\n",
    "scores['Grade'].describe()"
   ],
   "execution_count": 165,
   "outputs": [
    {
     "data": {
      "text/plain": "count     4.000000\nmean     77.250000\nstd      13.143439\nmin      61.000000\n25%      71.125000\n50%      77.750000\n75%      83.875000\nmax      92.500000\nName: Grade, dtype: float64"
     },
     "execution_count": 165,
     "metadata": {},
     "output_type": "execute_result"
    }
   ]
  },
  {
   "cell_type": "code",
   "metadata": {
    "id": "l483f6ybz4pY",
    "colab": {
     "base_uri": "https://localhost:8080/",
     "height": 175
    },
    "executionInfo": {
     "status": "ok",
     "timestamp": 1662553671720,
     "user_tz": 240,
     "elapsed": 16,
     "user": {
      "displayName": "Joe Burdis",
      "userId": "05388749857082436046"
     }
    },
    "outputId": "140670e6-fe7f-4533-a75e-3c96c18882a9",
    "pycharm": {
     "name": "#%%\n"
    }
   },
   "source": [
    "# Ex: Define a function that determines whether the student passes the class.\n",
    "def is_passing(grade):\n",
    "    return (grade >= 60)\n",
    "\n",
    "\n",
    "# Apply the function to the final grade column\n",
    "scores['Passed?'] = scores['Grade'].apply(is_passing)\n",
    "scores\n"
   ],
   "execution_count": 166,
   "outputs": [
    {
     "data": {
      "text/plain": "       Quiz1  Quiz2  Final  ExtraCredits  Grade  Passed?\nAlice     60     70     80             2   74.5     True\nBob       66     88     77             4   81.0     True\nChris    100     60     30             6   61.0     True\nDavid     85     87     83             8   92.5     True",
      "text/html": "<div>\n<style scoped>\n    .dataframe tbody tr th:only-of-type {\n        vertical-align: middle;\n    }\n\n    .dataframe tbody tr th {\n        vertical-align: top;\n    }\n\n    .dataframe thead th {\n        text-align: right;\n    }\n</style>\n<table border=\"1\" class=\"dataframe\">\n  <thead>\n    <tr style=\"text-align: right;\">\n      <th></th>\n      <th>Quiz1</th>\n      <th>Quiz2</th>\n      <th>Final</th>\n      <th>ExtraCredits</th>\n      <th>Grade</th>\n      <th>Passed?</th>\n    </tr>\n  </thead>\n  <tbody>\n    <tr>\n      <th>Alice</th>\n      <td>60</td>\n      <td>70</td>\n      <td>80</td>\n      <td>2</td>\n      <td>74.5</td>\n      <td>True</td>\n    </tr>\n    <tr>\n      <th>Bob</th>\n      <td>66</td>\n      <td>88</td>\n      <td>77</td>\n      <td>4</td>\n      <td>81.0</td>\n      <td>True</td>\n    </tr>\n    <tr>\n      <th>Chris</th>\n      <td>100</td>\n      <td>60</td>\n      <td>30</td>\n      <td>6</td>\n      <td>61.0</td>\n      <td>True</td>\n    </tr>\n    <tr>\n      <th>David</th>\n      <td>85</td>\n      <td>87</td>\n      <td>83</td>\n      <td>8</td>\n      <td>92.5</td>\n      <td>True</td>\n    </tr>\n  </tbody>\n</table>\n</div>"
     },
     "execution_count": 166,
     "metadata": {},
     "output_type": "execute_result"
    }
   ]
  },
  {
   "cell_type": "code",
   "metadata": {
    "id": "K5XJh7lSx-Jt",
    "colab": {
     "base_uri": "https://localhost:8080/"
    },
    "executionInfo": {
     "status": "ok",
     "timestamp": 1662553671720,
     "user_tz": 240,
     "elapsed": 15,
     "user": {
      "displayName": "Joe Burdis",
      "userId": "05388749857082436046"
     }
    },
    "outputId": "cf14eab8-e12e-4ece-ea8c-be9c6d55bae5",
    "pycharm": {
     "name": "#%%\n"
    }
   },
   "source": [
    "def is_passing2(row):\n",
    "    return (row['Grade'] >= 60)\n",
    "\n",
    "scores.apply(is_passing2, axis=1)"
   ],
   "execution_count": 167,
   "outputs": [
    {
     "data": {
      "text/plain": "Alice    True\nBob      True\nChris    True\nDavid    True\ndtype: bool"
     },
     "execution_count": 167,
     "metadata": {},
     "output_type": "execute_result"
    }
   ]
  },
  {
   "cell_type": "markdown",
   "metadata": {
    "id": "86Mu7zKi1Fxb",
    "pycharm": {
     "name": "#%% md\n"
    }
   },
   "source": [
    "## Introduction to Python Plotting Tools\n",
    "\n",
    "Making informative visualizations of data is one of the most important tasks in data analysis.\n",
    "- Learn the distribution of data\n",
    "- Explore trends and patterns in data\n",
    "- Identify outliers\n",
    "- Generate ideas for modeling\n",
    "- Present your findings\n",
    "\n",
    "Today, we will study how to create several most frequently-used types of plots in Python.\n",
    "- Scatter plots\n",
    "- Bar plots\n",
    "- Histograms\n",
    "- Pie plots\n",
    "- Box plots\n",
    "\n",
    "Readings:\n",
    "- Chapter 9"
   ]
  },
  {
   "cell_type": "code",
   "metadata": {
    "id": "owsT5_G01Lv0",
    "pycharm": {
     "name": "#%%\n"
    }
   },
   "source": [
    "import numpy as np\n",
    "import pandas as pd\n",
    "import matplotlib.pyplot as plt\n",
    "%matplotlib inline"
   ],
   "execution_count": 168,
   "outputs": []
  },
  {
   "cell_type": "code",
   "source": [
    "!pip install seaborn"
   ],
   "metadata": {
    "colab": {
     "base_uri": "https://localhost:8080/"
    },
    "id": "BrwqpJbXHChV",
    "executionInfo": {
     "status": "ok",
     "timestamp": 1662553675660,
     "user_tz": 240,
     "elapsed": 3951,
     "user": {
      "displayName": "Joe Burdis",
      "userId": "05388749857082436046"
     }
    },
    "outputId": "4845002c-f57c-438e-ae03-3a3c7c391212",
    "pycharm": {
     "name": "#%%\n"
    }
   },
   "execution_count": 169,
   "outputs": [
    {
     "name": "stdout",
     "output_type": "stream",
     "text": [
      "Requirement already satisfied: seaborn in c:\\users\\rmcne\\anaconda3\\lib\\site-packages (0.11.2)\n",
      "Requirement already satisfied: pandas>=0.23 in c:\\users\\rmcne\\anaconda3\\lib\\site-packages (from seaborn) (1.4.2)\n",
      "Requirement already satisfied: scipy>=1.0 in c:\\users\\rmcne\\anaconda3\\lib\\site-packages (from seaborn) (1.7.3)\n",
      "Requirement already satisfied: matplotlib>=2.2 in c:\\users\\rmcne\\anaconda3\\lib\\site-packages (from seaborn) (3.5.1)\n",
      "Requirement already satisfied: numpy>=1.15 in c:\\users\\rmcne\\anaconda3\\lib\\site-packages (from seaborn) (1.21.5)\n",
      "Requirement already satisfied: kiwisolver>=1.0.1 in c:\\users\\rmcne\\anaconda3\\lib\\site-packages (from matplotlib>=2.2->seaborn) (1.3.2)\n",
      "Requirement already satisfied: packaging>=20.0 in c:\\users\\rmcne\\anaconda3\\lib\\site-packages (from matplotlib>=2.2->seaborn) (21.3)\n",
      "Requirement already satisfied: fonttools>=4.22.0 in c:\\users\\rmcne\\anaconda3\\lib\\site-packages (from matplotlib>=2.2->seaborn) (4.25.0)\n",
      "Requirement already satisfied: pillow>=6.2.0 in c:\\users\\rmcne\\anaconda3\\lib\\site-packages (from matplotlib>=2.2->seaborn) (9.0.1)\n",
      "Requirement already satisfied: cycler>=0.10 in c:\\users\\rmcne\\anaconda3\\lib\\site-packages (from matplotlib>=2.2->seaborn) (0.11.0)\n",
      "Requirement already satisfied: python-dateutil>=2.7 in c:\\users\\rmcne\\anaconda3\\lib\\site-packages (from matplotlib>=2.2->seaborn) (2.8.2)\n",
      "Requirement already satisfied: pyparsing>=2.2.1 in c:\\users\\rmcne\\anaconda3\\lib\\site-packages (from matplotlib>=2.2->seaborn) (3.0.4)\n",
      "Requirement already satisfied: pytz>=2020.1 in c:\\users\\rmcne\\anaconda3\\lib\\site-packages (from pandas>=0.23->seaborn) (2021.3)\n",
      "Requirement already satisfied: six>=1.5 in c:\\users\\rmcne\\anaconda3\\lib\\site-packages (from python-dateutil>=2.7->matplotlib>=2.2->seaborn) (1.16.0)\n"
     ]
    }
   ]
  },
  {
   "cell_type": "markdown",
   "metadata": {
    "id": "rwwgaoFd1Wmr",
    "pycharm": {
     "name": "#%% md\n"
    }
   },
   "source": [
    "A **scatter plot** uses dots to represent values for two numerical variables. The position of each dot represents an instance of data. Scatter plots are helpful for identifying relationships between variables."
   ]
  },
  {
   "cell_type": "code",
   "metadata": {
    "id": "3C8JlNVg1Lyh",
    "colab": {
     "base_uri": "https://localhost:8080/",
     "height": 520
    },
    "executionInfo": {
     "status": "ok",
     "timestamp": 1662553675809,
     "user_tz": 240,
     "elapsed": 156,
     "user": {
      "displayName": "Joe Burdis",
      "userId": "05388749857082436046"
     }
    },
    "outputId": "13236f9c-7233-4aa9-af19-773c63c0af8c",
    "pycharm": {
     "name": "#%%\n"
    }
   },
   "source": [
    "# A simple example of scatter plots\n",
    "# Source: https://www.who.int/growthref/hfa_boys_5_19years_z.pdf?ua=1\n",
    "heights_boys = pd.DataFrame({'Age': range(5, 20),\n",
    "                   'Height': [110, 116, 122, 127, 133, 137, 143, 149, 156, 163, 169, 173, 175, 176, 176.5]})\n",
    "heights_boys"
   ],
   "execution_count": 170,
   "outputs": [
    {
     "data": {
      "text/plain": "    Age  Height\n0     5   110.0\n1     6   116.0\n2     7   122.0\n3     8   127.0\n4     9   133.0\n5    10   137.0\n6    11   143.0\n7    12   149.0\n8    13   156.0\n9    14   163.0\n10   15   169.0\n11   16   173.0\n12   17   175.0\n13   18   176.0\n14   19   176.5",
      "text/html": "<div>\n<style scoped>\n    .dataframe tbody tr th:only-of-type {\n        vertical-align: middle;\n    }\n\n    .dataframe tbody tr th {\n        vertical-align: top;\n    }\n\n    .dataframe thead th {\n        text-align: right;\n    }\n</style>\n<table border=\"1\" class=\"dataframe\">\n  <thead>\n    <tr style=\"text-align: right;\">\n      <th></th>\n      <th>Age</th>\n      <th>Height</th>\n    </tr>\n  </thead>\n  <tbody>\n    <tr>\n      <th>0</th>\n      <td>5</td>\n      <td>110.0</td>\n    </tr>\n    <tr>\n      <th>1</th>\n      <td>6</td>\n      <td>116.0</td>\n    </tr>\n    <tr>\n      <th>2</th>\n      <td>7</td>\n      <td>122.0</td>\n    </tr>\n    <tr>\n      <th>3</th>\n      <td>8</td>\n      <td>127.0</td>\n    </tr>\n    <tr>\n      <th>4</th>\n      <td>9</td>\n      <td>133.0</td>\n    </tr>\n    <tr>\n      <th>5</th>\n      <td>10</td>\n      <td>137.0</td>\n    </tr>\n    <tr>\n      <th>6</th>\n      <td>11</td>\n      <td>143.0</td>\n    </tr>\n    <tr>\n      <th>7</th>\n      <td>12</td>\n      <td>149.0</td>\n    </tr>\n    <tr>\n      <th>8</th>\n      <td>13</td>\n      <td>156.0</td>\n    </tr>\n    <tr>\n      <th>9</th>\n      <td>14</td>\n      <td>163.0</td>\n    </tr>\n    <tr>\n      <th>10</th>\n      <td>15</td>\n      <td>169.0</td>\n    </tr>\n    <tr>\n      <th>11</th>\n      <td>16</td>\n      <td>173.0</td>\n    </tr>\n    <tr>\n      <th>12</th>\n      <td>17</td>\n      <td>175.0</td>\n    </tr>\n    <tr>\n      <th>13</th>\n      <td>18</td>\n      <td>176.0</td>\n    </tr>\n    <tr>\n      <th>14</th>\n      <td>19</td>\n      <td>176.5</td>\n    </tr>\n  </tbody>\n</table>\n</div>"
     },
     "execution_count": 170,
     "metadata": {},
     "output_type": "execute_result"
    }
   ]
  },
  {
   "cell_type": "code",
   "source": [
    "heights_boys['Age'].hist()"
   ],
   "metadata": {
    "colab": {
     "base_uri": "https://localhost:8080/",
     "height": 282
    },
    "id": "FXkZWfnFGS-U",
    "executionInfo": {
     "status": "ok",
     "timestamp": 1662553675962,
     "user_tz": 240,
     "elapsed": 164,
     "user": {
      "displayName": "Joe Burdis",
      "userId": "05388749857082436046"
     }
    },
    "outputId": "f855efc7-6ba6-4aff-b78f-ffe163743f77",
    "pycharm": {
     "name": "#%%\n"
    }
   },
   "execution_count": 171,
   "outputs": [
    {
     "data": {
      "text/plain": "<AxesSubplot:>"
     },
     "execution_count": 171,
     "metadata": {},
     "output_type": "execute_result"
    },
    {
     "data": {
      "text/plain": "<Figure size 432x288 with 1 Axes>",
      "image/png": "[encoded data removed]"
     },
     "metadata": {
      "needs_background": "light"
     },
     "output_type": "display_data"
    }
   ]
  },
  {
   "cell_type": "code",
   "metadata": {
    "id": "eEQcBT581L1G",
    "colab": {
     "base_uri": "https://localhost:8080/",
     "height": 282
    },
    "executionInfo": {
     "status": "ok",
     "timestamp": 1662553676416,
     "user_tz": 240,
     "elapsed": 458,
     "user": {
      "displayName": "Joe Burdis",
      "userId": "05388749857082436046"
     }
    },
    "outputId": "ef916cb3-6a02-48ec-beb1-38767e90b90b",
    "pycharm": {
     "name": "#%%\n"
    }
   },
   "source": [
    "# Plot Age vs. Heights\n",
    "plt.plot(heights_boys['Age'], heights_boys['Height'])"
   ],
   "execution_count": 172,
   "outputs": [
    {
     "data": {
      "text/plain": "[<matplotlib.lines.Line2D at 0x22e1ff105b0>]"
     },
     "execution_count": 172,
     "metadata": {},
     "output_type": "execute_result"
    },
    {
     "data": {
      "text/plain": "<Figure size 432x288 with 1 Axes>",
      "image/png": "[encoded data removed]"
     },
     "metadata": {
      "needs_background": "light"
     },
     "output_type": "display_data"
    }
   ]
  },
  {
   "cell_type": "code",
   "metadata": {
    "id": "Ab5997Hs1L35",
    "colab": {
     "base_uri": "https://localhost:8080/",
     "height": 312
    },
    "executionInfo": {
     "status": "ok",
     "timestamp": 1662553676636,
     "user_tz": 240,
     "elapsed": 223,
     "user": {
      "displayName": "Joe Burdis",
      "userId": "05388749857082436046"
     }
    },
    "outputId": "baef21c9-6c5e-4ff6-81a9-e36514cce699",
    "pycharm": {
     "name": "#%%\n"
    }
   },
   "source": [
    "# Add descriptions to the figure\n",
    "plt.plot(heights_boys['Age'], heights_boys['Height'], 'r.') # r means red color, . means using a dot for each point\n",
    "plt.title(\"Average Height for Boys\")\n",
    "plt.xlabel(\"Age\")\n",
    "plt.ylabel(\"Height (cm)\")"
   ],
   "execution_count": 173,
   "outputs": [
    {
     "data": {
      "text/plain": "Text(0, 0.5, 'Height (cm)')"
     },
     "execution_count": 173,
     "metadata": {},
     "output_type": "execute_result"
    },
    {
     "data": {
      "text/plain": "<Figure size 432x288 with 1 Axes>",
      "image/png": "[encoded data removed]"
     },
     "metadata": {
      "needs_background": "light"
     },
     "output_type": "display_data"
    }
   ]
  },
  {
   "cell_type": "code",
   "metadata": {
    "id": "SIhln6Q91L6K",
    "colab": {
     "base_uri": "https://localhost:8080/",
     "height": 520
    },
    "executionInfo": {
     "status": "ok",
     "timestamp": 1662553676638,
     "user_tz": 240,
     "elapsed": 9,
     "user": {
      "displayName": "Joe Burdis",
      "userId": "05388749857082436046"
     }
    },
    "outputId": "07dca78d-40b7-46a6-ffd0-254f7a19d675",
    "pycharm": {
     "name": "#%%\n"
    }
   },
   "source": [
    "# Multiple sequences of data\n",
    "heights = pd.DataFrame({'Age': range(5, 20),\n",
    "                        'BoyHeight': [110, 116, 122, 127, 133, 137, 143, 149, 156, 163, 169, 173, 175, 176, 176.5],\n",
    "                        'GirlHeight': [109.6, 115, 121, 126.5, 132.5, 139, 145, 151, 156, 160, 161.7, 162.5, 162.8, 163, 163.2]})\n",
    "heights"
   ],
   "execution_count": 174,
   "outputs": [
    {
     "data": {
      "text/plain": "    Age  BoyHeight  GirlHeight\n0     5      110.0       109.6\n1     6      116.0       115.0\n2     7      122.0       121.0\n3     8      127.0       126.5\n4     9      133.0       132.5\n5    10      137.0       139.0\n6    11      143.0       145.0\n7    12      149.0       151.0\n8    13      156.0       156.0\n9    14      163.0       160.0\n10   15      169.0       161.7\n11   16      173.0       162.5\n12   17      175.0       162.8\n13   18      176.0       163.0\n14   19      176.5       163.2",
      "text/html": "<div>\n<style scoped>\n    .dataframe tbody tr th:only-of-type {\n        vertical-align: middle;\n    }\n\n    .dataframe tbody tr th {\n        vertical-align: top;\n    }\n\n    .dataframe thead th {\n        text-align: right;\n    }\n</style>\n<table border=\"1\" class=\"dataframe\">\n  <thead>\n    <tr style=\"text-align: right;\">\n      <th></th>\n      <th>Age</th>\n      <th>BoyHeight</th>\n      <th>GirlHeight</th>\n    </tr>\n  </thead>\n  <tbody>\n    <tr>\n      <th>0</th>\n      <td>5</td>\n      <td>110.0</td>\n      <td>109.6</td>\n    </tr>\n    <tr>\n      <th>1</th>\n      <td>6</td>\n      <td>116.0</td>\n      <td>115.0</td>\n    </tr>\n    <tr>\n      <th>2</th>\n      <td>7</td>\n      <td>122.0</td>\n      <td>121.0</td>\n    </tr>\n    <tr>\n      <th>3</th>\n      <td>8</td>\n      <td>127.0</td>\n      <td>126.5</td>\n    </tr>\n    <tr>\n      <th>4</th>\n      <td>9</td>\n      <td>133.0</td>\n      <td>132.5</td>\n    </tr>\n    <tr>\n      <th>5</th>\n      <td>10</td>\n      <td>137.0</td>\n      <td>139.0</td>\n    </tr>\n    <tr>\n      <th>6</th>\n      <td>11</td>\n      <td>143.0</td>\n      <td>145.0</td>\n    </tr>\n    <tr>\n      <th>7</th>\n      <td>12</td>\n      <td>149.0</td>\n      <td>151.0</td>\n    </tr>\n    <tr>\n      <th>8</th>\n      <td>13</td>\n      <td>156.0</td>\n      <td>156.0</td>\n    </tr>\n    <tr>\n      <th>9</th>\n      <td>14</td>\n      <td>163.0</td>\n      <td>160.0</td>\n    </tr>\n    <tr>\n      <th>10</th>\n      <td>15</td>\n      <td>169.0</td>\n      <td>161.7</td>\n    </tr>\n    <tr>\n      <th>11</th>\n      <td>16</td>\n      <td>173.0</td>\n      <td>162.5</td>\n    </tr>\n    <tr>\n      <th>12</th>\n      <td>17</td>\n      <td>175.0</td>\n      <td>162.8</td>\n    </tr>\n    <tr>\n      <th>13</th>\n      <td>18</td>\n      <td>176.0</td>\n      <td>163.0</td>\n    </tr>\n    <tr>\n      <th>14</th>\n      <td>19</td>\n      <td>176.5</td>\n      <td>163.2</td>\n    </tr>\n  </tbody>\n</table>\n</div>"
     },
     "execution_count": 174,
     "metadata": {},
     "output_type": "execute_result"
    }
   ]
  },
  {
   "cell_type": "code",
   "metadata": {
    "id": "YZiiG4iw1L9F",
    "colab": {
     "base_uri": "https://localhost:8080/",
     "height": 367
    },
    "executionInfo": {
     "status": "ok",
     "timestamp": 1662553676793,
     "user_tz": 240,
     "elapsed": 163,
     "user": {
      "displayName": "Joe Burdis",
      "userId": "05388749857082436046"
     }
    },
    "outputId": "ca38e87b-4d6d-45df-b13f-04ef8f8644d7",
    "pycharm": {
     "name": "#%%\n"
    }
   },
   "source": [
    "plt.figure(figsize=(8, 5))\n",
    "plt.plot(heights['Age'], heights['BoyHeight'], 'r^', label=\"Boys\")\n",
    "plt.plot(heights['Age'], heights['GirlHeight'], 'gs', label='Girls')\n",
    "plt.title(\"Average Heights\")\n",
    "plt.xlabel(\"Age\")\n",
    "plt.ylabel(\"Height (cm)\")\n",
    "plt.legend()"
   ],
   "execution_count": 175,
   "outputs": [
    {
     "data": {
      "text/plain": "<matplotlib.legend.Legend at 0x22e201c8c70>"
     },
     "execution_count": 175,
     "metadata": {},
     "output_type": "execute_result"
    },
    {
     "data": {
      "text/plain": "<Figure size 576x360 with 1 Axes>",
      "image/png": "[encoded data removed]"
     },
     "metadata": {
      "needs_background": "light"
     },
     "output_type": "display_data"
    }
   ]
  },
  {
   "cell_type": "markdown",
   "metadata": {
    "id": "AMW8PE5j1taX",
    "pycharm": {
     "name": "#%% md\n"
    }
   },
   "source": [
    "**Bar plots** are useful for presenting labeled data."
   ]
  },
  {
   "cell_type": "code",
   "metadata": {
    "id": "x_72YLxz1MAH",
    "colab": {
     "base_uri": "https://localhost:8080/",
     "height": 175
    },
    "executionInfo": {
     "status": "ok",
     "timestamp": 1662553676794,
     "user_tz": 240,
     "elapsed": 11,
     "user": {
      "displayName": "Joe Burdis",
      "userId": "05388749857082436046"
     }
    },
    "outputId": "0d2e6605-bd1a-46f2-dbf2-1460d533f5fc",
    "pycharm": {
     "name": "#%%\n"
    }
   },
   "source": [
    "df = pd.DataFrame([[67, 76],\n",
    "                   [78, 87],\n",
    "                   [89, 98],\n",
    "                   [90, 95]],\n",
    "                  index=['Alice', 'Bob', 'Clare', 'David'],\n",
    "                  columns=['Midterm', 'Final'])\n",
    "df"
   ],
   "execution_count": 176,
   "outputs": [
    {
     "data": {
      "text/plain": "       Midterm  Final\nAlice       67     76\nBob         78     87\nClare       89     98\nDavid       90     95",
      "text/html": "<div>\n<style scoped>\n    .dataframe tbody tr th:only-of-type {\n        vertical-align: middle;\n    }\n\n    .dataframe tbody tr th {\n        vertical-align: top;\n    }\n\n    .dataframe thead th {\n        text-align: right;\n    }\n</style>\n<table border=\"1\" class=\"dataframe\">\n  <thead>\n    <tr style=\"text-align: right;\">\n      <th></th>\n      <th>Midterm</th>\n      <th>Final</th>\n    </tr>\n  </thead>\n  <tbody>\n    <tr>\n      <th>Alice</th>\n      <td>67</td>\n      <td>76</td>\n    </tr>\n    <tr>\n      <th>Bob</th>\n      <td>78</td>\n      <td>87</td>\n    </tr>\n    <tr>\n      <th>Clare</th>\n      <td>89</td>\n      <td>98</td>\n    </tr>\n    <tr>\n      <th>David</th>\n      <td>90</td>\n      <td>95</td>\n    </tr>\n  </tbody>\n</table>\n</div>"
     },
     "execution_count": 176,
     "metadata": {},
     "output_type": "execute_result"
    }
   ]
  },
  {
   "cell_type": "code",
   "metadata": {
    "id": "-TPK11cg1ylV",
    "colab": {
     "base_uri": "https://localhost:8080/",
     "height": 410
    },
    "executionInfo": {
     "status": "ok",
     "timestamp": 1662553677126,
     "user_tz": 240,
     "elapsed": 339,
     "user": {
      "displayName": "Joe Burdis",
      "userId": "05388749857082436046"
     }
    },
    "outputId": "318a4123-588d-446e-b0aa-7b654a02d70f",
    "pycharm": {
     "name": "#%%\n"
    }
   },
   "source": [
    "df['Midterm'].plot.bar(color='r', figsize=(10, 6))"
   ],
   "execution_count": 177,
   "outputs": [
    {
     "data": {
      "text/plain": "<AxesSubplot:>"
     },
     "execution_count": 177,
     "metadata": {},
     "output_type": "execute_result"
    },
    {
     "data": {
      "text/plain": "<Figure size 720x432 with 1 Axes>",
      "image/png": "[encoded data removed]"
     },
     "metadata": {
      "needs_background": "light"
     },
     "output_type": "display_data"
    }
   ]
  },
  {
   "cell_type": "code",
   "metadata": {
    "id": "mOa-qZtj1yb3",
    "colab": {
     "base_uri": "https://localhost:8080/",
     "height": 301
    },
    "executionInfo": {
     "status": "ok",
     "timestamp": 1662553677338,
     "user_tz": 240,
     "elapsed": 225,
     "user": {
      "displayName": "Joe Burdis",
      "userId": "05388749857082436046"
     }
    },
    "outputId": "5bb47d31-11d5-435c-aa79-11dfde234261",
    "pycharm": {
     "name": "#%%\n"
    }
   },
   "source": [
    "df[['Midterm', 'Final']].plot.bar()"
   ],
   "execution_count": 178,
   "outputs": [
    {
     "data": {
      "text/plain": "<AxesSubplot:>"
     },
     "execution_count": 178,
     "metadata": {},
     "output_type": "execute_result"
    },
    {
     "data": {
      "text/plain": "<Figure size 432x288 with 1 Axes>",
      "image/png": "[encoded data removed]"
     },
     "metadata": {
      "needs_background": "light"
     },
     "output_type": "display_data"
    }
   ]
  },
  {
   "cell_type": "code",
   "metadata": {
    "id": "N-X2jAtJ1yRr",
    "colab": {
     "base_uri": "https://localhost:8080/",
     "height": 301
    },
    "executionInfo": {
     "status": "ok",
     "timestamp": 1662553677616,
     "user_tz": 240,
     "elapsed": 156,
     "user": {
      "displayName": "Joe Burdis",
      "userId": "05388749857082436046"
     }
    },
    "outputId": "ef1260a7-90ae-494d-efcb-716ab22f85a5",
    "pycharm": {
     "name": "#%%\n"
    }
   },
   "source": [
    "df[['Midterm', 'Final']].plot.bar(stacked=True)"
   ],
   "execution_count": 179,
   "outputs": [
    {
     "data": {
      "text/plain": "<AxesSubplot:>"
     },
     "execution_count": 179,
     "metadata": {},
     "output_type": "execute_result"
    },
    {
     "data": {
      "text/plain": "<Figure size 432x288 with 1 Axes>",
      "image/png": "[encoded data removed]"
     },
     "metadata": {
      "needs_background": "light"
     },
     "output_type": "display_data"
    }
   ]
  },
  {
   "cell_type": "code",
   "metadata": {
    "id": "gMIuAch81x99",
    "colab": {
     "base_uri": "https://localhost:8080/",
     "height": 282
    },
    "executionInfo": {
     "status": "ok",
     "timestamp": 1662553677871,
     "user_tz": 240,
     "elapsed": 257,
     "user": {
      "displayName": "Joe Burdis",
      "userId": "05388749857082436046"
     }
    },
    "outputId": "dc98996b-5969-4ba8-9d4e-ff90a42ab687",
    "pycharm": {
     "name": "#%%\n"
    }
   },
   "source": [
    "df[['Midterm', 'Final']].plot.barh(stacked=True)"
   ],
   "execution_count": 180,
   "outputs": [
    {
     "data": {
      "text/plain": "<AxesSubplot:>"
     },
     "execution_count": 180,
     "metadata": {},
     "output_type": "execute_result"
    },
    {
     "data": {
      "text/plain": "<Figure size 432x288 with 1 Axes>",
      "image/png": "[encoded data removed]"
     },
     "metadata": {
      "needs_background": "light"
     },
     "output_type": "display_data"
    }
   ]
  },
  {
   "cell_type": "markdown",
   "metadata": {
    "id": "277kxj312CBn",
    "pycharm": {
     "name": "#%% md\n"
    }
   },
   "source": [
    "**Histograms** are useful for showing the distribution of a variable\n",
    "- Each bar cover a range of values.\n",
    "- The height of each bar represents the number of data in the corresponding range.\n",
    "- Boundary values are counted towards the left bar by convention."
   ]
  },
  {
   "cell_type": "code",
   "metadata": {
    "id": "tT6E20wI2B49",
    "colab": {
     "base_uri": "https://localhost:8080/",
     "height": 206
    },
    "executionInfo": {
     "status": "ok",
     "timestamp": 1662553677871,
     "user_tz": 240,
     "elapsed": 8,
     "user": {
      "displayName": "Joe Burdis",
      "userId": "05388749857082436046"
     }
    },
    "outputId": "558ed50b-bf25-4468-c6d0-9ecdf12855d4",
    "pycharm": {
     "name": "#%%\n"
    }
   },
   "source": [
    "# Generate 100 values using np.random.rand()\n",
    "df = pd.DataFrame(np.random.rand(10000), columns=['Rand'])\n",
    "# df = pd.DataFrame(np.random.randn(1000), columns=['Rand'])\n",
    "df.head()"
   ],
   "execution_count": 181,
   "outputs": [
    {
     "data": {
      "text/plain": "       Rand\n0  0.599767\n1  0.947112\n2  0.685910\n3  0.753347\n4  0.463155",
      "text/html": "<div>\n<style scoped>\n    .dataframe tbody tr th:only-of-type {\n        vertical-align: middle;\n    }\n\n    .dataframe tbody tr th {\n        vertical-align: top;\n    }\n\n    .dataframe thead th {\n        text-align: right;\n    }\n</style>\n<table border=\"1\" class=\"dataframe\">\n  <thead>\n    <tr style=\"text-align: right;\">\n      <th></th>\n      <th>Rand</th>\n    </tr>\n  </thead>\n  <tbody>\n    <tr>\n      <th>0</th>\n      <td>0.599767</td>\n    </tr>\n    <tr>\n      <th>1</th>\n      <td>0.947112</td>\n    </tr>\n    <tr>\n      <th>2</th>\n      <td>0.685910</td>\n    </tr>\n    <tr>\n      <th>3</th>\n      <td>0.753347</td>\n    </tr>\n    <tr>\n      <th>4</th>\n      <td>0.463155</td>\n    </tr>\n  </tbody>\n</table>\n</div>"
     },
     "execution_count": 181,
     "metadata": {},
     "output_type": "execute_result"
    }
   ]
  },
  {
   "cell_type": "code",
   "metadata": {
    "id": "rnnbQF4n2Bvd",
    "colab": {
     "base_uri": "https://localhost:8080/",
     "height": 282
    },
    "executionInfo": {
     "status": "ok",
     "timestamp": 1662553678213,
     "user_tz": 240,
     "elapsed": 349,
     "user": {
      "displayName": "Joe Burdis",
      "userId": "05388749857082436046"
     }
    },
    "outputId": "661a1783-f304-491a-cdca-3491b38151d2",
    "pycharm": {
     "name": "#%%\n"
    }
   },
   "source": [
    "df['Rand'].hist(bins=20) # Uniform distribution"
   ],
   "execution_count": 182,
   "outputs": [
    {
     "data": {
      "text/plain": "<AxesSubplot:>"
     },
     "execution_count": 182,
     "metadata": {},
     "output_type": "execute_result"
    },
    {
     "data": {
      "text/plain": "<Figure size 432x288 with 1 Axes>",
      "image/png": "[encoded data removed]"
     },
     "metadata": {
      "needs_background": "light"
     },
     "output_type": "display_data"
    }
   ]
  },
  {
   "cell_type": "markdown",
   "metadata": {
    "id": "reIgu5NW2Khl",
    "pycharm": {
     "name": "#%% md\n"
    }
   },
   "source": [
    "**Pie Plots** are useful for showing the proportion of values."
   ]
  },
  {
   "cell_type": "code",
   "metadata": {
    "id": "7TdPJhTa2KZw",
    "colab": {
     "base_uri": "https://localhost:8080/",
     "height": 206
    },
    "executionInfo": {
     "status": "ok",
     "timestamp": 1662553678214,
     "user_tz": 240,
     "elapsed": 15,
     "user": {
      "displayName": "Joe Burdis",
      "userId": "05388749857082436046"
     }
    },
    "outputId": "5e3a4fed-19ec-4154-8230-8b9995c935ee",
    "pycharm": {
     "name": "#%%\n"
    }
   },
   "source": [
    "df = pd.DataFrame([5, 10, 20, 7, 3],\n",
    "                  index=['A', 'B', 'C', 'D', 'F'],\n",
    "                  columns=['Students'])\n",
    "df"
   ],
   "execution_count": 183,
   "outputs": [
    {
     "data": {
      "text/plain": "   Students\nA         5\nB        10\nC        20\nD         7\nF         3",
      "text/html": "<div>\n<style scoped>\n    .dataframe tbody tr th:only-of-type {\n        vertical-align: middle;\n    }\n\n    .dataframe tbody tr th {\n        vertical-align: top;\n    }\n\n    .dataframe thead th {\n        text-align: right;\n    }\n</style>\n<table border=\"1\" class=\"dataframe\">\n  <thead>\n    <tr style=\"text-align: right;\">\n      <th></th>\n      <th>Students</th>\n    </tr>\n  </thead>\n  <tbody>\n    <tr>\n      <th>A</th>\n      <td>5</td>\n    </tr>\n    <tr>\n      <th>B</th>\n      <td>10</td>\n    </tr>\n    <tr>\n      <th>C</th>\n      <td>20</td>\n    </tr>\n    <tr>\n      <th>D</th>\n      <td>7</td>\n    </tr>\n    <tr>\n      <th>F</th>\n      <td>3</td>\n    </tr>\n  </tbody>\n</table>\n</div>"
     },
     "execution_count": 183,
     "metadata": {},
     "output_type": "execute_result"
    }
   ]
  },
  {
   "cell_type": "code",
   "metadata": {
    "id": "Zrg4MS-w2KRs",
    "colab": {
     "base_uri": "https://localhost:8080/",
     "height": 390
    },
    "executionInfo": {
     "status": "ok",
     "timestamp": 1662553678433,
     "user_tz": 240,
     "elapsed": 231,
     "user": {
      "displayName": "Joe Burdis",
      "userId": "05388749857082436046"
     }
    },
    "outputId": "667af750-b5c5-4ed6-cda0-17b9bcc43978",
    "pycharm": {
     "name": "#%%\n"
    }
   },
   "source": [
    "df['Students'].plot.pie(autopct='%.2f', figsize=(6, 6))\n",
    "plt.title(\"Grade Distribution\")"
   ],
   "execution_count": 184,
   "outputs": [
    {
     "data": {
      "text/plain": "Text(0.5, 1.0, 'Grade Distribution')"
     },
     "execution_count": 184,
     "metadata": {},
     "output_type": "execute_result"
    },
    {
     "data": {
      "text/plain": "<Figure size 432x432 with 1 Axes>",
      "image/png": "[encoded data removed]"
     },
     "metadata": {},
     "output_type": "display_data"
    }
   ]
  },
  {
   "cell_type": "markdown",
   "metadata": {
    "id": "0XrvgJ1k2BUU",
    "pycharm": {
     "name": "#%% md\n"
    }
   },
   "source": [
    "**Box plots** are used for depicting groups of numerical data through their quartiles\n",
    "\n",
    "- Upper edge: 75% quartile (75% of data are below this value)\n",
    "- Lower edge: 25% quartile (25% of data are below this value)\n",
    "- Middle line: median value (50% of data are below this value)\n",
    "- Upper bar: upper *interquartile range* (values above this bar are considered outliers)\n",
    "- Lower bar: lower *interquartile range* (values below this bar are considered outliers)\n",
    "- Dots: outliers"
   ]
  },
  {
   "cell_type": "markdown",
   "metadata": {
    "id": "2r7sXPRdXepZ",
    "pycharm": {
     "name": "#%% md\n"
    }
   },
   "source": [
    "**Example: Iris Dataset**\n",
    "\n",
    "<img src=\"https://s3.amazonaws.com/assets.datacamp.com/blog_assets/Machine+Learning+R/iris-machinelearning.png\">"
   ]
  },
  {
   "cell_type": "code",
   "metadata": {
    "id": "-8g31pGy2Xa1",
    "pycharm": {
     "name": "#%%\n"
    }
   },
   "source": [
    "# Import the iris dataset\n",
    "from sklearn import datasets\n",
    "iris_raw = datasets.load_iris()\n",
    "# iris_raw"
   ],
   "execution_count": 185,
   "outputs": []
  },
  {
   "cell_type": "code",
   "metadata": {
    "id": "tJDIRr_v25Mi",
    "colab": {
     "base_uri": "https://localhost:8080/",
     "height": 424
    },
    "executionInfo": {
     "status": "ok",
     "timestamp": 1662553678939,
     "user_tz": 240,
     "elapsed": 11,
     "user": {
      "displayName": "Joe Burdis",
      "userId": "05388749857082436046"
     }
    },
    "outputId": "579b4047-64a9-4ac2-fd3b-e532ae5d3ff2",
    "pycharm": {
     "name": "#%%\n"
    }
   },
   "source": [
    "# Turn the data into a data frame\n",
    "iris_df = pd.DataFrame(data=iris_raw['data'],\n",
    "                       columns=iris_raw['feature_names'])\n",
    "iris_df"
   ],
   "execution_count": 186,
   "outputs": [
    {
     "data": {
      "text/plain": "     sepal length (cm)  sepal width (cm)  petal length (cm)  petal width (cm)\n0                  5.1               3.5                1.4               0.2\n1                  4.9               3.0                1.4               0.2\n2                  4.7               3.2                1.3               0.2\n3                  4.6               3.1                1.5               0.2\n4                  5.0               3.6                1.4               0.2\n..                 ...               ...                ...               ...\n145                6.7               3.0                5.2               2.3\n146                6.3               2.5                5.0               1.9\n147                6.5               3.0                5.2               2.0\n148                6.2               3.4                5.4               2.3\n149                5.9               3.0                5.1               1.8\n\n[150 rows x 4 columns]",
      "text/html": "<div>\n<style scoped>\n    .dataframe tbody tr th:only-of-type {\n        vertical-align: middle;\n    }\n\n    .dataframe tbody tr th {\n        vertical-align: top;\n    }\n\n    .dataframe thead th {\n        text-align: right;\n    }\n</style>\n<table border=\"1\" class=\"dataframe\">\n  <thead>\n    <tr style=\"text-align: right;\">\n      <th></th>\n      <th>sepal length (cm)</th>\n      <th>sepal width (cm)</th>\n      <th>petal length (cm)</th>\n      <th>petal width (cm)</th>\n    </tr>\n  </thead>\n  <tbody>\n    <tr>\n      <th>0</th>\n      <td>5.1</td>\n      <td>3.5</td>\n      <td>1.4</td>\n      <td>0.2</td>\n    </tr>\n    <tr>\n      <th>1</th>\n      <td>4.9</td>\n      <td>3.0</td>\n      <td>1.4</td>\n      <td>0.2</td>\n    </tr>\n    <tr>\n      <th>2</th>\n      <td>4.7</td>\n      <td>3.2</td>\n      <td>1.3</td>\n      <td>0.2</td>\n    </tr>\n    <tr>\n      <th>3</th>\n      <td>4.6</td>\n      <td>3.1</td>\n      <td>1.5</td>\n      <td>0.2</td>\n    </tr>\n    <tr>\n      <th>4</th>\n      <td>5.0</td>\n      <td>3.6</td>\n      <td>1.4</td>\n      <td>0.2</td>\n    </tr>\n    <tr>\n      <th>...</th>\n      <td>...</td>\n      <td>...</td>\n      <td>...</td>\n      <td>...</td>\n    </tr>\n    <tr>\n      <th>145</th>\n      <td>6.7</td>\n      <td>3.0</td>\n      <td>5.2</td>\n      <td>2.3</td>\n    </tr>\n    <tr>\n      <th>146</th>\n      <td>6.3</td>\n      <td>2.5</td>\n      <td>5.0</td>\n      <td>1.9</td>\n    </tr>\n    <tr>\n      <th>147</th>\n      <td>6.5</td>\n      <td>3.0</td>\n      <td>5.2</td>\n      <td>2.0</td>\n    </tr>\n    <tr>\n      <th>148</th>\n      <td>6.2</td>\n      <td>3.4</td>\n      <td>5.4</td>\n      <td>2.3</td>\n    </tr>\n    <tr>\n      <th>149</th>\n      <td>5.9</td>\n      <td>3.0</td>\n      <td>5.1</td>\n      <td>1.8</td>\n    </tr>\n  </tbody>\n</table>\n<p>150 rows × 4 columns</p>\n</div>"
     },
     "execution_count": 186,
     "metadata": {},
     "output_type": "execute_result"
    }
   ]
  },
  {
   "cell_type": "code",
   "metadata": {
    "id": "0rY6HTEHaEHm",
    "colab": {
     "base_uri": "https://localhost:8080/",
     "height": 206
    },
    "executionInfo": {
     "status": "ok",
     "timestamp": 1662553678940,
     "user_tz": 240,
     "elapsed": 10,
     "user": {
      "displayName": "Joe Burdis",
      "userId": "05388749857082436046"
     }
    },
    "outputId": "2ba41c4c-7c5d-4ea4-d772-20c95fa0125e",
    "pycharm": {
     "name": "#%%\n"
    }
   },
   "source": [
    "# Add target information to the data frame\n",
    "target = iris_raw['target']\n",
    "target_names = iris_raw['target_names']\n",
    "\n",
    "iris_df['target'] = target\n",
    "iris_df.head()\n",
    "\n",
    "# target_names[0]\n",
    "# iris_df['target'].value_counts()"
   ],
   "execution_count": 187,
   "outputs": [
    {
     "data": {
      "text/plain": "   sepal length (cm)  sepal width (cm)  petal length (cm)  petal width (cm)  \\\n0                5.1               3.5                1.4               0.2   \n1                4.9               3.0                1.4               0.2   \n2                4.7               3.2                1.3               0.2   \n3                4.6               3.1                1.5               0.2   \n4                5.0               3.6                1.4               0.2   \n\n   target  \n0       0  \n1       0  \n2       0  \n3       0  \n4       0  ",
      "text/html": "<div>\n<style scoped>\n    .dataframe tbody tr th:only-of-type {\n        vertical-align: middle;\n    }\n\n    .dataframe tbody tr th {\n        vertical-align: top;\n    }\n\n    .dataframe thead th {\n        text-align: right;\n    }\n</style>\n<table border=\"1\" class=\"dataframe\">\n  <thead>\n    <tr style=\"text-align: right;\">\n      <th></th>\n      <th>sepal length (cm)</th>\n      <th>sepal width (cm)</th>\n      <th>petal length (cm)</th>\n      <th>petal width (cm)</th>\n      <th>target</th>\n    </tr>\n  </thead>\n  <tbody>\n    <tr>\n      <th>0</th>\n      <td>5.1</td>\n      <td>3.5</td>\n      <td>1.4</td>\n      <td>0.2</td>\n      <td>0</td>\n    </tr>\n    <tr>\n      <th>1</th>\n      <td>4.9</td>\n      <td>3.0</td>\n      <td>1.4</td>\n      <td>0.2</td>\n      <td>0</td>\n    </tr>\n    <tr>\n      <th>2</th>\n      <td>4.7</td>\n      <td>3.2</td>\n      <td>1.3</td>\n      <td>0.2</td>\n      <td>0</td>\n    </tr>\n    <tr>\n      <th>3</th>\n      <td>4.6</td>\n      <td>3.1</td>\n      <td>1.5</td>\n      <td>0.2</td>\n      <td>0</td>\n    </tr>\n    <tr>\n      <th>4</th>\n      <td>5.0</td>\n      <td>3.6</td>\n      <td>1.4</td>\n      <td>0.2</td>\n      <td>0</td>\n    </tr>\n  </tbody>\n</table>\n</div>"
     },
     "execution_count": 187,
     "metadata": {},
     "output_type": "execute_result"
    }
   ]
  },
  {
   "cell_type": "code",
   "metadata": {
    "id": "4WvUX6j824_y",
    "colab": {
     "base_uri": "https://localhost:8080/",
     "height": 391
    },
    "executionInfo": {
     "status": "ok",
     "timestamp": 1662553679441,
     "user_tz": 240,
     "elapsed": 510,
     "user": {
      "displayName": "Joe Burdis",
      "userId": "05388749857082436046"
     }
    },
    "outputId": "8a3b0396-f7f7-4613-a266-4fd2701b366c",
    "pycharm": {
     "name": "#%%\n"
    }
   },
   "source": [
    "iris_df[iris_df['target'] == 0].plot.box(figsize=(10, 6))"
   ],
   "execution_count": 188,
   "outputs": [
    {
     "data": {
      "text/plain": "<AxesSubplot:>"
     },
     "execution_count": 188,
     "metadata": {},
     "output_type": "execute_result"
    },
    {
     "data": {
      "text/plain": "<Figure size 720x432 with 1 Axes>",
      "image/png": "[encoded data removed]"
     },
     "metadata": {
      "needs_background": "light"
     },
     "output_type": "display_data"
    }
   ]
  },
  {
   "cell_type": "markdown",
   "metadata": {
    "id": "D7xS_Yna3FHJ",
    "pycharm": {
     "name": "#%% md\n"
    }
   },
   "source": [
    "**Discussion:** How would you use the graphing tools to obtain ideas to distinguish the three types of iris?"
   ]
  },
  {
   "cell_type": "code",
   "metadata": {
    "id": "McUGeaiq_kBW",
    "pycharm": {
     "name": "#%%\n"
    }
   },
   "source": [],
   "execution_count": 188,
   "outputs": []
  },
  {
   "cell_type": "markdown",
   "metadata": {
    "id": "W0txr8G4pAoR",
    "pycharm": {
     "name": "#%% md\n"
    }
   },
   "source": [
    "### Plotting with Matplotlib\n",
    "1. Create subplots\n",
    "2. Adjust ticks, legends, labels\n",
    "3. Add annotations"
   ]
  },
  {
   "cell_type": "code",
   "metadata": {
    "id": "QVqhrU_D0xKJ",
    "colab": {
     "base_uri": "https://localhost:8080/",
     "height": 174
    },
    "executionInfo": {
     "status": "ok",
     "timestamp": 1693425304540,
     "user_tz": 240,
     "elapsed": 922,
     "user": {
      "displayName": "Joe Burdis",
      "userId": "05388749857082436046"
     }
    },
    "outputId": "6545418c-1cc1-4cdb-d20b-9f34ad43a04d",
    "pycharm": {
     "name": "#%%\n"
    }
   },
   "source": [
    "# Download Bitcoin trading data\n",
    "import json\n",
    "import requests\n",
    "endpoint = 'https://min-api.cryptocompare.com/data/histoday'\n",
    "res = requests.get(endpoint + '?fsym=BTC&tsym=USD&limit=2000')\n",
    "BTC = pd.DataFrame(json.loads(res.content)['Data'])\n",
    "\n",
    "# Use time as index\n",
    "BTC = BTC.set_index('time')\n",
    "BTC.index = pd.to_datetime(BTC.index, unit='s')\n",
    "\n",
    "BTC.tail(3)"
   ],
   "execution_count": 190,
   "outputs": [
    {
     "data": {
      "text/plain": "                high       low      open  volumefrom      volumeto     close  \\\ntime                                                                           \n2024-02-09  48208.27  45257.22  45304.61    50590.41  2.379926e+09  47154.23   \n2024-02-10  48166.14  46894.61  47154.23    16452.46  7.805549e+08  47768.12   \n2024-02-11  48597.46  47592.04  47768.12    15797.54  7.612601e+08  48283.00   \n\n           conversionType conversionSymbol  \ntime                                        \n2024-02-09         direct                   \n2024-02-10         direct                   \n2024-02-11         direct                   ",
      "text/html": "<div>\n<style scoped>\n    .dataframe tbody tr th:only-of-type {\n        vertical-align: middle;\n    }\n\n    .dataframe tbody tr th {\n        vertical-align: top;\n    }\n\n    .dataframe thead th {\n        text-align: right;\n    }\n</style>\n<table border=\"1\" class=\"dataframe\">\n  <thead>\n    <tr style=\"text-align: right;\">\n      <th></th>\n      <th>high</th>\n      <th>low</th>\n      <th>open</th>\n      <th>volumefrom</th>\n      <th>volumeto</th>\n      <th>close</th>\n      <th>conversionType</th>\n      <th>conversionSymbol</th>\n    </tr>\n    <tr>\n      <th>time</th>\n      <th></th>\n      <th></th>\n      <th></th>\n      <th></th>\n      <th></th>\n      <th></th>\n      <th></th>\n      <th></th>\n    </tr>\n  </thead>\n  <tbody>\n    <tr>\n      <th>2024-02-09</th>\n      <td>48208.27</td>\n      <td>45257.22</td>\n      <td>45304.61</td>\n      <td>50590.41</td>\n      <td>2.379926e+09</td>\n      <td>47154.23</td>\n      <td>direct</td>\n      <td></td>\n    </tr>\n    <tr>\n      <th>2024-02-10</th>\n      <td>48166.14</td>\n      <td>46894.61</td>\n      <td>47154.23</td>\n      <td>16452.46</td>\n      <td>7.805549e+08</td>\n      <td>47768.12</td>\n      <td>direct</td>\n      <td></td>\n    </tr>\n    <tr>\n      <th>2024-02-11</th>\n      <td>48597.46</td>\n      <td>47592.04</td>\n      <td>47768.12</td>\n      <td>15797.54</td>\n      <td>7.612601e+08</td>\n      <td>48283.00</td>\n      <td>direct</td>\n      <td></td>\n    </tr>\n  </tbody>\n</table>\n</div>"
     },
     "execution_count": 190,
     "metadata": {},
     "output_type": "execute_result"
    }
   ]
  },
  {
   "cell_type": "code",
   "metadata": {
    "id": "e58PCBzi31QE",
    "colab": {
     "base_uri": "https://localhost:8080/"
    },
    "executionInfo": {
     "status": "ok",
     "timestamp": 1693425219950,
     "user_tz": 240,
     "elapsed": 4755,
     "user": {
      "displayName": "Joe Burdis",
      "userId": "05388749857082436046"
     }
    },
    "outputId": "a9bb3e8c-a65c-4b62-ae1f-f27ef20f4da3",
    "pycharm": {
     "name": "#%%\n"
    }
   },
   "source": [
    "# Install yahoo finance library\n",
    "!pip install yfinance\n",
    "!pip install pathlib"
   ],
   "execution_count": 197,
   "outputs": [
    {
     "name": "stdout",
     "output_type": "stream",
     "text": [
      "Requirement already satisfied: yfinance in c:\\users\\rmcne\\anaconda3\\lib\\site-packages (0.2.36)\n",
      "Requirement already satisfied: requests>=2.31 in c:\\users\\rmcne\\anaconda3\\lib\\site-packages (from yfinance) (2.31.0)\n",
      "Requirement already satisfied: peewee>=3.16.2 in c:\\users\\rmcne\\anaconda3\\lib\\site-packages (from yfinance) (3.17.1)\n",
      "Requirement already satisfied: numpy>=1.16.5 in c:\\users\\rmcne\\anaconda3\\lib\\site-packages (from yfinance) (1.21.5)\n",
      "Requirement already satisfied: frozendict>=2.3.4 in c:\\users\\rmcne\\anaconda3\\lib\\site-packages (from yfinance) (2.4.0)\n",
      "Requirement already satisfied: beautifulsoup4>=4.11.1 in c:\\users\\rmcne\\anaconda3\\lib\\site-packages (from yfinance) (4.11.1)\n",
      "Requirement already satisfied: multitasking>=0.0.7 in c:\\users\\rmcne\\anaconda3\\lib\\site-packages (from yfinance) (0.0.11)\n",
      "Requirement already satisfied: appdirs>=1.4.4 in c:\\users\\rmcne\\anaconda3\\lib\\site-packages (from yfinance) (1.4.4)\n",
      "Requirement already satisfied: html5lib>=1.1 in c:\\users\\rmcne\\anaconda3\\lib\\site-packages (from yfinance) (1.1)\n",
      "Requirement already satisfied: pandas>=1.3.0 in c:\\users\\rmcne\\anaconda3\\lib\\site-packages (from yfinance) (1.4.2)\n",
      "Requirement already satisfied: lxml>=4.9.1 in c:\\users\\rmcne\\anaconda3\\lib\\site-packages (from yfinance) (5.1.0)\n",
      "Requirement already satisfied: pytz>=2022.5 in c:\\users\\rmcne\\anaconda3\\lib\\site-packages (from yfinance) (2024.1)\n",
      "Requirement already satisfied: soupsieve>1.2 in c:\\users\\rmcne\\anaconda3\\lib\\site-packages (from beautifulsoup4>=4.11.1->yfinance) (2.3.1)\n",
      "Requirement already satisfied: six>=1.9 in c:\\users\\rmcne\\anaconda3\\lib\\site-packages (from html5lib>=1.1->yfinance) (1.16.0)\n",
      "Requirement already satisfied: webencodings in c:\\users\\rmcne\\anaconda3\\lib\\site-packages (from html5lib>=1.1->yfinance) (0.5.1)\n",
      "Requirement already satisfied: python-dateutil>=2.8.1 in c:\\users\\rmcne\\anaconda3\\lib\\site-packages (from pandas>=1.3.0->yfinance) (2.8.2)\n",
      "Requirement already satisfied: idna<4,>=2.5 in c:\\users\\rmcne\\anaconda3\\lib\\site-packages (from requests>=2.31->yfinance) (3.3)\n",
      "Requirement already satisfied: charset-normalizer<4,>=2 in c:\\users\\rmcne\\anaconda3\\lib\\site-packages (from requests>=2.31->yfinance) (2.0.4)\n",
      "Requirement already satisfied: urllib3<3,>=1.21.1 in c:\\users\\rmcne\\anaconda3\\lib\\site-packages (from requests>=2.31->yfinance) (1.26.9)\n",
      "Requirement already satisfied: certifi>=2017.4.17 in c:\\users\\rmcne\\anaconda3\\lib\\site-packages (from requests>=2.31->yfinance) (2021.10.8)\n",
      "Collecting pathlib\n",
      "  Downloading pathlib-1.0.1-py3-none-any.whl (14 kB)\n",
      "Installing collected packages: pathlib\n",
      "Successfully installed pathlib-1.0.1\n"
     ]
    }
   ]
  },
  {
   "cell_type": "code",
   "metadata": {
    "id": "dCtt4WK60xMd",
    "colab": {
     "base_uri": "https://localhost:8080/",
     "height": 192
    },
    "executionInfo": {
     "status": "ok",
     "timestamp": 1693425228075,
     "user_tz": 240,
     "elapsed": 2082,
     "user": {
      "displayName": "Joe Burdis",
      "userId": "05388749857082436046"
     }
    },
    "outputId": "588421a5-d197-42ed-f185-08fff385812e",
    "pycharm": {
     "name": "#%%\n"
    }
   },
   "source": [
    "import yfinance as yf\n",
    "\n",
    "SPY = yf.download('SPY', start=\"2015-04-10\")\n",
    "SPY.head(3)"
   ],
   "execution_count": 198,
   "outputs": [
    {
     "name": "stderr",
     "output_type": "stream",
     "text": [
      "[*********************100%%**********************]  1 of 1 completed\n"
     ]
    },
    {
     "data": {
      "text/plain": "                  Open        High         Low       Close   Adj Close  \\\nDate                                                                     \n2015-04-10  209.199997  210.089996  208.960007  210.039993  179.527359   \n2015-04-13  209.869995  210.630005  209.029999  209.089996  178.715363   \n2015-04-14  208.850006  209.710007  208.100006  209.490005  179.057312   \n\n              Volume  \nDate                  \n2015-04-10  72722900  \n2015-04-13  74436600  \n2015-04-14  75099900  ",
      "text/html": "<div>\n<style scoped>\n    .dataframe tbody tr th:only-of-type {\n        vertical-align: middle;\n    }\n\n    .dataframe tbody tr th {\n        vertical-align: top;\n    }\n\n    .dataframe thead th {\n        text-align: right;\n    }\n</style>\n<table border=\"1\" class=\"dataframe\">\n  <thead>\n    <tr style=\"text-align: right;\">\n      <th></th>\n      <th>Open</th>\n      <th>High</th>\n      <th>Low</th>\n      <th>Close</th>\n      <th>Adj Close</th>\n      <th>Volume</th>\n    </tr>\n    <tr>\n      <th>Date</th>\n      <th></th>\n      <th></th>\n      <th></th>\n      <th></th>\n      <th></th>\n      <th></th>\n    </tr>\n  </thead>\n  <tbody>\n    <tr>\n      <th>2015-04-10</th>\n      <td>209.199997</td>\n      <td>210.089996</td>\n      <td>208.960007</td>\n      <td>210.039993</td>\n      <td>179.527359</td>\n      <td>72722900</td>\n    </tr>\n    <tr>\n      <th>2015-04-13</th>\n      <td>209.869995</td>\n      <td>210.630005</td>\n      <td>209.029999</td>\n      <td>209.089996</td>\n      <td>178.715363</td>\n      <td>74436600</td>\n    </tr>\n    <tr>\n      <th>2015-04-14</th>\n      <td>208.850006</td>\n      <td>209.710007</td>\n      <td>208.100006</td>\n      <td>209.490005</td>\n      <td>179.057312</td>\n      <td>75099900</td>\n    </tr>\n  </tbody>\n</table>\n</div>"
     },
     "execution_count": 198,
     "metadata": {},
     "output_type": "execute_result"
    }
   ]
  },
  {
   "cell_type": "markdown",
   "metadata": {
    "id": "suFvbXjg39il",
    "pycharm": {
     "name": "#%% md\n"
    }
   },
   "source": [
    "Four plots on the price change:"
   ]
  },
  {
   "cell_type": "code",
   "metadata": {
    "id": "-uXJmFhy0xPT",
    "colab": {
     "base_uri": "https://localhost:8080/",
     "height": 888
    },
    "executionInfo": {
     "status": "ok",
     "timestamp": 1693425314924,
     "user_tz": 240,
     "elapsed": 1881,
     "user": {
      "displayName": "Joe Burdis",
      "userId": "05388749857082436046"
     }
    },
    "outputId": "6b2f67f3-5bc8-41f0-9565-2aa4d47e38e7",
    "pycharm": {
     "name": "#%%\n"
    }
   },
   "source": [
    "import matplotlib.pyplot as plt\n",
    "\n",
    "fig = plt.figure(figsize=(10, 10))\n",
    "\n",
    "# Add axes for the first subplot\n",
    "ax1 = fig.add_subplot(2, 2, 1) # What do these numbers mean?\n",
    "                               # (number of rows, number of columns, the index of this particular plot)\n",
    "\n",
    "# plot BTC price change (close price vs. time)\n",
    "ax1.plot(BTC.index, BTC['close'])\n",
    "ax1.set_title(\"Bitcoin\")\n",
    "\n",
    "# Add axes for the second subplot\n",
    "ax2 = fig.add_subplot(2, 2, 2)\n",
    "\n",
    "# plot SPY price change (close price vs. time)\n",
    "ax2.plot(SPY.index, SPY['Close'] * 10)\n",
    "ax2.set_title(\"S&P 500 Index\")\n",
    "ax2.set_ylim([0, 4000])\n",
    "\n",
    "# The third subplot\n",
    "ax3 = fig.add_subplot(2, 2, 3)\n",
    "ax3.hist(BTC['volumeto'], bins=50)\n",
    "ax3.set_title(\"Bitcoin\")\n",
    "\n",
    "# The fourth subplot\n",
    "ax4 = fig.add_subplot(2, 2, 4)\n",
    "ax4.hist(SPY['Volume'], bins=50)\n",
    "ax4.set_title(\"S&P 500 Index\")"
   ],
   "execution_count": 199,
   "outputs": [
    {
     "data": {
      "text/plain": "Text(0.5, 1.0, 'S&P 500 Index')"
     },
     "execution_count": 199,
     "metadata": {},
     "output_type": "execute_result"
    },
    {
     "data": {
      "text/plain": "<Figure size 720x720 with 4 Axes>",
      "image/png": "[encoded data removed]"
     },
     "metadata": {
      "needs_background": "light"
     },
     "output_type": "display_data"
    }
   ]
  },
  {
   "cell_type": "markdown",
   "metadata": {
    "id": "8XypoT0-0xRn",
    "pycharm": {
     "name": "#%% md\n"
    }
   },
   "source": [
    "**Ticks, labels, and legends**"
   ]
  },
  {
   "cell_type": "code",
   "metadata": {
    "id": "tC7jKGj_0xUT",
    "colab": {
     "base_uri": "https://localhost:8080/",
     "height": 337
    },
    "executionInfo": {
     "status": "ok",
     "timestamp": 1662553690361,
     "user_tz": 240,
     "elapsed": 293,
     "user": {
      "displayName": "Joe Burdis",
      "userId": "05388749857082436046"
     }
    },
    "outputId": "18530859-7f08-4905-807e-453062b6f5f1",
    "pycharm": {
     "name": "#%%\n"
    }
   },
   "source": [
    "# Specify limits on the x-axis and y-axis\n",
    "from datetime import datetime\n",
    "\n",
    "plt.figure(figsize=(10, 5))\n",
    "plt.plot(BTC.index, BTC['close'])\n",
    "plt.xlim([datetime(2019, 1, 1), datetime(2020, 1, 1)])\n",
    "plt.ylim([2500, 15000])"
   ],
   "execution_count": 200,
   "outputs": [
    {
     "data": {
      "text/plain": "(2500.0, 15000.0)"
     },
     "execution_count": 200,
     "metadata": {},
     "output_type": "execute_result"
    },
    {
     "data": {
      "text/plain": "<Figure size 720x360 with 1 Axes>",
      "image/png": "[encoded data removed]"
     },
     "metadata": {
      "needs_background": "light"
     },
     "output_type": "display_data"
    }
   ]
  },
  {
   "cell_type": "code",
   "metadata": {
    "id": "dLGNG9jq0xXC",
    "colab": {
     "base_uri": "https://localhost:8080/",
     "height": 362
    },
    "executionInfo": {
     "status": "ok",
     "timestamp": 1662553690822,
     "user_tz": 240,
     "elapsed": 464,
     "user": {
      "displayName": "Joe Burdis",
      "userId": "05388749857082436046"
     }
    },
    "outputId": "ae8b43d0-babb-4ab5-b02c-81b520978709",
    "pycharm": {
     "name": "#%%\n"
    }
   },
   "source": [
    "# Show ticks for every month\n",
    "plt.figure(figsize=(10, 5))\n",
    "plt.plot(BTC.index, BTC['close'])\n",
    "plt.plot(SPY.index, SPY['Close'] * 30)\n",
    "plt.xlim([datetime(2019, 1, 1), datetime(2020, 1, 1)])\n",
    "ticks = [datetime(2019, x, 1) for x in range(1, 13)]\n",
    "ticks.append(datetime(2020, 1, 1))\n",
    "plt.xticks(ticks, rotation=45)\n",
    "\n",
    "yticks = [x * 1000 for x in range(16)]\n",
    "yticklabels = [str(x) + \"k\" for x in range(16)]\n",
    "plt.yticks(yticks)\n",
    "\n",
    "ax = plt.gca()\n",
    "ax.set_yticklabels(yticklabels)\n",
    "\n",
    "# Add y label\n",
    "plt.ylabel(\"US Dollars\")\n",
    "\n",
    "# Add legned\n",
    "plt.legend(['Bitcoin', 'S&P 500 Index'])\n",
    "\n",
    "plt.ylim([0, 15000])\n",
    "\n",
    "plt.show()"
   ],
   "execution_count": 201,
   "outputs": [
    {
     "data": {
      "text/plain": "<Figure size 720x360 with 1 Axes>",
      "image/png": "[encoded data removed]"
     },
     "metadata": {
      "needs_background": "light"
     },
     "output_type": "display_data"
    }
   ]
  },
  {
   "cell_type": "markdown",
   "metadata": {
    "id": "e1RnWV--4NPO",
    "pycharm": {
     "name": "#%% md\n"
    }
   },
   "source": [
    "Add Annotations:"
   ]
  },
  {
   "cell_type": "code",
   "metadata": {
    "id": "VSjcnDie0xZk",
    "colab": {
     "base_uri": "https://localhost:8080/",
     "height": 337
    },
    "executionInfo": {
     "status": "ok",
     "timestamp": 1662553691099,
     "user_tz": 240,
     "elapsed": 284,
     "user": {
      "displayName": "Joe Burdis",
      "userId": "05388749857082436046"
     }
    },
    "outputId": "183ae8b7-5633-444f-8af8-ca60563c9172",
    "pycharm": {
     "name": "#%%\n"
    }
   },
   "source": [
    "from datetime import timedelta\n",
    "\n",
    "plt.figure(figsize=(10, 5))\n",
    "plt.plot(BTC.index, BTC['close'])\n",
    "\n",
    "# Point out the peak value\n",
    "plt.annotate('Peak value: 19000',\n",
    "             xy=(datetime(2018, 1, 1), 19000),\n",
    "             xytext=(datetime(2018, 1, 1)+timedelta(days=100), 20000),\n",
    "             arrowprops=dict(facecolor='red', headwidth=4, width=2, headlength=4))\n",
    "\n",
    "# Highlight the dramatic increase in 2018\n",
    "rectangle = plt.Rectangle((datetime(2017, 5, 1), 2500),\n",
    "                          timedelta(days=200),\n",
    "                          17500,\n",
    "                          color='k',\n",
    "                          alpha=0.3)\n",
    "plt.gca().add_patch(rectangle)\n",
    "\n",
    "# Add text description\n",
    "plt.text(datetime(2017, 5, 1),\n",
    "         1500,\n",
    "         \"Bitcoin price increased 5 times within 200 days\",\n",
    "         fontsize=12)"
   ],
   "execution_count": 202,
   "outputs": [
    {
     "data": {
      "text/plain": "Text(2017-05-01 00:00:00, 1500, 'Bitcoin price increased 5 times within 200 days')"
     },
     "execution_count": 202,
     "metadata": {},
     "output_type": "execute_result"
    },
    {
     "data": {
      "text/plain": "<Figure size 720x360 with 1 Axes>",
      "image/png": "[encoded data removed]"
     },
     "metadata": {
      "needs_background": "light"
     },
     "output_type": "display_data"
    }
   ]
  },
  {
   "cell_type": "markdown",
   "metadata": {
    "id": "APIpHB6H_wJk",
    "pycharm": {
     "name": "#%% md\n"
    }
   },
   "source": [
    "# Homework\n",
    "Create a graph about the bitcoin prices. Explain what message you would like to send via this graph.\n",
    "\n",
    "Please create a new jupyter notebook for the homework. The notebook should show the graph that you create and contain the complete code that is used to create the graph. It should also contain a brief description of what you want this graph to illustrate.\n",
    "\n",
    "**NO NEED TO TURN IN, BUT PLEASE DO THIS FOR YOUR OWN GROWTH / THOUGHT PROCESS ON VISUALIZING DATA**"
   ]
  }
 ]
}