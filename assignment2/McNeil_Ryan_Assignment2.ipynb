{
 "cells": [
  {
   "cell_type": "markdown",
   "source": [
    "# Setup"
   ],
   "metadata": {
    "collapsed": false,
    "pycharm": {
     "name": "#%% md\n"
    }
   },
   "id": "ca64beac5c6b6f7e"
  },
  {
   "cell_type": "code",
   "outputs": [],
   "source": [
    "import os\n",
    "import datetime\n",
    "import numpy as np\n",
    "import pandas as pd\n",
    "import sklearn as skl\n",
    "from sklearn.preprocessing import LabelEncoder\n",
    "from sklearn.preprocessing import OrdinalEncoder\n",
    "from sklearn.preprocessing import StandardScaler\n",
    "import sklearn.metrics\n",
    "from sklearn.impute import SimpleImputer\n",
    "from sklearn.feature_extraction.text import TfidfVectorizer\n",
    "from sklearn.model_selection import train_test_split\n",
    "from sklearn.model_selection import GridSearchCV\n",
    "from sklearn.tree import DecisionTreeClassifier\n",
    "from sklearn.ensemble import RandomForestClassifier\n",
    "import sklearn.naive_bayes\n",
    "from sklearn.linear_model import LogisticRegression\n",
    "from sklearn.neighbors import KNeighborsClassifier\n",
    "from sklearn.cluster import k_means\n",
    "from sklearn.cluster import kmeans_plusplus\n",
    "from sklearn.svm import SVC\n",
    "import keras\n",
    "from keras.models import Sequential\n",
    "from keras.layers import Dense, Flatten, Softmax, Activation, SimpleRNN, Embedding, Conv2D\n",
    "import tensorflow as tf\n",
    "import seaborn as sns\n",
    "import pickle\n",
    "import xgboost as xgb\n",
    "from xgboost import XGBClassifier\n",
    "import optuna\n",
    "\n",
    "#I may change environs between desktop & laptop, so I run the below to check my WD and that multicore processing is still available.\n",
    "print(\"WD:\", os.getcwd())\n",
    "print(\"CPU cores:\", os.cpu_count())"
   ],
   "metadata": {
    "collapsed": false,
    "pycharm": {
     "name": "#%%\n",
     "is_executing": true
    },
    "ExecuteTime": {
     "end_time": "2024-04-04T00:35:21.777751Z",
     "start_time": "2024-04-04T00:35:21.768073Z"
    }
   },
   "id": "76c414f391c9ff15",
   "execution_count": null
  },
  {
   "cell_type": "markdown",
   "source": [
    "\n",
    "# Part A: Model Code and Exploration (100 pts)"
   ],
   "metadata": {
    "collapsed": false,
    "pycharm": {
     "name": "#%% md\n"
    }
   },
   "id": "7b812f8cb615333f"
  },
  {
   "cell_type": "markdown",
   "source": [
    "1. Perform Exploratory Data Analysis (EDA) and discuss the data and what you observe\n",
    "prior to beginning modeling and how impact how to proceed [10 pts]"
   ],
   "metadata": {
    "collapsed": false,
    "pycharm": {
     "name": "#%% md\n"
    }
   },
   "id": "65f8e5f59e8dfd93"
  },
  {
   "cell_type": "code",
   "outputs": [
    {
     "name": "stdout",
     "output_type": "stream",
     "text": [
      "Length:  8000\n",
      "Width:  40\n",
      "Variables:  Index(['discharge_disposition_id', 'admission_source_id', 'payer_code',\n",
      "       'medical_specialty', 'num_lab_procedures', 'num_procedures',\n",
      "       'num_medications', 'number_outpatient', 'number_emergency',\n",
      "       'number_diagnoses', 'max_glu_serum', 'metformin', 'repaglinide',\n",
      "       'nateglinide', 'chlorpropamide', 'glimepiride', 'acetohexamide',\n",
      "       'glipizide', 'glyburide', 'tolbutamide', 'pioglitazone',\n",
      "       'rosiglitazone', 'acarbose', 'miglitol', 'troglitazone', 'tolazamide',\n",
      "       'examide', 'citoglipton', 'insulin', 'glyburide.metformin',\n",
      "       'glipizide.metformin', 'glimepiride.pioglitazone',\n",
      "       'metformin.rosiglitazone', 'metformin.pioglitazone', 'change',\n",
      "       'diabetesMed', 'readmitted', '2nd_diag', '3rd_diag', 'ai_response'],\n",
      "      dtype='object')\n"
     ]
    },
    {
     "data": {
      "text/plain": "  discharge_disposition_id       admission_source_id payer_code  \\\n0       Discharged to home  Transfer from a hospital        NaN   \n1       Discharged to home  Transfer from a hospital        NaN   \n2       Discharged to home            Emergency Room         SP   \n3       Discharged to home            Emergency Room        NaN   \n4       Discharged to home        Physician Referral         MD   \n\n  medical_specialty  num_lab_procedures  num_procedures  num_medications  \\\n0               NaN                  24               2               17   \n1               NaN                  37               3               14   \n2  Emergency/Trauma                  60               4               17   \n3               NaN                  40               3               25   \n4   Surgery-General                  31               2               18   \n\n   number_outpatient  number_emergency  number_diagnoses  ...  \\\n0                  0                 0                 8  ...   \n1                  0                 0                 8  ...   \n2                  0                 0                 9  ...   \n3                  1                 0                 9  ...   \n4                  0                 0                 7  ...   \n\n  glipizide.metformin glimepiride.pioglitazone metformin.rosiglitazone  \\\n0                  No                       No                      No   \n1                  No                       No                      No   \n2                  No                       No                      No   \n3                  No                       No                      No   \n4                  No                       No                      No   \n\n  metformin.pioglitazone change diabetesMed readmitted 2nd_diag 3rd_diag  \\\n0                     No     No         Yes      False      414      428   \n1                     No     No         Yes      False      410      414   \n2                     No     No          No       True      537      786   \n3                     No     Ch         Yes       True      425      428   \n4                     No     No         Yes       True      682      998   \n\n                                         ai_response  \n0  Based on the diagnosis code 250.01, which indi...  \n1  Based on the information provided, I recommend...  \n2  Based on the information provided, the patient...  \n3  Based on the information provided, the patient...  \n4  Based on the information provided, the patient...  \n\n[5 rows x 40 columns]",
      "text/html": "<div>\n<style scoped>\n    .dataframe tbody tr th:only-of-type {\n        vertical-align: middle;\n    }\n\n    .dataframe tbody tr th {\n        vertical-align: top;\n    }\n\n    .dataframe thead th {\n        text-align: right;\n    }\n</style>\n<table border=\"1\" class=\"dataframe\">\n  <thead>\n    <tr style=\"text-align: right;\">\n      <th></th>\n      <th>discharge_disposition_id</th>\n      <th>admission_source_id</th>\n      <th>payer_code</th>\n      <th>medical_specialty</th>\n      <th>num_lab_procedures</th>\n      <th>num_procedures</th>\n      <th>num_medications</th>\n      <th>number_outpatient</th>\n      <th>number_emergency</th>\n      <th>number_diagnoses</th>\n      <th>...</th>\n      <th>glipizide.metformin</th>\n      <th>glimepiride.pioglitazone</th>\n      <th>metformin.rosiglitazone</th>\n      <th>metformin.pioglitazone</th>\n      <th>change</th>\n      <th>diabetesMed</th>\n      <th>readmitted</th>\n      <th>2nd_diag</th>\n      <th>3rd_diag</th>\n      <th>ai_response</th>\n    </tr>\n  </thead>\n  <tbody>\n    <tr>\n      <th>0</th>\n      <td>Discharged to home</td>\n      <td>Transfer from a hospital</td>\n      <td>NaN</td>\n      <td>NaN</td>\n      <td>24</td>\n      <td>2</td>\n      <td>17</td>\n      <td>0</td>\n      <td>0</td>\n      <td>8</td>\n      <td>...</td>\n      <td>No</td>\n      <td>No</td>\n      <td>No</td>\n      <td>No</td>\n      <td>No</td>\n      <td>Yes</td>\n      <td>False</td>\n      <td>414</td>\n      <td>428</td>\n      <td>Based on the diagnosis code 250.01, which indi...</td>\n    </tr>\n    <tr>\n      <th>1</th>\n      <td>Discharged to home</td>\n      <td>Transfer from a hospital</td>\n      <td>NaN</td>\n      <td>NaN</td>\n      <td>37</td>\n      <td>3</td>\n      <td>14</td>\n      <td>0</td>\n      <td>0</td>\n      <td>8</td>\n      <td>...</td>\n      <td>No</td>\n      <td>No</td>\n      <td>No</td>\n      <td>No</td>\n      <td>No</td>\n      <td>Yes</td>\n      <td>False</td>\n      <td>410</td>\n      <td>414</td>\n      <td>Based on the information provided, I recommend...</td>\n    </tr>\n    <tr>\n      <th>2</th>\n      <td>Discharged to home</td>\n      <td>Emergency Room</td>\n      <td>SP</td>\n      <td>Emergency/Trauma</td>\n      <td>60</td>\n      <td>4</td>\n      <td>17</td>\n      <td>0</td>\n      <td>0</td>\n      <td>9</td>\n      <td>...</td>\n      <td>No</td>\n      <td>No</td>\n      <td>No</td>\n      <td>No</td>\n      <td>No</td>\n      <td>No</td>\n      <td>True</td>\n      <td>537</td>\n      <td>786</td>\n      <td>Based on the information provided, the patient...</td>\n    </tr>\n    <tr>\n      <th>3</th>\n      <td>Discharged to home</td>\n      <td>Emergency Room</td>\n      <td>NaN</td>\n      <td>NaN</td>\n      <td>40</td>\n      <td>3</td>\n      <td>25</td>\n      <td>1</td>\n      <td>0</td>\n      <td>9</td>\n      <td>...</td>\n      <td>No</td>\n      <td>No</td>\n      <td>No</td>\n      <td>No</td>\n      <td>Ch</td>\n      <td>Yes</td>\n      <td>True</td>\n      <td>425</td>\n      <td>428</td>\n      <td>Based on the information provided, the patient...</td>\n    </tr>\n    <tr>\n      <th>4</th>\n      <td>Discharged to home</td>\n      <td>Physician Referral</td>\n      <td>MD</td>\n      <td>Surgery-General</td>\n      <td>31</td>\n      <td>2</td>\n      <td>18</td>\n      <td>0</td>\n      <td>0</td>\n      <td>7</td>\n      <td>...</td>\n      <td>No</td>\n      <td>No</td>\n      <td>No</td>\n      <td>No</td>\n      <td>No</td>\n      <td>Yes</td>\n      <td>True</td>\n      <td>682</td>\n      <td>998</td>\n      <td>Based on the information provided, the patient...</td>\n    </tr>\n  </tbody>\n</table>\n<p>5 rows × 40 columns</p>\n</div>"
     },
     "execution_count": 348,
     "metadata": {},
     "output_type": "execute_result"
    }
   ],
   "source": [
    "full_train_data = pd.read_csv(\"8k_diabetes_train.csv\",\n",
    "                              na_values=\"?\")\n",
    "print(\"Length: \", len(full_train_data))\n",
    "print(\"Width: \", len(full_train_data.columns))\n",
    "print(\"Variables: \", full_train_data.columns)\n",
    "full_train_data.head()"
   ],
   "metadata": {
    "collapsed": false,
    "pycharm": {
     "name": "#%%\n"
    },
    "ExecuteTime": {
     "end_time": "2024-04-04T00:35:22.432646Z",
     "start_time": "2024-04-04T00:35:22.286148Z"
    }
   },
   "id": "a7641a5809738813",
   "execution_count": 348
  },
  {
   "cell_type": "code",
   "execution_count": 349,
   "outputs": [
    {
     "data": {
      "text/plain": "discharge_disposition_id\nDischarged to home                                                                                             4864\nDischarged/transferred to SNF                                                                                   954\nDischarged/transferred to home with home health service                                                         920\nNaN                                                                                                             364\nExpired                                                                                                         153\nDischarged/transferred to another short term hospital                                                           139\nDischarged/transferred to another rehab fac including rehab units of a hospital.                                134\nDischarged/transferred to another  type of inpatient care institution                                           130\nNot Mapped                                                                                                      107\nDischarged/transferred to ICF                                                                                    80\nDischarged/transferred to a long term care hospital.                                                             39\nLeft AMA                                                                                                         36\nHospice / home                                                                                                   28\nHospice / medical facility                                                                                       22\nDischarged/transferred to home under care of Home IV provider                                                    12\nDischarged/transferred/referred to a psychiatric hospital of a psychiatric distinct part unit of a hospital      11\nDischarged/transferred within this institution to Medicare approved swing bed                                     3\nAdmitted as an inpatient to this hospital                                                                         2\nDischarged/transferred/referred to this institution for outpatient services                                       1\nDischarged/transferred/referred another institution for outpatient services                                       1\nName: count, dtype: int64"
     },
     "execution_count": 349,
     "metadata": {},
     "output_type": "execute_result"
    }
   ],
   "source": [
    "# I investigated value counts for every variable. For brevity, I include only this one example in my final submission.\n",
    "full_train_data.discharge_disposition_id.value_counts(dropna=False)"
   ],
   "metadata": {
    "collapsed": false,
    "pycharm": {
     "name": "#%%\n"
    },
    "ExecuteTime": {
     "end_time": "2024-04-04T00:35:22.448155Z",
     "start_time": "2024-04-04T00:35:22.435789Z"
    }
   },
   "id": "165e35ef3056b8fd"
  },
  {
   "cell_type": "code",
   "execution_count": 350,
   "outputs": [
    {
     "data": {
      "text/plain": "payer_code\nNaN    4302\nMC     1988\nHM      364\nBC      300\nSP      242\nUN      221\nMD      189\nCP      159\nCM       88\nDM       46\nOG       39\nPO       34\nWC        9\nSI        8\nOT        6\nCH        5\nName: count, dtype: int64"
     },
     "execution_count": 350,
     "metadata": {},
     "output_type": "execute_result"
    }
   ],
   "source": [
    "full_train_data.payer_code.value_counts(dropna=False)"
   ],
   "metadata": {
    "collapsed": false,
    "pycharm": {
     "name": "#%%\n"
    },
    "ExecuteTime": {
     "end_time": "2024-04-04T00:35:22.525300Z",
     "start_time": "2024-04-04T00:35:22.516431Z"
    }
   },
   "id": "6c1cbc10be263dc4"
  },
  {
   "cell_type": "markdown",
   "source": [
    "For \"Payer Code\" & \"Medical Specialty\", \"?\" is the largest class. I re-wrote my read_csv command to explicitly identify these as NAs. This is a lot of missing data for these columns. Next, I'll look at the distributions of the continuous variables."
   ],
   "metadata": {
    "collapsed": false,
    "pycharm": {
     "name": "#%% md\n"
    }
   },
   "id": "39b8f5b7d6221fd4"
  },
  {
   "cell_type": "code",
   "execution_count": 351,
   "outputs": [
    {
     "data": {
      "text/plain": "count    8000.000000\nmean       43.183375\nstd        19.518187\nmin         1.000000\n25%        32.000000\n50%        44.000000\n75%        57.000000\nmax       120.000000\nName: num_lab_procedures, dtype: float64"
     },
     "execution_count": 351,
     "metadata": {},
     "output_type": "execute_result"
    }
   ],
   "source": [
    "# I also did the below for all other continuous variables. Those cells have been deleted from the final submission for brevity.\n",
    "full_train_data.num_lab_procedures.describe()"
   ],
   "metadata": {
    "collapsed": false,
    "pycharm": {
     "name": "#%%\n"
    },
    "ExecuteTime": {
     "end_time": "2024-04-04T00:35:22.569192Z",
     "start_time": "2024-04-04T00:35:22.558529Z"
    }
   },
   "id": "5c488cf3cead15e9"
  },
  {
   "cell_type": "code",
   "execution_count": 352,
   "outputs": [
    {
     "data": {
      "text/plain": "discharge_disposition_id     True\nadmission_source_id          True\npayer_code                   True\nmedical_specialty            True\nnum_lab_procedures          False\nnum_procedures              False\nnum_medications             False\nnumber_outpatient           False\nnumber_emergency            False\nnumber_diagnoses            False\nmax_glu_serum                True\nmetformin                   False\nrepaglinide                 False\nnateglinide                 False\nchlorpropamide              False\nglimepiride                 False\nacetohexamide               False\nglipizide                   False\nglyburide                   False\ntolbutamide                 False\npioglitazone                False\nrosiglitazone               False\nacarbose                    False\nmiglitol                    False\ntroglitazone                False\ntolazamide                  False\nexamide                     False\ncitoglipton                 False\ninsulin                     False\nglyburide.metformin         False\nglipizide.metformin         False\nglimepiride.pioglitazone    False\nmetformin.rosiglitazone     False\nmetformin.pioglitazone      False\nchange                      False\ndiabetesMed                 False\nreadmitted                  False\n2nd_diag                     True\n3rd_diag                     True\nai_response                 False\ndtype: bool"
     },
     "execution_count": 352,
     "metadata": {},
     "output_type": "execute_result"
    }
   ],
   "source": [
    "# I use the below code to identify which columns have any NAs.\n",
    "pd.isna(full_train_data).max()"
   ],
   "metadata": {
    "collapsed": false,
    "pycharm": {
     "name": "#%%\n"
    },
    "ExecuteTime": {
     "end_time": "2024-04-04T00:35:22.648449Z",
     "start_time": "2024-04-04T00:35:22.630891Z"
    }
   },
   "id": "c32b35c28d7e5865"
  },
  {
   "cell_type": "markdown",
   "source": [
    "We have 8000 records of 39 features plus one target feature for readmission. We have a variety of continuous, categorical, and boolean variables, plus one string variable of text called \"ai_response.\" For most of the continuous variables (and several of the others), there appear to be a small but not insignificant number of extreme outliers, I will want to keep this in mind when performing test_train_split and training.\n",
    "\n",
    "Further, we have na values that we will want to somehow deal with in the variables: # Discharge_disposition_id, Admission_source_id, and Max_glu_serum, \"Payer Code\" & \"Medical Specialty\". I may also want to rename \"?\" values to proper NAs before doing so.\n",
    "\n",
    "\"2nd_diag\" and \"3rd_diag\" are unclear. The name, repeated values, occasional letters & decimals all seem to imply diagnosis codes. As such, it may not be reasonable to try to impute the few NAs."
   ],
   "metadata": {
    "collapsed": false,
    "pycharm": {
     "name": "#%% md\n"
    }
   },
   "id": "86733f8752d8f7c7"
  },
  {
   "cell_type": "markdown",
   "source": [
    "2. Pre-processed categorical data for use in the model and justified pre-processing\n",
    "method. Note this may be different for each algorithm you try. [10 pts]"
   ],
   "metadata": {
    "collapsed": false,
    "pycharm": {
     "name": "#%% md\n"
    }
   },
   "id": "c43475e47ecf0f00"
  },
  {
   "cell_type": "markdown",
   "source": [
    "For simplicity, I might typically construct a class or pipeline that would perform pre-processing as part of the final model. However, to satisfy the structure of this assignment, I will instead perform pre-processing in discrete steps below (which will need to be repeated on the validation set later)."
   ],
   "metadata": {
    "collapsed": false,
    "pycharm": {
     "name": "#%% md\n"
    }
   },
   "id": "1518d1081222b7e4"
  },
  {
   "cell_type": "markdown",
   "source": [
    "I address the columns in order, one at a time. First,  \"discharge_disposition_id\".\n",
    "\n",
    "I believe this variable is best left as categorical (rather than ordinal), as there is no clear hierarchy of values. I believe \"Not Mapped\" should be NAs, and I reason that patients who die in care necessarily can't be readmitted, so other data about them may not be useful for predicting readmission. On inspection, I see no reasonable way to impute NAs as any other values.--The AI output seems to agree for many of those patients."
   ],
   "metadata": {
    "collapsed": false,
    "pycharm": {
     "name": "#%% md\n"
    }
   },
   "id": "6adc6c92be09a807"
  },
  {
   "cell_type": "code",
   "execution_count": 353,
   "outputs": [],
   "source": [
    "full_train_data.discharge_disposition_id = full_train_data.discharge_disposition_id.replace(\"Expired\", np.nan)"
   ],
   "metadata": {
    "collapsed": false,
    "pycharm": {
     "name": "#%%\n"
    }
   },
   "id": "73e16de94c20e488"
  },
  {
   "cell_type": "code",
   "execution_count": 354,
   "outputs": [],
   "source": [
    "full_train_data.discharge_disposition_id = full_train_data.discharge_disposition_id.replace(\"Not Mapped\", np.nan)"
   ],
   "metadata": {
    "collapsed": false,
    "pycharm": {
     "name": "#%%\n"
    },
    "ExecuteTime": {
     "end_time": "2024-04-04T00:35:22.713683Z",
     "start_time": "2024-04-04T00:35:22.708106Z"
    }
   },
   "id": "92d1a0f47db20476"
  },
  {
   "cell_type": "code",
   "execution_count": 355,
   "outputs": [
    {
     "data": {
      "text/plain": "Series([], Name: count, dtype: int64)"
     },
     "execution_count": 355,
     "metadata": {},
     "output_type": "execute_result"
    }
   ],
   "source": [
    "# I confirm no zombies in our data:\n",
    "full_train_data.loc[(full_train_data['discharge_disposition_id'] == \"Expired\")].readmitted.value_counts()"
   ],
   "metadata": {
    "collapsed": false,
    "pycharm": {
     "name": "#%%\n"
    },
    "ExecuteTime": {
     "end_time": "2024-04-04T00:35:22.875157Z",
     "start_time": "2024-04-04T00:35:22.866277Z"
    }
   },
   "id": "3905818bf62c3a57"
  },
  {
   "cell_type": "code",
   "execution_count": 356,
   "outputs": [
    {
     "data": {
      "text/plain": "discharge_disposition_id\nDischarged to home                                                                                             4864\nDischarged/transferred to SNF                                                                                   954\nDischarged/transferred to home with home health service                                                         920\nDischarged/transferred to another short term hospital                                                           139\nDischarged/transferred to another rehab fac including rehab units of a hospital.                                134\nDischarged/transferred to another  type of inpatient care institution                                           130\nDischarged/transferred to ICF                                                                                    80\nDischarged/transferred to a long term care hospital.                                                             39\nLeft AMA                                                                                                         36\nHospice / home                                                                                                   28\nHospice / medical facility                                                                                       22\nDischarged/transferred to home under care of Home IV provider                                                    12\nDischarged/transferred/referred to a psychiatric hospital of a psychiatric distinct part unit of a hospital      11\nDischarged/transferred within this institution to Medicare approved swing bed                                     3\nAdmitted as an inpatient to this hospital                                                                         2\nDischarged/transferred/referred to this institution for outpatient services                                       1\nDischarged/transferred/referred another institution for outpatient services                                       1\nName: count, dtype: int64"
     },
     "execution_count": 356,
     "metadata": {},
     "output_type": "execute_result"
    }
   ],
   "source": [
    "full_train_data.discharge_disposition_id.value_counts()"
   ],
   "metadata": {
    "collapsed": false,
    "pycharm": {
     "name": "#%%\n"
    }
   },
   "id": "ce60c600c554dbc4"
  },
  {
   "cell_type": "code",
   "execution_count": 357,
   "outputs": [],
   "source": [
    "# # I use the following method for dropping rows because alternative methods can result in missing indices.\n",
    "# # This method ensures that I will not encounter missing indices errors later on.\n",
    "# indices_to_drop = full_train_data[full_train_data['discharge_disposition_id'] == \"Expired\"].index\n",
    "# full_train_data.drop(index=indices_to_drop, inplace=True)\n",
    "# #See how the indices are not decremented\n",
    "# print(\"Index '135' is now labeled: \", full_train_data.iloc[135].name)\n",
    "# # Check that rows have been successfully dropped.\n",
    "# print(\"Undropped rows: \", len(full_train_data.loc[(full_train_data['discharge_disposition_id'] == \"Expired\")].readmitted.value_counts()))"
   ],
   "metadata": {
    "collapsed": false,
    "pycharm": {
     "name": "#%%\n"
    },
    "ExecuteTime": {
     "end_time": "2024-04-04T00:35:22.940094Z",
     "start_time": "2024-04-04T00:35:22.927227Z"
    }
   },
   "id": "497b78e0e542ba52"
  },
  {
   "cell_type": "code",
   "execution_count": 358,
   "outputs": [],
   "source": [
    "# # I correct the index\n",
    "# full_train_data.set_index(np.arange(len(full_train_data)), inplace=True)\n",
    "# print(\"Index '135' is now labeled: \", full_train_data.iloc[135].name)"
   ],
   "metadata": {
    "collapsed": false,
    "pycharm": {
     "name": "#%%\n"
    },
    "ExecuteTime": {
     "end_time": "2024-04-04T00:35:23.023558Z",
     "start_time": "2024-04-04T00:35:23.017646Z"
    }
   },
   "id": "702f1a4d88fc9fa1"
  },
  {
   "cell_type": "code",
   "execution_count": 359,
   "outputs": [
    {
     "data": {
      "text/plain": "discharge_disposition_id\nDischarged to home                                                                                             4864\nDischarged/transferred to SNF                                                                                   954\nDischarged/transferred to home with home health service                                                         920\nNaN                                                                                                             624\nDischarged/transferred to another short term hospital                                                           139\nDischarged/transferred to another rehab fac including rehab units of a hospital.                                134\nDischarged/transferred to another  type of inpatient care institution                                           130\nDischarged/transferred to ICF                                                                                    80\nDischarged/transferred to a long term care hospital.                                                             39\nLeft AMA                                                                                                         36\nHospice / home                                                                                                   28\nHospice / medical facility                                                                                       22\nDischarged/transferred to home under care of Home IV provider                                                    12\nDischarged/transferred/referred to a psychiatric hospital of a psychiatric distinct part unit of a hospital      11\nDischarged/transferred within this institution to Medicare approved swing bed                                     3\nAdmitted as an inpatient to this hospital                                                                         2\nDischarged/transferred/referred to this institution for outpatient services                                       1\nDischarged/transferred/referred another institution for outpatient services                                       1\nName: count, dtype: int64"
     },
     "execution_count": 359,
     "metadata": {},
     "output_type": "execute_result"
    }
   ],
   "source": [
    "full_train_data.discharge_disposition_id.value_counts(dropna=False)"
   ],
   "metadata": {
    "collapsed": false,
    "pycharm": {
     "name": "#%%\n"
    }
   },
   "id": "7d23fc6544e22ce6"
  },
  {
   "cell_type": "markdown",
   "source": [
    "Next, admission_source_id. I replace \"Not Mapped\" with NA.\n",
    "Additionally, I do not believe it is possible to impute NAs in any reasonable way. The distribution is relatively split across the two most prevalent categories, and there is no way to convert to numeric values."
   ],
   "metadata": {
    "collapsed": false,
    "pycharm": {
     "name": "#%% md\n"
    }
   },
   "id": "1415e6542f1b4d60"
  },
  {
   "cell_type": "code",
   "execution_count": 360,
   "outputs": [],
   "source": [
    "full_train_data.admission_source_id = full_train_data.admission_source_id.replace(\"Not Mapped\", np.nan)\n",
    "full_train_data.admission_source_id = full_train_data.admission_source_id.replace(\"Not Available\", np.nan)"
   ],
   "metadata": {
    "collapsed": false,
    "pycharm": {
     "name": "#%%\n"
    },
    "ExecuteTime": {
     "end_time": "2024-04-04T00:35:23.058108Z",
     "start_time": "2024-04-04T00:35:23.050319Z"
    }
   },
   "id": "4091a6327ff3ad18"
  },
  {
   "cell_type": "code",
   "outputs": [
    {
     "data": {
      "text/plain": "admission_source_id\nEmergency Room                                    3957\nPhysician Referral                                2401\nTransfer from a hospital                           328\nTransfer from another health care facility         271\nClinic Referral                                    145\nTransfer from a Skilled Nursing Facility (SNF)      93\nHMO Referral                                        22\nCourt/Law Enforcement                                1\nName: count, dtype: int64"
     },
     "execution_count": 361,
     "metadata": {},
     "output_type": "execute_result"
    }
   ],
   "source": [
    "full_train_data.admission_source_id.value_counts()"
   ],
   "metadata": {
    "collapsed": false,
    "ExecuteTime": {
     "end_time": "2024-04-04T00:35:23.122957Z",
     "start_time": "2024-04-04T00:35:23.112876Z"
    },
    "pycharm": {
     "name": "#%%\n"
    }
   },
   "id": "773e644b7b0570dc",
   "execution_count": 361
  },
  {
   "cell_type": "markdown",
   "source": [
    "Next, payer_code. \"?\" have already been read as NAs by my read_csv command.\n",
    "\n",
    "My intuition for imputing NAs is that \"?\" for payer_code may imply patients who either do not have a way to pay right away, or who cannot pay at all. This may correlate with socioeconomic status, an external variable that may influence readmission. However, I cannot confirm this, and it may be a risk to impute NAs (or designate them their own category) when they represent the bulk of the data. I *try* imputing NAs as their own category, but I may change this later and compare the effect on model performance."
   ],
   "metadata": {
    "collapsed": false,
    "pycharm": {
     "name": "#%% md\n"
    }
   },
   "id": "2495e8030997282d"
  },
  {
   "cell_type": "code",
   "execution_count": 362,
   "outputs": [
    {
     "data": {
      "text/plain": "payer_code\nNaN    4302\nMC     1988\nHM      364\nBC      300\nSP      242\nUN      221\nMD      189\nCP      159\nCM       88\nDM       46\nOG       39\nPO       34\nWC        9\nSI        8\nOT        6\nCH        5\nName: count, dtype: int64"
     },
     "execution_count": 362,
     "metadata": {},
     "output_type": "execute_result"
    }
   ],
   "source": [
    "#full_train_data.payer_code = full_train_data.payer_code.fillna(\"No_code\")\n",
    "full_train_data.payer_code.value_counts(dropna=False)"
   ],
   "metadata": {
    "collapsed": false,
    "pycharm": {
     "name": "#%%\n"
    },
    "ExecuteTime": {
     "end_time": "2024-04-04T00:35:23.177534Z",
     "start_time": "2024-04-04T00:35:23.166934Z"
    }
   },
   "id": "a3c8203fce91345b"
  },
  {
   "cell_type": "markdown",
   "source": [
    "Next, medical_specialty. I replace obvious NAs. I also do not believe it is possible to simply impute NAs, as the data is categorical and NAs represent a sizable chunk of the data.\n",
    "\n",
    "Given more time, it might be possible to do so using information from the \"ai_response\" column.\n",
    "\n",
    "I do not change any other outliers or 'suspicious' values, as I am unsure if or how they should be recategorized. e.g. \"Surgery-PlasticwithinHeadandNeck\"."
   ],
   "metadata": {
    "collapsed": false,
    "pycharm": {
     "name": "#%% md\n"
    }
   },
   "id": "3076d8f28b397eb9"
  },
  {
   "cell_type": "code",
   "execution_count": 363,
   "outputs": [],
   "source": [
    "# Replacing obvious NA values\n",
    "full_train_data.medical_specialty = full_train_data.medical_specialty.replace(\"PhysicianNotFound\", np.nan)"
   ],
   "metadata": {
    "collapsed": false,
    "pycharm": {
     "name": "#%%\n"
    },
    "ExecuteTime": {
     "end_time": "2024-04-04T00:35:23.244071Z",
     "start_time": "2024-04-04T00:35:23.236433Z"
    }
   },
   "id": "f49784958cfcc301"
  },
  {
   "cell_type": "markdown",
   "source": [
    "Additionally, I prep medical_specialty for one-hot encoding by setting all but the 10 most common categories to NA. These also happen to be the only categories which each account for more than 1% of the data."
   ],
   "metadata": {
    "collapsed": false,
    "pycharm": {
     "name": "#%% md\n"
    }
   },
   "id": "1a1c07facf427448"
  },
  {
   "cell_type": "code",
   "execution_count": 364,
   "outputs": [],
   "source": [
    "cols_to_keep = (\"InternalMedicine\", \"Family/GeneralPractice\", \"Cardiology\",\"Emergency/Trauma\", \"Surgery-General\", \"Orthopedics-Reconstructive\", \"Nephrology\", \"Psychiatry\", \"Orthopedics\", \"ObstetricsandGynecology\")\n",
    "\n",
    "full_train_data.loc[~full_train_data[\"medical_specialty\"].isin(cols_to_keep), \"medical_specialty\"] = np.nan"
   ],
   "metadata": {
    "collapsed": false,
    "pycharm": {
     "name": "#%%\n"
    },
    "ExecuteTime": {
     "end_time": "2024-04-04T00:35:23.290660Z",
     "start_time": "2024-04-04T00:35:23.282539Z"
    }
   },
   "id": "82bc07d2232de987"
  },
  {
   "cell_type": "code",
   "execution_count": 365,
   "outputs": [
    {
     "data": {
      "text/plain": "medical_specialty\nNaN                           3997\nInternalMedicine              1540\nFamily/GeneralPractice         685\nCardiology                     559\nEmergency/Trauma               395\nSurgery-General                271\nOrthopedics-Reconstructive     133\nNephrology                     129\nPsychiatry                     104\nOrthopedics                    102\nObstetricsandGynecology         85\nName: count, dtype: int64"
     },
     "execution_count": 365,
     "metadata": {},
     "output_type": "execute_result"
    }
   ],
   "source": [
    "full_train_data.medical_specialty.value_counts(dropna=False)"
   ],
   "metadata": {
    "collapsed": false,
    "pycharm": {
     "name": "#%%\n"
    },
    "ExecuteTime": {
     "end_time": "2024-04-04T00:35:23.377016Z",
     "start_time": "2024-04-04T00:35:23.367321Z"
    }
   },
   "id": "6b981cb4612aca93"
  },
  {
   "cell_type": "markdown",
   "source": [
    "Next, max_glu_serum. I would consider this ordinal data, but not interval data, as I cannot confirm that the distance between \"Norm\" and \">200\" is equal to the distance between \">200\" and \">300\". So I will One-Hot encode this variable at the end of this section, instead of label encoding.\n",
    "Assuming these are readings for blood glucose serum test, I'm assuming it is only administered when there is a reasonable chance that the patient's blood glucose might be abnormal. As such, it may be reasonable to impute NAs as \"Norm\". However, I wound up making NAs their own category, since information may be gleaned from the fact that a doctor thought administration of a test was necessary at all, even if blood glucose came back normal."
   ],
   "metadata": {
    "collapsed": false,
    "pycharm": {
     "name": "#%% md\n"
    }
   },
   "id": "f46beadbf7142df6"
  },
  {
   "cell_type": "code",
   "execution_count": 366,
   "outputs": [
    {
     "data": {
      "text/plain": "max_glu_serum\nNo_test    7466\nNorm        271\n>200        160\n>300        103\nName: count, dtype: int64"
     },
     "execution_count": 366,
     "metadata": {},
     "output_type": "execute_result"
    }
   ],
   "source": [
    "full_train_data.max_glu_serum = full_train_data.max_glu_serum.fillna(\"No_test\")\n",
    "full_train_data.max_glu_serum.value_counts(dropna=False)"
   ],
   "metadata": {
    "collapsed": false,
    "pycharm": {
     "name": "#%%\n"
    },
    "ExecuteTime": {
     "end_time": "2024-04-04T00:35:23.440435Z",
     "start_time": "2024-04-04T00:35:23.429009Z"
    }
   },
   "id": "ccb894a4be52828d"
  },
  {
   "cell_type": "markdown",
   "source": [
    "Next, \"Metformin\" through \"Insulin\" appear to be ordinal, but not interval, same problem as above. I will one-hot encode these later. I drop acetohexamide, troglitazone, examide, and citoglipton because they contain only one value."
   ],
   "metadata": {
    "collapsed": false,
    "pycharm": {
     "name": "#%% md\n"
    }
   },
   "id": "6afb62c04f1fde6f"
  },
  {
   "cell_type": "code",
   "execution_count": 367,
   "outputs": [
    {
     "name": "stdout",
     "output_type": "stream",
     "text": [
      "metformin : 4\n",
      "repaglinide : 4\n",
      "nateglinide : 4\n",
      "chlorpropamide : 3\n",
      "glimepiride : 4\n",
      "acetohexamide : 1\n",
      "glipizide : 4\n",
      "glyburide : 4\n",
      "tolbutamide : 2\n",
      "pioglitazone : 4\n"
     ]
    }
   ],
   "source": [
    "for col in full_train_data.columns[11:21]:\n",
    "    print(col,\":\", len(full_train_data[col].unique()))"
   ],
   "metadata": {
    "collapsed": false,
    "pycharm": {
     "name": "#%%\n"
    },
    "ExecuteTime": {
     "end_time": "2024-04-04T00:35:23.518795Z",
     "start_time": "2024-04-04T00:35:23.506538Z"
    }
   },
   "id": "a59ba37ea3635262"
  },
  {
   "cell_type": "code",
   "execution_count": 368,
   "outputs": [],
   "source": [
    "full_train_data = full_train_data.drop([\"acetohexamide\",\n",
    "                                        \"troglitazone\",\n",
    "                                        \"examide\",\n",
    "                                        \"citoglipton\"],\n",
    "                                       axis=1)"
   ],
   "metadata": {
    "collapsed": false,
    "pycharm": {
     "name": "#%%\n"
    },
    "ExecuteTime": {
     "end_time": "2024-04-04T00:35:23.589140Z",
     "start_time": "2024-04-04T00:35:23.577526Z"
    }
   },
   "id": "cd622d1db519637c"
  },
  {
   "cell_type": "markdown",
   "source": [
    "Next, I drop nateglinide, chlorpropamide, tolbutamide, acarbose, miglitol, and tolazamide, because the \"No\" class represents 99% or more of records. 99% is an arbitrary threshold; realistically, I could probably drop even more of these columns."
   ],
   "metadata": {
    "collapsed": false,
    "pycharm": {
     "name": "#%% md\n"
    }
   },
   "id": "aba6a129309ac588"
  },
  {
   "cell_type": "code",
   "execution_count": 369,
   "outputs": [
    {
     "name": "stdout",
     "output_type": "stream",
     "text": [
      "metformin\n",
      "No        6423\n",
      "Steady    1444\n",
      "Up          95\n",
      "Down        38\n",
      "Name: count, dtype: int64 \n",
      "\n",
      "repaglinide\n",
      "No        7892\n",
      "Steady      92\n",
      "Up          12\n",
      "Down         4\n",
      "Name: count, dtype: int64 \n",
      "\n",
      "nateglinide\n",
      "No        7957\n",
      "Steady      41\n",
      "Down         1\n",
      "Up           1\n",
      "Name: count, dtype: int64 \n",
      "\n",
      "chlorpropamide\n",
      "No        7989\n",
      "Steady      10\n",
      "Up           1\n",
      "Name: count, dtype: int64 \n",
      "\n",
      "glimepiride\n",
      "No        7605\n",
      "Steady     360\n",
      "Up          27\n",
      "Down         8\n",
      "Name: count, dtype: int64 \n",
      "\n",
      "glipizide\n",
      "No        6946\n",
      "Steady     940\n",
      "Up          75\n",
      "Down        39\n",
      "Name: count, dtype: int64 \n",
      "\n",
      "glyburide\n",
      "No        7067\n",
      "Steady     804\n",
      "Up          81\n",
      "Down        48\n",
      "Name: count, dtype: int64 \n",
      "\n",
      "tolbutamide\n",
      "No        7998\n",
      "Steady       2\n",
      "Name: count, dtype: int64 \n",
      "\n",
      "pioglitazone\n",
      "No        7446\n",
      "Steady     527\n",
      "Up          20\n",
      "Down         7\n",
      "Name: count, dtype: int64 \n",
      "\n",
      "rosiglitazone\n",
      "No        7393\n",
      "Steady     580\n",
      "Up          19\n",
      "Down         8\n",
      "Name: count, dtype: int64 \n",
      "\n",
      "acarbose\n",
      "No        7975\n",
      "Steady      24\n",
      "Up           1\n",
      "Name: count, dtype: int64 \n",
      "\n",
      "miglitol\n",
      "No        7996\n",
      "Steady       2\n",
      "Up           1\n",
      "Down         1\n",
      "Name: count, dtype: int64 \n",
      "\n",
      "tolazamide\n",
      "No        7996\n",
      "Steady       4\n",
      "Name: count, dtype: int64 \n",
      "\n"
     ]
    }
   ],
   "source": [
    "for col in full_train_data.columns[11:24]:\n",
    "    print(full_train_data[col].value_counts(),\"\\n\")"
   ],
   "metadata": {
    "collapsed": false,
    "pycharm": {
     "name": "#%%\n"
    },
    "ExecuteTime": {
     "end_time": "2024-04-04T00:35:23.662883Z",
     "start_time": "2024-04-04T00:35:23.645044Z"
    }
   },
   "id": "3ac401bf7aed4660"
  },
  {
   "cell_type": "code",
   "execution_count": 370,
   "outputs": [],
   "source": [
    "full_train_data = full_train_data.drop([\"nateglinide\",\n",
    "                                        \"chlorpropamide\",\n",
    "                                        \"tolbutamide\",\n",
    "                                        \"acarbose\",\n",
    "                                        \"miglitol\",\n",
    "                                        \"tolazamide\"],\n",
    "                                       axis=1)"
   ],
   "metadata": {
    "collapsed": false,
    "pycharm": {
     "name": "#%%\n"
    },
    "ExecuteTime": {
     "end_time": "2024-04-04T00:35:23.701518Z",
     "start_time": "2024-04-04T00:35:23.692692Z"
    }
   },
   "id": "12e3fcfa676a0695"
  },
  {
   "cell_type": "markdown",
   "source": [
    "Next, I drop \"glyburide.metformin\" and \"glipizide.metformin\" because nearly all values are \"no\", and I drop \"glimepiride.pioglitazone\" through \"metformin.pioglitazone\" because they *only* contain \"no\" values.\n"
   ],
   "metadata": {
    "collapsed": false,
    "pycharm": {
     "name": "#%% md\n"
    }
   },
   "id": "98b0a01a92b2175f"
  },
  {
   "cell_type": "code",
   "execution_count": 371,
   "outputs": [
    {
     "name": "stdout",
     "output_type": "stream",
     "text": [
      "glyburide.metformin : 4\n",
      "glipizide.metformin : 2\n",
      "glimepiride.pioglitazone : 1\n",
      "metformin.rosiglitazone : 1\n",
      "metformin.pioglitazone : 1\n"
     ]
    }
   ],
   "source": [
    "#Print number of unique values\n",
    "for col in full_train_data.columns[19:24]:\n",
    "    print(col,\":\", len(full_train_data[col].unique()))"
   ],
   "metadata": {
    "collapsed": false,
    "pycharm": {
     "name": "#%%\n"
    },
    "ExecuteTime": {
     "end_time": "2024-04-04T00:35:23.765907Z",
     "start_time": "2024-04-04T00:35:23.755110Z"
    }
   },
   "id": "6815338ef137abb3"
  },
  {
   "cell_type": "code",
   "execution_count": 372,
   "outputs": [
    {
     "data": {
      "text/plain": "glyburide.metformin\nNo        7955\nSteady      43\nDown         1\nUp           1\nName: count, dtype: int64"
     },
     "execution_count": 372,
     "metadata": {},
     "output_type": "execute_result"
    }
   ],
   "source": [
    "full_train_data.value_counts(\"glyburide.metformin\")\n",
    "# 99.43% of the data is \"no\"."
   ],
   "metadata": {
    "collapsed": false,
    "pycharm": {
     "name": "#%%\n"
    },
    "ExecuteTime": {
     "end_time": "2024-04-04T00:35:23.830514Z",
     "start_time": "2024-04-04T00:35:23.820388Z"
    }
   },
   "id": "a047c601e525c8f3"
  },
  {
   "cell_type": "code",
   "execution_count": 373,
   "outputs": [
    {
     "data": {
      "text/plain": "glipizide.metformin\nNo        7998\nSteady       2\nName: count, dtype: int64"
     },
     "execution_count": 373,
     "metadata": {},
     "output_type": "execute_result"
    }
   ],
   "source": [
    "full_train_data.value_counts(\"glipizide.metformin\")"
   ],
   "metadata": {
    "collapsed": false,
    "pycharm": {
     "name": "#%%\n"
    },
    "ExecuteTime": {
     "end_time": "2024-04-04T00:35:23.874421Z",
     "start_time": "2024-04-04T00:35:23.863730Z"
    }
   },
   "id": "48997e55711518fa"
  },
  {
   "cell_type": "code",
   "execution_count": 374,
   "outputs": [],
   "source": [
    "full_train_data = full_train_data.drop([\"glyburide.metformin\",\n",
    "                                        \"glipizide.metformin\",\n",
    "                                        \"glimepiride.pioglitazone\",\n",
    "                                        \"metformin.rosiglitazone\",\n",
    "                                        \"metformin.pioglitazone\"],\n",
    "                                       axis=1)"
   ],
   "metadata": {
    "collapsed": false,
    "pycharm": {
     "name": "#%%\n"
    },
    "ExecuteTime": {
     "end_time": "2024-04-04T00:35:24.003249Z",
     "start_time": "2024-04-04T00:35:23.994054Z"
    }
   },
   "id": "24f8f3e137a76e35"
  },
  {
   "cell_type": "markdown",
   "source": [
    "\"change\", \"diabetes_med\" and \"readmitted\" I encode as a binary. This is both to ensure it reads as a 0-1 or true-false to my model(s), and for interpretability. I also encode 'change' and 'diabetesMed\" as objects to simply include them in the categorical set for OneHotEncoding later.\n",
    "\n",
    "\"readmitted\" I pull out here to make my target vector"
   ],
   "metadata": {
    "collapsed": false,
    "pycharm": {
     "name": "#%% md\n"
    }
   },
   "id": "bfd0f63e8ab0b62c"
  },
  {
   "cell_type": "code",
   "execution_count": 417,
   "outputs": [],
   "source": [
    "full_train_data.change = full_train_data.change.replace(\"Ch\", 1)\n",
    "full_train_data.change = full_train_data.change.replace(\"No\", 0)\n",
    "full_train_data.change = full_train_data.change.astype(\"object\")\n",
    "\n",
    "\n",
    "full_train_data.diabetesMed = full_train_data.diabetesMed.replace(\"Yes\", 1)\n",
    "full_train_data.diabetesMed = full_train_data.diabetesMed.replace(\"No\", 0)\n",
    "full_train_data.diabetesMed = full_train_data.diabetesMed.astype(\"object\")\n",
    "\n",
    "full_train_data.readmitted = full_train_data.readmitted.replace(True, 1)\n",
    "full_train_data.readmitted = full_train_data.readmitted.replace(False, 0)\n",
    "full_train_data_targetVector = np.array(full_train_data.readmitted)"
   ],
   "metadata": {
    "collapsed": false,
    "pycharm": {
     "name": "#%%\n"
    },
    "ExecuteTime": {
     "end_time": "2024-04-04T00:35:24.041637Z",
     "start_time": "2024-04-04T00:35:24.020595Z"
    }
   },
   "id": "7a53a0177acb9eb9"
  },
  {
   "cell_type": "markdown",
   "source": [
    "\"2nd_diag\" and \"3rd_diag\". As stated above, I believe these may be diagnosis codes. This may be important information for predicting readmission. I can't impute NAs and I consider them as categorical. Below I ensure these columns are set as strings, rather than floats. There is no way to reasonably one-hot encode without either a) massively expanding the dimensionality of our data by 390 columns (nunique values) or b) cutting several categories which still contain many patients.  "
   ],
   "metadata": {
    "collapsed": false,
    "pycharm": {
     "name": "#%% md\n"
    }
   },
   "id": "e95756ca7a009910"
  },
  {
   "cell_type": "code",
   "execution_count": 419,
   "outputs": [],
   "source": [
    "full_train_data[\"2nd_diag\"] = full_train_data[\"2nd_diag\"].astype(str)\n",
    "full_train_data[\"3rd_diag\"] = full_train_data[\"3rd_diag\"].astype(str)"
   ],
   "metadata": {
    "collapsed": false,
    "pycharm": {
     "name": "#%%\n"
    },
    "ExecuteTime": {
     "end_time": "2024-04-04T00:35:24.144386Z",
     "start_time": "2024-04-04T00:35:24.137982Z"
    }
   },
   "id": "c0802d43043eea6c"
  },
  {
   "cell_type": "code",
   "execution_count": 420,
   "outputs": [],
   "source": [
    "# It is not possible for a column to have more than one datatype. I re-confirm that my index has been set correctly and that no glitches have occurred in type processing (by the absense of errors) in the below.\n",
    "for j in (\"2nd_diag\", \"3rd_diag\"):\n",
    "    for i in np.arange(len(full_train_data)):\n",
    "        if type(full_train_data[j][i]) != str:\n",
    "            print(j,i,type(full_train_data[j][i]))"
   ],
   "metadata": {
    "collapsed": false,
    "pycharm": {
     "name": "#%%\n"
    },
    "ExecuteTime": {
     "end_time": "2024-04-04T00:35:24.307353Z",
     "start_time": "2024-04-04T00:35:24.220474Z"
    }
   },
   "id": "83155a0322964e79"
  },
  {
   "cell_type": "code",
   "outputs": [],
   "source": [
    "# I set these aside as their own set, I may use them in their own model, or encode them with a different method than that used for the remainder of the categorical data.\n",
    "diags_full_train_data = full_train_data[[\"2nd_diag\", \"3rd_diag\"]]"
   ],
   "metadata": {
    "collapsed": false,
    "ExecuteTime": {
     "end_time": "2024-04-04T00:35:24.318467Z",
     "start_time": "2024-04-04T00:35:24.310471Z"
    },
    "pycharm": {
     "name": "#%%\n"
    }
   },
   "id": "dc89b38be5f44057",
   "execution_count": 421
  },
  {
   "cell_type": "code",
   "execution_count": 422,
   "outputs": [
    {
     "data": {
      "text/plain": "     2nd_diag 3rd_diag\n0         414      428\n1         410      414\n2         537      786\n3         425      428\n4         682      998\n...       ...      ...\n7995      276      584\n7996      309      496\n7997      428      786\n7998      401      493\n7999       38      496\n\n[8000 rows x 2 columns]",
      "text/html": "<div>\n<style scoped>\n    .dataframe tbody tr th:only-of-type {\n        vertical-align: middle;\n    }\n\n    .dataframe tbody tr th {\n        vertical-align: top;\n    }\n\n    .dataframe thead th {\n        text-align: right;\n    }\n</style>\n<table border=\"1\" class=\"dataframe\">\n  <thead>\n    <tr style=\"text-align: right;\">\n      <th></th>\n      <th>2nd_diag</th>\n      <th>3rd_diag</th>\n    </tr>\n  </thead>\n  <tbody>\n    <tr>\n      <th>0</th>\n      <td>414</td>\n      <td>428</td>\n    </tr>\n    <tr>\n      <th>1</th>\n      <td>410</td>\n      <td>414</td>\n    </tr>\n    <tr>\n      <th>2</th>\n      <td>537</td>\n      <td>786</td>\n    </tr>\n    <tr>\n      <th>3</th>\n      <td>425</td>\n      <td>428</td>\n    </tr>\n    <tr>\n      <th>4</th>\n      <td>682</td>\n      <td>998</td>\n    </tr>\n    <tr>\n      <th>...</th>\n      <td>...</td>\n      <td>...</td>\n    </tr>\n    <tr>\n      <th>7995</th>\n      <td>276</td>\n      <td>584</td>\n    </tr>\n    <tr>\n      <th>7996</th>\n      <td>309</td>\n      <td>496</td>\n    </tr>\n    <tr>\n      <th>7997</th>\n      <td>428</td>\n      <td>786</td>\n    </tr>\n    <tr>\n      <th>7998</th>\n      <td>401</td>\n      <td>493</td>\n    </tr>\n    <tr>\n      <th>7999</th>\n      <td>38</td>\n      <td>496</td>\n    </tr>\n  </tbody>\n</table>\n<p>8000 rows × 2 columns</p>\n</div>"
     },
     "execution_count": 422,
     "metadata": {},
     "output_type": "execute_result"
    }
   ],
   "source": [
    "diags_full_train_data"
   ],
   "metadata": {
    "collapsed": false,
    "pycharm": {
     "name": "#%%\n"
    }
   },
   "id": "e483ab721ed79702"
  },
  {
   "cell_type": "code",
   "execution_count": 423,
   "outputs": [],
   "source": [
    "ordinal_encoder = skl.preprocessing.OrdinalEncoder(handle_unknown='use_encoded_value',\n",
    "                                                   unknown_value=np.nan,\n",
    "                                                   categories='auto')\n",
    "diags_full_train_data_lenc = ordinal_encoder.fit_transform(diags_full_train_data)"
   ],
   "metadata": {
    "collapsed": false,
    "pycharm": {
     "name": "#%%\n"
    }
   },
   "id": "9867ddd542733173"
  },
  {
   "cell_type": "code",
   "execution_count": 424,
   "outputs": [
    {
     "data": {
      "text/plain": "array([  0.,   1.,   2.,   3.,   4.,   5.,   6.,   7.,   8.,   9.,  10.,\n        11.,  12.,  13.,  14.,  15.,  16.,  17.,  18.,  19.,  20.,  21.,\n        22.,  23.,  24.,  25.,  26.,  27.,  28.,  29.,  30.,  31.,  32.,\n        33.,  34.,  35.,  36.,  37.,  38.,  39.,  40.,  41.,  42.,  43.,\n        44.,  45.,  46.,  47.,  48.,  49.,  50.,  51.,  52.,  53.,  54.,\n        55.,  56.,  57.,  58.,  59.,  60.,  61.,  62.,  63.,  64.,  65.,\n        66.,  67.,  68.,  69.,  70.,  71.,  72.,  73.,  74.,  75.,  76.,\n        77.,  78.,  79.,  80.,  81.,  82.,  83.,  84.,  85.,  86.,  87.,\n        88.,  89.,  90.,  91.,  92.,  93.,  94.,  95.,  96.,  97.,  98.,\n        99., 100., 101., 102., 103., 104., 105., 106., 107., 108., 109.,\n       110., 111., 112., 113., 114., 115., 116., 117., 118., 119., 120.,\n       121., 122., 123., 124., 125., 126., 127., 128., 129., 130., 131.,\n       132., 133., 134., 135., 136., 137., 138., 139., 140., 141., 142.,\n       143., 144., 145., 146., 147., 148., 149., 150., 151., 152., 153.,\n       154., 155., 156., 157., 158., 159., 160., 161., 162., 163., 164.,\n       165., 166., 167., 168., 169., 170., 171., 172., 173., 174., 175.,\n       176., 177., 178., 179., 180., 181., 182., 183., 184., 185., 186.,\n       187., 188., 189., 190., 191., 192., 193., 194., 195., 196., 197.,\n       198., 199., 200., 201., 202., 203., 204., 205., 206., 207., 208.,\n       209., 210., 211., 212., 213., 214., 215., 216., 217., 218., 219.,\n       220., 221., 222., 223., 224., 225., 226., 227., 228., 229., 230.,\n       231., 232., 233., 234., 235., 236., 237., 238., 239., 240., 241.,\n       242., 243., 244., 245., 246., 247., 248., 249., 250., 251., 252.,\n       253., 254., 255., 256., 257., 258., 259., 260., 261., 262., 263.,\n       264., 265., 266., 267., 268., 269., 270., 271., 272., 273., 274.,\n       275., 276., 277., 278., 279., 280., 281., 282., 283., 284., 285.,\n       286., 287., 288., 289., 290., 291., 292., 293., 294., 295., 296.,\n       297., 298., 299., 300., 301., 302., 303., 304., 305., 306., 307.,\n       308., 309., 310., 311., 312., 313., 314., 315., 316., 317., 318.,\n       319., 320., 321., 322., 323., 324., 325., 326., 327., 328., 329.,\n       330., 331., 332., 333., 334., 335., 336., 337., 338., 339., 340.,\n       341., 342., 343., 344., 345., 346., 347., 348., 349., 350., 351.,\n       352., 353., 354., 355., 356., 357., 358., 359., 360., 361., 362.,\n       363., 364., 365., 366., 367., 368., 369., 370., 371., 372., 373.,\n       374., 375., 376., 377., 378., 379., 380., 381., 382., 383., 384.,\n       385., 386., 387., 388., 389., 390., 391., 392., 393., 394., 395.,\n       396., 397., 398., 399., 400., 401., 402., 403., 404., 405., 406.,\n       407., 408., 409., 410., 411., 412., 413., 414., 415., 416., 417.,\n       418., 419., 420., 421., 422., 423., 424.])"
     },
     "execution_count": 424,
     "metadata": {},
     "output_type": "execute_result"
    }
   ],
   "source": [
    "np.unique(diags_full_train_data_lenc)"
   ],
   "metadata": {
    "collapsed": false,
    "pycharm": {
     "name": "#%%\n"
    }
   },
   "id": "497c7bfdb8935223"
  },
  {
   "cell_type": "markdown",
   "source": [
    "My biggest lingering concern is how to encode these categorical variables. On one hand, multi-label encoding could cause my models to misinterpret categorical data as having an ordered, ratio relationship; on the other, one-hot encoding would explode the number of columns given the number of categories and categorical variables I have, possibly leading to high-dimensionality problems."
   ],
   "metadata": {
    "collapsed": false,
    "pycharm": {
     "name": "#%% md\n"
    }
   },
   "id": "ac73cdd35ab861a8"
  },
  {
   "cell_type": "code",
   "execution_count": 425,
   "outputs": [
    {
     "name": "stdout",
     "output_type": "stream",
     "text": [
      "discharge_disposition_id : 18\n",
      "admission_source_id : 9\n",
      "payer_code : 16\n",
      "medical_specialty : 11\n",
      "max_glu_serum : 4\n",
      "metformin : 4\n",
      "repaglinide : 4\n",
      "glimepiride : 4\n",
      "glipizide : 4\n",
      "glyburide : 4\n",
      "pioglitazone : 4\n",
      "rosiglitazone : 4\n",
      "insulin : 4\n",
      "change : 2\n",
      "diabetesMed : 2\n",
      "Intended OneHot cats:  88\n"
     ]
    }
   ],
   "source": [
    "Cat_full_train_data = full_train_data[full_train_data.dtypes[full_train_data.dtypes == \"object\"].index[0:15]].copy()\n",
    "\n",
    "total_cols = 0\n",
    "\n",
    "for col in Cat_full_train_data.columns:\n",
    "    total_cols += Cat_full_train_data[col].nunique()\n",
    "    print(col,\":\", len(Cat_full_train_data[col].unique()))\n",
    "print(\"Intended OneHot cats: \", total_cols - 2)"
   ],
   "metadata": {
    "collapsed": false,
    "pycharm": {
     "name": "#%%\n"
    },
    "ExecuteTime": {
     "end_time": "2024-04-04T00:35:24.401492Z",
     "start_time": "2024-04-04T00:35:24.376277Z"
    }
   },
   "id": "f6096f493e892396"
  },
  {
   "cell_type": "markdown",
   "source": [
    "OneHotEncoder seems to have no simple method for handling NANs and plans to implement such a feature have not been followed up since 2020:\n",
    "https://github.com/scikit-learn/scikit-learn/issues/11996\n",
    "So, I will have to manually drop these columns from the sparse matrix."
   ],
   "metadata": {
    "collapsed": false,
    "pycharm": {
     "name": "#%% md\n"
    }
   },
   "id": "bf10e4b0a76ad4e2"
  },
  {
   "cell_type": "code",
   "outputs": [
    {
     "data": {
      "text/plain": "array(['discharge_disposition_id_Admitted as an inpatient to this hospital',\n       'discharge_disposition_id_Discharged to home',\n       'discharge_disposition_id_Discharged/transferred to ICF',\n       'discharge_disposition_id_Discharged/transferred to SNF',\n       'discharge_disposition_id_Discharged/transferred to a long term care hospital.',\n       'discharge_disposition_id_Discharged/transferred to another  type of inpatient care institution',\n       'discharge_disposition_id_Discharged/transferred to another rehab fac including rehab units of a hospital.',\n       'discharge_disposition_id_Discharged/transferred to another short term hospital',\n       'discharge_disposition_id_Discharged/transferred to home under care of Home IV provider',\n       'discharge_disposition_id_Discharged/transferred to home with home health service',\n       'discharge_disposition_id_Discharged/transferred within this institution to Medicare approved swing bed',\n       'discharge_disposition_id_Discharged/transferred/referred another institution for outpatient services',\n       'discharge_disposition_id_Discharged/transferred/referred to a psychiatric hospital of a psychiatric distinct part unit of a hospital',\n       'discharge_disposition_id_Discharged/transferred/referred to this institution for outpatient services',\n       'discharge_disposition_id_Hospice / home',\n       'discharge_disposition_id_Hospice / medical facility',\n       'discharge_disposition_id_Left AMA',\n       'discharge_disposition_id_nan',\n       'admission_source_id_Clinic Referral',\n       'admission_source_id_Court/Law Enforcement',\n       'admission_source_id_Emergency Room',\n       'admission_source_id_HMO Referral',\n       'admission_source_id_Physician Referral',\n       'admission_source_id_Transfer from a Skilled Nursing Facility (SNF)',\n       'admission_source_id_Transfer from a hospital',\n       'admission_source_id_Transfer from another health care facility',\n       'admission_source_id_nan', 'payer_code_BC', 'payer_code_CH',\n       'payer_code_CM', 'payer_code_CP', 'payer_code_DM', 'payer_code_HM',\n       'payer_code_MC', 'payer_code_MD', 'payer_code_OG', 'payer_code_OT',\n       'payer_code_PO', 'payer_code_SI', 'payer_code_SP', 'payer_code_UN',\n       'payer_code_WC', 'payer_code_nan', 'medical_specialty_Cardiology',\n       'medical_specialty_Emergency/Trauma',\n       'medical_specialty_Family/GeneralPractice',\n       'medical_specialty_InternalMedicine',\n       'medical_specialty_Nephrology',\n       'medical_specialty_ObstetricsandGynecology',\n       'medical_specialty_Orthopedics',\n       'medical_specialty_Orthopedics-Reconstructive',\n       'medical_specialty_Psychiatry',\n       'medical_specialty_Surgery-General', 'medical_specialty_nan',\n       'max_glu_serum_>200', 'max_glu_serum_>300',\n       'max_glu_serum_No_test', 'max_glu_serum_Norm', 'metformin_Down',\n       'metformin_No', 'metformin_Steady', 'metformin_Up',\n       'repaglinide_Down', 'repaglinide_No', 'repaglinide_Steady',\n       'repaglinide_Up', 'glimepiride_Down', 'glimepiride_No',\n       'glimepiride_Steady', 'glimepiride_Up', 'glipizide_Down',\n       'glipizide_No', 'glipizide_Steady', 'glipizide_Up',\n       'glyburide_Down', 'glyburide_No', 'glyburide_Steady',\n       'glyburide_Up', 'pioglitazone_Down', 'pioglitazone_No',\n       'pioglitazone_Steady', 'pioglitazone_Up', 'rosiglitazone_Down',\n       'rosiglitazone_No', 'rosiglitazone_Steady', 'rosiglitazone_Up',\n       'insulin_Down', 'insulin_No', 'insulin_Steady', 'insulin_Up',\n       'change_1', 'diabetesMed_1'], dtype=object)"
     },
     "execution_count": 426,
     "metadata": {},
     "output_type": "execute_result"
    }
   ],
   "source": [
    "ohe = skl.preprocessing.OneHotEncoder(drop='if_binary', \n",
    "                                      handle_unknown=\"ignore\",\n",
    "                                      sparse_output=False)\n",
    "ohe.fit(Cat_full_train_data)\n",
    "encCat_full_train_data = ohe.transform(Cat_full_train_data)\n",
    "ohe.get_feature_names_out()"
   ],
   "metadata": {
    "collapsed": false,
    "pycharm": {
     "name": "#%%\n"
    },
    "ExecuteTime": {
     "end_time": "2024-04-04T00:36:06.268533Z",
     "start_time": "2024-04-04T00:36:06.224370Z"
    }
   },
   "id": "1f65b9669ada9ecd",
   "execution_count": 426
  },
  {
   "cell_type": "code",
   "outputs": [
    {
     "name": "stdout",
     "output_type": "stream",
     "text": [
      "OneHotCats:  88\n"
     ]
    }
   ],
   "source": [
    "cols_to_drop = set((17,26,42,53))\n",
    "cols_to_keep = list(set(range(encCat_full_train_data.shape[1]))-cols_to_drop)\n",
    "encCat_full_train_data = encCat_full_train_data[:, cols_to_keep]\n",
    "print(\"OneHotCats: \", encCat_full_train_data.shape[1])"
   ],
   "metadata": {
    "collapsed": false,
    "ExecuteTime": {
     "end_time": "2024-04-04T00:37:06.368950Z",
     "start_time": "2024-04-04T00:37:06.353740Z"
    },
    "pycharm": {
     "name": "#%%\n"
    }
   },
   "id": "fd836d1748c02cd6",
   "execution_count": 427
  },
  {
   "cell_type": "markdown",
   "source": [
    "After experimentation at later steps, I find that one-hot encoding results in poor performance. So, I perform label encoding next (using ordinal Encoder). I will use this data with tree-based methods, so I do not have to worry as much about mistaken ordinality."
   ],
   "metadata": {
    "collapsed": false,
    "pycharm": {
     "name": "#%% md\n"
    }
   },
   "id": "87ab46ab196a2c5a"
  },
  {
   "cell_type": "code",
   "execution_count": 428,
   "outputs": [
    {
     "data": {
      "text/plain": "                               discharge_disposition_id  \\\n0                                    Discharged to home   \n1                                    Discharged to home   \n2                                    Discharged to home   \n3                                    Discharged to home   \n4                                    Discharged to home   \n...                                                 ...   \n7995                                 Discharged to home   \n7996                                 Discharged to home   \n7997                                 Discharged to home   \n7998  Discharged/transferred to home with home healt...   \n7999                      Discharged/transferred to SNF   \n\n                             admission_source_id payer_code medical_specialty  \\\n0                       Transfer from a hospital        NaN               NaN   \n1                       Transfer from a hospital        NaN               NaN   \n2                                 Emergency Room         SP  Emergency/Trauma   \n3                                 Emergency Room        NaN               NaN   \n4                             Physician Referral         MD   Surgery-General   \n...                                          ...        ...               ...   \n7995  Transfer from another health care facility         HM               NaN   \n7996                              Emergency Room         MC               NaN   \n7997                              Emergency Room         MC               NaN   \n7998                              Emergency Room        NaN               NaN   \n7999                              Emergency Room        NaN               NaN   \n\n     max_glu_serum metformin repaglinide glimepiride glipizide glyburide  \\\n0          No_test        No          No          No        No        No   \n1          No_test        No          No          No        No    Steady   \n2          No_test        No          No          No        No        No   \n3          No_test        No          No          No        No        No   \n4          No_test    Steady          No          No        No        No   \n...            ...       ...         ...         ...       ...       ...   \n7995       No_test        No          No          No        No        No   \n7996       No_test    Steady          No          No    Steady        No   \n7997       No_test        No          No          No        No        No   \n7998       No_test        No          No          No        No        No   \n7999       No_test        No          No          No        No        No   \n\n     pioglitazone rosiglitazone insulin change diabetesMed  \n0              No            No      No      0           1  \n1              No            No      No      0           1  \n2              No            No      No      0           0  \n3          Steady            No    Down      1           1  \n4              No            No      No      0           1  \n...           ...           ...     ...    ...         ...  \n7995           No            No    Down      1           1  \n7996           No            No      No      1           1  \n7997           No            No      Up      1           1  \n7998           No            No      No      0           0  \n7999           No            No  Steady      0           1  \n\n[8000 rows x 15 columns]",
      "text/html": "<div>\n<style scoped>\n    .dataframe tbody tr th:only-of-type {\n        vertical-align: middle;\n    }\n\n    .dataframe tbody tr th {\n        vertical-align: top;\n    }\n\n    .dataframe thead th {\n        text-align: right;\n    }\n</style>\n<table border=\"1\" class=\"dataframe\">\n  <thead>\n    <tr style=\"text-align: right;\">\n      <th></th>\n      <th>discharge_disposition_id</th>\n      <th>admission_source_id</th>\n      <th>payer_code</th>\n      <th>medical_specialty</th>\n      <th>max_glu_serum</th>\n      <th>metformin</th>\n      <th>repaglinide</th>\n      <th>glimepiride</th>\n      <th>glipizide</th>\n      <th>glyburide</th>\n      <th>pioglitazone</th>\n      <th>rosiglitazone</th>\n      <th>insulin</th>\n      <th>change</th>\n      <th>diabetesMed</th>\n    </tr>\n  </thead>\n  <tbody>\n    <tr>\n      <th>0</th>\n      <td>Discharged to home</td>\n      <td>Transfer from a hospital</td>\n      <td>NaN</td>\n      <td>NaN</td>\n      <td>No_test</td>\n      <td>No</td>\n      <td>No</td>\n      <td>No</td>\n      <td>No</td>\n      <td>No</td>\n      <td>No</td>\n      <td>No</td>\n      <td>No</td>\n      <td>0</td>\n      <td>1</td>\n    </tr>\n    <tr>\n      <th>1</th>\n      <td>Discharged to home</td>\n      <td>Transfer from a hospital</td>\n      <td>NaN</td>\n      <td>NaN</td>\n      <td>No_test</td>\n      <td>No</td>\n      <td>No</td>\n      <td>No</td>\n      <td>No</td>\n      <td>Steady</td>\n      <td>No</td>\n      <td>No</td>\n      <td>No</td>\n      <td>0</td>\n      <td>1</td>\n    </tr>\n    <tr>\n      <th>2</th>\n      <td>Discharged to home</td>\n      <td>Emergency Room</td>\n      <td>SP</td>\n      <td>Emergency/Trauma</td>\n      <td>No_test</td>\n      <td>No</td>\n      <td>No</td>\n      <td>No</td>\n      <td>No</td>\n      <td>No</td>\n      <td>No</td>\n      <td>No</td>\n      <td>No</td>\n      <td>0</td>\n      <td>0</td>\n    </tr>\n    <tr>\n      <th>3</th>\n      <td>Discharged to home</td>\n      <td>Emergency Room</td>\n      <td>NaN</td>\n      <td>NaN</td>\n      <td>No_test</td>\n      <td>No</td>\n      <td>No</td>\n      <td>No</td>\n      <td>No</td>\n      <td>No</td>\n      <td>Steady</td>\n      <td>No</td>\n      <td>Down</td>\n      <td>1</td>\n      <td>1</td>\n    </tr>\n    <tr>\n      <th>4</th>\n      <td>Discharged to home</td>\n      <td>Physician Referral</td>\n      <td>MD</td>\n      <td>Surgery-General</td>\n      <td>No_test</td>\n      <td>Steady</td>\n      <td>No</td>\n      <td>No</td>\n      <td>No</td>\n      <td>No</td>\n      <td>No</td>\n      <td>No</td>\n      <td>No</td>\n      <td>0</td>\n      <td>1</td>\n    </tr>\n    <tr>\n      <th>...</th>\n      <td>...</td>\n      <td>...</td>\n      <td>...</td>\n      <td>...</td>\n      <td>...</td>\n      <td>...</td>\n      <td>...</td>\n      <td>...</td>\n      <td>...</td>\n      <td>...</td>\n      <td>...</td>\n      <td>...</td>\n      <td>...</td>\n      <td>...</td>\n      <td>...</td>\n    </tr>\n    <tr>\n      <th>7995</th>\n      <td>Discharged to home</td>\n      <td>Transfer from another health care facility</td>\n      <td>HM</td>\n      <td>NaN</td>\n      <td>No_test</td>\n      <td>No</td>\n      <td>No</td>\n      <td>No</td>\n      <td>No</td>\n      <td>No</td>\n      <td>No</td>\n      <td>No</td>\n      <td>Down</td>\n      <td>1</td>\n      <td>1</td>\n    </tr>\n    <tr>\n      <th>7996</th>\n      <td>Discharged to home</td>\n      <td>Emergency Room</td>\n      <td>MC</td>\n      <td>NaN</td>\n      <td>No_test</td>\n      <td>Steady</td>\n      <td>No</td>\n      <td>No</td>\n      <td>Steady</td>\n      <td>No</td>\n      <td>No</td>\n      <td>No</td>\n      <td>No</td>\n      <td>1</td>\n      <td>1</td>\n    </tr>\n    <tr>\n      <th>7997</th>\n      <td>Discharged to home</td>\n      <td>Emergency Room</td>\n      <td>MC</td>\n      <td>NaN</td>\n      <td>No_test</td>\n      <td>No</td>\n      <td>No</td>\n      <td>No</td>\n      <td>No</td>\n      <td>No</td>\n      <td>No</td>\n      <td>No</td>\n      <td>Up</td>\n      <td>1</td>\n      <td>1</td>\n    </tr>\n    <tr>\n      <th>7998</th>\n      <td>Discharged/transferred to home with home healt...</td>\n      <td>Emergency Room</td>\n      <td>NaN</td>\n      <td>NaN</td>\n      <td>No_test</td>\n      <td>No</td>\n      <td>No</td>\n      <td>No</td>\n      <td>No</td>\n      <td>No</td>\n      <td>No</td>\n      <td>No</td>\n      <td>No</td>\n      <td>0</td>\n      <td>0</td>\n    </tr>\n    <tr>\n      <th>7999</th>\n      <td>Discharged/transferred to SNF</td>\n      <td>Emergency Room</td>\n      <td>NaN</td>\n      <td>NaN</td>\n      <td>No_test</td>\n      <td>No</td>\n      <td>No</td>\n      <td>No</td>\n      <td>No</td>\n      <td>No</td>\n      <td>No</td>\n      <td>No</td>\n      <td>Steady</td>\n      <td>0</td>\n      <td>1</td>\n    </tr>\n  </tbody>\n</table>\n<p>8000 rows × 15 columns</p>\n</div>"
     },
     "execution_count": 428,
     "metadata": {},
     "output_type": "execute_result"
    }
   ],
   "source": [
    "Cat_full_train_data"
   ],
   "metadata": {
    "collapsed": false,
    "pycharm": {
     "name": "#%%\n"
    }
   },
   "id": "4e75bd1d3e8a73ce"
  },
  {
   "cell_type": "code",
   "execution_count": 429,
   "outputs": [
    {
     "data": {
      "text/plain": "array([[ 1.,  6., nan, ...,  0.,  0.,  1.],\n       [ 1.,  6., nan, ...,  0.,  0.,  1.],\n       [ 1.,  2., 12., ...,  0.,  0.,  0.],\n       ...,\n       [ 1.,  2.,  6., ...,  3.,  1.,  1.],\n       [ 9.,  2., nan, ...,  0.,  0.,  0.],\n       [ 3.,  2., nan, ...,  2.,  0.,  1.]])"
     },
     "execution_count": 429,
     "metadata": {},
     "output_type": "execute_result"
    }
   ],
   "source": [
    "categories = [['Admitted as an inpatient to this hospital', 'Discharged to home',\n",
    "              'Discharged/transferred to ICF', 'Discharged/transferred to SNF',\n",
    "              'Discharged/transferred to a long term care hospital.',\n",
    "              'Discharged/transferred to another  type of inpatient care institution',\n",
    "              'Discharged/transferred to another rehab fac including rehab units of a hospital.',\n",
    "              'Discharged/transferred to another short term hospital',\n",
    "              'Discharged/transferred to home under care of Home IV provider',\n",
    "              'Discharged/transferred to home with home health service',\n",
    "              'Discharged/transferred within this institution to Medicare approved swing bed',\n",
    "              'Discharged/transferred/referred another institution for outpatient services',\n",
    "              'Discharged/transferred/referred to a psychiatric hospital of a psychiatric distinct part unit of a hospital',\n",
    "              'Discharged/transferred/referred to this institution for outpatient services',\n",
    "              'Hospice / home', 'Hospice / medical facility', 'Left AMA', np.nan],\n",
    "              ['Clinic Referral', 'Court/Law Enforcement', 'Emergency Room',\n",
    "               'HMO Referral', 'Physician Referral',\n",
    "               'Transfer from a Skilled Nursing Facility (SNF)',\n",
    "               'Transfer from a hospital',\n",
    "               'Transfer from another health care facility', np.nan],\n",
    "              ['BC', 'CH', 'CM', 'CP', 'DM', 'HM', 'MC', 'MD', 'OG', 'OT', 'PO',\n",
    "               'SI', 'SP', 'UN', 'WC', np.nan],\n",
    "              ['Cardiology', 'Emergency/Trauma', 'Family/GeneralPractice',\n",
    "               'InternalMedicine', 'Nephrology', 'ObstetricsandGynecology',\n",
    "               'Orthopedics', 'Orthopedics-Reconstructive', 'Psychiatry',\n",
    "               'Surgery-General', np.nan],\n",
    "              ['Norm', '>200', '>300', np.nan],\n",
    "              ['No', 'Down', 'Steady', 'Up'],\n",
    "              ['No', 'Down', 'Steady', 'Up'],\n",
    "              ['No', 'Down', 'Steady', 'Up'],\n",
    "              ['No', 'Down', 'Steady', 'Up'],\n",
    "              ['No', 'Down', 'Steady', 'Up'],\n",
    "              ['No', 'Down', 'Steady', 'Up'],\n",
    "              ['No', 'Down', 'Steady', 'Up'],\n",
    "              ['No', 'Down', 'Steady', 'Up'],\n",
    "              [0,1],\n",
    "              [0,1]]\n",
    "ordinal_encoder = skl.preprocessing.OrdinalEncoder(handle_unknown='use_encoded_value',\n",
    "                                                   unknown_value=np.nan,\n",
    "                                                   categories=categories)\n",
    "ordinal_encoder.fit(Cat_full_train_data)\n",
    "lencCat_full_train_data = ordinal_encoder.transform(Cat_full_train_data)\n",
    "lencCat_full_train_data"
   ],
   "metadata": {
    "collapsed": false,
    "pycharm": {
     "name": "#%%\n"
    }
   },
   "id": "5eb208b66eb2fe5c"
  },
  {
   "cell_type": "code",
   "execution_count": 430,
   "outputs": [
    {
     "data": {
      "text/plain": "array(['discharge_disposition_id', 'admission_source_id', 'payer_code',\n       'medical_specialty', 'max_glu_serum', 'metformin', 'repaglinide',\n       'glimepiride', 'glipizide', 'glyburide', 'pioglitazone',\n       'rosiglitazone', 'insulin', 'change', 'diabetesMed'], dtype=object)"
     },
     "execution_count": 430,
     "metadata": {},
     "output_type": "execute_result"
    }
   ],
   "source": [
    "ordinal_encoder.get_feature_names_out()"
   ],
   "metadata": {
    "collapsed": false,
    "pycharm": {
     "name": "#%%\n"
    }
   },
   "id": "cc5df46327b86725"
  },
  {
   "cell_type": "markdown",
   "source": [
    "3. Pre-processed numerical data appropriately including handling missing data and\n",
    "justified methods used. Note this may be different for each algorithm you try. [10 pts]"
   ],
   "metadata": {
    "collapsed": false,
    "pycharm": {
     "name": "#%% md\n"
    }
   },
   "id": "b7ca172bbb4ce1ec"
  },
  {
   "cell_type": "markdown",
   "source": [
    "We already confirmed above that there are no NAs in our continuous data, so no need to impute."
   ],
   "metadata": {
    "collapsed": false,
    "pycharm": {
     "name": "#%% md\n"
    }
   },
   "id": "14cfe45f19c24fce"
  },
  {
   "cell_type": "markdown",
   "source": [
    "I choose to scale the numeric columns since all the model types I will implement work better with (or require) scaled data. I will also test each of my models with the unscaled numeric data and compare performance."
   ],
   "metadata": {
    "collapsed": false,
    "pycharm": {
     "name": "#%% md\n"
    }
   },
   "id": "dd4dbcf2cb147306"
  },
  {
   "cell_type": "code",
   "outputs": [],
   "source": [
    "scaler = skl.preprocessing.StandardScaler()\n",
    "#Create new df for scaled numeric data\n",
    "num_full_train_data = full_train_data[full_train_data.dtypes[full_train_data.dtypes == \"int64\"].index[0:6]].copy()"
   ],
   "metadata": {
    "collapsed": false,
    "pycharm": {
     "name": "#%%\n"
    },
    "ExecuteTime": {
     "end_time": "2024-04-04T00:37:06.645264Z",
     "start_time": "2024-04-04T00:37:06.630165Z"
    }
   },
   "id": "e61e88d828182f6f",
   "execution_count": 431
  },
  {
   "cell_type": "markdown",
   "source": [
    "I experiment with capping outliers before scaling."
   ],
   "metadata": {
    "collapsed": false,
    "pycharm": {
     "name": "#%% md\n"
    }
   },
   "id": "80a3cf26642d926c"
  },
  {
   "cell_type": "code",
   "execution_count": 432,
   "outputs": [],
   "source": [
    "cap_values = {\n",
    "    'num_medications': num_full_train_data['num_medications'].quantile(0.99),\n",
    "    'number_outpatient': num_full_train_data['number_outpatient'].quantile(0.99),\n",
    "    'number_emergency': num_full_train_data['number_emergency'].quantile(0.99),\n",
    "}\n",
    "\n",
    "num_full_train_data_capped = num_full_train_data.copy()\n",
    "\n",
    "# Cap the values at their 99th percentile\n",
    "for column, cap_value in cap_values.items():\n",
    "    num_full_train_data_capped[column] = num_full_train_data[column].clip(upper=cap_value)"
   ],
   "metadata": {
    "collapsed": false,
    "pycharm": {
     "name": "#%%\n"
    }
   },
   "id": "4f5748499bd4365f"
  },
  {
   "cell_type": "markdown",
   "source": [
    "And finally, I scale."
   ],
   "metadata": {
    "collapsed": false,
    "pycharm": {
     "name": "#%% md\n"
    }
   },
   "id": "de6a029307890d41"
  },
  {
   "cell_type": "code",
   "execution_count": 433,
   "outputs": [],
   "source": [
    "scaledNum_full_train_data = scaler.fit_transform(num_full_train_data_capped)"
   ],
   "metadata": {
    "collapsed": false,
    "pycharm": {
     "name": "#%%\n"
    }
   },
   "id": "fb89671651906c45"
  },
  {
   "cell_type": "markdown",
   "source": [
    "While I'm at it, I also create a pairplot of my scaled numeric features for further EDA."
   ],
   "metadata": {
    "collapsed": false,
    "pycharm": {
     "name": "#%% md\n"
    }
   },
   "id": "48a4061cbdcedb39"
  },
  {
   "cell_type": "code",
   "execution_count": 434,
   "outputs": [
    {
     "data": {
      "text/plain": "<seaborn.axisgrid.PairGrid at 0x1cdee2bfdf0>"
     },
     "execution_count": 434,
     "metadata": {},
     "output_type": "execute_result"
    },
    {
     "data": {
      "text/plain": "<Figure size 1080x1080 with 42 Axes>",
      "image/png": "[encoded data removed]"
     },
     "metadata": {},
     "output_type": "display_data"
    }
   ],
   "source": [
    "# I use a for loop to quickly transform all numeric columns in a format acceptable to seaborn.\n",
    "scaler2 = skl.preprocessing.StandardScaler()\n",
    "\n",
    "numeric_columns = list(full_train_data.dtypes[full_train_data.dtypes == \"int64\"].index)[0:6]\n",
    "\n",
    "scaledNum_full_train_data2 = full_train_data[full_train_data.dtypes[full_train_data.dtypes == \"int64\"].index[0:6]].copy()\n",
    "\n",
    "for column in numeric_columns:\n",
    "    transformed_column = scaler2.fit_transform(np.array(full_train_data[column]).reshape(-1,1))\n",
    "    scaledNum_full_train_data2[column] = transformed_column\n",
    "\n",
    "sns.pairplot(scaledNum_full_train_data2)"
   ],
   "metadata": {
    "collapsed": false,
    "pycharm": {
     "name": "#%%\n"
    },
    "ExecuteTime": {
     "end_time": "2024-04-04T00:37:14.847742Z",
     "start_time": "2024-04-04T00:37:06.669564Z"
    }
   },
   "id": "2090b5746228c29f"
  },
  {
   "cell_type": "markdown",
   "source": [
    "No two remaining variables appear to be redundant or too heavily colinear. num_medications and num_lab_procedures seem to correlate somewhat, and as we will see later, they are particularly strong predictors or readmission."
   ],
   "metadata": {
    "collapsed": false,
    "pycharm": {
     "name": "#%% md\n"
    }
   },
   "id": "bc4e0c8a3db6f71d"
  },
  {
   "cell_type": "markdown",
   "source": [
    "4. Implement a model to make predictions using text data using tf-idf [20 pts]"
   ],
   "metadata": {
    "collapsed": false,
    "pycharm": {
     "name": "#%% md\n"
    }
   },
   "id": "a26afb0df2f7ec5f"
  },
  {
   "cell_type": "markdown",
   "source": [
    "Before I start:\n",
    "\n",
    "For a time there was some disagreement between SKL's roc_auc_score and other ROC AUC scoring methods. This has since been fixed, but I construct the below to perform a manual k-fold cross validation with replacement as a quick way of checking that the results of a given \"roc_auc_score\" match the framework cross-validated roc_auc.\n",
    "\n",
    "I'll continue to use my function for comparison since SKLearn's built-in cross-validation function saves outputs and will not shuffle and re-run operations on the same object with the same parameters, it will simply keep returning the same value. My function will allow me to loop over the data an arbitrary number of times, averaging to obtain a more accurate roc_auc score."
   ],
   "metadata": {
    "collapsed": false,
    "pycharm": {
     "name": "#%% md\n"
    }
   },
   "id": "7b366f514b7d1df4"
  },
  {
   "cell_type": "code",
   "execution_count": 435,
   "outputs": [],
   "source": [
    "def customCrossVal(X, y = full_train_data_targetVector, model = None, metric = skl.metrics.roc_auc_score, loops: int = 5, stratify = True, test_size = 0.2):\n",
    "    if stratify == True:\n",
    "        strat = y\n",
    "    else: strat = None\n",
    "    scores = []\n",
    "    # re-splits the data with re-shuffling & replacement\n",
    "    for loop in np.arange(loops):\n",
    "        _X_train, _X_test, _y_train, _y_test = train_test_split(\n",
    "            X,\n",
    "            y,\n",
    "            stratify=strat,\n",
    "            test_size=test_size,\n",
    "            shuffle=True)\n",
    "        model.fit(_X_train, _y_train)\n",
    "        _probs = model.predict_proba(_X_test)[:,1]\n",
    "        scores.append(metric(_y_test, _probs))\n",
    "    return np.mean(scores)"
   ],
   "metadata": {
    "collapsed": false,
    "pycharm": {
     "name": "#%%\n"
    }
   },
   "id": "5118b7f34f7e99fb"
  },
  {
   "cell_type": "markdown",
   "source": [
    "I start by vectorizing the ai_response data"
   ],
   "metadata": {
    "collapsed": false,
    "pycharm": {
     "name": "#%% md\n"
    }
   },
   "id": "32d2450805851600"
  },
  {
   "cell_type": "code",
   "outputs": [
    {
     "data": {
      "text/plain": "array(['01', '02', '03', ..., 'you', 'young', 'younger'], dtype=object)"
     },
     "execution_count": 436,
     "metadata": {},
     "output_type": "execute_result"
    }
   ],
   "source": [
    "vectorizer = skl.feature_extraction.text.TfidfVectorizer(strip_accents = 'unicode',\n",
    "                                                         norm = \"l2\")\n",
    "textVect_full_train_data = vectorizer.fit_transform(full_train_data[\"ai_response\"])\n",
    "vectorizer.get_feature_names_out()"
   ],
   "metadata": {
    "collapsed": false,
    "pycharm": {
     "name": "#%%\n"
    },
    "ExecuteTime": {
     "end_time": "2024-04-04T00:37:15.400685Z",
     "start_time": "2024-04-04T00:37:14.850447Z"
    }
   },
   "id": "48ef9f4d7317344f",
   "execution_count": 436
  },
  {
   "cell_type": "markdown",
   "source": [
    "I implement a test/train split."
   ],
   "metadata": {
    "collapsed": false,
    "pycharm": {
     "name": "#%% md\n"
    }
   },
   "id": "9589b3c067c3f68e"
  },
  {
   "cell_type": "code",
   "outputs": [],
   "source": [
    "text_X_train, text_X_test, text_y_train, text_y_test = train_test_split(\n",
    "    textVect_full_train_data.toarray(), \n",
    "    full_train_data_targetVector,\n",
    "    stratify=full_train_data_targetVector,\n",
    "    test_size=0.2)"
   ],
   "metadata": {
    "collapsed": false,
    "ExecuteTime": {
     "end_time": "2024-04-04T00:37:15.515230Z",
     "start_time": "2024-04-04T00:37:15.402882Z"
    },
    "pycharm": {
     "name": "#%%\n"
    }
   },
   "id": "30a53e6eaeeabd29",
   "execution_count": 395
  },
  {
   "cell_type": "markdown",
   "source": [
    "I experiment with Logistic Regression as a sort of baseline\n"
   ],
   "metadata": {
    "collapsed": false,
    "pycharm": {
     "name": "#%% md\n"
    }
   },
   "id": "3c1edee66976e0bd"
  },
  {
   "cell_type": "code",
   "execution_count": 519,
   "outputs": [
    {
     "name": "stdout",
     "output_type": "stream",
     "text": [
      "Model accuracy:  0.5942675159235669\n",
      "Model F1:  0.2635838150289017\n",
      "Model AUC:  0.5488371468471371\n",
      "Model manual cross-val AUC:  0.5660334588838758\n"
     ]
    }
   ],
   "source": [
    "textlrc = LogisticRegression(C=0.56,\n",
    "                             penalty='l2',\n",
    "                             solver='saga',\n",
    "                             max_iter=10000)\n",
    "textlrc.fit(text_X_train, text_y_train)\n",
    "textlrc_preds = textlrc.predict(text_X_test)\n",
    "textlrc_probs = textlrc.predict_proba(text_X_test)[:,1]\n",
    "\n",
    "print(\"Model accuracy: \", skl.metrics.accuracy_score(text_y_test, textlrc_preds)) # 0.59\n",
    "print(\"Model F1: \", skl.metrics.f1_score(text_y_test, textlrc_preds)) # 0.26\n",
    "print(\"Model AUC: \", skl.metrics.roc_auc_score(text_y_test, textlrc_probs)) # 0.58\n",
    "print(\"Model manual cross-val AUC: \", customCrossVal(X = textVect_full_train_data.toarray(),\n",
    "                                                     model=textlrc,\n",
    "                                                     loops=10))"
   ],
   "metadata": {
    "collapsed": false,
    "pycharm": {
     "name": "#%%\n"
    }
   },
   "id": "729c0ed879d4dc22"
  },
  {
   "cell_type": "markdown",
   "source": [
    "I attempt classification with SVM. I choose SVMs because of their usefulness with high-dimensionality data. I also tested some RF & KNN models, but both models performed worse than SVMs. That code has been omitted from here for readability. Below is a randomized search, the parameter lists of which are themselves the result of extensive experimentation."
   ],
   "metadata": {
    "collapsed": false,
    "pycharm": {
     "name": "#%% md\n"
    }
   },
   "id": "869fb7e4baa1cb88"
  },
  {
   "cell_type": "code",
   "outputs": [],
   "source": [
    "### THE BELOW IS HASHED TO PREVENT RUNNING (>6 HRS on current i7 processor)\n",
    "# start = datetime.datetime.now()\n",
    "# parameters = {'C': [0.01, 0.1, 0.2, 0.3, 1, 10],\n",
    "#               'degree': [1, 2],\n",
    "#               'gamma': ['scale', 1, 5, 8, 10],\n",
    "#               'class_weight': [{1: 0.9}, None, {1: 1.1}, 'balanced']}\n",
    "# textsvc = skl.svm.SVC(kernel = 'poly')\n",
    "# rs_textsvc = skl.model_selection.RandomizedSearchCV(textsvc,\n",
    "#                                              parameters,\n",
    "#                                              scoring=\"roc_auc\",\n",
    "#                                              n_jobs=-1,\n",
    "#                                              verbose=3)\n",
    "#\n",
    "# rs_textsvc.fit(text_X_train, text_y_train)\n",
    "#\n",
    "# end = datetime.datetime.now()\n",
    "# time_elapsed = end - start\n",
    "# print(\"Time elapsed: \", time_elapsed)\n",
    "#\n",
    "# rs_textsvc.best_estimator_"
   ],
   "metadata": {
    "collapsed": false,
    "ExecuteTime": {
     "end_time": "2024-04-04T00:37:15.525003Z",
     "start_time": "2024-04-04T00:37:15.518777Z"
    },
    "pycharm": {
     "name": "#%%\n",
     "is_executing": true
    }
   },
   "id": "77bc1a089a304a75",
   "execution_count": null
  },
  {
   "cell_type": "code",
   "source": [
    "textsvc = skl.svm.SVC(kernel = 'rbf',\n",
    "                      probability = True)\n",
    "textsvc.fit(text_X_train, text_y_train)\n",
    "svc_preds = textsvc.predict(text_X_test)\n",
    "svc_probs = textsvc.predict_proba(text_X_test)[:,1]\n",
    "print(\"Model accuracy: \", skl.metrics.accuracy_score(text_y_test, svc_preds)) # 0.59\n",
    "print(\"Model F1: \", skl.metrics.f1_score(text_y_test, svc_preds)) # 0.26\n",
    "print(\"Model AUC: \", skl.metrics.roc_auc_score(text_y_test, svc_probs)) # 0.58"
   ],
   "metadata": {
    "collapsed": false,
    "pycharm": {
     "name": "#%%\n"
    }
   },
   "id": "3f11d7689dfd292f",
   "outputs": [],
   "execution_count": null
  },
  {
   "cell_type": "markdown",
   "source": [
    "SVC achieves limited performance. Next I attempt a gradient boosted model."
   ],
   "metadata": {
    "collapsed": false,
    "pycharm": {
     "name": "#%% md\n"
    }
   },
   "id": "116bd1fb7dbb4d19"
  },
  {
   "cell_type": "markdown",
   "source": "I apply a gradient boosted classifier. I suspect that tree-based methods will be inefficient for high-dimensional data.",
   "metadata": {
    "collapsed": false,
    "pycharm": {
     "name": "#%% md\n"
    }
   },
   "id": "ee8b0dc8fa1968da"
  },
  {
   "cell_type": "code",
   "execution_count": 278,
   "outputs": [
    {
     "name": "stdout",
     "output_type": "stream",
     "text": [
      "Model accuracy:  0.5847133757961783\n",
      "Model F1:  0.18703241895261846\n",
      "Model ROC AUC:  0.528724722043184\n",
      "Model Manual Cross-Validated AUC:  0.5607661268664732\n"
     ]
    }
   ],
   "source": [
    "gbc_text = skl.ensemble.GradientBoostingClassifier()\n",
    "gbc_text.fit(text_X_train, text_y_train)\n",
    "gbc_text_preds = gbc_text.predict(text_X_test)\n",
    "gbc_text_probs = gbc_text.predict_proba(text_X_test)[:,1]\n",
    "print(\"Model accuracy: \", skl.metrics.accuracy_score(text_y_test, gbc_text_preds))\n",
    "print(\"Model F1: \", skl.metrics.f1_score(text_y_test, gbc_text_preds))\n",
    "print(\"Model ROC AUC: \", skl.metrics.roc_auc_score(text_y_test, gbc_text_probs))\n",
    "print(\"Model Manual Cross-Validated AUC: \", customCrossVal(X = textVect_full_train_data,\n",
    "                                                         model = gbc_text,\n",
    "                                                         loops = 5))\n",
    "# print(\"Model Cross-Validated AUC: \", np.mean(skl.model_selection.cross_val_score(gbc,\n",
    "#                                                                                textVect_full_train_data,\n",
    "#                                                                                full_train_data_targetVector,\n",
    "#                                                                                scoring=\"roc_auc\",\n",
    "#                                                                                cv=10,\n",
    "#                                                                                n_jobs=-1)))"
   ],
   "metadata": {
    "collapsed": false,
    "pycharm": {
     "name": "#%%\n"
    }
   },
   "id": "2a88a2f31ff069af"
  },
  {
   "cell_type": "markdown",
   "source": [
    "Gradient boosting performs comparably poor.\n",
    "\n",
    "Skip my experimentation with Neural Network application below"
   ],
   "metadata": {
    "collapsed": false,
    "pycharm": {
     "name": "#%% md\n"
    }
   },
   "id": "74190657a47bc756"
  },
  {
   "cell_type": "code",
   "outputs": [
    {
     "name": "stdout",
     "output_type": "stream",
     "text": [
      "\u001B[1m197/197\u001B[0m \u001B[32m━━━━━━━━━━━━━━━━━━━━\u001B[0m\u001B[37m\u001B[0m \u001B[1m3s\u001B[0m 13ms/step - AUC: 0.5246 - loss: 0.6758\n",
      "\u001B[1m50/50\u001B[0m \u001B[32m━━━━━━━━━━━━━━━━━━━━\u001B[0m\u001B[37m\u001B[0m \u001B[1m0s\u001B[0m 1ms/step\n",
      "NN Accuracy:  0.5936305732484076\n",
      "NN F1:  0.05341246290801187\n",
      "NN AUC:  0.5613426858416586\n"
     ]
    }
   ],
   "source": [
    "nn = Sequential()\n",
    "nn.add(Flatten())\n",
    "nn.add(Dense(1000, activation='relu'))\n",
    "nn.add(Dense(1, activation='sigmoid'))\n",
    "# I don't like the idea of compiling with sigmoid as my last activation. However, softmax produces some complications which I have to avoid. NN optimization will be explored more in-depth in future assignments.\n",
    "nn.compile(optimizer='adam', loss='binary_crossentropy', metrics=['AUC'])\n",
    "\n",
    "nn.fit(text_X_train, text_y_train)\n",
    "nn_probs=nn.predict(text_X_test)\n",
    "nn_preds=tf.greater(nn_probs, 0.5)\n",
    "\n",
    "print(\"NN Accuracy: \", skl.metrics.accuracy_score(text_y_test, nn_preds))\n",
    "print(\"NN F1: \", skl.metrics.f1_score(text_y_test, nn_preds))\n",
    "print(\"NN AUC: \", skl.metrics.roc_auc_score(text_y_test, nn_probs))"
   ],
   "metadata": {
    "collapsed": false,
    "ExecuteTime": {
     "end_time": "2024-04-04T00:38:09.171562Z",
     "start_time": "2024-04-04T00:38:05.382354Z"
    },
    "pycharm": {
     "name": "#%%\n"
    }
   },
   "id": "925a47b40ae71d9a",
   "execution_count": 407
  },
  {
   "cell_type": "markdown",
   "source": [
    "For comparision, a simple untuned Naive Bayes achieves only somewhat worse performance than either of the models above."
   ],
   "metadata": {
    "collapsed": false,
    "pycharm": {
     "name": "#%% md\n"
    }
   },
   "id": "7513ac067292b0d8"
  },
  {
   "cell_type": "code",
   "outputs": [
    {
     "name": "stdout",
     "output_type": "stream",
     "text": [
      "Naive Bayes Accuracy:  0.43248407643312103\n",
      "Naive Bayes F1:  0.5643031784841076\n",
      "Naive Bayes AUC:  0.5040275204103556\n",
      "Naive Bayes Manual Cross-Validated AUC:  0.5082566266516274\n",
      "Naive Bayes Cross-Validated AUC:  0.5078127070008425\n"
     ]
    }
   ],
   "source": [
    "naive_bayes_classifier = skl.naive_bayes.GaussianNB()\n",
    "naive_bayes_classifier.fit(text_X_train, text_y_train)\n",
    "\n",
    "#predicted y\n",
    "NB_pred = naive_bayes_classifier.predict(text_X_test)\n",
    "NB_probs = naive_bayes_classifier.predict_proba(text_X_test)[:,1]\n",
    "\n",
    "print(\"Naive Bayes Accuracy: \", skl.metrics.accuracy_score(text_y_test, NB_pred))\n",
    "print(\"Naive Bayes F1: \", skl.metrics.f1_score(text_y_test, NB_pred))\n",
    "print(\"Naive Bayes AUC: \", skl.metrics.roc_auc_score(text_y_test, NB_probs))\n",
    "print(\"Naive Bayes Manual Cross-Validated AUC: \", customCrossVal(X = textVect_full_train_data.toarray(),\n",
    "                                                         model = naive_bayes_classifier,\n",
    "                                                         loops = 10))\n",
    "print(\"Naive Bayes Cross-Validated AUC: \", np.mean(skl.model_selection.cross_val_score(naive_bayes_classifier,\n",
    "                                                                               textVect_full_train_data.toarray(),\n",
    "                                                                               full_train_data_targetVector,\n",
    "                                                                               scoring=\"roc_auc\",\n",
    "                                                                               cv=10,\n",
    "                                                                               n_jobs=-1)))"
   ],
   "metadata": {
    "collapsed": false,
    "ExecuteTime": {
     "end_time": "2024-04-04T00:38:09.223879Z",
     "start_time": "2024-04-04T00:38:09.173875Z"
    },
    "pycharm": {
     "name": "#%%\n"
    }
   },
   "id": "a6ad51cba604c909",
   "execution_count": 279
  },
  {
   "cell_type": "markdown",
   "source": [
    "None of these models can achieve particularly good performance. None can achieve an accuracy greater than about 59% (and with very low F1 scores). Even our optimized SVM model can only achieve an AUC of 0.58. I select my optimized SVC as my final text classification model for stacking."
   ],
   "metadata": {
    "collapsed": false,
    "pycharm": {
     "name": "#%% md\n"
    }
   },
   "id": "b018c526092c2cc0"
  },
  {
   "cell_type": "code",
   "execution_count": 398,
   "outputs": [
    {
     "data": {
      "text/plain": "SVC(probability=True)",
      "text/html": "<style>#sk-container-id-8 {\n  /* Definition of color scheme common for light and dark mode */\n  --sklearn-color-text: black;\n  --sklearn-color-line: gray;\n  /* Definition of color scheme for unfitted estimators */\n  --sklearn-color-unfitted-level-0: #fff5e6;\n  --sklearn-color-unfitted-level-1: #f6e4d2;\n  --sklearn-color-unfitted-level-2: #ffe0b3;\n  --sklearn-color-unfitted-level-3: chocolate;\n  /* Definition of color scheme for fitted estimators */\n  --sklearn-color-fitted-level-0: #f0f8ff;\n  --sklearn-color-fitted-level-1: #d4ebff;\n  --sklearn-color-fitted-level-2: #b3dbfd;\n  --sklearn-color-fitted-level-3: cornflowerblue;\n\n  /* Specific color for light theme */\n  --sklearn-color-text-on-default-background: var(--sg-text-color, var(--theme-code-foreground, var(--jp-content-font-color1, black)));\n  --sklearn-color-background: var(--sg-background-color, var(--theme-background, var(--jp-layout-color0, white)));\n  --sklearn-color-border-box: var(--sg-text-color, var(--theme-code-foreground, var(--jp-content-font-color1, black)));\n  --sklearn-color-icon: #696969;\n\n  @media (prefers-color-scheme: dark) {\n    /* Redefinition of color scheme for dark theme */\n    --sklearn-color-text-on-default-background: var(--sg-text-color, var(--theme-code-foreground, var(--jp-content-font-color1, white)));\n    --sklearn-color-background: var(--sg-background-color, var(--theme-background, var(--jp-layout-color0, #111)));\n    --sklearn-color-border-box: var(--sg-text-color, var(--theme-code-foreground, var(--jp-content-font-color1, white)));\n    --sklearn-color-icon: #878787;\n  }\n}\n\n#sk-container-id-8 {\n  color: var(--sklearn-color-text);\n}\n\n#sk-container-id-8 pre {\n  padding: 0;\n}\n\n#sk-container-id-8 input.sk-hidden--visually {\n  border: 0;\n  clip: rect(1px 1px 1px 1px);\n  clip: rect(1px, 1px, 1px, 1px);\n  height: 1px;\n  margin: -1px;\n  overflow: hidden;\n  padding: 0;\n  position: absolute;\n  width: 1px;\n}\n\n#sk-container-id-8 div.sk-dashed-wrapped {\n  border: 1px dashed var(--sklearn-color-line);\n  margin: 0 0.4em 0.5em 0.4em;\n  box-sizing: border-box;\n  padding-bottom: 0.4em;\n  background-color: var(--sklearn-color-background);\n}\n\n#sk-container-id-8 div.sk-container {\n  /* jupyter's `normalize.less` sets `[hidden] { display: none; }`\n     but bootstrap.min.css set `[hidden] { display: none !important; }`\n     so we also need the `!important` here to be able to override the\n     default hidden behavior on the sphinx rendered scikit-learn.org.\n     See: https://github.com/scikit-learn/scikit-learn/issues/21755 */\n  display: inline-block !important;\n  position: relative;\n}\n\n#sk-container-id-8 div.sk-text-repr-fallback {\n  display: none;\n}\n\ndiv.sk-parallel-item,\ndiv.sk-serial,\ndiv.sk-item {\n  /* draw centered vertical line to link estimators */\n  background-image: linear-gradient(var(--sklearn-color-text-on-default-background), var(--sklearn-color-text-on-default-background));\n  background-size: 2px 100%;\n  background-repeat: no-repeat;\n  background-position: center center;\n}\n\n/* Parallel-specific style estimator block */\n\n#sk-container-id-8 div.sk-parallel-item::after {\n  content: \"\";\n  width: 100%;\n  border-bottom: 2px solid var(--sklearn-color-text-on-default-background);\n  flex-grow: 1;\n}\n\n#sk-container-id-8 div.sk-parallel {\n  display: flex;\n  align-items: stretch;\n  justify-content: center;\n  background-color: var(--sklearn-color-background);\n  position: relative;\n}\n\n#sk-container-id-8 div.sk-parallel-item {\n  display: flex;\n  flex-direction: column;\n}\n\n#sk-container-id-8 div.sk-parallel-item:first-child::after {\n  align-self: flex-end;\n  width: 50%;\n}\n\n#sk-container-id-8 div.sk-parallel-item:last-child::after {\n  align-self: flex-start;\n  width: 50%;\n}\n\n#sk-container-id-8 div.sk-parallel-item:only-child::after {\n  width: 0;\n}\n\n/* Serial-specific style estimator block */\n\n#sk-container-id-8 div.sk-serial {\n  display: flex;\n  flex-direction: column;\n  align-items: center;\n  background-color: var(--sklearn-color-background);\n  padding-right: 1em;\n  padding-left: 1em;\n}\n\n\n/* Toggleable style: style used for estimator/Pipeline/ColumnTransformer box that is\nclickable and can be expanded/collapsed.\n- Pipeline and ColumnTransformer use this feature and define the default style\n- Estimators will overwrite some part of the style using the `sk-estimator` class\n*/\n\n/* Pipeline and ColumnTransformer style (default) */\n\n#sk-container-id-8 div.sk-toggleable {\n  /* Default theme specific background. It is overwritten whether we have a\n  specific estimator or a Pipeline/ColumnTransformer */\n  background-color: var(--sklearn-color-background);\n}\n\n/* Toggleable label */\n#sk-container-id-8 label.sk-toggleable__label {\n  cursor: pointer;\n  display: block;\n  width: 100%;\n  margin-bottom: 0;\n  padding: 0.5em;\n  box-sizing: border-box;\n  text-align: center;\n}\n\n#sk-container-id-8 label.sk-toggleable__label-arrow:before {\n  /* Arrow on the left of the label */\n  content: \"▸\";\n  float: left;\n  margin-right: 0.25em;\n  color: var(--sklearn-color-icon);\n}\n\n#sk-container-id-8 label.sk-toggleable__label-arrow:hover:before {\n  color: var(--sklearn-color-text);\n}\n\n/* Toggleable content - dropdown */\n\n#sk-container-id-8 div.sk-toggleable__content {\n  max-height: 0;\n  max-width: 0;\n  overflow: hidden;\n  text-align: left;\n  /* unfitted */\n  background-color: var(--sklearn-color-unfitted-level-0);\n}\n\n#sk-container-id-8 div.sk-toggleable__content.fitted {\n  /* fitted */\n  background-color: var(--sklearn-color-fitted-level-0);\n}\n\n#sk-container-id-8 div.sk-toggleable__content pre {\n  margin: 0.2em;\n  border-radius: 0.25em;\n  color: var(--sklearn-color-text);\n  /* unfitted */\n  background-color: var(--sklearn-color-unfitted-level-0);\n}\n\n#sk-container-id-8 div.sk-toggleable__content.fitted pre {\n  /* unfitted */\n  background-color: var(--sklearn-color-fitted-level-0);\n}\n\n#sk-container-id-8 input.sk-toggleable__control:checked~div.sk-toggleable__content {\n  /* Expand drop-down */\n  max-height: 200px;\n  max-width: 100%;\n  overflow: auto;\n}\n\n#sk-container-id-8 input.sk-toggleable__control:checked~label.sk-toggleable__label-arrow:before {\n  content: \"▾\";\n}\n\n/* Pipeline/ColumnTransformer-specific style */\n\n#sk-container-id-8 div.sk-label input.sk-toggleable__control:checked~label.sk-toggleable__label {\n  color: var(--sklearn-color-text);\n  background-color: var(--sklearn-color-unfitted-level-2);\n}\n\n#sk-container-id-8 div.sk-label.fitted input.sk-toggleable__control:checked~label.sk-toggleable__label {\n  background-color: var(--sklearn-color-fitted-level-2);\n}\n\n/* Estimator-specific style */\n\n/* Colorize estimator box */\n#sk-container-id-8 div.sk-estimator input.sk-toggleable__control:checked~label.sk-toggleable__label {\n  /* unfitted */\n  background-color: var(--sklearn-color-unfitted-level-2);\n}\n\n#sk-container-id-8 div.sk-estimator.fitted input.sk-toggleable__control:checked~label.sk-toggleable__label {\n  /* fitted */\n  background-color: var(--sklearn-color-fitted-level-2);\n}\n\n#sk-container-id-8 div.sk-label label.sk-toggleable__label,\n#sk-container-id-8 div.sk-label label {\n  /* The background is the default theme color */\n  color: var(--sklearn-color-text-on-default-background);\n}\n\n/* On hover, darken the color of the background */\n#sk-container-id-8 div.sk-label:hover label.sk-toggleable__label {\n  color: var(--sklearn-color-text);\n  background-color: var(--sklearn-color-unfitted-level-2);\n}\n\n/* Label box, darken color on hover, fitted */\n#sk-container-id-8 div.sk-label.fitted:hover label.sk-toggleable__label.fitted {\n  color: var(--sklearn-color-text);\n  background-color: var(--sklearn-color-fitted-level-2);\n}\n\n/* Estimator label */\n\n#sk-container-id-8 div.sk-label label {\n  font-family: monospace;\n  font-weight: bold;\n  display: inline-block;\n  line-height: 1.2em;\n}\n\n#sk-container-id-8 div.sk-label-container {\n  text-align: center;\n}\n\n/* Estimator-specific */\n#sk-container-id-8 div.sk-estimator {\n  font-family: monospace;\n  border: 1px dotted var(--sklearn-color-border-box);\n  border-radius: 0.25em;\n  box-sizing: border-box;\n  margin-bottom: 0.5em;\n  /* unfitted */\n  background-color: var(--sklearn-color-unfitted-level-0);\n}\n\n#sk-container-id-8 div.sk-estimator.fitted {\n  /* fitted */\n  background-color: var(--sklearn-color-fitted-level-0);\n}\n\n/* on hover */\n#sk-container-id-8 div.sk-estimator:hover {\n  /* unfitted */\n  background-color: var(--sklearn-color-unfitted-level-2);\n}\n\n#sk-container-id-8 div.sk-estimator.fitted:hover {\n  /* fitted */\n  background-color: var(--sklearn-color-fitted-level-2);\n}\n\n/* Specification for estimator info (e.g. \"i\" and \"?\") */\n\n/* Common style for \"i\" and \"?\" */\n\n.sk-estimator-doc-link,\na:link.sk-estimator-doc-link,\na:visited.sk-estimator-doc-link {\n  float: right;\n  font-size: smaller;\n  line-height: 1em;\n  font-family: monospace;\n  background-color: var(--sklearn-color-background);\n  border-radius: 1em;\n  height: 1em;\n  width: 1em;\n  text-decoration: none !important;\n  margin-left: 1ex;\n  /* unfitted */\n  border: var(--sklearn-color-unfitted-level-1) 1pt solid;\n  color: var(--sklearn-color-unfitted-level-1);\n}\n\n.sk-estimator-doc-link.fitted,\na:link.sk-estimator-doc-link.fitted,\na:visited.sk-estimator-doc-link.fitted {\n  /* fitted */\n  border: var(--sklearn-color-fitted-level-1) 1pt solid;\n  color: var(--sklearn-color-fitted-level-1);\n}\n\n/* On hover */\ndiv.sk-estimator:hover .sk-estimator-doc-link:hover,\n.sk-estimator-doc-link:hover,\ndiv.sk-label-container:hover .sk-estimator-doc-link:hover,\n.sk-estimator-doc-link:hover {\n  /* unfitted */\n  background-color: var(--sklearn-color-unfitted-level-3);\n  color: var(--sklearn-color-background);\n  text-decoration: none;\n}\n\ndiv.sk-estimator.fitted:hover .sk-estimator-doc-link.fitted:hover,\n.sk-estimator-doc-link.fitted:hover,\ndiv.sk-label-container:hover .sk-estimator-doc-link.fitted:hover,\n.sk-estimator-doc-link.fitted:hover {\n  /* fitted */\n  background-color: var(--sklearn-color-fitted-level-3);\n  color: var(--sklearn-color-background);\n  text-decoration: none;\n}\n\n/* Span, style for the box shown on hovering the info icon */\n.sk-estimator-doc-link span {\n  display: none;\n  z-index: 9999;\n  position: relative;\n  font-weight: normal;\n  right: .2ex;\n  padding: .5ex;\n  margin: .5ex;\n  width: min-content;\n  min-width: 20ex;\n  max-width: 50ex;\n  color: var(--sklearn-color-text);\n  box-shadow: 2pt 2pt 4pt #999;\n  /* unfitted */\n  background: var(--sklearn-color-unfitted-level-0);\n  border: .5pt solid var(--sklearn-color-unfitted-level-3);\n}\n\n.sk-estimator-doc-link.fitted span {\n  /* fitted */\n  background: var(--sklearn-color-fitted-level-0);\n  border: var(--sklearn-color-fitted-level-3);\n}\n\n.sk-estimator-doc-link:hover span {\n  display: block;\n}\n\n/* \"?\"-specific style due to the `<a>` HTML tag */\n\n#sk-container-id-8 a.estimator_doc_link {\n  float: right;\n  font-size: 1rem;\n  line-height: 1em;\n  font-family: monospace;\n  background-color: var(--sklearn-color-background);\n  border-radius: 1rem;\n  height: 1rem;\n  width: 1rem;\n  text-decoration: none;\n  /* unfitted */\n  color: var(--sklearn-color-unfitted-level-1);\n  border: var(--sklearn-color-unfitted-level-1) 1pt solid;\n}\n\n#sk-container-id-8 a.estimator_doc_link.fitted {\n  /* fitted */\n  border: var(--sklearn-color-fitted-level-1) 1pt solid;\n  color: var(--sklearn-color-fitted-level-1);\n}\n\n/* On hover */\n#sk-container-id-8 a.estimator_doc_link:hover {\n  /* unfitted */\n  background-color: var(--sklearn-color-unfitted-level-3);\n  color: var(--sklearn-color-background);\n  text-decoration: none;\n}\n\n#sk-container-id-8 a.estimator_doc_link.fitted:hover {\n  /* fitted */\n  background-color: var(--sklearn-color-fitted-level-3);\n}\n</style><div id=\"sk-container-id-8\" class=\"sk-top-container\"><div class=\"sk-text-repr-fallback\"><pre>SVC(probability=True)</pre><b>In a Jupyter environment, please rerun this cell to show the HTML representation or trust the notebook. <br />On GitHub, the HTML representation is unable to render, please try loading this page with nbviewer.org.</b></div><div class=\"sk-container\" hidden><div class=\"sk-item\"><div class=\"sk-estimator fitted sk-toggleable\"><input class=\"sk-toggleable__control sk-hidden--visually\" id=\"sk-estimator-id-12\" type=\"checkbox\" checked><label for=\"sk-estimator-id-12\" class=\"sk-toggleable__label fitted sk-toggleable__label-arrow fitted\">&nbsp;&nbsp;SVC<a class=\"sk-estimator-doc-link fitted\" rel=\"noreferrer\" target=\"_blank\" href=\"https://scikit-learn.org/1.4/modules/generated/sklearn.svm.SVC.html\">?<span>Documentation for SVC</span></a><span class=\"sk-estimator-doc-link fitted\">i<span>Fitted</span></span></label><div class=\"sk-toggleable__content fitted\"><pre>SVC(probability=True)</pre></div> </div></div></div></div>"
     },
     "execution_count": 398,
     "metadata": {},
     "output_type": "execute_result"
    }
   ],
   "source": [
    "opt_textsvc = skl.svm.SVC(kernel = 'rbf',\n",
    "                      probability = True)\n",
    "opt_textsvc.fit(textVect_full_train_data, full_train_data_targetVector)"
   ],
   "metadata": {
    "collapsed": false,
    "pycharm": {
     "name": "#%%\n"
    }
   },
   "id": "a8331817c741cdc"
  },
  {
   "cell_type": "markdown",
   "source": [
    "5. Use model stacking to incorporate tf-idf predictions for the text field\n",
    "(\"ai_response\") in the downstream algorithm [20 pts]"
   ],
   "metadata": {
    "collapsed": false,
    "pycharm": {
     "name": "#%% md\n"
    }
   },
   "id": "e6ceeb5497e17e6a"
  },
  {
   "cell_type": "markdown",
   "source": [
    "I ULTIMATELY DO THIS AS PART OF MY FINAL CUSTOM MODEL STACKING CLASSIFIER.\n",
    "\n",
    "TO SEE MY WORK FOR THIS QUESTION **CTRL+F \"customStackingClassifier\"** and see my work at the end of question 6 & question 7.\n",
    "\n",
    "I had to move my work for this section to incorporate work I do as part of questions 6."
   ],
   "metadata": {
    "collapsed": false,
    "pycharm": {
     "name": "#%% md\n"
    }
   },
   "id": "12edda9e4bd32d02"
  },
  {
   "cell_type": "markdown",
   "source": [
    "6. Perform experimentation for multiple modeling algorithms and justify why you\n",
    "selected the experiments you chose [20 pts]"
   ],
   "metadata": {
    "collapsed": false,
    "pycharm": {
     "name": "#%% md\n"
    }
   },
   "id": "ff72410832517fb"
  },
  {
   "cell_type": "markdown",
   "source": [
    "First, I design & optimize a model for **categorical data** classification."
   ],
   "metadata": {
    "collapsed": false,
    "pycharm": {
     "name": "#%% md\n"
    }
   },
   "id": "4e0edb7403a9ece2"
  },
  {
   "cell_type": "markdown",
   "source": [
    "Test/train split"
   ],
   "metadata": {
    "collapsed": false,
    "pycharm": {
     "name": "#%% md\n"
    }
   },
   "id": "f7922bceea773a5a"
  },
  {
   "cell_type": "code",
   "outputs": [],
   "source": [
    "# One-hot-encoded data split\n",
    "cat_X_train, cat_X_test, cat_y_train, cat_y_test = train_test_split(\n",
    "    encCat_full_train_data,\n",
    "    full_train_data_targetVector,\n",
    "    stratify=full_train_data_targetVector,\n",
    "    test_size=0.2,\n",
    "    random_state=42)"
   ],
   "metadata": {
    "collapsed": false,
    "ExecuteTime": {
     "end_time": "2024-04-04T00:38:09.277393Z",
     "start_time": "2024-04-04T00:38:09.265621Z"
    },
    "pycharm": {
     "name": "#%%\n"
    }
   },
   "id": "66b0c7a47f86ab29",
   "execution_count": 280
  },
  {
   "cell_type": "code",
   "execution_count": 281,
   "outputs": [],
   "source": [
    "# Label-encoded data split\n",
    "lcat_X_train, lcat_X_test, lcat_y_train, lcat_y_test = train_test_split(\n",
    "    lencCat_full_train_data,\n",
    "    full_train_data_targetVector,\n",
    "    stratify=full_train_data_targetVector,\n",
    "    test_size=0.2)"
   ],
   "metadata": {
    "collapsed": false,
    "pycharm": {
     "name": "#%%\n"
    }
   },
   "id": "f7d05713455de35c"
  },
  {
   "cell_type": "markdown",
   "source": [
    "LogReg Model on OHE categorical data"
   ],
   "metadata": {
    "collapsed": false,
    "pycharm": {
     "name": "#%% md\n"
    }
   },
   "id": "7ee4d22c49e768dd"
  },
  {
   "cell_type": "code",
   "outputs": [],
   "source": [
    "# start = datetime.datetime.now()\n",
    "# parameters = {'penalty': ['l1', 'l2', 'elasticnet'],\n",
    "#               'tol': [1e-5, 1e-4, 1e-3, 1e-2],\n",
    "#               'C': [0.1, 0.9, 1, 1.1, 10, 100],\n",
    "#               'class_weight': ['balanced', {1:0.8}, {1:0.9}, None, {1:1.1}],\n",
    "#               'solver': ['linear', 'saga']}\n",
    "#\n",
    "# lrc = skl.linear_model.LogisticRegression(max_iter = 100000,\n",
    "#                                           random_state = 42)\n",
    "#\n",
    "# gs_lrc = skl.model_selection.GridSearchCV(lrc,\n",
    "#                                           parameters,\n",
    "#                                           scoring=\"roc_auc\",\n",
    "#                                           n_jobs=-1\n",
    "#                                           )\n",
    "#\n",
    "# gs_lrc.fit(cat_X_train, cat_y_train)\n",
    "#\n",
    "# end = datetime.datetime.now()\n",
    "# time_elapsed = end - start\n",
    "# print(\"Time elapsed: \", time_elapsed)\n",
    "# gs_lrc.best_estimator_"
   ],
   "metadata": {
    "collapsed": false,
    "ExecuteTime": {
     "end_time": "2024-04-03T23:52:22.282114Z",
     "start_time": "2024-04-03T23:45:03.131842Z"
    },
    "pycharm": {
     "name": "#%%\n"
    }
   },
   "id": "808b2b491fa79622",
   "execution_count": null
  },
  {
   "cell_type": "code",
   "outputs": [
    {
     "name": "stdout",
     "output_type": "stream",
     "text": [
      "LRM Accuracy:  0.6076433121019108\n",
      "LRM F1:  0.25961538461538464\n",
      "LRM AUC:  0.603201538833387\n"
     ]
    }
   ],
   "source": [
    "lrc = skl.linear_model.LogisticRegression(max_iter = 100000,\n",
    "                                          C=10,\n",
    "                                          class_weight={1:0.9},\n",
    "                                          penalty='l1',\n",
    "                                          solver='saga',\n",
    "                                          tol=0.01)\n",
    "\n",
    "lrc.fit(cat_X_train, cat_y_train)\n",
    "lrc_preds = lrc.predict(cat_X_test)\n",
    "lrc_probs = lrc.predict_proba(cat_X_test)[:,1]\n",
    "print(\"LRM Accuracy: \", skl.metrics.accuracy_score(cat_y_test, lrc_preds))\n",
    "print(\"LRM F1: \", skl.metrics.f1_score(cat_y_test, lrc_preds))\n",
    "print(\"LRM AUC: \", skl.metrics.roc_auc_score(cat_y_test, lrc_probs))"
   ],
   "metadata": {
    "collapsed": false,
    "ExecuteTime": {
     "end_time": "2024-04-04T00:06:41.721106Z",
     "start_time": "2024-04-04T00:06:41.429333Z"
    },
    "pycharm": {
     "name": "#%%\n"
    }
   },
   "id": "f1d8c46ff7472c3d",
   "execution_count": 282
  },
  {
   "cell_type": "markdown",
   "source": [
    "RF Model on OHE categorical data"
   ],
   "metadata": {
    "collapsed": false,
    "pycharm": {
     "name": "#%% md\n"
    }
   },
   "id": "74eba10048fcc977"
  },
  {
   "cell_type": "code",
   "outputs": [],
   "source": [
    "# start = datetime.datetime.now()\n",
    "# parameters = {'n_estimators': [100, 500, 1000],\n",
    "#               'criterion': ['gini', 'entropy', 'log_loss'],\n",
    "#               'max_features': ['sqrt', 'log2'],\n",
    "#               'class_weight': ['balanced', {1:0.8}, {1:0.9}, None, {1:1.1}]}\n",
    "#\n",
    "# rfc = skl.ensemble.RandomForestClassifier(random_state = 42)\n",
    "#\n",
    "# gs_rfc = skl.model_selection.GridSearchCV(rfc,\n",
    "#                                           parameters,\n",
    "#                                           scoring=\"roc_auc\",\n",
    "#                                           n_jobs=-1\n",
    "#                                           )\n",
    "#\n",
    "# gs_rfc.fit(cat_X_train, cat_y_train)\n",
    "#\n",
    "# end = datetime.datetime.now()\n",
    "# time_elapsed = end - start\n",
    "# print(\"Time elapsed: \", time_elapsed)\n",
    "#\n",
    "# gs_rfc.best_estimator_"
   ],
   "metadata": {
    "collapsed": false,
    "ExecuteTime": {
     "end_time": "2024-04-04T00:20:21.860292Z",
     "start_time": "2024-04-04T00:07:36.313888Z"
    },
    "pycharm": {
     "name": "#%%\n"
    }
   },
   "id": "87958da7dd0b8d3a",
   "execution_count": null
  },
  {
   "cell_type": "code",
   "outputs": [
    {
     "name": "stdout",
     "output_type": "stream",
     "text": [
      "LRM Accuracy:  0.5910828025477707\n",
      "LRM F1:  0.43485915492957744\n",
      "LRM AUC:  0.5760226998066388\n"
     ]
    }
   ],
   "source": [
    "rfc = skl.ensemble.RandomForestClassifier(n_estimators = 1000,\n",
    "                                          random_state = 42,\n",
    "                                          criterion = 'entropy',\n",
    "                                          class_weight={1:0.9})\n",
    "rfc.fit(cat_X_train, cat_y_train)\n",
    "rfc_preds = rfc.predict(cat_X_test)\n",
    "rfc_probs = rfc.predict_proba(cat_X_test)[:,1]\n",
    "print(\"LRM Accuracy: \", skl.metrics.accuracy_score(cat_y_test, rfc_preds))\n",
    "print(\"LRM F1: \", skl.metrics.f1_score(cat_y_test, rfc_preds))\n",
    "print(\"LRM AUC: \", skl.metrics.roc_auc_score(cat_y_test, rfc_probs))"
   ],
   "metadata": {
    "collapsed": false,
    "ExecuteTime": {
     "end_time": "2024-04-03T22:55:18.931675Z",
     "start_time": "2024-04-03T22:55:17.302424Z"
    },
    "pycharm": {
     "name": "#%%\n"
    }
   },
   "id": "421ddfdd0792608c",
   "execution_count": 283
  },
  {
   "cell_type": "markdown",
   "source": [
    "XGBoost Model on OHE data"
   ],
   "metadata": {
    "collapsed": false,
    "pycharm": {
     "name": "#%% md\n"
    }
   },
   "id": "e3a345614b169454"
  },
  {
   "cell_type": "code",
   "outputs": [
    {
     "name": "stdout",
     "output_type": "stream",
     "text": [
      "LRM Accuracy:  0.6114649681528662\n",
      "LRM F1:  0.34968017057569295\n",
      "LRM AUC:  0.6162374785154152\n"
     ]
    }
   ],
   "source": [
    "cat_bst = XGBClassifier(booster = 'gbtree',\n",
    "                        n_estimators=6, \n",
    "                        max_depth=9,\n",
    "                        objective='binary:logistic')\n",
    "# fit model\n",
    "cat_bst.fit(cat_X_train, cat_y_train)\n",
    "# make predictions\n",
    "catBst_preds = cat_bst.predict(cat_X_test)\n",
    "catBst_probs = cat_bst.predict_proba(cat_X_test)[:,1]\n",
    "print(\"LRM Accuracy: \", skl.metrics.accuracy_score(cat_y_test, catBst_preds))\n",
    "print(\"LRM F1: \", skl.metrics.f1_score(cat_y_test, catBst_preds))\n",
    "print(\"LRM AUC: \", skl.metrics.roc_auc_score(cat_y_test, catBst_probs))"
   ],
   "metadata": {
    "collapsed": false,
    "ExecuteTime": {
     "end_time": "2024-04-04T00:20:21.979640Z",
     "start_time": "2024-04-04T00:20:21.863034Z"
    },
    "pycharm": {
     "name": "#%%\n"
    }
   },
   "id": "9fc51c36d6b94aab",
   "execution_count": 284
  },
  {
   "cell_type": "markdown",
   "source": [
    "XGBoost on label-encoded data"
   ],
   "metadata": {
    "collapsed": false,
    "pycharm": {
     "name": "#%% md\n"
    }
   },
   "id": "5a7202de7feae969"
  },
  {
   "cell_type": "code",
   "execution_count": 77,
   "outputs": [
    {
     "name": "stdout",
     "output_type": "stream",
     "text": [
      "LRM Accuracy:  0.6019108280254777\n",
      "LRM F1:  0.3615934627170582\n",
      "LRM AUC:  0.596812392577076\n"
     ]
    }
   ],
   "source": [
    "lcat_bst = XGBClassifier(booster = 'gbtree',\n",
    "                        n_estimators=5,\n",
    "                        max_depth=9,\n",
    "                        objective='binary:logistic')\n",
    "# fit model\n",
    "lcat_bst.fit(lcat_X_train, lcat_y_train)\n",
    "# make predictions\n",
    "lcatBst_preds = lcat_bst.predict(lcat_X_test)\n",
    "lcatBst_probs = lcat_bst.predict_proba(lcat_X_test)[:,1]\n",
    "print(\"LRM Accuracy: \", skl.metrics.accuracy_score(lcat_y_test, lcatBst_preds))\n",
    "print(\"LRM F1: \", skl.metrics.f1_score(lcat_y_test, lcatBst_preds))\n",
    "print(\"LRM AUC: \", skl.metrics.roc_auc_score(lcat_y_test, lcatBst_probs))"
   ],
   "metadata": {
    "collapsed": false,
    "pycharm": {
     "name": "#%%\n"
    }
   },
   "id": "961606b3457f08a2"
  },
  {
   "cell_type": "markdown",
   "source": [
    "SVMs on label-encoded data"
   ],
   "metadata": {
    "collapsed": false,
    "pycharm": {
     "name": "#%% md\n"
    }
   },
   "id": "b1f5f1d127ecbb4"
  },
  {
   "cell_type": "code",
   "outputs": [
    {
     "name": "stdout",
     "output_type": "stream",
     "text": [
      "LRM Accuracy:  0.6095541401273885\n",
      "LRM F1:  0.2605548854041013\n",
      "LRM AUC:  0.6212301267590504\n"
     ]
    }
   ],
   "source": [
    "cat_svm = skl.svm.SVC(probability=True)\n",
    "# fit model\n",
    "cat_svm.fit(cat_X_train, cat_y_train)\n",
    "# make predictions\n",
    "catSVM_preds = cat_svm.predict(cat_X_test)\n",
    "catSVM_probs = cat_svm.predict_proba(cat_X_test)[:,1]\n",
    "print(\"LRM Accuracy: \", skl.metrics.accuracy_score(catSVM_preds, cat_y_test))\n",
    "print(\"LRM F1: \", skl.metrics.f1_score(catSVM_preds, cat_y_test))\n",
    "print(\"LRM AUC: \", skl.metrics.roc_auc_score(cat_y_test, catSVM_probs))"
   ],
   "metadata": {
    "collapsed": false,
    "ExecuteTime": {
     "end_time": "2024-04-04T00:20:24.842641Z",
     "start_time": "2024-04-04T00:20:22.006395Z"
    },
    "pycharm": {
     "name": "#%%\n"
    }
   },
   "id": "b39f98c00488b6f6",
   "execution_count": 285
  },
  {
   "cell_type": "markdown",
   "source": [
    "Second, I design & optimize a model for **numeric data** classification"
   ],
   "metadata": {
    "collapsed": false,
    "pycharm": {
     "name": "#%% md\n"
    }
   },
   "id": "f8093fcd70786046"
  },
  {
   "cell_type": "markdown",
   "source": [
    "Test/train split"
   ],
   "metadata": {
    "collapsed": false,
    "pycharm": {
     "name": "#%% md\n"
    }
   },
   "id": "93f16f288b97cd0f"
  },
  {
   "cell_type": "code",
   "outputs": [],
   "source": [
    "num_X_train, num_X_test, num_y_train, num_y_test = train_test_split(\n",
    "    scaledNum_full_train_data,\n",
    "    full_train_data_targetVector,\n",
    "    stratify=full_train_data_targetVector,\n",
    "    test_size=0.2,\n",
    "    random_state=42)"
   ],
   "metadata": {
    "collapsed": false,
    "ExecuteTime": {
     "end_time": "2024-04-04T00:20:22.002503Z",
     "start_time": "2024-04-04T00:20:21.981916Z"
    },
    "pycharm": {
     "name": "#%%\n"
    }
   },
   "id": "a24939f97fb86473",
   "execution_count": 286
  },
  {
   "cell_type": "markdown",
   "source": [
    "SVC with numeric data"
   ],
   "metadata": {
    "collapsed": false,
    "pycharm": {
     "name": "#%% md\n"
    }
   },
   "id": "768bc19b16c18386"
  },
  {
   "cell_type": "code",
   "outputs": [
    {
     "name": "stdout",
     "output_type": "stream",
     "text": [
      "LRM Accuracy:  0.6095541401273885\n",
      "LRM F1:  0.2605548854041013\n",
      "LRM AUC:  0.6211999140616608\n"
     ]
    }
   ],
   "source": [
    "num_svm = skl.svm.SVC(probability=True)\n",
    "# fit model\n",
    "num_svm.fit(cat_X_train, cat_y_train)\n",
    "# make predictions\n",
    "numSVM_preds = num_svm.predict(cat_X_test)\n",
    "numSVM_probs = num_svm.predict_proba(cat_X_test)[:,1]\n",
    "print(\"LRM Accuracy: \", skl.metrics.accuracy_score(cat_y_test, numSVM_preds))\n",
    "print(\"LRM F1: \", skl.metrics.f1_score(cat_y_test, numSVM_preds))\n",
    "print(\"LRM AUC: \", skl.metrics.roc_auc_score(cat_y_test, numSVM_probs))"
   ],
   "metadata": {
    "collapsed": false,
    "ExecuteTime": {
     "end_time": "2024-04-04T00:22:00.646160Z",
     "start_time": "2024-04-04T00:21:57.821444Z"
    },
    "pycharm": {
     "name": "#%%\n"
    }
   },
   "id": "b6a89fe658a4a23",
   "execution_count": 82
  },
  {
   "cell_type": "markdown",
   "source": [
    "XGB Classifier with numeric data"
   ],
   "metadata": {
    "collapsed": false,
    "pycharm": {
     "name": "#%% md\n"
    }
   },
   "id": "ddabe8e945ef2cd8"
  },
  {
   "cell_type": "code",
   "outputs": [
    {
     "name": "stdout",
     "output_type": "stream",
     "text": [
      "LRM Accuracy:  0.6063694267515923\n",
      "LRM F1:  0.17158176943699732\n",
      "LRM AUC:  0.6092432390697176\n",
      "XGB Cross-Validated AUC:  0.6147106574187349\n"
     ]
    }
   ],
   "source": [
    "num_bst = XGBClassifier(booster = 'gbtree',\n",
    "                        n_estimators=3,\n",
    "                        max_depth=3,\n",
    "                        objective='binary:logistic')\n",
    "# fit model\n",
    "num_bst.fit(num_X_train, num_y_train)\n",
    "# make predictions\n",
    "numBst_preds = num_bst.predict(num_X_test)\n",
    "numBst_probs = num_bst.predict_proba(num_X_test)[:,1]\n",
    "print(\"LRM Accuracy: \", skl.metrics.accuracy_score(num_y_test, numBst_preds))\n",
    "print(\"LRM F1: \", skl.metrics.f1_score(num_y_test, numBst_preds))\n",
    "print(\"LRM AUC: \", skl.metrics.roc_auc_score(num_y_test, numBst_probs))\n",
    "print(\"XGB Cross-Validated AUC: \", np.mean(skl.model_selection.cross_val_score(num_bst,\n",
    "                                                                               num_full_train_data,\n",
    "                                                                               full_train_data_targetVector,\n",
    "                                                                               scoring=\"roc_auc\",\n",
    "                                                                               cv=5)))"
   ],
   "metadata": {
    "collapsed": false,
    "ExecuteTime": {
     "end_time": "2024-04-04T00:24:18.853955Z",
     "start_time": "2024-04-04T00:24:18.833410Z"
    },
    "pycharm": {
     "name": "#%%\n"
    }
   },
   "id": "8ac4abf366d15ba1",
   "execution_count": 79
  },
  {
   "cell_type": "markdown",
   "source": [
    "I try a model for **combined data**."
   ],
   "metadata": {
    "collapsed": false,
    "pycharm": {
     "name": "#%% md\n"
    }
   },
   "id": "e2be2f78c3b9ae34"
  },
  {
   "cell_type": "markdown",
   "source": [
    "First I decide what to combine. Experimentation reveals that:\n",
    "* Imputing NA's rather than leaving them NA tends to reduce performance\n",
    "* After much back-and-forth, it appears that including the label-encoded 2nd_diag & 3rd_diag data reduces performance, particularly for XGBoost & other tree-based methods. So I leave them out of my final model.\n",
    "* Using the unscaled numeric data reduces performance for some models, so I stick with the scaled data.\n",
    "    *   Tree-based methods like RF & XGB do not benefit from scaling, but I continue using the scaled data for the simplicity of not having yet another variable to track, since it should be the same either way."
   ],
   "metadata": {
    "collapsed": false,
    "pycharm": {
     "name": "#%% md\n"
    }
   },
   "id": "c1dd0d562de521dc"
  },
  {
   "cell_type": "code",
   "execution_count": 287,
   "outputs": [
    {
     "data": {
      "text/plain": "array([[ 1.        ,  6.        ,         nan, ..., -0.32202803,\n        -0.2686923 ,  0.48699776],\n       [ 1.        ,  6.        ,         nan, ..., -0.32202803,\n        -0.2686923 ,  0.48699776],\n       [ 1.        ,  2.        , 12.        , ..., -0.32202803,\n        -0.2686923 ,  0.98066413],\n       ...,\n       [ 1.        ,  2.        ,  6.        , ..., -0.32202803,\n        -0.2686923 ,  0.98066413],\n       [ 9.        ,  2.        ,         nan, ..., -0.32202803,\n        -0.2686923 , -1.48766774],\n       [ 3.        ,  2.        ,         nan, ..., -0.32202803,\n        -0.2686923 ,  0.98066413]])"
     },
     "execution_count": 287,
     "metadata": {},
     "output_type": "execute_result"
    }
   ],
   "source": [
    "comb_full_train_data = np.append(lencCat_full_train_data,\n",
    "                                 scaledNum_full_train_data,\n",
    "                                 axis=1)\n",
    "#comb_full_train_data = np.append(comb_full_train_data,\n",
    "#                                diags_full_train_data_lenc,\n",
    "#                                axis = 1)\n",
    "comb_full_train_data\n",
    "\n",
    "# Columns correspond to\n",
    "# 0:'discharge_disposition_id',\n",
    "# 1:'admission_source_id',\n",
    "# 2:'payer_code',\n",
    "# 3:'medical_specialty',\n",
    "# 4:'max_glu_serum',\n",
    "# 5: 'metformin',\n",
    "# 6:'repaglinide',\n",
    "# 7:'glimepiride',\n",
    "# 8:'glipizide',\n",
    "# 9: 'glyburide',\n",
    "# 10: 'pioglitazone',\n",
    "# 11: 'rosiglitazone',\n",
    "# 12:'insulin',\n",
    "# 13: 'change',\n",
    "# 14: 'diabetesMed',\n",
    "# 15:'num_lab_procedures',\n",
    "# 16:'num_procedures',\n",
    "# 17:'num_medications',\n",
    "# 18:'number_outpatient',\n",
    "# 19:'number_emergency',\n",
    "# 20:'number_diagnoses'\n",
    "# 21:'2nd_diag'\n",
    "# 22:'3rd_diag'"
   ],
   "metadata": {
    "collapsed": false,
    "pycharm": {
     "name": "#%%\n"
    }
   },
   "id": "98aca99c564dfb73"
  },
  {
   "cell_type": "markdown",
   "source": [
    "Since earlier I imputed NAs where I believed that was reasonable, the remaining NAs are values that I believe can't be simply imputed by assuming they are the most frequent category. Here, I instead assign missing values to their own category (-1). All columns with remaining NAs were previously categorical."
   ],
   "metadata": {
    "collapsed": false,
    "pycharm": {
     "name": "#%% md\n"
    }
   },
   "id": "aedd2738a1d98906"
  },
  {
   "cell_type": "code",
   "execution_count": 288,
   "outputs": [
    {
     "data": {
      "text/plain": "array([[ 1.        ,  6.        , -1.        , ..., -0.32202803,\n        -0.2686923 ,  0.48699776],\n       [ 1.        ,  6.        , -1.        , ..., -0.32202803,\n        -0.2686923 ,  0.48699776],\n       [ 1.        ,  2.        , 12.        , ..., -0.32202803,\n        -0.2686923 ,  0.98066413],\n       ...,\n       [ 1.        ,  2.        ,  6.        , ..., -0.32202803,\n        -0.2686923 ,  0.98066413],\n       [ 9.        ,  2.        , -1.        , ..., -0.32202803,\n        -0.2686923 , -1.48766774],\n       [ 3.        ,  2.        , -1.        , ..., -0.32202803,\n        -0.2686923 ,  0.98066413]])"
     },
     "execution_count": 288,
     "metadata": {},
     "output_type": "execute_result"
    }
   ],
   "source": [
    "#Only columns 0-4 contain NAs, but I code the below to cover all previously categorical columns for futureproofing.\n",
    "cat_imputer1 = SimpleImputer(strategy='constant',\n",
    "                             fill_value=-1)\n",
    "#cat_imputer2 = SimpleImputer(strategy='median')\n",
    "comb_full_train_data_imputed = comb_full_train_data.copy()\n",
    "comb_full_train_data_imputed[:,0:15] = cat_imputer1.fit_transform(comb_full_train_data[:,0:15])\n",
    "#comb_full_train_data_imputed[:,16:22] = cat_imputer2.fit_transform(comb_full_train_data[:,16:22])\n",
    "\n",
    "#I experimented with dropping\n",
    "#comb_full_train_data_imputed = comb_full_train_data_imputed[:,(0,1,4,5,6,7,8,9,10,11,12,13,14,15,16,17,18,19,20)]\n",
    "comb_full_train_data_imputed"
   ],
   "metadata": {
    "collapsed": false,
    "pycharm": {
     "name": "#%%\n"
    }
   },
   "id": "a22ea489dc021ef7"
  },
  {
   "cell_type": "markdown",
   "source": [
    "Imputing does not improve performance and in some places makes performance worse, so I only use the version of the data with imputed values for linear methods like LogReg & SVMs, which cannot handle NAs."
   ],
   "metadata": {
    "collapsed": false,
    "pycharm": {
     "name": "#%% md\n"
    }
   },
   "id": "34c2c0cf2f316e71"
  },
  {
   "cell_type": "code",
   "execution_count": 289,
   "outputs": [],
   "source": [
    "comb_X_train, comb_X_test, comb_y_train, comb_y_test = train_test_split(\n",
    "    comb_full_train_data,\n",
    "    full_train_data_targetVector,\n",
    "    stratify=full_train_data_targetVector,\n",
    "    test_size=0.2)"
   ],
   "metadata": {
    "collapsed": false,
    "pycharm": {
     "name": "#%%\n"
    }
   },
   "id": "afb07ce0337193bb"
  },
  {
   "cell_type": "code",
   "execution_count": 290,
   "outputs": [],
   "source": [
    "combImp_X_train, combImp_X_test, combImp_y_train, combImp_y_test = train_test_split(\n",
    "    comb_full_train_data_imputed,\n",
    "    full_train_data_targetVector,\n",
    "    stratify=full_train_data_targetVector,\n",
    "    test_size=0.2)"
   ],
   "metadata": {
    "collapsed": false,
    "pycharm": {
     "name": "#%%\n"
    }
   },
   "id": "70110b69805c2273"
  },
  {
   "cell_type": "markdown",
   "source": [
    "Logistic regression on combined data"
   ],
   "metadata": {
    "collapsed": false,
    "pycharm": {
     "name": "#%% md\n"
    }
   },
   "id": "12136615920e022e"
  },
  {
   "cell_type": "code",
   "execution_count": 259,
   "outputs": [
    {
     "name": "stdout",
     "output_type": "stream",
     "text": [
      "LRC Accuracy:  0.6273885350318471\n",
      "LRC F1:  0.3899895724713243\n",
      "LRC AUC:  0.63034093350521\n",
      "LRC Manual Cross-Validated AUC:  0.6273399734128263\n",
      "LRC Cross-Validated AUC:  0.6258236588897574\n"
     ]
    }
   ],
   "source": [
    "lrc = skl.linear_model.LogisticRegression(max_iter=1000)\n",
    "\n",
    "lrc.fit(combImp_X_train, combImp_y_train)\n",
    "lrc_preds = lrc.predict(combImp_X_test)\n",
    "lrc_probs = lrc.predict_proba(combImp_X_test)[:,1]\n",
    "print(\"LRC Accuracy: \", skl.metrics.accuracy_score(combImp_y_test, lrc_preds))\n",
    "print(\"LRC F1: \", skl.metrics.f1_score(combImp_y_test, lrc_preds))\n",
    "print(\"LRC AUC: \", skl.metrics.roc_auc_score(combImp_y_test, lrc_probs))\n",
    "print(\"LRC Manual Cross-Validated AUC: \", customCrossVal(X = comb_full_train_data_imputed,\n",
    "                                                         model = lrc,\n",
    "                                                         loops = 10))\n",
    "print(\"LRC Cross-Validated AUC: \", np.mean(skl.model_selection.cross_val_score(lrc,\n",
    "                                                                               comb_full_train_data_imputed,\n",
    "                                                                               full_train_data_targetVector,\n",
    "                                                                               scoring=\"roc_auc\",\n",
    "                                                                               cv=10,\n",
    "                                                                               n_jobs=-1)))"
   ],
   "metadata": {
    "collapsed": false,
    "pycharm": {
     "name": "#%%\n"
    }
   },
   "id": "508bd3537a74d08f"
  },
  {
   "cell_type": "markdown",
   "source": [
    "SVM on combined data"
   ],
   "metadata": {
    "collapsed": false,
    "pycharm": {
     "name": "#%% md\n"
    }
   },
   "id": "4b7072f08068c221"
  },
  {
   "cell_type": "markdown",
   "source": [
    "I optimize my SVC with random search"
   ],
   "metadata": {
    "collapsed": false,
    "pycharm": {
     "name": "#%% md\n"
    }
   },
   "id": "790b6725fcfb4701"
  },
  {
   "cell_type": "code",
   "execution_count": null,
   "outputs": [],
   "source": [
    "# # WILL TAKE VERY LONG TO RUN\n",
    "# start = datetime.datetime.now()\n",
    "# parameters = {'C': [0.01, 0.1, 0.2, 0.3, 1, 2],\n",
    "#               'degree': [1, 2, 3],\n",
    "#               'gamma': ['scale', 0.1, 1, 5, 8, 10],\n",
    "#               'class_weight': [{1: 0.9}, None, {1: 1.1}, 'balanced']}\n",
    "# svc = skl.svm.SVC(kernel = 'poly')\n",
    "# rs_svc = skl.model_selection.RandomizedSearchCV(svc,\n",
    "#                                           parameters,\n",
    "#                                           scoring=\"roc_auc\",\n",
    "#                                           n_jobs=-1,\n",
    "#                                           verbose = 3)\n",
    "#\n",
    "# rs_svc.fit(combImp_X_train, combImp_y_train)\n",
    "#\n",
    "# end = datetime.datetime.now()\n",
    "# time_elapsed = end - start\n",
    "# print(\"Time elapsed: \", time_elapsed)\n",
    "#\n",
    "# rs_svc.best_estimator_"
   ],
   "metadata": {
    "collapsed": false,
    "pycharm": {
     "name": "#%%\n",
     "is_executing": true
    }
   },
   "id": "b9d38804c773263"
  },
  {
   "cell_type": "code",
   "execution_count": 291,
   "outputs": [
    {
     "name": "stdout",
     "output_type": "stream",
     "text": [
      "SVC Accuracy:  0.5789808917197452\n",
      "SVC F1:  0.5506458191706323\n",
      "SVC AUC:  0.6141334998388657\n",
      "SVC Manual Cross-Validated AUC:  0.6260840483671716\n",
      "SVC Cross-Validated AUC:  0.6229781375788358\n"
     ]
    }
   ],
   "source": [
    "svc = skl.svm.SVC(C=1,\n",
    "                  kernel = 'poly',\n",
    "                  class_weight='balanced',\n",
    "                  degree = 1,\n",
    "                  gamma = 'scale',\n",
    "                  probability=True)\n",
    "\n",
    "svc.fit(combImp_X_train, combImp_y_train)\n",
    "svc_preds = svc.predict(combImp_X_test)\n",
    "svc_probs = svc.predict_proba(combImp_X_test)[:,1]\n",
    "print(\"SVC Accuracy: \", skl.metrics.accuracy_score(combImp_y_test, svc_preds))\n",
    "print(\"SVC F1: \", skl.metrics.f1_score(combImp_y_test, svc_preds))\n",
    "print(\"SVC AUC: \", skl.metrics.roc_auc_score(combImp_y_test, svc_probs))\n",
    "print(\"SVC Manual Cross-Validated AUC: \", customCrossVal(X = comb_full_train_data_imputed,\n",
    "                                                         model = svc,\n",
    "                                                         loops = 10))\n",
    "print(\"SVC Cross-Validated AUC: \", np.mean(skl.model_selection.cross_val_score(svc,\n",
    "                                                                               comb_full_train_data_imputed,\n",
    "                                                                               full_train_data_targetVector,\n",
    "                                                                               scoring=\"roc_auc\",\n",
    "                                                                               cv=10,\n",
    "                                                                               n_jobs=-1)))"
   ],
   "metadata": {
    "collapsed": false,
    "pycharm": {
     "name": "#%%\n"
    }
   },
   "id": "17b9c8f980e82fa"
  },
  {
   "cell_type": "markdown",
   "source": [
    "I select this model to be one of my final models, so I train it on the full training data."
   ],
   "metadata": {
    "collapsed": false,
    "pycharm": {
     "name": "#%% md\n"
    }
   },
   "id": "92deabd62add722"
  },
  {
   "cell_type": "code",
   "source": [
    "opt_svc = skl.svm.SVC(C=1,\n",
    "                  kernel='poly',\n",
    "                  class_weight='balanced',\n",
    "                  degree=1,\n",
    "                  gamma='scale',\n",
    "                  probability=True)\n",
    "\n",
    "opt_svc.fit(comb_full_train_data_imputed, full_train_data_targetVector)"
   ],
   "metadata": {
    "collapsed": false,
    "pycharm": {
     "name": "#%%\n"
    }
   },
   "id": "5ca821bff0416a47",
   "outputs": [],
   "execution_count": null
  },
  {
   "cell_type": "markdown",
   "source": [
    "Naive Bayes classifier with imputed combined data."
   ],
   "metadata": {
    "collapsed": false,
    "pycharm": {
     "name": "#%% md\n"
    }
   },
   "id": "c3c96d9a556ed2f7"
  },
  {
   "cell_type": "code",
   "execution_count": 161,
   "outputs": [
    {
     "name": "stdout",
     "output_type": "stream",
     "text": [
      "Gaussian NB Accuracy:  0.6171974522292993\n",
      "Gaussian NB F1:  0.36803364879074657\n",
      "Gaussian NB AUC:  0.631566226232678\n",
      "Gaussian NB Manual Cross-Validated AUC:  0.6145316360511334\n",
      "Gaussian NB Cross-Validated AUC:  0.6135452288212689\n"
     ]
    }
   ],
   "source": [
    "gnbc = skl.naive_bayes.GaussianNB()\n",
    "\n",
    "gnbc.fit(combImp_X_train, combImp_y_train)\n",
    "gnbc_preds = gnbc.predict(combImp_X_test)\n",
    "gnbc_probs = gnbc.predict_proba(combImp_X_test)[:,1]\n",
    "print(\"Gaussian NB Accuracy: \", skl.metrics.accuracy_score(combImp_y_test, gnbc_preds))\n",
    "print(\"Gaussian NB F1: \", skl.metrics.f1_score(combImp_y_test, gnbc_preds))\n",
    "print(\"Gaussian NB AUC: \", skl.metrics.roc_auc_score(combImp_y_test, gnbc_probs))\n",
    "print(\"Gaussian NB Manual Cross-Validated AUC: \", customCrossVal(X = comb_full_train_data_imputed,\n",
    "                                                         model = gnbc,\n",
    "                                                         loops = 50))\n",
    "print(\"Gaussian NB Cross-Validated AUC: \", np.mean(skl.model_selection.cross_val_score(gnbc,\n",
    "                                                                               comb_full_train_data_imputed,\n",
    "                                                                               full_train_data_targetVector,\n",
    "                                                                               scoring=\"roc_auc\",\n",
    "                                                                               cv=10,\n",
    "                                                                               n_jobs=-1)))"
   ],
   "metadata": {
    "collapsed": false,
    "pycharm": {
     "name": "#%%\n"
    }
   },
   "id": "55ba832ac1bffa5"
  },
  {
   "cell_type": "markdown",
   "source": [
    "Gradient-Boosted classifier with combined data"
   ],
   "metadata": {
    "collapsed": false,
    "pycharm": {
     "name": "#%% md\n"
    }
   },
   "id": "53b732eff6a975fe"
  },
  {
   "cell_type": "markdown",
   "source": [
    "I optimize my Gradient-boosted classifier with gridsearch.\n",
    "\n",
    "The chosen hyperparameters and parameters are themselves the result of extensive experimentation."
   ],
   "metadata": {
    "collapsed": false,
    "pycharm": {
     "name": "#%% md\n"
    }
   },
   "id": "2ec029044277955d"
  },
  {
   "cell_type": "code",
   "execution_count": 228,
   "outputs": [
    {
     "name": "stdout",
     "output_type": "stream",
     "text": [
      "Fitting 5 folds for each of 35 candidates, totalling 175 fits\n",
      "Time elapsed:  0:00:13.629586\n"
     ]
    },
    {
     "data": {
      "text/plain": "GradientBoostingClassifier(learning_rate=0.11)",
      "text/html": "<style>#sk-container-id-8 {\n  /* Definition of color scheme common for light and dark mode */\n  --sklearn-color-text: black;\n  --sklearn-color-line: gray;\n  /* Definition of color scheme for unfitted estimators */\n  --sklearn-color-unfitted-level-0: #fff5e6;\n  --sklearn-color-unfitted-level-1: #f6e4d2;\n  --sklearn-color-unfitted-level-2: #ffe0b3;\n  --sklearn-color-unfitted-level-3: chocolate;\n  /* Definition of color scheme for fitted estimators */\n  --sklearn-color-fitted-level-0: #f0f8ff;\n  --sklearn-color-fitted-level-1: #d4ebff;\n  --sklearn-color-fitted-level-2: #b3dbfd;\n  --sklearn-color-fitted-level-3: cornflowerblue;\n\n  /* Specific color for light theme */\n  --sklearn-color-text-on-default-background: var(--sg-text-color, var(--theme-code-foreground, var(--jp-content-font-color1, black)));\n  --sklearn-color-background: var(--sg-background-color, var(--theme-background, var(--jp-layout-color0, white)));\n  --sklearn-color-border-box: var(--sg-text-color, var(--theme-code-foreground, var(--jp-content-font-color1, black)));\n  --sklearn-color-icon: #696969;\n\n  @media (prefers-color-scheme: dark) {\n    /* Redefinition of color scheme for dark theme */\n    --sklearn-color-text-on-default-background: var(--sg-text-color, var(--theme-code-foreground, var(--jp-content-font-color1, white)));\n    --sklearn-color-background: var(--sg-background-color, var(--theme-background, var(--jp-layout-color0, #111)));\n    --sklearn-color-border-box: var(--sg-text-color, var(--theme-code-foreground, var(--jp-content-font-color1, white)));\n    --sklearn-color-icon: #878787;\n  }\n}\n\n#sk-container-id-8 {\n  color: var(--sklearn-color-text);\n}\n\n#sk-container-id-8 pre {\n  padding: 0;\n}\n\n#sk-container-id-8 input.sk-hidden--visually {\n  border: 0;\n  clip: rect(1px 1px 1px 1px);\n  clip: rect(1px, 1px, 1px, 1px);\n  height: 1px;\n  margin: -1px;\n  overflow: hidden;\n  padding: 0;\n  position: absolute;\n  width: 1px;\n}\n\n#sk-container-id-8 div.sk-dashed-wrapped {\n  border: 1px dashed var(--sklearn-color-line);\n  margin: 0 0.4em 0.5em 0.4em;\n  box-sizing: border-box;\n  padding-bottom: 0.4em;\n  background-color: var(--sklearn-color-background);\n}\n\n#sk-container-id-8 div.sk-container {\n  /* jupyter's `normalize.less` sets `[hidden] { display: none; }`\n     but bootstrap.min.css set `[hidden] { display: none !important; }`\n     so we also need the `!important` here to be able to override the\n     default hidden behavior on the sphinx rendered scikit-learn.org.\n     See: https://github.com/scikit-learn/scikit-learn/issues/21755 */\n  display: inline-block !important;\n  position: relative;\n}\n\n#sk-container-id-8 div.sk-text-repr-fallback {\n  display: none;\n}\n\ndiv.sk-parallel-item,\ndiv.sk-serial,\ndiv.sk-item {\n  /* draw centered vertical line to link estimators */\n  background-image: linear-gradient(var(--sklearn-color-text-on-default-background), var(--sklearn-color-text-on-default-background));\n  background-size: 2px 100%;\n  background-repeat: no-repeat;\n  background-position: center center;\n}\n\n/* Parallel-specific style estimator block */\n\n#sk-container-id-8 div.sk-parallel-item::after {\n  content: \"\";\n  width: 100%;\n  border-bottom: 2px solid var(--sklearn-color-text-on-default-background);\n  flex-grow: 1;\n}\n\n#sk-container-id-8 div.sk-parallel {\n  display: flex;\n  align-items: stretch;\n  justify-content: center;\n  background-color: var(--sklearn-color-background);\n  position: relative;\n}\n\n#sk-container-id-8 div.sk-parallel-item {\n  display: flex;\n  flex-direction: column;\n}\n\n#sk-container-id-8 div.sk-parallel-item:first-child::after {\n  align-self: flex-end;\n  width: 50%;\n}\n\n#sk-container-id-8 div.sk-parallel-item:last-child::after {\n  align-self: flex-start;\n  width: 50%;\n}\n\n#sk-container-id-8 div.sk-parallel-item:only-child::after {\n  width: 0;\n}\n\n/* Serial-specific style estimator block */\n\n#sk-container-id-8 div.sk-serial {\n  display: flex;\n  flex-direction: column;\n  align-items: center;\n  background-color: var(--sklearn-color-background);\n  padding-right: 1em;\n  padding-left: 1em;\n}\n\n\n/* Toggleable style: style used for estimator/Pipeline/ColumnTransformer box that is\nclickable and can be expanded/collapsed.\n- Pipeline and ColumnTransformer use this feature and define the default style\n- Estimators will overwrite some part of the style using the `sk-estimator` class\n*/\n\n/* Pipeline and ColumnTransformer style (default) */\n\n#sk-container-id-8 div.sk-toggleable {\n  /* Default theme specific background. It is overwritten whether we have a\n  specific estimator or a Pipeline/ColumnTransformer */\n  background-color: var(--sklearn-color-background);\n}\n\n/* Toggleable label */\n#sk-container-id-8 label.sk-toggleable__label {\n  cursor: pointer;\n  display: block;\n  width: 100%;\n  margin-bottom: 0;\n  padding: 0.5em;\n  box-sizing: border-box;\n  text-align: center;\n}\n\n#sk-container-id-8 label.sk-toggleable__label-arrow:before {\n  /* Arrow on the left of the label */\n  content: \"▸\";\n  float: left;\n  margin-right: 0.25em;\n  color: var(--sklearn-color-icon);\n}\n\n#sk-container-id-8 label.sk-toggleable__label-arrow:hover:before {\n  color: var(--sklearn-color-text);\n}\n\n/* Toggleable content - dropdown */\n\n#sk-container-id-8 div.sk-toggleable__content {\n  max-height: 0;\n  max-width: 0;\n  overflow: hidden;\n  text-align: left;\n  /* unfitted */\n  background-color: var(--sklearn-color-unfitted-level-0);\n}\n\n#sk-container-id-8 div.sk-toggleable__content.fitted {\n  /* fitted */\n  background-color: var(--sklearn-color-fitted-level-0);\n}\n\n#sk-container-id-8 div.sk-toggleable__content pre {\n  margin: 0.2em;\n  border-radius: 0.25em;\n  color: var(--sklearn-color-text);\n  /* unfitted */\n  background-color: var(--sklearn-color-unfitted-level-0);\n}\n\n#sk-container-id-8 div.sk-toggleable__content.fitted pre {\n  /* unfitted */\n  background-color: var(--sklearn-color-fitted-level-0);\n}\n\n#sk-container-id-8 input.sk-toggleable__control:checked~div.sk-toggleable__content {\n  /* Expand drop-down */\n  max-height: 200px;\n  max-width: 100%;\n  overflow: auto;\n}\n\n#sk-container-id-8 input.sk-toggleable__control:checked~label.sk-toggleable__label-arrow:before {\n  content: \"▾\";\n}\n\n/* Pipeline/ColumnTransformer-specific style */\n\n#sk-container-id-8 div.sk-label input.sk-toggleable__control:checked~label.sk-toggleable__label {\n  color: var(--sklearn-color-text);\n  background-color: var(--sklearn-color-unfitted-level-2);\n}\n\n#sk-container-id-8 div.sk-label.fitted input.sk-toggleable__control:checked~label.sk-toggleable__label {\n  background-color: var(--sklearn-color-fitted-level-2);\n}\n\n/* Estimator-specific style */\n\n/* Colorize estimator box */\n#sk-container-id-8 div.sk-estimator input.sk-toggleable__control:checked~label.sk-toggleable__label {\n  /* unfitted */\n  background-color: var(--sklearn-color-unfitted-level-2);\n}\n\n#sk-container-id-8 div.sk-estimator.fitted input.sk-toggleable__control:checked~label.sk-toggleable__label {\n  /* fitted */\n  background-color: var(--sklearn-color-fitted-level-2);\n}\n\n#sk-container-id-8 div.sk-label label.sk-toggleable__label,\n#sk-container-id-8 div.sk-label label {\n  /* The background is the default theme color */\n  color: var(--sklearn-color-text-on-default-background);\n}\n\n/* On hover, darken the color of the background */\n#sk-container-id-8 div.sk-label:hover label.sk-toggleable__label {\n  color: var(--sklearn-color-text);\n  background-color: var(--sklearn-color-unfitted-level-2);\n}\n\n/* Label box, darken color on hover, fitted */\n#sk-container-id-8 div.sk-label.fitted:hover label.sk-toggleable__label.fitted {\n  color: var(--sklearn-color-text);\n  background-color: var(--sklearn-color-fitted-level-2);\n}\n\n/* Estimator label */\n\n#sk-container-id-8 div.sk-label label {\n  font-family: monospace;\n  font-weight: bold;\n  display: inline-block;\n  line-height: 1.2em;\n}\n\n#sk-container-id-8 div.sk-label-container {\n  text-align: center;\n}\n\n/* Estimator-specific */\n#sk-container-id-8 div.sk-estimator {\n  font-family: monospace;\n  border: 1px dotted var(--sklearn-color-border-box);\n  border-radius: 0.25em;\n  box-sizing: border-box;\n  margin-bottom: 0.5em;\n  /* unfitted */\n  background-color: var(--sklearn-color-unfitted-level-0);\n}\n\n#sk-container-id-8 div.sk-estimator.fitted {\n  /* fitted */\n  background-color: var(--sklearn-color-fitted-level-0);\n}\n\n/* on hover */\n#sk-container-id-8 div.sk-estimator:hover {\n  /* unfitted */\n  background-color: var(--sklearn-color-unfitted-level-2);\n}\n\n#sk-container-id-8 div.sk-estimator.fitted:hover {\n  /* fitted */\n  background-color: var(--sklearn-color-fitted-level-2);\n}\n\n/* Specification for estimator info (e.g. \"i\" and \"?\") */\n\n/* Common style for \"i\" and \"?\" */\n\n.sk-estimator-doc-link,\na:link.sk-estimator-doc-link,\na:visited.sk-estimator-doc-link {\n  float: right;\n  font-size: smaller;\n  line-height: 1em;\n  font-family: monospace;\n  background-color: var(--sklearn-color-background);\n  border-radius: 1em;\n  height: 1em;\n  width: 1em;\n  text-decoration: none !important;\n  margin-left: 1ex;\n  /* unfitted */\n  border: var(--sklearn-color-unfitted-level-1) 1pt solid;\n  color: var(--sklearn-color-unfitted-level-1);\n}\n\n.sk-estimator-doc-link.fitted,\na:link.sk-estimator-doc-link.fitted,\na:visited.sk-estimator-doc-link.fitted {\n  /* fitted */\n  border: var(--sklearn-color-fitted-level-1) 1pt solid;\n  color: var(--sklearn-color-fitted-level-1);\n}\n\n/* On hover */\ndiv.sk-estimator:hover .sk-estimator-doc-link:hover,\n.sk-estimator-doc-link:hover,\ndiv.sk-label-container:hover .sk-estimator-doc-link:hover,\n.sk-estimator-doc-link:hover {\n  /* unfitted */\n  background-color: var(--sklearn-color-unfitted-level-3);\n  color: var(--sklearn-color-background);\n  text-decoration: none;\n}\n\ndiv.sk-estimator.fitted:hover .sk-estimator-doc-link.fitted:hover,\n.sk-estimator-doc-link.fitted:hover,\ndiv.sk-label-container:hover .sk-estimator-doc-link.fitted:hover,\n.sk-estimator-doc-link.fitted:hover {\n  /* fitted */\n  background-color: var(--sklearn-color-fitted-level-3);\n  color: var(--sklearn-color-background);\n  text-decoration: none;\n}\n\n/* Span, style for the box shown on hovering the info icon */\n.sk-estimator-doc-link span {\n  display: none;\n  z-index: 9999;\n  position: relative;\n  font-weight: normal;\n  right: .2ex;\n  padding: .5ex;\n  margin: .5ex;\n  width: min-content;\n  min-width: 20ex;\n  max-width: 50ex;\n  color: var(--sklearn-color-text);\n  box-shadow: 2pt 2pt 4pt #999;\n  /* unfitted */\n  background: var(--sklearn-color-unfitted-level-0);\n  border: .5pt solid var(--sklearn-color-unfitted-level-3);\n}\n\n.sk-estimator-doc-link.fitted span {\n  /* fitted */\n  background: var(--sklearn-color-fitted-level-0);\n  border: var(--sklearn-color-fitted-level-3);\n}\n\n.sk-estimator-doc-link:hover span {\n  display: block;\n}\n\n/* \"?\"-specific style due to the `<a>` HTML tag */\n\n#sk-container-id-8 a.estimator_doc_link {\n  float: right;\n  font-size: 1rem;\n  line-height: 1em;\n  font-family: monospace;\n  background-color: var(--sklearn-color-background);\n  border-radius: 1rem;\n  height: 1rem;\n  width: 1rem;\n  text-decoration: none;\n  /* unfitted */\n  color: var(--sklearn-color-unfitted-level-1);\n  border: var(--sklearn-color-unfitted-level-1) 1pt solid;\n}\n\n#sk-container-id-8 a.estimator_doc_link.fitted {\n  /* fitted */\n  border: var(--sklearn-color-fitted-level-1) 1pt solid;\n  color: var(--sklearn-color-fitted-level-1);\n}\n\n/* On hover */\n#sk-container-id-8 a.estimator_doc_link:hover {\n  /* unfitted */\n  background-color: var(--sklearn-color-unfitted-level-3);\n  color: var(--sklearn-color-background);\n  text-decoration: none;\n}\n\n#sk-container-id-8 a.estimator_doc_link.fitted:hover {\n  /* fitted */\n  background-color: var(--sklearn-color-fitted-level-3);\n}\n</style><div id=\"sk-container-id-8\" class=\"sk-top-container\"><div class=\"sk-text-repr-fallback\"><pre>GradientBoostingClassifier(learning_rate=0.11)</pre><b>In a Jupyter environment, please rerun this cell to show the HTML representation or trust the notebook. <br />On GitHub, the HTML representation is unable to render, please try loading this page with nbviewer.org.</b></div><div class=\"sk-container\" hidden><div class=\"sk-item\"><div class=\"sk-estimator fitted sk-toggleable\"><input class=\"sk-toggleable__control sk-hidden--visually\" id=\"sk-estimator-id-8\" type=\"checkbox\" checked><label for=\"sk-estimator-id-8\" class=\"sk-toggleable__label fitted sk-toggleable__label-arrow fitted\">&nbsp;&nbsp;GradientBoostingClassifier<a class=\"sk-estimator-doc-link fitted\" rel=\"noreferrer\" target=\"_blank\" href=\"https://scikit-learn.org/1.4/modules/generated/sklearn.ensemble.GradientBoostingClassifier.html\">?<span>Documentation for GradientBoostingClassifier</span></a><span class=\"sk-estimator-doc-link fitted\">i<span>Fitted</span></span></label><div class=\"sk-toggleable__content fitted\"><pre>GradientBoostingClassifier(learning_rate=0.11)</pre></div> </div></div></div></div>"
     },
     "execution_count": 228,
     "metadata": {},
     "output_type": "execute_result"
    }
   ],
   "source": [
    "# start = datetime.datetime.now()\n",
    "# parameters = {'learning_rate': [0.075,0.09,0.1,0.11,0.2],\n",
    "#               'n_estimators': [50,99,100,101,150,200,500]}\n",
    "# gbc = skl.ensemble.GradientBoostingClassifier(criterion='friedman_mse',\n",
    "#                                               loss = 'log_loss')\n",
    "# gs_gbc = skl.model_selection.GridSearchCV(gbc,\n",
    "#                                           parameters,\n",
    "#                                           scoring=\"roc_auc\",\n",
    "#                                           n_jobs=-1,\n",
    "#                                           verbose=1\n",
    "#                                           )\n",
    "#\n",
    "# gs_gbc.fit(combImp_X_train, combImp_y_train)\n",
    "#\n",
    "# end = datetime.datetime.now()\n",
    "# time_elapsed = end - start\n",
    "# print(\"Time elapsed: \", time_elapsed)\n",
    "#\n",
    "# gs_gbc.best_estimator_"
   ],
   "metadata": {
    "collapsed": false,
    "pycharm": {
     "name": "#%%\n"
    }
   },
   "id": "7a3ad2ac32fe056"
  },
  {
   "cell_type": "code",
   "execution_count": 160,
   "outputs": [
    {
     "name": "stdout",
     "output_type": "stream",
     "text": [
      "GBC Accuracy:  0.6146496815286624\n",
      "GBC F1:  0.3968095712861416\n",
      "GBC AUC:  0.6505070697711892\n",
      "GBC Manual Cross-Validated AUC:  0.6505458427328391\n",
      "GBC Cross-Validated AUC:  0.6518059246526794\n"
     ]
    }
   ],
   "source": [
    "gbc = skl.ensemble.GradientBoostingClassifier(criterion='friedman_mse',\n",
    "                                              loss = 'log_loss',\n",
    "                                              learning_rate = 0.11,\n",
    "                                              n_estimators = 100)\n",
    "\n",
    "gbc.fit(combImp_X_train, combImp_y_train)\n",
    "GBC_preds = gbc.predict(combImp_X_test)\n",
    "GBC_probs = gbc.predict_proba(combImp_X_test)[:,1]\n",
    "print(\"GBC Accuracy: \", skl.metrics.accuracy_score(combImp_y_test, GBC_preds))\n",
    "print(\"GBC F1: \", skl.metrics.f1_score(combImp_y_test, GBC_preds))\n",
    "print(\"GBC AUC: \", skl.metrics.roc_auc_score(combImp_y_test, GBC_probs))\n",
    "print(\"GBC Manual Cross-Validated AUC: \", customCrossVal(X = comb_full_train_data_imputed,\n",
    "                                                                 model = gbc,\n",
    "                                                                 loops = 10))\n",
    "print(\"GBC Cross-Validated AUC: \", np.mean(skl.model_selection.cross_val_score(gbc,\n",
    "                                                                                       comb_full_train_data_imputed,\n",
    "                                                                                       full_train_data_targetVector,\n",
    "                                                                                       scoring=\"roc_auc\",\n",
    "                                                                                       cv=10,\n",
    "                                                                                       n_jobs=-1)))"
   ],
   "metadata": {
    "collapsed": false,
    "pycharm": {
     "name": "#%%\n"
    }
   },
   "id": "6b9f9ade07387863"
  },
  {
   "cell_type": "markdown",
   "source": [
    "Given its performance, I choose this optimized model to be one of my final models."
   ],
   "metadata": {
    "collapsed": false,
    "pycharm": {
     "name": "#%% md\n"
    }
   },
   "id": "9232417c26bb922d"
  },
  {
   "cell_type": "code",
   "execution_count": null,
   "outputs": [],
   "source": [
    "opt_gbc = skl.ensemble.GradientBoostingClassifier(criterion='friedman_mse',\n",
    "                                              loss = 'log_loss',\n",
    "                                              learning_rate = 0.11,\n",
    "                                              n_estimators = 100)\n",
    "\n",
    "opt_gbc.fit(comb_full_train_data_imputed, full_train_data_targetVector)"
   ],
   "metadata": {
    "collapsed": false,
    "pycharm": {
     "name": "#%%\n"
    }
   },
   "id": "b3b1587fa6b0755e"
  },
  {
   "cell_type": "markdown",
   "source": [
    "XGBoost classifier with combined data."
   ],
   "metadata": {
    "collapsed": false,
    "pycharm": {
     "name": "#%% md\n"
    }
   },
   "id": "77122956c2e4fde6"
  },
  {
   "cell_type": "code",
   "execution_count": 351,
   "outputs": [
    {
     "name": "stdout",
     "output_type": "stream",
     "text": [
      "XGB Accuracy:  0.632484076433121\n",
      "XGB F1:  0.5114309906858594\n",
      "XGB AUC:  0.6489435626812762\n",
      "XGB Manual Cross-Validated AUC:  0.632643476742937\n",
      "XGB Cross-Validated AUC:  0.6281040135222955\n"
     ]
    }
   ],
   "source": [
    "comb_bst = XGBClassifier()\n",
    "# fit model\n",
    "comb_bst.fit(comb_X_train, comb_y_train)\n",
    "# make predictions\n",
    "combBst_preds = comb_bst.predict(comb_X_test)\n",
    "combBst_probs = comb_bst.predict_proba(comb_X_test)[:,1]\n",
    "print(\"XGB Accuracy: \", skl.metrics.accuracy_score(comb_y_test, combBst_preds))\n",
    "print(\"XGB F1: \", skl.metrics.f1_score(comb_y_test, combBst_preds))\n",
    "print(\"XGB AUC: \", skl.metrics.roc_auc_score(comb_y_test, combBst_probs))\n",
    "print(\"XGB Manual Cross-Validated AUC: \", customCrossVal(X = comb_full_train_data,\n",
    "                                                  model = comb_bst,\n",
    "                                                  loops = 10))\n",
    "print(\"XGB Cross-Validated AUC: \", np.mean(skl.model_selection.cross_val_score(comb_bst,\n",
    "                                                                               comb_full_train_data,\n",
    "                                                                               full_train_data_targetVector,\n",
    "                                                                               scoring=\"roc_auc\",\n",
    "                                                                               cv=10,\n",
    "                                                                               n_jobs=-1)))"
   ],
   "metadata": {
    "collapsed": false,
    "pycharm": {
     "name": "#%%\n"
    }
   },
   "id": "c1fcb739ea686c69"
  },
  {
   "cell_type": "markdown",
   "source": [
    "I optimize my XGBoost model with Optuna.\n",
    "https://optuna.org/"
   ],
   "metadata": {
    "collapsed": false,
    "pycharm": {
     "name": "#%% md\n"
    }
   },
   "id": "c99178713446bdba"
  },
  {
   "cell_type": "code",
   "execution_count": null,
   "outputs": [],
   "source": [
    "def objective(trial):\n",
    "    dtrain = xgb.DMatrix(comb_X_train, label=comb_y_train)\n",
    "    dvalid = xgb.DMatrix(comb_X_test, label=comb_y_test)\n",
    "\n",
    "    param = {\n",
    "        \"verbosity\": 0,\n",
    "        \"objective\": \"binary:logistic\",\n",
    "        # use exact for small dataset.\n",
    "        \"tree_method\": \"exact\",\n",
    "        # defines booster, gblinear for linear functions.\n",
    "        \"booster\": trial.suggest_categorical(\"booster\", [\"gbtree\", \"gblinear\", \"dart\"]),\n",
    "        # L2 regularization weight.\n",
    "        \"lambda\": trial.suggest_float(\"lambda\", 1e-8, 1.0, log=True),\n",
    "        # L1 regularization weight.\n",
    "        \"alpha\": trial.suggest_float(\"alpha\", 1e-8, 1.0, log=True),\n",
    "        # sampling ratio for training data.\n",
    "        \"subsample\": trial.suggest_float(\"subsample\", 0.2, 1.0),\n",
    "        # sampling according to each tree.\n",
    "        \"colsample_bytree\": trial.suggest_float(\"colsample_bytree\", 0.2, 1.0),\n",
    "    }\n",
    "\n",
    "    if param[\"booster\"] in [\"gbtree\", \"dart\"]:\n",
    "        # maximum depth of the tree, signifies complexity of the tree.\n",
    "        param[\"max_depth\"] = trial.suggest_int(\"max_depth\", 3, 9, step=2)\n",
    "        # minimum child weight, larger the term more conservative the tree.\n",
    "        param[\"min_child_weight\"] = trial.suggest_int(\"min_child_weight\", 2, 10)\n",
    "        param[\"eta\"] = trial.suggest_float(\"eta\", 1e-8, 1.0, log=True)\n",
    "        # defines how selective algorithm is.\n",
    "        param[\"gamma\"] = trial.suggest_float(\"gamma\", 1e-8, 1.0, log=True)\n",
    "        param[\"grow_policy\"] = trial.suggest_categorical(\"grow_policy\", [\"depthwise\", \"lossguide\"])\n",
    "\n",
    "    if param[\"booster\"] == \"dart\":\n",
    "        param[\"sample_type\"] = trial.suggest_categorical(\"sample_type\", [\"uniform\", \"weighted\"])\n",
    "        param[\"normalize_type\"] = trial.suggest_categorical(\"normalize_type\", [\"tree\", \"forest\"])\n",
    "        param[\"rate_drop\"] = trial.suggest_float(\"rate_drop\", 1e-8, 1.0, log=True)\n",
    "        param[\"skip_drop\"] = trial.suggest_float(\"skip_drop\", 1e-8, 1.0, log=True)\n",
    "\n",
    "    bst = xgb.train(param, dtrain)\n",
    "    preds = bst.predict(dvalid)\n",
    "    pred_labels = np.rint(preds)\n",
    "    roc_auc = skl.metrics.roc_auc_score(comb_y_test, pred_labels)\n",
    "    return roc_auc\n",
    "\n",
    "\n",
    "if __name__ == \"__main__\":\n",
    "    study = optuna.create_study(direction=\"maximize\")\n",
    "    study.optimize(objective, n_trials=1000, timeout=600)\n",
    "\n",
    "    print(\"Number of finished trials: \", len(study.trials))\n",
    "    print(\"Best trial:\")\n",
    "    trial = study.best_trial\n",
    "\n",
    "    print(\"  Value: {}\".format(trial.value))\n",
    "    print(\"  Params: \")\n",
    "    for key, value in trial.params.items():\n",
    "        print(\"    {}: {}\".format(key, value))"
   ],
   "metadata": {
    "collapsed": false,
    "pycharm": {
     "name": "#%%\n",
     "is_executing": true
    }
   },
   "id": "5d8e842bd7ff9da"
  },
  {
   "cell_type": "markdown",
   "source": [
    "Now I apply my optimized values to my XGBoost model"
   ],
   "metadata": {
    "collapsed": false,
    "pycharm": {
     "name": "#%% md\n"
    }
   },
   "id": "f4b3d11947e24c73"
  },
  {
   "cell_type": "code",
   "execution_count": 198,
   "outputs": [
    {
     "name": "stdout",
     "output_type": "stream",
     "text": [
      "XGB Accuracy:  0.6267515923566879\n",
      "XGB F1:  0.45539033457249073\n",
      "XGB AUC:  0.6541309149747556\n",
      "XGB Manual Cross-Validated AUC:  0.6530968854065958\n",
      "XGB Cross-Validated AUC:  0.6528603833188671\n"
     ]
    }
   ],
   "source": [
    "comb_bst = XGBClassifier(booster='gbtree',\n",
    "                         grow_policy= 'depthwise',\n",
    "                         min_child_weight = 101,\n",
    "                         max_depth = 10,\n",
    "                         alpha = 0.01,\n",
    "                         reg_lambda=0.1,\n",
    "                         colsample_bytree = 0.51,\n",
    "                         eta = 0.2,\n",
    "                         gamma = 0.019,\n",
    "                         eval_metric = 'auc')\n",
    "# fit model\n",
    "comb_bst.fit(comb_X_train, comb_y_train)\n",
    "# make predictions\n",
    "combBst_preds = comb_bst.predict(comb_X_test)\n",
    "combBst_probs = comb_bst.predict_proba(comb_X_test)[:,1]\n",
    "print(\"XGB Accuracy: \", skl.metrics.accuracy_score(comb_y_test, combBst_preds))\n",
    "print(\"XGB F1: \", skl.metrics.f1_score(comb_y_test, combBst_preds))\n",
    "print(\"XGB AUC: \", skl.metrics.roc_auc_score(comb_y_test, combBst_probs))\n",
    "print(\"XGB Manual Cross-Validated AUC: \", customCrossVal(X = comb_full_train_data,\n",
    "                                           model = comb_bst,\n",
    "                                           loops = 10))\n",
    "print(\"XGB Cross-Validated AUC: \", np.mean(skl.model_selection.cross_val_score(comb_bst,\n",
    "                                                                               comb_full_train_data,\n",
    "                                                                               full_train_data_targetVector,\n",
    "                                                                               scoring=\"roc_auc\",\n",
    "                                                                               cv=10)))"
   ],
   "metadata": {
    "collapsed": false,
    "pycharm": {
     "name": "#%%\n"
    }
   },
   "id": "6f0c6748b0216446"
  },
  {
   "cell_type": "markdown",
   "source": [
    "Given its performance, I select this model to be one of my final models, and train it on the full training dataset."
   ],
   "metadata": {
    "collapsed": false,
    "pycharm": {
     "name": "#%% md\n"
    }
   },
   "id": "6747e068bfc2ee84"
  },
  {
   "cell_type": "code",
   "execution_count": null,
   "outputs": [],
   "source": [
    "opt_xgbc = XGBClassifier(booster='gbtree',\n",
    "                         grow_policy= 'depthwise',\n",
    "                         min_child_weight = 101,\n",
    "                         max_depth = 10,\n",
    "                         alpha = 0.01,\n",
    "                         reg_lambda=0.1,\n",
    "                         colsample_bytree = 0.51,\n",
    "                         eta = 0.2,\n",
    "                         gamma = 0.019,\n",
    "                         eval_metric = 'auc')\n",
    "# fit model\n",
    "opt_xgbc.fit(comb_full_train_data_imputed, full_train_data_targetVector)"
   ],
   "metadata": {
    "collapsed": false,
    "pycharm": {
     "name": "#%%\n"
    }
   },
   "id": "5a0ee5f81846ee2"
  },
  {
   "cell_type": "markdown",
   "source": [
    "I use my xgboost model to visualize feature importance."
   ],
   "metadata": {
    "collapsed": false,
    "pycharm": {
     "name": "#%% md\n"
    }
   },
   "id": "e44ea5e612d2dc59"
  },
  {
   "cell_type": "code",
   "execution_count": 77,
   "outputs": [
    {
     "data": {
      "text/plain": "<AxesSubplot:title={'center':'Feature importance'}, xlabel='F score', ylabel='Features'>"
     },
     "execution_count": 77,
     "metadata": {},
     "output_type": "execute_result"
    },
    {
     "data": {
      "text/plain": "<Figure size 432x288 with 1 Axes>",
      "image/png": "[encoded data removed]"
     },
     "metadata": {},
     "output_type": "display_data"
    }
   ],
   "source": [
    "xgb.plot_importance(comb_bst)\n",
    "# Columns correspond to:\n",
    "# 0:'discharge_disposition_id',\n",
    "# 1:'admission_source_id',\n",
    "# 2:'payer_code',\n",
    "# 3:'medical_specialty',\n",
    "# 4:'max_glu_serum',\n",
    "# 5: 'metformin',\n",
    "# 6:'repaglinide',\n",
    "# 7:'glimepiride',\n",
    "# 8:'glipizide',\n",
    "# 9: 'glyburide',\n",
    "# 10: 'pioglitazone',\n",
    "# 11: 'rosiglitazone',\n",
    "# 12:'insulin',\n",
    "# 13: 'change',\n",
    "# 14: 'diabetesMed',\n",
    "# 15:'num_lab_procedures',\n",
    "# 16:'num_procedures',\n",
    "# 17:'num_medications',\n",
    "# 18:'number_outpatient',\n",
    "# 19:'number_emergency',\n",
    "# 20:'number_diagnoses'\n",
    "# 21:'2nd_diag'\n",
    "# 22:'3rd_diag'"
   ],
   "metadata": {
    "collapsed": false,
    "pycharm": {
     "name": "#%%\n"
    }
   },
   "id": "45f34d7ae5e1e155"
  },
  {
   "cell_type": "markdown",
   "source": [
    "Num medications & num lab procedures appear to hold the most predictive power."
   ],
   "metadata": {
    "collapsed": false,
    "pycharm": {
     "name": "#%% md\n"
    }
   },
   "id": "ab54796a50d5acba"
  },
  {
   "cell_type": "markdown",
   "source": [
    "**Model Stacking**\n",
    "\n",
    "After extensive testing and optimization of different models, the Optuna optimized XGBoost model working on combined data (both the encoded categorical data and the numeric data) achieves the best performance (AUC ~0.65).\n",
    "\n",
    "My intuition is that the GB model might be redundant if I am already including an XGBoost model, since GB is tree-based like XGBoost, but experimentation finds that including it in my stacked model improves performance."
   ],
   "metadata": {
    "collapsed": false,
    "pycharm": {
     "name": "#%% md\n"
    }
   },
   "id": "4e7d1af4c5223aa2"
  },
  {
   "cell_type": "markdown",
   "source": [],
   "metadata": {
    "collapsed": false,
    "pycharm": {
     "name": "#%% md\n"
    }
   },
   "id": "5e4d953fd5c2fd32"
  },
  {
   "cell_type": "code",
   "source": [
    "Model_1 = opt_gbc\n",
    "Model_2 = opt_xgbc\n",
    "Model_3 = opt_svc\n",
    "final_estimator = LogisticRegression(solver = 'saga',\n",
    "                                 penalty = 'l1')\n",
    "\n",
    "stackCL = skl.ensemble.StackingClassifier([('Model_1', Model_1),\n",
    "                                           ('Model_2', Model_2),\n",
    "                                           ('Model_3', Model_3)],\n",
    "                                          final_estimator = final_estimator)\n",
    "\n",
    "stackCL.fit(combImp_X_train, combImp_y_train)\n",
    "\n",
    "stack_preds = stackCL.predict(combImp_X_test)\n",
    "stack_probs = stackCL.predict_proba(combImp_X_test)[:,1]\n",
    "\n",
    "print(\"Stacking Model Accuracy: \", skl.metrics.accuracy_score(combImp_y_test, stack_preds))\n",
    "print(\"Stacking Model F1: \", skl.metrics.f1_score(combImp_y_test, stack_preds))\n",
    "print(\"Stacking Model AUC: \", skl.metrics.roc_auc_score(combImp_y_test, stack_probs))\n",
    "print(\"Stacking Model Manual Cross-Validated AUC: \", customCrossVal(X = comb_full_train_data_imputed,\n",
    "                                                         model = stackCL,\n",
    "                                                         loops = 10)) # 0.6584775989633689\n",
    "print(\"Stacking Model Cross-Validated AUC: \", np.mean(skl.model_selection.cross_val_score(stackCL,\n",
    "                                                                               comb_full_train_data_imputed,\n",
    "                                                                               full_train_data_targetVector,\n",
    "                                                                               scoring=\"roc_auc\",\n",
    "                                                                               cv=10))) # 0.6552334801291952"
   ],
   "metadata": {
    "collapsed": false,
    "pycharm": {
     "name": "#%%\n"
    }
   },
   "id": "eb280f51f41bd3f8",
   "outputs": [],
   "execution_count": null
  },
  {
   "cell_type": "markdown",
   "source": [
    "**Custom Stacking Model**\n",
    "Next, I build *my own* preprocessor & stacking classifier"
   ],
   "metadata": {
    "collapsed": false,
    "pycharm": {
     "name": "#%% md\n"
    }
   },
   "id": "ca4d5fc7c233f4d5"
  },
  {
   "cell_type": "code",
   "execution_count": null,
   "outputs": [],
   "source": [
    "class customStackingClassifier:\n",
    "    \"\"\"\n",
    "    Custom stacking classifier for this dataset.\n",
    "\n",
    "    Parameters\n",
    "    __________\n",
    "    categorical_transformer : fitted OneHotEncoder object\n",
    "            Fitted encoder for categorical data\n",
    "    numeric_transformer: fitted StandardScalar object\n",
    "            Fitted StandardScaler for numeric data\n",
    "    text_transformer : fitted TfidfVectorizer object\n",
    "            Fitted TfidfVectorizer for text data\n",
    "    X_train : unprocessed diabetes training data\n",
    "    models 1-3 : fitted model objects\n",
    "            fitted on combined imputed diabetes data\n",
    "    final_estimator : estimator object\n",
    "            Classifier for combined models' predictions (default is Logistic Regression).\n",
    "    text_model :\n",
    "\n",
    "    \"\"\"\n",
    "    def __init__(self, categorical_transformer = None, numeric_transformer = None, text_transformer = None, X_train = pd.core.frame.DataFrame, model_1 = None, model_2 = None, model_3 = None, text_model = None, final_estimator = LogisticRegression()):\n",
    "        self._categorical_transformer = categorical_transformer\n",
    "        self._numeric_transformer = numeric_transformer\n",
    "        self._text_transformer = text_transformer\n",
    "        self._X_train = X_train\n",
    "        self._model_1 = model_1\n",
    "        self._model_2 = model_2\n",
    "        self._model_3 = model_3\n",
    "        self._text_model = text_model\n",
    "        self._final_estimator = final_estimator\n",
    "\n",
    "    def preprocess_training(self, train_data: pd.core.frame.DataFrame):\n",
    "        \"\"\"\n",
    "        Preprocess the data.\n",
    "\n",
    "        :train_data: diabetes data dataframe.\n",
    "        :return: preprocessed dataframe.\n",
    "        \"\"\"\n",
    "        # Adapted from all above\n",
    "        transformed_data = train_data.copy()\n",
    "        transformed_data.discharge_disposition_id = transformed_data.discharge_disposition_id.replace(\"Not Mapped\", np.nan)\n",
    "        transformed_data.discharge_disposition_id = transformed_data.discharge_disposition_id.replace(\"Expired\", np.nan)\n",
    "        # transformed_data.drop(index=transformed_data[transformed_data['discharge_disposition_id'] == \"Expired\"].index, inplace=True)\n",
    "        # transformed_data.set_index(np.arange(len(transformed_data)), inplace=True)\n",
    "        transformed_data.admission_source_id = transformed_data.admission_source_id.replace(\"Not Mapped\", np.nan)\n",
    "        #transformed_data.payer_code = transformed_data.payer_code.fillna(\"No_code\")\n",
    "        transformed_data.medical_specialty = transformed_data.medical_specialty.replace(\"PhysicianNotFound\", np.nan)\n",
    "        transformed_data.loc[~transformed_data[\"medical_specialty\"].isin((\"InternalMedicine\", \"Family/GeneralPractice\", \"Cardiology\",\"Emergency/Trauma\", \"Surgery-General\", \"Orthopedics-Reconstructive\", \"Nephrology\", \"Psychiatry\", \"Orthopedics\", \"ObstetricsandGynecology\")), \"medical_specialty\"] = np.nan\n",
    "        transformed_data.max_glu_serum = transformed_data.max_glu_serum.fillna(\"No_test\")\n",
    "\n",
    "        #Drop columns\n",
    "        transformed_data = transformed_data.drop([\"acetohexamide\",\n",
    "                                                  \"troglitazone\",\n",
    "                                                  \"examide\",\n",
    "                                                  \"citoglipton\",\n",
    "                                                  \"nateglinide\",\n",
    "                                                  \"chlorpropamide\",\n",
    "                                                  \"tolbutamide\",\n",
    "                                                  \"acarbose\",\n",
    "                                                  \"miglitol\",\n",
    "                                                  \"tolazamide\",\n",
    "                                                  \"glyburide.metformin\",\n",
    "                                                  \"glipizide.metformin\",\n",
    "                                                  \"glimepiride.pioglitazone\",\n",
    "                                                  \"metformin.rosiglitazone\",\n",
    "                                                  \"metformin.pioglitazone\"],\n",
    "                                                 axis=1)\n",
    "        #transform binaries\n",
    "        transformed_data.change = transformed_data.change.replace(\"No\", 0)\n",
    "        transformed_data.change = transformed_data.change.replace(\"Ch\", 1)\n",
    "        transformed_data.change = transformed_data.change.astype(\"object\")\n",
    "        transformed_data.diabetesMed = transformed_data.diabetesMed.replace(\"Yes\", 1)\n",
    "        transformed_data.diabetesMed = transformed_data.diabetesMed.replace(\"No\", 0)\n",
    "        transformed_data.diabetesMed = transformed_data.diabetesMed.astype(\"object\")\n",
    "        #Create target vector\n",
    "        transformed_data.readmitted = transformed_data.readmitted.replace(True, 1)\n",
    "        transformed_data.readmitted = transformed_data.readmitted.replace(False, 0)\n",
    "        _full_train_data_targetVector = np.array(transformed_data.readmitted)\n",
    "        self._full_train_data_targetVector = _full_train_data_targetVector\n",
    "        # get categorical columns\n",
    "        _cat_full_train_data = transformed_data[transformed_data.dtypes[transformed_data.dtypes == \"object\"].index[0:15]]\n",
    "        self._cat_full_train_data = _cat_full_train_data\n",
    "        #include diag cats\n",
    "        # _diags_full_train_data = transformed_data[[\"2nd_diag\", \"3rd_diag\"]]\n",
    "        # _diag_encoder = skl.preprocessing.OrdinalEncoder(handle_unknown='use_encoded_value',\n",
    "        #                                                  unknown_value=np.nan,\n",
    "        #                                                  categories='auto')\n",
    "        # _diags_full_train_data_lenc = _diag_encoder.fit_transform(_diags_full_train_data)\n",
    "        #label encoding categoricals\n",
    "        _categories = [['Admitted as an inpatient to this hospital', 'Discharged to home',\n",
    "                       'Discharged/transferred to ICF', 'Discharged/transferred to SNF',\n",
    "                       'Discharged/transferred to a long term care hospital.',\n",
    "                       'Discharged/transferred to another  type of inpatient care institution',\n",
    "                       'Discharged/transferred to another rehab fac including rehab units of a hospital.',\n",
    "                       'Discharged/transferred to another short term hospital',\n",
    "                       'Discharged/transferred to home under care of Home IV provider',\n",
    "                       'Discharged/transferred to home with home health service',\n",
    "                       'Discharged/transferred within this institution to Medicare approved swing bed',\n",
    "                       'Discharged/transferred/referred another institution for outpatient services',\n",
    "                       'Discharged/transferred/referred to a psychiatric hospital of a psychiatric distinct part unit of a hospital',\n",
    "                       'Discharged/transferred/referred to this institution for outpatient services',\n",
    "                       'Hospice / home', 'Hospice / medical facility', 'Left AMA', 'Expired', np.nan],\n",
    "                      ['Clinic Referral', 'Court/Law Enforcement', 'Emergency Room',\n",
    "                       'HMO Referral', 'Physician Referral',\n",
    "                       'Transfer from a Skilled Nursing Facility (SNF)',\n",
    "                       'Transfer from a hospital',\n",
    "                       'Transfer from another health care facility', np.nan],\n",
    "                      ['BC', 'CH', 'CM', 'CP', 'DM', 'HM', 'MC', 'MD', 'OG', 'OT', 'PO',\n",
    "                       'SI', 'SP', 'UN', 'WC', np.nan],\n",
    "                      ['Cardiology', 'Emergency/Trauma', 'Family/GeneralPractice',\n",
    "                       'InternalMedicine', 'Nephrology', 'ObstetricsandGynecology',\n",
    "                       'Orthopedics', 'Orthopedics-Reconstructive', 'Psychiatry',\n",
    "                       'Surgery-General', np.nan],\n",
    "                      ['Norm', '>200', '>300', np.nan],\n",
    "                      ['No', 'Down', 'Steady', 'Up'],\n",
    "                      ['No', 'Down', 'Steady', 'Up'],\n",
    "                      ['No', 'Down', 'Steady', 'Up'],\n",
    "                      ['No', 'Down', 'Steady', 'Up'],\n",
    "                      ['No', 'Down', 'Steady', 'Up'],\n",
    "                      ['No', 'Down', 'Steady', 'Up'],\n",
    "                      ['No', 'Down', 'Steady', 'Up'],\n",
    "                      ['No', 'Down', 'Steady', 'Up'],\n",
    "                      [0,1],\n",
    "                      [0,1]]\n",
    "        _ordinal_encoder = skl.preprocessing.OrdinalEncoder(handle_unknown='use_encoded_value',\n",
    "                                                            unknown_value=np.nan,\n",
    "                                                            categories=categories)\n",
    "        _lencCat_full_train_data = _ordinal_encoder.fit_transform(_cat_full_train_data)\n",
    "        self._lencCat_full_train_data = _lencCat_full_train_data\n",
    "        # Cap numeric at 99th percentile\n",
    "        _num_full_train_data = transformed_data[transformed_data.dtypes[transformed_data.dtypes == \"int64\"].index[0:6]]\n",
    "        _cap_values = {\n",
    "            'num_medications': _num_full_train_data['num_medications'].quantile(0.99),\n",
    "            'number_outpatient': _num_full_train_data['number_outpatient'].quantile(0.99),\n",
    "            'number_emergency': _num_full_train_data['number_emergency'].quantile(0.99),\n",
    "        }\n",
    "        _num_full_train_data_capped = _num_full_train_data.copy()\n",
    "        for column, cap_value in cap_values.items():\n",
    "            _num_full_train_data_capped[column] = _num_full_train_data[column].clip(upper=cap_value)\n",
    "        #Scaling numeric\n",
    "        _scaledNum_full_train_data = self._numeric_transformer.transform(_num_full_train_data_capped)\n",
    "        self._scaledNum_full_train_data = _scaledNum_full_train_data\n",
    "        #Create combined data\n",
    "        _comb_full_train_data = np.append(_lencCat_full_train_data,\n",
    "                                         _scaledNum_full_train_data,\n",
    "                                         axis=1)\n",
    "        # _comb_full_train_data = np.append(_comb_full_train_data,\n",
    "        #                                  _diags_full_train_data_lenc,\n",
    "        #                                  axis = 1)\n",
    "        #Late imputing\n",
    "        _cat_imputer2 = SimpleImputer(strategy='constant',\n",
    "                                      fill_value=-1)\n",
    "        _comb_full_train_data_imputed = _comb_full_train_data.copy()\n",
    "        _comb_full_train_data_imputed[:,0:15] = _cat_imputer2.fit_transform(_comb_full_train_data[:,0:15])\n",
    "        self._comb_full_train_data_imputed = _comb_full_train_data_imputed\n",
    "        #encoding text\n",
    "        _textVect_full_train_data = self._text_transformer.transform(transformed_data[\"ai_response\"])\n",
    "        self._textVect_full_train_data = _textVect_full_train_data\n",
    "        return self._comb_full_train_data_imputed, self._textVect_full_train_data, self._full_train_data_targetVector\n",
    "\n",
    "    def preprocess_testing(self, X_test: pd.core.frame.DataFrame):\n",
    "        \"\"\"\n",
    "        Preprocess the data.\n",
    "\n",
    "        :X_test: diabetes data dataframe.\n",
    "        :return: preprocessed dataframe.\n",
    "        \"\"\"\n",
    "        #Imputing and dropping\n",
    "        transformed_data = X_test.copy()\n",
    "        transformed_data.discharge_disposition_id = transformed_data.discharge_disposition_id.replace(\"Not Mapped\", np.nan)\n",
    "        transformed_data.discharge_disposition_id = transformed_data.discharge_disposition_id.replace(\"Expired\", np.nan)\n",
    "        # transformed_data[transformed_data['discharge_disposition_id'] == \"Expired\"]\n",
    "        # transformed_data.set_index(np.arange(len(transformed_data)), inplace=True)\n",
    "        transformed_data.admission_source_id = transformed_data.admission_source_id.replace(\"Not Mapped\", np.nan)\n",
    "        #transformed_data.payer_code = transformed_data.payer_code.fillna(\"No_code\")\n",
    "        transformed_data.medical_specialty = transformed_data.medical_specialty.replace(\"PhysicianNotFound\", np.nan)\n",
    "        transformed_data.loc[~transformed_data[\"medical_specialty\"].isin((\"InternalMedicine\", \"Family/GeneralPractice\", \"Cardiology\",\"Emergency/Trauma\", \"Surgery-General\", \"Orthopedics-Reconstructive\", \"Nephrology\", \"Psychiatry\", \"Orthopedics\", \"ObstetricsandGynecology\")), \"medical_specialty\"] = np.nan\n",
    "        transformed_data.max_glu_serum = transformed_data.max_glu_serum.fillna(\"No_test\")\n",
    "        transformed_data = transformed_data.drop([\"acetohexamide\",\n",
    "                                                  \"troglitazone\",\n",
    "                                                  \"examide\",\n",
    "                                                  \"citoglipton\",\n",
    "                                                  \"nateglinide\",\n",
    "                                                  \"chlorpropamide\",\n",
    "                                                  \"tolbutamide\",\n",
    "                                                  \"acarbose\",\n",
    "                                                  \"miglitol\",\n",
    "                                                  \"tolazamide\",\n",
    "                                                  \"glyburide.metformin\",\n",
    "                                                  \"glipizide.metformin\",\n",
    "                                                  \"glimepiride.pioglitazone\",\n",
    "                                                  \"metformin.rosiglitazone\",\n",
    "                                                  \"metformin.pioglitazone\"],\n",
    "                                                 axis=1)\n",
    "        #make binaries\n",
    "        transformed_data.change = transformed_data.change.replace(\"No\", 0)\n",
    "        transformed_data.change = transformed_data.change.replace(\"Ch\", 1)\n",
    "        transformed_data.change = transformed_data.change.astype(\"object\")\n",
    "        transformed_data.diabetesMed = transformed_data.diabetesMed.replace(\"Yes\", 1)\n",
    "        transformed_data.diabetesMed = transformed_data.diabetesMed.replace(\"No\", 0)\n",
    "        transformed_data.diabetesMed = transformed_data.diabetesMed.astype(\"object\")\n",
    "        # NO TARGET VECTOR\n",
    "        # get categorical columns\n",
    "        _cat_full_test_data = transformed_data[transformed_data.dtypes[transformed_data.dtypes == \"object\"].index[0:15]]\n",
    "        self._cat_full_test_data = _cat_full_test_data\n",
    "        # #include diag cats\n",
    "        # _diags_full_test_data = transformed_data[[\"2nd_diag\", \"3rd_diag\"]]\n",
    "        # _diag_encoder = skl.preprocessing.OrdinalEncoder(handle_unknown='use_encoded_value',\n",
    "        #                                                  unknown_value=np.nan,\n",
    "        #                                                  categories='auto')\n",
    "        # _diags_full_test_data_lenc = _diag_encoder.fit_transform(_diags_full_test_data)\n",
    "\n",
    "        #label encode categoricals\n",
    "        _categories = [['Admitted as an inpatient to this hospital', 'Discharged to home',\n",
    "                        'Discharged/transferred to ICF', 'Discharged/transferred to SNF',\n",
    "                        'Discharged/transferred to a long term care hospital.',\n",
    "                        'Discharged/transferred to another  type of inpatient care institution',\n",
    "                        'Discharged/transferred to another rehab fac including rehab units of a hospital.',\n",
    "                        'Discharged/transferred to another short term hospital',\n",
    "                        'Discharged/transferred to home under care of Home IV provider',\n",
    "                        'Discharged/transferred to home with home health service',\n",
    "                        'Discharged/transferred within this institution to Medicare approved swing bed',\n",
    "                        'Discharged/transferred/referred another institution for outpatient services',\n",
    "                        'Discharged/transferred/referred to a psychiatric hospital of a psychiatric distinct part unit of a hospital',\n",
    "                        'Discharged/transferred/referred to this institution for outpatient services',\n",
    "                        'Hospice / home', 'Hospice / medical facility', 'Left AMA', np.nan],\n",
    "                       ['Clinic Referral', 'Court/Law Enforcement', 'Emergency Room',\n",
    "                        'HMO Referral', 'Physician Referral',\n",
    "                        'Transfer from a Skilled Nursing Facility (SNF)',\n",
    "                        'Transfer from a hospital',\n",
    "                        'Transfer from another health care facility', np.nan],\n",
    "                       ['BC', 'CH', 'CM', 'CP', 'DM', 'HM', 'MC', 'MD', 'OG', 'OT', 'PO',\n",
    "                        'SI', 'SP', 'UN', 'WC', np.nan],\n",
    "                       ['Cardiology', 'Emergency/Trauma', 'Family/GeneralPractice',\n",
    "                        'InternalMedicine', 'Nephrology', 'ObstetricsandGynecology',\n",
    "                        'Orthopedics', 'Orthopedics-Reconstructive', 'Psychiatry',\n",
    "                        'Surgery-General', np.nan],\n",
    "                       ['Norm', '>200', '>300', np.nan],\n",
    "                       ['No', 'Down', 'Steady', 'Up'],\n",
    "                       ['No', 'Down', 'Steady', 'Up'],\n",
    "                       ['No', 'Down', 'Steady', 'Up'],\n",
    "                       ['No', 'Down', 'Steady', 'Up'],\n",
    "                       ['No', 'Down', 'Steady', 'Up'],\n",
    "                       ['No', 'Down', 'Steady', 'Up'],\n",
    "                       ['No', 'Down', 'Steady', 'Up'],\n",
    "                       ['No', 'Down', 'Steady', 'Up'],\n",
    "                       [0,1],\n",
    "                       [0,1]]\n",
    "        _ordinal_encoder = skl.preprocessing.OrdinalEncoder(handle_unknown='use_encoded_value',\n",
    "                                                            unknown_value=np.nan,\n",
    "                                                            categories=categories)\n",
    "        _lencCat_full_test_data = _ordinal_encoder.fit(self._cat_full_train_data)\n",
    "        _lencCat_full_test_data = _ordinal_encoder.transform(transformed_data[transformed_data.dtypes[transformed_data.dtypes == \"object\"].index[0:15]])\n",
    "        self._lencCat_full_test_data = _lencCat_full_test_data\n",
    "\n",
    "        #Cap numeric at 99th percentile\n",
    "        _num_full_test_data = transformed_data[transformed_data.dtypes[transformed_data.dtypes == \"int64\"].index[0:6]]\n",
    "        _cap_values = {\n",
    "            'num_medications': _num_full_test_data['num_medications'].quantile(0.99),\n",
    "            'number_outpatient': _num_full_test_data['number_outpatient'].quantile(0.99),\n",
    "            'number_emergency': _num_full_test_data['number_emergency'].quantile(0.99),\n",
    "        }\n",
    "        _num_full_test_data_capped = _num_full_test_data.copy()\n",
    "        for column, cap_value in cap_values.items():\n",
    "            _num_full_test_data_capped[column] = _num_full_test_data[column].clip(upper=cap_value)\n",
    "\n",
    "        #scale numeric data\n",
    "        _scaledNum_full_test_data = self._numeric_transformer.transform(_num_full_test_data_capped)\n",
    "        self._scaledNum_full_test_data = _scaledNum_full_test_data\n",
    "\n",
    "        #create combined df\n",
    "        _comb_full_test_data = np.append(_lencCat_full_test_data,\n",
    "                                         _scaledNum_full_test_data,\n",
    "                                         axis=1)\n",
    "\n",
    "        # _comb_full_test_data = np.append(_comb_full_test_data,\n",
    "        #                                  _diags_full_test_data_lenc,\n",
    "        #                                  axis = 1)\n",
    "\n",
    "        # late imputing\n",
    "        _cat_imputer2 = SimpleImputer(strategy='constant',\n",
    "                                     fill_value=-1)\n",
    "        _comb_full_test_data_imputed = _comb_full_test_data.copy()\n",
    "        _comb_full_test_data_imputed[:,0:15] = _cat_imputer2.fit_transform(_comb_full_test_data[:,0:15])\n",
    "        self._comb_full_test_data_imputed = _comb_full_test_data_imputed\n",
    "        #encode text data\n",
    "        _textVect_full_test_data = self._text_transformer.transform(transformed_data[\"ai_response\"])\n",
    "        self._textVect_full_test_data = _textVect_full_test_data\n",
    "        return self._comb_full_test_data_imputed, self._textVect_full_test_data\n",
    "\n",
    "    def fit(self, X_train, X_train_text,  y_train):\n",
    "        \"\"\"\n",
    "        Fit estimators to training data\n",
    "        :return: self\n",
    "        \"\"\"\n",
    "        self._model_probabilities = np.empty((X_train.shape[0],4))\n",
    "        print(\"Predicting training data with model 1\")\n",
    "        self._model_probabilities[:,0] = self._model_1.predict_proba(X_train)[:,1]\n",
    "        print(\"Predicting training data with model 2\")\n",
    "        self._model_probabilities[:,1] = self._model_2.predict_proba(X_train)[:,1]\n",
    "        print(\"Predicting training data with model 3\")\n",
    "        self._model_probabilities[:,2] = self._model_3.predict_proba(X_train)[:,1]\n",
    "        print(\"Predicting training data with text model\")\n",
    "        self._model_probabilities[:,3] = self._text_model.predict_proba(X_train_text)[:,1]\n",
    "        print(\"Fitting final estimator\")\n",
    "        self._final_estimator.fit(self._model_probabilities, y_train)\n",
    "        return self\n",
    "\n",
    "    def predict_proba(self, X_test, X_test_text):\n",
    "        \"\"\"\n",
    "        Predict probabilities\n",
    "        :return: self\n",
    "        \"\"\"\n",
    "        _model_probabilities = np.empty((X_test.shape[0],4))\n",
    "        print(\"Predicting testing data with model 1\")\n",
    "        _model_probabilities[:,0] = self._model_1.predict_proba(X_test)[:,1]\n",
    "        print(\"Predicting testing data with model 2\")\n",
    "        _model_probabilities[:,1] = self._model_2.predict_proba(X_test)[:,1]\n",
    "        print(\"Predicting testing data with model 3\")\n",
    "        _model_probabilities[:,2] = self._model_3.predict_proba(X_test)[:,1]\n",
    "        print(\"Predicting testing data with text model\")\n",
    "        _model_probabilities[:,3] = self._text_model.predict_proba(X_test_text)[:,1]\n",
    "        print(\"Predicting testing data with final estimator\")\n",
    "        self.probs = self._final_estimator.predict_proba(_model_probabilities)\n",
    "        return self.probs\n",
    "\n",
    "    def predict(self, X_test, X_test_text):\n",
    "        \"\"\"\n",
    "        Fit estimators to training data\n",
    "        :return: self\n",
    "        \"\"\"\n",
    "        self._model_probabilities = np.empty((X_test.shape[0],4))\n",
    "        print(\"Predicting with model 1\")\n",
    "        self._model_probabilities[:,0] = self._model_1.predict_proba(X_test)[:,1]\n",
    "        print(\"Predicting with model 2\")\n",
    "        self._model_probabilities[:,1] = self._model_2.predict_proba(X_test)[:,1]\n",
    "        print(\"Predicting with model 3\")\n",
    "        self._model_probabilities[:,2] = self._model_3.predict_proba(X_test)[:,1]\n",
    "        print(\"Predicting with text model\")\n",
    "        self._model_probabilities[:,3] = self._text_model.predict_proba(X_test_text)[:,1]\n",
    "        print(\"Predicting with final estimator\")\n",
    "        self.preds = self._final_estimator.predict(self._model_probabilities)\n",
    "        return self.preds"
   ],
   "metadata": {
    "collapsed": false,
    "pycharm": {
     "name": "#%%\n"
    }
   },
   "id": "29072c4a4ff7d6e4"
  },
  {
   "cell_type": "markdown",
   "source": [
    "Now, I instantiate my model and run the preprocessing methods."
   ],
   "metadata": {
    "collapsed": false,
    "pycharm": {
     "name": "#%% md\n"
    }
   },
   "id": "7a2d18c8e8c9b95f"
  },
  {
   "cell_type": "code",
   "execution_count": null,
   "outputs": [],
   "source": [
    "unprocessed_testing_data = pd.read_csv(\"2k_diabetes_test_no_label.csv\",\n",
    "                                       na_values=\"?\")\n",
    "\n",
    "unprocessed_training_data = pd.read_csv(\"8k_diabetes_train.csv\",\n",
    "                                        na_values = \"?\")\n",
    "\n",
    "csc = customStackingClassifier(categorical_transformer = ohe,\n",
    "                               numeric_transformer = scaler,\n",
    "                               text_transformer = vectorizer,\n",
    "                               X_train= unprocessed_training_data,\n",
    "                               model_1=opt_gbc,\n",
    "                               model_2=opt_xgbc,\n",
    "                               model_3=opt_svc,\n",
    "                               text_model=opt_textsvc,\n",
    "                               final_estimator = final_estimator)\n",
    "\n",
    "X_train, text_train, target = csc.preprocess_training(train_data = unprocessed_training_data)\n",
    "\n",
    "X_test, text_test = csc.preprocess_testing(X_test = unprocessed_testing_data)"
   ],
   "metadata": {
    "collapsed": false,
    "pycharm": {
     "name": "#%%\n"
    }
   },
   "id": "635418b35720bc46"
  },
  {
   "cell_type": "markdown",
   "source": [
    "Before finalizing, I cross-validate via a for loop."
   ],
   "metadata": {
    "collapsed": false,
    "pycharm": {
     "name": "#%% md\n"
    }
   },
   "id": "81f2040c00f2b4e"
  },
  {
   "cell_type": "code",
   "execution_count": null,
   "outputs": [],
   "source": [
    "loops = 5\n",
    "scores = []\n",
    "full_processed_train_X = np.append(X_train, text_train.toarray(), axis=1)\n",
    "for loop in np.arange(loops):\n",
    "    print(f\"Loop {loop+1}\")\n",
    "    #Resplit my data\n",
    "    full_X_train, full_X_test, full_y_train, full_y_test = train_test_split(full_processed_train_X,\n",
    "                                                                            full_train_data_targetVector,\n",
    "                                                                            stratify=full_train_data_targetVector,\n",
    "                                                                            test_size=0.2,\n",
    "                                                                            shuffle=True)\n",
    "    full_X_train_text = full_X_train[:,21:]\n",
    "    full_X_test_text = full_X_test[:,21:]\n",
    "    full_X_train = full_X_train[:,0:21]\n",
    "    full_X_test = full_X_test[:,0:21]\n",
    "\n",
    "    # Retrain model 1\n",
    "    print(\"Retraining GBC\")\n",
    "    gbc = skl.ensemble.GradientBoostingClassifier(criterion='friedman_mse',\n",
    "                                                  loss = 'log_loss',\n",
    "                                                  learning_rate = 0.11,\n",
    "                                                  n_estimators = 100)\n",
    "    gbc.fit(full_X_train, full_y_train)\n",
    "\n",
    "    #Retrain model 2\n",
    "    print('Retraining XGBC')\n",
    "    comb_bst = XGBClassifier(booster='gbtree',\n",
    "                             grow_policy= 'depthwise',\n",
    "                             min_child_weight = 101,\n",
    "                             max_depth = 10,\n",
    "                             alpha = 0.01,\n",
    "                             reg_lambda=0.1,\n",
    "                             colsample_bytree = 0.51,\n",
    "                             eta = 0.2,\n",
    "                             gamma = 0.019,\n",
    "                             eval_metric='auc')\n",
    "    comb_bst.fit(full_X_train, full_y_train)\n",
    "\n",
    "    #Retrain model 3\n",
    "    print('Retraining SVC')\n",
    "    svc = skl.svm.SVC(C=1,\n",
    "                      kernel = 'poly',\n",
    "                      class_weight='balanced',\n",
    "                      degree = 1,\n",
    "                      gamma = 'scale',\n",
    "                      probability=True)\n",
    "    svc.fit(full_X_train, full_y_train)\n",
    "\n",
    "    #Retrain text model\n",
    "    print('Retraining text model')\n",
    "    textsvc = skl.svm.SVC(kernel = 'rbf',\n",
    "                          probability = True)\n",
    "    textsvc.fit(full_X_train_text, full_y_train)\n",
    "    #Reinstantiate my stacking model\n",
    "    csc2 = customStackingClassifier(categorical_transformer = ohe,\n",
    "                                   numeric_transformer = scaler,\n",
    "                                   text_transformer = vectorizer,\n",
    "                                   X_train= None,\n",
    "                                   model_1 = gbc,\n",
    "                                   model_2 = comb_bst,\n",
    "                                   model_3 = svc,\n",
    "                                   text_model = textsvc,\n",
    "                                   final_estimator = final_estimator)\n",
    "    #Refit and predict with my custom model\n",
    "    csc2.fit(X_train=full_X_train, X_train_text=full_X_train_text, y_train=full_y_train)\n",
    "    csc2_probs = csc2.predict_proba(X_test=full_X_test, X_test_text=full_X_test_text)[:,1]\n",
    "    round_score = skl.metrics.roc_auc_score(full_y_test, csc2_probs)\n",
    "    scores.append(round_score)\n",
    "    print(f\"Round {loop+1} ROC AUC Score: \", round_score)\n",
    "print(\"Mean AUC: \", np.mean(scores))"
   ],
   "metadata": {
    "collapsed": false,
    "pycharm": {
     "name": "#%%\n"
    }
   },
   "id": "492b624cd5b1da4b"
  },
  {
   "cell_type": "markdown",
   "source": [
    "My model is still beaten by the SKL built-in model stacking model without text data."
   ],
   "metadata": {
    "collapsed": false,
    "pycharm": {
     "name": "#%% md\n"
    }
   },
   "id": "f1bdf2493f0b1789"
  },
  {
   "cell_type": "markdown",
   "source": [
    "**Combined Stacking Model**\n",
    "As one last attempt, I build a custom function that combines SKL's built-in model stacking with the text predictions."
   ],
   "metadata": {
    "collapsed": false,
    "pycharm": {
     "name": "#%% md\n"
    }
   },
   "id": "71f78376fb1bde25"
  },
  {
   "cell_type": "code",
   "execution_count": null,
   "outputs": [],
   "source": [
    "class stackPlusText:\n",
    "    def __init__(self, stacking_classifier, text_classifier = None, final_estimator = None):\n",
    "        self.stacking_classifier = stacking_classifier\n",
    "        self.text_classifier = text_classifier\n",
    "        self.final_estimator = final_estimator\n",
    "\n",
    "    def fit(self, X_train, X_train_text, y_train):\n",
    "        self.stacking_classifier.fit(X_train, y_train)\n",
    "        self.text_classifier.fit(X_train_text, y_train)\n",
    "        _probs = np.empty((X_train.shape[0],2))\n",
    "        _probs[:,0] = self.stacking_classifier.predict_proba(X_train)[:,1]\n",
    "        _probs[:,1] = self.text_classifier.predict_proba(X_train_text)[:,1]\n",
    "        self.final_estimator.fit(_probs, y_train)\n",
    "        return self\n",
    "\n",
    "    def predict_proba(self, X_test, X_test_text):\n",
    "        _probs = np.empty((X_test.shape[0],2))\n",
    "        _probs[:,0] = self.stacking_classifier.predict_proba(X_test)[:,1]\n",
    "        _probs[:,1] = self.text_classifier.predict_proba(X_test_text)[:,1]\n",
    "        final_probs = self.final_estimator.predict_proba(_probs)[:,1]\n",
    "        return final_probs"
   ],
   "metadata": {
    "collapsed": false,
    "pycharm": {
     "name": "#%%\n"
    }
   },
   "id": "a253a537b550e652"
  },
  {
   "cell_type": "code",
   "execution_count": 413,
   "outputs": [],
   "source": [
    "full_X_train, full_X_test, full_y_train, full_y_test = train_test_split(full_processed_train_X,\n",
    "                                                                        full_train_data_targetVector,\n",
    "                                                                        stratify=full_train_data_targetVector,\n",
    "                                                                        test_size=0.2,\n",
    "                                                                        shuffle=True)\n",
    "full_X_train_text = full_X_train[:,21:]\n",
    "full_X_test_text = full_X_test[:,21:]\n",
    "full_X_train = full_X_train[:,0:21]\n",
    "full_X_test = full_X_test[:,0:21]"
   ],
   "metadata": {
    "collapsed": false,
    "pycharm": {
     "name": "#%%\n"
    }
   },
   "id": "add142393f62a684"
  },
  {
   "cell_type": "code",
   "execution_count": 412,
   "outputs": [
    {
     "data": {
      "text/plain": "0.6234843296809538"
     },
     "execution_count": 412,
     "metadata": {},
     "output_type": "execute_result"
    }
   ],
   "source": [
    "sptc = stackPlusText(stacking_classifier = stackCL,\n",
    "                     text_classifier = opt_textsvc,\n",
    "                     final_estimator = final_estimator)\n",
    "\n",
    "sptc.fit(X_train=full_X_train, X_train_text=full_X_train_text, y_train=full_y_train)\n",
    "_probs = np.empty((full_X_test.shape[0],2))\n",
    "_probs[:,0] = stackCL.predict_proba(full_X_test)[:,1]\n",
    "_probs[:,1] = opt_textsvc.predict_proba(full_X_test_text)[:,1]\n",
    "final_probs = final_estimator.predict_proba(_probs)[:,1]\n",
    "sptc_probs = sptc.predict_proba(X_test = full_X_test, X_test_text = full_X_test_text)\n",
    "skl.metrics.roc_auc_score(full_y_test, sptc_probs)"
   ],
   "metadata": {
    "collapsed": false,
    "pycharm": {
     "name": "#%%\n"
    }
   },
   "id": "99eec4b5f44ce84f"
  },
  {
   "cell_type": "markdown",
   "source": [
    "7. Final model selection and discussion of your model choice and the model weaknesses\n",
    "(generally, where model doesn’t perform well, etc.) [10 pts]"
   ],
   "metadata": {
    "collapsed": false,
    "pycharm": {
     "name": "#%% md\n"
    }
   },
   "id": "b417e6b59d30c0b1"
  },
  {
   "cell_type": "markdown",
   "source": [
    "I choose to use the three best models based on a combination of AUC and F1 score. There were: XGBoost, Gradient boosting, and SVM. My model seems to perform OK on the categorical & numeric data, but it doesn't seem to predict well from the text data. Further, my model requires a lot of pre-processing and is computationally inefficient. This is partly due to the order in which I coded. Much code is copy/pasted back-and-forth, and if I had the option, I would submit without the text prediction component.\n",
    "\n",
    "After significant optimization, I suspect that my ML model(s) itself is well-optimized. I've spent dozens of hours optimizing hyperparameters and re-processing data. However, I have to suspect there may be better ways to preprocess to improve final model performance.\n",
    "\n",
    "Though I was able to produce multiple stacking models incorporating text data, they all perform worse than the stacking model without text data. My final model will be the stacking model with text data removed."
   ],
   "metadata": {
    "collapsed": false,
    "pycharm": {
     "name": "#%% md\n"
    }
   },
   "id": "46d8bd10b2b321f"
  },
  {
   "cell_type": "markdown",
   "source": [
    "# Part B: Model Performance (100 pts)"
   ],
   "metadata": {
    "collapsed": false,
    "pycharm": {
     "name": "#%% md\n"
    }
   },
   "id": "a6695fcd83a03fef"
  },
  {
   "cell_type": "markdown",
   "source": [
    "Achieve AUC >= .675"
   ],
   "metadata": {
    "collapsed": false,
    "pycharm": {
     "name": "#%% md\n"
    }
   },
   "id": "1ceff90f12631599"
  },
  {
   "cell_type": "code",
   "source": [
    "X_train, text_train, target = csc.preprocess_training(train_data = unprocessed_training_data)\n",
    "X_test, text_test = csc.preprocess_testing(X_test = unprocessed_testing_data)"
   ],
   "metadata": {
    "collapsed": false,
    "pycharm": {
     "name": "#%%\n"
    }
   },
   "id": "69a49b75e3f0db95",
   "outputs": [],
   "execution_count": null
  },
  {
   "cell_type": "code",
   "execution_count": 443,
   "outputs": [
    {
     "data": {
      "text/plain": "StackingClassifier(estimators=[('Model_1',\n                                GradientBoostingClassifier(learning_rate=0.11)),\n                               ('Model_2',\n                                XGBClassifier(alpha=0.01, base_score=None,\n                                              booster='gbtree', callbacks=None,\n                                              colsample_bylevel=None,\n                                              colsample_bynode=None,\n                                              colsample_bytree=0.51,\n                                              device=None,\n                                              early_stopping_rounds=None,\n                                              enable_categorical=False, eta=0.2,\n                                              eval_metric='auc',\n                                              feature_types=None,...\n                                              max_cat_threshold=None,\n                                              max_cat_to_onehot=None,\n                                              max_delta_step=None, max_depth=10,\n                                              max_leaves=None,\n                                              min_child_weight=101, missing=nan,\n                                              monotone_constraints=None,\n                                              multi_strategy=None,\n                                              n_estimators=None, n_jobs=None, ...)),\n                               ('Model_3',\n                                SVC(C=1, class_weight='balanced', degree=1,\n                                    kernel='poly', probability=True))],\n                   final_estimator=LogisticRegression(penalty='l1',\n                                                      solver='saga'))",
      "text/html": "<style>#sk-container-id-11 {\n  /* Definition of color scheme common for light and dark mode */\n  --sklearn-color-text: black;\n  --sklearn-color-line: gray;\n  /* Definition of color scheme for unfitted estimators */\n  --sklearn-color-unfitted-level-0: #fff5e6;\n  --sklearn-color-unfitted-level-1: #f6e4d2;\n  --sklearn-color-unfitted-level-2: #ffe0b3;\n  --sklearn-color-unfitted-level-3: chocolate;\n  /* Definition of color scheme for fitted estimators */\n  --sklearn-color-fitted-level-0: #f0f8ff;\n  --sklearn-color-fitted-level-1: #d4ebff;\n  --sklearn-color-fitted-level-2: #b3dbfd;\n  --sklearn-color-fitted-level-3: cornflowerblue;\n\n  /* Specific color for light theme */\n  --sklearn-color-text-on-default-background: var(--sg-text-color, var(--theme-code-foreground, var(--jp-content-font-color1, black)));\n  --sklearn-color-background: var(--sg-background-color, var(--theme-background, var(--jp-layout-color0, white)));\n  --sklearn-color-border-box: var(--sg-text-color, var(--theme-code-foreground, var(--jp-content-font-color1, black)));\n  --sklearn-color-icon: #696969;\n\n  @media (prefers-color-scheme: dark) {\n    /* Redefinition of color scheme for dark theme */\n    --sklearn-color-text-on-default-background: var(--sg-text-color, var(--theme-code-foreground, var(--jp-content-font-color1, white)));\n    --sklearn-color-background: var(--sg-background-color, var(--theme-background, var(--jp-layout-color0, #111)));\n    --sklearn-color-border-box: var(--sg-text-color, var(--theme-code-foreground, var(--jp-content-font-color1, white)));\n    --sklearn-color-icon: #878787;\n  }\n}\n\n#sk-container-id-11 {\n  color: var(--sklearn-color-text);\n}\n\n#sk-container-id-11 pre {\n  padding: 0;\n}\n\n#sk-container-id-11 input.sk-hidden--visually {\n  border: 0;\n  clip: rect(1px 1px 1px 1px);\n  clip: rect(1px, 1px, 1px, 1px);\n  height: 1px;\n  margin: -1px;\n  overflow: hidden;\n  padding: 0;\n  position: absolute;\n  width: 1px;\n}\n\n#sk-container-id-11 div.sk-dashed-wrapped {\n  border: 1px dashed var(--sklearn-color-line);\n  margin: 0 0.4em 0.5em 0.4em;\n  box-sizing: border-box;\n  padding-bottom: 0.4em;\n  background-color: var(--sklearn-color-background);\n}\n\n#sk-container-id-11 div.sk-container {\n  /* jupyter's `normalize.less` sets `[hidden] { display: none; }`\n     but bootstrap.min.css set `[hidden] { display: none !important; }`\n     so we also need the `!important` here to be able to override the\n     default hidden behavior on the sphinx rendered scikit-learn.org.\n     See: https://github.com/scikit-learn/scikit-learn/issues/21755 */\n  display: inline-block !important;\n  position: relative;\n}\n\n#sk-container-id-11 div.sk-text-repr-fallback {\n  display: none;\n}\n\ndiv.sk-parallel-item,\ndiv.sk-serial,\ndiv.sk-item {\n  /* draw centered vertical line to link estimators */\n  background-image: linear-gradient(var(--sklearn-color-text-on-default-background), var(--sklearn-color-text-on-default-background));\n  background-size: 2px 100%;\n  background-repeat: no-repeat;\n  background-position: center center;\n}\n\n/* Parallel-specific style estimator block */\n\n#sk-container-id-11 div.sk-parallel-item::after {\n  content: \"\";\n  width: 100%;\n  border-bottom: 2px solid var(--sklearn-color-text-on-default-background);\n  flex-grow: 1;\n}\n\n#sk-container-id-11 div.sk-parallel {\n  display: flex;\n  align-items: stretch;\n  justify-content: center;\n  background-color: var(--sklearn-color-background);\n  position: relative;\n}\n\n#sk-container-id-11 div.sk-parallel-item {\n  display: flex;\n  flex-direction: column;\n}\n\n#sk-container-id-11 div.sk-parallel-item:first-child::after {\n  align-self: flex-end;\n  width: 50%;\n}\n\n#sk-container-id-11 div.sk-parallel-item:last-child::after {\n  align-self: flex-start;\n  width: 50%;\n}\n\n#sk-container-id-11 div.sk-parallel-item:only-child::after {\n  width: 0;\n}\n\n/* Serial-specific style estimator block */\n\n#sk-container-id-11 div.sk-serial {\n  display: flex;\n  flex-direction: column;\n  align-items: center;\n  background-color: var(--sklearn-color-background);\n  padding-right: 1em;\n  padding-left: 1em;\n}\n\n\n/* Toggleable style: style used for estimator/Pipeline/ColumnTransformer box that is\nclickable and can be expanded/collapsed.\n- Pipeline and ColumnTransformer use this feature and define the default style\n- Estimators will overwrite some part of the style using the `sk-estimator` class\n*/\n\n/* Pipeline and ColumnTransformer style (default) */\n\n#sk-container-id-11 div.sk-toggleable {\n  /* Default theme specific background. It is overwritten whether we have a\n  specific estimator or a Pipeline/ColumnTransformer */\n  background-color: var(--sklearn-color-background);\n}\n\n/* Toggleable label */\n#sk-container-id-11 label.sk-toggleable__label {\n  cursor: pointer;\n  display: block;\n  width: 100%;\n  margin-bottom: 0;\n  padding: 0.5em;\n  box-sizing: border-box;\n  text-align: center;\n}\n\n#sk-container-id-11 label.sk-toggleable__label-arrow:before {\n  /* Arrow on the left of the label */\n  content: \"▸\";\n  float: left;\n  margin-right: 0.25em;\n  color: var(--sklearn-color-icon);\n}\n\n#sk-container-id-11 label.sk-toggleable__label-arrow:hover:before {\n  color: var(--sklearn-color-text);\n}\n\n/* Toggleable content - dropdown */\n\n#sk-container-id-11 div.sk-toggleable__content {\n  max-height: 0;\n  max-width: 0;\n  overflow: hidden;\n  text-align: left;\n  /* unfitted */\n  background-color: var(--sklearn-color-unfitted-level-0);\n}\n\n#sk-container-id-11 div.sk-toggleable__content.fitted {\n  /* fitted */\n  background-color: var(--sklearn-color-fitted-level-0);\n}\n\n#sk-container-id-11 div.sk-toggleable__content pre {\n  margin: 0.2em;\n  border-radius: 0.25em;\n  color: var(--sklearn-color-text);\n  /* unfitted */\n  background-color: var(--sklearn-color-unfitted-level-0);\n}\n\n#sk-container-id-11 div.sk-toggleable__content.fitted pre {\n  /* unfitted */\n  background-color: var(--sklearn-color-fitted-level-0);\n}\n\n#sk-container-id-11 input.sk-toggleable__control:checked~div.sk-toggleable__content {\n  /* Expand drop-down */\n  max-height: 200px;\n  max-width: 100%;\n  overflow: auto;\n}\n\n#sk-container-id-11 input.sk-toggleable__control:checked~label.sk-toggleable__label-arrow:before {\n  content: \"▾\";\n}\n\n/* Pipeline/ColumnTransformer-specific style */\n\n#sk-container-id-11 div.sk-label input.sk-toggleable__control:checked~label.sk-toggleable__label {\n  color: var(--sklearn-color-text);\n  background-color: var(--sklearn-color-unfitted-level-2);\n}\n\n#sk-container-id-11 div.sk-label.fitted input.sk-toggleable__control:checked~label.sk-toggleable__label {\n  background-color: var(--sklearn-color-fitted-level-2);\n}\n\n/* Estimator-specific style */\n\n/* Colorize estimator box */\n#sk-container-id-11 div.sk-estimator input.sk-toggleable__control:checked~label.sk-toggleable__label {\n  /* unfitted */\n  background-color: var(--sklearn-color-unfitted-level-2);\n}\n\n#sk-container-id-11 div.sk-estimator.fitted input.sk-toggleable__control:checked~label.sk-toggleable__label {\n  /* fitted */\n  background-color: var(--sklearn-color-fitted-level-2);\n}\n\n#sk-container-id-11 div.sk-label label.sk-toggleable__label,\n#sk-container-id-11 div.sk-label label {\n  /* The background is the default theme color */\n  color: var(--sklearn-color-text-on-default-background);\n}\n\n/* On hover, darken the color of the background */\n#sk-container-id-11 div.sk-label:hover label.sk-toggleable__label {\n  color: var(--sklearn-color-text);\n  background-color: var(--sklearn-color-unfitted-level-2);\n}\n\n/* Label box, darken color on hover, fitted */\n#sk-container-id-11 div.sk-label.fitted:hover label.sk-toggleable__label.fitted {\n  color: var(--sklearn-color-text);\n  background-color: var(--sklearn-color-fitted-level-2);\n}\n\n/* Estimator label */\n\n#sk-container-id-11 div.sk-label label {\n  font-family: monospace;\n  font-weight: bold;\n  display: inline-block;\n  line-height: 1.2em;\n}\n\n#sk-container-id-11 div.sk-label-container {\n  text-align: center;\n}\n\n/* Estimator-specific */\n#sk-container-id-11 div.sk-estimator {\n  font-family: monospace;\n  border: 1px dotted var(--sklearn-color-border-box);\n  border-radius: 0.25em;\n  box-sizing: border-box;\n  margin-bottom: 0.5em;\n  /* unfitted */\n  background-color: var(--sklearn-color-unfitted-level-0);\n}\n\n#sk-container-id-11 div.sk-estimator.fitted {\n  /* fitted */\n  background-color: var(--sklearn-color-fitted-level-0);\n}\n\n/* on hover */\n#sk-container-id-11 div.sk-estimator:hover {\n  /* unfitted */\n  background-color: var(--sklearn-color-unfitted-level-2);\n}\n\n#sk-container-id-11 div.sk-estimator.fitted:hover {\n  /* fitted */\n  background-color: var(--sklearn-color-fitted-level-2);\n}\n\n/* Specification for estimator info (e.g. \"i\" and \"?\") */\n\n/* Common style for \"i\" and \"?\" */\n\n.sk-estimator-doc-link,\na:link.sk-estimator-doc-link,\na:visited.sk-estimator-doc-link {\n  float: right;\n  font-size: smaller;\n  line-height: 1em;\n  font-family: monospace;\n  background-color: var(--sklearn-color-background);\n  border-radius: 1em;\n  height: 1em;\n  width: 1em;\n  text-decoration: none !important;\n  margin-left: 1ex;\n  /* unfitted */\n  border: var(--sklearn-color-unfitted-level-1) 1pt solid;\n  color: var(--sklearn-color-unfitted-level-1);\n}\n\n.sk-estimator-doc-link.fitted,\na:link.sk-estimator-doc-link.fitted,\na:visited.sk-estimator-doc-link.fitted {\n  /* fitted */\n  border: var(--sklearn-color-fitted-level-1) 1pt solid;\n  color: var(--sklearn-color-fitted-level-1);\n}\n\n/* On hover */\ndiv.sk-estimator:hover .sk-estimator-doc-link:hover,\n.sk-estimator-doc-link:hover,\ndiv.sk-label-container:hover .sk-estimator-doc-link:hover,\n.sk-estimator-doc-link:hover {\n  /* unfitted */\n  background-color: var(--sklearn-color-unfitted-level-3);\n  color: var(--sklearn-color-background);\n  text-decoration: none;\n}\n\ndiv.sk-estimator.fitted:hover .sk-estimator-doc-link.fitted:hover,\n.sk-estimator-doc-link.fitted:hover,\ndiv.sk-label-container:hover .sk-estimator-doc-link.fitted:hover,\n.sk-estimator-doc-link.fitted:hover {\n  /* fitted */\n  background-color: var(--sklearn-color-fitted-level-3);\n  color: var(--sklearn-color-background);\n  text-decoration: none;\n}\n\n/* Span, style for the box shown on hovering the info icon */\n.sk-estimator-doc-link span {\n  display: none;\n  z-index: 9999;\n  position: relative;\n  font-weight: normal;\n  right: .2ex;\n  padding: .5ex;\n  margin: .5ex;\n  width: min-content;\n  min-width: 20ex;\n  max-width: 50ex;\n  color: var(--sklearn-color-text);\n  box-shadow: 2pt 2pt 4pt #999;\n  /* unfitted */\n  background: var(--sklearn-color-unfitted-level-0);\n  border: .5pt solid var(--sklearn-color-unfitted-level-3);\n}\n\n.sk-estimator-doc-link.fitted span {\n  /* fitted */\n  background: var(--sklearn-color-fitted-level-0);\n  border: var(--sklearn-color-fitted-level-3);\n}\n\n.sk-estimator-doc-link:hover span {\n  display: block;\n}\n\n/* \"?\"-specific style due to the `<a>` HTML tag */\n\n#sk-container-id-11 a.estimator_doc_link {\n  float: right;\n  font-size: 1rem;\n  line-height: 1em;\n  font-family: monospace;\n  background-color: var(--sklearn-color-background);\n  border-radius: 1rem;\n  height: 1rem;\n  width: 1rem;\n  text-decoration: none;\n  /* unfitted */\n  color: var(--sklearn-color-unfitted-level-1);\n  border: var(--sklearn-color-unfitted-level-1) 1pt solid;\n}\n\n#sk-container-id-11 a.estimator_doc_link.fitted {\n  /* fitted */\n  border: var(--sklearn-color-fitted-level-1) 1pt solid;\n  color: var(--sklearn-color-fitted-level-1);\n}\n\n/* On hover */\n#sk-container-id-11 a.estimator_doc_link:hover {\n  /* unfitted */\n  background-color: var(--sklearn-color-unfitted-level-3);\n  color: var(--sklearn-color-background);\n  text-decoration: none;\n}\n\n#sk-container-id-11 a.estimator_doc_link.fitted:hover {\n  /* fitted */\n  background-color: var(--sklearn-color-fitted-level-3);\n}\n</style><div id=\"sk-container-id-11\" class=\"sk-top-container\"><div class=\"sk-text-repr-fallback\"><pre>StackingClassifier(estimators=[(&#x27;Model_1&#x27;,\n                                GradientBoostingClassifier(learning_rate=0.11)),\n                               (&#x27;Model_2&#x27;,\n                                XGBClassifier(alpha=0.01, base_score=None,\n                                              booster=&#x27;gbtree&#x27;, callbacks=None,\n                                              colsample_bylevel=None,\n                                              colsample_bynode=None,\n                                              colsample_bytree=0.51,\n                                              device=None,\n                                              early_stopping_rounds=None,\n                                              enable_categorical=False, eta=0.2,\n                                              eval_metric=&#x27;auc&#x27;,\n                                              feature_types=None,...\n                                              max_cat_threshold=None,\n                                              max_cat_to_onehot=None,\n                                              max_delta_step=None, max_depth=10,\n                                              max_leaves=None,\n                                              min_child_weight=101, missing=nan,\n                                              monotone_constraints=None,\n                                              multi_strategy=None,\n                                              n_estimators=None, n_jobs=None, ...)),\n                               (&#x27;Model_3&#x27;,\n                                SVC(C=1, class_weight=&#x27;balanced&#x27;, degree=1,\n                                    kernel=&#x27;poly&#x27;, probability=True))],\n                   final_estimator=LogisticRegression(penalty=&#x27;l1&#x27;,\n                                                      solver=&#x27;saga&#x27;))</pre><b>In a Jupyter environment, please rerun this cell to show the HTML representation or trust the notebook. <br />On GitHub, the HTML representation is unable to render, please try loading this page with nbviewer.org.</b></div><div class=\"sk-container\" hidden><div class=\"sk-item sk-dashed-wrapped\"><div class=\"sk-label-container\"><div class=\"sk-label fitted sk-toggleable\"><input class=\"sk-toggleable__control sk-hidden--visually\" id=\"sk-estimator-id-23\" type=\"checkbox\" ><label for=\"sk-estimator-id-23\" class=\"sk-toggleable__label fitted sk-toggleable__label-arrow fitted\">&nbsp;&nbsp;StackingClassifier<a class=\"sk-estimator-doc-link fitted\" rel=\"noreferrer\" target=\"_blank\" href=\"https://scikit-learn.org/1.4/modules/generated/sklearn.ensemble.StackingClassifier.html\">?<span>Documentation for StackingClassifier</span></a><span class=\"sk-estimator-doc-link fitted\">i<span>Fitted</span></span></label><div class=\"sk-toggleable__content fitted\"><pre>StackingClassifier(estimators=[(&#x27;Model_1&#x27;,\n                                GradientBoostingClassifier(learning_rate=0.11)),\n                               (&#x27;Model_2&#x27;,\n                                XGBClassifier(alpha=0.01, base_score=None,\n                                              booster=&#x27;gbtree&#x27;, callbacks=None,\n                                              colsample_bylevel=None,\n                                              colsample_bynode=None,\n                                              colsample_bytree=0.51,\n                                              device=None,\n                                              early_stopping_rounds=None,\n                                              enable_categorical=False, eta=0.2,\n                                              eval_metric=&#x27;auc&#x27;,\n                                              feature_types=None,...\n                                              max_cat_threshold=None,\n                                              max_cat_to_onehot=None,\n                                              max_delta_step=None, max_depth=10,\n                                              max_leaves=None,\n                                              min_child_weight=101, missing=nan,\n                                              monotone_constraints=None,\n                                              multi_strategy=None,\n                                              n_estimators=None, n_jobs=None, ...)),\n                               (&#x27;Model_3&#x27;,\n                                SVC(C=1, class_weight=&#x27;balanced&#x27;, degree=1,\n                                    kernel=&#x27;poly&#x27;, probability=True))],\n                   final_estimator=LogisticRegression(penalty=&#x27;l1&#x27;,\n                                                      solver=&#x27;saga&#x27;))</pre></div> </div></div><div class=\"sk-serial\"><div class=\"sk-item\"><div class=\"sk-parallel\"><div class=\"sk-parallel-item\"><div class=\"sk-item\"><div class=\"sk-label-container\"><div class=\"sk-label fitted sk-toggleable\"><label>Model_1</label></div></div><div class=\"sk-serial\"><div class=\"sk-item\"><div class=\"sk-estimator fitted sk-toggleable\"><input class=\"sk-toggleable__control sk-hidden--visually\" id=\"sk-estimator-id-24\" type=\"checkbox\" ><label for=\"sk-estimator-id-24\" class=\"sk-toggleable__label fitted sk-toggleable__label-arrow fitted\">&nbsp;GradientBoostingClassifier<a class=\"sk-estimator-doc-link fitted\" rel=\"noreferrer\" target=\"_blank\" href=\"https://scikit-learn.org/1.4/modules/generated/sklearn.ensemble.GradientBoostingClassifier.html\">?<span>Documentation for GradientBoostingClassifier</span></a></label><div class=\"sk-toggleable__content fitted\"><pre>GradientBoostingClassifier(learning_rate=0.11)</pre></div> </div></div></div></div></div><div class=\"sk-parallel-item\"><div class=\"sk-item\"><div class=\"sk-label-container\"><div class=\"sk-label fitted sk-toggleable\"><label>Model_2</label></div></div><div class=\"sk-serial\"><div class=\"sk-item\"><div class=\"sk-estimator fitted sk-toggleable\"><input class=\"sk-toggleable__control sk-hidden--visually\" id=\"sk-estimator-id-25\" type=\"checkbox\" ><label for=\"sk-estimator-id-25\" class=\"sk-toggleable__label fitted sk-toggleable__label-arrow fitted\">XGBClassifier</label><div class=\"sk-toggleable__content fitted\"><pre>XGBClassifier(alpha=0.01, base_score=None, booster=&#x27;gbtree&#x27;, callbacks=None,\n              colsample_bylevel=None, colsample_bynode=None,\n              colsample_bytree=0.51, device=None, early_stopping_rounds=None,\n              enable_categorical=False, eta=0.2, eval_metric=&#x27;auc&#x27;,\n              feature_types=None, gamma=0.019, grow_policy=&#x27;depthwise&#x27;,\n              importance_type=None, interaction_constraints=None,\n              learning_rate=None, max_bin=None, max_cat_threshold=None,\n              max_cat_to_onehot=None, max_delta_step=None, max_depth=10,\n              max_leaves=None, min_child_weight=101, missing=nan,\n              monotone_constraints=None, multi_strategy=None, n_estimators=None,\n              n_jobs=None, ...)</pre></div> </div></div></div></div></div><div class=\"sk-parallel-item\"><div class=\"sk-item\"><div class=\"sk-label-container\"><div class=\"sk-label fitted sk-toggleable\"><label>Model_3</label></div></div><div class=\"sk-serial\"><div class=\"sk-item\"><div class=\"sk-estimator fitted sk-toggleable\"><input class=\"sk-toggleable__control sk-hidden--visually\" id=\"sk-estimator-id-26\" type=\"checkbox\" ><label for=\"sk-estimator-id-26\" class=\"sk-toggleable__label fitted sk-toggleable__label-arrow fitted\">&nbsp;SVC<a class=\"sk-estimator-doc-link fitted\" rel=\"noreferrer\" target=\"_blank\" href=\"https://scikit-learn.org/1.4/modules/generated/sklearn.svm.SVC.html\">?<span>Documentation for SVC</span></a></label><div class=\"sk-toggleable__content fitted\"><pre>SVC(C=1, class_weight=&#x27;balanced&#x27;, degree=1, kernel=&#x27;poly&#x27;, probability=True)</pre></div> </div></div></div></div></div></div></div><div class=\"sk-item\"><div class=\"sk-parallel\"><div class=\"sk-parallel-item\"><div class=\"sk-item\"><div class=\"sk-label-container\"><div class=\"sk-label fitted sk-toggleable\"><label>final_estimator</label></div></div><div class=\"sk-serial\"><div class=\"sk-item\"><div class=\"sk-estimator fitted sk-toggleable\"><input class=\"sk-toggleable__control sk-hidden--visually\" id=\"sk-estimator-id-27\" type=\"checkbox\" ><label for=\"sk-estimator-id-27\" class=\"sk-toggleable__label fitted sk-toggleable__label-arrow fitted\">&nbsp;LogisticRegression<a class=\"sk-estimator-doc-link fitted\" rel=\"noreferrer\" target=\"_blank\" href=\"https://scikit-learn.org/1.4/modules/generated/sklearn.linear_model.LogisticRegression.html\">?<span>Documentation for LogisticRegression</span></a></label><div class=\"sk-toggleable__content fitted\"><pre>LogisticRegression(penalty=&#x27;l1&#x27;, solver=&#x27;saga&#x27;)</pre></div> </div></div></div></div></div></div></div></div></div></div></div>"
     },
     "execution_count": 440,
     "metadata": {},
     "output_type": "execute_result"
    },
    {
     "data": {
      "text/plain": "StackingClassifier(estimators=[('Model_1',\n                                GradientBoostingClassifier(learning_rate=0.11)),\n                               ('Model_2',\n                                XGBClassifier(alpha=0.01, base_score=None,\n                                              booster='gbtree', callbacks=None,\n                                              colsample_bylevel=None,\n                                              colsample_bynode=None,\n                                              colsample_bytree=0.51,\n                                              device=None,\n                                              early_stopping_rounds=None,\n                                              enable_categorical=False, eta=0.2,\n                                              eval_metric='auc',\n                                              feature_types=None,...\n                                              max_cat_threshold=None,\n                                              max_cat_to_onehot=None,\n                                              max_delta_step=None, max_depth=10,\n                                              max_leaves=None,\n                                              min_child_weight=101, missing=nan,\n                                              monotone_constraints=None,\n                                              multi_strategy=None,\n                                              n_estimators=None, n_jobs=None, ...)),\n                               ('Model_3',\n                                SVC(C=1, class_weight='balanced', degree=1,\n                                    kernel='poly', probability=True))],\n                   final_estimator=LogisticRegression(penalty='l1',\n                                                      solver='saga'))",
      "text/html": "<style>#sk-container-id-12 {\n  /* Definition of color scheme common for light and dark mode */\n  --sklearn-color-text: black;\n  --sklearn-color-line: gray;\n  /* Definition of color scheme for unfitted estimators */\n  --sklearn-color-unfitted-level-0: #fff5e6;\n  --sklearn-color-unfitted-level-1: #f6e4d2;\n  --sklearn-color-unfitted-level-2: #ffe0b3;\n  --sklearn-color-unfitted-level-3: chocolate;\n  /* Definition of color scheme for fitted estimators */\n  --sklearn-color-fitted-level-0: #f0f8ff;\n  --sklearn-color-fitted-level-1: #d4ebff;\n  --sklearn-color-fitted-level-2: #b3dbfd;\n  --sklearn-color-fitted-level-3: cornflowerblue;\n\n  /* Specific color for light theme */\n  --sklearn-color-text-on-default-background: var(--sg-text-color, var(--theme-code-foreground, var(--jp-content-font-color1, black)));\n  --sklearn-color-background: var(--sg-background-color, var(--theme-background, var(--jp-layout-color0, white)));\n  --sklearn-color-border-box: var(--sg-text-color, var(--theme-code-foreground, var(--jp-content-font-color1, black)));\n  --sklearn-color-icon: #696969;\n\n  @media (prefers-color-scheme: dark) {\n    /* Redefinition of color scheme for dark theme */\n    --sklearn-color-text-on-default-background: var(--sg-text-color, var(--theme-code-foreground, var(--jp-content-font-color1, white)));\n    --sklearn-color-background: var(--sg-background-color, var(--theme-background, var(--jp-layout-color0, #111)));\n    --sklearn-color-border-box: var(--sg-text-color, var(--theme-code-foreground, var(--jp-content-font-color1, white)));\n    --sklearn-color-icon: #878787;\n  }\n}\n\n#sk-container-id-12 {\n  color: var(--sklearn-color-text);\n}\n\n#sk-container-id-12 pre {\n  padding: 0;\n}\n\n#sk-container-id-12 input.sk-hidden--visually {\n  border: 0;\n  clip: rect(1px 1px 1px 1px);\n  clip: rect(1px, 1px, 1px, 1px);\n  height: 1px;\n  margin: -1px;\n  overflow: hidden;\n  padding: 0;\n  position: absolute;\n  width: 1px;\n}\n\n#sk-container-id-12 div.sk-dashed-wrapped {\n  border: 1px dashed var(--sklearn-color-line);\n  margin: 0 0.4em 0.5em 0.4em;\n  box-sizing: border-box;\n  padding-bottom: 0.4em;\n  background-color: var(--sklearn-color-background);\n}\n\n#sk-container-id-12 div.sk-container {\n  /* jupyter's `normalize.less` sets `[hidden] { display: none; }`\n     but bootstrap.min.css set `[hidden] { display: none !important; }`\n     so we also need the `!important` here to be able to override the\n     default hidden behavior on the sphinx rendered scikit-learn.org.\n     See: https://github.com/scikit-learn/scikit-learn/issues/21755 */\n  display: inline-block !important;\n  position: relative;\n}\n\n#sk-container-id-12 div.sk-text-repr-fallback {\n  display: none;\n}\n\ndiv.sk-parallel-item,\ndiv.sk-serial,\ndiv.sk-item {\n  /* draw centered vertical line to link estimators */\n  background-image: linear-gradient(var(--sklearn-color-text-on-default-background), var(--sklearn-color-text-on-default-background));\n  background-size: 2px 100%;\n  background-repeat: no-repeat;\n  background-position: center center;\n}\n\n/* Parallel-specific style estimator block */\n\n#sk-container-id-12 div.sk-parallel-item::after {\n  content: \"\";\n  width: 100%;\n  border-bottom: 2px solid var(--sklearn-color-text-on-default-background);\n  flex-grow: 1;\n}\n\n#sk-container-id-12 div.sk-parallel {\n  display: flex;\n  align-items: stretch;\n  justify-content: center;\n  background-color: var(--sklearn-color-background);\n  position: relative;\n}\n\n#sk-container-id-12 div.sk-parallel-item {\n  display: flex;\n  flex-direction: column;\n}\n\n#sk-container-id-12 div.sk-parallel-item:first-child::after {\n  align-self: flex-end;\n  width: 50%;\n}\n\n#sk-container-id-12 div.sk-parallel-item:last-child::after {\n  align-self: flex-start;\n  width: 50%;\n}\n\n#sk-container-id-12 div.sk-parallel-item:only-child::after {\n  width: 0;\n}\n\n/* Serial-specific style estimator block */\n\n#sk-container-id-12 div.sk-serial {\n  display: flex;\n  flex-direction: column;\n  align-items: center;\n  background-color: var(--sklearn-color-background);\n  padding-right: 1em;\n  padding-left: 1em;\n}\n\n\n/* Toggleable style: style used for estimator/Pipeline/ColumnTransformer box that is\nclickable and can be expanded/collapsed.\n- Pipeline and ColumnTransformer use this feature and define the default style\n- Estimators will overwrite some part of the style using the `sk-estimator` class\n*/\n\n/* Pipeline and ColumnTransformer style (default) */\n\n#sk-container-id-12 div.sk-toggleable {\n  /* Default theme specific background. It is overwritten whether we have a\n  specific estimator or a Pipeline/ColumnTransformer */\n  background-color: var(--sklearn-color-background);\n}\n\n/* Toggleable label */\n#sk-container-id-12 label.sk-toggleable__label {\n  cursor: pointer;\n  display: block;\n  width: 100%;\n  margin-bottom: 0;\n  padding: 0.5em;\n  box-sizing: border-box;\n  text-align: center;\n}\n\n#sk-container-id-12 label.sk-toggleable__label-arrow:before {\n  /* Arrow on the left of the label */\n  content: \"▸\";\n  float: left;\n  margin-right: 0.25em;\n  color: var(--sklearn-color-icon);\n}\n\n#sk-container-id-12 label.sk-toggleable__label-arrow:hover:before {\n  color: var(--sklearn-color-text);\n}\n\n/* Toggleable content - dropdown */\n\n#sk-container-id-12 div.sk-toggleable__content {\n  max-height: 0;\n  max-width: 0;\n  overflow: hidden;\n  text-align: left;\n  /* unfitted */\n  background-color: var(--sklearn-color-unfitted-level-0);\n}\n\n#sk-container-id-12 div.sk-toggleable__content.fitted {\n  /* fitted */\n  background-color: var(--sklearn-color-fitted-level-0);\n}\n\n#sk-container-id-12 div.sk-toggleable__content pre {\n  margin: 0.2em;\n  border-radius: 0.25em;\n  color: var(--sklearn-color-text);\n  /* unfitted */\n  background-color: var(--sklearn-color-unfitted-level-0);\n}\n\n#sk-container-id-12 div.sk-toggleable__content.fitted pre {\n  /* unfitted */\n  background-color: var(--sklearn-color-fitted-level-0);\n}\n\n#sk-container-id-12 input.sk-toggleable__control:checked~div.sk-toggleable__content {\n  /* Expand drop-down */\n  max-height: 200px;\n  max-width: 100%;\n  overflow: auto;\n}\n\n#sk-container-id-12 input.sk-toggleable__control:checked~label.sk-toggleable__label-arrow:before {\n  content: \"▾\";\n}\n\n/* Pipeline/ColumnTransformer-specific style */\n\n#sk-container-id-12 div.sk-label input.sk-toggleable__control:checked~label.sk-toggleable__label {\n  color: var(--sklearn-color-text);\n  background-color: var(--sklearn-color-unfitted-level-2);\n}\n\n#sk-container-id-12 div.sk-label.fitted input.sk-toggleable__control:checked~label.sk-toggleable__label {\n  background-color: var(--sklearn-color-fitted-level-2);\n}\n\n/* Estimator-specific style */\n\n/* Colorize estimator box */\n#sk-container-id-12 div.sk-estimator input.sk-toggleable__control:checked~label.sk-toggleable__label {\n  /* unfitted */\n  background-color: var(--sklearn-color-unfitted-level-2);\n}\n\n#sk-container-id-12 div.sk-estimator.fitted input.sk-toggleable__control:checked~label.sk-toggleable__label {\n  /* fitted */\n  background-color: var(--sklearn-color-fitted-level-2);\n}\n\n#sk-container-id-12 div.sk-label label.sk-toggleable__label,\n#sk-container-id-12 div.sk-label label {\n  /* The background is the default theme color */\n  color: var(--sklearn-color-text-on-default-background);\n}\n\n/* On hover, darken the color of the background */\n#sk-container-id-12 div.sk-label:hover label.sk-toggleable__label {\n  color: var(--sklearn-color-text);\n  background-color: var(--sklearn-color-unfitted-level-2);\n}\n\n/* Label box, darken color on hover, fitted */\n#sk-container-id-12 div.sk-label.fitted:hover label.sk-toggleable__label.fitted {\n  color: var(--sklearn-color-text);\n  background-color: var(--sklearn-color-fitted-level-2);\n}\n\n/* Estimator label */\n\n#sk-container-id-12 div.sk-label label {\n  font-family: monospace;\n  font-weight: bold;\n  display: inline-block;\n  line-height: 1.2em;\n}\n\n#sk-container-id-12 div.sk-label-container {\n  text-align: center;\n}\n\n/* Estimator-specific */\n#sk-container-id-12 div.sk-estimator {\n  font-family: monospace;\n  border: 1px dotted var(--sklearn-color-border-box);\n  border-radius: 0.25em;\n  box-sizing: border-box;\n  margin-bottom: 0.5em;\n  /* unfitted */\n  background-color: var(--sklearn-color-unfitted-level-0);\n}\n\n#sk-container-id-12 div.sk-estimator.fitted {\n  /* fitted */\n  background-color: var(--sklearn-color-fitted-level-0);\n}\n\n/* on hover */\n#sk-container-id-12 div.sk-estimator:hover {\n  /* unfitted */\n  background-color: var(--sklearn-color-unfitted-level-2);\n}\n\n#sk-container-id-12 div.sk-estimator.fitted:hover {\n  /* fitted */\n  background-color: var(--sklearn-color-fitted-level-2);\n}\n\n/* Specification for estimator info (e.g. \"i\" and \"?\") */\n\n/* Common style for \"i\" and \"?\" */\n\n.sk-estimator-doc-link,\na:link.sk-estimator-doc-link,\na:visited.sk-estimator-doc-link {\n  float: right;\n  font-size: smaller;\n  line-height: 1em;\n  font-family: monospace;\n  background-color: var(--sklearn-color-background);\n  border-radius: 1em;\n  height: 1em;\n  width: 1em;\n  text-decoration: none !important;\n  margin-left: 1ex;\n  /* unfitted */\n  border: var(--sklearn-color-unfitted-level-1) 1pt solid;\n  color: var(--sklearn-color-unfitted-level-1);\n}\n\n.sk-estimator-doc-link.fitted,\na:link.sk-estimator-doc-link.fitted,\na:visited.sk-estimator-doc-link.fitted {\n  /* fitted */\n  border: var(--sklearn-color-fitted-level-1) 1pt solid;\n  color: var(--sklearn-color-fitted-level-1);\n}\n\n/* On hover */\ndiv.sk-estimator:hover .sk-estimator-doc-link:hover,\n.sk-estimator-doc-link:hover,\ndiv.sk-label-container:hover .sk-estimator-doc-link:hover,\n.sk-estimator-doc-link:hover {\n  /* unfitted */\n  background-color: var(--sklearn-color-unfitted-level-3);\n  color: var(--sklearn-color-background);\n  text-decoration: none;\n}\n\ndiv.sk-estimator.fitted:hover .sk-estimator-doc-link.fitted:hover,\n.sk-estimator-doc-link.fitted:hover,\ndiv.sk-label-container:hover .sk-estimator-doc-link.fitted:hover,\n.sk-estimator-doc-link.fitted:hover {\n  /* fitted */\n  background-color: var(--sklearn-color-fitted-level-3);\n  color: var(--sklearn-color-background);\n  text-decoration: none;\n}\n\n/* Span, style for the box shown on hovering the info icon */\n.sk-estimator-doc-link span {\n  display: none;\n  z-index: 9999;\n  position: relative;\n  font-weight: normal;\n  right: .2ex;\n  padding: .5ex;\n  margin: .5ex;\n  width: min-content;\n  min-width: 20ex;\n  max-width: 50ex;\n  color: var(--sklearn-color-text);\n  box-shadow: 2pt 2pt 4pt #999;\n  /* unfitted */\n  background: var(--sklearn-color-unfitted-level-0);\n  border: .5pt solid var(--sklearn-color-unfitted-level-3);\n}\n\n.sk-estimator-doc-link.fitted span {\n  /* fitted */\n  background: var(--sklearn-color-fitted-level-0);\n  border: var(--sklearn-color-fitted-level-3);\n}\n\n.sk-estimator-doc-link:hover span {\n  display: block;\n}\n\n/* \"?\"-specific style due to the `<a>` HTML tag */\n\n#sk-container-id-12 a.estimator_doc_link {\n  float: right;\n  font-size: 1rem;\n  line-height: 1em;\n  font-family: monospace;\n  background-color: var(--sklearn-color-background);\n  border-radius: 1rem;\n  height: 1rem;\n  width: 1rem;\n  text-decoration: none;\n  /* unfitted */\n  color: var(--sklearn-color-unfitted-level-1);\n  border: var(--sklearn-color-unfitted-level-1) 1pt solid;\n}\n\n#sk-container-id-12 a.estimator_doc_link.fitted {\n  /* fitted */\n  border: var(--sklearn-color-fitted-level-1) 1pt solid;\n  color: var(--sklearn-color-fitted-level-1);\n}\n\n/* On hover */\n#sk-container-id-12 a.estimator_doc_link:hover {\n  /* unfitted */\n  background-color: var(--sklearn-color-unfitted-level-3);\n  color: var(--sklearn-color-background);\n  text-decoration: none;\n}\n\n#sk-container-id-12 a.estimator_doc_link.fitted:hover {\n  /* fitted */\n  background-color: var(--sklearn-color-fitted-level-3);\n}\n</style><div id=\"sk-container-id-12\" class=\"sk-top-container\"><div class=\"sk-text-repr-fallback\"><pre>StackingClassifier(estimators=[(&#x27;Model_1&#x27;,\n                                GradientBoostingClassifier(learning_rate=0.11)),\n                               (&#x27;Model_2&#x27;,\n                                XGBClassifier(alpha=0.01, base_score=None,\n                                              booster=&#x27;gbtree&#x27;, callbacks=None,\n                                              colsample_bylevel=None,\n                                              colsample_bynode=None,\n                                              colsample_bytree=0.51,\n                                              device=None,\n                                              early_stopping_rounds=None,\n                                              enable_categorical=False, eta=0.2,\n                                              eval_metric=&#x27;auc&#x27;,\n                                              feature_types=None,...\n                                              max_cat_threshold=None,\n                                              max_cat_to_onehot=None,\n                                              max_delta_step=None, max_depth=10,\n                                              max_leaves=None,\n                                              min_child_weight=101, missing=nan,\n                                              monotone_constraints=None,\n                                              multi_strategy=None,\n                                              n_estimators=None, n_jobs=None, ...)),\n                               (&#x27;Model_3&#x27;,\n                                SVC(C=1, class_weight=&#x27;balanced&#x27;, degree=1,\n                                    kernel=&#x27;poly&#x27;, probability=True))],\n                   final_estimator=LogisticRegression(penalty=&#x27;l1&#x27;,\n                                                      solver=&#x27;saga&#x27;))</pre><b>In a Jupyter environment, please rerun this cell to show the HTML representation or trust the notebook. <br />On GitHub, the HTML representation is unable to render, please try loading this page with nbviewer.org.</b></div><div class=\"sk-container\" hidden><div class=\"sk-item sk-dashed-wrapped\"><div class=\"sk-label-container\"><div class=\"sk-label fitted sk-toggleable\"><input class=\"sk-toggleable__control sk-hidden--visually\" id=\"sk-estimator-id-28\" type=\"checkbox\" ><label for=\"sk-estimator-id-28\" class=\"sk-toggleable__label fitted sk-toggleable__label-arrow fitted\">&nbsp;&nbsp;StackingClassifier<a class=\"sk-estimator-doc-link fitted\" rel=\"noreferrer\" target=\"_blank\" href=\"https://scikit-learn.org/1.4/modules/generated/sklearn.ensemble.StackingClassifier.html\">?<span>Documentation for StackingClassifier</span></a><span class=\"sk-estimator-doc-link fitted\">i<span>Fitted</span></span></label><div class=\"sk-toggleable__content fitted\"><pre>StackingClassifier(estimators=[(&#x27;Model_1&#x27;,\n                                GradientBoostingClassifier(learning_rate=0.11)),\n                               (&#x27;Model_2&#x27;,\n                                XGBClassifier(alpha=0.01, base_score=None,\n                                              booster=&#x27;gbtree&#x27;, callbacks=None,\n                                              colsample_bylevel=None,\n                                              colsample_bynode=None,\n                                              colsample_bytree=0.51,\n                                              device=None,\n                                              early_stopping_rounds=None,\n                                              enable_categorical=False, eta=0.2,\n                                              eval_metric=&#x27;auc&#x27;,\n                                              feature_types=None,...\n                                              max_cat_threshold=None,\n                                              max_cat_to_onehot=None,\n                                              max_delta_step=None, max_depth=10,\n                                              max_leaves=None,\n                                              min_child_weight=101, missing=nan,\n                                              monotone_constraints=None,\n                                              multi_strategy=None,\n                                              n_estimators=None, n_jobs=None, ...)),\n                               (&#x27;Model_3&#x27;,\n                                SVC(C=1, class_weight=&#x27;balanced&#x27;, degree=1,\n                                    kernel=&#x27;poly&#x27;, probability=True))],\n                   final_estimator=LogisticRegression(penalty=&#x27;l1&#x27;,\n                                                      solver=&#x27;saga&#x27;))</pre></div> </div></div><div class=\"sk-serial\"><div class=\"sk-item\"><div class=\"sk-parallel\"><div class=\"sk-parallel-item\"><div class=\"sk-item\"><div class=\"sk-label-container\"><div class=\"sk-label fitted sk-toggleable\"><label>Model_1</label></div></div><div class=\"sk-serial\"><div class=\"sk-item\"><div class=\"sk-estimator fitted sk-toggleable\"><input class=\"sk-toggleable__control sk-hidden--visually\" id=\"sk-estimator-id-29\" type=\"checkbox\" ><label for=\"sk-estimator-id-29\" class=\"sk-toggleable__label fitted sk-toggleable__label-arrow fitted\">&nbsp;GradientBoostingClassifier<a class=\"sk-estimator-doc-link fitted\" rel=\"noreferrer\" target=\"_blank\" href=\"https://scikit-learn.org/1.4/modules/generated/sklearn.ensemble.GradientBoostingClassifier.html\">?<span>Documentation for GradientBoostingClassifier</span></a></label><div class=\"sk-toggleable__content fitted\"><pre>GradientBoostingClassifier(learning_rate=0.11)</pre></div> </div></div></div></div></div><div class=\"sk-parallel-item\"><div class=\"sk-item\"><div class=\"sk-label-container\"><div class=\"sk-label fitted sk-toggleable\"><label>Model_2</label></div></div><div class=\"sk-serial\"><div class=\"sk-item\"><div class=\"sk-estimator fitted sk-toggleable\"><input class=\"sk-toggleable__control sk-hidden--visually\" id=\"sk-estimator-id-30\" type=\"checkbox\" ><label for=\"sk-estimator-id-30\" class=\"sk-toggleable__label fitted sk-toggleable__label-arrow fitted\">XGBClassifier</label><div class=\"sk-toggleable__content fitted\"><pre>XGBClassifier(alpha=0.01, base_score=None, booster=&#x27;gbtree&#x27;, callbacks=None,\n              colsample_bylevel=None, colsample_bynode=None,\n              colsample_bytree=0.51, device=None, early_stopping_rounds=None,\n              enable_categorical=False, eta=0.2, eval_metric=&#x27;auc&#x27;,\n              feature_types=None, gamma=0.019, grow_policy=&#x27;depthwise&#x27;,\n              importance_type=None, interaction_constraints=None,\n              learning_rate=None, max_bin=None, max_cat_threshold=None,\n              max_cat_to_onehot=None, max_delta_step=None, max_depth=10,\n              max_leaves=None, min_child_weight=101, missing=nan,\n              monotone_constraints=None, multi_strategy=None, n_estimators=None,\n              n_jobs=None, ...)</pre></div> </div></div></div></div></div><div class=\"sk-parallel-item\"><div class=\"sk-item\"><div class=\"sk-label-container\"><div class=\"sk-label fitted sk-toggleable\"><label>Model_3</label></div></div><div class=\"sk-serial\"><div class=\"sk-item\"><div class=\"sk-estimator fitted sk-toggleable\"><input class=\"sk-toggleable__control sk-hidden--visually\" id=\"sk-estimator-id-31\" type=\"checkbox\" ><label for=\"sk-estimator-id-31\" class=\"sk-toggleable__label fitted sk-toggleable__label-arrow fitted\">&nbsp;SVC<a class=\"sk-estimator-doc-link fitted\" rel=\"noreferrer\" target=\"_blank\" href=\"https://scikit-learn.org/1.4/modules/generated/sklearn.svm.SVC.html\">?<span>Documentation for SVC</span></a></label><div class=\"sk-toggleable__content fitted\"><pre>SVC(C=1, class_weight=&#x27;balanced&#x27;, degree=1, kernel=&#x27;poly&#x27;, probability=True)</pre></div> </div></div></div></div></div></div></div><div class=\"sk-item\"><div class=\"sk-parallel\"><div class=\"sk-parallel-item\"><div class=\"sk-item\"><div class=\"sk-label-container\"><div class=\"sk-label fitted sk-toggleable\"><label>final_estimator</label></div></div><div class=\"sk-serial\"><div class=\"sk-item\"><div class=\"sk-estimator fitted sk-toggleable\"><input class=\"sk-toggleable__control sk-hidden--visually\" id=\"sk-estimator-id-32\" type=\"checkbox\" ><label for=\"sk-estimator-id-32\" class=\"sk-toggleable__label fitted sk-toggleable__label-arrow fitted\">&nbsp;LogisticRegression<a class=\"sk-estimator-doc-link fitted\" rel=\"noreferrer\" target=\"_blank\" href=\"https://scikit-learn.org/1.4/modules/generated/sklearn.linear_model.LogisticRegression.html\">?<span>Documentation for LogisticRegression</span></a></label><div class=\"sk-toggleable__content fitted\"><pre>LogisticRegression(penalty=&#x27;l1&#x27;, solver=&#x27;saga&#x27;)</pre></div> </div></div></div></div></div></div></div></div></div></div></div>"
     },
     "execution_count": 443,
     "metadata": {},
     "output_type": "execute_result"
    }
   ],
   "source": [
    "stackCL.fit(X_train, target)"
   ],
   "metadata": {
    "collapsed": false,
    "pycharm": {
     "name": "#%%\n"
    }
   },
   "id": "a569cf34dbafd6a6"
  },
  {
   "cell_type": "code",
   "execution_count": 444,
   "outputs": [
    {
     "data": {
      "text/plain": "array([0.34264281, 0.52502234, 0.41242914, ..., 0.19050493, 0.36236263,\n       0.29249503])"
     },
     "execution_count": 444,
     "metadata": {},
     "output_type": "execute_result"
    }
   ],
   "source": [
    "final_probs = stackCL.predict_proba(X_test)[:,1]\n",
    "final_probs"
   ],
   "metadata": {
    "collapsed": false,
    "pycharm": {
     "name": "#%%\n"
    }
   },
   "id": "427b3b913a5bb9a0"
  },
  {
   "cell_type": "code",
   "execution_count": 445,
   "outputs": [],
   "source": [
    "np.savetxt(\"McNeil_Ryan_model_pred2.csv\", final_probs, delimiter=',')"
   ],
   "metadata": {
    "collapsed": false,
    "pycharm": {
     "name": "#%%\n"
    }
   },
   "id": "3aaf51363ddf6406"
  }
 ],
 "metadata": {
  "kernelspec": {
   "display_name": "Python 3",
   "language": "python",
   "name": "python3"
  },
  "language_info": {
   "codemirror_mode": {
    "name": "ipython",
    "version": 2
   },
   "file_extension": ".py",
   "mimetype": "text/x-python",
   "name": "python",
   "nbconvert_exporter": "python",
   "pygments_lexer": "ipython2",
   "version": "2.7.6"
  }
 },
 "nbformat": 4,
 "nbformat_minor": 5
}
