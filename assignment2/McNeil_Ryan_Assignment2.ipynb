{
 "cells": [
  {
   "cell_type": "markdown",
   "source": [
    "# Setup"
   ],
   "metadata": {
    "collapsed": false,
    "pycharm": {
     "name": "#%% md\n"
    }
   },
   "id": "ca64beac5c6b6f7e"
  },
  {
   "cell_type": "code",
   "outputs": [
    {
     "name": "stdout",
     "output_type": "stream",
     "text": [
      "WD: D:\\School\\2024 Spring\\CSC74020 Machine Learning\\Assignment_2\n",
      "CPU cores: 16\n"
     ]
    }
   ],
   "source": [
    "import os\n",
    "import datetime\n",
    "import numpy as np\n",
    "import pandas as pd\n",
    "import sklearn as skl\n",
    "from sklearn.preprocessing import LabelEncoder\n",
    "from sklearn.preprocessing import OrdinalEncoder\n",
    "from sklearn.preprocessing import StandardScaler\n",
    "from sklearn.feature_extraction.text import TfidfVectorizer\n",
    "from sklearn.model_selection import train_test_split\n",
    "from sklearn.svm import SVC\n",
    "from sklearn.tree import DecisionTreeClassifier\n",
    "from sklearn.ensemble import RandomForestClassifier\n",
    "from sklearn.metrics import make_scorer\n",
    "from sklearn.model_selection import GridSearchCV\n",
    "import keras\n",
    "from keras.models import Sequential\n",
    "from keras.layers import Dense, Flatten, Softmax, Activation, SimpleRNN, Embedding, Conv2D\n",
    "from sklearn.naive_bayes import MultinomialNB\n",
    "from sklearn.linear_model import LogisticRegression\n",
    "import tensorflow as tf\n",
    "import seaborn as sns\n",
    "import pickle\n",
    "from xgboost import XGBClassifier\n",
    "from sklearn.neighbors import KNeighborsClassifier\n",
    "\n",
    "#I may change environs between desktop & laptop, so I run the below to check my WD and that multicore processing is still available.\n",
    "print(\"WD:\", os.getcwd())\n",
    "print(\"CPU cores:\", os.cpu_count())"
   ],
   "metadata": {
    "collapsed": false,
    "pycharm": {
     "name": "#%%\n"
    },
    "ExecuteTime": {
     "end_time": "2024-04-04T00:35:21.777751Z",
     "start_time": "2024-04-04T00:35:21.768073Z"
    }
   },
   "id": "76c414f391c9ff15",
   "execution_count": 168
  },
  {
   "cell_type": "markdown",
   "source": [
    "\n",
    "# Part A: Model Code and Exploration (100 pts)"
   ],
   "metadata": {
    "collapsed": false,
    "pycharm": {
     "name": "#%% md\n"
    }
   },
   "id": "7b812f8cb615333f"
  },
  {
   "cell_type": "markdown",
   "source": [
    "1. Perform Exploratory Data Analysis (EDA) and discuss the data and what you observe\n",
    "prior to beginning modeling and how impact how to proceed [10 pts]"
   ],
   "metadata": {
    "collapsed": false,
    "pycharm": {
     "name": "#%% md\n"
    }
   },
   "id": "65f8e5f59e8dfd93"
  },
  {
   "cell_type": "code",
   "outputs": [
    {
     "name": "stdout",
     "output_type": "stream",
     "text": [
      "Length:  8000\n",
      "Width:  40\n",
      "Variables:  Index(['discharge_disposition_id', 'admission_source_id', 'payer_code',\n",
      "       'medical_specialty', 'num_lab_procedures', 'num_procedures',\n",
      "       'num_medications', 'number_outpatient', 'number_emergency',\n",
      "       'number_diagnoses', 'max_glu_serum', 'metformin', 'repaglinide',\n",
      "       'nateglinide', 'chlorpropamide', 'glimepiride', 'acetohexamide',\n",
      "       'glipizide', 'glyburide', 'tolbutamide', 'pioglitazone',\n",
      "       'rosiglitazone', 'acarbose', 'miglitol', 'troglitazone', 'tolazamide',\n",
      "       'examide', 'citoglipton', 'insulin', 'glyburide.metformin',\n",
      "       'glipizide.metformin', 'glimepiride.pioglitazone',\n",
      "       'metformin.rosiglitazone', 'metformin.pioglitazone', 'change',\n",
      "       'diabetesMed', 'readmitted', '2nd_diag', '3rd_diag', 'ai_response'],\n",
      "      dtype='object')\n"
     ]
    },
    {
     "data": {
      "text/plain": "  discharge_disposition_id       admission_source_id payer_code  \\\n0       Discharged to home  Transfer from a hospital        NaN   \n1       Discharged to home  Transfer from a hospital        NaN   \n2       Discharged to home            Emergency Room         SP   \n3       Discharged to home            Emergency Room        NaN   \n4       Discharged to home        Physician Referral         MD   \n\n  medical_specialty  num_lab_procedures  num_procedures  num_medications  \\\n0               NaN                  24               2               17   \n1               NaN                  37               3               14   \n2  Emergency/Trauma                  60               4               17   \n3               NaN                  40               3               25   \n4   Surgery-General                  31               2               18   \n\n   number_outpatient  number_emergency  number_diagnoses  ...  \\\n0                  0                 0                 8  ...   \n1                  0                 0                 8  ...   \n2                  0                 0                 9  ...   \n3                  1                 0                 9  ...   \n4                  0                 0                 7  ...   \n\n  glipizide.metformin glimepiride.pioglitazone metformin.rosiglitazone  \\\n0                  No                       No                      No   \n1                  No                       No                      No   \n2                  No                       No                      No   \n3                  No                       No                      No   \n4                  No                       No                      No   \n\n  metformin.pioglitazone change diabetesMed readmitted 2nd_diag 3rd_diag  \\\n0                     No     No         Yes      False      414      428   \n1                     No     No         Yes      False      410      414   \n2                     No     No          No       True      537      786   \n3                     No     Ch         Yes       True      425      428   \n4                     No     No         Yes       True      682      998   \n\n                                         ai_response  \n0  Based on the diagnosis code 250.01, which indi...  \n1  Based on the information provided, I recommend...  \n2  Based on the information provided, the patient...  \n3  Based on the information provided, the patient...  \n4  Based on the information provided, the patient...  \n\n[5 rows x 40 columns]",
      "text/html": "<div>\n<style scoped>\n    .dataframe tbody tr th:only-of-type {\n        vertical-align: middle;\n    }\n\n    .dataframe tbody tr th {\n        vertical-align: top;\n    }\n\n    .dataframe thead th {\n        text-align: right;\n    }\n</style>\n<table border=\"1\" class=\"dataframe\">\n  <thead>\n    <tr style=\"text-align: right;\">\n      <th></th>\n      <th>discharge_disposition_id</th>\n      <th>admission_source_id</th>\n      <th>payer_code</th>\n      <th>medical_specialty</th>\n      <th>num_lab_procedures</th>\n      <th>num_procedures</th>\n      <th>num_medications</th>\n      <th>number_outpatient</th>\n      <th>number_emergency</th>\n      <th>number_diagnoses</th>\n      <th>...</th>\n      <th>glipizide.metformin</th>\n      <th>glimepiride.pioglitazone</th>\n      <th>metformin.rosiglitazone</th>\n      <th>metformin.pioglitazone</th>\n      <th>change</th>\n      <th>diabetesMed</th>\n      <th>readmitted</th>\n      <th>2nd_diag</th>\n      <th>3rd_diag</th>\n      <th>ai_response</th>\n    </tr>\n  </thead>\n  <tbody>\n    <tr>\n      <th>0</th>\n      <td>Discharged to home</td>\n      <td>Transfer from a hospital</td>\n      <td>NaN</td>\n      <td>NaN</td>\n      <td>24</td>\n      <td>2</td>\n      <td>17</td>\n      <td>0</td>\n      <td>0</td>\n      <td>8</td>\n      <td>...</td>\n      <td>No</td>\n      <td>No</td>\n      <td>No</td>\n      <td>No</td>\n      <td>No</td>\n      <td>Yes</td>\n      <td>False</td>\n      <td>414</td>\n      <td>428</td>\n      <td>Based on the diagnosis code 250.01, which indi...</td>\n    </tr>\n    <tr>\n      <th>1</th>\n      <td>Discharged to home</td>\n      <td>Transfer from a hospital</td>\n      <td>NaN</td>\n      <td>NaN</td>\n      <td>37</td>\n      <td>3</td>\n      <td>14</td>\n      <td>0</td>\n      <td>0</td>\n      <td>8</td>\n      <td>...</td>\n      <td>No</td>\n      <td>No</td>\n      <td>No</td>\n      <td>No</td>\n      <td>No</td>\n      <td>Yes</td>\n      <td>False</td>\n      <td>410</td>\n      <td>414</td>\n      <td>Based on the information provided, I recommend...</td>\n    </tr>\n    <tr>\n      <th>2</th>\n      <td>Discharged to home</td>\n      <td>Emergency Room</td>\n      <td>SP</td>\n      <td>Emergency/Trauma</td>\n      <td>60</td>\n      <td>4</td>\n      <td>17</td>\n      <td>0</td>\n      <td>0</td>\n      <td>9</td>\n      <td>...</td>\n      <td>No</td>\n      <td>No</td>\n      <td>No</td>\n      <td>No</td>\n      <td>No</td>\n      <td>No</td>\n      <td>True</td>\n      <td>537</td>\n      <td>786</td>\n      <td>Based on the information provided, the patient...</td>\n    </tr>\n    <tr>\n      <th>3</th>\n      <td>Discharged to home</td>\n      <td>Emergency Room</td>\n      <td>NaN</td>\n      <td>NaN</td>\n      <td>40</td>\n      <td>3</td>\n      <td>25</td>\n      <td>1</td>\n      <td>0</td>\n      <td>9</td>\n      <td>...</td>\n      <td>No</td>\n      <td>No</td>\n      <td>No</td>\n      <td>No</td>\n      <td>Ch</td>\n      <td>Yes</td>\n      <td>True</td>\n      <td>425</td>\n      <td>428</td>\n      <td>Based on the information provided, the patient...</td>\n    </tr>\n    <tr>\n      <th>4</th>\n      <td>Discharged to home</td>\n      <td>Physician Referral</td>\n      <td>MD</td>\n      <td>Surgery-General</td>\n      <td>31</td>\n      <td>2</td>\n      <td>18</td>\n      <td>0</td>\n      <td>0</td>\n      <td>7</td>\n      <td>...</td>\n      <td>No</td>\n      <td>No</td>\n      <td>No</td>\n      <td>No</td>\n      <td>No</td>\n      <td>Yes</td>\n      <td>True</td>\n      <td>682</td>\n      <td>998</td>\n      <td>Based on the information provided, the patient...</td>\n    </tr>\n  </tbody>\n</table>\n<p>5 rows × 40 columns</p>\n</div>"
     },
     "execution_count": 4,
     "metadata": {},
     "output_type": "execute_result"
    }
   ],
   "source": [
    "full_train_data = pd.read_csv(\"8k_diabetes_train.csv\",\n",
    "                              na_values=\"?\")\n",
    "print(\"Length: \", len(full_train_data))\n",
    "print(\"Width: \", len(full_train_data.columns))\n",
    "print(\"Variables: \", full_train_data.columns)\n",
    "full_train_data.head()"
   ],
   "metadata": {
    "collapsed": false,
    "pycharm": {
     "name": "#%%\n"
    },
    "ExecuteTime": {
     "end_time": "2024-04-04T00:35:22.432646Z",
     "start_time": "2024-04-04T00:35:22.286148Z"
    }
   },
   "id": "a7641a5809738813",
   "execution_count": 4
  },
  {
   "cell_type": "code",
   "execution_count": 5,
   "outputs": [
    {
     "data": {
      "text/plain": "discharge_disposition_id\nDischarged to home                                                                                             4864\nDischarged/transferred to SNF                                                                                   954\nDischarged/transferred to home with home health service                                                         920\nNaN                                                                                                             364\nExpired                                                                                                         153\nDischarged/transferred to another short term hospital                                                           139\nDischarged/transferred to another rehab fac including rehab units of a hospital.                                134\nDischarged/transferred to another  type of inpatient care institution                                           130\nNot Mapped                                                                                                      107\nDischarged/transferred to ICF                                                                                    80\nDischarged/transferred to a long term care hospital.                                                             39\nLeft AMA                                                                                                         36\nHospice / home                                                                                                   28\nHospice / medical facility                                                                                       22\nDischarged/transferred to home under care of Home IV provider                                                    12\nDischarged/transferred/referred to a psychiatric hospital of a psychiatric distinct part unit of a hospital      11\nDischarged/transferred within this institution to Medicare approved swing bed                                     3\nAdmitted as an inpatient to this hospital                                                                         2\nDischarged/transferred/referred to this institution for outpatient services                                       1\nDischarged/transferred/referred another institution for outpatient services                                       1\nName: count, dtype: int64"
     },
     "execution_count": 5,
     "metadata": {},
     "output_type": "execute_result"
    }
   ],
   "source": [
    "# I investigated value counts for every variable. For brevity, I include only this one example in my final submission.\n",
    "full_train_data.discharge_disposition_id.value_counts(dropna=False)"
   ],
   "metadata": {
    "collapsed": false,
    "pycharm": {
     "name": "#%%\n"
    },
    "ExecuteTime": {
     "end_time": "2024-04-04T00:35:22.448155Z",
     "start_time": "2024-04-04T00:35:22.435789Z"
    }
   },
   "id": "165e35ef3056b8fd"
  },
  {
   "cell_type": "code",
   "execution_count": 6,
   "outputs": [
    {
     "data": {
      "text/plain": "payer_code\nNaN    4302\nMC     1988\nHM      364\nBC      300\nSP      242\nUN      221\nMD      189\nCP      159\nCM       88\nDM       46\nOG       39\nPO       34\nWC        9\nSI        8\nOT        6\nCH        5\nName: count, dtype: int64"
     },
     "execution_count": 6,
     "metadata": {},
     "output_type": "execute_result"
    }
   ],
   "source": [
    "full_train_data.payer_code.value_counts(dropna=False)"
   ],
   "metadata": {
    "collapsed": false,
    "pycharm": {
     "name": "#%%\n"
    },
    "ExecuteTime": {
     "end_time": "2024-04-04T00:35:22.525300Z",
     "start_time": "2024-04-04T00:35:22.516431Z"
    }
   },
   "id": "6c1cbc10be263dc4"
  },
  {
   "cell_type": "markdown",
   "source": [
    "For \"Payer Code\" & \"Medical Specialty\", \"?\" is the largest class. I re-wrote my read_csv command to explicitly identify these as NAs. This is a lot of missing data for these columns. Next, I'll look at the distributions of the continuous variables."
   ],
   "metadata": {
    "collapsed": false,
    "pycharm": {
     "name": "#%% md\n"
    }
   },
   "id": "39b8f5b7d6221fd4"
  },
  {
   "cell_type": "code",
   "execution_count": 7,
   "outputs": [
    {
     "data": {
      "text/plain": "count    8000.000000\nmean       43.183375\nstd        19.518187\nmin         1.000000\n25%        32.000000\n50%        44.000000\n75%        57.000000\nmax       120.000000\nName: num_lab_procedures, dtype: float64"
     },
     "execution_count": 7,
     "metadata": {},
     "output_type": "execute_result"
    }
   ],
   "source": [
    "# I also did the below for all other continuous variables. Those cells have been deleted from the final submission for brevity.\n",
    "full_train_data.num_lab_procedures.describe()"
   ],
   "metadata": {
    "collapsed": false,
    "pycharm": {
     "name": "#%%\n"
    },
    "ExecuteTime": {
     "end_time": "2024-04-04T00:35:22.569192Z",
     "start_time": "2024-04-04T00:35:22.558529Z"
    }
   },
   "id": "5c488cf3cead15e9"
  },
  {
   "cell_type": "code",
   "execution_count": 8,
   "outputs": [
    {
     "data": {
      "text/plain": "discharge_disposition_id     True\nadmission_source_id          True\npayer_code                   True\nmedical_specialty            True\nnum_lab_procedures          False\nnum_procedures              False\nnum_medications             False\nnumber_outpatient           False\nnumber_emergency            False\nnumber_diagnoses            False\nmax_glu_serum                True\nmetformin                   False\nrepaglinide                 False\nnateglinide                 False\nchlorpropamide              False\nglimepiride                 False\nacetohexamide               False\nglipizide                   False\nglyburide                   False\ntolbutamide                 False\npioglitazone                False\nrosiglitazone               False\nacarbose                    False\nmiglitol                    False\ntroglitazone                False\ntolazamide                  False\nexamide                     False\ncitoglipton                 False\ninsulin                     False\nglyburide.metformin         False\nglipizide.metformin         False\nglimepiride.pioglitazone    False\nmetformin.rosiglitazone     False\nmetformin.pioglitazone      False\nchange                      False\ndiabetesMed                 False\nreadmitted                  False\n2nd_diag                     True\n3rd_diag                     True\nai_response                 False\ndtype: bool"
     },
     "execution_count": 8,
     "metadata": {},
     "output_type": "execute_result"
    }
   ],
   "source": [
    "# I use the below code to identify which columns have any NAs.\n",
    "pd.isna(full_train_data).max()"
   ],
   "metadata": {
    "collapsed": false,
    "pycharm": {
     "name": "#%%\n"
    },
    "ExecuteTime": {
     "end_time": "2024-04-04T00:35:22.648449Z",
     "start_time": "2024-04-04T00:35:22.630891Z"
    }
   },
   "id": "c32b35c28d7e5865"
  },
  {
   "cell_type": "markdown",
   "source": [
    "We have 8000 records of 39 features plus one target feature for readmission. We have a variety of continuous, categorical, and boolean variables, plus one string variable of text called \"ai_response.\" For most of the continuous variables (and several of the others), there appear to be a small but not insignificant number of extreme outliers, I will want to keep this in mind when performing test_train_split and training.\n",
    "\n",
    "Further, we have na values that we will want to somehow deal with in the variables: # Discharge_disposition_id, Admission_source_id, and Max_glu_serum, \"Payer Code\" & \"Medical Specialty\". I may also want to rename \"?\" values to proper NAs before doing so.\n",
    "\n",
    "\"2nd_diag\" and \"3rd_diag\" are unclear. The name, repeated values, occasional letters & decimals all seem to imply diagnosis codes. As such, it may not be reasonable to try to impute the few NAs."
   ],
   "metadata": {
    "collapsed": false,
    "pycharm": {
     "name": "#%% md\n"
    }
   },
   "id": "86733f8752d8f7c7"
  },
  {
   "cell_type": "markdown",
   "source": [
    "2. Pre-processed categorical data for use in the model and justified pre-processing\n",
    "method. Note this may be different for each algorithm you try. [10 pts]"
   ],
   "metadata": {
    "collapsed": false,
    "pycharm": {
     "name": "#%% md\n"
    }
   },
   "id": "c43475e47ecf0f00"
  },
  {
   "cell_type": "markdown",
   "source": [
    "For simplicity, I might typically construct a class or pipeline that would perform pre-processing as part of the final model. However, to satisfy the structure of this assignment, I will instead perform pre-processing in discrete steps below (which will need to be repeated on the validation set later)."
   ],
   "metadata": {
    "collapsed": false,
    "pycharm": {
     "name": "#%% md\n"
    }
   },
   "id": "1518d1081222b7e4"
  },
  {
   "cell_type": "markdown",
   "source": [
    "I address the columns in order, one at a time. First,  \"discharge_disposition_id\".\n",
    "\n",
    "I believe this variable is best left as categorical (rather than ordinal), as there is no clear hierarchy of values. I believe \"Not Mapped\" should be NAs, and I reason that patients who die in care necessarily can't be readmitted, so other data about them may not be useful for predicting readmission. On inspection, I see no reasonable way to impute NAs as any other values.--The AI output seems to agree for many of those patients."
   ],
   "metadata": {
    "collapsed": false,
    "pycharm": {
     "name": "#%% md\n"
    }
   },
   "id": "6adc6c92be09a807"
  },
  {
   "cell_type": "code",
   "execution_count": 124,
   "outputs": [],
   "source": [
    "full_train_data.discharge_disposition_id = full_train_data.discharge_disposition_id.replace(\"Not Mapped\", np.nan)"
   ],
   "metadata": {
    "collapsed": false,
    "pycharm": {
     "name": "#%%\n"
    },
    "ExecuteTime": {
     "end_time": "2024-04-04T00:35:22.713683Z",
     "start_time": "2024-04-04T00:35:22.708106Z"
    }
   },
   "id": "92d1a0f47db20476"
  },
  {
   "cell_type": "code",
   "execution_count": 10,
   "outputs": [
    {
     "data": {
      "text/plain": "readmitted\nFalse    153\nName: count, dtype: int64"
     },
     "execution_count": 10,
     "metadata": {},
     "output_type": "execute_result"
    }
   ],
   "source": [
    "# I confirm no zombies in our data:\n",
    "full_train_data.loc[(full_train_data['discharge_disposition_id'] == \"Expired\")].readmitted.value_counts()"
   ],
   "metadata": {
    "collapsed": false,
    "pycharm": {
     "name": "#%%\n"
    },
    "ExecuteTime": {
     "end_time": "2024-04-04T00:35:22.875157Z",
     "start_time": "2024-04-04T00:35:22.866277Z"
    }
   },
   "id": "3905818bf62c3a57"
  },
  {
   "cell_type": "code",
   "execution_count": 11,
   "outputs": [
    {
     "name": "stdout",
     "output_type": "stream",
     "text": [
      "Index '135' is now labeled:  136\n",
      "Undropped rows:  0\n"
     ]
    }
   ],
   "source": [
    "# I use the following method for dropping rows because alternative methods can result in missing indices.\n",
    "# This method ensures that I will not encounter missing indices errors later on.\n",
    "indices_to_drop = full_train_data[full_train_data['discharge_disposition_id'] == \"Expired\"].index\n",
    "full_train_data.drop(index=indices_to_drop, inplace=True)\n",
    "#See how the indices are not decremented\n",
    "print(\"Index '135' is now labeled: \", full_train_data.iloc[135].name)\n",
    "# Check that rows have been successfully dropped.\n",
    "print(\"Undropped rows: \", len(full_train_data.loc[(full_train_data['discharge_disposition_id'] == \"Expired\")].readmitted.value_counts()))"
   ],
   "metadata": {
    "collapsed": false,
    "pycharm": {
     "name": "#%%\n"
    },
    "ExecuteTime": {
     "end_time": "2024-04-04T00:35:22.940094Z",
     "start_time": "2024-04-04T00:35:22.927227Z"
    }
   },
   "id": "497b78e0e542ba52"
  },
  {
   "cell_type": "code",
   "execution_count": 12,
   "outputs": [
    {
     "name": "stdout",
     "output_type": "stream",
     "text": [
      "Index '135' is now labeled:  135\n"
     ]
    }
   ],
   "source": [
    "# I correct the index\n",
    "full_train_data.set_index(np.arange(len(full_train_data)), inplace=True)\n",
    "print(\"Index '135' is now labeled: \", full_train_data.iloc[135].name)"
   ],
   "metadata": {
    "collapsed": false,
    "pycharm": {
     "name": "#%%\n"
    },
    "ExecuteTime": {
     "end_time": "2024-04-04T00:35:23.023558Z",
     "start_time": "2024-04-04T00:35:23.017646Z"
    }
   },
   "id": "702f1a4d88fc9fa1"
  },
  {
   "cell_type": "code",
   "execution_count": 13,
   "outputs": [
    {
     "data": {
      "text/plain": "discharge_disposition_id\nDischarged to home                                                                                             4864\nDischarged/transferred to SNF                                                                                   954\nDischarged/transferred to home with home health service                                                         920\nNaN                                                                                                             471\nDischarged/transferred to another short term hospital                                                           139\nDischarged/transferred to another rehab fac including rehab units of a hospital.                                134\nDischarged/transferred to another  type of inpatient care institution                                           130\nDischarged/transferred to ICF                                                                                    80\nDischarged/transferred to a long term care hospital.                                                             39\nLeft AMA                                                                                                         36\nHospice / home                                                                                                   28\nHospice / medical facility                                                                                       22\nDischarged/transferred to home under care of Home IV provider                                                    12\nDischarged/transferred/referred to a psychiatric hospital of a psychiatric distinct part unit of a hospital      11\nDischarged/transferred within this institution to Medicare approved swing bed                                     3\nAdmitted as an inpatient to this hospital                                                                         2\nDischarged/transferred/referred to this institution for outpatient services                                       1\nDischarged/transferred/referred another institution for outpatient services                                       1\nName: count, dtype: int64"
     },
     "execution_count": 13,
     "metadata": {},
     "output_type": "execute_result"
    }
   ],
   "source": [
    "full_train_data.discharge_disposition_id.value_counts(dropna=False)"
   ],
   "metadata": {
    "collapsed": false,
    "pycharm": {
     "name": "#%%\n"
    }
   }
  },
  {
   "cell_type": "markdown",
   "source": [
    "Next, admission_source_id. I replace \"Not Mapped\" with NA.\n",
    "Additionally, I do not believe it is possible to impute NAs. The distribution is relatively split across the two most prevalent categories, and there is no way to convert to numeric values."
   ],
   "metadata": {
    "collapsed": false,
    "pycharm": {
     "name": "#%% md\n"
    }
   },
   "id": "1415e6542f1b4d60"
  },
  {
   "cell_type": "code",
   "execution_count": 14,
   "outputs": [],
   "source": [
    "full_train_data.admission_source_id = full_train_data.admission_source_id.replace(\"Not Mapped\", np.nan)\n",
    "full_train_data.admission_source_id = full_train_data.admission_source_id.replace(\"Not Available\", np.nan)"
   ],
   "metadata": {
    "collapsed": false,
    "pycharm": {
     "name": "#%%\n"
    },
    "ExecuteTime": {
     "end_time": "2024-04-04T00:35:23.058108Z",
     "start_time": "2024-04-04T00:35:23.050319Z"
    }
   },
   "id": "4091a6327ff3ad18"
  },
  {
   "cell_type": "code",
   "outputs": [
    {
     "data": {
      "text/plain": "admission_source_id\nEmergency Room                                    3873\nPhysician Referral                                2374\nTransfer from a hospital                           319\nTransfer from another health care facility         268\nClinic Referral                                    140\nTransfer from a Skilled Nursing Facility (SNF)      87\nHMO Referral                                        22\nCourt/Law Enforcement                                1\nName: count, dtype: int64"
     },
     "execution_count": 15,
     "metadata": {},
     "output_type": "execute_result"
    }
   ],
   "source": [
    "full_train_data.admission_source_id.value_counts()"
   ],
   "metadata": {
    "collapsed": false,
    "ExecuteTime": {
     "end_time": "2024-04-04T00:35:23.122957Z",
     "start_time": "2024-04-04T00:35:23.112876Z"
    },
    "pycharm": {
     "name": "#%%\n"
    }
   },
   "id": "773e644b7b0570dc",
   "execution_count": 15
  },
  {
   "cell_type": "markdown",
   "source": [
    "Next, payer_code. \"?\" have already been read as NAs by my read_csv command.\n",
    "\n",
    "My intuition for imputing NAs is that \"?\" for payer_code may imply patients who either do not have a way to pay right away, or who cannot pay at all. This may correlate with socioeconomic status, an external variable that may influence readmission. However, I cannot confirm this, and it may be a risk to impute NAs (or designate them their own category) when they represent the bulk of the data. I *try* imputing NAs as their own category, but I may change this later and compare the effect on model performance."
   ],
   "metadata": {
    "collapsed": false,
    "pycharm": {
     "name": "#%% md\n"
    }
   },
   "id": "2495e8030997282d"
  },
  {
   "cell_type": "code",
   "execution_count": 16,
   "outputs": [
    {
     "data": {
      "text/plain": "payer_code\nNaN    4229\nMC     1933\nHM      360\nBC      296\nSP      239\nUN      218\nMD      186\nCP      155\nCM       86\nDM       45\nOG       38\nPO       34\nWC        9\nSI        8\nOT        6\nCH        5\nName: count, dtype: int64"
     },
     "execution_count": 16,
     "metadata": {},
     "output_type": "execute_result"
    }
   ],
   "source": [
    "#full_train_data.payer_code = full_train_data.payer_code.fillna(\"No_code\")\n",
    "full_train_data.payer_code.value_counts(dropna=False)"
   ],
   "metadata": {
    "collapsed": false,
    "pycharm": {
     "name": "#%%\n"
    },
    "ExecuteTime": {
     "end_time": "2024-04-04T00:35:23.177534Z",
     "start_time": "2024-04-04T00:35:23.166934Z"
    }
   },
   "id": "a3c8203fce91345b"
  },
  {
   "cell_type": "markdown",
   "source": [
    "Next, medical_specialty. I replace obvious NAs. I also do not believe it is possible to simply impute NAs, as the data is categorical and NAs represent a sizable chunk of the data.\n",
    "\n",
    "Given more time, it might be possible to do so using information from the \"ai_response\" column.\n",
    "\n",
    "I do not change any other outliers or 'suspicious' values, as I am unsure if or how they should be recategorized. e.g. \"Surgery-PlasticwithinHeadandNeck\"."
   ],
   "metadata": {
    "collapsed": false,
    "pycharm": {
     "name": "#%% md\n"
    }
   },
   "id": "3076d8f28b397eb9"
  },
  {
   "cell_type": "code",
   "execution_count": 17,
   "outputs": [],
   "source": [
    "# Replacing obvious NA values\n",
    "full_train_data.medical_specialty = full_train_data.medical_specialty.replace(\"PhysicianNotFound\", np.nan)"
   ],
   "metadata": {
    "collapsed": false,
    "pycharm": {
     "name": "#%%\n"
    },
    "ExecuteTime": {
     "end_time": "2024-04-04T00:35:23.244071Z",
     "start_time": "2024-04-04T00:35:23.236433Z"
    }
   },
   "id": "f49784958cfcc301"
  },
  {
   "cell_type": "markdown",
   "source": [
    "Additionally, I prep medical_specialty for one-hot encoding by setting all but the 10 most common categories to NA. These also happen to be the only categories which each account for more than 1% of the data."
   ],
   "metadata": {
    "collapsed": false,
    "pycharm": {
     "name": "#%% md\n"
    }
   },
   "id": "1a1c07facf427448"
  },
  {
   "cell_type": "code",
   "execution_count": 18,
   "outputs": [],
   "source": [
    "cols_to_keep = (\"InternalMedicine\", \"Family/GeneralPractice\", \"Cardiology\",\"Emergency/Trauma\", \"Surgery-General\", \"Orthopedics-Reconstructive\", \"Nephrology\", \"Psychiatry\", \"Orthopedics\", \"ObstetricsandGynecology\")\n",
    "\n",
    "full_train_data.loc[~full_train_data[\"medical_specialty\"].isin(cols_to_keep), \"medical_specialty\"] = np.nan"
   ],
   "metadata": {
    "collapsed": false,
    "pycharm": {
     "name": "#%%\n"
    },
    "ExecuteTime": {
     "end_time": "2024-04-04T00:35:23.290660Z",
     "start_time": "2024-04-04T00:35:23.282539Z"
    }
   },
   "id": "82bc07d2232de987"
  },
  {
   "cell_type": "code",
   "execution_count": 19,
   "outputs": [
    {
     "data": {
      "text/plain": "medical_specialty\nNaN                           3927\nInternalMedicine              1494\nFamily/GeneralPractice         675\nCardiology                     552\nEmergency/Trauma               387\nSurgery-General                269\nOrthopedics-Reconstructive     132\nNephrology                     123\nPsychiatry                     104\nOrthopedics                    101\nObstetricsandGynecology         83\nName: count, dtype: int64"
     },
     "execution_count": 19,
     "metadata": {},
     "output_type": "execute_result"
    }
   ],
   "source": [
    "full_train_data.medical_specialty.value_counts(dropna=False)"
   ],
   "metadata": {
    "collapsed": false,
    "pycharm": {
     "name": "#%%\n"
    },
    "ExecuteTime": {
     "end_time": "2024-04-04T00:35:23.377016Z",
     "start_time": "2024-04-04T00:35:23.367321Z"
    }
   },
   "id": "6b981cb4612aca93"
  },
  {
   "cell_type": "markdown",
   "source": [
    "Next, max_glu_serum. I would consider this ordinal data, but not interval data, as I cannot confirm that the distance between \"Norm\" and \">200\" is equal to the distance between \">200\" and \">300\". So I will One-Hot encode this variable at the end of this section, instead of label encoding.\n",
    "Assuming these are readings for blood glucose serum test, I'm assuming it is only administered when there is a reasonable chance that the patient's blood glucose might be abnormal. As such, it may be reasonable to impute NAs as \"Norm\". However, I wound up making NAs their own category, since information may be gleaned from the fact that a doctor thought administration of a test was necessary at all, even if blood glucose came back normal."
   ],
   "metadata": {
    "collapsed": false,
    "pycharm": {
     "name": "#%% md\n"
    }
   },
   "id": "f46beadbf7142df6"
  },
  {
   "cell_type": "code",
   "execution_count": 20,
   "outputs": [
    {
     "data": {
      "text/plain": "max_glu_serum\nNo_test    7333\nNorm        267\n>200        152\n>300         95\nName: count, dtype: int64"
     },
     "execution_count": 20,
     "metadata": {},
     "output_type": "execute_result"
    }
   ],
   "source": [
    "full_train_data.max_glu_serum = full_train_data.max_glu_serum.fillna(\"No_test\")\n",
    "full_train_data.max_glu_serum.value_counts(dropna=False)"
   ],
   "metadata": {
    "collapsed": false,
    "pycharm": {
     "name": "#%%\n"
    },
    "ExecuteTime": {
     "end_time": "2024-04-04T00:35:23.440435Z",
     "start_time": "2024-04-04T00:35:23.429009Z"
    }
   },
   "id": "ccb894a4be52828d"
  },
  {
   "cell_type": "markdown",
   "source": [
    "Next, \"Metformin\" through \"Insulin\" appear to be ordinal, but not interval, same problem as above. I will one-hot encode these later. I drop acetohexamide, troglitazone, examide, and citoglipton because they contain only one value."
   ],
   "metadata": {
    "collapsed": false,
    "pycharm": {
     "name": "#%% md\n"
    }
   },
   "id": "6afb62c04f1fde6f"
  },
  {
   "cell_type": "code",
   "execution_count": 21,
   "outputs": [
    {
     "name": "stdout",
     "output_type": "stream",
     "text": [
      "metformin : 4\n",
      "repaglinide : 4\n",
      "nateglinide : 4\n",
      "chlorpropamide : 3\n",
      "glimepiride : 4\n",
      "acetohexamide : 1\n",
      "glipizide : 4\n",
      "glyburide : 4\n",
      "tolbutamide : 2\n",
      "pioglitazone : 4\n"
     ]
    }
   ],
   "source": [
    "for col in full_train_data.columns[11:21]:\n",
    "    print(col,\":\", len(full_train_data[col].unique()))"
   ],
   "metadata": {
    "collapsed": false,
    "pycharm": {
     "name": "#%%\n"
    },
    "ExecuteTime": {
     "end_time": "2024-04-04T00:35:23.518795Z",
     "start_time": "2024-04-04T00:35:23.506538Z"
    }
   },
   "id": "a59ba37ea3635262"
  },
  {
   "cell_type": "code",
   "execution_count": 22,
   "outputs": [],
   "source": [
    "full_train_data = full_train_data.drop([\"acetohexamide\",\n",
    "                                        \"troglitazone\",\n",
    "                                        \"examide\",\n",
    "                                        \"citoglipton\"],\n",
    "                                       axis=1)"
   ],
   "metadata": {
    "collapsed": false,
    "pycharm": {
     "name": "#%%\n"
    },
    "ExecuteTime": {
     "end_time": "2024-04-04T00:35:23.589140Z",
     "start_time": "2024-04-04T00:35:23.577526Z"
    }
   },
   "id": "cd622d1db519637c"
  },
  {
   "cell_type": "markdown",
   "source": [
    "Next, I drop nateglinide, chlorpropamide, tolbutamide, acarbose, miglitol, and tolazamide, because the \"No\" class represents 99% or more of records. 99% is an arbitrary threshold; realistically, I could probably drop even more of these columns."
   ],
   "metadata": {
    "collapsed": false,
    "pycharm": {
     "name": "#%% md\n"
    }
   },
   "id": "aba6a129309ac588"
  },
  {
   "cell_type": "code",
   "execution_count": 23,
   "outputs": [
    {
     "name": "stdout",
     "output_type": "stream",
     "text": [
      "metformin\n",
      "No        6279\n",
      "Steady    1435\n",
      "Up          95\n",
      "Down        38\n",
      "Name: count, dtype: int64 \n",
      "\n",
      "repaglinide\n",
      "No        7741\n",
      "Steady      91\n",
      "Up          11\n",
      "Down         4\n",
      "Name: count, dtype: int64 \n",
      "\n",
      "nateglinide\n",
      "No        7804\n",
      "Steady      41\n",
      "Down         1\n",
      "Up           1\n",
      "Name: count, dtype: int64 \n",
      "\n",
      "chlorpropamide\n",
      "No        7836\n",
      "Steady      10\n",
      "Up           1\n",
      "Name: count, dtype: int64 \n",
      "\n",
      "glimepiride\n",
      "No        7457\n",
      "Steady     356\n",
      "Up          26\n",
      "Down         8\n",
      "Name: count, dtype: int64 \n",
      "\n",
      "glipizide\n",
      "No        6800\n",
      "Steady     934\n",
      "Up          74\n",
      "Down        39\n",
      "Name: count, dtype: int64 \n",
      "\n",
      "glyburide\n",
      "No        6920\n",
      "Steady     799\n",
      "Up          80\n",
      "Down        48\n",
      "Name: count, dtype: int64 \n",
      "\n",
      "tolbutamide\n",
      "No        7846\n",
      "Steady       1\n",
      "Name: count, dtype: int64 \n",
      "\n",
      "pioglitazone\n",
      "No        7295\n",
      "Steady     525\n",
      "Up          20\n",
      "Down         7\n",
      "Name: count, dtype: int64 \n",
      "\n",
      "rosiglitazone\n",
      "No        7247\n",
      "Steady     576\n",
      "Up          17\n",
      "Down         7\n",
      "Name: count, dtype: int64 \n",
      "\n",
      "acarbose\n",
      "No        7822\n",
      "Steady      24\n",
      "Up           1\n",
      "Name: count, dtype: int64 \n",
      "\n",
      "miglitol\n",
      "No        7843\n",
      "Steady       2\n",
      "Up           1\n",
      "Down         1\n",
      "Name: count, dtype: int64 \n",
      "\n",
      "tolazamide\n",
      "No        7843\n",
      "Steady       4\n",
      "Name: count, dtype: int64 \n",
      "\n"
     ]
    }
   ],
   "source": [
    "for col in full_train_data.columns[11:24]:\n",
    "    print(full_train_data[col].value_counts(),\"\\n\")"
   ],
   "metadata": {
    "collapsed": false,
    "pycharm": {
     "name": "#%%\n"
    },
    "ExecuteTime": {
     "end_time": "2024-04-04T00:35:23.662883Z",
     "start_time": "2024-04-04T00:35:23.645044Z"
    }
   },
   "id": "3ac401bf7aed4660"
  },
  {
   "cell_type": "code",
   "execution_count": 24,
   "outputs": [],
   "source": [
    "full_train_data = full_train_data.drop([\"nateglinide\",\n",
    "                                        \"chlorpropamide\",\n",
    "                                        \"tolbutamide\",\n",
    "                                        \"acarbose\",\n",
    "                                        \"miglitol\",\n",
    "                                        \"tolazamide\"],\n",
    "                                       axis=1)"
   ],
   "metadata": {
    "collapsed": false,
    "pycharm": {
     "name": "#%%\n"
    },
    "ExecuteTime": {
     "end_time": "2024-04-04T00:35:23.701518Z",
     "start_time": "2024-04-04T00:35:23.692692Z"
    }
   },
   "id": "12e3fcfa676a0695"
  },
  {
   "cell_type": "markdown",
   "source": [
    "Next, I drop \"glyburide.metformin\" and \"glipizide.metformin\" because nearly all values are \"no\", and I drop \"glimepiride.pioglitazone\" through \"metformin.pioglitazone\" because they *only* contain \"no\" values.\n"
   ],
   "metadata": {
    "collapsed": false,
    "pycharm": {
     "name": "#%% md\n"
    }
   },
   "id": "98b0a01a92b2175f"
  },
  {
   "cell_type": "code",
   "execution_count": 25,
   "outputs": [
    {
     "name": "stdout",
     "output_type": "stream",
     "text": [
      "glyburide.metformin : 4\n",
      "glipizide.metformin : 2\n",
      "glimepiride.pioglitazone : 1\n",
      "metformin.rosiglitazone : 1\n",
      "metformin.pioglitazone : 1\n"
     ]
    }
   ],
   "source": [
    "#Print number of unique values\n",
    "for col in full_train_data.columns[19:24]:\n",
    "    print(col,\":\", len(full_train_data[col].unique()))"
   ],
   "metadata": {
    "collapsed": false,
    "pycharm": {
     "name": "#%%\n"
    },
    "ExecuteTime": {
     "end_time": "2024-04-04T00:35:23.765907Z",
     "start_time": "2024-04-04T00:35:23.755110Z"
    }
   },
   "id": "6815338ef137abb3"
  },
  {
   "cell_type": "code",
   "execution_count": 26,
   "outputs": [
    {
     "data": {
      "text/plain": "glyburide.metformin\nNo        7803\nSteady      42\nDown         1\nUp           1\nName: count, dtype: int64"
     },
     "execution_count": 26,
     "metadata": {},
     "output_type": "execute_result"
    }
   ],
   "source": [
    "full_train_data.value_counts(\"glyburide.metformin\")\n",
    "# 99.43% of the data is \"no\"."
   ],
   "metadata": {
    "collapsed": false,
    "pycharm": {
     "name": "#%%\n"
    },
    "ExecuteTime": {
     "end_time": "2024-04-04T00:35:23.830514Z",
     "start_time": "2024-04-04T00:35:23.820388Z"
    }
   },
   "id": "a047c601e525c8f3"
  },
  {
   "cell_type": "code",
   "execution_count": 27,
   "outputs": [
    {
     "data": {
      "text/plain": "glipizide.metformin\nNo        7845\nSteady       2\nName: count, dtype: int64"
     },
     "execution_count": 27,
     "metadata": {},
     "output_type": "execute_result"
    }
   ],
   "source": [
    "full_train_data.value_counts(\"glipizide.metformin\")"
   ],
   "metadata": {
    "collapsed": false,
    "pycharm": {
     "name": "#%%\n"
    },
    "ExecuteTime": {
     "end_time": "2024-04-04T00:35:23.874421Z",
     "start_time": "2024-04-04T00:35:23.863730Z"
    }
   },
   "id": "48997e55711518fa"
  },
  {
   "cell_type": "code",
   "execution_count": 28,
   "outputs": [],
   "source": [
    "full_train_data = full_train_data.drop([\"glyburide.metformin\",\n",
    "                                        \"glipizide.metformin\",\n",
    "                                        \"glimepiride.pioglitazone\",\n",
    "                                        \"metformin.rosiglitazone\",\n",
    "                                        \"metformin.pioglitazone\"],\n",
    "                                       axis=1)"
   ],
   "metadata": {
    "collapsed": false,
    "pycharm": {
     "name": "#%%\n"
    },
    "ExecuteTime": {
     "end_time": "2024-04-04T00:35:24.003249Z",
     "start_time": "2024-04-04T00:35:23.994054Z"
    }
   },
   "id": "24f8f3e137a76e35"
  },
  {
   "cell_type": "markdown",
   "source": [
    "\"change\", \"diabetes_med\" and \"readmitted\" I encode as a binary. This is both to ensure it reads as a 0-1 or true-false to my model(s), and for interpretability. I also encode 'change' and 'diabetesMed\" as objects to simply include them in the categorical set for OneHotEncoding later.\n",
    "\n",
    "\"readmitted\" I pull out here to make my target vector"
   ],
   "metadata": {
    "collapsed": false,
    "pycharm": {
     "name": "#%% md\n"
    }
   },
   "id": "bfd0f63e8ab0b62c"
  },
  {
   "cell_type": "code",
   "execution_count": 29,
   "outputs": [
    {
     "name": "stderr",
     "output_type": "stream",
     "text": [
      "C:\\Users\\rmcne\\AppData\\Local\\Temp\\ipykernel_27532\\2301618933.py:2: FutureWarning: Downcasting behavior in `replace` is deprecated and will be removed in a future version. To retain the old behavior, explicitly call `result.infer_objects(copy=False)`. To opt-in to the future behavior, set `pd.set_option('future.no_silent_downcasting', True)`\n",
      "  full_train_data.change = full_train_data.change.replace(\"No\", 0)\n",
      "C:\\Users\\rmcne\\AppData\\Local\\Temp\\ipykernel_27532\\2301618933.py:7: FutureWarning: Downcasting behavior in `replace` is deprecated and will be removed in a future version. To retain the old behavior, explicitly call `result.infer_objects(copy=False)`. To opt-in to the future behavior, set `pd.set_option('future.no_silent_downcasting', True)`\n",
      "  full_train_data.diabetesMed = full_train_data.diabetesMed.replace(\"No\", 0)\n",
      "C:\\Users\\rmcne\\AppData\\Local\\Temp\\ipykernel_27532\\2301618933.py:11: FutureWarning: Downcasting behavior in `replace` is deprecated and will be removed in a future version. To retain the old behavior, explicitly call `result.infer_objects(copy=False)`. To opt-in to the future behavior, set `pd.set_option('future.no_silent_downcasting', True)`\n",
      "  full_train_data.readmitted = full_train_data.readmitted.replace(False, 0)\n"
     ]
    }
   ],
   "source": [
    "full_train_data.change = full_train_data.change.replace(\"Ch\", 1)\n",
    "full_train_data.change = full_train_data.change.replace(\"No\", 0)\n",
    "full_train_data.change = full_train_data.change.astype(\"object\")\n",
    "\n",
    "\n",
    "full_train_data.diabetesMed = full_train_data.diabetesMed.replace(\"Yes\", 1)\n",
    "full_train_data.diabetesMed = full_train_data.diabetesMed.replace(\"No\", 0)\n",
    "full_train_data.diabetesMed = full_train_data.diabetesMed.astype(\"object\")\n",
    "\n",
    "full_train_data.readmitted = full_train_data.readmitted.replace(True, 1)\n",
    "full_train_data.readmitted = full_train_data.readmitted.replace(False, 0)\n",
    "full_train_data_targetVector = np.array(full_train_data.readmitted)"
   ],
   "metadata": {
    "collapsed": false,
    "pycharm": {
     "name": "#%%\n"
    },
    "ExecuteTime": {
     "end_time": "2024-04-04T00:35:24.041637Z",
     "start_time": "2024-04-04T00:35:24.020595Z"
    }
   },
   "id": "7a53a0177acb9eb9"
  },
  {
   "cell_type": "code",
   "outputs": [
    {
     "data": {
      "text/plain": "array([0, 0, 1, ..., 0, 1, 1], dtype=int64)"
     },
     "execution_count": 30,
     "metadata": {},
     "output_type": "execute_result"
    }
   ],
   "source": [
    "full_train_data_targetVector"
   ],
   "metadata": {
    "collapsed": false,
    "ExecuteTime": {
     "end_time": "2024-04-04T00:35:24.093624Z",
     "start_time": "2024-04-04T00:35:24.087412Z"
    },
    "pycharm": {
     "name": "#%%\n"
    }
   },
   "id": "725ec576bdecace3",
   "execution_count": 30
  },
  {
   "cell_type": "markdown",
   "source": [
    "\"2nd_diag\" and \"3rd_diag\". As stated above, I believe these may be diagnosis codes. This may be important information for predicting readmission. I can't impute NAs and I consider them as categorical. Below I ensure these columns are set as strings, rather than floats. There is no way to reasonably one-hot encode without either a) massively expanding the dimensionality of our data by 390 columns (nunique values) or b) cutting several categories which still contain many patients.  "
   ],
   "metadata": {
    "collapsed": false,
    "pycharm": {
     "name": "#%% md\n"
    }
   },
   "id": "e95756ca7a009910"
  },
  {
   "cell_type": "code",
   "execution_count": 31,
   "outputs": [],
   "source": [
    "full_train_data[\"2nd_diag\"] = full_train_data[\"2nd_diag\"].astype(str)\n",
    "full_train_data[\"3rd_diag\"] = full_train_data[\"3rd_diag\"].astype(str)"
   ],
   "metadata": {
    "collapsed": false,
    "pycharm": {
     "name": "#%%\n"
    },
    "ExecuteTime": {
     "end_time": "2024-04-04T00:35:24.144386Z",
     "start_time": "2024-04-04T00:35:24.137982Z"
    }
   },
   "id": "c0802d43043eea6c"
  },
  {
   "cell_type": "code",
   "execution_count": 32,
   "outputs": [],
   "source": [
    "# It is not possible for a column to have more than one datatype. I re-confirm that my index has been set correctly and that no glitches have occurred in type processing (by the absense of errors) in the below.\n",
    "for j in (\"2nd_diag\", \"3rd_diag\"):\n",
    "    for i in np.arange(len(full_train_data)):\n",
    "        if type(full_train_data[j][i]) != str:\n",
    "            print(j,i,type(full_train_data[j][i]))"
   ],
   "metadata": {
    "collapsed": false,
    "pycharm": {
     "name": "#%%\n"
    },
    "ExecuteTime": {
     "end_time": "2024-04-04T00:35:24.307353Z",
     "start_time": "2024-04-04T00:35:24.220474Z"
    }
   },
   "id": "83155a0322964e79"
  },
  {
   "cell_type": "code",
   "outputs": [],
   "source": [
    "# I set these aside as their own set, I may use them in their own model, or encode them with a different method than that used for the remainder of the categorical data.\n",
    "diags_full_train_data = full_train_data[[\"2nd_diag\", \"3rd_diag\"]]"
   ],
   "metadata": {
    "collapsed": false,
    "ExecuteTime": {
     "end_time": "2024-04-04T00:35:24.318467Z",
     "start_time": "2024-04-04T00:35:24.310471Z"
    },
    "pycharm": {
     "name": "#%%\n"
    }
   },
   "id": "dc89b38be5f44057",
   "execution_count": 33
  },
  {
   "cell_type": "code",
   "outputs": [
    {
     "data": {
      "text/plain": "     2nd_diag 3rd_diag\n0         414      428\n1         410      414\n2         537      786\n3         425      428\n4         682      998\n...       ...      ...\n7842      276      584\n7843      309      496\n7844      428      786\n7845      401      493\n7846       38      496\n\n[7847 rows x 2 columns]",
      "text/html": "<div>\n<style scoped>\n    .dataframe tbody tr th:only-of-type {\n        vertical-align: middle;\n    }\n\n    .dataframe tbody tr th {\n        vertical-align: top;\n    }\n\n    .dataframe thead th {\n        text-align: right;\n    }\n</style>\n<table border=\"1\" class=\"dataframe\">\n  <thead>\n    <tr style=\"text-align: right;\">\n      <th></th>\n      <th>2nd_diag</th>\n      <th>3rd_diag</th>\n    </tr>\n  </thead>\n  <tbody>\n    <tr>\n      <th>0</th>\n      <td>414</td>\n      <td>428</td>\n    </tr>\n    <tr>\n      <th>1</th>\n      <td>410</td>\n      <td>414</td>\n    </tr>\n    <tr>\n      <th>2</th>\n      <td>537</td>\n      <td>786</td>\n    </tr>\n    <tr>\n      <th>3</th>\n      <td>425</td>\n      <td>428</td>\n    </tr>\n    <tr>\n      <th>4</th>\n      <td>682</td>\n      <td>998</td>\n    </tr>\n    <tr>\n      <th>...</th>\n      <td>...</td>\n      <td>...</td>\n    </tr>\n    <tr>\n      <th>7842</th>\n      <td>276</td>\n      <td>584</td>\n    </tr>\n    <tr>\n      <th>7843</th>\n      <td>309</td>\n      <td>496</td>\n    </tr>\n    <tr>\n      <th>7844</th>\n      <td>428</td>\n      <td>786</td>\n    </tr>\n    <tr>\n      <th>7845</th>\n      <td>401</td>\n      <td>493</td>\n    </tr>\n    <tr>\n      <th>7846</th>\n      <td>38</td>\n      <td>496</td>\n    </tr>\n  </tbody>\n</table>\n<p>7847 rows × 2 columns</p>\n</div>"
     },
     "execution_count": 34,
     "metadata": {},
     "output_type": "execute_result"
    }
   ],
   "source": [
    "diags_full_train_data"
   ],
   "metadata": {
    "collapsed": false,
    "ExecuteTime": {
     "end_time": "2024-04-04T00:35:24.345186Z",
     "start_time": "2024-04-04T00:35:24.334871Z"
    },
    "pycharm": {
     "name": "#%%\n"
    }
   },
   "id": "aa0bcd9fba302c55",
   "execution_count": 34
  },
  {
   "cell_type": "markdown",
   "source": [
    "My biggest lingering concern is how to encode these categorical variables. On one hand, multi-label encoding could cause my models to misinterpret categorical data as having an ordered, ratio relationship; on the other, one-hot encoding would explode the number of columns given the number of categories and categorical variables I have, possibly leading to high-dimensionality problems."
   ],
   "metadata": {
    "collapsed": false,
    "pycharm": {
     "name": "#%% md\n"
    }
   },
   "id": "ac73cdd35ab861a8"
  },
  {
   "cell_type": "code",
   "execution_count": 48,
   "outputs": [
    {
     "name": "stdout",
     "output_type": "stream",
     "text": [
      "discharge_disposition_id : 18\n",
      "admission_source_id : 9\n",
      "payer_code : 16\n",
      "medical_specialty : 11\n",
      "max_glu_serum : 4\n",
      "metformin : 4\n",
      "repaglinide : 4\n",
      "glimepiride : 4\n",
      "glipizide : 4\n",
      "glyburide : 4\n",
      "pioglitazone : 4\n",
      "rosiglitazone : 4\n",
      "insulin : 4\n",
      "change : 2\n",
      "diabetesMed : 2\n",
      "Intended OneHot cats:  88\n"
     ]
    }
   ],
   "source": [
    "Cat_full_train_data = full_train_data[full_train_data.dtypes[full_train_data.dtypes == \"object\"].index[0:15]].copy()\n",
    "\n",
    "total_cols = 0\n",
    "\n",
    "for col in Cat_full_train_data.columns:\n",
    "    total_cols += Cat_full_train_data[col].nunique()\n",
    "    print(col,\":\", len(Cat_full_train_data[col].unique()))\n",
    "print(\"Intended OneHot cats: \", total_cols - 2)"
   ],
   "metadata": {
    "collapsed": false,
    "pycharm": {
     "name": "#%%\n"
    },
    "ExecuteTime": {
     "end_time": "2024-04-04T00:35:24.401492Z",
     "start_time": "2024-04-04T00:35:24.376277Z"
    }
   },
   "id": "f6096f493e892396"
  },
  {
   "cell_type": "markdown",
   "source": [
    "OneHotEncoder seems to have no simple method for handling NANs and plans to implement such a feature have not been followed up since 2020:\n",
    "https://github.com/scikit-learn/scikit-learn/issues/11996\n",
    "So, I will have to manually drop these columns from the sparse matrix."
   ],
   "metadata": {
    "collapsed": false,
    "pycharm": {
     "name": "#%% md\n"
    }
   },
   "id": "bf10e4b0a76ad4e2"
  },
  {
   "cell_type": "code",
   "outputs": [
    {
     "data": {
      "text/plain": "array(['discharge_disposition_id_Admitted as an inpatient to this hospital',\n       'discharge_disposition_id_Discharged to home',\n       'discharge_disposition_id_Discharged/transferred to ICF',\n       'discharge_disposition_id_Discharged/transferred to SNF',\n       'discharge_disposition_id_Discharged/transferred to a long term care hospital.',\n       'discharge_disposition_id_Discharged/transferred to another  type of inpatient care institution',\n       'discharge_disposition_id_Discharged/transferred to another rehab fac including rehab units of a hospital.',\n       'discharge_disposition_id_Discharged/transferred to another short term hospital',\n       'discharge_disposition_id_Discharged/transferred to home under care of Home IV provider',\n       'discharge_disposition_id_Discharged/transferred to home with home health service',\n       'discharge_disposition_id_Discharged/transferred within this institution to Medicare approved swing bed',\n       'discharge_disposition_id_Discharged/transferred/referred another institution for outpatient services',\n       'discharge_disposition_id_Discharged/transferred/referred to a psychiatric hospital of a psychiatric distinct part unit of a hospital',\n       'discharge_disposition_id_Discharged/transferred/referred to this institution for outpatient services',\n       'discharge_disposition_id_Hospice / home',\n       'discharge_disposition_id_Hospice / medical facility',\n       'discharge_disposition_id_Left AMA',\n       'discharge_disposition_id_nan',\n       'admission_source_id_Clinic Referral',\n       'admission_source_id_Court/Law Enforcement',\n       'admission_source_id_Emergency Room',\n       'admission_source_id_HMO Referral',\n       'admission_source_id_Physician Referral',\n       'admission_source_id_Transfer from a Skilled Nursing Facility (SNF)',\n       'admission_source_id_Transfer from a hospital',\n       'admission_source_id_Transfer from another health care facility',\n       'admission_source_id_nan', 'payer_code_BC', 'payer_code_CH',\n       'payer_code_CM', 'payer_code_CP', 'payer_code_DM', 'payer_code_HM',\n       'payer_code_MC', 'payer_code_MD', 'payer_code_OG', 'payer_code_OT',\n       'payer_code_PO', 'payer_code_SI', 'payer_code_SP', 'payer_code_UN',\n       'payer_code_WC', 'payer_code_nan', 'medical_specialty_Cardiology',\n       'medical_specialty_Emergency/Trauma',\n       'medical_specialty_Family/GeneralPractice',\n       'medical_specialty_InternalMedicine',\n       'medical_specialty_Nephrology',\n       'medical_specialty_ObstetricsandGynecology',\n       'medical_specialty_Orthopedics',\n       'medical_specialty_Orthopedics-Reconstructive',\n       'medical_specialty_Psychiatry',\n       'medical_specialty_Surgery-General', 'medical_specialty_nan',\n       'max_glu_serum_>200', 'max_glu_serum_>300',\n       'max_glu_serum_No_test', 'max_glu_serum_Norm', 'metformin_Down',\n       'metformin_No', 'metformin_Steady', 'metformin_Up',\n       'repaglinide_Down', 'repaglinide_No', 'repaglinide_Steady',\n       'repaglinide_Up', 'glimepiride_Down', 'glimepiride_No',\n       'glimepiride_Steady', 'glimepiride_Up', 'glipizide_Down',\n       'glipizide_No', 'glipizide_Steady', 'glipizide_Up',\n       'glyburide_Down', 'glyburide_No', 'glyburide_Steady',\n       'glyburide_Up', 'pioglitazone_Down', 'pioglitazone_No',\n       'pioglitazone_Steady', 'pioglitazone_Up', 'rosiglitazone_Down',\n       'rosiglitazone_No', 'rosiglitazone_Steady', 'rosiglitazone_Up',\n       'insulin_Down', 'insulin_No', 'insulin_Steady', 'insulin_Up',\n       'change_1', 'diabetesMed_1'], dtype=object)"
     },
     "execution_count": 50,
     "metadata": {},
     "output_type": "execute_result"
    }
   ],
   "source": [
    "ohe = skl.preprocessing.OneHotEncoder(drop='if_binary', \n",
    "                                      handle_unknown=\"ignore\",\n",
    "                                      sparse_output=False)\n",
    "ohe.fit(Cat_full_train_data)\n",
    "encCat_full_train_data = ohe.transform(Cat_full_train_data)\n",
    "ohe.get_feature_names_out()"
   ],
   "metadata": {
    "collapsed": false,
    "pycharm": {
     "name": "#%%\n"
    },
    "ExecuteTime": {
     "end_time": "2024-04-04T00:36:06.268533Z",
     "start_time": "2024-04-04T00:36:06.224370Z"
    }
   },
   "id": "1f65b9669ada9ecd",
   "execution_count": 50
  },
  {
   "cell_type": "code",
   "outputs": [
    {
     "name": "stdout",
     "output_type": "stream",
     "text": [
      "OneHotCats:  88\n"
     ]
    }
   ],
   "source": [
    "cols_to_drop = set((17,26,42,53))\n",
    "cols_to_keep = list(set(range(encCat_full_train_data.shape[1]))-cols_to_drop)\n",
    "encCat_full_train_data = encCat_full_train_data[:, cols_to_keep]\n",
    "print(\"OneHotCats: \", encCat_full_train_data.shape[1])"
   ],
   "metadata": {
    "collapsed": false,
    "ExecuteTime": {
     "end_time": "2024-04-04T00:37:06.368950Z",
     "start_time": "2024-04-04T00:37:06.353740Z"
    },
    "pycharm": {
     "name": "#%%\n"
    }
   },
   "id": "fd836d1748c02cd6",
   "execution_count": 51
  },
  {
   "cell_type": "markdown",
   "source": [
    "After experimentation at later steps, I find that one-hot encoding results in poor performance. So, I perform label encoding next (using ordinal Encoder). I will use this data with tree-based methods, so I do not have to worry as much about mistaken ordinality."
   ],
   "metadata": {
    "collapsed": false,
    "pycharm": {
     "name": "#%% md\n"
    }
   }
  },
  {
   "cell_type": "code",
   "execution_count": 209,
   "outputs": [
    {
     "data": {
      "text/plain": "                               discharge_disposition_id  \\\n0                                    Discharged to home   \n1                                    Discharged to home   \n2                                    Discharged to home   \n3                                    Discharged to home   \n4                                    Discharged to home   \n...                                                 ...   \n7842                                 Discharged to home   \n7843                                 Discharged to home   \n7844                                 Discharged to home   \n7845  Discharged/transferred to home with home healt...   \n7846                      Discharged/transferred to SNF   \n\n                             admission_source_id payer_code medical_specialty  \\\n0                       Transfer from a hospital        NaN               NaN   \n1                       Transfer from a hospital        NaN               NaN   \n2                                 Emergency Room         SP  Emergency/Trauma   \n3                                 Emergency Room        NaN               NaN   \n4                             Physician Referral         MD   Surgery-General   \n...                                          ...        ...               ...   \n7842  Transfer from another health care facility         HM               NaN   \n7843                              Emergency Room         MC               NaN   \n7844                              Emergency Room         MC               NaN   \n7845                              Emergency Room        NaN               NaN   \n7846                              Emergency Room        NaN               NaN   \n\n     max_glu_serum metformin repaglinide glimepiride glipizide glyburide  \\\n0          No_test        No          No          No        No        No   \n1          No_test        No          No          No        No    Steady   \n2          No_test        No          No          No        No        No   \n3          No_test        No          No          No        No        No   \n4          No_test    Steady          No          No        No        No   \n...            ...       ...         ...         ...       ...       ...   \n7842       No_test        No          No          No        No        No   \n7843       No_test    Steady          No          No    Steady        No   \n7844       No_test        No          No          No        No        No   \n7845       No_test        No          No          No        No        No   \n7846       No_test        No          No          No        No        No   \n\n     pioglitazone rosiglitazone insulin change diabetesMed  \n0              No            No      No      0           1  \n1              No            No      No      0           1  \n2              No            No      No      0           0  \n3          Steady            No    Down      1           1  \n4              No            No      No      0           1  \n...           ...           ...     ...    ...         ...  \n7842           No            No    Down      1           1  \n7843           No            No      No      1           1  \n7844           No            No      Up      1           1  \n7845           No            No      No      0           0  \n7846           No            No  Steady      0           1  \n\n[7847 rows x 15 columns]",
      "text/html": "<div>\n<style scoped>\n    .dataframe tbody tr th:only-of-type {\n        vertical-align: middle;\n    }\n\n    .dataframe tbody tr th {\n        vertical-align: top;\n    }\n\n    .dataframe thead th {\n        text-align: right;\n    }\n</style>\n<table border=\"1\" class=\"dataframe\">\n  <thead>\n    <tr style=\"text-align: right;\">\n      <th></th>\n      <th>discharge_disposition_id</th>\n      <th>admission_source_id</th>\n      <th>payer_code</th>\n      <th>medical_specialty</th>\n      <th>max_glu_serum</th>\n      <th>metformin</th>\n      <th>repaglinide</th>\n      <th>glimepiride</th>\n      <th>glipizide</th>\n      <th>glyburide</th>\n      <th>pioglitazone</th>\n      <th>rosiglitazone</th>\n      <th>insulin</th>\n      <th>change</th>\n      <th>diabetesMed</th>\n    </tr>\n  </thead>\n  <tbody>\n    <tr>\n      <th>0</th>\n      <td>Discharged to home</td>\n      <td>Transfer from a hospital</td>\n      <td>NaN</td>\n      <td>NaN</td>\n      <td>No_test</td>\n      <td>No</td>\n      <td>No</td>\n      <td>No</td>\n      <td>No</td>\n      <td>No</td>\n      <td>No</td>\n      <td>No</td>\n      <td>No</td>\n      <td>0</td>\n      <td>1</td>\n    </tr>\n    <tr>\n      <th>1</th>\n      <td>Discharged to home</td>\n      <td>Transfer from a hospital</td>\n      <td>NaN</td>\n      <td>NaN</td>\n      <td>No_test</td>\n      <td>No</td>\n      <td>No</td>\n      <td>No</td>\n      <td>No</td>\n      <td>Steady</td>\n      <td>No</td>\n      <td>No</td>\n      <td>No</td>\n      <td>0</td>\n      <td>1</td>\n    </tr>\n    <tr>\n      <th>2</th>\n      <td>Discharged to home</td>\n      <td>Emergency Room</td>\n      <td>SP</td>\n      <td>Emergency/Trauma</td>\n      <td>No_test</td>\n      <td>No</td>\n      <td>No</td>\n      <td>No</td>\n      <td>No</td>\n      <td>No</td>\n      <td>No</td>\n      <td>No</td>\n      <td>No</td>\n      <td>0</td>\n      <td>0</td>\n    </tr>\n    <tr>\n      <th>3</th>\n      <td>Discharged to home</td>\n      <td>Emergency Room</td>\n      <td>NaN</td>\n      <td>NaN</td>\n      <td>No_test</td>\n      <td>No</td>\n      <td>No</td>\n      <td>No</td>\n      <td>No</td>\n      <td>No</td>\n      <td>Steady</td>\n      <td>No</td>\n      <td>Down</td>\n      <td>1</td>\n      <td>1</td>\n    </tr>\n    <tr>\n      <th>4</th>\n      <td>Discharged to home</td>\n      <td>Physician Referral</td>\n      <td>MD</td>\n      <td>Surgery-General</td>\n      <td>No_test</td>\n      <td>Steady</td>\n      <td>No</td>\n      <td>No</td>\n      <td>No</td>\n      <td>No</td>\n      <td>No</td>\n      <td>No</td>\n      <td>No</td>\n      <td>0</td>\n      <td>1</td>\n    </tr>\n    <tr>\n      <th>...</th>\n      <td>...</td>\n      <td>...</td>\n      <td>...</td>\n      <td>...</td>\n      <td>...</td>\n      <td>...</td>\n      <td>...</td>\n      <td>...</td>\n      <td>...</td>\n      <td>...</td>\n      <td>...</td>\n      <td>...</td>\n      <td>...</td>\n      <td>...</td>\n      <td>...</td>\n    </tr>\n    <tr>\n      <th>7842</th>\n      <td>Discharged to home</td>\n      <td>Transfer from another health care facility</td>\n      <td>HM</td>\n      <td>NaN</td>\n      <td>No_test</td>\n      <td>No</td>\n      <td>No</td>\n      <td>No</td>\n      <td>No</td>\n      <td>No</td>\n      <td>No</td>\n      <td>No</td>\n      <td>Down</td>\n      <td>1</td>\n      <td>1</td>\n    </tr>\n    <tr>\n      <th>7843</th>\n      <td>Discharged to home</td>\n      <td>Emergency Room</td>\n      <td>MC</td>\n      <td>NaN</td>\n      <td>No_test</td>\n      <td>Steady</td>\n      <td>No</td>\n      <td>No</td>\n      <td>Steady</td>\n      <td>No</td>\n      <td>No</td>\n      <td>No</td>\n      <td>No</td>\n      <td>1</td>\n      <td>1</td>\n    </tr>\n    <tr>\n      <th>7844</th>\n      <td>Discharged to home</td>\n      <td>Emergency Room</td>\n      <td>MC</td>\n      <td>NaN</td>\n      <td>No_test</td>\n      <td>No</td>\n      <td>No</td>\n      <td>No</td>\n      <td>No</td>\n      <td>No</td>\n      <td>No</td>\n      <td>No</td>\n      <td>Up</td>\n      <td>1</td>\n      <td>1</td>\n    </tr>\n    <tr>\n      <th>7845</th>\n      <td>Discharged/transferred to home with home healt...</td>\n      <td>Emergency Room</td>\n      <td>NaN</td>\n      <td>NaN</td>\n      <td>No_test</td>\n      <td>No</td>\n      <td>No</td>\n      <td>No</td>\n      <td>No</td>\n      <td>No</td>\n      <td>No</td>\n      <td>No</td>\n      <td>No</td>\n      <td>0</td>\n      <td>0</td>\n    </tr>\n    <tr>\n      <th>7846</th>\n      <td>Discharged/transferred to SNF</td>\n      <td>Emergency Room</td>\n      <td>NaN</td>\n      <td>NaN</td>\n      <td>No_test</td>\n      <td>No</td>\n      <td>No</td>\n      <td>No</td>\n      <td>No</td>\n      <td>No</td>\n      <td>No</td>\n      <td>No</td>\n      <td>Steady</td>\n      <td>0</td>\n      <td>1</td>\n    </tr>\n  </tbody>\n</table>\n<p>7847 rows × 15 columns</p>\n</div>"
     },
     "execution_count": 209,
     "metadata": {},
     "output_type": "execute_result"
    }
   ],
   "source": [
    "Cat_full_train_data"
   ],
   "metadata": {
    "collapsed": false,
    "pycharm": {
     "name": "#%%\n"
    }
   }
  },
  {
   "cell_type": "code",
   "execution_count": 223,
   "outputs": [
    {
     "data": {
      "text/plain": "array([[ 1.,  6., nan, ...,  1.,  0.,  1.],\n       [ 1.,  6., nan, ...,  1.,  0.,  1.],\n       [ 1.,  2., 12., ...,  1.,  0.,  0.],\n       ...,\n       [ 1.,  2.,  6., ...,  3.,  1.,  1.],\n       [ 9.,  2., nan, ...,  1.,  0.,  0.],\n       [ 3.,  2., nan, ...,  2.,  0.,  1.]])"
     },
     "execution_count": 223,
     "metadata": {},
     "output_type": "execute_result"
    }
   ],
   "source": [
    "ordinal_encoder = skl.preprocessing.OrdinalEncoder(handle_unknown='use_encoded_value',\n",
    "                                                   unknown_value=np.nan)\n",
    "ordinal_encoder.fit(Cat_full_train_data)\n",
    "lencCat_full_train_data = ordinal_encoder.transform(Cat_full_train_data)\n",
    "lencCat_full_train_data"
   ],
   "metadata": {
    "collapsed": false,
    "pycharm": {
     "name": "#%%\n"
    }
   }
  },
  {
   "cell_type": "code",
   "execution_count": 179,
   "outputs": [
    {
     "data": {
      "text/plain": "array(['discharge_disposition_id', 'admission_source_id', 'payer_code',\n       'medical_specialty', 'max_glu_serum', 'metformin', 'repaglinide',\n       'glimepiride', 'glipizide', 'glyburide', 'pioglitazone',\n       'rosiglitazone', 'insulin', 'change', 'diabetesMed'], dtype=object)"
     },
     "execution_count": 179,
     "metadata": {},
     "output_type": "execute_result"
    }
   ],
   "source": [
    "ordinal_encoder.get_feature_names_out()"
   ],
   "metadata": {
    "collapsed": false,
    "pycharm": {
     "name": "#%%\n"
    }
   }
  },
  {
   "cell_type": "code",
   "execution_count": 224,
   "outputs": [
    {
     "data": {
      "text/plain": "array([[ 1.,  6., nan, ...,  1.,  0.,  1.],\n       [ 1.,  6., nan, ...,  1.,  0.,  1.],\n       [ 1.,  2., 12., ...,  1.,  0.,  0.],\n       ...,\n       [ 1.,  2.,  6., ...,  3.,  1.,  1.],\n       [ 9.,  2., nan, ...,  1.,  0.,  0.],\n       [ 3.,  2., nan, ...,  2.,  0.,  1.]])"
     },
     "execution_count": 224,
     "metadata": {},
     "output_type": "execute_result"
    }
   ],
   "source": [
    "lencCat_full_train_data"
   ],
   "metadata": {
    "collapsed": false,
    "pycharm": {
     "name": "#%%\n"
    }
   }
  },
  {
   "cell_type": "markdown",
   "source": [
    "3. Pre-processed numerical data appropriately including handling missing data and\n",
    "justified methods used. Note this may be different for each algorithm you try. [10 pts]"
   ],
   "metadata": {
    "collapsed": false,
    "pycharm": {
     "name": "#%% md\n"
    }
   },
   "id": "b7ca172bbb4ce1ec"
  },
  {
   "cell_type": "markdown",
   "source": [
    "We already confirmed above that there are no NAs in our continuous data, so no need to impute."
   ],
   "metadata": {
    "collapsed": false,
    "pycharm": {
     "name": "#%% md\n"
    }
   },
   "id": "14cfe45f19c24fce"
  },
  {
   "cell_type": "markdown",
   "source": [
    "I choose to scale the numeric columns since all the model types I will implement work better with (or require) scaled data. I will also test each of my models with the unscaled numeric data and compare performance."
   ],
   "metadata": {
    "collapsed": false,
    "pycharm": {
     "name": "#%% md\n"
    }
   },
   "id": "dd4dbcf2cb147306"
  },
  {
   "cell_type": "code",
   "outputs": [],
   "source": [
    "scaler = skl.preprocessing.StandardScaler()\n",
    "#Create new df for scaled numeric data\n",
    "num_full_train_data = full_train_data[full_train_data.dtypes[full_train_data.dtypes == \"int64\"].index[0:6]].copy()\n",
    "\n",
    "scaledNum_full_train_data = scaler.fit_transform(num_full_train_data)"
   ],
   "metadata": {
    "collapsed": false,
    "pycharm": {
     "name": "#%%\n"
    },
    "ExecuteTime": {
     "end_time": "2024-04-04T00:37:06.645264Z",
     "start_time": "2024-04-04T00:37:06.630165Z"
    }
   },
   "id": "e61e88d828182f6f",
   "execution_count": 38
  },
  {
   "cell_type": "markdown",
   "source": [
    "While I'm at it, I also create a pairplot of my scaled numeric features for further EDA."
   ],
   "metadata": {
    "collapsed": false,
    "pycharm": {
     "name": "#%% md\n"
    }
   },
   "id": "48a4061cbdcedb39"
  },
  {
   "cell_type": "code",
   "execution_count": 39,
   "outputs": [
    {
     "data": {
      "text/plain": "<seaborn.axisgrid.PairGrid at 0x1994443e1c0>"
     },
     "execution_count": 39,
     "metadata": {},
     "output_type": "execute_result"
    },
    {
     "data": {
      "text/plain": "<Figure size 1080x1080 with 42 Axes>",
      "image/png": "[encoded data removed]"
     },
     "metadata": {},
     "output_type": "display_data"
    }
   ],
   "source": [
    "# I use a for loop to quickly transform all numeric columns in a format acceptable to seaborn.\n",
    "scaler2 = skl.preprocessing.StandardScaler()\n",
    "\n",
    "numeric_columns = list(full_train_data.dtypes[full_train_data.dtypes == \"int64\"].index)[0:6]\n",
    "\n",
    "scaledNum_full_train_data2 = full_train_data[full_train_data.dtypes[full_train_data.dtypes == \"int64\"].index[0:6]].copy()\n",
    "\n",
    "for column in numeric_columns:\n",
    "    transformed_column = scaler2.fit_transform(np.array(full_train_data[column]).reshape(-1,1))\n",
    "    scaledNum_full_train_data2[column] = transformed_column\n",
    "\n",
    "sns.pairplot(scaledNum_full_train_data2)"
   ],
   "metadata": {
    "collapsed": false,
    "pycharm": {
     "name": "#%%\n"
    },
    "ExecuteTime": {
     "end_time": "2024-04-04T00:37:14.847742Z",
     "start_time": "2024-04-04T00:37:06.669564Z"
    }
   },
   "id": "2090b5746228c29f"
  },
  {
   "cell_type": "markdown",
   "source": [
    "4. Implement a model to make predictions using text data using tf-idf [20 pts]"
   ],
   "metadata": {
    "collapsed": false,
    "pycharm": {
     "name": "#%% md\n"
    }
   },
   "id": "a26afb0df2f7ec5f"
  },
  {
   "cell_type": "markdown",
   "source": [
    "I start by vectorizing the ai_response data"
   ],
   "metadata": {
    "collapsed": false,
    "pycharm": {
     "name": "#%% md\n"
    }
   },
   "id": "32d2450805851600"
  },
  {
   "cell_type": "code",
   "outputs": [
    {
     "data": {
      "text/plain": "array(['01', '02', '03', ..., 'you', 'young', 'younger'], dtype=object)"
     },
     "execution_count": 40,
     "metadata": {},
     "output_type": "execute_result"
    }
   ],
   "source": [
    "vectorizer = skl.feature_extraction.text.TfidfVectorizer(strip_accents = 'unicode',\n",
    "                                                         norm = \"l1\")\n",
    "textVect_full_train_data = vectorizer.fit_transform(full_train_data[\"ai_response\"])\n",
    "vectorizer.get_feature_names_out()"
   ],
   "metadata": {
    "collapsed": false,
    "pycharm": {
     "name": "#%%\n"
    },
    "ExecuteTime": {
     "end_time": "2024-04-04T00:37:15.400685Z",
     "start_time": "2024-04-04T00:37:14.850447Z"
    }
   },
   "id": "48ef9f4d7317344f",
   "execution_count": 40
  },
  {
   "cell_type": "markdown",
   "source": [
    "I implement a test/train split."
   ],
   "metadata": {
    "collapsed": false,
    "pycharm": {
     "name": "#%% md\n"
    }
   },
   "id": "9589b3c067c3f68e"
  },
  {
   "cell_type": "code",
   "outputs": [],
   "source": [
    "text_X_train, text_X_test, text_y_train, text_y_test = train_test_split(\n",
    "    textVect_full_train_data.toarray(), \n",
    "    full_train_data_targetVector,\n",
    "    stratify=full_train_data_targetVector,\n",
    "    test_size=0.2,\n",
    "    random_state=42)"
   ],
   "metadata": {
    "collapsed": false,
    "ExecuteTime": {
     "end_time": "2024-04-04T00:37:15.515230Z",
     "start_time": "2024-04-04T00:37:15.402882Z"
    },
    "pycharm": {
     "name": "#%%\n"
    }
   },
   "id": "30a53e6eaeeabd29",
   "execution_count": 41
  },
  {
   "cell_type": "markdown",
   "source": [
    "I attempt classification with SVM. I choose SVMs because of their usefulness with high-dimensionality data. I also tested some RF & KNN models, but both models performed worse than SVMs. That code has been omitted from here for readability. Below is a gridsearch, the parameter lists of which are themselves the result of extensive parameter optimization."
   ],
   "metadata": {
    "collapsed": false,
    "pycharm": {
     "name": "#%% md\n"
    }
   },
   "id": "869fb7e4baa1cb88"
  },
  {
   "cell_type": "code",
   "outputs": [],
   "source": [
    "# start = datetime.datetime.now()\n",
    "# parameters = {'C': [0.01, 0.1, 0.2, 0.3, 1, 10],\n",
    "#               'degree': [1, 2, 3, 4],\n",
    "#               'gamma': ['scale', 0.1, 1, 5, 7, 8, 9, 10],\n",
    "#               'class_weight': [{1: 0.9}, None, {1: 1.1}, 'balanced']}\n",
    "# sv_clf = skl.svm.SVC(kernel = \"poly\")\n",
    "# gs_sv_clf = skl.model_selection.GridSearchCV(sv_clf,\n",
    "#                                              parameters,\n",
    "#                                              scoring=\"roc_auc\",\n",
    "#                                              n_jobs=-1\n",
    "#                                              )\n",
    "# \n",
    "# gs_sv_clf.fit(text_X_train, text_y_train)\n",
    "# \n",
    "# end = datetime.datetime.now()\n",
    "# time_elapsed = end - start\n",
    "# print(\"Time elapsed: \", time_elapsed)\n",
    "# \n",
    "# gs_sv_clf.best_estimator_"
   ],
   "metadata": {
    "collapsed": false,
    "ExecuteTime": {
     "end_time": "2024-04-04T00:37:15.525003Z",
     "start_time": "2024-04-04T00:37:15.518777Z"
    },
    "pycharm": {
     "name": "#%%\n"
    }
   },
   "id": "77bc1a089a304a75",
   "execution_count": 42
  },
  {
   "cell_type": "code",
   "outputs": [
    {
     "name": "stdout",
     "output_type": "stream",
     "text": [
      "Model accuracy:  0.5910828025477707\n",
      "Model F1:  0.0\n",
      "Model AUC:  0.5\n"
     ]
    }
   ],
   "source": [
    "sv_clf = skl.svm.SVC(C = 0.2,\n",
    "                     kernel=\"poly\",\n",
    "                     degree = 3,\n",
    "                     gamma = 10,\n",
    "                     class_weight = None\n",
    "                     )\n",
    "sv_clf.fit(text_X_train, text_y_train)\n",
    "svc_preds = sv_clf.predict(text_X_test)\n",
    "print(\"Model accuracy: \", skl.metrics.accuracy_score(text_y_test, svc_preds)) \n",
    "print(\"Model F1: \", skl.metrics.f1_score(text_y_test, svc_preds))\n",
    "print(\"Model AUC: \", skl.metrics.roc_auc_score(text_y_test, svc_preds)) #0.5673827"
   ],
   "metadata": {
    "collapsed": false,
    "ExecuteTime": {
     "end_time": "2024-04-04T00:38:05.380030Z",
     "start_time": "2024-04-04T00:37:15.527144Z"
    },
    "pycharm": {
     "name": "#%%\n"
    }
   },
   "id": "3f11d7689dfd292f",
   "execution_count": 43
  },
  {
   "cell_type": "markdown",
   "source": [
    "SVC achieves very limited performance. Next I try a simple NN model. It achieves even poorer performance."
   ],
   "metadata": {
    "collapsed": false,
    "pycharm": {
     "name": "#%% md\n"
    }
   },
   "id": "74190657a47bc756"
  },
  {
   "cell_type": "code",
   "outputs": [],
   "source": [
    "nn = Sequential()\n",
    "nn.add(Flatten())\n",
    "nn.add(Dense(1000, activation='relu'))\n",
    "nn.add(Dense(1, activation='sigmoid'))\n",
    "nn.compile(optimizer='adam', loss='binary_crossentropy', metrics=['AUC'])\n",
    "\n",
    "nn.fit(text_X_train, text_y_train)\n",
    "nn_probs=nn.predict(text_X_test)\n",
    "nn_preds=tf.greater(nn_probs, 0.5)\n",
    "\n",
    "print(\"NN Accuracy: \", skl.metrics.accuracy_score(text_y_test, nn_preds))\n",
    "print(\"NN F1: \", skl.metrics.f1_score(text_y_test, nn_preds))\n",
    "print(\"NN AUC: \", skl.metrics.roc_auc_score(text_y_test, nn_preds))"
   ],
   "metadata": {
    "collapsed": false,
    "ExecuteTime": {
     "end_time": "2024-04-04T00:38:09.171562Z",
     "start_time": "2024-04-04T00:38:05.382354Z"
    },
    "pycharm": {
     "name": "#%%\n"
    }
   },
   "id": "925a47b40ae71d9a",
   "execution_count": null
  },
  {
   "cell_type": "markdown",
   "source": [
    "For comparision, a simple untuned Naive Bayes achieves only somewhat worse performance than either of the models above."
   ],
   "metadata": {
    "collapsed": false,
    "pycharm": {
     "name": "#%% md\n"
    }
   },
   "id": "7513ac067292b0d8"
  },
  {
   "cell_type": "code",
   "outputs": [],
   "source": [
    "naive_bayes_classifier = MultinomialNB()\n",
    "naive_bayes_classifier.fit(text_X_train, text_y_train)\n",
    "\n",
    "#predicted y\n",
    "NB_pred = naive_bayes_classifier.predict(text_X_test)\n",
    "print(\"Naive Bayes Accuracy: \", skl.metrics.accuracy_score(text_y_test, NB_pred))\n",
    "print(\"Naive Bayes F1: \", skl.metrics.f1_score(text_y_test, NB_pred))\n",
    "print(\"Naive Bayes AUC: \", skl.metrics.roc_auc_score(text_y_test, NB_pred))"
   ],
   "metadata": {
    "collapsed": false,
    "ExecuteTime": {
     "end_time": "2024-04-04T00:38:09.223879Z",
     "start_time": "2024-04-04T00:38:09.173875Z"
    },
    "pycharm": {
     "name": "#%%\n"
    }
   },
   "id": "a6ad51cba604c909",
   "execution_count": null
  },
  {
   "cell_type": "markdown",
   "source": [
    "None of these models can achieve particularly good performance. None can achieve an accuracy greater than about 59% (and with very low F1 scores). Even our optimized SVM model can only achieve an AUC of 0.57. I select my optimized SVC as my final text classification model for stacking."
   ],
   "metadata": {
    "collapsed": false,
    "pycharm": {
     "name": "#%% md\n"
    }
   },
   "id": "b018c526092c2cc0"
  },
  {
   "cell_type": "markdown",
   "source": [
    "5. Use model stacking to incorporate tf-idf predictions for the text field\n",
    "(\"ai_response\") in the downstream algorithm [20 pts]"
   ],
   "metadata": {
    "collapsed": false,
    "pycharm": {
     "name": "#%% md\n"
    }
   },
   "id": "e6ceeb5497e17e6a"
  },
  {
   "cell_type": "markdown",
   "source": [
    "Below I construct a custom model stacking model. It will be applied as part of implementation of my final model."
   ],
   "metadata": {
    "collapsed": false,
    "pycharm": {
     "name": "#%% md\n"
    }
   },
   "id": "1b9ae63fc16fc2b5"
  },
  {
   "cell_type": "code",
   "outputs": [],
   "source": [
    "class custom_stacking_classifier:\n",
    "    \"\"\"\n",
    "    Custom stacking classifier for this dataset.\n",
    "    \n",
    "    Parameters\n",
    "    __________\n",
    "    categorical_classifier : fitted model object\n",
    "            Trained classifier model for categorical data\n",
    "    categorical_transformer : fitted OneHotEncoder object\n",
    "            Fitted encoder for categorical data\n",
    "    numeric_classifier : fitted model object\n",
    "            Trained classifier model for numeric data\n",
    "    numeric_transformer: fitted StandardScalar object\n",
    "            Fitted StandardScaler for numeric data\n",
    "    text_classifier : fitted model object\n",
    "            Trained classifier for text data\n",
    "    text_transformer : fitted TfidfVectorizer object\n",
    "            Fitted TfidfVectorizer for text data\n",
    "    final_classifier : fitted model object\n",
    "            Classifier for combined models' predictions (default is Logistic Regression).\n",
    "    \"\"\"\n",
    "    def __init__(self, categorical_classifier = None, categorical_transformer = None, numeric_classifier = None, numeric_transformer = None, text_classifier = None, text_transformer = None, final_classifier = skl.linear_model.LogisticRegression(), X_train = pd.core.frame.DataFrame):\n",
    "        self._categorical_classifier = categorical_classifier\n",
    "        self._categorical_transformer = categorical_transformer\n",
    "        self._numeric_classifier = numeric_classifier\n",
    "        self._numeric_transformer = numeric_transformer\n",
    "        self._text_classifier = text_classifier\n",
    "        self._text_transformer = text_transformer\n",
    "        self._final_classifier = final_classifier\n",
    "        self._X_train = X_train\n",
    "    \n",
    "    def preprocess_training(self, train_data: pd.core.frame.DataFrame):\n",
    "        \"\"\"\n",
    "        Preprocess the data.\n",
    "        \n",
    "        :train_data: diabetes data dataframe.\n",
    "        :return: preprocessed dataframe.\n",
    "        \"\"\"\n",
    "        # Adapted from all above\n",
    "        transformed_data = train_data.copy()\n",
    "        transformed_data.discharge_disposition_id = transformed_data.discharge_disposition_id.replace(\"Not Mapped\", np.nan)\n",
    "        transformed_data.drop(index=transformed_data[transformed_data['discharge_disposition_id'] == \"Expired\"].index, inplace=True)\n",
    "        transformed_data.set_index(np.arange(len(transformed_data)), inplace=True)\n",
    "        transformed_data.admission_source_id = transformed_data.admission_source_id.replace(\"Not Mapped\", np.nan)\n",
    "        #transformed_data.payer_code = transformed_data.payer_code.fillna(\"No_code\")\n",
    "        transformed_data.medical_specialty = transformed_data.medical_specialty.replace(\"PhysicianNotFound\", np.nan)\n",
    "        transformed_data.loc[~transformed_data[\"medical_specialty\"].isin((\"InternalMedicine\", \"Family/GeneralPractice\", \"Cardiology\",\"Emergency/Trauma\", \"Surgery-General\", \"Orthopedics-Reconstructive\", \"Nephrology\", \"Psychiatry\", \"Orthopedics\", \"ObstetricsandGynecology\")), \"medical_specialty\"] = np.nan\n",
    "        transformed_data.max_glu_serum = transformed_data.max_glu_serum.fillna(\"No_test\")\n",
    "\n",
    "        #Drop columns\n",
    "        transformed_data = transformed_data.drop([\"acetohexamide\",\n",
    "                                        \"troglitazone\",\n",
    "                                        \"examide\",\n",
    "                                        \"citoglipton\",\n",
    "                                        \"nateglinide\",\n",
    "                                        \"chlorpropamide\",\n",
    "                                        \"tolbutamide\",\n",
    "                                        \"acarbose\",\n",
    "                                        \"miglitol\",\n",
    "                                        \"tolazamide\",\n",
    "                                        \"glyburide.metformin\",\n",
    "                                        \"glipizide.metformin\",\n",
    "                                        \"glimepiride.pioglitazone\",\n",
    "                                        \"metformin.rosiglitazone\",\n",
    "                                        \"metformin.pioglitazone\",\n",
    "                                        \"2nd_diag\",\n",
    "                                        \"3rd_diag\"],\n",
    "                                       axis=1)\n",
    "        #transform binaries\n",
    "        transformed_data.change = transformed_data.change.replace(\"No\", 0)\n",
    "        transformed_data.change = transformed_data.change.replace(\"Ch\", 1)\n",
    "        transformed_data.change = transformed_data.change.astype(\"object\")\n",
    "        transformed_data.diabetesMed = transformed_data.diabetesMed.replace(\"Yes\", 1)\n",
    "        transformed_data.diabetesMed = transformed_data.diabetesMed.replace(\"No\", 0)\n",
    "        transformed_data.diabetesMed = transformed_data.diabetesMed.astype(\"object\")\n",
    "        #Create target vector\n",
    "        transformed_data.readmitted = transformed_data.readmitted.replace(True, 1)\n",
    "        transformed_data.readmitted = transformed_data.readmitted.replace(False, 0)\n",
    "        _full_train_data_targetVector = np.array(transformed_data.readmitted)\n",
    "        self._full_train_data_targetVector = _full_train_data_targetVector\n",
    "        # get categorical columns\n",
    "        _cat_full_train_data = transformed_data[transformed_data.dtypes[transformed_data.dtypes == \"object\"].index[0:15]]\n",
    "        self._cat_full_train_data = _cat_full_train_data\n",
    "        #OneHotEncoding categoricals\n",
    "        _encCat_full_train_data = self._categorical_classifier.transform(_cat_full_train_data)\n",
    "        _encCat_full_train_data = _encCat_full_train_data[:, list(set(range(_encCat_full_train_data.shape[1]))-set((17,26,42,53)))]\n",
    "        self._encCat_full_train_data = _encCat_full_train_data\n",
    "        #label encoding categoricals\n",
    "        _ordinal_encoder = skl.preprocessing.OrdinalEncoder()\n",
    "        _lencCat_full_train_data = _ordinal_encoder.fit_transform(_cat_full_train_data)\n",
    "        self._lencCat_full_train_data = _lencCat_full_train_data\n",
    "        #Scaling numeric\n",
    "        _scaledNum_full_train_data = self._numeric_transformer.transform(transformed_data[transformed_data.dtypes[transformed_data.dtypes == \"int64\"].index[0:6]])\n",
    "        self._scaledNum_full_train_data = _scaledNum_full_train_data\n",
    "        #encoding text\n",
    "        _textVect_full_train_data = self._text_transformer.transform(transformed_data[\"ai_response\"])\n",
    "        self._textVect_full_train_data = _textVect_full_train_data\n",
    "        return self._encCat_full_train_data, self._lencCat_full_train_data, self._scaledNum_full_train_data, self._textVect_full_train_data\n",
    "\n",
    "    def preprocess_testing(self, test_X: pd.core.frame.DataFrame):\n",
    "        \"\"\"\n",
    "        Preprocess the data.\n",
    "\n",
    "        :test_X: diabetes data dataframe.\n",
    "        :return: preprocessed dataframe.\n",
    "        \"\"\"\n",
    "        transformed_data = test_X.copy()\n",
    "        transformed_data.discharge_disposition_id = transformed_data.discharge_disposition_id.replace(\"Not Mapped\", np.nan)\n",
    "        transformed_data.drop(index=transformed_data[transformed_data['discharge_disposition_id'] == \"Expired\"].index, inplace=True)\n",
    "        transformed_data.set_index(np.arange(len(transformed_data)), inplace=True)\n",
    "        transformed_data.admission_source_id = transformed_data.admission_source_id.replace(\"Not Mapped\", np.nan)\n",
    "        #transformed_data.payer_code = transformed_data.payer_code.fillna(\"No_code\")\n",
    "        transformed_data.medical_specialty = transformed_data.medical_specialty.replace(\"PhysicianNotFound\", np.nan)\n",
    "        transformed_data.loc[~transformed_data[\"medical_specialty\"].isin((\"InternalMedicine\", \"Family/GeneralPractice\", \"Cardiology\",\"Emergency/Trauma\", \"Surgery-General\", \"Orthopedics-Reconstructive\", \"Nephrology\", \"Psychiatry\", \"Orthopedics\", \"ObstetricsandGynecology\")), \"medical_specialty\"] = np.nan\n",
    "        transformed_data.max_glu_serum = transformed_data.max_glu_serum.fillna(\"No_test\")\n",
    "        transformed_data = transformed_data.drop([\"acetohexamide\",\n",
    "                                                  \"troglitazone\",\n",
    "                                                  \"examide\",\n",
    "                                                  \"citoglipton\",\n",
    "                                                  \"nateglinide\",\n",
    "                                                  \"chlorpropamide\",\n",
    "                                                  \"tolbutamide\",\n",
    "                                                  \"acarbose\",\n",
    "                                                  \"miglitol\",\n",
    "                                                  \"tolazamide\",\n",
    "                                                  \"glyburide.metformin\",\n",
    "                                                  \"glipizide.metformin\",\n",
    "                                                  \"glimepiride.pioglitazone\",\n",
    "                                                  \"metformin.rosiglitazone\",\n",
    "                                                  \"metformin.pioglitazone\",\n",
    "                                                  \"2nd_diag\",\n",
    "                                                  \"3rd_diag\"],\n",
    "                                                 axis=1)\n",
    "        transformed_data.change = transformed_data.change.replace(\"No\", 0)\n",
    "        transformed_data.change = transformed_data.change.replace(\"Ch\", 1)\n",
    "        transformed_data.change = transformed_data.change.astype(\"object\")\n",
    "        transformed_data.diabetesMed = transformed_data.diabetesMed.replace(\"Yes\", 1)\n",
    "        transformed_data.diabetesMed = transformed_data.diabetesMed.replace(\"No\", 0)\n",
    "        transformed_data.diabetesMed = transformed_data.diabetesMed.astype(\"object\")\n",
    "        #OneHot encode categorical\n",
    "        _encCat_full_test_data = self._categorical_classifier.transform(transformed_data[transformed_data.dtypes[transformed_data.dtypes == \"object\"].index[0:15]])\n",
    "        _encCat_full_test_data = _encCat_full_test_data[:, list(set(range(_encCat_full_test_data.shape[1]))-set((17,26,42,53)))]\n",
    "        self._encCat_full_test_data = _encCat_full_test_data\n",
    "        #label encode categoricals\n",
    "        _ordinal_encoder = skl.preprocessing.OrdinalEncoder(handle_unknown='use_encoded_value',\n",
    "                                                            unknown_value=np.nan)\n",
    "        _lencCat_full_test_data = _ordinal_encoder.fit(self._cat_full_train_data)\n",
    "        _lencCat_full_test_data = _ordinal_encoder.transform(transformed_data[transformed_data.dtypes[transformed_data.dtypes == \"object\"].index[0:15]])\n",
    "        self._lencCat_full_test_data = _lencCat_full_test_data\n",
    "        #scale numeric data\n",
    "        _scaledNum_full_test_data = self._numeric_transformer.transform(transformed_data[transformed_data.dtypes[transformed_data.dtypes == \"int64\"].index[0:6]])\n",
    "        self._scaledNum_full_test_data = _scaledNum_full_test_data\n",
    "        #encode text data\n",
    "        _textVect_full_test_data = self._text_transformer.transform(transformed_data[\"ai_response\"])\n",
    "        self._textVect_full_test_data = _textVect_full_test_data\n",
    "        return self._encCat_full_test_data, self._lencCat_full_test_data, self._scaledNum_full_test_data, self._textVect_full_test_data\n",
    "\n",
    "def fit(self, X_train, X_test, y_train, y_test):\n",
    "        #_model_classifications = np.empty((0,3))\n",
    "        categorical_classifications = self.categorical_classifier.predict(X_train, y_train)\n",
    "        numeric_classifications = self.numeric_classifier.predict(X_train, y_train)\n",
    "        text_classifications = self.text_classifier.predict(X_train, y_train)\n",
    "        \n"
   ],
   "metadata": {
    "collapsed": false,
    "ExecuteTime": {
     "end_time": "2024-04-04T00:38:09.243871Z",
     "start_time": "2024-04-04T00:38:09.226012Z"
    },
    "pycharm": {
     "name": "#%%\n"
    }
   },
   "id": "eaf01214beb65fa3",
   "execution_count": 234
  },
  {
   "cell_type": "markdown",
   "source": [
    "6. Perform experimentation for multiple modeling algorithms and justify why you\n",
    "selected the experiments you chose [20 pts]"
   ],
   "metadata": {
    "collapsed": false,
    "pycharm": {
     "name": "#%% md\n"
    }
   },
   "id": "3cfebd359e05792c"
  },
  {
   "cell_type": "markdown",
   "source": [
    "First, I design & optimize a model for **categorical data** classification."
   ],
   "metadata": {
    "collapsed": false,
    "pycharm": {
     "name": "#%% md\n"
    }
   },
   "id": "4e0edb7403a9ece2"
  },
  {
   "cell_type": "markdown",
   "source": [
    "Test/train split"
   ],
   "metadata": {
    "collapsed": false,
    "pycharm": {
     "name": "#%% md\n"
    }
   },
   "id": "f7922bceea773a5a"
  },
  {
   "cell_type": "code",
   "outputs": [],
   "source": [
    "cat_X_train, cat_X_test, cat_y_train, cat_y_test = train_test_split(\n",
    "    encCat_full_train_data,\n",
    "    full_train_data_targetVector,\n",
    "    stratify=full_train_data_targetVector,\n",
    "    test_size=0.2,\n",
    "    random_state=42)"
   ],
   "metadata": {
    "collapsed": false,
    "ExecuteTime": {
     "end_time": "2024-04-04T00:38:09.277393Z",
     "start_time": "2024-04-04T00:38:09.265621Z"
    },
    "pycharm": {
     "name": "#%%\n"
    }
   },
   "id": "66b0c7a47f86ab29",
   "execution_count": null
  },
  {
   "cell_type": "markdown",
   "source": [
    "LogReg Model"
   ],
   "metadata": {
    "collapsed": false,
    "pycharm": {
     "name": "#%% md\n"
    }
   },
   "id": "7ee4d22c49e768dd"
  },
  {
   "cell_type": "code",
   "outputs": [],
   "source": [
    "start = datetime.datetime.now()\n",
    "parameters = {'penalty': ['l1', 'l2', 'elasticnet'],\n",
    "              'tol': [1e-5, 1e-4, 1e-3, 1e-2],\n",
    "              'C': [0.1, 0.9, 1, 1.1, 10, 100],\n",
    "              'class_weight': ['balanced', {1:0.8}, {1:0.9}, None, {1:1.1}],\n",
    "              'solver': ['linear', 'saga']}\n",
    "\n",
    "lrc = skl.linear_model.LogisticRegression(max_iter = 100000,\n",
    "                                          random_state = 42)\n",
    "\n",
    "gs_lrc = skl.model_selection.GridSearchCV(lrc,\n",
    "                                          parameters,\n",
    "                                          scoring=\"roc_auc\",\n",
    "                                          n_jobs=-1\n",
    "                                          )\n",
    "\n",
    "gs_lrc.fit(cat_X_train, cat_y_train)\n",
    "\n",
    "end = datetime.datetime.now()\n",
    "time_elapsed = end - start\n",
    "print(\"Time elapsed: \", time_elapsed)\n",
    "gs_lrc.best_estimator_"
   ],
   "metadata": {
    "collapsed": false,
    "ExecuteTime": {
     "end_time": "2024-04-03T23:52:22.282114Z",
     "start_time": "2024-04-03T23:45:03.131842Z"
    },
    "pycharm": {
     "name": "#%%\n"
    }
   },
   "id": "808b2b491fa79622",
   "execution_count": null
  },
  {
   "cell_type": "code",
   "outputs": [],
   "source": [
    "lrc = skl.linear_model.LogisticRegression(max_iter = 100000,\n",
    "                                          C=10,\n",
    "                                          class_weight={1:0.9},\n",
    "                                          penalty='l1',\n",
    "                                          solver='saga',\n",
    "                                          tol=0.01)\n",
    "\n",
    "lrc.fit(cat_X_train, cat_y_train)\n",
    "lrc_preds = lrc.predict(cat_X_test)\n",
    "print(\"LRM Accuracy: \", skl.metrics.accuracy_score(lrc_preds, cat_y_test))\n",
    "print(\"LRM F1: \", skl.metrics.f1_score(lrc_preds, cat_y_test))\n",
    "print(\"LRM AUC: \", skl.metrics.roc_auc_score(lrc_preds, cat_y_test))"
   ],
   "metadata": {
    "collapsed": false,
    "ExecuteTime": {
     "end_time": "2024-04-04T00:06:41.721106Z",
     "start_time": "2024-04-04T00:06:41.429333Z"
    },
    "pycharm": {
     "name": "#%%\n"
    }
   },
   "id": "f1d8c46ff7472c3d",
   "execution_count": null
  },
  {
   "cell_type": "markdown",
   "source": [
    "RF Model"
   ],
   "metadata": {
    "collapsed": false,
    "pycharm": {
     "name": "#%% md\n"
    }
   },
   "id": "74eba10048fcc977"
  },
  {
   "cell_type": "code",
   "outputs": [],
   "source": [
    "start = datetime.datetime.now()\n",
    "parameters = {'n_estimators': [100, 500, 1000],\n",
    "              'criterion': ['gini', 'entropy', 'log_loss'],\n",
    "              'max_features': ['sqrt', 'log2'],\n",
    "              'class_weight': ['balanced', {1:0.8}, {1:0.9}, None, {1:1.1}]}\n",
    "\n",
    "rfc = skl.ensemble.RandomForestClassifier(random_state = 42)\n",
    "\n",
    "gs_rfc = skl.model_selection.GridSearchCV(rfc,\n",
    "                                          parameters,\n",
    "                                          scoring=\"roc_auc\",\n",
    "                                          n_jobs=-1\n",
    "                                          )\n",
    "\n",
    "gs_rfc.fit(cat_X_train, cat_y_train)\n",
    "\n",
    "end = datetime.datetime.now()\n",
    "time_elapsed = end - start\n",
    "print(\"Time elapsed: \", time_elapsed)\n",
    "\n",
    "gs_rfc.best_estimator_"
   ],
   "metadata": {
    "collapsed": false,
    "ExecuteTime": {
     "end_time": "2024-04-04T00:20:21.860292Z",
     "start_time": "2024-04-04T00:07:36.313888Z"
    },
    "pycharm": {
     "name": "#%%\n"
    }
   },
   "id": "87958da7dd0b8d3a",
   "execution_count": null
  },
  {
   "cell_type": "code",
   "outputs": [],
   "source": [
    "rfc = skl.ensemble.RandomForestClassifier(n_estimators = 1000,\n",
    "                                          random_state = 42)\n",
    "rfc.fit(cat_X_train, cat_y_train)\n",
    "rfc_preds = rfc.predict(cat_X_test)\n",
    "print(\"LRM Accuracy: \", skl.metrics.accuracy_score(rfc_preds, cat_y_test))\n",
    "print(\"LRM F1: \", skl.metrics.f1_score(rfc_preds, cat_y_test))\n",
    "print(\"LRM AUC: \", skl.metrics.roc_auc_score(rfc_preds, cat_y_test))"
   ],
   "metadata": {
    "collapsed": false,
    "ExecuteTime": {
     "end_time": "2024-04-03T22:55:18.931675Z",
     "start_time": "2024-04-03T22:55:17.302424Z"
    },
    "pycharm": {
     "name": "#%%\n"
    }
   },
   "id": "421ddfdd0792608c",
   "execution_count": null
  },
  {
   "cell_type": "markdown",
   "source": [
    "XGBoost Model"
   ],
   "metadata": {
    "collapsed": false,
    "pycharm": {
     "name": "#%% md\n"
    }
   },
   "id": "e3a345614b169454"
  },
  {
   "cell_type": "code",
   "outputs": [],
   "source": [
    "cat_bst = XGBClassifier(booster = 'gbtree',\n",
    "                        n_estimators=6, \n",
    "                        max_depth=9,\n",
    "                        objective='binary:logistic')\n",
    "# fit model\n",
    "cat_bst.fit(cat_X_train, cat_y_train)\n",
    "# make predictions\n",
    "catBst_preds = cat_bst.predict(cat_X_test)\n",
    "print(\"LRM Accuracy: \", skl.metrics.accuracy_score(catBst_preds, cat_y_test))\n",
    "print(\"LRM F1: \", skl.metrics.f1_score(catBst_preds, cat_y_test))\n",
    "print(\"LRM AUC: \", skl.metrics.roc_auc_score(catBst_preds, cat_y_test))"
   ],
   "metadata": {
    "collapsed": false,
    "ExecuteTime": {
     "end_time": "2024-04-04T00:20:21.979640Z",
     "start_time": "2024-04-04T00:20:21.863034Z"
    },
    "pycharm": {
     "name": "#%%\n"
    }
   },
   "id": "9fc51c36d6b94aab",
   "execution_count": null
  },
  {
   "cell_type": "markdown",
   "source": [
    "Optuna with XGBoost."
   ],
   "metadata": {
    "collapsed": false,
    "pycharm": {
     "name": "#%% md\n"
    }
   },
   "id": "e756536d44915952"
  },
  {
   "cell_type": "markdown",
   "source": [
    "I try SVMs"
   ],
   "metadata": {
    "collapsed": false,
    "pycharm": {
     "name": "#%% md\n"
    }
   },
   "id": "b1f5f1d127ecbb4"
  },
  {
   "cell_type": "code",
   "outputs": [],
   "source": [
    "cat_svm = skl.svm.SVC()\n",
    "# fit model\n",
    "cat_svm.fit(cat_X_train, cat_y_train)\n",
    "# make predictions\n",
    "catSVM_preds = cat_svm.predict(cat_X_test)\n",
    "print(\"LRM Accuracy: \", skl.metrics.accuracy_score(catSVM_preds, cat_y_test))\n",
    "print(\"LRM F1: \", skl.metrics.f1_score(catSVM_preds, cat_y_test))\n",
    "print(\"LRM AUC: \", skl.metrics.roc_auc_score(catSVM_preds, cat_y_test))"
   ],
   "metadata": {
    "collapsed": false,
    "ExecuteTime": {
     "end_time": "2024-04-04T00:20:24.842641Z",
     "start_time": "2024-04-04T00:20:22.006395Z"
    },
    "pycharm": {
     "name": "#%%\n"
    }
   },
   "id": "b39f98c00488b6f6",
   "execution_count": null
  },
  {
   "cell_type": "markdown",
   "source": [
    "I try KNN"
   ],
   "metadata": {
    "collapsed": false,
    "pycharm": {
     "name": "#%% md\n"
    }
   },
   "id": "3da892fb341d8611"
  },
  {
   "cell_type": "code",
   "outputs": [],
   "source": [
    "knn = skl.neighbors.KNeighborsClassifier()\n",
    "knn.fit(cat_X_train, cat_y_train)\n",
    "knn_preds = knn.predict(cat_X_test)\n",
    "print(\"LRM Accuracy: \", skl.metrics.accuracy_score(knn_preds, cat_y_test))\n",
    "print(\"LRM F1: \", skl.metrics.f1_score(knn_preds, cat_y_test))\n",
    "print(\"LRM AUC: \", skl.metrics.roc_auc_score(knn_preds, cat_y_test))"
   ],
   "metadata": {
    "collapsed": false,
    "ExecuteTime": {
     "end_time": "2024-04-04T00:21:37.898525Z",
     "start_time": "2024-04-04T00:21:37.711190Z"
    },
    "pycharm": {
     "name": "#%%\n"
    }
   },
   "id": "4ae1949cb7cbe019",
   "execution_count": null
  },
  {
   "cell_type": "markdown",
   "source": [
    "Second, I design & optimize a model for **numeric data** classification"
   ],
   "metadata": {
    "collapsed": false,
    "pycharm": {
     "name": "#%% md\n"
    }
   },
   "id": "f8093fcd70786046"
  },
  {
   "cell_type": "markdown",
   "source": [
    "Test/train split"
   ],
   "metadata": {
    "collapsed": false,
    "pycharm": {
     "name": "#%% md\n"
    }
   },
   "id": "93f16f288b97cd0f"
  },
  {
   "cell_type": "code",
   "outputs": [],
   "source": [
    "num_X_train, num_X_test, num_y_train, num_y_test = train_test_split(\n",
    "    scaledNum_full_train_data,\n",
    "    full_train_data_targetVector,\n",
    "    stratify=full_train_data_targetVector,\n",
    "    test_size=0.2,\n",
    "    random_state=42)"
   ],
   "metadata": {
    "collapsed": false,
    "ExecuteTime": {
     "end_time": "2024-04-04T00:20:22.002503Z",
     "start_time": "2024-04-04T00:20:21.981916Z"
    },
    "pycharm": {
     "name": "#%%\n"
    }
   },
   "id": "a24939f97fb86473",
   "execution_count": null
  },
  {
   "cell_type": "code",
   "outputs": [],
   "source": [
    "num_svm = skl.svm.SVC()\n",
    "# fit model\n",
    "num_svm.fit(cat_X_train, cat_y_train)\n",
    "# make predictions\n",
    "numSVM_preds = num_svm.predict(cat_X_test)\n",
    "print(\"LRM Accuracy: \", skl.metrics.accuracy_score(numSVM_preds, cat_y_test))\n",
    "print(\"LRM F1: \", skl.metrics.f1_score(catSVM_preds, cat_y_test))\n",
    "print(\"LRM AUC: \", skl.metrics.roc_auc_score(numSVM_preds, cat_y_test))"
   ],
   "metadata": {
    "collapsed": false,
    "ExecuteTime": {
     "end_time": "2024-04-04T00:22:00.646160Z",
     "start_time": "2024-04-04T00:21:57.821444Z"
    },
    "pycharm": {
     "name": "#%%\n"
    }
   },
   "id": "b6a89fe658a4a23",
   "execution_count": null
  },
  {
   "cell_type": "code",
   "outputs": [],
   "source": [
    "num_bst = XGBClassifier(booster = 'gbtree',\n",
    "                        n_estimators=3,\n",
    "                        max_depth=3,\n",
    "                        objective='binary:logistic')\n",
    "# fit model\n",
    "num_bst.fit(num_X_train, num_y_train)\n",
    "# make predictions\n",
    "numBst_preds = num_bst.predict(num_X_test)\n",
    "print(\"LRM Accuracy: \", skl.metrics.accuracy_score(numBst_preds, num_y_test))\n",
    "print(\"LRM F1: \", skl.metrics.f1_score(numBst_preds, num_y_test))\n",
    "print(\"LRM AUC: \", skl.metrics.roc_auc_score(numBst_preds, num_y_test))"
   ],
   "metadata": {
    "collapsed": false,
    "ExecuteTime": {
     "end_time": "2024-04-04T00:24:18.853955Z",
     "start_time": "2024-04-04T00:24:18.833410Z"
    },
    "pycharm": {
     "name": "#%%\n"
    }
   },
   "id": "8ac4abf366d15ba1",
   "execution_count": null
  },
  {
   "cell_type": "code",
   "outputs": [],
   "source": [
    "##### Now we have 4 datasets & sub-models: #####\n",
    "# Categorical encoded: encCat_full_train_data\n",
    "# transformer: ohe\n",
    "# model: \n",
    "\n",
    "# diag_codes: diag_full_train_data\n",
    "# transformer: OMITTED\n",
    "# model: OMITTED\n",
    "\n",
    "# Numeric scaled: scaledNum_full_train_data\n",
    "# transformer: scaler\n",
    "# model: \n",
    "\n",
    "# text data: \n",
    "# data: textVect_full_train_data\n",
    "# transformer: vectorizer\n",
    "# model: sv_clf\n",
    "\n",
    "# target vector: \n",
    "# full_train_data_targetVector"
   ],
   "metadata": {
    "collapsed": false,
    "ExecuteTime": {
     "end_time": "2024-04-03T22:41:22.704566Z",
     "start_time": "2024-04-03T22:41:22.696702Z"
    },
    "pycharm": {
     "name": "#%%\n"
    }
   },
   "id": "e5e6df544ec7c4c1",
   "execution_count": null
  },
  {
   "cell_type": "markdown",
   "source": [
    "7. Final model selection and discussion of your model choice and the model weaknesses\n",
    "(generally, where model doesn’t perform well, etc.) [10 pts]"
   ],
   "metadata": {
    "collapsed": false,
    "pycharm": {
     "name": "#%% md\n"
    }
   },
   "id": "f62c39d7b40d7ac1"
  },
  {
   "cell_type": "code",
   "outputs": [],
   "source": [],
   "metadata": {
    "collapsed": false,
    "pycharm": {
     "name": "#%%\n"
    },
    "ExecuteTime": {
     "end_time": "2024-04-03T22:41:22.711863Z",
     "start_time": "2024-04-03T22:41:22.707772Z"
    }
   },
   "id": "5df1e27c507c597e",
   "execution_count": null
  },
  {
   "cell_type": "markdown",
   "source": [
    "# Part B: Model Performance (100 pts)"
   ],
   "metadata": {
    "collapsed": false,
    "pycharm": {
     "name": "#%% md\n"
    }
   },
   "id": "7ebe1732de251b8b"
  },
  {
   "cell_type": "markdown",
   "source": [
    "Achieve AUC >= .675"
   ],
   "metadata": {
    "collapsed": false,
    "pycharm": {
     "name": "#%% md\n"
    }
   },
   "id": "e6c048fd46211b5c"
  },
  {
   "cell_type": "code",
   "execution_count": 235,
   "outputs": [
    {
     "name": "stderr",
     "output_type": "stream",
     "text": [
      "C:\\Users\\rmcne\\AppData\\Local\\Temp\\ipykernel_27532\\3678818171.py:71: FutureWarning: Downcasting behavior in `replace` is deprecated and will be removed in a future version. To retain the old behavior, explicitly call `result.infer_objects(copy=False)`. To opt-in to the future behavior, set `pd.set_option('future.no_silent_downcasting', True)`\n",
      "  transformed_data.change = transformed_data.change.replace(\"Ch\", 1)\n",
      "C:\\Users\\rmcne\\AppData\\Local\\Temp\\ipykernel_27532\\3678818171.py:74: FutureWarning: Downcasting behavior in `replace` is deprecated and will be removed in a future version. To retain the old behavior, explicitly call `result.infer_objects(copy=False)`. To opt-in to the future behavior, set `pd.set_option('future.no_silent_downcasting', True)`\n",
      "  transformed_data.diabetesMed = transformed_data.diabetesMed.replace(\"No\", 0)\n",
      "C:\\Users\\rmcne\\AppData\\Local\\Temp\\ipykernel_27532\\3678818171.py:78: FutureWarning: Downcasting behavior in `replace` is deprecated and will be removed in a future version. To retain the old behavior, explicitly call `result.infer_objects(copy=False)`. To opt-in to the future behavior, set `pd.set_option('future.no_silent_downcasting', True)`\n",
      "  transformed_data.readmitted = transformed_data.readmitted.replace(False, 0)\n",
      "C:\\Users\\rmcne\\anaconda3\\lib\\site-packages\\sklearn\\preprocessing\\_encoders.py:241: UserWarning: Found unknown categories in columns [1] during transform. These unknown categories will be encoded as all zeros\n",
      "  warnings.warn(\n",
      "C:\\Users\\rmcne\\AppData\\Local\\Temp\\ipykernel_27532\\3678818171.py:135: FutureWarning: Downcasting behavior in `replace` is deprecated and will be removed in a future version. To retain the old behavior, explicitly call `result.infer_objects(copy=False)`. To opt-in to the future behavior, set `pd.set_option('future.no_silent_downcasting', True)`\n",
      "  transformed_data.change = transformed_data.change.replace(\"Ch\", 1)\n",
      "C:\\Users\\rmcne\\AppData\\Local\\Temp\\ipykernel_27532\\3678818171.py:138: FutureWarning: Downcasting behavior in `replace` is deprecated and will be removed in a future version. To retain the old behavior, explicitly call `result.infer_objects(copy=False)`. To opt-in to the future behavior, set `pd.set_option('future.no_silent_downcasting', True)`\n",
      "  transformed_data.diabetesMed = transformed_data.diabetesMed.replace(\"No\", 0)\n",
      "C:\\Users\\rmcne\\anaconda3\\lib\\site-packages\\sklearn\\preprocessing\\_encoders.py:241: UserWarning: Found unknown categories in columns [0, 1] during transform. These unknown categories will be encoded as all zeros\n",
      "  warnings.warn(\n"
     ]
    }
   ],
   "source": [
    "unprocessed_testing_data = pd.read_csv(\"2k_diabetes_test_no_label.csv\",\n",
    "                               na_values=\"?\")\n",
    "\n",
    "unprocessed_training_data = pd.read_csv(\"8k_diabetes_train.csv\",\n",
    "                                        na_values = \"?\")\n",
    "\n",
    "csc = custom_stacking_classifier(categorical_classifier = None,\n",
    "                                 categorical_transformer = ohe,\n",
    "                                 numeric_classifier = None,\n",
    "                                 numeric_transformer = scaler,\n",
    "                                 text_classifier = None,\n",
    "                                 text_transformer = vectorizer,\n",
    "                                 final_classifier = skl.linear_model.LogisticRegression(),\n",
    "                                 X_train= unprocessed_training_data)\n",
    "\n",
    "encCat_train, lencCat_train, scaledNum_train, textVect_train = csc.preprocess_training(train_data = unprocessed_training_data)\n",
    "\n",
    "encCat_test, lencCat_test, scaledNum_test, textVect_test = csc.preprocess_testing(test_X = unprocessed_testing_data)"
   ],
   "metadata": {
    "collapsed": false,
    "pycharm": {
     "name": "#%%\n"
    }
   }
  },
  {
   "cell_type": "code",
   "execution_count": 167,
   "outputs": [
    {
     "data": {
      "text/plain": "discharge_disposition_id\nDischarged to home                                                                                             4864\nDischarged/transferred to SNF                                                                                   954\nDischarged/transferred to home with home health service                                                         920\nDischarged/transferred to another short term hospital                                                           139\nDischarged/transferred to another rehab fac including rehab units of a hospital.                                134\nDischarged/transferred to another  type of inpatient care institution                                           130\nDischarged/transferred to ICF                                                                                    80\nDischarged/transferred to a long term care hospital.                                                             39\nLeft AMA                                                                                                         36\nHospice / home                                                                                                   28\nHospice / medical facility                                                                                       22\nDischarged/transferred to home under care of Home IV provider                                                    12\nDischarged/transferred/referred to a psychiatric hospital of a psychiatric distinct part unit of a hospital      11\nDischarged/transferred within this institution to Medicare approved swing bed                                     3\nAdmitted as an inpatient to this hospital                                                                         2\nDischarged/transferred/referred to this institution for outpatient services                                       1\nDischarged/transferred/referred another institution for outpatient services                                       1\nName: count, dtype: int64"
     },
     "execution_count": 167,
     "metadata": {},
     "output_type": "execute_result"
    }
   ],
   "source": [
    "full_train_data.discharge_disposition_id.value_counts()"
   ],
   "metadata": {
    "collapsed": false,
    "pycharm": {
     "name": "#%%\n"
    }
   }
  },
  {
   "cell_type": "code",
   "execution_count": 236,
   "outputs": [
    {
     "data": {
      "text/plain": "array([[ 1.,  7., nan, ...,  1.,  0.,  1.],\n       [ 1.,  7., nan, ...,  1.,  0.,  1.],\n       [ 1.,  2., 12., ...,  1.,  0.,  0.],\n       ...,\n       [ 1.,  2.,  6., ...,  3.,  1.,  1.],\n       [ 9.,  2., nan, ...,  1.,  0.,  0.],\n       [ 3.,  2., nan, ...,  2.,  0.,  1.]])"
     },
     "execution_count": 236,
     "metadata": {},
     "output_type": "execute_result"
    }
   ],
   "source": [
    "lencCat_train"
   ],
   "metadata": {
    "collapsed": false,
    "pycharm": {
     "name": "#%%\n"
    }
   }
  },
  {
   "cell_type": "code",
   "execution_count": 237,
   "outputs": [
    {
     "data": {
      "text/plain": "array([[ 9., nan,  6., ...,  2.,  0.,  1.],\n       [ 1., nan, nan, ...,  1.,  0.,  0.],\n       [ 4.,  5.,  6., ...,  0.,  1.,  1.],\n       ...,\n       [nan, nan, nan, ...,  2.,  1.,  1.],\n       [ 1.,  2., nan, ...,  2.,  0.,  1.],\n       [ 1.,  2.,  6., ...,  2.,  1.,  1.]])"
     },
     "execution_count": 237,
     "metadata": {},
     "output_type": "execute_result"
    }
   ],
   "source": [
    "lencCat_test"
   ],
   "metadata": {
    "collapsed": false,
    "pycharm": {
     "name": "#%%\n"
    }
   }
  },
  {
   "cell_type": "code",
   "execution_count": 136,
   "outputs": [
    {
     "data": {
      "text/plain": "      discharge_disposition_id  admission_source_id  payer_code  \\\n0                            1                    7          15   \n1                            1                    7          15   \n2                            1                    2          12   \n3                            1                    2          15   \n4                            1                    5           7   \n...                        ...                  ...         ...   \n7842                         1                    8           5   \n7843                         1                    2           6   \n7844                         1                    2           6   \n7845                         9                    2          15   \n7846                         3                    2          15   \n\n      medical_specialty  max_glu_serum  metformin  repaglinide  glimepiride  \\\n0                    10              2          1            1            1   \n1                    10              2          1            1            1   \n2                     1              2          1            1            1   \n3                    10              2          1            1            1   \n4                     9              2          2            1            1   \n...                 ...            ...        ...          ...          ...   \n7842                 10              2          1            1            1   \n7843                 10              2          2            1            1   \n7844                 10              2          1            1            1   \n7845                 10              2          1            1            1   \n7846                 10              2          1            1            1   \n\n      glipizide  glyburide  pioglitazone  rosiglitazone  insulin  change  \\\n0             1          1             1              1        1       0   \n1             1          2             1              1        1       0   \n2             1          1             1              1        1       0   \n3             1          1             2              1        0       1   \n4             1          1             1              1        1       0   \n...         ...        ...           ...            ...      ...     ...   \n7842          1          1             1              1        0       1   \n7843          2          1             1              1        1       1   \n7844          1          1             1              1        3       1   \n7845          1          1             1              1        1       0   \n7846          1          1             1              1        2       0   \n\n      diabetesMed  \n0               1  \n1               1  \n2               0  \n3               1  \n4               1  \n...           ...  \n7842            1  \n7843            1  \n7844            1  \n7845            0  \n7846            1  \n\n[7847 rows x 15 columns]",
      "text/html": "<div>\n<style scoped>\n    .dataframe tbody tr th:only-of-type {\n        vertical-align: middle;\n    }\n\n    .dataframe tbody tr th {\n        vertical-align: top;\n    }\n\n    .dataframe thead th {\n        text-align: right;\n    }\n</style>\n<table border=\"1\" class=\"dataframe\">\n  <thead>\n    <tr style=\"text-align: right;\">\n      <th></th>\n      <th>discharge_disposition_id</th>\n      <th>admission_source_id</th>\n      <th>payer_code</th>\n      <th>medical_specialty</th>\n      <th>max_glu_serum</th>\n      <th>metformin</th>\n      <th>repaglinide</th>\n      <th>glimepiride</th>\n      <th>glipizide</th>\n      <th>glyburide</th>\n      <th>pioglitazone</th>\n      <th>rosiglitazone</th>\n      <th>insulin</th>\n      <th>change</th>\n      <th>diabetesMed</th>\n    </tr>\n  </thead>\n  <tbody>\n    <tr>\n      <th>0</th>\n      <td>1</td>\n      <td>7</td>\n      <td>15</td>\n      <td>10</td>\n      <td>2</td>\n      <td>1</td>\n      <td>1</td>\n      <td>1</td>\n      <td>1</td>\n      <td>1</td>\n      <td>1</td>\n      <td>1</td>\n      <td>1</td>\n      <td>0</td>\n      <td>1</td>\n    </tr>\n    <tr>\n      <th>1</th>\n      <td>1</td>\n      <td>7</td>\n      <td>15</td>\n      <td>10</td>\n      <td>2</td>\n      <td>1</td>\n      <td>1</td>\n      <td>1</td>\n      <td>1</td>\n      <td>2</td>\n      <td>1</td>\n      <td>1</td>\n      <td>1</td>\n      <td>0</td>\n      <td>1</td>\n    </tr>\n    <tr>\n      <th>2</th>\n      <td>1</td>\n      <td>2</td>\n      <td>12</td>\n      <td>1</td>\n      <td>2</td>\n      <td>1</td>\n      <td>1</td>\n      <td>1</td>\n      <td>1</td>\n      <td>1</td>\n      <td>1</td>\n      <td>1</td>\n      <td>1</td>\n      <td>0</td>\n      <td>0</td>\n    </tr>\n    <tr>\n      <th>3</th>\n      <td>1</td>\n      <td>2</td>\n      <td>15</td>\n      <td>10</td>\n      <td>2</td>\n      <td>1</td>\n      <td>1</td>\n      <td>1</td>\n      <td>1</td>\n      <td>1</td>\n      <td>2</td>\n      <td>1</td>\n      <td>0</td>\n      <td>1</td>\n      <td>1</td>\n    </tr>\n    <tr>\n      <th>4</th>\n      <td>1</td>\n      <td>5</td>\n      <td>7</td>\n      <td>9</td>\n      <td>2</td>\n      <td>2</td>\n      <td>1</td>\n      <td>1</td>\n      <td>1</td>\n      <td>1</td>\n      <td>1</td>\n      <td>1</td>\n      <td>1</td>\n      <td>0</td>\n      <td>1</td>\n    </tr>\n    <tr>\n      <th>...</th>\n      <td>...</td>\n      <td>...</td>\n      <td>...</td>\n      <td>...</td>\n      <td>...</td>\n      <td>...</td>\n      <td>...</td>\n      <td>...</td>\n      <td>...</td>\n      <td>...</td>\n      <td>...</td>\n      <td>...</td>\n      <td>...</td>\n      <td>...</td>\n      <td>...</td>\n    </tr>\n    <tr>\n      <th>7842</th>\n      <td>1</td>\n      <td>8</td>\n      <td>5</td>\n      <td>10</td>\n      <td>2</td>\n      <td>1</td>\n      <td>1</td>\n      <td>1</td>\n      <td>1</td>\n      <td>1</td>\n      <td>1</td>\n      <td>1</td>\n      <td>0</td>\n      <td>1</td>\n      <td>1</td>\n    </tr>\n    <tr>\n      <th>7843</th>\n      <td>1</td>\n      <td>2</td>\n      <td>6</td>\n      <td>10</td>\n      <td>2</td>\n      <td>2</td>\n      <td>1</td>\n      <td>1</td>\n      <td>2</td>\n      <td>1</td>\n      <td>1</td>\n      <td>1</td>\n      <td>1</td>\n      <td>1</td>\n      <td>1</td>\n    </tr>\n    <tr>\n      <th>7844</th>\n      <td>1</td>\n      <td>2</td>\n      <td>6</td>\n      <td>10</td>\n      <td>2</td>\n      <td>1</td>\n      <td>1</td>\n      <td>1</td>\n      <td>1</td>\n      <td>1</td>\n      <td>1</td>\n      <td>1</td>\n      <td>3</td>\n      <td>1</td>\n      <td>1</td>\n    </tr>\n    <tr>\n      <th>7845</th>\n      <td>9</td>\n      <td>2</td>\n      <td>15</td>\n      <td>10</td>\n      <td>2</td>\n      <td>1</td>\n      <td>1</td>\n      <td>1</td>\n      <td>1</td>\n      <td>1</td>\n      <td>1</td>\n      <td>1</td>\n      <td>1</td>\n      <td>0</td>\n      <td>0</td>\n    </tr>\n    <tr>\n      <th>7846</th>\n      <td>3</td>\n      <td>2</td>\n      <td>15</td>\n      <td>10</td>\n      <td>2</td>\n      <td>1</td>\n      <td>1</td>\n      <td>1</td>\n      <td>1</td>\n      <td>1</td>\n      <td>1</td>\n      <td>1</td>\n      <td>2</td>\n      <td>0</td>\n      <td>1</td>\n    </tr>\n  </tbody>\n</table>\n<p>7847 rows × 15 columns</p>\n</div>"
     },
     "execution_count": 136,
     "metadata": {},
     "output_type": "execute_result"
    }
   ],
   "source": [
    "lencCat_test"
   ],
   "metadata": {
    "collapsed": false,
    "pycharm": {
     "name": "#%%\n"
    }
   }
  },
  {
   "cell_type": "code",
   "execution_count": null,
   "outputs": [],
   "source": [],
   "metadata": {
    "collapsed": false,
    "pycharm": {
     "name": "#%%\n"
    }
   }
  },
  {
   "cell_type": "code",
   "execution_count": null,
   "outputs": [],
   "source": [],
   "metadata": {
    "collapsed": false,
    "pycharm": {
     "name": "#%%\n"
    }
   }
  },
  {
   "cell_type": "code",
   "execution_count": null,
   "outputs": [],
   "source": [],
   "metadata": {
    "collapsed": false,
    "pycharm": {
     "name": "#%%\n"
    }
   }
  },
  {
   "cell_type": "code",
   "execution_count": null,
   "outputs": [],
   "source": [],
   "metadata": {
    "collapsed": false,
    "pycharm": {
     "name": "#%%\n"
    }
   }
  },
  {
   "cell_type": "code",
   "execution_count": null,
   "outputs": [],
   "source": [],
   "metadata": {
    "collapsed": false,
    "pycharm": {
     "name": "#%%\n"
    }
   }
  },
  {
   "cell_type": "code",
   "execution_count": null,
   "outputs": [],
   "source": [],
   "metadata": {
    "collapsed": false,
    "pycharm": {
     "name": "#%%\n"
    }
   }
  }
 ],
 "metadata": {
  "kernelspec": {
   "display_name": "Python 3",
   "language": "python",
   "name": "python3"
  },
  "language_info": {
   "codemirror_mode": {
    "name": "ipython",
    "version": 2
   },
   "file_extension": ".py",
   "mimetype": "text/x-python",
   "name": "python",
   "nbconvert_exporter": "python",
   "pygments_lexer": "ipython2",
   "version": "2.7.6"
  }
 },
 "nbformat": 4,
 "nbformat_minor": 5
}