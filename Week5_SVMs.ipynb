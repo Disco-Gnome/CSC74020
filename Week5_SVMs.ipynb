{
 "cells": [
  {
   "cell_type": "markdown",
   "metadata": {
    "id": "mJa4QtlVQfyy",
    "pycharm": {
     "name": "#%% md\n"
    }
   },
   "source": [
    "# CSc 74020 Machine Learning Week 5\n",
    "# (Linear) Support Vector Machines\n",
    "\n",
    "**Support Vector Machine** (SVM) used to be one of the most popular models in Machine Learning. It is capable of performing linear or nonlinear classification, regression, and even outlier detection (One-class SVM). This lecture will explain the core concepts of SVMs, how to use them, and how they work.\n",
    "\n",
    "Reading: Chapter 5, \"Hands-on machine learning with scikit-learn keras and tensorflow\"\n",
    "\n",
    "**Big thank you to Professor Liang Zhao for the material in this workbook**"
   ]
  },
  {
   "cell_type": "markdown",
   "metadata": {
    "id": "H1s62ZXOSN3t",
    "pycharm": {
     "name": "#%% md\n"
    }
   },
   "source": [
    "## Plotting Functions"
   ]
  },
  {
   "cell_type": "code",
   "execution_count": 1,
   "metadata": {
    "executionInfo": {
     "elapsed": 6,
     "status": "ok",
     "timestamp": 1695866110102,
     "user": {
      "displayName": "Joe Burdis",
      "userId": "05388749857082436046"
     },
     "user_tz": 240
    },
    "id": "KA57BYTGSPsy",
    "pycharm": {
     "name": "#%%\n"
    }
   },
   "outputs": [],
   "source": [
    "import numpy as np\n",
    "import matplotlib.pyplot as plt\n",
    "%matplotlib inline"
   ]
  },
  {
   "cell_type": "markdown",
   "metadata": {
    "id": "CWsrcUt2RQ3r",
    "pycharm": {
     "name": "#%% md\n"
    }
   },
   "source": [
    "## Task 1: Linear SVM with Hard Margin\n",
    "- Each data example has two features: $x_1$ and $x_2$. Using them as coordinates, they can be visualized as a data point on the coordinate plane.\n",
    "- Binary classification: target value $y = 1$ means that the instance belongs to a certain class (class 1); $y = -1$ means that the instance belongs to another class (class -1).\n",
    "- Classes are linearly separable: The two classes can clearly be separrated with a straight line.\n",
    "- The goal is to find a straight line that best separates the two classes perfectly (no mis-classification is allowed).\n",
    "- The best straight line that separates the two classes is the one with maximized distance from it to the nearest data point on each class."
   ]
  },
  {
   "cell_type": "markdown",
   "metadata": {
    "id": "XXIVn1a0RWGG",
    "pycharm": {
     "name": "#%% md\n"
    }
   },
   "source": [
    "<img src=\"https://github.com/ch00226855/CMP464-788-Spring2019/raw/master/Data/SVM1.png\">"
   ]
  },
  {
   "cell_type": "markdown",
   "metadata": {
    "id": "XFBNrGA1RkJI",
    "pycharm": {
     "name": "#%% md\n"
    }
   },
   "source": [
    "In the above graph, there are three lines (H1, H2, H3) that try to separate black dots from white dots.\n",
    "- H1 is clearly bad because it doesn't even separate the two classes properly.\n",
    "- H2 separates the two classes perfectly, but it is so close to the data points that it will probably not perform well on new instances.\n",
    "- H3 not only separates the two classes but also stays as far away from the closest training instances as possible. It is reasonable to believe that H3 will generalize well on new instances."
   ]
  },
  {
   "cell_type": "markdown",
   "metadata": {
    "id": "JLhJpLNBRuZ0",
    "pycharm": {
     "name": "#%% md\n"
    }
   },
   "source": [
    "<img src=\"https://github.com/ch00226855/CMP464-788-Spring2019/raw/master/Data/SVM2.jpeg\">"
   ]
  },
  {
   "cell_type": "markdown",
   "metadata": {
    "id": "rbAN4huOR2B-",
    "pycharm": {
     "name": "#%% md\n"
    }
   },
   "source": [
    "Notice that adding more training instances \"off the street\" will not affect the decision boundary at all: it is fully determined (or \"supported\") by the instances located on the edge of the street. These instances are called the **support vectors**.\n",
    "\n",
    "SVMs are sensitive to the feature scales, so proper feature scaling is necessary for obtaining a good decision boundary."
   ]
  },
  {
   "cell_type": "markdown",
   "metadata": {
    "id": "ryIjXDIWR8iM",
    "pycharm": {
     "name": "#%% md\n"
    }
   },
   "source": [
    "### Express an SVM model with three parallel lines\n",
    "\n",
    "We can use three lines to expression the above binary classifier:\n",
    "\n",
    "- $w_1x_1 + w_2x_2 + b = 0$ represents the line in the middle of the gap.\n",
    "- $w_1x_1 + w_2x_2 + b = 1$ represents the right boundary of the gap.\n",
    "- $w_1x_1 + w_2x_2 + b = -1$ represents the left boundary of the gap.\n",
    "\n",
    "The parameters of this model are $w_1(\\ge 0), w_2, b$. To avoid ambiguity, we choose $w_1$ to be non-negative. Here all three lines share the same slope w because they are parallel.\n",
    "\n",
    "- For any point $(x_1, x_2)$ on the right half plane divided by the central line, the expression $w_1x_1 + w_2x_2 + b$ is positive.\n",
    "- For any point $(x_1, x_2)$ on the left half plane, $w_1x_1 + w_2x_2 + b$ is negative.\n",
    "\n",
    "**Question**: How to compute the slope of these lines?\n"
   ]
  },
  {
   "cell_type": "code",
   "execution_count": 2,
   "metadata": {
    "colab": {
     "base_uri": "https://localhost:8080/",
     "height": 452
    },
    "executionInfo": {
     "elapsed": 764,
     "status": "ok",
     "timestamp": 1695866110862,
     "user": {
      "displayName": "Joe Burdis",
      "userId": "05388749857082436046"
     },
     "user_tz": 240
    },
    "id": "TrteV_vpSAPt",
    "outputId": "a095eebe-6226-4ff2-f92e-6d67ef3854c9",
    "pycharm": {
     "name": "#%%\n"
    }
   },
   "outputs": [
    {
     "data": {
      "text/plain": "<matplotlib.legend.Legend at 0x1ca5ca3ffd0>"
     },
     "execution_count": 2,
     "metadata": {},
     "output_type": "execute_result"
    },
    {
     "data": {
      "text/plain": "<Figure size 432x288 with 1 Axes>",
      "image/png": "[encoded data removed]"
     },
     "metadata": {
      "needs_background": "light"
     },
     "output_type": "display_data"
    }
   ],
   "source": [
    "# Suppose w1 = 1, w2 = 2, and b = -3, draw the above\n",
    "# three lines on a graph.\n",
    "\n",
    "# 1. plot the center line: x1 + 2x2 - 3 = 0.\n",
    "list_array = np.linspace(-3, 3, 100)\n",
    "y1 = list_array*(-1/2) + (3/2)\n",
    "plt.plot(list_array, y1, label = \"x1 + 2x2 - 3 = 0\")\n",
    "\n",
    "# 2. plot x1 + 2x2 - 3 = 1\n",
    "y2 = (4 - list_array) / 2\n",
    "plt.plot(list_array, y2,'--', label = \"x1 + 2x2 - 3 = 1\")\n",
    "\n",
    "# 3. plot plot x1 + 2x2 - 3 = -1\n",
    "y3= (2 - list_array)/2\n",
    "plt.plot(list_array, y3, '--', label=\"x1 + 2x2 - 3 = -1\")\n",
    "plt.xlim([-3, 3])\n",
    "plt.ylim([0, 5])\n",
    "plt.legend()"
   ]
  },
  {
   "cell_type": "markdown",
   "metadata": {
    "id": "u-mM6NMpSVAD",
    "pycharm": {
     "name": "#%% md\n"
    }
   },
   "source": [
    "### Decision function and predictions\n",
    "\n",
    "The linear SVM classifier model predicts the class of a new instance $(x_1, x_2)$ by simply computing the decision function $w_1x_1 + w_2x_2 + b$: if the result is positive, the predicted class is the class on the right, otherwise it is the class on the left.\n",
    "\n",
    "**Decision rule**\n",
    "\\begin{equation}\n",
    "\\hat{y}(prediction)  =\n",
    "\\left\\{\n",
    "\\begin{array}{cc}\n",
    " 1 & \\textit{if } w_1x_1 + w_2x_2 + b \\ge 0,\\\\\n",
    " -1 & \\textit{if } w_1x_1 + w_2x_2 + b < 0.\n",
    "\\end{array}\n",
    "\\right.\n",
    "\\end{equation}"
   ]
  },
  {
   "cell_type": "code",
   "execution_count": 3,
   "metadata": {
    "colab": {
     "base_uri": "https://localhost:8080/"
    },
    "executionInfo": {
     "elapsed": 515,
     "status": "ok",
     "timestamp": 1695866118389,
     "user": {
      "displayName": "Joe Burdis",
      "userId": "05388749857082436046"
     },
     "user_tz": 240
    },
    "id": "muKeSfPZSYo6",
    "outputId": "247fc020-6c33-4ce4-c0b9-dacb8a56350e",
    "pycharm": {
     "name": "#%%\n"
    }
   },
   "outputs": [
    {
     "name": "stdout",
     "output_type": "stream",
     "text": [
      "-1\n",
      "the model will classify point (0, 1) as class -1.\n",
      "Class is 1\n",
      "Class is 1\n"
     ]
    }
   ],
   "source": [
    "# Suppose w1 = 1, w2 = 2, and b = -3, decide the\n",
    "# class of:\n",
    "# 1) x_1 = 0, x_2 = 1;\n",
    "# 2) x_1 = 2, x_2 = 3;\n",
    "# 3) x_1 = 1, x_2 = 1.1.\n",
    "\n",
    "# 1. Apply the given model to classify the above points.\n",
    "# model: 1 * x1 + 2 * x2 - 3 = 0\n",
    "print(1 * 0 + 2 * 1 - 3)\n",
    "print('the model will classify point (0, 1) as class -1.')\n",
    "if 1 * 2 + 2*3- 3  >= 0:\n",
    "    print(\"Class is 1\")\n",
    "else :\n",
    "    print(\"Class is -1\")\n",
    "\n",
    "if 1* 1 + 2 * 1.1-3 >= 0:\n",
    "    print(\"Class is 1\")\n",
    "else :\n",
    "    print(\"Class is -1\")"
   ]
  },
  {
   "cell_type": "code",
   "execution_count": 4,
   "metadata": {
    "colab": {
     "base_uri": "https://localhost:8080/",
     "height": 452
    },
    "executionInfo": {
     "elapsed": 414,
     "status": "ok",
     "timestamp": 1695866119112,
     "user": {
      "displayName": "Joe Burdis",
      "userId": "05388749857082436046"
     },
     "user_tz": 240
    },
    "id": "TOaB4I5hmY8T",
    "outputId": "abd540a6-f91f-45a9-8cd4-729848f46760",
    "pycharm": {
     "name": "#%%\n"
    }
   },
   "outputs": [
    {
     "data": {
      "text/plain": "<matplotlib.legend.Legend at 0x1ca5d272730>"
     },
     "execution_count": 4,
     "metadata": {},
     "output_type": "execute_result"
    },
    {
     "data": {
      "text/plain": "<Figure size 432x288 with 1 Axes>",
      "image/png": "[encoded data removed]"
     },
     "metadata": {
      "needs_background": "light"
     },
     "output_type": "display_data"
    }
   ],
   "source": [
    "# 2. Plot the points together with three decision lines.\n",
    "# plot lines again\n",
    "\n",
    "plt.plot(list_array, y1, '-', label=\"x1 + 2x2 - 3 = 0\")\n",
    "plt.plot(list_array, y2, '-', label=\"x1 + 2x2 - 3 = 1\")\n",
    "plt.plot(list_array, y3, '-', label=\"x1 + 2x2 - 3 = -1\")\n",
    "plt.legend()\n",
    "\n",
    "# plot three points (0,1), (2,3), (1, 1.1)\n",
    "plt.plot(0, 1, 'bs', label=\"(0, 1)\")\n",
    "plt.plot(2, 3, 'g^', label=\"(2, 3)\")\n",
    "plt.plot(1, 1.1, 'mo', label=\"(1, 1.1)\")\n",
    "\n",
    "plt.xlim([-3, 3])\n",
    "plt.ylim([0, 5])\n",
    "plt.legend()"
   ]
  },
  {
   "cell_type": "markdown",
   "metadata": {
    "id": "-myPSjRIScDC",
    "pycharm": {
     "name": "#%% md\n"
    }
   },
   "source": [
    "### Training objective\n",
    "Let's explore how does the magnitude of parameters affect the margin."
   ]
  },
  {
   "cell_type": "code",
   "execution_count": 5,
   "metadata": {
    "colab": {
     "base_uri": "https://localhost:8080/",
     "height": 470
    },
    "executionInfo": {
     "elapsed": 420,
     "status": "ok",
     "timestamp": 1695866122802,
     "user": {
      "displayName": "Joe Burdis",
      "userId": "05388749857082436046"
     },
     "user_tz": 240
    },
    "id": "gxyudWwRSixh",
    "outputId": "61f3af77-3ce6-4c30-c192-8dd628897d95",
    "pycharm": {
     "name": "#%%\n"
    }
   },
   "outputs": [
    {
     "data": {
      "text/plain": "(0.0, 5.0)"
     },
     "execution_count": 5,
     "metadata": {},
     "output_type": "execute_result"
    },
    {
     "data": {
      "text/plain": "<Figure size 432x288 with 1 Axes>",
      "image/png": "[encoded data removed]"
     },
     "metadata": {
      "needs_background": "light"
     },
     "output_type": "display_data"
    }
   ],
   "source": [
    "# In the previous model, increase w1 from 1 to 2,\n",
    "# and plot the new decision margin.\n",
    "# lines are: 2 * x1 + 2 * x2 - 3 = (0, 1, -1)\n",
    "\n",
    "# plot 2 * x1 + 2 * x2 - 3 = 0\n",
    "# x2 = ( 3 - 2 * x1 ) / 2\n",
    "x = np.linspace(-3, 3, 100)\n",
    "y1 = (3 - 2*x)/2\n",
    "plt.plot(x,y1)\n",
    "y2 = (4 -2*x)/2\n",
    "plt.plot(x, y2, \"--\")\n",
    "y3 = (2 - 2*x)/2\n",
    "plt.plot(x, y3, \"--\")\n",
    "plt.title(r\"$2x_1 + 2x_2 - 3 = 0$\")\n",
    "plt.xlim([-3, 3])\n",
    "plt.ylim([0, 5])"
   ]
  },
  {
   "cell_type": "code",
   "execution_count": 6,
   "metadata": {
    "colab": {
     "base_uri": "https://localhost:8080/",
     "height": 470
    },
    "executionInfo": {
     "elapsed": 24,
     "status": "ok",
     "timestamp": 1695866122999,
     "user": {
      "displayName": "Joe Burdis",
      "userId": "05388749857082436046"
     },
     "user_tz": 240
    },
    "id": "N2Cf6C7iSlxU",
    "outputId": "352048ff-4d81-4ca7-a1c7-ba34f0df840d",
    "pycharm": {
     "name": "#%%\n"
    }
   },
   "outputs": [
    {
     "data": {
      "text/plain": "(0.0, 5.0)"
     },
     "execution_count": 6,
     "metadata": {},
     "output_type": "execute_result"
    },
    {
     "data": {
      "text/plain": "<Figure size 432x288 with 1 Axes>",
      "image/png": "[encoded data removed]"
     },
     "metadata": {
      "needs_background": "light"
     },
     "output_type": "display_data"
    }
   ],
   "source": [
    "# Decrease w2 from 2 to 1 from the original model,\n",
    "# and plot the new decision margin.\n",
    "\n",
    "# plot 1 * x1 + 1 * x2 - 3 = 0\n",
    "# x2 = 3 - x1\n",
    "x = np.linspace(-3, 3, 100)\n",
    "y1 = (3 - x)\n",
    "plt.plot(x,y1)\n",
    "y2 = (4 -x)\n",
    "plt.plot(x, y2, \"--\")\n",
    "y3 = (2 - x)\n",
    "plt.plot(x, y3, \"--\")\n",
    "plt.title(r\"$x_1 + x_2 - 3 = 0$\")\n",
    "plt.xlim([-3, 3])\n",
    "plt.ylim([0, 5])"
   ]
  },
  {
   "cell_type": "code",
   "execution_count": 7,
   "metadata": {
    "colab": {
     "base_uri": "https://localhost:8080/",
     "height": 470
    },
    "executionInfo": {
     "elapsed": 6,
     "status": "ok",
     "timestamp": 1695866123897,
     "user": {
      "displayName": "Joe Burdis",
      "userId": "05388749857082436046"
     },
     "user_tz": 240
    },
    "id": "0p-yO8X1SsJG",
    "outputId": "048ee75f-90a4-4a23-8c39-d22f32d590ad",
    "pycharm": {
     "name": "#%%\n"
    }
   },
   "outputs": [
    {
     "data": {
      "text/plain": "(0.0, 5.0)"
     },
     "execution_count": 7,
     "metadata": {},
     "output_type": "execute_result"
    },
    {
     "data": {
      "text/plain": "<Figure size 432x288 with 1 Axes>",
      "image/png": "[encoded data removed]"
     },
     "metadata": {
      "needs_background": "light"
     },
     "output_type": "display_data"
    }
   ],
   "source": [
    "# Change b from -3 to -2 from the original model,\n",
    "# and plot the new decision margin\n",
    "\n",
    "# plot 1 * x1 + 2 * x2 - 2 = 0\n",
    "# x2 = (2 - x1) / 2\n",
    "x = np.linspace(-3, 3, 100)\n",
    "y1 = (2 - x) / 2\n",
    "plt.plot(x,y1)\n",
    "y2 = (3 -x) / 2\n",
    "plt.plot(x, y2, \"--\")\n",
    "y3 = (1 - x) / 2\n",
    "plt.plot(x, y3, \"--\")\n",
    "plt.title(r\"$x_1 + 2x_2 - 2 = 0$\")\n",
    "plt.xlim([-3, 3])\n",
    "plt.ylim([0, 5])"
   ]
  },
  {
   "cell_type": "markdown",
   "metadata": {
    "id": "_eIsdCX0SsoE",
    "pycharm": {
     "name": "#%% md\n"
    }
   },
   "source": [
    "**How does each parameter affect the width of decision margin?**\n",
    "- smaller w_1 -> wider gap; larger w_1 -> narrower gap.\n",
    "- smaller w_2 -> wider gap; larger w_2 -> narrower gap.\n",
    "- b does not affect the width of the gap."
   ]
  },
  {
   "cell_type": "markdown",
   "metadata": {
    "id": "sDjKW0IPSvEa",
    "pycharm": {
     "name": "#%% md\n"
    }
   },
   "source": [
    "**(Hard margin) linear SVM classifier objective function**:\n",
    "\n",
    "\\begin{equation}\n",
    "\\begin{array}{cc}\n",
    "\\textit{minimize}_{w_1, w_2, b} & \\frac{1}{2}(w_1^2 + w_2^2)\\\\\n",
    "\\textit{subject to} & y^{(i)}(w_1x_1^{(i)} + w_2x_2^{(i)} + b) \\ge 1 \\textit{ for all } i=1,...,m.\n",
    "\\end{array}\n",
    "\\end{equation}\n",
    "\n",
    "- The factor 1/2 is used in the objective function only to make its partial derivatives simpler. (What are its partial derivatives?)\n",
    "- Constraints will make sure that all data points will be placed on the correct side of the gap (thus called hard margin).\n",
    "- If $y=1$, the model requires that $w_1x_1 + w_2x_2 + b \\ge 1$.\n",
    "- If $y=-1$, the model requires that $w_1x_1 + w_2x_2 + b \\le -1$.\n",
    "- The objective function has nice properties: 1) it can be computed efficiently, 2) its partial derivates are even simpler, 3) it is a convex function.\n",
    "- However, the existence of the linear constraints are annoying: gradient descent may violate some constraint during parameter update."
   ]
  },
  {
   "cell_type": "markdown",
   "metadata": {
    "id": "Ew56WS7-Sx_k",
    "pycharm": {
     "name": "#%% md\n"
    }
   },
   "source": [
    "<img src=\"https://github.com/ch00226855/CMP464-788-Spring2019/raw/master/Data/SVM3.png\">"
   ]
  },
  {
   "cell_type": "markdown",
   "metadata": {
    "id": "BhP8CGWfn5d5",
    "pycharm": {
     "name": "#%% md\n"
    }
   },
   "source": [
    "## Solve the Hard-Margin Cost Function\n",
    "The presence of the constraints makes it difficult to use gradient-based methods to minimize the cost function. We can introduce **Lagrange multiplier** to transform it to an equivalent optimization problem:\n",
    "\n",
    "$$\\min_{w_1, w_2, b, \\lambda_i}\\frac{1}{2}(w_1^2 + w_2^2) + \\sum_i\\lambda_i \\big[y^{(i)}(w_1x_1^{(i)} + w_2x_2^{(i)} + b) - 1\\big]$$\n",
    "$$\\textit{subject to    }\\lambda_i\\ge 0, i=1,...,m.$$\n",
    "\n",
    "- If for some $w_1, w_2, b$, there exists a data instance $(x^{(i)}, y^{(i)})$ that violates the constraint $y^{(i)}(w_1x_1^{(i)} + w_2x_2^{(i)} + b) \\ge 1$, then the value of the objective function can always gets smaller by increasing the corresponding $\\lambda_i$. In other words, the value of $w_1, w_2, b$ at the minimum point will satisfy all the original constraints.\n",
    "- The objective function is a convex function, so it has a unique local minimum point.\n",
    "- If there is no constraints, then the global minimum can be easily found by setting the derivates to zero.\n",
    "- For every data instance $(x^{(i)}, y^{(i)})$ that $y^{(i)}(w_1x_1^{(i)} + w_2x_2^{(i)} + b) > 1$, the corresponding $\\lambda_i$ must be zero to achieve the minimum.\n",
    "- A naive approach is to first guess which $\\lambda_i$'s are zero, then solve the problem and verify if the solution is admissible, and (if not) repeat. A better approach will be introduced in the next section.\n",
    "\n"
   ]
  },
  {
   "cell_type": "markdown",
   "metadata": {
    "id": "qMvT6lpwS4j-",
    "pycharm": {
     "name": "#%% md\n"
    }
   },
   "source": [
    "### Drawbacks of Hard Margin SVM\n",
    "If we strictly impose that all instances be off the street and on the correct side, the model can only be applied to models that are linearly separable. Moreover, it will be very sensitive to outliers. The above figure illustrates how badly one outlier may affect the model.\n",
    "\n",
    "To avoid these issues, it is preferable to use a more flexible model. The objective is to find a good balance between keeping the street as wide as possible and limiting the margin violations. This is called *soft margin classification*."
   ]
  },
  {
   "cell_type": "markdown",
   "metadata": {
    "id": "LM24AuHeS6yB",
    "pycharm": {
     "name": "#%% md\n"
    }
   },
   "source": [
    "## Task 2: Linear SVM with Soft Margin\n",
    "- Each data example has two features: $x_1$ and $x_2$.\n",
    "- Binary classification: target value $y = 1$ means that the instance belongs to \"class 1\", $y = -1$ means that the instance belongs to \"class -1\".\n",
    "- Classes are **mostly** linearly separable: **with a few exceptions**, the two classes can be separrated with a straight line.\n",
    "- The goal is to find a straight line that best separates the two classes. **Mis-classifications are allowed, but each mis-classification will add a cost to the model.**\n",
    "- The objective function takes into account both **the magnitude of w's (how wide the gap is) and the degree of margin violations**."
   ]
  },
  {
   "cell_type": "markdown",
   "metadata": {
    "id": "ZqBFg0vsTAG4",
    "pycharm": {
     "name": "#%% md\n"
    }
   },
   "source": [
    "<img src=\"https://github.com/ch00226855/CMP464-788-Spring2019/raw/master/Data/SVM4.jpg\" width=\"600\">"
   ]
  },
  {
   "cell_type": "code",
   "execution_count": 8,
   "metadata": {
    "executionInfo": {
     "elapsed": 411,
     "status": "ok",
     "timestamp": 1695866129755,
     "user": {
      "displayName": "Joe Burdis",
      "userId": "05388749857082436046"
     },
     "user_tz": 240
    },
    "id": "jfvBeg_OX0qA",
    "pycharm": {
     "name": "#%%\n"
    }
   },
   "outputs": [],
   "source": [
    "# # How does the penalty work?\n",
    "# # Assume that the decision boundary is given by w1=1, w2=2, b=3.\n",
    "# w1, w2, b = 1, 2, 3\n",
    "# x1s = np.linspace(-5, 5, 100)\n",
    "# # the decision boundary is given by w1 * x1 + w2 * x2 + b = 0\n",
    "# # THis means x2 = (-b - w1 * x1) / w2\n",
    "# x2s = (-b - w1 * x1s) / w2\n",
    "# plt.plot(x1s, x2s, 'b-')\n",
    "\n",
    "# # Assume that there is a point on the wrong side of the boundary\n",
    "# x1 = 2\n",
    "# x2 = 2\n",
    "# C = 100.0\n",
    "# print(\"Point:\", x1, x2)\n",
    "# print(\"C:\", C)\n",
    "# # what is the sign of w1*x1 + w2*x2 + b?\n",
    "# print(w1 * x1 + w2 * x2 + b)\n",
    "# # 13 --> positive --> this SVM will predict class 1\n",
    "# plt.plot(x1, x2, 'gs')\n",
    "# plt.xlim(-4, 4)\n",
    "# plt.ylim(-4, 4)\n",
    "# # Assume its actual class is -1.\n",
    "# y = -1\n",
    "# # Look at the penalty term : max (0, 1 - y * (w1*x1 + w2*x2 + b))\n",
    "# print(y * (w1*x1 + w2*x2 + b))\n",
    "# print('Penalty', C * np.max([0, 1 - y * (w1*x1 + w2*x2 + b)]))"
   ]
  },
  {
   "cell_type": "markdown",
   "metadata": {
    "id": "FtusetJ3TFDt",
    "pycharm": {
     "name": "#%% md\n"
    }
   },
   "source": [
    "### Model\n",
    "With parameters $w_1(\\ge 0)$, $w_2$, and $b$:\n",
    "- $w_1x_1 + w_2x_2 + b = 0$ represents the line in the middle of the gap.\n",
    "- $w_1x_1 + w_2x_2 + b = 1$ represents the right boundary of the gap.\n",
    "- $w_1x_1 + w_2x_2 + b = -1$ represents the left boundary of the gap.\n",
    "\n",
    "### Cost Function\n",
    "\n",
    "$J(w_1, w_2, b)$\n",
    "$= \\frac{1}{2}(w_1^2+w_2^2) + C\n",
    "\\sum_{i=1}^m\\max(0, 1-y^{(i)}(w_1x_1^{(i)}+w_2x_2^{(i)}+b))$\n",
    "\n",
    "- The first sum in the cost function will push the model to have small weights, leading to a larger margin.\n",
    "- The second sum computes the total of all margin violations. An instance's margin violation is equal to 0 if it is located off the street and on the correct side, or else it is proportional to the distance to the correct side of the street.\n",
    "- Minimizing this term ensures that the model makes the margin violations as small and as few as possible.\n",
    "\n",
    "### Hinge loss function\n",
    "The function $\\max(0, 1-t)$ used in the above cost function is called the *hinge loss* function.\n",
    "- It is equal to 0 when $t\\ge 1$.\n",
    "- Its derivative (slope) is equal to 0 if $t>1$.\n",
    "- Its derivative (slope) is equal to -1 if $t<1$.\n",
    "- It is a convex function."
   ]
  },
  {
   "cell_type": "code",
   "execution_count": 9,
   "metadata": {
    "colab": {
     "base_uri": "https://localhost:8080/",
     "height": 489
    },
    "executionInfo": {
     "elapsed": 256,
     "status": "ok",
     "timestamp": 1695866134926,
     "user": {
      "displayName": "Joe Burdis",
      "userId": "05388749857082436046"
     },
     "user_tz": 240
    },
    "id": "nwrtkrksTNSB",
    "outputId": "8749c091-08ee-4bea-d999-adb9c678ab3a",
    "pycharm": {
     "name": "#%%\n"
    }
   },
   "outputs": [
    {
     "data": {
      "text/plain": "Text(0.5, 1.0, 'Hinge Loss Function')"
     },
     "execution_count": 9,
     "metadata": {},
     "output_type": "execute_result"
    },
    {
     "data": {
      "text/plain": "<Figure size 432x288 with 1 Axes>",
      "image/png": "[encoded data removed]"
     },
     "metadata": {
      "needs_background": "light"
     },
     "output_type": "display_data"
    }
   ],
   "source": [
    "# plot the graph of the hinge loss function.\n",
    "t = np.linspace(-5, 5, 100)\n",
    "y = [np.max([0, 1-x]) for x in t]\n",
    "plt.plot(t, y, 'b-')\n",
    "plt.xlabel('t')\n",
    "plt.title(\"Hinge Loss Function\")"
   ]
  },
  {
   "cell_type": "markdown",
   "metadata": {
    "id": "b6sXP7usTgas",
    "pycharm": {
     "name": "#%% md\n"
    }
   },
   "source": [
    "### Advantages of Soft Margin SVM\n",
    "- The dataset does not have to be linearly separable.\n",
    "- Outliers does not affect the model too much.\n",
    "- The cost function is convex and it has no constraints, thus gradient descent can be applied to its minimization."
   ]
  },
  {
   "cell_type": "markdown",
   "metadata": {
    "id": "GxZdtPHUrkHQ",
    "pycharm": {
     "name": "#%% md\n"
    }
   },
   "source": [
    "## Relationship with Logistic Regression\n",
    "The hinge loss function used in soft margin SVM is actually very close to the log-likelihood function $\\log(1 + e^{-t})$ in logistic regression. Therefore, soft margin SVM can be considers as logistic regression with L2 regularization."
   ]
  },
  {
   "cell_type": "code",
   "execution_count": 10,
   "metadata": {
    "colab": {
     "base_uri": "https://localhost:8080/",
     "height": 447
    },
    "executionInfo": {
     "elapsed": 424,
     "status": "ok",
     "timestamp": 1695866137960,
     "user": {
      "displayName": "Joe Burdis",
      "userId": "05388749857082436046"
     },
     "user_tz": 240
    },
    "id": "55Kjiy48sIBK",
    "outputId": "10a16157-4c47-4531-ad40-b2e1cda9f6aa",
    "pycharm": {
     "name": "#%%\n"
    }
   },
   "outputs": [
    {
     "data": {
      "text/plain": "<matplotlib.legend.Legend at 0x1ca5d5278b0>"
     },
     "execution_count": 10,
     "metadata": {},
     "output_type": "execute_result"
    },
    {
     "data": {
      "text/plain": "<Figure size 432x288 with 1 Axes>",
      "image/png": "[encoded data removed]"
     },
     "metadata": {
      "needs_background": "light"
     },
     "output_type": "display_data"
    }
   ],
   "source": [
    "# Graph of y = log(1 + e^{-t})\n",
    "t = np.linspace(-5, 5, 100)\n",
    "y = [np.log(1 + np.exp(-x)) for x in t]\n",
    "plt.plot(t, y, 'b-', label='Log likelihood')\n",
    "y2 = [np.max([0, -x]) for x in t]\n",
    "plt.plot(t, y2, 'g--', label='Hinge loss')\n",
    "plt.legend()"
   ]
  },
  {
   "cell_type": "markdown",
   "metadata": {
    "id": "y4ECbPGNTipB",
    "pycharm": {
     "name": "#%% md\n"
    }
   },
   "source": [
    "## Task 3: Multi-variable Linear SVM with Soft Margin\n",
    "### Assumptions\n",
    "- Each data example has $n$ features: $\\textbf{x} = (X_1, X_2, ..., X_n)^T$.\n",
    "- Binary classification: target value $y = 1$ means that the instance belongs to \"class 1\", $y = -1$ means that the instance belongs to \"class -1\".\n",
    "- Classes are **mostly** linearly separable: **with a few exceptions**, the two classes can be separrated with a straight line.\n",
    "- The goal is to find a **hyperplane** that best separates the two classes. **Mis-classifications are allowed, but each mis-classification will add a cost to the model.**\n",
    "- The objective function takes into account both **the magnitude of w's (how wide the gap is) and the degree of margin violations**.\n",
    "\n",
    "### Model\n",
    "With parameters $\\textbf{w} = (w_1, w_2, ..., w_n)^T$  and $b$:\n",
    "- $\\textbf{w}^T\\cdot \\textbf{x} + b = 0$ represents the line in the middle of the gap.\n",
    "- $\\textbf{w}^T\\cdot \\textbf{x} + b = 1$ represents the one boundary of the gap.\n",
    "- $\\textbf{w}^T\\cdot \\textbf{x} + b = -1$ represents the another boundary of the gap.\n",
    "\n",
    "### Objective function\n",
    "\n",
    "$J(\\textbf{w}, b)$\n",
    "$= \\frac{1}{2}(\\textbf{w}^T\\cdot \\textbf{w}) + C\n",
    "\\sum_{i=1}^m\\max(0, 1-y^{(i)}(\\textbf{w}^T\\cdot \\textbf{x}^{(i)}+b))$\n",
    "\n",
    "- The first sum in the cost function will push the model to have small weights, leading to a larger margin.\n",
    "- The second sum computes the total of all margin violations. An instance's margin violation is equal to 0 if it is located off the street and on the correct side, or else it is proportional to the distance to the correct side of the street.\n",
    "- Minimizing this term ensures that the model makes the margin violations as small and as few as possible.\n",
    "\n",
    "### Decision rule\n",
    "The model will predict $y=1$ if $\\textbf{w}^T\\cdot\\textbf{x}+b > 0$; it will predict $y=-1$ if $\\textbf{w}^T\\cdot\\textbf{x}+b < 0$."
   ]
  },
  {
   "cell_type": "markdown",
   "metadata": {
    "id": "Q52RmpGPtr1Y",
    "pycharm": {
     "name": "#%% md\n"
    }
   },
   "source": [
    "## Tuning Linear SVM\n",
    "- Feature scaling: are all features distributed similarly?\n",
    "- $C$: how much does penalty matter?\n",
    "- Class weights: are all classes equally important?\n",
    "- Multiple classes: One vs. One, or One vs. Rest?"
   ]
  },
  {
   "cell_type": "markdown",
   "metadata": {
    "id": "ph0uwWBxVq1r",
    "pycharm": {
     "name": "#%% md\n"
    }
   },
   "source": [
    "## Linear SVM for Regression\n",
    "SVM can also be used to build a regressor.\n",
    "- (Linear) SVM regression aims to find a linear function $f(\\textbf{x})$ such that $f(\\textbf{x}^{(i)}) - y^{(i)}$ lies between 1 and -1..\n",
    "- How can we define a hard-margin SVM regressor?\n",
    "- How can we define a soft-margin SVM regressor?"
   ]
  },
  {
   "cell_type": "code",
   "execution_count": 10,
   "metadata": {
    "executionInfo": {
     "elapsed": 467,
     "status": "ok",
     "timestamp": 1695866140405,
     "user": {
      "displayName": "Joe Burdis",
      "userId": "05388749857082436046"
     },
     "user_tz": 240
    },
    "id": "e15dfGVWxF2x",
    "pycharm": {
     "name": "#%%\n"
    }
   },
   "outputs": [],
   "source": []
  }
 ],
 "metadata": {
  "colab": {
   "provenance": []
  },
  "kernelspec": {
   "display_name": "Python 3",
   "language": "python",
   "name": "python3"
  },
  "language_info": {
   "codemirror_mode": {
    "name": "ipython",
    "version": 3
   },
   "file_extension": ".py",
   "mimetype": "text/x-python",
   "name": "python",
   "nbconvert_exporter": "python",
   "pygments_lexer": "ipython3",
   "version": "3.7.6"
  }
 },
 "nbformat": 4,
 "nbformat_minor": 0
}