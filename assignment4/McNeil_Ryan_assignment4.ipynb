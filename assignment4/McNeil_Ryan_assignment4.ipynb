{
 "cells": [
  {
   "metadata": {},
   "cell_type": "markdown",
   "source": "Setup",
   "id": "6c28d9752168eff4"
  },
  {
   "cell_type": "code",
   "id": "initial_id",
   "metadata": {
    "collapsed": true,
    "ExecuteTime": {
     "end_time": "2024-05-10T13:14:44.102496Z",
     "start_time": "2024-05-10T13:14:37.702843Z"
    }
   },
   "source": [
    "#Import packages\n",
    "import numpy as np\n",
    "import pandas as pd\n",
    "import matplotlib.pyplot as plt\n",
    "import tensorflow as tf\n",
    "import sklearn\n",
    "from sklearn.decomposition import PCA\n",
    "from sklearn.metrics import r2_score\n",
    "import keras\n",
    "from keras import layers"
   ],
   "outputs": [],
   "execution_count": 1
  },
  {
   "metadata": {
    "ExecuteTime": {
     "end_time": "2024-05-10T13:14:44.263600Z",
     "start_time": "2024-05-10T13:14:44.103522Z"
    }
   },
   "cell_type": "code",
   "source": [
    "# Load and prepare the MNIST dataset.\n",
    "mnist = tf.keras.datasets.mnist\n",
    "(X_train, y_train), (X_test, y_test) = mnist.load_data()"
   ],
   "id": "7d3f02d03cece61e",
   "outputs": [],
   "execution_count": 2
  },
  {
   "metadata": {},
   "cell_type": "markdown",
   "source": [
    "# # Part A: PCA\n",
    "1. Perform Exploratory Data Analysis (EDA) on X_train and discuss the data and what\n",
    "you observe prior to beginning modeling (visualize the images) [10 pts]"
   ],
   "id": "e1747eed0e8e5736"
  },
  {
   "metadata": {
    "ExecuteTime": {
     "end_time": "2024-05-10T13:14:44.413768Z",
     "start_time": "2024-05-10T13:14:44.264600Z"
    }
   },
   "cell_type": "code",
   "source": [
    "print(\"Object type: \", type(X_train))\n",
    "print(\"Values type: \", type(X_train[0][0][0]))\n",
    "print(\"Dimensions: \", X_train.shape)\n",
    "print(\"Values  range: \", X_train.min(), \"-\", X_train.max())\n",
    "print(\"Missing values: \", sum(sum(sum(np.isnan(X_train)))))"
   ],
   "id": "5b08f025d57d566e",
   "outputs": [
    {
     "name": "stdout",
     "output_type": "stream",
     "text": [
      "Object type:  <class 'numpy.ndarray'>\n",
      "Values type:  <class 'numpy.uint8'>\n",
      "Dimensions:  (60000, 28, 28)\n",
      "Values  range:  0 - 255\n",
      "Missing values:  0\n"
     ]
    }
   ],
   "execution_count": 3
  },
  {
   "metadata": {},
   "cell_type": "markdown",
   "source": "We have a numpy array of 60000 28x28 pixel images. Each pixel is a grayscale integer value ranging from 0 to 255. There are no NA values.",
   "id": "4ad24af539bc040c"
  },
  {
   "metadata": {
    "ExecuteTime": {
     "end_time": "2024-05-10T13:14:44.612898Z",
     "start_time": "2024-05-10T13:14:44.414769Z"
    }
   },
   "cell_type": "code",
   "source": [
    "plt.imshow(X_train[0].reshape([28, 28]), \n",
    "           cmap=plt.cm.binary)"
   ],
   "id": "35c8b2565daece99",
   "outputs": [
    {
     "data": {
      "text/plain": [
       "<matplotlib.image.AxesImage at 0x2132f17e690>"
      ]
     },
     "execution_count": 4,
     "metadata": {},
     "output_type": "execute_result"
    },
    {
     "data": {
      "text/plain": [
       "<Figure size 640x480 with 1 Axes>"
      ],
      "image/png": "[encoded data removed]"
     },
     "metadata": {},
     "output_type": "display_data"
    }
   ],
   "execution_count": 4
  },
  {
   "metadata": {},
   "cell_type": "markdown",
   "source": "The first item in the set appears to be the hand-written number 5.",
   "id": "68312d4ab2cd54a8"
  },
  {
   "metadata": {},
   "cell_type": "markdown",
   "source": "2. Normalize the image data so the pixel values are between 0 and 1. [10 pts]",
   "id": "ab67932ed334c841"
  },
  {
   "metadata": {
    "ExecuteTime": {
     "end_time": "2024-05-10T13:14:44.752422Z",
     "start_time": "2024-05-10T13:14:44.613897Z"
    }
   },
   "cell_type": "code",
   "source": [
    "X_train_normalized = X_train.astype('float32') / 255\n",
    "X_test_normalized = X_test.astype('float32') / 255"
   ],
   "id": "a0cb14cb8c7fd156",
   "outputs": [],
   "execution_count": 5
  },
  {
   "metadata": {},
   "cell_type": "markdown",
   "source": [
    "3. Use PCA to reduce the 784 dimensions of the data to 32 dimensions using X_train [10\n",
    "pts]"
   ],
   "id": "dcfb6a4ce5363df3"
  },
  {
   "metadata": {
    "ExecuteTime": {
     "end_time": "2024-05-10T13:14:45.770099Z",
     "start_time": "2024-05-10T13:14:45.039601Z"
    }
   },
   "cell_type": "code",
   "source": [
    "# I start by flattening the data to 2 dim\n",
    "X_train_flat = X_train_normalized.reshape(X_train_normalized.shape[0], -1)\n",
    "X_test_flat = X_test_normalized.reshape(X_test_normalized.shape[0], -1)\n",
    "pca = PCA(n_components=32)\n",
    "# I fit my pca to the training data and transform both the training and testing data.\n",
    "X_train_reduced = pca.fit_transform(X_train_flat)\n",
    "X_test_reduced = pca.transform(X_test_flat)\n",
    "# The new shape is 60000 rows by 32 features.\n",
    "X_train_reduced.shape"
   ],
   "id": "9bd049a4a1975c81",
   "outputs": [
    {
     "data": {
      "text/plain": [
       "(60000, 32)"
      ]
     },
     "execution_count": 6,
     "metadata": {},
     "output_type": "execute_result"
    }
   ],
   "execution_count": 6
  },
  {
   "metadata": {},
   "cell_type": "markdown",
   "source": [
    "4. Transform X_train, discuss the original variance in X_train and how much variance is\n",
    "explained by the 32 components. Plot the variance explained as a function of the\n",
    "number of components used and explain why the shape of the plot is what it is (use\n",
    "what we know about PCA) [20 pts]"
   ],
   "id": "4d3d5384651cef6b"
  },
  {
   "metadata": {
    "ExecuteTime": {
     "end_time": "2024-05-10T13:14:46.465375Z",
     "start_time": "2024-05-10T13:14:46.315365Z"
    }
   },
   "cell_type": "code",
   "source": [
    "# X_train was transformed in the above.\n",
    "print(\"Original variance: \", np.var(X_train_flat))\n",
    "print(\"Reduced variance: \", np.var(X_train_reduced))\n",
    "#There appears to be more overall variance in the reduced data.\n",
    "pca.explained_variance_"
   ],
   "id": "621c8e671f1b055b",
   "outputs": [
    {
     "name": "stdout",
     "output_type": "stream",
     "text": [
      "Original variance:  0.09493039\n",
      "Reduced variance:  1.2252\n"
     ]
    },
    {
     "data": {
      "text/plain": [
       "array([5.1168704 , 3.7413929 , 3.2527106 , 2.8416286 , 2.5671167 ,\n",
       "       2.273666  , 1.7251536 , 1.5205615 , 1.4563065 , 1.2427502 ,\n",
       "       1.1120895 , 1.0666404 , 0.9046815 , 0.89218104, 0.83235335,\n",
       "       0.7819005 , 0.69838667, 0.673255  , 0.6259957 , 0.60776347,\n",
       "       0.56214577, 0.53079855, 0.5027788 , 0.48114628, 0.4657828 ,\n",
       "       0.44251123, 0.42842406, 0.41461805, 0.39251718, 0.3642502 ,\n",
       "       0.34694558, 0.34171227], dtype=float32)"
      ]
     },
     "execution_count": 7,
     "metadata": {},
     "output_type": "execute_result"
    }
   ],
   "execution_count": 7
  },
  {
   "metadata": {
    "ExecuteTime": {
     "end_time": "2024-05-10T13:14:47.380259Z",
     "start_time": "2024-05-10T13:14:47.274590Z"
    }
   },
   "cell_type": "code",
   "source": "plt.plot(pca.explained_variance_ratio_)",
   "id": "ccffc3663e3cf35a",
   "outputs": [
    {
     "data": {
      "text/plain": [
       "[<matplotlib.lines.Line2D at 0x2132f17c390>]"
      ]
     },
     "execution_count": 8,
     "metadata": {},
     "output_type": "execute_result"
    },
    {
     "data": {
      "text/plain": [
       "<Figure size 640x480 with 1 Axes>"
      ],
      "image/png": "[encoded data removed]"
     },
     "metadata": {},
     "output_type": "display_data"
    }
   ],
   "execution_count": 8
  },
  {
   "metadata": {},
   "cell_type": "markdown",
   "source": [
    "I use explained_variance_ratio_ instead of explained_variance_ only because I find it easier to intuit. The shape of the plot would be the same either way, just with different y-axis values.\n",
    "This plot shows:\n",
    "* No one of the reduced features explains more than 10% of the variance.\n",
    "* There is a sharp dropoff in our curve, implying the top 5 or 10 reduced features explain much more of the variance than the rest.\n",
    "* As we add more and more features, each one explains less and less of the remaining variance.\n",
    "\n",
    "Now, I'm not sure if you wanted us to actually plot the change in explained_variance_ across multiple PCAs of increasing length, so I also do that next."
   ],
   "id": "d6e4e343d8d5c147"
  },
  {
   "metadata": {
    "ExecuteTime": {
     "end_time": "2024-05-10T13:16:33.679739Z",
     "start_time": "2024-05-10T13:16:04.456020Z"
    }
   },
   "cell_type": "code",
   "source": [
    "# Calculate explained variance for different number of components\n",
    "explained_variance_ratio = []\n",
    "n_components_range = range(1, 51)\n",
    "\n",
    "for n in n_components_range:\n",
    "    pca_temp = PCA(n_components=n)\n",
    "    pca_temp.fit(X_train_flat)\n",
    "    explained_variance_ratio.append(np.sum(pca_temp.explained_variance_ratio_))\n",
    "\n",
    "# Plot explained variance as a function of number of components\n",
    "plt.figure(figsize=(10, 6))\n",
    "plt.plot(n_components_range, explained_variance_ratio, marker='')\n",
    "plt.title('Explained Variance Ratio vs. Number of Components')\n",
    "plt.xlabel('Number of Components')\n",
    "plt.ylabel('Explained Variance Ratio')\n",
    "plt.grid(True)\n",
    "plt.show()"
   ],
   "id": "1ff639b454b5c6bb",
   "outputs": [
    {
     "data": {
      "text/plain": [
       "<Figure size 1000x600 with 1 Axes>"
      ],
      "image/png": "[encoded data removed]"
     },
     "metadata": {},
     "output_type": "display_data"
    }
   ],
   "execution_count": 11
  },
  {
   "metadata": {},
   "cell_type": "markdown",
   "source": "This graph also suggests all the trends observed in our prior graph. It also demonstrates the way that PCA aims to capture as much as possible of the original variance, since as we increase the number of components in each PCA, the sums of explained_variance_ratio_s approach 1.",
   "id": "a9ac652f44841a68"
  },
  {
   "metadata": {},
   "cell_type": "markdown",
   "source": [
    "5. Using the transform fit on X_train, transform X_test and discuss the original variance\n",
    "in X_test and how much variance is explained on X_test by the 32 components. [20\n",
    "pts]"
   ],
   "id": "b96ebede421c558e"
  },
  {
   "metadata": {
    "ExecuteTime": {
     "end_time": "2024-05-10T13:40:09.416133Z",
     "start_time": "2024-05-10T13:40:09.126920Z"
    }
   },
   "cell_type": "code",
   "source": [
    "# X_test was transformed above\n",
    "print(\"Original train variance: \", sum(np.var(X_train_flat, axis=0)))\n",
    "print(\"Original test variance: \", sum(np.var(X_test_flat, axis=0)))\n",
    "print(\"Reduced train variance: \", sum(np.var(X_train_reduced, axis=0)))\n",
    "print(\"Reduced test variance: \", sum(np.var(X_test_reduced, axis=0)))\n",
    "# The variance in the original & reduced testing data appears to be very close to the variance in the corresponding training data.\n",
    "print(\"Explained variance ratio in training data: \", sum(pca.explained_variance_ratio_))\n",
    "\n",
    "#I calculate explained variance manually as the ratio of total variance in our transformed vs original datasets. Before using this method to obtain explained variance for the test data, I demonstrate its accuracy by also using it on the training set and comparing this value to the value given by sum(pca.explained_variance_ratio_).\n",
    "\n",
    "print(\"Explained variance ratio in training data: \", sum(np.var(X_train_reduced, axis=0)) / sum(np.var(X_train_flat, axis=0)))\n",
    "print(\"Explained variance ratio in testing data: \", sum(np.var(X_test_reduced, axis=0)) / sum(np.var(X_test_flat, axis=0)))"
   ],
   "id": "42aec79c9ff4ef8",
   "outputs": [
    {
     "name": "stdout",
     "output_type": "stream",
     "text": [
      "Original train variance:  52.724641654886454\n",
      "Original test variance:  52.84803419234049\n",
      "Reduced train variance:  39.20610225200653\n",
      "Reduced test variance:  39.65792864561081\n",
      "Explained variance ratio in training data:  0.7436008024960756\n",
      "Explained variance ratio in training data:  0.7436011136620586\n",
      "Explained variance ratio in testing data:  0.7504144525277084\n"
     ]
    }
   ],
   "execution_count": 23
  },
  {
   "metadata": {},
   "cell_type": "markdown",
   "source": [
    "The variance in both the original test data and the transformed test data appear to be very similar to the variance in the corresponding original & transformed *training* data sets. Manually dividing the summed variances gives a *very* similar value to that given by pca.explained_variance_ratio_, so it should also be accurate for calculating explained variance in the *test* data.\n",
    "\n",
    "Our PCA seems to explain about the same (just slightly *more*) variance in our testing data as in our training data. About 75%. This suggests that our PCA is effective at capturing variance in our test set as much as in our training set, and that it should be acceptable for further use."
   ],
   "id": "7ef33ab0170313f3"
  },
  {
   "metadata": {},
   "cell_type": "markdown",
   "source": [
    "6. Compare results from #4 and #5 [10 pts]\n",
    "Hint: See Workbook 11 from class."
   ],
   "id": "491dbe45b01ad642"
  },
  {
   "metadata": {},
   "cell_type": "markdown",
   "source": [
    "As discussed above, the results for questions 4 (explained variance in our training data) and 5 (explained variance in our testing data) appear to be very close. In other words, the variance explained by the 32 components of X_train_reduced on X_train and the variances explained by the 32 components of X_test_reduced on X_test are very similar. \n",
    "\n",
    "This speaks to the strength of our PCA model and PCA in general. Our PCA appears to be successfully capturing meaningful information (in the form of variance) from our features and retaining as much of that information as possible while reducing the number of features dramatically, and it is doing so in a way that generalizes to the testing data."
   ],
   "id": "8add91ddebf1e2ec"
  },
  {
   "metadata": {},
   "cell_type": "markdown",
   "source": [
    "# Part B: AutoEncoder\n",
    "1. Start with data after step #2 from Section A"
   ],
   "id": "a26f6f87b13222cd"
  },
  {
   "metadata": {
    "ExecuteTime": {
     "end_time": "2024-05-10T13:20:45.225180Z",
     "start_time": "2024-05-10T13:20:45.222829Z"
    }
   },
   "cell_type": "code",
   "source": [
    "# From step 2A we had our normalized X data. \n",
    "# X_test_normalized\n",
    "# X_train_normalized"
   ],
   "id": "5b92dad9aeb68551",
   "outputs": [],
   "execution_count": 14
  },
  {
   "metadata": {},
   "cell_type": "markdown",
   "source": "2. Build an autoencoder (either at least 1 hidden layer or using CNN) that will reduce the 784 dimensions of the data to 32 dimensions [20 pts]",
   "id": "747e80acd9d06c07"
  },
  {
   "metadata": {
    "ExecuteTime": {
     "end_time": "2024-05-10T15:48:03.122646Z",
     "start_time": "2024-05-10T15:48:03.098274Z"
    }
   },
   "cell_type": "code",
   "source": [
    "# All autoencoder code adapted from: https://blog.keras.io/building-autoencoders-in-keras.html\n",
    "\n",
    "# Input image\n",
    "input_img = keras.Input(shape=(28,28,1))\n",
    "\n",
    "### ENCODING ###\n",
    "# My first plan was to produce a model with a Conv2D and a MaxPooling layer since this is image data:\n",
    "# encoded = layers.Conv2D(32, kernel_size=3, \n",
    "#                        activation='relu')(input_img)\n",
    "# encoded = layers.MaxPooling2D(pool_size=(2, 2))(encoded)\n",
    "# encoded = layers.Flatten()(encoded)\n",
    "\n",
    "# HOWEVER, this will change the dimensions to (28x28x32) after convolution and (14,14,32) after pooling. I don't think either of these match up to the dimensions you request, flattening would produce a single massive dimension from these, and I'm not sure if Reshape will produce a correct encoding and do so effectively. So, I settled for using hidden layers.\n",
    "\n",
    "# Flatten, to reproduce our flat data\n",
    "encoded = layers.Flatten()(input_img)\n",
    "# I opt for 2 dense layers that eventually reduce the data down to a dim of 32\n",
    "encoded = layers.Dense(64, activation='relu')(encoded)\n",
    "encoded = layers.Dense(32, activation='relu')(encoded)\n",
    "\n",
    "### DECODING ###\n",
    "# I start by expanding (32,1) back out to (784,1)\n",
    "decoded = layers.Dense(784, activation='sigmoid')(encoded)\n",
    "# I then reshape to reproduce the shape of the input data\n",
    "decoded = layers.Reshape((28, 28))(decoded)\n",
    "\n",
    "# Autoencoder model that maps an input to its encoding\n",
    "autoencoder = keras.Model(input_img, decoded)\n",
    "\n",
    "autoencoder.compile(optimizer='adam', loss='binary_crossentropy')"
   ],
   "id": "1d6a83cdebbf4c27",
   "outputs": [],
   "execution_count": 104
  },
  {
   "metadata": {},
   "cell_type": "markdown",
   "source": "By encoding and then decoding the data, this model simply produces a reconstruction that can be used for assessing the power of the encoding/decoding method.",
   "id": "f317dd485082cfa4"
  },
  {
   "metadata": {},
   "cell_type": "markdown",
   "source": [
    "3. Train an autoencoder on X_train. Discuss the original variance in X_train and how\n",
    "much variance is explained by the 32 dimensions. Hint: Use “model.predict(X_train)”\n",
    "to get predictions [20 pts]"
   ],
   "id": "ee5233b20efca7ac"
  },
  {
   "metadata": {
    "ExecuteTime": {
     "end_time": "2024-05-10T15:50:57.020265Z",
     "start_time": "2024-05-10T15:49:03.046009Z"
    }
   },
   "cell_type": "code",
   "source": [
    "# Fitting my autoencoder\n",
    "autoencoder.fit(X_train_normalized, X_train_normalized,\n",
    "                epochs=50,\n",
    "                # This batch size will result in sampling about (256/784=) ~ 1/3 of the data per batch.\n",
    "                batch_size=32,\n",
    "                shuffle=True,\n",
    "                validation_data=(X_test_normalized, X_test_normalized))\n",
    "# Producing predictions (reconstructions) from the autoencoder\n",
    "X_train_reconstructed = autoencoder.predict(X_train_normalized)"
   ],
   "id": "11c66d3e876fc6db",
   "outputs": [
    {
     "name": "stdout",
     "output_type": "stream",
     "text": [
      "Epoch 1/50\n",
      "\u001B[1m1875/1875\u001B[0m \u001B[32m━━━━━━━━━━━━━━━━━━━━\u001B[0m\u001B[37m\u001B[0m \u001B[1m2s\u001B[0m 1ms/step - loss: 0.0922 - val_loss: 0.0901\n",
      "Epoch 2/50\n",
      "\u001B[1m1875/1875\u001B[0m \u001B[32m━━━━━━━━━━━━━━━━━━━━\u001B[0m\u001B[37m\u001B[0m \u001B[1m2s\u001B[0m 1ms/step - loss: 0.0912 - val_loss: 0.0898\n",
      "Epoch 3/50\n",
      "\u001B[1m1875/1875\u001B[0m \u001B[32m━━━━━━━━━━━━━━━━━━━━\u001B[0m\u001B[37m\u001B[0m \u001B[1m2s\u001B[0m 1ms/step - loss: 0.0911 - val_loss: 0.0899\n",
      "Epoch 4/50\n",
      "\u001B[1m1875/1875\u001B[0m \u001B[32m━━━━━━━━━━━━━━━━━━━━\u001B[0m\u001B[37m\u001B[0m \u001B[1m2s\u001B[0m 1ms/step - loss: 0.0908 - val_loss: 0.0899\n",
      "Epoch 5/50\n",
      "\u001B[1m1875/1875\u001B[0m \u001B[32m━━━━━━━━━━━━━━━━━━━━\u001B[0m\u001B[37m\u001B[0m \u001B[1m2s\u001B[0m 1ms/step - loss: 0.0905 - val_loss: 0.0897\n",
      "Epoch 6/50\n",
      "\u001B[1m1875/1875\u001B[0m \u001B[32m━━━━━━━━━━━━━━━━━━━━\u001B[0m\u001B[37m\u001B[0m \u001B[1m2s\u001B[0m 1ms/step - loss: 0.0905 - val_loss: 0.0895\n",
      "Epoch 7/50\n",
      "\u001B[1m1875/1875\u001B[0m \u001B[32m━━━━━━━━━━━━━━━━━━━━\u001B[0m\u001B[37m\u001B[0m \u001B[1m2s\u001B[0m 1ms/step - loss: 0.0906 - val_loss: 0.0894\n",
      "Epoch 8/50\n",
      "\u001B[1m1875/1875\u001B[0m \u001B[32m━━━━━━━━━━━━━━━━━━━━\u001B[0m\u001B[37m\u001B[0m \u001B[1m2s\u001B[0m 1ms/step - loss: 0.0907 - val_loss: 0.0898\n",
      "Epoch 9/50\n",
      "\u001B[1m1875/1875\u001B[0m \u001B[32m━━━━━━━━━━━━━━━━━━━━\u001B[0m\u001B[37m\u001B[0m \u001B[1m2s\u001B[0m 1ms/step - loss: 0.0905 - val_loss: 0.0895\n",
      "Epoch 10/50\n",
      "\u001B[1m1875/1875\u001B[0m \u001B[32m━━━━━━━━━━━━━━━━━━━━\u001B[0m\u001B[37m\u001B[0m \u001B[1m2s\u001B[0m 1ms/step - loss: 0.0904 - val_loss: 0.0893\n",
      "Epoch 11/50\n",
      "\u001B[1m1875/1875\u001B[0m \u001B[32m━━━━━━━━━━━━━━━━━━━━\u001B[0m\u001B[37m\u001B[0m \u001B[1m2s\u001B[0m 1ms/step - loss: 0.0904 - val_loss: 0.0894\n",
      "Epoch 12/50\n",
      "\u001B[1m1875/1875\u001B[0m \u001B[32m━━━━━━━━━━━━━━━━━━━━\u001B[0m\u001B[37m\u001B[0m \u001B[1m2s\u001B[0m 1ms/step - loss: 0.0903 - val_loss: 0.0892\n",
      "Epoch 13/50\n",
      "\u001B[1m1875/1875\u001B[0m \u001B[32m━━━━━━━━━━━━━━━━━━━━\u001B[0m\u001B[37m\u001B[0m \u001B[1m2s\u001B[0m 1ms/step - loss: 0.0903 - val_loss: 0.0892\n",
      "Epoch 14/50\n",
      "\u001B[1m1875/1875\u001B[0m \u001B[32m━━━━━━━━━━━━━━━━━━━━\u001B[0m\u001B[37m\u001B[0m \u001B[1m2s\u001B[0m 1ms/step - loss: 0.0903 - val_loss: 0.0892\n",
      "Epoch 15/50\n",
      "\u001B[1m1875/1875\u001B[0m \u001B[32m━━━━━━━━━━━━━━━━━━━━\u001B[0m\u001B[37m\u001B[0m \u001B[1m2s\u001B[0m 1ms/step - loss: 0.0901 - val_loss: 0.0893\n",
      "Epoch 16/50\n",
      "\u001B[1m1875/1875\u001B[0m \u001B[32m━━━━━━━━━━━━━━━━━━━━\u001B[0m\u001B[37m\u001B[0m \u001B[1m2s\u001B[0m 1ms/step - loss: 0.0901 - val_loss: 0.0892\n",
      "Epoch 17/50\n",
      "\u001B[1m1875/1875\u001B[0m \u001B[32m━━━━━━━━━━━━━━━━━━━━\u001B[0m\u001B[37m\u001B[0m \u001B[1m2s\u001B[0m 1ms/step - loss: 0.0901 - val_loss: 0.0891\n",
      "Epoch 18/50\n",
      "\u001B[1m1875/1875\u001B[0m \u001B[32m━━━━━━━━━━━━━━━━━━━━\u001B[0m\u001B[37m\u001B[0m \u001B[1m2s\u001B[0m 1ms/step - loss: 0.0900 - val_loss: 0.0891\n",
      "Epoch 19/50\n",
      "\u001B[1m1875/1875\u001B[0m \u001B[32m━━━━━━━━━━━━━━━━━━━━\u001B[0m\u001B[37m\u001B[0m \u001B[1m2s\u001B[0m 1ms/step - loss: 0.0900 - val_loss: 0.0891\n",
      "Epoch 20/50\n",
      "\u001B[1m1875/1875\u001B[0m \u001B[32m━━━━━━━━━━━━━━━━━━━━\u001B[0m\u001B[37m\u001B[0m \u001B[1m2s\u001B[0m 1ms/step - loss: 0.0899 - val_loss: 0.0889\n",
      "Epoch 21/50\n",
      "\u001B[1m1875/1875\u001B[0m \u001B[32m━━━━━━━━━━━━━━━━━━━━\u001B[0m\u001B[37m\u001B[0m \u001B[1m2s\u001B[0m 1ms/step - loss: 0.0899 - val_loss: 0.0890\n",
      "Epoch 22/50\n",
      "\u001B[1m1875/1875\u001B[0m \u001B[32m━━━━━━━━━━━━━━━━━━━━\u001B[0m\u001B[37m\u001B[0m \u001B[1m2s\u001B[0m 1ms/step - loss: 0.0900 - val_loss: 0.0889\n",
      "Epoch 23/50\n",
      "\u001B[1m1875/1875\u001B[0m \u001B[32m━━━━━━━━━━━━━━━━━━━━\u001B[0m\u001B[37m\u001B[0m \u001B[1m2s\u001B[0m 1ms/step - loss: 0.0899 - val_loss: 0.0888\n",
      "Epoch 24/50\n",
      "\u001B[1m1875/1875\u001B[0m \u001B[32m━━━━━━━━━━━━━━━━━━━━\u001B[0m\u001B[37m\u001B[0m \u001B[1m2s\u001B[0m 1ms/step - loss: 0.0896 - val_loss: 0.0888\n",
      "Epoch 25/50\n",
      "\u001B[1m1875/1875\u001B[0m \u001B[32m━━━━━━━━━━━━━━━━━━━━\u001B[0m\u001B[37m\u001B[0m \u001B[1m2s\u001B[0m 1ms/step - loss: 0.0897 - val_loss: 0.0889\n",
      "Epoch 26/50\n",
      "\u001B[1m1875/1875\u001B[0m \u001B[32m━━━━━━━━━━━━━━━━━━━━\u001B[0m\u001B[37m\u001B[0m \u001B[1m2s\u001B[0m 1ms/step - loss: 0.0897 - val_loss: 0.0888\n",
      "Epoch 27/50\n",
      "\u001B[1m1875/1875\u001B[0m \u001B[32m━━━━━━━━━━━━━━━━━━━━\u001B[0m\u001B[37m\u001B[0m \u001B[1m2s\u001B[0m 1ms/step - loss: 0.0896 - val_loss: 0.0887\n",
      "Epoch 28/50\n",
      "\u001B[1m1875/1875\u001B[0m \u001B[32m━━━━━━━━━━━━━━━━━━━━\u001B[0m\u001B[37m\u001B[0m \u001B[1m2s\u001B[0m 1ms/step - loss: 0.0897 - val_loss: 0.0890\n",
      "Epoch 29/50\n",
      "\u001B[1m1875/1875\u001B[0m \u001B[32m━━━━━━━━━━━━━━━━━━━━\u001B[0m\u001B[37m\u001B[0m \u001B[1m2s\u001B[0m 1ms/step - loss: 0.0895 - val_loss: 0.0886\n",
      "Epoch 30/50\n",
      "\u001B[1m1875/1875\u001B[0m \u001B[32m━━━━━━━━━━━━━━━━━━━━\u001B[0m\u001B[37m\u001B[0m \u001B[1m2s\u001B[0m 1ms/step - loss: 0.0895 - val_loss: 0.0886\n",
      "Epoch 31/50\n",
      "\u001B[1m1875/1875\u001B[0m \u001B[32m━━━━━━━━━━━━━━━━━━━━\u001B[0m\u001B[37m\u001B[0m \u001B[1m2s\u001B[0m 1ms/step - loss: 0.0894 - val_loss: 0.0887\n",
      "Epoch 32/50\n",
      "\u001B[1m1875/1875\u001B[0m \u001B[32m━━━━━━━━━━━━━━━━━━━━\u001B[0m\u001B[37m\u001B[0m \u001B[1m2s\u001B[0m 1ms/step - loss: 0.0895 - val_loss: 0.0883\n",
      "Epoch 33/50\n",
      "\u001B[1m1875/1875\u001B[0m \u001B[32m━━━━━━━━━━━━━━━━━━━━\u001B[0m\u001B[37m\u001B[0m \u001B[1m2s\u001B[0m 1ms/step - loss: 0.0894 - val_loss: 0.0884\n",
      "Epoch 34/50\n",
      "\u001B[1m1875/1875\u001B[0m \u001B[32m━━━━━━━━━━━━━━━━━━━━\u001B[0m\u001B[37m\u001B[0m \u001B[1m2s\u001B[0m 1ms/step - loss: 0.0894 - val_loss: 0.0885\n",
      "Epoch 35/50\n",
      "\u001B[1m1875/1875\u001B[0m \u001B[32m━━━━━━━━━━━━━━━━━━━━\u001B[0m\u001B[37m\u001B[0m \u001B[1m2s\u001B[0m 1ms/step - loss: 0.0893 - val_loss: 0.0882\n",
      "Epoch 36/50\n",
      "\u001B[1m1875/1875\u001B[0m \u001B[32m━━━━━━━━━━━━━━━━━━━━\u001B[0m\u001B[37m\u001B[0m \u001B[1m2s\u001B[0m 1ms/step - loss: 0.0892 - val_loss: 0.0884\n",
      "Epoch 37/50\n",
      "\u001B[1m1875/1875\u001B[0m \u001B[32m━━━━━━━━━━━━━━━━━━━━\u001B[0m\u001B[37m\u001B[0m \u001B[1m2s\u001B[0m 1ms/step - loss: 0.0892 - val_loss: 0.0881\n",
      "Epoch 38/50\n",
      "\u001B[1m1875/1875\u001B[0m \u001B[32m━━━━━━━━━━━━━━━━━━━━\u001B[0m\u001B[37m\u001B[0m \u001B[1m2s\u001B[0m 1ms/step - loss: 0.0892 - val_loss: 0.0880\n",
      "Epoch 39/50\n",
      "\u001B[1m1875/1875\u001B[0m \u001B[32m━━━━━━━━━━━━━━━━━━━━\u001B[0m\u001B[37m\u001B[0m \u001B[1m2s\u001B[0m 1ms/step - loss: 0.0891 - val_loss: 0.0882\n",
      "Epoch 40/50\n",
      "\u001B[1m1875/1875\u001B[0m \u001B[32m━━━━━━━━━━━━━━━━━━━━\u001B[0m\u001B[37m\u001B[0m \u001B[1m2s\u001B[0m 1ms/step - loss: 0.0890 - val_loss: 0.0882\n",
      "Epoch 41/50\n",
      "\u001B[1m1875/1875\u001B[0m \u001B[32m━━━━━━━━━━━━━━━━━━━━\u001B[0m\u001B[37m\u001B[0m \u001B[1m2s\u001B[0m 1ms/step - loss: 0.0890 - val_loss: 0.0884\n",
      "Epoch 42/50\n",
      "\u001B[1m1875/1875\u001B[0m \u001B[32m━━━━━━━━━━━━━━━━━━━━\u001B[0m\u001B[37m\u001B[0m \u001B[1m2s\u001B[0m 1ms/step - loss: 0.0890 - val_loss: 0.0881\n",
      "Epoch 43/50\n",
      "\u001B[1m1875/1875\u001B[0m \u001B[32m━━━━━━━━━━━━━━━━━━━━\u001B[0m\u001B[37m\u001B[0m \u001B[1m2s\u001B[0m 1ms/step - loss: 0.0889 - val_loss: 0.0881\n",
      "Epoch 44/50\n",
      "\u001B[1m1875/1875\u001B[0m \u001B[32m━━━━━━━━━━━━━━━━━━━━\u001B[0m\u001B[37m\u001B[0m \u001B[1m2s\u001B[0m 1ms/step - loss: 0.0889 - val_loss: 0.0879\n",
      "Epoch 45/50\n",
      "\u001B[1m1875/1875\u001B[0m \u001B[32m━━━━━━━━━━━━━━━━━━━━\u001B[0m\u001B[37m\u001B[0m \u001B[1m2s\u001B[0m 1ms/step - loss: 0.0890 - val_loss: 0.0880\n",
      "Epoch 46/50\n",
      "\u001B[1m1875/1875\u001B[0m \u001B[32m━━━━━━━━━━━━━━━━━━━━\u001B[0m\u001B[37m\u001B[0m \u001B[1m2s\u001B[0m 1ms/step - loss: 0.0886 - val_loss: 0.0878\n",
      "Epoch 47/50\n",
      "\u001B[1m1875/1875\u001B[0m \u001B[32m━━━━━━━━━━━━━━━━━━━━\u001B[0m\u001B[37m\u001B[0m \u001B[1m2s\u001B[0m 1ms/step - loss: 0.0887 - val_loss: 0.0878\n",
      "Epoch 48/50\n",
      "\u001B[1m1875/1875\u001B[0m \u001B[32m━━━━━━━━━━━━━━━━━━━━\u001B[0m\u001B[37m\u001B[0m \u001B[1m2s\u001B[0m 1ms/step - loss: 0.0887 - val_loss: 0.0878\n",
      "Epoch 49/50\n",
      "\u001B[1m1875/1875\u001B[0m \u001B[32m━━━━━━━━━━━━━━━━━━━━\u001B[0m\u001B[37m\u001B[0m \u001B[1m2s\u001B[0m 1ms/step - loss: 0.0886 - val_loss: 0.0875\n",
      "Epoch 50/50\n",
      "\u001B[1m1875/1875\u001B[0m \u001B[32m━━━━━━━━━━━━━━━━━━━━\u001B[0m\u001B[37m\u001B[0m \u001B[1m2s\u001B[0m 1ms/step - loss: 0.0887 - val_loss: 0.0879\n",
      "\u001B[1m1875/1875\u001B[0m \u001B[32m━━━━━━━━━━━━━━━━━━━━\u001B[0m\u001B[37m\u001B[0m \u001B[1m1s\u001B[0m 599us/step\n"
     ]
    }
   ],
   "execution_count": 108
  },
  {
   "metadata": {
    "ExecuteTime": {
     "end_time": "2024-05-10T15:50:57.761810Z",
     "start_time": "2024-05-10T15:50:57.021263Z"
    }
   },
   "cell_type": "code",
   "source": [
    "print(\"Autoencoder decoded train data variance: \", sum(sum(np.var(X_train_reconstructed, axis=0))))\n",
    "print(\"Original train data variance: \", sum(sum(np.var(X_train_normalized, axis=0))))\n",
    "print(\"Explained variance ratio: \", sum(sum(np.var(X_train_reconstructed, axis=0))) / sum(sum(np.var(X_train_normalized, axis=0))))\n",
    "\n",
    "# The below calculates the difference in variance retained by the autoencoder vs our earlier PCA.\n",
    "performance_improvement = sum(sum((np.var(X_train_reconstructed, axis=0)))) / (sum(sum(np.var(X_train_normalized, axis=0)))) - sum(np.var(X_train_reduced, axis=0)) / sum(sum(np.var(X_train_normalized, axis=0)))\n",
    "print(f\"Improvement over PCA method: {round(100*performance_improvement,2)}%\")"
   ],
   "id": "ea82cc43b0b14f9",
   "outputs": [
    {
     "name": "stdout",
     "output_type": "stream",
     "text": [
      "Autoencoder decoded train data variance:  45.65403655076807\n",
      "Original train data variance:  52.72464179439703\n",
      "Explained variance ratio:  0.8658956229384882\n",
      "Improvement over PCA method: 12.23%\n"
     ]
    }
   ],
   "execution_count": 109
  },
  {
   "metadata": {},
   "cell_type": "markdown",
   "source": "This method manages to capture ~87% of the variance, an 12.23% improvement in explained variance over our PCA model.",
   "id": "1f75b267bb9c05c6"
  },
  {
   "metadata": {},
   "cell_type": "markdown",
   "source": [
    "4. Using the model trained on X_train, transform X_test and discuss the original variance\n",
    "in X_test and how much variance is explained on X_test by the 32 dimensions of the\n",
    "autoencoder. Hint: Use “model.predict(X_test)” to get predictions. [20 pts]"
   ],
   "id": "40e32299124bd996"
  },
  {
   "metadata": {
    "ExecuteTime": {
     "end_time": "2024-05-10T15:51:45.206324Z",
     "start_time": "2024-05-10T15:51:44.737650Z"
    }
   },
   "cell_type": "code",
   "source": [
    "X_test_reconstructed = autoencoder.predict(X_test_normalized)\n",
    "\n",
    "print(\"Autoencoder decoded test data variance: \", sum(sum(np.var(X_test_reconstructed, axis=0))))\n",
    "print(\"Original test data variance: \", sum(sum(np.var(X_test_normalized, axis=0))))\n",
    "print(\"Explained variance ratio: \", sum(sum(np.var(X_test_reconstructed, axis=0))) / sum(sum(np.var(X_test_normalized, axis=0))))\n",
    "\n",
    "# The below calculates the difference in variance retained by the autoencoder vs our earlier PCA.\n",
    "performance_improvement = sum(sum(np.var(X_test_reconstructed, axis=0))) / (sum(sum(np.var(X_test_normalized, axis=0)))) - sum(np.var(X_test_reduced, axis=0)) / sum(sum(np.var(X_test_normalized, axis=0)))\n",
    "print(f\"Improvement over PCA method: {round(100*performance_improvement,2)}%\")"
   ],
   "id": "cc0b19dcbf91c3c8",
   "outputs": [
    {
     "name": "stdout",
     "output_type": "stream",
     "text": [
      "\u001B[1m313/313\u001B[0m \u001B[32m━━━━━━━━━━━━━━━━━━━━\u001B[0m\u001B[37m\u001B[0m \u001B[1m0s\u001B[0m 575us/step\n",
      "Autoencoder decoded test data variance:  46.07250482683594\n",
      "Original test data variance:  52.84803447469312\n",
      "Explained variance ratio:  0.871792211097241\n",
      "Improvement over PCA method: 12.14%\n"
     ]
    }
   ],
   "execution_count": 110
  },
  {
   "metadata": {},
   "cell_type": "markdown",
   "source": "As previously observed, X_test (uncompressed) has slightly more variance than X_train. This could be expected given basic statistics, since the test set is smaller than the train set and smaller samples have higher likelihood of sampling variability. That said, the difference is not very large. This is also true of the autoencoder decoded test data variance, if you compare it to the results for the training data from the previous step. The explained variance ratio of our decoded set to our original set is slightly higher for this test data than it was for our training data. This is an 12.14% improvement in explained variance over our PCA method for the testing data, about the same our 12.23% improvement over PCA on the training data.",
   "id": "6450bebc46dd7d2f"
  },
  {
   "metadata": {},
   "cell_type": "markdown",
   "source": [
    "5. Compare results from #3 and #4 and why it is important to test out of sample [10 pts]\n",
    "\n",
    "Hint: You can just modify code from here\n",
    "https://blog.keras.io/building-autoencoders-in-keras.html"
   ],
   "id": "dd5545088190364"
  },
  {
   "metadata": {},
   "cell_type": "markdown",
   "source": [
    "The explained variance ratios for both our decoded testing set and our decoded training set are very similar. This is good, as it implies that the encoding/decoding method generalizes well to unseen data; it performs well and is not overfit. A model that performs as well on testing data as it does on training data is likely to perform well on real-world data. It is important to test out of sample in order to assess all of the above, as we have here.\n",
    "\n",
    "At this point it could be beneficial to test performance on *further* data, like a validation set. "
   ],
   "id": "b99d97d9b74733aa"
  },
  {
   "metadata": {},
   "cell_type": "markdown",
   "source": [
    "# Part C: Explain Results\n",
    "Discuss which approach explained more variance of the mnist data and why this might be the\n",
    "case (not just based on number of parameters). Also, discuss how many parameters each\n",
    "model/transform uses and which uses more parameters. Lastly, discuss when you may want to\n",
    "use these approaches."
   ],
   "id": "cd01b89fd8d7e430"
  },
  {
   "metadata": {},
   "cell_type": "markdown",
   "source": [
    "The autoencoder method explained roughly 12% more variance than the PCA method. I re-ran fit and predict multiple times on both models and their explained variance ratios didn't seem to change by more than about 1%. On multiple re-runs of fit & predict, the autoencoder model consistently yielded results ranging from between about an 11.8% to 12.3% improvement over PCA. This may be due to the fact that PCA is linear, whereas Neural Networks are not. This means our autoencoder model could capture non-linear trends in the data (particularly with the Relu activation layers) that PCA cannot, contributing to the improved performance.\n",
    "\n",
    "The number of parameters in a PCA is: input dim x number of components + number of components = 784 * 32 + 32 = 25120.\n",
    "Total PCA parameters = 25120\n",
    "\n",
    "The number of parameters in our neural net autoencoder is:\n",
    "Dense layer 1 (encoding): (784 * 64) + 64 (weights) + 64 (biases) = 50304\n",
    "Dense layer 2 (encoding): (64 * 32) + 32 (weights) + 32 (biases) = 2112\n",
    "Dense layer 3 (decoding): (32 * 784) + 784 (weights) + 784 (biases) = 26656\n",
    "All other layers have no parameters.\n",
    "Total autoencoder parameters = 79072\n",
    "\n",
    "Our autoencoder has more than 3 times more parameters (and 2 times more even just in the encoding step). This also contributes to greater training time for the autoencoder.\n",
    "\n",
    "PCA is faster and less computationally intensive than training an autoencoder. PCA is faster, may be better at detecting linear relationships (in other words, probably better for data that is *not* image data), and is more interpretable than a neural network (which is a black box). It can be useful to start with PCA for quick and easy EDA or tasks that require speed over accuracy. It could also be useful as a baseline, to then compare with the performance of more complex models like autoencoders to assess whether the additional complexity and computational intensity is justified.\n",
    "\n",
    "Autoencoders are more powerful than PCA. They are better at detecting non-linear trends in the data (so probably better for image data). They can learn hierarchical representations in the data (meaning they are more powerful for capturing more information in the same size encoding), which makes them more powerful for tasks like generating new data or feature learning, which would make it a more useful method of processing prior to downstream tasks like classification or clustering."
   ],
   "id": "fe662a23066da980"
  }
 ],
 "metadata": {
  "kernelspec": {
   "display_name": "Python 3",
   "language": "python",
   "name": "python3"
  },
  "language_info": {
   "codemirror_mode": {
    "name": "ipython",
    "version": 2
   },
   "file_extension": ".py",
   "mimetype": "text/x-python",
   "name": "python",
   "nbconvert_exporter": "python",
   "pygments_lexer": "ipython2",
   "version": "2.7.6"
  }
 },
 "nbformat": 4,
 "nbformat_minor": 5
}
