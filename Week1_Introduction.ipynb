{
 "cells": [
  {
   "cell_type": "markdown",
   "metadata": {
    "id": "kRZkkQNZb_Tf",
    "pycharm": {
     "name": "#%% md\n"
    }
   },
   "source": [
    "# CSc 74020 Machine Learning Week 1"
   ]
  },
  {
   "cell_type": "markdown",
   "metadata": {
    "id": "5vodY_4JcW5B",
    "pycharm": {
     "name": "#%% md\n"
    }
   },
   "source": [
    "## 1. <font color='blue'>Introduction</font>"
   ]
  },
  {
   "cell_type": "markdown",
   "metadata": {
    "id": "VSVITTaJcq8P",
    "pycharm": {
     "name": "#%% md\n"
    }
   },
   "source": [
    "### <font color='blue'>Example Types of Machine Learning</font>\n",
    "Most machine learning tasks fall into one of the following categories:\n",
    "- **Supervised learning**: a specific output is expected\n",
    "    - Regression: output is numerical\n",
    "    - Classification: output is categorical\n",
    "- **Unsupervised learning**: no specific output is expected\n",
    "    - Clustering: split data into groups by similarity\n",
    "    - Pattern mining: discover patterns in datasets\n",
    "- **Reinforcement learning**: take actions to maximize cumulative reward\n",
    "\n",
    "The techniques to solve these tasks are often closely related. Note terminology such as semi-supervised and self-supervised have became popular in recent years."
   ]
  },
  {
   "cell_type": "markdown",
   "metadata": {
    "id": "JsRhFAYYUVzc",
    "pycharm": {
     "name": "#%% md\n"
    }
   },
   "source": [
    "## 2. <font color='blue'> Partitioning Methods </font>\n",
    "Discussed in class"
   ]
  },
  {
   "cell_type": "markdown",
   "metadata": {
    "id": "HxZKgsUfnUa-",
    "pycharm": {
     "name": "#%% md\n"
    }
   },
   "source": [
    "## 3. <font color='blue'> Example Distance Measures </font>"
   ]
  },
  {
   "cell_type": "markdown",
   "metadata": {
    "id": "xHjEPoMkUVzc",
    "pycharm": {
     "name": "#%% md\n"
    }
   },
   "source": [
    "In your first assignment you will implement the following distances we went over in class\n",
    "- Euclidean\n",
    "- Manhattan\n",
    "- Minkowski\n",
    "\n",
    "Below are implementations of Jaccard and Cosine Distances (1-Similarity)"
   ]
  },
  {
   "cell_type": "code",
   "execution_count": 18,
   "metadata": {
    "id": "U01edJtlluBL",
    "pycharm": {
     "name": "#%%\n"
    }
   },
   "outputs": [],
   "source": [
    "import numpy as np\n",
    "import pandas as pd\n",
    "import matplotlib.pyplot as plt\n",
    "%matplotlib inline"
   ]
  },
  {
   "cell_type": "markdown",
   "metadata": {
    "id": "a5UcDdCIh5QG",
    "pycharm": {
     "name": "#%% md\n"
    }
   },
   "source": [
    "### <font color='blue'>Jaccard Distance</font>\n",
    "$$J(A,B) = 1 - \\frac{|A\\bigcap B|}{|A\\bigcup B|} $$"
   ]
  },
  {
   "cell_type": "code",
   "execution_count": 22,
   "metadata": {
    "id": "7Zf289gdbPc2",
    "pycharm": {
     "name": "#%%\n"
    }
   },
   "outputs": [],
   "source": [
    "def jaccard_dist(A,B):\n",
    "    \"\"\"\n",
    "    Arguments:\n",
    "    A, B : list, set,  or array of elements to calculate distance on\n",
    "    Returns: Jaccard distance between A and B (viewed as sets)\n",
    "    \"\"\"\n",
    "    set_A=set(A)\n",
    "    set_B=set(B)\n",
    "    return 1.-len(set_A.intersection(set_B))/len(set_A.union(set_B))"
   ]
  },
  {
   "cell_type": "code",
   "execution_count": 23,
   "metadata": {
    "id": "7d1xUd-ZdA-0",
    "pycharm": {
     "name": "#%%\n"
    }
   },
   "outputs": [
    {
     "name": "stdout",
     "output_type": "stream",
     "text": [
      "I ran to class and I made it just in time.\n",
      "You walked to class and you were late.\n"
     ]
    },
    {
     "data": {
      "text/plain": "0.8"
     },
     "execution_count": 23,
     "metadata": {},
     "output_type": "execute_result"
    }
   ],
   "source": [
    "A = \"I ran to class and I made it just in time.\"\n",
    "B = \"You walked to class and you were late.\"\n",
    "print(A)\n",
    "print(B)\n",
    "jaccard_dist(A.split(),B.split())"
   ]
  },
  {
   "cell_type": "markdown",
   "metadata": {
    "id": "-cOXX3IjUVzf",
    "pycharm": {
     "name": "#%% md\n"
    }
   },
   "source": [
    "### <font color='blue'>Cosine Distance</font>\n",
    "$$J(A,B) = 1 - \\frac{|x \\cdot y|}{||x||\\cdot||y||} $$"
   ]
  },
  {
   "cell_type": "code",
   "execution_count": 25,
   "metadata": {
    "id": "3ABWOMhoUVzf",
    "pycharm": {
     "name": "#%%\n"
    }
   },
   "outputs": [
    {
     "data": {
      "text/plain": "['and',\n 'class',\n 'in',\n 'it',\n 'just',\n 'late',\n 'made',\n 'ran',\n 'time',\n 'to',\n 'walked',\n 'were',\n 'you']"
     },
     "execution_count": 25,
     "metadata": {},
     "output_type": "execute_result"
    }
   ],
   "source": [
    "from sklearn.feature_extraction.text import CountVectorizer\n",
    "vectorizer = CountVectorizer()\n",
    "X = vectorizer.fit_transform([A,B])\n",
    "vectorizer.get_feature_names()"
   ]
  },
  {
   "cell_type": "markdown",
   "metadata": {
    "id": "kW_H_pTUUVzg",
    "pycharm": {
     "name": "#%% md\n"
    }
   },
   "source": [
    "Why is \"i\" not in the the token list? BE CAREFUL USING DEFAULT PARAMETERS - ALWAYS CHECK!"
   ]
  },
  {
   "cell_type": "code",
   "execution_count": 13,
   "metadata": {
    "id": "AASDTid5UVzg",
    "pycharm": {
     "name": "#%%\n"
    }
   },
   "outputs": [
    {
     "data": {
      "text/plain": "['and',\n 'class',\n 'i',\n 'in',\n 'it',\n 'just',\n 'late',\n 'made',\n 'ran',\n 'time',\n 'to',\n 'walked',\n 'were',\n 'you']"
     },
     "execution_count": 13,
     "metadata": {},
     "output_type": "execute_result"
    }
   ],
   "source": [
    "vectorizer = CountVectorizer(token_pattern=r'\\b\\w+\\b')\n",
    "X = vectorizer.fit_transform([A,B])\n",
    "vectorizer.get_feature_names()"
   ]
  },
  {
   "cell_type": "code",
   "execution_count": 14,
   "metadata": {
    "id": "qtxTK7WEUVzg",
    "pycharm": {
     "name": "#%%\n"
    }
   },
   "outputs": [
    {
     "data": {
      "text/plain": "array([[1, 1, 2, 1, 1, 1, 0, 1, 1, 1, 1, 0, 0, 0],\n       [1, 1, 0, 0, 0, 0, 1, 0, 0, 0, 1, 1, 1, 2]], dtype=int64)"
     },
     "execution_count": 14,
     "metadata": {},
     "output_type": "execute_result"
    }
   ],
   "source": [
    "X=X.toarray()\n",
    "X"
   ]
  },
  {
   "cell_type": "code",
   "execution_count": 15,
   "metadata": {
    "id": "Tnxb1sm3UVzg",
    "pycharm": {
     "name": "#%%\n"
    }
   },
   "outputs": [],
   "source": [
    "def cosine_dist(x,y):\n",
    "    \"\"\"\n",
    "    Arguments:\n",
    "    x, y : array of numeric values to calculate distance on\n",
    "    Returns: Cosine distance between x and y\n",
    "    \"\"\"\n",
    "    return 1. - np.dot(x,y) / np.sqrt(np.dot(x,x)*np.dot(y,y))"
   ]
  },
  {
   "cell_type": "code",
   "execution_count": 16,
   "metadata": {
    "id": "C7_lY4lIUVzh",
    "pycharm": {
     "name": "#%%\n"
    }
   },
   "outputs": [
    {
     "data": {
      "text/plain": "0.7368825942078912"
     },
     "execution_count": 16,
     "metadata": {},
     "output_type": "execute_result"
    }
   ],
   "source": [
    "cosine_dist(X[0],X[1])"
   ]
  }
 ],
 "metadata": {
  "colab": {
   "provenance": []
  },
  "kernelspec": {
   "name": "python3",
   "language": "python",
   "display_name": "Python 3 (ipykernel)"
  },
  "language_info": {
   "codemirror_mode": {
    "name": "ipython",
    "version": 3
   },
   "file_extension": ".py",
   "mimetype": "text/x-python",
   "name": "python",
   "nbconvert_exporter": "python",
   "pygments_lexer": "ipython3",
   "version": "3.8.10"
  }
 },
 "nbformat": 4,
 "nbformat_minor": 0
}